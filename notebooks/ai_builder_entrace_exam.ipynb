{
 "cells": [
  {
   "cell_type": "markdown",
   "metadata": {},
   "source": [
    "# Entrace Example for AI Builders"
   ]
  },
  {
   "cell_type": "markdown",
   "metadata": {},
   "source": [
    "จุดมุ่งหมายคือการทดสอบความรู้ปรับพื้นฐานสำหรับ AI Builders ทุกคำตอบสามารถหาได้จาก notebook ปรับพื้นฐาน `ai_builder_intro_python.ipynb`, `ai_builder_numpy.ipynb` และ `ai_builder_pandas.ipynb` \n",
    "\n",
    "เราหวังให้คุณพยามสุดความสามารถที่จะตอบ แต่ไม่จำเป็นต้องตอบได้ครบทุกข้อเพื่อที่จะได้รับการคัดเลือกเข้าโครงการ"
   ]
  },
  {
   "cell_type": "markdown",
   "metadata": {},
   "source": [
    "## Python"
   ]
  },
  {
   "cell_type": "markdown",
   "metadata": {},
   "source": [
    "1. สร้างตัวแปร `a=1` และ `b=2.5`"
   ]
  },
  {
   "cell_type": "code",
   "execution_count": null,
   "metadata": {},
   "outputs": [],
   "source": []
  },
  {
   "cell_type": "markdown",
   "metadata": {},
   "source": [
    "2. จากตัวแปร `a` และ `b` ในข้อที่แล้ว, `c` = $0.5(a+2b^5)$, `c` มีค่าเท่าไหร่?"
   ]
  },
  {
   "cell_type": "code",
   "execution_count": null,
   "metadata": {},
   "outputs": [],
   "source": []
  },
  {
   "cell_type": "markdown",
   "metadata": {},
   "source": [
    "3. `a`, `b`, และ `c` เป็นตัวแปรชนิดอะไรบ้าง?"
   ]
  },
  {
   "cell_type": "code",
   "execution_count": null,
   "metadata": {},
   "outputs": [],
   "source": []
  },
  {
   "cell_type": "markdown",
   "metadata": {},
   "source": [
    "4. สร้าง `d`, `e`, `f` โดยให้แต่ละอันเป็นตัวแปรแบบ string ของ `a`, `b`, `c`"
   ]
  },
  {
   "cell_type": "code",
   "execution_count": null,
   "metadata": {},
   "outputs": [],
   "source": []
  },
  {
   "cell_type": "markdown",
   "metadata": {},
   "source": [
    "5. `a`+`b`+`c` ต่างจาก `d`+`e`+`f` อย่างไร?"
   ]
  },
  {
   "cell_type": "code",
   "execution_count": null,
   "metadata": {},
   "outputs": [],
   "source": []
  },
  {
   "cell_type": "markdown",
   "metadata": {},
   "source": [
    "6. เราสามารถทำ `a`+`d` ได้หรือไม่-เพราะอะไร?"
   ]
  },
  {
   "cell_type": "code",
   "execution_count": null,
   "metadata": {},
   "outputs": [],
   "source": []
  },
  {
   "cell_type": "markdown",
   "metadata": {},
   "source": [
    "7. `len(f)` คืนค่าอะไร?"
   ]
  },
  {
   "cell_type": "code",
   "execution_count": null,
   "metadata": {},
   "outputs": [],
   "source": []
  },
  {
   "cell_type": "markdown",
   "metadata": {},
   "source": [
    "8. จากตัวแปร `s = 'AI Builders - A Program For Kids Who Wants to AI Good Good'`, เราจะดึงคำว่า `Program` ออกมาได้อย่างไร?"
   ]
  },
  {
   "cell_type": "code",
   "execution_count": null,
   "metadata": {},
   "outputs": [],
   "source": []
  },
  {
   "cell_type": "markdown",
   "metadata": {},
   "source": [
    "9. เปลี่ยน `s` เป็น list `l` ที่แต่ละ element คือคำแต่ละคำที่ถูกตัดด้วยช่องว่าง \n",
    "\n",
    "`l = ['AI','Builders','-','A','Program','For','Kids','Who','Wants','to','AI','Good','Good']`"
   ]
  },
  {
   "cell_type": "code",
   "execution_count": null,
   "metadata": {},
   "outputs": [],
   "source": []
  },
  {
   "cell_type": "markdown",
   "metadata": {},
   "source": [
    "10. ใช้ loop `print` ทุก element ใน `l` ยกเว้น element ที่เขียนว่า `AI`"
   ]
  },
  {
   "cell_type": "code",
   "execution_count": null,
   "metadata": {},
   "outputs": [],
   "source": []
  },
  {
   "cell_type": "markdown",
   "metadata": {},
   "source": [
    "11. เลือก element ที่ 3 **จากท้าย**ถึง element สุดท้ายของ `l`"
   ]
  },
  {
   "cell_type": "code",
   "execution_count": null,
   "metadata": {},
   "outputs": [],
   "source": []
  },
  {
   "cell_type": "markdown",
   "metadata": {},
   "source": [
    "12. เรียง `l` จากหลังไปหน้า"
   ]
  },
  {
   "cell_type": "code",
   "execution_count": null,
   "metadata": {},
   "outputs": [],
   "source": []
  },
  {
   "cell_type": "markdown",
   "metadata": {},
   "source": [
    "13. เขียนฟังชั่น `circle_area` ที่จะหาพื้นที่ของวงกลมจากรัศมี `r`"
   ]
  },
  {
   "cell_type": "code",
   "execution_count": null,
   "metadata": {},
   "outputs": [],
   "source": []
  },
  {
   "cell_type": "markdown",
   "metadata": {},
   "source": [
    "14. `print` ตัวเลขที่หาด้วย 7 ลงตัวทุกตัวระหว่าง 7 ถึง 56"
   ]
  },
  {
   "cell_type": "code",
   "execution_count": null,
   "metadata": {},
   "outputs": [],
   "source": []
  },
  {
   "cell_type": "markdown",
   "metadata": {},
   "source": [
    "15. เขียนฟังชั่น `fizzbuzz` ที่รับตัวเลข `x`\n",
    "\n",
    "\n",
    "- ถ้า `x` หารด้วย 2 ลงให้คืน string ว่า `fizz`\n",
    "- ถ้า `x` หารด้วย 3 ลงให้คืน string ว่า `buzz`\n",
    "- ถ้า `x` หารด้วยทั้ง 2 และ 3 ลงให้คืน string ว่า `fizzbuzz`\n",
    "- นอกนั้นให้คืน `None`"
   ]
  },
  {
   "cell_type": "code",
   "execution_count": null,
   "metadata": {},
   "outputs": [],
   "source": []
  },
  {
   "cell_type": "markdown",
   "metadata": {},
   "source": [
    "## Numpy and Linear Algebra"
   ]
  },
  {
   "cell_type": "code",
   "execution_count": 103,
   "metadata": {},
   "outputs": [],
   "source": [
    "import numpy as np"
   ]
  },
  {
   "cell_type": "markdown",
   "metadata": {},
   "source": [
    "1. สร้าง numpy array `a` ที่มีมิติ `3*3` โดยมีค่าเป็นตัวเลขจาก 1 ถึง 9"
   ]
  },
  {
   "cell_type": "code",
   "execution_count": null,
   "metadata": {},
   "outputs": [],
   "source": []
  },
  {
   "cell_type": "markdown",
   "metadata": {},
   "source": [
    "2. สร้าง numpy array `b` ที่มีมิติ `4*3` โดยมีค่าเป็นตัวเลขจาก 1 ถึง 12"
   ]
  },
  {
   "cell_type": "code",
   "execution_count": null,
   "metadata": {},
   "outputs": [],
   "source": []
  },
  {
   "cell_type": "markdown",
   "metadata": {},
   "source": [
    "3. เราสามารถหาค่า `a` dot product `b` ได้หรือไม่-เพราะอะไร"
   ]
  },
  {
   "cell_type": "code",
   "execution_count": null,
   "metadata": {},
   "outputs": [],
   "source": []
  },
  {
   "cell_type": "markdown",
   "metadata": {},
   "source": [
    "4. หาค่า `a` dot product (`b` transposed)"
   ]
  },
  {
   "cell_type": "code",
   "execution_count": null,
   "metadata": {},
   "outputs": [],
   "source": []
  },
  {
   "cell_type": "markdown",
   "metadata": {},
   "source": [
    "5. มิติ (แถวและคอลัมน์) ของ `a` และ `b` คืออะไร"
   ]
  },
  {
   "cell_type": "code",
   "execution_count": null,
   "metadata": {},
   "outputs": [],
   "source": []
  },
  {
   "cell_type": "markdown",
   "metadata": {},
   "source": [
    "6. คูณทุก element ของ `a` ด้วย -1"
   ]
  },
  {
   "cell_type": "code",
   "execution_count": null,
   "metadata": {},
   "outputs": [],
   "source": []
  },
  {
   "cell_type": "markdown",
   "metadata": {},
   "source": [
    "7. เปลี่ยนมิติของ `b` ให้เป็น `2*2*3`"
   ]
  },
  {
   "cell_type": "code",
   "execution_count": null,
   "metadata": {},
   "outputs": [],
   "source": []
  },
  {
   "cell_type": "markdown",
   "metadata": {},
   "source": [
    "8. ค่าเฉลี่ยของแต่ละแถวของ `a` (`3*3`) คืออะไร"
   ]
  },
  {
   "cell_type": "code",
   "execution_count": null,
   "metadata": {},
   "outputs": [],
   "source": []
  },
  {
   "cell_type": "markdown",
   "metadata": {},
   "source": [
    "9. ค่าเฉลี่ยของแต่ละคอลัมน์ของ `a` (`3*3`) คืออะไร"
   ]
  },
  {
   "cell_type": "code",
   "execution_count": null,
   "metadata": {},
   "outputs": [],
   "source": []
  },
  {
   "cell_type": "markdown",
   "metadata": {},
   "source": [
    "10. ถ้าเราต้องการหา `[[1,2],[4,5]]` จาก `a` เราต้องเลือกอย่างไร"
   ]
  },
  {
   "cell_type": "code",
   "execution_count": null,
   "metadata": {},
   "outputs": [],
   "source": []
  },
  {
   "cell_type": "markdown",
   "metadata": {},
   "source": [
    "## Pandas and Data Exploration"
   ]
  },
  {
   "cell_type": "markdown",
   "metadata": {},
   "source": [
    "ดาวน์โหลดชุดข้อมูล [อุบัติเหตุบนโครงข่ายถนนของกระทรวงคมนาคม 2562](https://data.go.th/dataset/roadaccident) (ไฟล์ชื่อ `ubatiehtuthaangthnn.xlsx`) จาก [data.go.th](https://data.go.th/). ตอบคำถามต่อไปนี้"
   ]
  },
  {
   "cell_type": "code",
   "execution_count": 1,
   "metadata": {},
   "outputs": [],
   "source": [
    "import pandas as pd"
   ]
  },
  {
   "cell_type": "markdown",
   "metadata": {},
   "source": [
    "1. อ่านไฟล์ `ubatiehtuthaangthnn.xlsx` เข้ามาเป็น `pandas.DataFrame`"
   ]
  },
  {
   "cell_type": "code",
   "execution_count": null,
   "metadata": {},
   "outputs": [],
   "source": []
  },
  {
   "cell_type": "markdown",
   "metadata": {},
   "source": [
    "2. `df` มีกี่แถว-คอลัมน์?"
   ]
  },
  {
   "cell_type": "code",
   "execution_count": null,
   "metadata": {},
   "outputs": [],
   "source": []
  },
  {
   "cell_type": "markdown",
   "metadata": {},
   "source": [
    "3. เรียกดู 20 แถวแรกและ 20 แถวสุดท้ายของ `df`"
   ]
  },
  {
   "cell_type": "code",
   "execution_count": null,
   "metadata": {},
   "outputs": [],
   "source": []
  },
  {
   "cell_type": "markdown",
   "metadata": {},
   "source": [
    "4. จังหวัดใดมีอุบัติเหตุเยอะที่สุดถ้าอ้างอิงจาก `df`?"
   ]
  },
  {
   "cell_type": "code",
   "execution_count": null,
   "metadata": {},
   "outputs": [],
   "source": []
  },
  {
   "cell_type": "markdown",
   "metadata": {},
   "source": [
    "5. เลือกเฉพาะแถวที่เป็นอุบัติเหตุที่มีผู้เสียชีวิต 0 ราย / มีอุบัติเหตุที่ไม่มีผู้เสียชีวิตกี่ครั้ง?"
   ]
  },
  {
   "cell_type": "code",
   "execution_count": null,
   "metadata": {},
   "outputs": [],
   "source": []
  },
  {
   "cell_type": "markdown",
   "metadata": {},
   "source": [
    "6. ค่าเฉลี่ยของ latitude, logitude ของอุบัติเหตุที่เกิดขึ้นในจังหวัดเชียงใหม่อยู่ที่เท่าใด?"
   ]
  },
  {
   "cell_type": "code",
   "execution_count": null,
   "metadata": {},
   "outputs": [],
   "source": []
  },
  {
   "cell_type": "markdown",
   "metadata": {},
   "source": [
    "7. มีผู้เสียชีวิตด้วย `มูลเหตุสันนิษฐาน` แต่ละประเภทกี่ราย?"
   ]
  },
  {
   "cell_type": "code",
   "execution_count": null,
   "metadata": {},
   "outputs": [],
   "source": []
  },
  {
   "cell_type": "markdown",
   "metadata": {},
   "source": [
    "8. เรียง `df` ด้วย `จำนวนผู้เสียชวิต`, `รวมจำนวนผู้บาดเจ็บ` จากมากไปน้อย"
   ]
  },
  {
   "cell_type": "code",
   "execution_count": null,
   "metadata": {},
   "outputs": [],
   "source": []
  },
  {
   "cell_type": "markdown",
   "metadata": {},
   "source": [
    "9. `รถคันที่ 1` มีทั้งหมดกี่ประเภท?"
   ]
  },
  {
   "cell_type": "code",
   "execution_count": null,
   "metadata": {},
   "outputs": [],
   "source": []
  },
  {
   "cell_type": "markdown",
   "metadata": {},
   "source": [
    "10. `ลักษณะการเกิดอุบัติเหตุ ` แบบใดมี `จำนวนผู้เสียชวิต` โดยเฉลี่ยสูงที่สุด?"
   ]
  },
  {
   "cell_type": "code",
   "execution_count": null,
   "metadata": {},
   "outputs": [],
   "source": []
  },
  {
   "cell_type": "markdown",
   "metadata": {},
   "source": [
    "11. จังหวัดใดมีสัดส่วนอุบัติเหตุที่เกิดจาก `มูลเหตุสันนิษฐาน` เป็น `ขับรถเร็วเกินกำหนด` ต่ำที่สุด?"
   ]
  },
  {
   "cell_type": "code",
   "execution_count": null,
   "metadata": {},
   "outputs": [],
   "source": []
  },
  {
   "cell_type": "markdown",
   "metadata": {},
   "source": [
    "12. อุบัติเหตุที่เกิดจาก `มูลเหตุสันนิษฐาน` เป็น `ขับรถเร็วเกินกำหนด` มีโอกาสทำให้มีผู้เสียชีวิตมากกว่า `มูลเหตุสันนิษฐาน` อื่นหรือไม่?"
   ]
  },
  {
   "cell_type": "code",
   "execution_count": null,
   "metadata": {},
   "outputs": [],
   "source": []
  },
  {
   "cell_type": "markdown",
   "metadata": {},
   "source": [
    "13. บันทึก `df` เป็นไฟล์ `small_accident.csv` โดยเอาแค่คอลัมน์ `จังหวัด`, `มูลเหตุสันนิษฐาน`, `ลักษณะการเกิดอุบัติเหตุ`, `จำนวนผู้เสียชีวิต` และ `รวมจำนวนผู้บาดเจ็บ`"
   ]
  },
  {
   "cell_type": "code",
   "execution_count": null,
   "metadata": {},
   "outputs": [],
   "source": []
  },
  {
   "cell_type": "markdown",
   "metadata": {},
   "source": [
    "14. รถตู้ (`รถคันที่ 1`) เกิดอุบัติเหตุบ่อยที่สุดใน `สภาพอากาศ` แบบไหน?"
   ]
  },
  {
   "cell_type": "code",
   "execution_count": null,
   "metadata": {},
   "outputs": [],
   "source": []
  },
  {
   "cell_type": "markdown",
   "metadata": {},
   "source": [
    "15. อุบัติเหตุเกิดขึ้น `เวลา` ใดบ่อยที่สุด? นับเฉพาะชั่วโมง"
   ]
  },
  {
   "cell_type": "code",
   "execution_count": null,
   "metadata": {},
   "outputs": [],
   "source": []
  },
  {
   "cell_type": "markdown",
   "metadata": {},
   "source": [
    "16. `เวลา` ใดมีสัดส่วนอุบัติเหตุที่มีผู้เสียชีวิตเยอะที่สุด? นับเฉพาะชั่วโมง"
   ]
  },
  {
   "cell_type": "code",
   "execution_count": null,
   "metadata": {},
   "outputs": [],
   "source": []
  },
  {
   "cell_type": "markdown",
   "metadata": {},
   "source": [
    "17. `df` มีคอลัมน์อะไรบ้าง?"
   ]
  },
  {
   "cell_type": "code",
   "execution_count": null,
   "metadata": {},
   "outputs": [],
   "source": []
  },
  {
   "cell_type": "markdown",
   "metadata": {},
   "source": [
    "18. `จำนวนรถที่เกิดเหตุ\\n(รวมคันที่ 1)` สัมพันธ์กับ `รวมจำนวนผู้บาดเจ็บ` หรือไม่? หา correlation ของคอลัมน์ `x` และ `y` ได้ด้วยฟังชั่น `pd.DataFrame.corr(df[['x','y']])` หรือ `df[['x','y']].corr()`"
   ]
  },
  {
   "cell_type": "code",
   "execution_count": null,
   "metadata": {},
   "outputs": [],
   "source": []
  },
  {
   "cell_type": "markdown",
   "metadata": {},
   "source": [
    "19. `รถคันที่ 1` ประเภทใดมีสัดส่วนอุบัติเหตุที่มีผู้บาดเจ็บสูงที่สุด?"
   ]
  },
  {
   "cell_type": "code",
   "execution_count": null,
   "metadata": {},
   "outputs": [],
   "source": []
  },
  {
   "cell_type": "markdown",
   "metadata": {},
   "source": [
    "20. `บริเวณที่เกิดเหตุ/ลักษณะทาง` ประเภทใดมีสัดส่วนอุบัติเหตุที่มีผู้เสียชีวิตสูงที่สุด?"
   ]
  },
  {
   "cell_type": "code",
   "execution_count": null,
   "metadata": {},
   "outputs": [],
   "source": []
  }
 ],
 "metadata": {
  "kernelspec": {
   "display_name": "Python 3",
   "language": "python",
   "name": "python3"
  },
  "language_info": {
   "codemirror_mode": {
    "name": "ipython",
    "version": 3
   },
   "file_extension": ".py",
   "mimetype": "text/x-python",
   "name": "python",
   "nbconvert_exporter": "python",
   "pygments_lexer": "ipython3",
   "version": "3.6.9"
  }
 },
 "nbformat": 4,
 "nbformat_minor": 2
}
