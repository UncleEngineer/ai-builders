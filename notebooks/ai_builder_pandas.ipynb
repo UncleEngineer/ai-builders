{
 "cells": [
  {
   "cell_type": "markdown",
   "metadata": {
    "id": "4Y1vJWx4Ntyv"
   },
   "source": [
    "# Introduction to Pandas\n",
    "\n",
    "Pandas เป็น Python package ยอดนิยมสำหรับการทำ data science โดยข้อดีหลักๆของมันคือมันสามารถทำ data manipulation และ data analysis ได้ง่าย"
   ]
  },
  {
   "cell_type": "markdown",
   "metadata": {},
   "source": [
    "[![](https://colab.research.google.com/assets/colab-badge.svg)](https://colab.research.google.com/drive/1FpWjpPEvJgCfo3XmkY-NPfRSNcmjDHrn?usp=sharing)"
   ]
  },
  {
   "cell_type": "code",
   "execution_count": 1,
   "metadata": {
    "id": "pi3RJlBrOhrf"
   },
   "outputs": [],
   "source": [
    "import pandas as pd\n",
    "\n",
    "import warnings\n",
    "warnings.filterwarnings('ignore')"
   ]
  },
  {
   "cell_type": "markdown",
   "metadata": {
    "id": "N8GX0G-rRXOi"
   },
   "source": [
    "## Pandas vs. Excel\n",
    "\n",
    "ใน Excel เมื่อคุณมีข้อมูลที่มากกว่า 10,000 แถว โปรแกรมมันจะเริ่มช้าลง และ Excel จะจำกัดจำนวนแถวของข้อมูลใน 1 spreadsheet โดยมากที่สุดคือ 1,048,576 แถว เนื่องจากข้อจำกัดของหน่วยความจำ\n",
    "\n",
    "[ข้อกำหนดและขีดจำกัดของ Excel](https://support.microsoft.com/th-th/office/%e0%b8%82%e0%b9%89%e0%b8%ad%e0%b8%81%e0%b8%b3%e0%b8%ab%e0%b8%99%e0%b8%94%e0%b9%81%e0%b8%a5%e0%b8%b0%e0%b8%82%e0%b8%b5%e0%b8%94%e0%b8%88%e0%b8%b3%e0%b8%81%e0%b8%b1%e0%b8%94%e0%b8%82%e0%b8%ad%e0%b8%87-excel-1672b34d-7043-467e-8e27-269d656771c3?redirectSourcePath=%252fen-us%252farticle%252fExcel-specifications-and-limits-ca36e2dc-1f09-4620-b726-67c00b05040f&ui=th-TH&rs=th-TH&ad=TH)"
   ]
  },
  {
   "cell_type": "code",
   "execution_count": 2,
   "metadata": {
    "colab": {
     "base_uri": "https://localhost:8080/"
    },
    "id": "DZEps6USVPkO",
    "outputId": "cb2517d1-b42e-4053-bf76-eca8f0911f8a"
   },
   "outputs": [
    {
     "name": "stdout",
     "output_type": "stream",
     "text": [
      "--2021-04-02 04:50:06--  https://github.com/opalchonlapat/sample-data/raw/master/sample_big_dataset.zip\n",
      "Resolving github.com (github.com)... 192.30.255.113\n",
      "Connecting to github.com (github.com)|192.30.255.113|:443... connected.\n",
      "HTTP request sent, awaiting response... 302 Found\n",
      "Location: https://raw.githubusercontent.com/opalchonlapat/sample-data/master/sample_big_dataset.zip [following]\n",
      "--2021-04-02 04:50:06--  https://raw.githubusercontent.com/opalchonlapat/sample-data/master/sample_big_dataset.zip\n",
      "Resolving raw.githubusercontent.com (raw.githubusercontent.com)... 185.199.111.133, 185.199.109.133, 185.199.108.133, ...\n",
      "Connecting to raw.githubusercontent.com (raw.githubusercontent.com)|185.199.111.133|:443... connected.\n",
      "HTTP request sent, awaiting response... 200 OK\n",
      "Length: 73705994 (70M) [application/zip]\n",
      "Saving to: ‘sample_big_dataset.zip’\n",
      "\n",
      "sample_big_dataset. 100%[===================>]  70.29M   101MB/s    in 0.7s    \n",
      "\n",
      "2021-04-02 04:50:09 (101 MB/s) - ‘sample_big_dataset.zip’ saved [73705994/73705994]\n",
      "\n",
      "Archive:  sample_big_dataset.zip\n",
      "  inflating: sample_big_dataset.csv  \n"
     ]
    }
   ],
   "source": [
    "!wget https://github.com/opalchonlapat/sample-data/raw/master/sample_big_dataset.zip\n",
    "!unzip sample_big_dataset.zip"
   ]
  },
  {
   "cell_type": "code",
   "execution_count": 3,
   "metadata": {
    "colab": {
     "base_uri": "https://localhost:8080/"
    },
    "id": "-gTBzV3ARWtc",
    "outputId": "51681831-dbbd-4067-9554-b2a6954fd8f3"
   },
   "outputs": [
    {
     "name": "stdout",
     "output_type": "stream",
     "text": [
      "CPU times: user 23.1 s, sys: 3.52 s, total: 26.6 s\n",
      "Wall time: 26.7 s\n"
     ]
    }
   ],
   "source": [
    "%%time\n",
    "sample_df = pd.read_csv('sample_big_dataset.csv')"
   ]
  },
  {
   "cell_type": "code",
   "execution_count": 4,
   "metadata": {
    "colab": {
     "base_uri": "https://localhost:8080/",
     "height": 270
    },
    "id": "0KtCRG4fTirf",
    "outputId": "da5a6dcf-e076-451b-f64b-3d55a8f0caa1"
   },
   "outputs": [
    {
     "name": "stdout",
     "output_type": "stream",
     "text": [
      "Number of rows and columns of dataset: (2000000, 100)\n"
     ]
    },
    {
     "data": {
      "text/html": [
       "<div>\n",
       "<style scoped>\n",
       "    .dataframe tbody tr th:only-of-type {\n",
       "        vertical-align: middle;\n",
       "    }\n",
       "\n",
       "    .dataframe tbody tr th {\n",
       "        vertical-align: top;\n",
       "    }\n",
       "\n",
       "    .dataframe thead th {\n",
       "        text-align: right;\n",
       "    }\n",
       "</style>\n",
       "<table border=\"1\" class=\"dataframe\">\n",
       "  <thead>\n",
       "    <tr style=\"text-align: right;\">\n",
       "      <th></th>\n",
       "      <th>0</th>\n",
       "      <th>1</th>\n",
       "      <th>2</th>\n",
       "      <th>3</th>\n",
       "      <th>4</th>\n",
       "      <th>5</th>\n",
       "      <th>6</th>\n",
       "      <th>7</th>\n",
       "      <th>8</th>\n",
       "      <th>9</th>\n",
       "      <th>10</th>\n",
       "      <th>11</th>\n",
       "      <th>12</th>\n",
       "      <th>13</th>\n",
       "      <th>14</th>\n",
       "      <th>15</th>\n",
       "      <th>16</th>\n",
       "      <th>17</th>\n",
       "      <th>18</th>\n",
       "      <th>19</th>\n",
       "      <th>20</th>\n",
       "      <th>21</th>\n",
       "      <th>22</th>\n",
       "      <th>23</th>\n",
       "      <th>24</th>\n",
       "      <th>25</th>\n",
       "      <th>26</th>\n",
       "      <th>27</th>\n",
       "      <th>28</th>\n",
       "      <th>29</th>\n",
       "      <th>30</th>\n",
       "      <th>31</th>\n",
       "      <th>32</th>\n",
       "      <th>33</th>\n",
       "      <th>34</th>\n",
       "      <th>35</th>\n",
       "      <th>36</th>\n",
       "      <th>37</th>\n",
       "      <th>38</th>\n",
       "      <th>39</th>\n",
       "      <th>...</th>\n",
       "      <th>60</th>\n",
       "      <th>61</th>\n",
       "      <th>62</th>\n",
       "      <th>63</th>\n",
       "      <th>64</th>\n",
       "      <th>65</th>\n",
       "      <th>66</th>\n",
       "      <th>67</th>\n",
       "      <th>68</th>\n",
       "      <th>69</th>\n",
       "      <th>70</th>\n",
       "      <th>71</th>\n",
       "      <th>72</th>\n",
       "      <th>73</th>\n",
       "      <th>74</th>\n",
       "      <th>75</th>\n",
       "      <th>76</th>\n",
       "      <th>77</th>\n",
       "      <th>78</th>\n",
       "      <th>79</th>\n",
       "      <th>80</th>\n",
       "      <th>81</th>\n",
       "      <th>82</th>\n",
       "      <th>83</th>\n",
       "      <th>84</th>\n",
       "      <th>85</th>\n",
       "      <th>86</th>\n",
       "      <th>87</th>\n",
       "      <th>88</th>\n",
       "      <th>89</th>\n",
       "      <th>90</th>\n",
       "      <th>91</th>\n",
       "      <th>92</th>\n",
       "      <th>93</th>\n",
       "      <th>94</th>\n",
       "      <th>95</th>\n",
       "      <th>96</th>\n",
       "      <th>97</th>\n",
       "      <th>98</th>\n",
       "      <th>99</th>\n",
       "    </tr>\n",
       "  </thead>\n",
       "  <tbody>\n",
       "    <tr>\n",
       "      <th>0</th>\n",
       "      <td>baz</td>\n",
       "      <td>baz</td>\n",
       "      <td>bar</td>\n",
       "      <td>bar</td>\n",
       "      <td>bar</td>\n",
       "      <td>foo</td>\n",
       "      <td>bar</td>\n",
       "      <td>foo</td>\n",
       "      <td>bar</td>\n",
       "      <td>bar</td>\n",
       "      <td>baz</td>\n",
       "      <td>foo</td>\n",
       "      <td>bar</td>\n",
       "      <td>bar</td>\n",
       "      <td>bar</td>\n",
       "      <td>foo</td>\n",
       "      <td>bar</td>\n",
       "      <td>bar</td>\n",
       "      <td>foo</td>\n",
       "      <td>bar</td>\n",
       "      <td>foo</td>\n",
       "      <td>baz</td>\n",
       "      <td>foo</td>\n",
       "      <td>bar</td>\n",
       "      <td>bar</td>\n",
       "      <td>bar</td>\n",
       "      <td>bar</td>\n",
       "      <td>foo</td>\n",
       "      <td>bar</td>\n",
       "      <td>baz</td>\n",
       "      <td>baz</td>\n",
       "      <td>baz</td>\n",
       "      <td>baz</td>\n",
       "      <td>foo</td>\n",
       "      <td>bar</td>\n",
       "      <td>foo</td>\n",
       "      <td>foo</td>\n",
       "      <td>foo</td>\n",
       "      <td>bar</td>\n",
       "      <td>bar</td>\n",
       "      <td>...</td>\n",
       "      <td>baz</td>\n",
       "      <td>foo</td>\n",
       "      <td>bar</td>\n",
       "      <td>baz</td>\n",
       "      <td>foo</td>\n",
       "      <td>baz</td>\n",
       "      <td>baz</td>\n",
       "      <td>baz</td>\n",
       "      <td>bar</td>\n",
       "      <td>baz</td>\n",
       "      <td>foo</td>\n",
       "      <td>foo</td>\n",
       "      <td>bar</td>\n",
       "      <td>foo</td>\n",
       "      <td>bar</td>\n",
       "      <td>bar</td>\n",
       "      <td>baz</td>\n",
       "      <td>foo</td>\n",
       "      <td>foo</td>\n",
       "      <td>foo</td>\n",
       "      <td>baz</td>\n",
       "      <td>foo</td>\n",
       "      <td>baz</td>\n",
       "      <td>bar</td>\n",
       "      <td>bar</td>\n",
       "      <td>bar</td>\n",
       "      <td>foo</td>\n",
       "      <td>foo</td>\n",
       "      <td>foo</td>\n",
       "      <td>baz</td>\n",
       "      <td>foo</td>\n",
       "      <td>foo</td>\n",
       "      <td>baz</td>\n",
       "      <td>foo</td>\n",
       "      <td>foo</td>\n",
       "      <td>foo</td>\n",
       "      <td>baz</td>\n",
       "      <td>baz</td>\n",
       "      <td>bar</td>\n",
       "      <td>foo</td>\n",
       "    </tr>\n",
       "    <tr>\n",
       "      <th>1</th>\n",
       "      <td>bar</td>\n",
       "      <td>bar</td>\n",
       "      <td>baz</td>\n",
       "      <td>bar</td>\n",
       "      <td>foo</td>\n",
       "      <td>bar</td>\n",
       "      <td>foo</td>\n",
       "      <td>baz</td>\n",
       "      <td>foo</td>\n",
       "      <td>foo</td>\n",
       "      <td>baz</td>\n",
       "      <td>baz</td>\n",
       "      <td>bar</td>\n",
       "      <td>bar</td>\n",
       "      <td>bar</td>\n",
       "      <td>foo</td>\n",
       "      <td>foo</td>\n",
       "      <td>foo</td>\n",
       "      <td>foo</td>\n",
       "      <td>bar</td>\n",
       "      <td>baz</td>\n",
       "      <td>foo</td>\n",
       "      <td>foo</td>\n",
       "      <td>bar</td>\n",
       "      <td>baz</td>\n",
       "      <td>baz</td>\n",
       "      <td>foo</td>\n",
       "      <td>bar</td>\n",
       "      <td>foo</td>\n",
       "      <td>baz</td>\n",
       "      <td>foo</td>\n",
       "      <td>bar</td>\n",
       "      <td>foo</td>\n",
       "      <td>baz</td>\n",
       "      <td>baz</td>\n",
       "      <td>foo</td>\n",
       "      <td>foo</td>\n",
       "      <td>bar</td>\n",
       "      <td>foo</td>\n",
       "      <td>baz</td>\n",
       "      <td>...</td>\n",
       "      <td>baz</td>\n",
       "      <td>baz</td>\n",
       "      <td>bar</td>\n",
       "      <td>baz</td>\n",
       "      <td>baz</td>\n",
       "      <td>bar</td>\n",
       "      <td>baz</td>\n",
       "      <td>bar</td>\n",
       "      <td>baz</td>\n",
       "      <td>baz</td>\n",
       "      <td>foo</td>\n",
       "      <td>foo</td>\n",
       "      <td>bar</td>\n",
       "      <td>baz</td>\n",
       "      <td>baz</td>\n",
       "      <td>foo</td>\n",
       "      <td>baz</td>\n",
       "      <td>foo</td>\n",
       "      <td>foo</td>\n",
       "      <td>foo</td>\n",
       "      <td>bar</td>\n",
       "      <td>bar</td>\n",
       "      <td>bar</td>\n",
       "      <td>baz</td>\n",
       "      <td>foo</td>\n",
       "      <td>baz</td>\n",
       "      <td>bar</td>\n",
       "      <td>bar</td>\n",
       "      <td>baz</td>\n",
       "      <td>bar</td>\n",
       "      <td>foo</td>\n",
       "      <td>bar</td>\n",
       "      <td>foo</td>\n",
       "      <td>bar</td>\n",
       "      <td>bar</td>\n",
       "      <td>foo</td>\n",
       "      <td>foo</td>\n",
       "      <td>foo</td>\n",
       "      <td>baz</td>\n",
       "      <td>bar</td>\n",
       "    </tr>\n",
       "    <tr>\n",
       "      <th>2</th>\n",
       "      <td>baz</td>\n",
       "      <td>bar</td>\n",
       "      <td>bar</td>\n",
       "      <td>bar</td>\n",
       "      <td>bar</td>\n",
       "      <td>foo</td>\n",
       "      <td>baz</td>\n",
       "      <td>bar</td>\n",
       "      <td>bar</td>\n",
       "      <td>bar</td>\n",
       "      <td>foo</td>\n",
       "      <td>baz</td>\n",
       "      <td>baz</td>\n",
       "      <td>bar</td>\n",
       "      <td>bar</td>\n",
       "      <td>baz</td>\n",
       "      <td>baz</td>\n",
       "      <td>foo</td>\n",
       "      <td>baz</td>\n",
       "      <td>foo</td>\n",
       "      <td>baz</td>\n",
       "      <td>baz</td>\n",
       "      <td>bar</td>\n",
       "      <td>baz</td>\n",
       "      <td>baz</td>\n",
       "      <td>baz</td>\n",
       "      <td>bar</td>\n",
       "      <td>bar</td>\n",
       "      <td>foo</td>\n",
       "      <td>foo</td>\n",
       "      <td>baz</td>\n",
       "      <td>bar</td>\n",
       "      <td>foo</td>\n",
       "      <td>foo</td>\n",
       "      <td>baz</td>\n",
       "      <td>foo</td>\n",
       "      <td>baz</td>\n",
       "      <td>bar</td>\n",
       "      <td>foo</td>\n",
       "      <td>baz</td>\n",
       "      <td>...</td>\n",
       "      <td>bar</td>\n",
       "      <td>bar</td>\n",
       "      <td>bar</td>\n",
       "      <td>bar</td>\n",
       "      <td>baz</td>\n",
       "      <td>foo</td>\n",
       "      <td>bar</td>\n",
       "      <td>bar</td>\n",
       "      <td>foo</td>\n",
       "      <td>foo</td>\n",
       "      <td>bar</td>\n",
       "      <td>baz</td>\n",
       "      <td>bar</td>\n",
       "      <td>foo</td>\n",
       "      <td>baz</td>\n",
       "      <td>baz</td>\n",
       "      <td>foo</td>\n",
       "      <td>baz</td>\n",
       "      <td>foo</td>\n",
       "      <td>foo</td>\n",
       "      <td>foo</td>\n",
       "      <td>baz</td>\n",
       "      <td>baz</td>\n",
       "      <td>baz</td>\n",
       "      <td>foo</td>\n",
       "      <td>bar</td>\n",
       "      <td>foo</td>\n",
       "      <td>bar</td>\n",
       "      <td>foo</td>\n",
       "      <td>baz</td>\n",
       "      <td>foo</td>\n",
       "      <td>bar</td>\n",
       "      <td>bar</td>\n",
       "      <td>bar</td>\n",
       "      <td>foo</td>\n",
       "      <td>foo</td>\n",
       "      <td>baz</td>\n",
       "      <td>bar</td>\n",
       "      <td>foo</td>\n",
       "      <td>baz</td>\n",
       "    </tr>\n",
       "    <tr>\n",
       "      <th>3</th>\n",
       "      <td>foo</td>\n",
       "      <td>bar</td>\n",
       "      <td>baz</td>\n",
       "      <td>bar</td>\n",
       "      <td>foo</td>\n",
       "      <td>baz</td>\n",
       "      <td>baz</td>\n",
       "      <td>foo</td>\n",
       "      <td>baz</td>\n",
       "      <td>foo</td>\n",
       "      <td>baz</td>\n",
       "      <td>baz</td>\n",
       "      <td>baz</td>\n",
       "      <td>foo</td>\n",
       "      <td>baz</td>\n",
       "      <td>bar</td>\n",
       "      <td>baz</td>\n",
       "      <td>foo</td>\n",
       "      <td>foo</td>\n",
       "      <td>bar</td>\n",
       "      <td>bar</td>\n",
       "      <td>bar</td>\n",
       "      <td>bar</td>\n",
       "      <td>baz</td>\n",
       "      <td>foo</td>\n",
       "      <td>baz</td>\n",
       "      <td>baz</td>\n",
       "      <td>foo</td>\n",
       "      <td>baz</td>\n",
       "      <td>bar</td>\n",
       "      <td>bar</td>\n",
       "      <td>bar</td>\n",
       "      <td>baz</td>\n",
       "      <td>baz</td>\n",
       "      <td>bar</td>\n",
       "      <td>bar</td>\n",
       "      <td>bar</td>\n",
       "      <td>bar</td>\n",
       "      <td>baz</td>\n",
       "      <td>foo</td>\n",
       "      <td>...</td>\n",
       "      <td>baz</td>\n",
       "      <td>bar</td>\n",
       "      <td>bar</td>\n",
       "      <td>baz</td>\n",
       "      <td>foo</td>\n",
       "      <td>bar</td>\n",
       "      <td>baz</td>\n",
       "      <td>foo</td>\n",
       "      <td>baz</td>\n",
       "      <td>baz</td>\n",
       "      <td>foo</td>\n",
       "      <td>bar</td>\n",
       "      <td>baz</td>\n",
       "      <td>baz</td>\n",
       "      <td>bar</td>\n",
       "      <td>bar</td>\n",
       "      <td>baz</td>\n",
       "      <td>foo</td>\n",
       "      <td>baz</td>\n",
       "      <td>baz</td>\n",
       "      <td>foo</td>\n",
       "      <td>bar</td>\n",
       "      <td>baz</td>\n",
       "      <td>bar</td>\n",
       "      <td>baz</td>\n",
       "      <td>baz</td>\n",
       "      <td>bar</td>\n",
       "      <td>foo</td>\n",
       "      <td>bar</td>\n",
       "      <td>bar</td>\n",
       "      <td>baz</td>\n",
       "      <td>baz</td>\n",
       "      <td>bar</td>\n",
       "      <td>baz</td>\n",
       "      <td>bar</td>\n",
       "      <td>baz</td>\n",
       "      <td>bar</td>\n",
       "      <td>bar</td>\n",
       "      <td>bar</td>\n",
       "      <td>bar</td>\n",
       "    </tr>\n",
       "    <tr>\n",
       "      <th>4</th>\n",
       "      <td>bar</td>\n",
       "      <td>bar</td>\n",
       "      <td>bar</td>\n",
       "      <td>baz</td>\n",
       "      <td>foo</td>\n",
       "      <td>baz</td>\n",
       "      <td>baz</td>\n",
       "      <td>bar</td>\n",
       "      <td>bar</td>\n",
       "      <td>bar</td>\n",
       "      <td>foo</td>\n",
       "      <td>baz</td>\n",
       "      <td>bar</td>\n",
       "      <td>foo</td>\n",
       "      <td>foo</td>\n",
       "      <td>foo</td>\n",
       "      <td>bar</td>\n",
       "      <td>foo</td>\n",
       "      <td>bar</td>\n",
       "      <td>bar</td>\n",
       "      <td>baz</td>\n",
       "      <td>baz</td>\n",
       "      <td>bar</td>\n",
       "      <td>foo</td>\n",
       "      <td>bar</td>\n",
       "      <td>foo</td>\n",
       "      <td>bar</td>\n",
       "      <td>baz</td>\n",
       "      <td>baz</td>\n",
       "      <td>bar</td>\n",
       "      <td>foo</td>\n",
       "      <td>bar</td>\n",
       "      <td>foo</td>\n",
       "      <td>foo</td>\n",
       "      <td>baz</td>\n",
       "      <td>bar</td>\n",
       "      <td>baz</td>\n",
       "      <td>baz</td>\n",
       "      <td>bar</td>\n",
       "      <td>bar</td>\n",
       "      <td>...</td>\n",
       "      <td>foo</td>\n",
       "      <td>bar</td>\n",
       "      <td>baz</td>\n",
       "      <td>baz</td>\n",
       "      <td>bar</td>\n",
       "      <td>bar</td>\n",
       "      <td>bar</td>\n",
       "      <td>baz</td>\n",
       "      <td>bar</td>\n",
       "      <td>baz</td>\n",
       "      <td>foo</td>\n",
       "      <td>foo</td>\n",
       "      <td>foo</td>\n",
       "      <td>bar</td>\n",
       "      <td>foo</td>\n",
       "      <td>baz</td>\n",
       "      <td>bar</td>\n",
       "      <td>baz</td>\n",
       "      <td>foo</td>\n",
       "      <td>baz</td>\n",
       "      <td>foo</td>\n",
       "      <td>baz</td>\n",
       "      <td>baz</td>\n",
       "      <td>bar</td>\n",
       "      <td>baz</td>\n",
       "      <td>bar</td>\n",
       "      <td>bar</td>\n",
       "      <td>baz</td>\n",
       "      <td>bar</td>\n",
       "      <td>bar</td>\n",
       "      <td>foo</td>\n",
       "      <td>bar</td>\n",
       "      <td>bar</td>\n",
       "      <td>foo</td>\n",
       "      <td>foo</td>\n",
       "      <td>foo</td>\n",
       "      <td>baz</td>\n",
       "      <td>bar</td>\n",
       "      <td>bar</td>\n",
       "      <td>foo</td>\n",
       "    </tr>\n",
       "  </tbody>\n",
       "</table>\n",
       "<p>5 rows × 100 columns</p>\n",
       "</div>"
      ],
      "text/plain": [
       "     0    1    2    3    4    5    6  ...   93   94   95   96   97   98   99\n",
       "0  baz  baz  bar  bar  bar  foo  bar  ...  foo  foo  foo  baz  baz  bar  foo\n",
       "1  bar  bar  baz  bar  foo  bar  foo  ...  bar  bar  foo  foo  foo  baz  bar\n",
       "2  baz  bar  bar  bar  bar  foo  baz  ...  bar  foo  foo  baz  bar  foo  baz\n",
       "3  foo  bar  baz  bar  foo  baz  baz  ...  baz  bar  baz  bar  bar  bar  bar\n",
       "4  bar  bar  bar  baz  foo  baz  baz  ...  foo  foo  foo  baz  bar  bar  foo\n",
       "\n",
       "[5 rows x 100 columns]"
      ]
     },
     "execution_count": 4,
     "metadata": {
      "tags": []
     },
     "output_type": "execute_result"
    }
   ],
   "source": [
    "print(f\"Number of rows and columns of dataset: {sample_df.shape}\")\n",
    "sample_df.head()"
   ]
  },
  {
   "cell_type": "markdown",
   "metadata": {
    "id": "iIbCPc75YexI"
   },
   "source": [
    "## Pandas Data Structures"
   ]
  },
  {
   "cell_type": "markdown",
   "metadata": {
    "id": "U3OBXtCvYzy_"
   },
   "source": [
    "### Series\n",
    "\n",
    "คือ array ที่มี 1 มิติ โดยสามารถเก็บข้อมูลได้ทุกประเภท"
   ]
  },
  {
   "cell_type": "code",
   "execution_count": 5,
   "metadata": {
    "id": "5yqrBpLsYxc0"
   },
   "outputs": [],
   "source": [
    "ser = pd.Series([1, 2, 3])"
   ]
  },
  {
   "cell_type": "code",
   "execution_count": 6,
   "metadata": {
    "colab": {
     "base_uri": "https://localhost:8080/"
    },
    "id": "I6T2JmW8ZMDG",
    "outputId": "4e98dc7c-f7e8-4188-90fc-dc03aa5bd4f3"
   },
   "outputs": [
    {
     "name": "stdout",
     "output_type": "stream",
     "text": [
      "Data dimension: 1\n",
      "Data shape: (3,)\n"
     ]
    },
    {
     "data": {
      "text/plain": [
       "0    1\n",
       "1    2\n",
       "2    3\n",
       "dtype: int64"
      ]
     },
     "execution_count": 6,
     "metadata": {
      "tags": []
     },
     "output_type": "execute_result"
    }
   ],
   "source": [
    "print(f\"Data dimension: {ser.ndim}\")\n",
    "print(f\"Data shape: {ser.shape}\")\n",
    "ser"
   ]
  },
  {
   "cell_type": "markdown",
   "metadata": {
    "id": "aHUELjByZkjW"
   },
   "source": [
    "### DataFrame\n",
    "\n",
    "คือ array ที่มี 2 มิติ โดยแต่ละ columns ก็อาจจะเป็นชนิดของข้อมูลที่แตกต่างกันได้"
   ]
  },
  {
   "cell_type": "code",
   "execution_count": 7,
   "metadata": {
    "id": "HWkh12_YZyZo"
   },
   "outputs": [],
   "source": [
    "data = {'name': ['John', 'Jo', 'Joe'],\n",
    "        'age': [20, 25, 30],\n",
    "        'absent': [False, False, True]}\n",
    "df = pd.DataFrame(data)"
   ]
  },
  {
   "cell_type": "code",
   "execution_count": 8,
   "metadata": {
    "colab": {
     "base_uri": "https://localhost:8080/",
     "height": 176
    },
    "id": "TpaCxU7vaUtg",
    "outputId": "5f417831-0f80-4fce-e176-8b86359aac0f"
   },
   "outputs": [
    {
     "name": "stdout",
     "output_type": "stream",
     "text": [
      "Data dimension: 2\n",
      "Data shape: (3, 3)\n"
     ]
    },
    {
     "data": {
      "text/html": [
       "<div>\n",
       "<style scoped>\n",
       "    .dataframe tbody tr th:only-of-type {\n",
       "        vertical-align: middle;\n",
       "    }\n",
       "\n",
       "    .dataframe tbody tr th {\n",
       "        vertical-align: top;\n",
       "    }\n",
       "\n",
       "    .dataframe thead th {\n",
       "        text-align: right;\n",
       "    }\n",
       "</style>\n",
       "<table border=\"1\" class=\"dataframe\">\n",
       "  <thead>\n",
       "    <tr style=\"text-align: right;\">\n",
       "      <th></th>\n",
       "      <th>name</th>\n",
       "      <th>age</th>\n",
       "      <th>absent</th>\n",
       "    </tr>\n",
       "  </thead>\n",
       "  <tbody>\n",
       "    <tr>\n",
       "      <th>0</th>\n",
       "      <td>John</td>\n",
       "      <td>20</td>\n",
       "      <td>False</td>\n",
       "    </tr>\n",
       "    <tr>\n",
       "      <th>1</th>\n",
       "      <td>Jo</td>\n",
       "      <td>25</td>\n",
       "      <td>False</td>\n",
       "    </tr>\n",
       "    <tr>\n",
       "      <th>2</th>\n",
       "      <td>Joe</td>\n",
       "      <td>30</td>\n",
       "      <td>True</td>\n",
       "    </tr>\n",
       "  </tbody>\n",
       "</table>\n",
       "</div>"
      ],
      "text/plain": [
       "   name  age  absent\n",
       "0  John   20   False\n",
       "1    Jo   25   False\n",
       "2   Joe   30    True"
      ]
     },
     "execution_count": 8,
     "metadata": {
      "tags": []
     },
     "output_type": "execute_result"
    }
   ],
   "source": [
    "print(f\"Data dimension: {df.ndim}\")\n",
    "print(f\"Data shape: {df.shape}\")\n",
    "df"
   ]
  },
  {
   "cell_type": "markdown",
   "metadata": {
    "id": "zHliYFRBNxf4"
   },
   "source": [
    "## Read and Write data\n",
    "\n",
    "Pandas สามารถอ่านและเขียนข้อมูลได้หลากหลายประเภท ไม่ว่าจะเป็น CSV, JSON, Excel และประเภทอื่นๆอีกมากมาย [Pandas I/O](https://pandas.pydata.org/pandas-docs/stable/user_guide/io.html) โดยใน course intro นี้ เราจะใช้ข้อมูลรถมือสองของเว็บไซต์ตลาดรถ www.taladrod.com ที่เป็นไฟล์ประเภท csv มาเรียนรู้การใช้ Pandas กัน"
   ]
  },
  {
   "cell_type": "code",
   "execution_count": 9,
   "metadata": {
    "id": "pctTMUE3QZGQ"
   },
   "outputs": [],
   "source": [
    "df = pd.read_csv('https://raw.githubusercontent.com/cstorm125/viztech/master/data/taladrod.csv')"
   ]
  },
  {
   "cell_type": "code",
   "execution_count": 10,
   "metadata": {
    "id": "2VfkPeg0bLwQ"
   },
   "outputs": [],
   "source": [
    "df.to_csv('DataFrame.csv')"
   ]
  },
  {
   "cell_type": "code",
   "execution_count": 11,
   "metadata": {
    "colab": {
     "base_uri": "https://localhost:8080/",
     "height": 932
    },
    "id": "jC3oGZjRbh1b",
    "outputId": "a5f88b78-7d24-4430-da87-8f1ea408ec20"
   },
   "outputs": [
    {
     "data": {
      "text/html": [
       "<div>\n",
       "<style scoped>\n",
       "    .dataframe tbody tr th:only-of-type {\n",
       "        vertical-align: middle;\n",
       "    }\n",
       "\n",
       "    .dataframe tbody tr th {\n",
       "        vertical-align: top;\n",
       "    }\n",
       "\n",
       "    .dataframe thead th {\n",
       "        text-align: right;\n",
       "    }\n",
       "</style>\n",
       "<table border=\"1\" class=\"dataframe\">\n",
       "  <thead>\n",
       "    <tr style=\"text-align: right;\">\n",
       "      <th></th>\n",
       "      <th>id</th>\n",
       "      <th>brand</th>\n",
       "      <th>series</th>\n",
       "      <th>model</th>\n",
       "      <th>gen</th>\n",
       "      <th>year</th>\n",
       "      <th>color</th>\n",
       "      <th>gear</th>\n",
       "      <th>gas</th>\n",
       "      <th>sales_price</th>\n",
       "      <th>original_price</th>\n",
       "      <th>market_price</th>\n",
       "      <th>description</th>\n",
       "      <th>contact_location</th>\n",
       "      <th>subscribers</th>\n",
       "      <th>scraped_date</th>\n",
       "      <th>removed_date</th>\n",
       "    </tr>\n",
       "  </thead>\n",
       "  <tbody>\n",
       "    <tr>\n",
       "      <th>0</th>\n",
       "      <td>2210000</td>\n",
       "      <td>HONDA</td>\n",
       "      <td>JAZZ</td>\n",
       "      <td>1.5 i-VTEC SV (AS)</td>\n",
       "      <td>ปี08-13</td>\n",
       "      <td>2014.0</td>\n",
       "      <td>สีขาว</td>\n",
       "      <td>เกียร์ออโต้</td>\n",
       "      <td>NaN</td>\n",
       "      <td>488,000</td>\n",
       "      <td>NaN</td>\n",
       "      <td>NaN</td>\n",
       "      <td>เครดิตดีออกรถ10,000จบครับ\\nรับประกันเครื่องเกี...</td>\n",
       "      <td>กรุงเทพฯ</td>\n",
       "      <td>1047.0</td>\n",
       "      <td>2019-05-22</td>\n",
       "      <td>NaN</td>\n",
       "    </tr>\n",
       "    <tr>\n",
       "      <th>1</th>\n",
       "      <td>2210001</td>\n",
       "      <td>TOYOTA</td>\n",
       "      <td>ESTIMA</td>\n",
       "      <td>2.4 G HYBRID</td>\n",
       "      <td>ปี10-ปัจจุบัน</td>\n",
       "      <td>2013.0</td>\n",
       "      <td>สีขาว</td>\n",
       "      <td>เกียร์ออโต้</td>\n",
       "      <td>NaN</td>\n",
       "      <td>1,677,000</td>\n",
       "      <td>NaN</td>\n",
       "      <td>3,050,000</td>\n",
       "      <td>TOPสุด Estima Aeras Hybrid รถเข้าเซอร์วิส TOYO...</td>\n",
       "      <td>กรุงเทพฯ</td>\n",
       "      <td>182.0</td>\n",
       "      <td>2019-05-22</td>\n",
       "      <td>NaN</td>\n",
       "    </tr>\n",
       "    <tr>\n",
       "      <th>2</th>\n",
       "      <td>2210009</td>\n",
       "      <td>HONDA</td>\n",
       "      <td>JAZZ</td>\n",
       "      <td>1.5 i-VTEC V (AS)</td>\n",
       "      <td>ปี08-13</td>\n",
       "      <td>2008.0</td>\n",
       "      <td>สีน้ำเงิน</td>\n",
       "      <td>เกียร์ออโต้</td>\n",
       "      <td>NaN</td>\n",
       "      <td>338,000</td>\n",
       "      <td>NaN</td>\n",
       "      <td>NaN</td>\n",
       "      <td>เครดิดีออกรถ10,000จบครับ\\nรับประกันเครื่องเกีย...</td>\n",
       "      <td>กรุงเทพฯ</td>\n",
       "      <td>1047.0</td>\n",
       "      <td>2019-05-22</td>\n",
       "      <td>NaN</td>\n",
       "    </tr>\n",
       "    <tr>\n",
       "      <th>3</th>\n",
       "      <td>2210012</td>\n",
       "      <td>FORD</td>\n",
       "      <td>RANGER</td>\n",
       "      <td>2.2 WILDTRAK DBL CAB HI-RIDER</td>\n",
       "      <td>DOUBLECAB</td>\n",
       "      <td>2016.0</td>\n",
       "      <td>สีขาว</td>\n",
       "      <td>เกียร์ออโต้</td>\n",
       "      <td>NaN</td>\n",
       "      <td>689,000</td>\n",
       "      <td>NaN</td>\n",
       "      <td>849,000</td>\n",
       "      <td>รับรองสภาพ ไม่มีชน มือเดียว พาช่างมาตรวจสภาพรถ...</td>\n",
       "      <td>กรุงเทพฯ</td>\n",
       "      <td>760.0</td>\n",
       "      <td>2019-05-22</td>\n",
       "      <td>NaN</td>\n",
       "    </tr>\n",
       "    <tr>\n",
       "      <th>4</th>\n",
       "      <td>2210016</td>\n",
       "      <td>TOYOTA</td>\n",
       "      <td>SOLUNA</td>\n",
       "      <td>VIOS 1.5 E (ABS+AB)</td>\n",
       "      <td>VIOS ปี13-ปัจจุบัน</td>\n",
       "      <td>2015.0</td>\n",
       "      <td>สีบรอนซ์เงิน</td>\n",
       "      <td>เกียร์ออโต้</td>\n",
       "      <td>NaN</td>\n",
       "      <td>359,000</td>\n",
       "      <td>NaN</td>\n",
       "      <td>649,000</td>\n",
       "      <td>ไมล์แท้ 99,xxx TOYOTA SOLUNA VIOS 1.5E\\nTOYOTA...</td>\n",
       "      <td>กรุงเทพฯ</td>\n",
       "      <td>699.0</td>\n",
       "      <td>2019-05-22</td>\n",
       "      <td>NaN</td>\n",
       "    </tr>\n",
       "    <tr>\n",
       "      <th>...</th>\n",
       "      <td>...</td>\n",
       "      <td>...</td>\n",
       "      <td>...</td>\n",
       "      <td>...</td>\n",
       "      <td>...</td>\n",
       "      <td>...</td>\n",
       "      <td>...</td>\n",
       "      <td>...</td>\n",
       "      <td>...</td>\n",
       "      <td>...</td>\n",
       "      <td>...</td>\n",
       "      <td>...</td>\n",
       "      <td>...</td>\n",
       "      <td>...</td>\n",
       "      <td>...</td>\n",
       "      <td>...</td>\n",
       "      <td>...</td>\n",
       "    </tr>\n",
       "    <tr>\n",
       "      <th>14032</th>\n",
       "      <td>2232877</td>\n",
       "      <td>HONDA</td>\n",
       "      <td>CIVIC</td>\n",
       "      <td>1.8 E</td>\n",
       "      <td>FB ปี12-15</td>\n",
       "      <td>2012.0</td>\n",
       "      <td>สีบรอนซ์เงิน</td>\n",
       "      <td>เกียร์ออโต้</td>\n",
       "      <td>NaN</td>\n",
       "      <td>428,000</td>\n",
       "      <td>NaN</td>\n",
       "      <td>NaN</td>\n",
       "      <td>2012 Honda civic FB 1.8E auto เบาะไฟฟ้า สภาพสว...</td>\n",
       "      <td>กรุงเทพฯ</td>\n",
       "      <td>1614.0</td>\n",
       "      <td>2019-05-28</td>\n",
       "      <td>NaN</td>\n",
       "    </tr>\n",
       "    <tr>\n",
       "      <th>14033</th>\n",
       "      <td>2232878</td>\n",
       "      <td>TOYOTA</td>\n",
       "      <td>CAMRY</td>\n",
       "      <td>2.0 G</td>\n",
       "      <td>ปี06-12</td>\n",
       "      <td>2011.0</td>\n",
       "      <td>สีเทา</td>\n",
       "      <td>เกียร์ออโต้</td>\n",
       "      <td>NaN</td>\n",
       "      <td>530,000</td>\n",
       "      <td>NaN</td>\n",
       "      <td>1,299,000</td>\n",
       "      <td>รถศูนย์ TOYOTA CAMRY 2.0 G ปี 2011\\nรถศูนย์ สภ...</td>\n",
       "      <td>ปทุมธานี</td>\n",
       "      <td>1469.0</td>\n",
       "      <td>2019-05-28</td>\n",
       "      <td>NaN</td>\n",
       "    </tr>\n",
       "    <tr>\n",
       "      <th>14034</th>\n",
       "      <td>2232879</td>\n",
       "      <td>TOYOTA</td>\n",
       "      <td>CAMRY</td>\n",
       "      <td>2.4 HYBRID</td>\n",
       "      <td>ปี06-12</td>\n",
       "      <td>2010.0</td>\n",
       "      <td>สีขาว</td>\n",
       "      <td>เกียร์ออโต้</td>\n",
       "      <td>NaN</td>\n",
       "      <td>435,000</td>\n",
       "      <td>NaN</td>\n",
       "      <td>NaN</td>\n",
       "      <td>Camry Hybrid วิ่งน้อย เช็ค0ทุกระยะ สภาพใหม่กิ๊...</td>\n",
       "      <td>กรุงเทพฯ</td>\n",
       "      <td>1469.0</td>\n",
       "      <td>2019-05-28</td>\n",
       "      <td>NaN</td>\n",
       "    </tr>\n",
       "    <tr>\n",
       "      <th>14035</th>\n",
       "      <td>2232880</td>\n",
       "      <td>HONDA</td>\n",
       "      <td>JAZZ</td>\n",
       "      <td>1.5 S</td>\n",
       "      <td>แรก</td>\n",
       "      <td>2006.0</td>\n",
       "      <td>สีขาว</td>\n",
       "      <td>เกียร์ออโต้</td>\n",
       "      <td>NaN</td>\n",
       "      <td>168,000</td>\n",
       "      <td>NaN</td>\n",
       "      <td>NaN</td>\n",
       "      <td>Honda Jazz ปี2006  เกียร์auto  ขาย 168000 บ.\\n...</td>\n",
       "      <td>กรุงเทพฯ</td>\n",
       "      <td>825.0</td>\n",
       "      <td>2019-05-28</td>\n",
       "      <td>NaN</td>\n",
       "    </tr>\n",
       "    <tr>\n",
       "      <th>14036</th>\n",
       "      <td>2232881</td>\n",
       "      <td>HONDA</td>\n",
       "      <td>CIVIC</td>\n",
       "      <td>1.5 TURBO RS</td>\n",
       "      <td>FC ปี16-ปัจจุบัน</td>\n",
       "      <td>2016.0</td>\n",
       "      <td>สีเทา</td>\n",
       "      <td>เกียร์ออโต้</td>\n",
       "      <td>NaN</td>\n",
       "      <td>976,000</td>\n",
       "      <td>NaN</td>\n",
       "      <td>1,190,000</td>\n",
       "      <td>1.5 Turbo RS Topสุด โฉม FC ยังมีวารันตีศูนย์ ไ...</td>\n",
       "      <td>กรุงเทพฯ</td>\n",
       "      <td>1147.0</td>\n",
       "      <td>2019-05-28</td>\n",
       "      <td>NaN</td>\n",
       "    </tr>\n",
       "  </tbody>\n",
       "</table>\n",
       "<p>14037 rows × 17 columns</p>\n",
       "</div>"
      ],
      "text/plain": [
       "            id   brand  series  ... subscribers scraped_date  removed_date\n",
       "0      2210000   HONDA    JAZZ  ...      1047.0   2019-05-22           NaN\n",
       "1      2210001  TOYOTA  ESTIMA  ...       182.0   2019-05-22           NaN\n",
       "2      2210009   HONDA    JAZZ  ...      1047.0   2019-05-22           NaN\n",
       "3      2210012    FORD  RANGER  ...       760.0   2019-05-22           NaN\n",
       "4      2210016  TOYOTA  SOLUNA  ...       699.0   2019-05-22           NaN\n",
       "...        ...     ...     ...  ...         ...          ...           ...\n",
       "14032  2232877   HONDA   CIVIC  ...      1614.0   2019-05-28           NaN\n",
       "14033  2232878  TOYOTA   CAMRY  ...      1469.0   2019-05-28           NaN\n",
       "14034  2232879  TOYOTA   CAMRY  ...      1469.0   2019-05-28           NaN\n",
       "14035  2232880   HONDA    JAZZ  ...       825.0   2019-05-28           NaN\n",
       "14036  2232881   HONDA   CIVIC  ...      1147.0   2019-05-28           NaN\n",
       "\n",
       "[14037 rows x 17 columns]"
      ]
     },
     "execution_count": 11,
     "metadata": {
      "tags": []
     },
     "output_type": "execute_result"
    }
   ],
   "source": [
    "df"
   ]
  },
  {
   "cell_type": "code",
   "execution_count": 12,
   "metadata": {
    "colab": {
     "base_uri": "https://localhost:8080/",
     "height": 479
    },
    "id": "YJXeAIJupxpd",
    "outputId": "92198866-df3c-4c72-e575-08952f056609"
   },
   "outputs": [
    {
     "data": {
      "text/html": [
       "<div>\n",
       "<style scoped>\n",
       "    .dataframe tbody tr th:only-of-type {\n",
       "        vertical-align: middle;\n",
       "    }\n",
       "\n",
       "    .dataframe tbody tr th {\n",
       "        vertical-align: top;\n",
       "    }\n",
       "\n",
       "    .dataframe thead th {\n",
       "        text-align: right;\n",
       "    }\n",
       "</style>\n",
       "<table border=\"1\" class=\"dataframe\">\n",
       "  <thead>\n",
       "    <tr style=\"text-align: right;\">\n",
       "      <th></th>\n",
       "      <th>id</th>\n",
       "      <th>brand</th>\n",
       "      <th>series</th>\n",
       "      <th>model</th>\n",
       "      <th>gen</th>\n",
       "      <th>year</th>\n",
       "      <th>color</th>\n",
       "      <th>gear</th>\n",
       "      <th>gas</th>\n",
       "      <th>sales_price</th>\n",
       "      <th>original_price</th>\n",
       "      <th>market_price</th>\n",
       "      <th>description</th>\n",
       "      <th>contact_location</th>\n",
       "      <th>subscribers</th>\n",
       "      <th>scraped_date</th>\n",
       "      <th>removed_date</th>\n",
       "    </tr>\n",
       "  </thead>\n",
       "  <tbody>\n",
       "    <tr>\n",
       "      <th>0</th>\n",
       "      <td>2210000</td>\n",
       "      <td>HONDA</td>\n",
       "      <td>JAZZ</td>\n",
       "      <td>1.5 i-VTEC SV (AS)</td>\n",
       "      <td>ปี08-13</td>\n",
       "      <td>2014.0</td>\n",
       "      <td>สีขาว</td>\n",
       "      <td>เกียร์ออโต้</td>\n",
       "      <td>NaN</td>\n",
       "      <td>488,000</td>\n",
       "      <td>NaN</td>\n",
       "      <td>NaN</td>\n",
       "      <td>เครดิตดีออกรถ10,000จบครับ\\nรับประกันเครื่องเกี...</td>\n",
       "      <td>กรุงเทพฯ</td>\n",
       "      <td>1047.0</td>\n",
       "      <td>2019-05-22</td>\n",
       "      <td>NaN</td>\n",
       "    </tr>\n",
       "    <tr>\n",
       "      <th>1</th>\n",
       "      <td>2210001</td>\n",
       "      <td>TOYOTA</td>\n",
       "      <td>ESTIMA</td>\n",
       "      <td>2.4 G HYBRID</td>\n",
       "      <td>ปี10-ปัจจุบัน</td>\n",
       "      <td>2013.0</td>\n",
       "      <td>สีขาว</td>\n",
       "      <td>เกียร์ออโต้</td>\n",
       "      <td>NaN</td>\n",
       "      <td>1,677,000</td>\n",
       "      <td>NaN</td>\n",
       "      <td>3,050,000</td>\n",
       "      <td>TOPสุด Estima Aeras Hybrid รถเข้าเซอร์วิส TOYO...</td>\n",
       "      <td>กรุงเทพฯ</td>\n",
       "      <td>182.0</td>\n",
       "      <td>2019-05-22</td>\n",
       "      <td>NaN</td>\n",
       "    </tr>\n",
       "    <tr>\n",
       "      <th>2</th>\n",
       "      <td>2210009</td>\n",
       "      <td>HONDA</td>\n",
       "      <td>JAZZ</td>\n",
       "      <td>1.5 i-VTEC V (AS)</td>\n",
       "      <td>ปี08-13</td>\n",
       "      <td>2008.0</td>\n",
       "      <td>สีน้ำเงิน</td>\n",
       "      <td>เกียร์ออโต้</td>\n",
       "      <td>NaN</td>\n",
       "      <td>338,000</td>\n",
       "      <td>NaN</td>\n",
       "      <td>NaN</td>\n",
       "      <td>เครดิดีออกรถ10,000จบครับ\\nรับประกันเครื่องเกีย...</td>\n",
       "      <td>กรุงเทพฯ</td>\n",
       "      <td>1047.0</td>\n",
       "      <td>2019-05-22</td>\n",
       "      <td>NaN</td>\n",
       "    </tr>\n",
       "    <tr>\n",
       "      <th>3</th>\n",
       "      <td>2210012</td>\n",
       "      <td>FORD</td>\n",
       "      <td>RANGER</td>\n",
       "      <td>2.2 WILDTRAK DBL CAB HI-RIDER</td>\n",
       "      <td>DOUBLECAB</td>\n",
       "      <td>2016.0</td>\n",
       "      <td>สีขาว</td>\n",
       "      <td>เกียร์ออโต้</td>\n",
       "      <td>NaN</td>\n",
       "      <td>689,000</td>\n",
       "      <td>NaN</td>\n",
       "      <td>849,000</td>\n",
       "      <td>รับรองสภาพ ไม่มีชน มือเดียว พาช่างมาตรวจสภาพรถ...</td>\n",
       "      <td>กรุงเทพฯ</td>\n",
       "      <td>760.0</td>\n",
       "      <td>2019-05-22</td>\n",
       "      <td>NaN</td>\n",
       "    </tr>\n",
       "    <tr>\n",
       "      <th>4</th>\n",
       "      <td>2210016</td>\n",
       "      <td>TOYOTA</td>\n",
       "      <td>SOLUNA</td>\n",
       "      <td>VIOS 1.5 E (ABS+AB)</td>\n",
       "      <td>VIOS ปี13-ปัจจุบัน</td>\n",
       "      <td>2015.0</td>\n",
       "      <td>สีบรอนซ์เงิน</td>\n",
       "      <td>เกียร์ออโต้</td>\n",
       "      <td>NaN</td>\n",
       "      <td>359,000</td>\n",
       "      <td>NaN</td>\n",
       "      <td>649,000</td>\n",
       "      <td>ไมล์แท้ 99,xxx TOYOTA SOLUNA VIOS 1.5E\\nTOYOTA...</td>\n",
       "      <td>กรุงเทพฯ</td>\n",
       "      <td>699.0</td>\n",
       "      <td>2019-05-22</td>\n",
       "      <td>NaN</td>\n",
       "    </tr>\n",
       "  </tbody>\n",
       "</table>\n",
       "</div>"
      ],
      "text/plain": [
       "        id   brand  series  ... subscribers scraped_date  removed_date\n",
       "0  2210000   HONDA    JAZZ  ...      1047.0   2019-05-22           NaN\n",
       "1  2210001  TOYOTA  ESTIMA  ...       182.0   2019-05-22           NaN\n",
       "2  2210009   HONDA    JAZZ  ...      1047.0   2019-05-22           NaN\n",
       "3  2210012    FORD  RANGER  ...       760.0   2019-05-22           NaN\n",
       "4  2210016  TOYOTA  SOLUNA  ...       699.0   2019-05-22           NaN\n",
       "\n",
       "[5 rows x 17 columns]"
      ]
     },
     "execution_count": 12,
     "metadata": {
      "tags": []
     },
     "output_type": "execute_result"
    }
   ],
   "source": [
    "df.head()"
   ]
  },
  {
   "cell_type": "code",
   "execution_count": 13,
   "metadata": {
    "colab": {
     "base_uri": "https://localhost:8080/",
     "height": 496
    },
    "id": "Cqy2oAXWblLz",
    "outputId": "ee93c5f8-0525-40d8-ca59-ed0ef537d011"
   },
   "outputs": [
    {
     "data": {
      "text/html": [
       "<div>\n",
       "<style scoped>\n",
       "    .dataframe tbody tr th:only-of-type {\n",
       "        vertical-align: middle;\n",
       "    }\n",
       "\n",
       "    .dataframe tbody tr th {\n",
       "        vertical-align: top;\n",
       "    }\n",
       "\n",
       "    .dataframe thead th {\n",
       "        text-align: right;\n",
       "    }\n",
       "</style>\n",
       "<table border=\"1\" class=\"dataframe\">\n",
       "  <thead>\n",
       "    <tr style=\"text-align: right;\">\n",
       "      <th></th>\n",
       "      <th>id</th>\n",
       "      <th>brand</th>\n",
       "      <th>series</th>\n",
       "      <th>model</th>\n",
       "      <th>gen</th>\n",
       "      <th>year</th>\n",
       "      <th>color</th>\n",
       "      <th>gear</th>\n",
       "      <th>gas</th>\n",
       "      <th>sales_price</th>\n",
       "      <th>original_price</th>\n",
       "      <th>market_price</th>\n",
       "      <th>description</th>\n",
       "      <th>contact_location</th>\n",
       "      <th>subscribers</th>\n",
       "      <th>scraped_date</th>\n",
       "      <th>removed_date</th>\n",
       "    </tr>\n",
       "  </thead>\n",
       "  <tbody>\n",
       "    <tr>\n",
       "      <th>14032</th>\n",
       "      <td>2232877</td>\n",
       "      <td>HONDA</td>\n",
       "      <td>CIVIC</td>\n",
       "      <td>1.8 E</td>\n",
       "      <td>FB ปี12-15</td>\n",
       "      <td>2012.0</td>\n",
       "      <td>สีบรอนซ์เงิน</td>\n",
       "      <td>เกียร์ออโต้</td>\n",
       "      <td>NaN</td>\n",
       "      <td>428,000</td>\n",
       "      <td>NaN</td>\n",
       "      <td>NaN</td>\n",
       "      <td>2012 Honda civic FB 1.8E auto เบาะไฟฟ้า สภาพสว...</td>\n",
       "      <td>กรุงเทพฯ</td>\n",
       "      <td>1614.0</td>\n",
       "      <td>2019-05-28</td>\n",
       "      <td>NaN</td>\n",
       "    </tr>\n",
       "    <tr>\n",
       "      <th>14033</th>\n",
       "      <td>2232878</td>\n",
       "      <td>TOYOTA</td>\n",
       "      <td>CAMRY</td>\n",
       "      <td>2.0 G</td>\n",
       "      <td>ปี06-12</td>\n",
       "      <td>2011.0</td>\n",
       "      <td>สีเทา</td>\n",
       "      <td>เกียร์ออโต้</td>\n",
       "      <td>NaN</td>\n",
       "      <td>530,000</td>\n",
       "      <td>NaN</td>\n",
       "      <td>1,299,000</td>\n",
       "      <td>รถศูนย์ TOYOTA CAMRY 2.0 G ปี 2011\\nรถศูนย์ สภ...</td>\n",
       "      <td>ปทุมธานี</td>\n",
       "      <td>1469.0</td>\n",
       "      <td>2019-05-28</td>\n",
       "      <td>NaN</td>\n",
       "    </tr>\n",
       "    <tr>\n",
       "      <th>14034</th>\n",
       "      <td>2232879</td>\n",
       "      <td>TOYOTA</td>\n",
       "      <td>CAMRY</td>\n",
       "      <td>2.4 HYBRID</td>\n",
       "      <td>ปี06-12</td>\n",
       "      <td>2010.0</td>\n",
       "      <td>สีขาว</td>\n",
       "      <td>เกียร์ออโต้</td>\n",
       "      <td>NaN</td>\n",
       "      <td>435,000</td>\n",
       "      <td>NaN</td>\n",
       "      <td>NaN</td>\n",
       "      <td>Camry Hybrid วิ่งน้อย เช็ค0ทุกระยะ สภาพใหม่กิ๊...</td>\n",
       "      <td>กรุงเทพฯ</td>\n",
       "      <td>1469.0</td>\n",
       "      <td>2019-05-28</td>\n",
       "      <td>NaN</td>\n",
       "    </tr>\n",
       "    <tr>\n",
       "      <th>14035</th>\n",
       "      <td>2232880</td>\n",
       "      <td>HONDA</td>\n",
       "      <td>JAZZ</td>\n",
       "      <td>1.5 S</td>\n",
       "      <td>แรก</td>\n",
       "      <td>2006.0</td>\n",
       "      <td>สีขาว</td>\n",
       "      <td>เกียร์ออโต้</td>\n",
       "      <td>NaN</td>\n",
       "      <td>168,000</td>\n",
       "      <td>NaN</td>\n",
       "      <td>NaN</td>\n",
       "      <td>Honda Jazz ปี2006  เกียร์auto  ขาย 168000 บ.\\n...</td>\n",
       "      <td>กรุงเทพฯ</td>\n",
       "      <td>825.0</td>\n",
       "      <td>2019-05-28</td>\n",
       "      <td>NaN</td>\n",
       "    </tr>\n",
       "    <tr>\n",
       "      <th>14036</th>\n",
       "      <td>2232881</td>\n",
       "      <td>HONDA</td>\n",
       "      <td>CIVIC</td>\n",
       "      <td>1.5 TURBO RS</td>\n",
       "      <td>FC ปี16-ปัจจุบัน</td>\n",
       "      <td>2016.0</td>\n",
       "      <td>สีเทา</td>\n",
       "      <td>เกียร์ออโต้</td>\n",
       "      <td>NaN</td>\n",
       "      <td>976,000</td>\n",
       "      <td>NaN</td>\n",
       "      <td>1,190,000</td>\n",
       "      <td>1.5 Turbo RS Topสุด โฉม FC ยังมีวารันตีศูนย์ ไ...</td>\n",
       "      <td>กรุงเทพฯ</td>\n",
       "      <td>1147.0</td>\n",
       "      <td>2019-05-28</td>\n",
       "      <td>NaN</td>\n",
       "    </tr>\n",
       "  </tbody>\n",
       "</table>\n",
       "</div>"
      ],
      "text/plain": [
       "            id   brand series  ... subscribers scraped_date  removed_date\n",
       "14032  2232877   HONDA  CIVIC  ...      1614.0   2019-05-28           NaN\n",
       "14033  2232878  TOYOTA  CAMRY  ...      1469.0   2019-05-28           NaN\n",
       "14034  2232879  TOYOTA  CAMRY  ...      1469.0   2019-05-28           NaN\n",
       "14035  2232880   HONDA   JAZZ  ...       825.0   2019-05-28           NaN\n",
       "14036  2232881   HONDA  CIVIC  ...      1147.0   2019-05-28           NaN\n",
       "\n",
       "[5 rows x 17 columns]"
      ]
     },
     "execution_count": 13,
     "metadata": {
      "tags": []
     },
     "output_type": "execute_result"
    }
   ],
   "source": [
    "df.tail()"
   ]
  },
  {
   "cell_type": "code",
   "execution_count": 14,
   "metadata": {
    "colab": {
     "base_uri": "https://localhost:8080/",
     "height": 168
    },
    "id": "lxvZb4GKbnHP",
    "outputId": "65ecf6c0-cfd6-4b25-e7a2-ad9c5230ab06"
   },
   "outputs": [
    {
     "data": {
      "text/html": [
       "<div>\n",
       "<style scoped>\n",
       "    .dataframe tbody tr th:only-of-type {\n",
       "        vertical-align: middle;\n",
       "    }\n",
       "\n",
       "    .dataframe tbody tr th {\n",
       "        vertical-align: top;\n",
       "    }\n",
       "\n",
       "    .dataframe thead th {\n",
       "        text-align: right;\n",
       "    }\n",
       "</style>\n",
       "<table border=\"1\" class=\"dataframe\">\n",
       "  <thead>\n",
       "    <tr style=\"text-align: right;\">\n",
       "      <th></th>\n",
       "      <th>id</th>\n",
       "      <th>brand</th>\n",
       "      <th>series</th>\n",
       "      <th>model</th>\n",
       "      <th>gen</th>\n",
       "      <th>year</th>\n",
       "      <th>color</th>\n",
       "      <th>gear</th>\n",
       "      <th>gas</th>\n",
       "      <th>sales_price</th>\n",
       "      <th>original_price</th>\n",
       "      <th>market_price</th>\n",
       "      <th>description</th>\n",
       "      <th>contact_location</th>\n",
       "      <th>subscribers</th>\n",
       "      <th>scraped_date</th>\n",
       "      <th>removed_date</th>\n",
       "    </tr>\n",
       "  </thead>\n",
       "  <tbody>\n",
       "    <tr>\n",
       "      <th>7931</th>\n",
       "      <td>2225896</td>\n",
       "      <td>TOYOTA</td>\n",
       "      <td>FORTUNER</td>\n",
       "      <td>2.7 V</td>\n",
       "      <td>ปี12-15</td>\n",
       "      <td>2013.0</td>\n",
       "      <td>สีดำ</td>\n",
       "      <td>เกียร์ออโต้</td>\n",
       "      <td>NaN</td>\n",
       "      <td>699,000</td>\n",
       "      <td>NaN</td>\n",
       "      <td>1,268,000</td>\n",
       "      <td>TOYOTA FORTUNER 2.7 V NAVI 2013\\nรับประกันสุดพ...</td>\n",
       "      <td>กรุงเทพฯ</td>\n",
       "      <td>1254.0</td>\n",
       "      <td>2019-05-22</td>\n",
       "      <td>NaN</td>\n",
       "    </tr>\n",
       "  </tbody>\n",
       "</table>\n",
       "</div>"
      ],
      "text/plain": [
       "           id   brand    series  ... subscribers scraped_date  removed_date\n",
       "7931  2225896  TOYOTA  FORTUNER  ...      1254.0   2019-05-22           NaN\n",
       "\n",
       "[1 rows x 17 columns]"
      ]
     },
     "execution_count": 14,
     "metadata": {
      "tags": []
     },
     "output_type": "execute_result"
    }
   ],
   "source": [
    "df.sample()"
   ]
  },
  {
   "cell_type": "code",
   "execution_count": 15,
   "metadata": {
    "colab": {
     "base_uri": "https://localhost:8080/"
    },
    "id": "-lXGsCEwp1xl",
    "outputId": "94b330ee-d5d7-4603-e36c-46143827fac3"
   },
   "outputs": [
    {
     "name": "stdout",
     "output_type": "stream",
     "text": [
      "<class 'pandas.core.frame.DataFrame'>\n",
      "RangeIndex: 14037 entries, 0 to 14036\n",
      "Data columns (total 17 columns):\n",
      " #   Column            Non-Null Count  Dtype  \n",
      "---  ------            --------------  -----  \n",
      " 0   id                14037 non-null  int64  \n",
      " 1   brand             14037 non-null  object \n",
      " 2   series            14037 non-null  object \n",
      " 3   model             14037 non-null  object \n",
      " 4   gen               14037 non-null  object \n",
      " 5   year              14037 non-null  float64\n",
      " 6   color             14037 non-null  object \n",
      " 7   gear              14037 non-null  object \n",
      " 8   gas               891 non-null    object \n",
      " 9   sales_price       14037 non-null  object \n",
      " 10  original_price    121 non-null    object \n",
      " 11  market_price      6153 non-null   object \n",
      " 12  description       14037 non-null  object \n",
      " 13  contact_location  14037 non-null  object \n",
      " 14  subscribers       14028 non-null  float64\n",
      " 15  scraped_date      14037 non-null  object \n",
      " 16  removed_date      1590 non-null   object \n",
      "dtypes: float64(2), int64(1), object(14)\n",
      "memory usage: 1.8+ MB\n"
     ]
    }
   ],
   "source": [
    "df.info()"
   ]
  },
  {
   "cell_type": "markdown",
   "metadata": {
    "id": "dBTbbUx7SJHY"
   },
   "source": [
    "## Selection by position or label"
   ]
  },
  {
   "cell_type": "markdown",
   "metadata": {
    "id": "-_ElLK0RfX6o"
   },
   "source": [
    "### Getting\n",
    "\n",
    "เลือก 1 element"
   ]
  },
  {
   "cell_type": "code",
   "execution_count": 16,
   "metadata": {
    "colab": {
     "base_uri": "https://localhost:8080/"
    },
    "id": "m_Yp43z2fgr3",
    "outputId": "44c5e739-3797-433a-c046-802a3be271a5"
   },
   "outputs": [
    {
     "data": {
      "text/plain": [
       "1"
      ]
     },
     "execution_count": 16,
     "metadata": {
      "tags": []
     },
     "output_type": "execute_result"
    }
   ],
   "source": [
    "ser[0]"
   ]
  },
  {
   "cell_type": "markdown",
   "metadata": {
    "id": "O9t5HM_wfmM5"
   },
   "source": [
    "เลือก subset ของ DataFrame"
   ]
  },
  {
   "cell_type": "code",
   "execution_count": 17,
   "metadata": {
    "colab": {
     "base_uri": "https://localhost:8080/",
     "height": 233
    },
    "id": "jp8-5y8Rflqx",
    "outputId": "b677c923-78a8-432d-f7d0-6ce2d6a18def"
   },
   "outputs": [
    {
     "data": {
      "text/html": [
       "<div>\n",
       "<style scoped>\n",
       "    .dataframe tbody tr th:only-of-type {\n",
       "        vertical-align: middle;\n",
       "    }\n",
       "\n",
       "    .dataframe tbody tr th {\n",
       "        vertical-align: top;\n",
       "    }\n",
       "\n",
       "    .dataframe thead th {\n",
       "        text-align: right;\n",
       "    }\n",
       "</style>\n",
       "<table border=\"1\" class=\"dataframe\">\n",
       "  <thead>\n",
       "    <tr style=\"text-align: right;\">\n",
       "      <th></th>\n",
       "      <th>id</th>\n",
       "      <th>brand</th>\n",
       "      <th>series</th>\n",
       "      <th>model</th>\n",
       "      <th>gen</th>\n",
       "      <th>year</th>\n",
       "      <th>color</th>\n",
       "      <th>gear</th>\n",
       "      <th>gas</th>\n",
       "      <th>sales_price</th>\n",
       "      <th>original_price</th>\n",
       "      <th>market_price</th>\n",
       "      <th>description</th>\n",
       "      <th>contact_location</th>\n",
       "      <th>subscribers</th>\n",
       "      <th>scraped_date</th>\n",
       "      <th>removed_date</th>\n",
       "    </tr>\n",
       "  </thead>\n",
       "  <tbody>\n",
       "    <tr>\n",
       "      <th>1</th>\n",
       "      <td>2210001</td>\n",
       "      <td>TOYOTA</td>\n",
       "      <td>ESTIMA</td>\n",
       "      <td>2.4 G HYBRID</td>\n",
       "      <td>ปี10-ปัจจุบัน</td>\n",
       "      <td>2013.0</td>\n",
       "      <td>สีขาว</td>\n",
       "      <td>เกียร์ออโต้</td>\n",
       "      <td>NaN</td>\n",
       "      <td>1,677,000</td>\n",
       "      <td>NaN</td>\n",
       "      <td>3,050,000</td>\n",
       "      <td>TOPสุด Estima Aeras Hybrid รถเข้าเซอร์วิส TOYO...</td>\n",
       "      <td>กรุงเทพฯ</td>\n",
       "      <td>182.0</td>\n",
       "      <td>2019-05-22</td>\n",
       "      <td>NaN</td>\n",
       "    </tr>\n",
       "    <tr>\n",
       "      <th>2</th>\n",
       "      <td>2210009</td>\n",
       "      <td>HONDA</td>\n",
       "      <td>JAZZ</td>\n",
       "      <td>1.5 i-VTEC V (AS)</td>\n",
       "      <td>ปี08-13</td>\n",
       "      <td>2008.0</td>\n",
       "      <td>สีน้ำเงิน</td>\n",
       "      <td>เกียร์ออโต้</td>\n",
       "      <td>NaN</td>\n",
       "      <td>338,000</td>\n",
       "      <td>NaN</td>\n",
       "      <td>NaN</td>\n",
       "      <td>เครดิดีออกรถ10,000จบครับ\\nรับประกันเครื่องเกีย...</td>\n",
       "      <td>กรุงเทพฯ</td>\n",
       "      <td>1047.0</td>\n",
       "      <td>2019-05-22</td>\n",
       "      <td>NaN</td>\n",
       "    </tr>\n",
       "  </tbody>\n",
       "</table>\n",
       "</div>"
      ],
      "text/plain": [
       "        id   brand  series  ... subscribers scraped_date  removed_date\n",
       "1  2210001  TOYOTA  ESTIMA  ...       182.0   2019-05-22           NaN\n",
       "2  2210009   HONDA    JAZZ  ...      1047.0   2019-05-22           NaN\n",
       "\n",
       "[2 rows x 17 columns]"
      ]
     },
     "execution_count": 17,
     "metadata": {
      "tags": []
     },
     "output_type": "execute_result"
    }
   ],
   "source": [
    "df[1:3]"
   ]
  },
  {
   "cell_type": "markdown",
   "metadata": {
    "id": "egcdWPXmgLBv"
   },
   "source": [
    "### Selecting\n",
    "\n",
    "เลือกโดย Position: เป็นการเลือก single value โดยแถวและคอลัมน์"
   ]
  },
  {
   "cell_type": "code",
   "execution_count": 18,
   "metadata": {
    "colab": {
     "base_uri": "https://localhost:8080/",
     "height": 35
    },
    "id": "2I65TU1Ngfs1",
    "outputId": "0230fb4d-1087-4ef9-e5f5-4100532caff8"
   },
   "outputs": [
    {
     "data": {
      "application/vnd.google.colaboratory.intrinsic+json": {
       "type": "string"
      },
      "text/plain": [
       "'HONDA'"
      ]
     },
     "execution_count": 18,
     "metadata": {
      "tags": []
     },
     "output_type": "execute_result"
    }
   ],
   "source": [
    "df.iloc[0, 1]"
   ]
  },
  {
   "cell_type": "code",
   "execution_count": 19,
   "metadata": {
    "colab": {
     "base_uri": "https://localhost:8080/",
     "height": 35
    },
    "id": "puYk7bExgncq",
    "outputId": "f8d03e7d-1229-41a1-c67c-0942ed87f368"
   },
   "outputs": [
    {
     "data": {
      "application/vnd.google.colaboratory.intrinsic+json": {
       "type": "string"
      },
      "text/plain": [
       "'HONDA'"
      ]
     },
     "execution_count": 19,
     "metadata": {
      "tags": []
     },
     "output_type": "execute_result"
    }
   ],
   "source": [
    "df.iat[0, 1]"
   ]
  },
  {
   "cell_type": "markdown",
   "metadata": {
    "id": "Fgiola8og8ov"
   },
   "source": [
    "เลือกโดย Label: เป็นการเลือก single value โดยแถวและคอลัมน์จาก labels"
   ]
  },
  {
   "cell_type": "code",
   "execution_count": 20,
   "metadata": {
    "colab": {
     "base_uri": "https://localhost:8080/",
     "height": 35
    },
    "id": "7g9YkEmAhNa7",
    "outputId": "9a8e0671-0749-4f38-dfcb-70d15b9719f6"
   },
   "outputs": [
    {
     "data": {
      "application/vnd.google.colaboratory.intrinsic+json": {
       "type": "string"
      },
      "text/plain": [
       "'HONDA'"
      ]
     },
     "execution_count": 20,
     "metadata": {
      "tags": []
     },
     "output_type": "execute_result"
    }
   ],
   "source": [
    "df.loc[0, 'brand']"
   ]
  },
  {
   "cell_type": "code",
   "execution_count": 21,
   "metadata": {
    "colab": {
     "base_uri": "https://localhost:8080/",
     "height": 35
    },
    "id": "becNjNJ2hRAp",
    "outputId": "39a4ba25-2b75-4be8-dbc8-ab378175c405"
   },
   "outputs": [
    {
     "data": {
      "application/vnd.google.colaboratory.intrinsic+json": {
       "type": "string"
      },
      "text/plain": [
       "'HONDA'"
      ]
     },
     "execution_count": 21,
     "metadata": {
      "tags": []
     },
     "output_type": "execute_result"
    }
   ],
   "source": [
    "df.at[0, 'brand']"
   ]
  },
  {
   "cell_type": "markdown",
   "metadata": {
    "id": "OVx-3ppypDBA"
   },
   "source": [
    "เลือก subset ของ DataFrame"
   ]
  },
  {
   "cell_type": "code",
   "execution_count": 22,
   "metadata": {
    "colab": {
     "base_uri": "https://localhost:8080/"
    },
    "id": "gnVBrsVbRJpj",
    "outputId": "39c5d58b-151b-49c0-eecc-00df1aefc49d"
   },
   "outputs": [
    {
     "data": {
      "text/plain": [
       "id                                                            2210000\n",
       "brand                                                           HONDA\n",
       "series                                                           JAZZ\n",
       "model                                              1.5 i-VTEC SV (AS)\n",
       "gen                                                           ปี08-13\n",
       "year                                                             2014\n",
       "color                                                           สีขาว\n",
       "gear                                                      เกียร์ออโต้\n",
       "gas                                                               NaN\n",
       "sales_price                                                   488,000\n",
       "original_price                                                    NaN\n",
       "market_price                                                      NaN\n",
       "description         เครดิตดีออกรถ10,000จบครับ\\nรับประกันเครื่องเกี...\n",
       "contact_location                                             กรุงเทพฯ\n",
       "subscribers                                                      1047\n",
       "scraped_date                                               2019-05-22\n",
       "removed_date                                                      NaN\n",
       "Name: 0, dtype: object"
      ]
     },
     "execution_count": 22,
     "metadata": {
      "tags": []
     },
     "output_type": "execute_result"
    }
   ],
   "source": [
    "df.iloc[0]"
   ]
  },
  {
   "cell_type": "code",
   "execution_count": 23,
   "metadata": {
    "colab": {
     "base_uri": "https://localhost:8080/",
     "height": 111
    },
    "id": "iAixTmE4SUQ3",
    "outputId": "fd3a41c1-0a35-4412-c1da-4a88e5ae3690"
   },
   "outputs": [
    {
     "data": {
      "text/html": [
       "<div>\n",
       "<style scoped>\n",
       "    .dataframe tbody tr th:only-of-type {\n",
       "        vertical-align: middle;\n",
       "    }\n",
       "\n",
       "    .dataframe tbody tr th {\n",
       "        vertical-align: top;\n",
       "    }\n",
       "\n",
       "    .dataframe thead th {\n",
       "        text-align: right;\n",
       "    }\n",
       "</style>\n",
       "<table border=\"1\" class=\"dataframe\">\n",
       "  <thead>\n",
       "    <tr style=\"text-align: right;\">\n",
       "      <th></th>\n",
       "      <th>id</th>\n",
       "      <th>brand</th>\n",
       "    </tr>\n",
       "  </thead>\n",
       "  <tbody>\n",
       "    <tr>\n",
       "      <th>0</th>\n",
       "      <td>2210000</td>\n",
       "      <td>HONDA</td>\n",
       "    </tr>\n",
       "    <tr>\n",
       "      <th>1</th>\n",
       "      <td>2210001</td>\n",
       "      <td>TOYOTA</td>\n",
       "    </tr>\n",
       "  </tbody>\n",
       "</table>\n",
       "</div>"
      ],
      "text/plain": [
       "        id   brand\n",
       "0  2210000   HONDA\n",
       "1  2210001  TOYOTA"
      ]
     },
     "execution_count": 23,
     "metadata": {
      "tags": []
     },
     "output_type": "execute_result"
    }
   ],
   "source": [
    "df.iloc[0:2, 0:2]"
   ]
  },
  {
   "cell_type": "code",
   "execution_count": 24,
   "metadata": {
    "colab": {
     "base_uri": "https://localhost:8080/",
     "height": 111
    },
    "id": "sgf1dURmSSay",
    "outputId": "7a99492a-6962-4c63-e633-4ca80cb630f5"
   },
   "outputs": [
    {
     "data": {
      "text/html": [
       "<div>\n",
       "<style scoped>\n",
       "    .dataframe tbody tr th:only-of-type {\n",
       "        vertical-align: middle;\n",
       "    }\n",
       "\n",
       "    .dataframe tbody tr th {\n",
       "        vertical-align: top;\n",
       "    }\n",
       "\n",
       "    .dataframe thead th {\n",
       "        text-align: right;\n",
       "    }\n",
       "</style>\n",
       "<table border=\"1\" class=\"dataframe\">\n",
       "  <thead>\n",
       "    <tr style=\"text-align: right;\">\n",
       "      <th></th>\n",
       "      <th>id</th>\n",
       "      <th>brand</th>\n",
       "    </tr>\n",
       "  </thead>\n",
       "  <tbody>\n",
       "    <tr>\n",
       "      <th>0</th>\n",
       "      <td>2210000</td>\n",
       "      <td>HONDA</td>\n",
       "    </tr>\n",
       "    <tr>\n",
       "      <th>1</th>\n",
       "      <td>2210001</td>\n",
       "      <td>TOYOTA</td>\n",
       "    </tr>\n",
       "  </tbody>\n",
       "</table>\n",
       "</div>"
      ],
      "text/plain": [
       "        id   brand\n",
       "0  2210000   HONDA\n",
       "1  2210001  TOYOTA"
      ]
     },
     "execution_count": 24,
     "metadata": {
      "tags": []
     },
     "output_type": "execute_result"
    }
   ],
   "source": [
    "df.iloc[[0, 1], [0, 1]]"
   ]
  },
  {
   "cell_type": "code",
   "execution_count": 25,
   "metadata": {
    "colab": {
     "base_uri": "https://localhost:8080/"
    },
    "id": "Ba3rx6omSghi",
    "outputId": "d7b11c18-324a-436b-f1ff-a569f7a68284"
   },
   "outputs": [
    {
     "data": {
      "text/plain": [
       "id                                                            2210000\n",
       "brand                                                           HONDA\n",
       "series                                                           JAZZ\n",
       "model                                              1.5 i-VTEC SV (AS)\n",
       "gen                                                           ปี08-13\n",
       "year                                                             2014\n",
       "color                                                           สีขาว\n",
       "gear                                                      เกียร์ออโต้\n",
       "gas                                                               NaN\n",
       "sales_price                                                   488,000\n",
       "original_price                                                    NaN\n",
       "market_price                                                      NaN\n",
       "description         เครดิตดีออกรถ10,000จบครับ\\nรับประกันเครื่องเกี...\n",
       "contact_location                                             กรุงเทพฯ\n",
       "subscribers                                                      1047\n",
       "scraped_date                                               2019-05-22\n",
       "removed_date                                                      NaN\n",
       "Name: 0, dtype: object"
      ]
     },
     "execution_count": 25,
     "metadata": {
      "tags": []
     },
     "output_type": "execute_result"
    }
   ],
   "source": [
    "df.loc[0]"
   ]
  },
  {
   "cell_type": "code",
   "execution_count": 26,
   "metadata": {
    "colab": {
     "base_uri": "https://localhost:8080/",
     "height": 142
    },
    "id": "dHGp55C2TBVr",
    "outputId": "59a9530a-f693-4abe-b7f8-cae639ac6e42"
   },
   "outputs": [
    {
     "data": {
      "text/html": [
       "<div>\n",
       "<style scoped>\n",
       "    .dataframe tbody tr th:only-of-type {\n",
       "        vertical-align: middle;\n",
       "    }\n",
       "\n",
       "    .dataframe tbody tr th {\n",
       "        vertical-align: top;\n",
       "    }\n",
       "\n",
       "    .dataframe thead th {\n",
       "        text-align: right;\n",
       "    }\n",
       "</style>\n",
       "<table border=\"1\" class=\"dataframe\">\n",
       "  <thead>\n",
       "    <tr style=\"text-align: right;\">\n",
       "      <th></th>\n",
       "      <th>id</th>\n",
       "      <th>brand</th>\n",
       "    </tr>\n",
       "  </thead>\n",
       "  <tbody>\n",
       "    <tr>\n",
       "      <th>0</th>\n",
       "      <td>2210000</td>\n",
       "      <td>HONDA</td>\n",
       "    </tr>\n",
       "    <tr>\n",
       "      <th>1</th>\n",
       "      <td>2210001</td>\n",
       "      <td>TOYOTA</td>\n",
       "    </tr>\n",
       "    <tr>\n",
       "      <th>2</th>\n",
       "      <td>2210009</td>\n",
       "      <td>HONDA</td>\n",
       "    </tr>\n",
       "  </tbody>\n",
       "</table>\n",
       "</div>"
      ],
      "text/plain": [
       "        id   brand\n",
       "0  2210000   HONDA\n",
       "1  2210001  TOYOTA\n",
       "2  2210009   HONDA"
      ]
     },
     "execution_count": 26,
     "metadata": {
      "tags": []
     },
     "output_type": "execute_result"
    }
   ],
   "source": [
    "df.loc[0:2, \"id\":\"brand\"]"
   ]
  },
  {
   "cell_type": "code",
   "execution_count": 27,
   "metadata": {
    "colab": {
     "base_uri": "https://localhost:8080/",
     "height": 111
    },
    "id": "HtQ6NEf3p05C",
    "outputId": "4fab1c2a-f8f7-4e42-c84a-9474e95aa89b"
   },
   "outputs": [
    {
     "data": {
      "text/html": [
       "<div>\n",
       "<style scoped>\n",
       "    .dataframe tbody tr th:only-of-type {\n",
       "        vertical-align: middle;\n",
       "    }\n",
       "\n",
       "    .dataframe tbody tr th {\n",
       "        vertical-align: top;\n",
       "    }\n",
       "\n",
       "    .dataframe thead th {\n",
       "        text-align: right;\n",
       "    }\n",
       "</style>\n",
       "<table border=\"1\" class=\"dataframe\">\n",
       "  <thead>\n",
       "    <tr style=\"text-align: right;\">\n",
       "      <th></th>\n",
       "      <th>id</th>\n",
       "      <th>brand</th>\n",
       "    </tr>\n",
       "  </thead>\n",
       "  <tbody>\n",
       "    <tr>\n",
       "      <th>0</th>\n",
       "      <td>2210000</td>\n",
       "      <td>HONDA</td>\n",
       "    </tr>\n",
       "    <tr>\n",
       "      <th>1</th>\n",
       "      <td>2210001</td>\n",
       "      <td>TOYOTA</td>\n",
       "    </tr>\n",
       "  </tbody>\n",
       "</table>\n",
       "</div>"
      ],
      "text/plain": [
       "        id   brand\n",
       "0  2210000   HONDA\n",
       "1  2210001  TOYOTA"
      ]
     },
     "execution_count": 27,
     "metadata": {
      "tags": []
     },
     "output_type": "execute_result"
    }
   ],
   "source": [
    "df.loc[[0, 1], [\"id\", \"brand\"]]"
   ]
  },
  {
   "cell_type": "markdown",
   "metadata": {
    "id": "oU9vW7PVqEmd"
   },
   "source": [
    "### Boolean Indexing\n",
    "\n",
    "Series `ser` ที่มีค่าเท่ากับ 2"
   ]
  },
  {
   "cell_type": "code",
   "execution_count": 28,
   "metadata": {
    "colab": {
     "base_uri": "https://localhost:8080/"
    },
    "id": "O9wo3AwUqDqX",
    "outputId": "a973a6be-8b70-45dc-e257-1c4b91b272b5"
   },
   "outputs": [
    {
     "data": {
      "text/plain": [
       "1    2\n",
       "dtype: int64"
      ]
     },
     "execution_count": 28,
     "metadata": {
      "tags": []
     },
     "output_type": "execute_result"
    }
   ],
   "source": [
    "ser[ser == 2]"
   ]
  },
  {
   "cell_type": "markdown",
   "metadata": {
    "id": "e8Ch_XPNtAeb"
   },
   "source": [
    "Series `ser` ที่มีค่าน้อยกว่า 3"
   ]
  },
  {
   "cell_type": "code",
   "execution_count": 29,
   "metadata": {
    "colab": {
     "base_uri": "https://localhost:8080/"
    },
    "id": "IHm91F4KtFsH",
    "outputId": "2527141e-dbd8-4ca8-9ddc-e79201db21c7"
   },
   "outputs": [
    {
     "data": {
      "text/plain": [
       "0    1\n",
       "1    2\n",
       "dtype: int64"
      ]
     },
     "execution_count": 29,
     "metadata": {
      "tags": []
     },
     "output_type": "execute_result"
    }
   ],
   "source": [
    "ser[ser < 3]"
   ]
  },
  {
   "cell_type": "markdown",
   "metadata": {
    "id": "P1UjXZtgtKHf"
   },
   "source": [
    "รถยนต์ยี่ห้อ HONDA"
   ]
  },
  {
   "cell_type": "code",
   "execution_count": 30,
   "metadata": {
    "colab": {
     "base_uri": "https://localhost:8080/",
     "height": 983
    },
    "id": "RhaodTnwtKcN",
    "outputId": "53fdac46-8d3e-455b-83e5-ed37a5944367"
   },
   "outputs": [
    {
     "data": {
      "text/html": [
       "<div>\n",
       "<style scoped>\n",
       "    .dataframe tbody tr th:only-of-type {\n",
       "        vertical-align: middle;\n",
       "    }\n",
       "\n",
       "    .dataframe tbody tr th {\n",
       "        vertical-align: top;\n",
       "    }\n",
       "\n",
       "    .dataframe thead th {\n",
       "        text-align: right;\n",
       "    }\n",
       "</style>\n",
       "<table border=\"1\" class=\"dataframe\">\n",
       "  <thead>\n",
       "    <tr style=\"text-align: right;\">\n",
       "      <th></th>\n",
       "      <th>id</th>\n",
       "      <th>brand</th>\n",
       "      <th>series</th>\n",
       "      <th>model</th>\n",
       "      <th>gen</th>\n",
       "      <th>year</th>\n",
       "      <th>color</th>\n",
       "      <th>gear</th>\n",
       "      <th>gas</th>\n",
       "      <th>sales_price</th>\n",
       "      <th>original_price</th>\n",
       "      <th>market_price</th>\n",
       "      <th>description</th>\n",
       "      <th>contact_location</th>\n",
       "      <th>subscribers</th>\n",
       "      <th>scraped_date</th>\n",
       "      <th>removed_date</th>\n",
       "    </tr>\n",
       "  </thead>\n",
       "  <tbody>\n",
       "    <tr>\n",
       "      <th>0</th>\n",
       "      <td>2210000</td>\n",
       "      <td>HONDA</td>\n",
       "      <td>JAZZ</td>\n",
       "      <td>1.5 i-VTEC SV (AS)</td>\n",
       "      <td>ปี08-13</td>\n",
       "      <td>2014.0</td>\n",
       "      <td>สีขาว</td>\n",
       "      <td>เกียร์ออโต้</td>\n",
       "      <td>NaN</td>\n",
       "      <td>488,000</td>\n",
       "      <td>NaN</td>\n",
       "      <td>NaN</td>\n",
       "      <td>เครดิตดีออกรถ10,000จบครับ\\nรับประกันเครื่องเกี...</td>\n",
       "      <td>กรุงเทพฯ</td>\n",
       "      <td>1047.0</td>\n",
       "      <td>2019-05-22</td>\n",
       "      <td>NaN</td>\n",
       "    </tr>\n",
       "    <tr>\n",
       "      <th>2</th>\n",
       "      <td>2210009</td>\n",
       "      <td>HONDA</td>\n",
       "      <td>JAZZ</td>\n",
       "      <td>1.5 i-VTEC V (AS)</td>\n",
       "      <td>ปี08-13</td>\n",
       "      <td>2008.0</td>\n",
       "      <td>สีน้ำเงิน</td>\n",
       "      <td>เกียร์ออโต้</td>\n",
       "      <td>NaN</td>\n",
       "      <td>338,000</td>\n",
       "      <td>NaN</td>\n",
       "      <td>NaN</td>\n",
       "      <td>เครดิดีออกรถ10,000จบครับ\\nรับประกันเครื่องเกีย...</td>\n",
       "      <td>กรุงเทพฯ</td>\n",
       "      <td>1047.0</td>\n",
       "      <td>2019-05-22</td>\n",
       "      <td>NaN</td>\n",
       "    </tr>\n",
       "    <tr>\n",
       "      <th>8</th>\n",
       "      <td>2210029</td>\n",
       "      <td>HONDA</td>\n",
       "      <td>ACCORD</td>\n",
       "      <td>2.4 EL i-VTEC</td>\n",
       "      <td>ปี08-13</td>\n",
       "      <td>2008.0</td>\n",
       "      <td>สีเทา</td>\n",
       "      <td>เกียร์ออโต้</td>\n",
       "      <td>NaN</td>\n",
       "      <td>399,000</td>\n",
       "      <td>NaN</td>\n",
       "      <td>NaN</td>\n",
       "      <td>เครื่อง2.4 EL ระบบไฟฟ้า AIRBAG 8 ใบ เครดิตดีใช...</td>\n",
       "      <td>ชลบุรี</td>\n",
       "      <td>1058.0</td>\n",
       "      <td>2019-05-22</td>\n",
       "      <td>NaN</td>\n",
       "    </tr>\n",
       "    <tr>\n",
       "      <th>18</th>\n",
       "      <td>2210053</td>\n",
       "      <td>HONDA</td>\n",
       "      <td>CITY</td>\n",
       "      <td>1.5 V i-VTEC (ABS)</td>\n",
       "      <td>ปี08-13</td>\n",
       "      <td>2013.0</td>\n",
       "      <td>สีขาว</td>\n",
       "      <td>เกียร์ออโต้</td>\n",
       "      <td>NaN</td>\n",
       "      <td>365,000</td>\n",
       "      <td>NaN</td>\n",
       "      <td>NaN</td>\n",
       "      <td>Honda city 1.5 V (AT) ปี2013\\nห้องโดยสารสีเบจ ...</td>\n",
       "      <td>กรุงเทพฯ</td>\n",
       "      <td>1008.0</td>\n",
       "      <td>2019-05-22</td>\n",
       "      <td>NaN</td>\n",
       "    </tr>\n",
       "    <tr>\n",
       "      <th>23</th>\n",
       "      <td>2210066</td>\n",
       "      <td>HONDA</td>\n",
       "      <td>JAZZ</td>\n",
       "      <td>1.5 i-VTEC S</td>\n",
       "      <td>ปี08-13</td>\n",
       "      <td>2010.0</td>\n",
       "      <td>สีขาว</td>\n",
       "      <td>เกียร์ธรรมดา</td>\n",
       "      <td>NaN</td>\n",
       "      <td>275,000</td>\n",
       "      <td>NaN</td>\n",
       "      <td>NaN</td>\n",
       "      <td>Jazz 1.5 s MT ivtec มือเดียว\\n #sale275000฿ Ho...</td>\n",
       "      <td>ปราจีนบุรี</td>\n",
       "      <td>1047.0</td>\n",
       "      <td>2019-05-22</td>\n",
       "      <td>NaN</td>\n",
       "    </tr>\n",
       "    <tr>\n",
       "      <th>...</th>\n",
       "      <td>...</td>\n",
       "      <td>...</td>\n",
       "      <td>...</td>\n",
       "      <td>...</td>\n",
       "      <td>...</td>\n",
       "      <td>...</td>\n",
       "      <td>...</td>\n",
       "      <td>...</td>\n",
       "      <td>...</td>\n",
       "      <td>...</td>\n",
       "      <td>...</td>\n",
       "      <td>...</td>\n",
       "      <td>...</td>\n",
       "      <td>...</td>\n",
       "      <td>...</td>\n",
       "      <td>...</td>\n",
       "      <td>...</td>\n",
       "    </tr>\n",
       "    <tr>\n",
       "      <th>14005</th>\n",
       "      <td>2232850</td>\n",
       "      <td>HONDA</td>\n",
       "      <td>CITY</td>\n",
       "      <td>ZX 1.5 A i-DSI</td>\n",
       "      <td>ZX ปี06-08</td>\n",
       "      <td>2008.0</td>\n",
       "      <td>สีบรอนซ์เงิน</td>\n",
       "      <td>เกียร์ออโต้</td>\n",
       "      <td>LPG</td>\n",
       "      <td>178,000</td>\n",
       "      <td>NaN</td>\n",
       "      <td>NaN</td>\n",
       "      <td>ไมล์แท้ 120,000 km. แท้ๆ มือเดียวป้ายแดง รถสวย...</td>\n",
       "      <td>ปทุมธานี</td>\n",
       "      <td>564.0</td>\n",
       "      <td>2019-05-28</td>\n",
       "      <td>NaN</td>\n",
       "    </tr>\n",
       "    <tr>\n",
       "      <th>14008</th>\n",
       "      <td>2232853</td>\n",
       "      <td>HONDA</td>\n",
       "      <td>CRV</td>\n",
       "      <td>1.6 EL</td>\n",
       "      <td>ปี17-ปัจจุบัน</td>\n",
       "      <td>2017.0</td>\n",
       "      <td>สีเทา</td>\n",
       "      <td>เกียร์ออโต้</td>\n",
       "      <td>NaN</td>\n",
       "      <td>1,398,000</td>\n",
       "      <td>NaN</td>\n",
       "      <td>1,699,000</td>\n",
       "      <td>รถบ้านมือเดียวสภาพป้ายแดง ไม่มีชน HONDA CR-V 1...</td>\n",
       "      <td>กรุงเทพฯ</td>\n",
       "      <td>423.0</td>\n",
       "      <td>2019-05-28</td>\n",
       "      <td>NaN</td>\n",
       "    </tr>\n",
       "    <tr>\n",
       "      <th>14032</th>\n",
       "      <td>2232877</td>\n",
       "      <td>HONDA</td>\n",
       "      <td>CIVIC</td>\n",
       "      <td>1.8 E</td>\n",
       "      <td>FB ปี12-15</td>\n",
       "      <td>2012.0</td>\n",
       "      <td>สีบรอนซ์เงิน</td>\n",
       "      <td>เกียร์ออโต้</td>\n",
       "      <td>NaN</td>\n",
       "      <td>428,000</td>\n",
       "      <td>NaN</td>\n",
       "      <td>NaN</td>\n",
       "      <td>2012 Honda civic FB 1.8E auto เบาะไฟฟ้า สภาพสว...</td>\n",
       "      <td>กรุงเทพฯ</td>\n",
       "      <td>1614.0</td>\n",
       "      <td>2019-05-28</td>\n",
       "      <td>NaN</td>\n",
       "    </tr>\n",
       "    <tr>\n",
       "      <th>14035</th>\n",
       "      <td>2232880</td>\n",
       "      <td>HONDA</td>\n",
       "      <td>JAZZ</td>\n",
       "      <td>1.5 S</td>\n",
       "      <td>แรก</td>\n",
       "      <td>2006.0</td>\n",
       "      <td>สีขาว</td>\n",
       "      <td>เกียร์ออโต้</td>\n",
       "      <td>NaN</td>\n",
       "      <td>168,000</td>\n",
       "      <td>NaN</td>\n",
       "      <td>NaN</td>\n",
       "      <td>Honda Jazz ปี2006  เกียร์auto  ขาย 168000 บ.\\n...</td>\n",
       "      <td>กรุงเทพฯ</td>\n",
       "      <td>825.0</td>\n",
       "      <td>2019-05-28</td>\n",
       "      <td>NaN</td>\n",
       "    </tr>\n",
       "    <tr>\n",
       "      <th>14036</th>\n",
       "      <td>2232881</td>\n",
       "      <td>HONDA</td>\n",
       "      <td>CIVIC</td>\n",
       "      <td>1.5 TURBO RS</td>\n",
       "      <td>FC ปี16-ปัจจุบัน</td>\n",
       "      <td>2016.0</td>\n",
       "      <td>สีเทา</td>\n",
       "      <td>เกียร์ออโต้</td>\n",
       "      <td>NaN</td>\n",
       "      <td>976,000</td>\n",
       "      <td>NaN</td>\n",
       "      <td>1,190,000</td>\n",
       "      <td>1.5 Turbo RS Topสุด โฉม FC ยังมีวารันตีศูนย์ ไ...</td>\n",
       "      <td>กรุงเทพฯ</td>\n",
       "      <td>1147.0</td>\n",
       "      <td>2019-05-28</td>\n",
       "      <td>NaN</td>\n",
       "    </tr>\n",
       "  </tbody>\n",
       "</table>\n",
       "<p>2252 rows × 17 columns</p>\n",
       "</div>"
      ],
      "text/plain": [
       "            id  brand  series  ... subscribers scraped_date  removed_date\n",
       "0      2210000  HONDA    JAZZ  ...      1047.0   2019-05-22           NaN\n",
       "2      2210009  HONDA    JAZZ  ...      1047.0   2019-05-22           NaN\n",
       "8      2210029  HONDA  ACCORD  ...      1058.0   2019-05-22           NaN\n",
       "18     2210053  HONDA    CITY  ...      1008.0   2019-05-22           NaN\n",
       "23     2210066  HONDA    JAZZ  ...      1047.0   2019-05-22           NaN\n",
       "...        ...    ...     ...  ...         ...          ...           ...\n",
       "14005  2232850  HONDA    CITY  ...       564.0   2019-05-28           NaN\n",
       "14008  2232853  HONDA     CRV  ...       423.0   2019-05-28           NaN\n",
       "14032  2232877  HONDA   CIVIC  ...      1614.0   2019-05-28           NaN\n",
       "14035  2232880  HONDA    JAZZ  ...       825.0   2019-05-28           NaN\n",
       "14036  2232881  HONDA   CIVIC  ...      1147.0   2019-05-28           NaN\n",
       "\n",
       "[2252 rows x 17 columns]"
      ]
     },
     "execution_count": 30,
     "metadata": {
      "tags": []
     },
     "output_type": "execute_result"
    }
   ],
   "source": [
    "df[df['brand'] == 'HONDA']"
   ]
  },
  {
   "cell_type": "markdown",
   "metadata": {
    "id": "geSkM8MiqlN1"
   },
   "source": [
    "## Aggregation\n",
    "\n",
    "การ aggregate ข้อมูลในรูปแบบต่างๆ ไม่ว่าจะเป็นการหาค่าเฉลี่ย, ค่าที่มากที่สุด, ค่าที่น้อยที่สุด รวมถึงการหาค่าที่เกิดบ่อยที่สุดและอื่นๆอีกด้วย"
   ]
  },
  {
   "cell_type": "code",
   "execution_count": 31,
   "metadata": {
    "colab": {
     "base_uri": "https://localhost:8080/",
     "height": 204
    },
    "id": "yW2yOFiXqkjZ",
    "outputId": "e871bbcb-93c6-4647-e6f6-deba78e53562"
   },
   "outputs": [
    {
     "data": {
      "text/html": [
       "<div>\n",
       "<style scoped>\n",
       "    .dataframe tbody tr th:only-of-type {\n",
       "        vertical-align: middle;\n",
       "    }\n",
       "\n",
       "    .dataframe tbody tr th {\n",
       "        vertical-align: top;\n",
       "    }\n",
       "\n",
       "    .dataframe thead th {\n",
       "        text-align: right;\n",
       "    }\n",
       "</style>\n",
       "<table border=\"1\" class=\"dataframe\">\n",
       "  <thead>\n",
       "    <tr style=\"text-align: right;\">\n",
       "      <th></th>\n",
       "      <th>sales_price</th>\n",
       "      <th>brand</th>\n",
       "      <th>market_price</th>\n",
       "    </tr>\n",
       "  </thead>\n",
       "  <tbody>\n",
       "    <tr>\n",
       "      <th>0</th>\n",
       "      <td>488,000</td>\n",
       "      <td>HONDA</td>\n",
       "      <td>NaN</td>\n",
       "    </tr>\n",
       "    <tr>\n",
       "      <th>1</th>\n",
       "      <td>1,677,000</td>\n",
       "      <td>TOYOTA</td>\n",
       "      <td>3,050,000</td>\n",
       "    </tr>\n",
       "    <tr>\n",
       "      <th>2</th>\n",
       "      <td>338,000</td>\n",
       "      <td>HONDA</td>\n",
       "      <td>NaN</td>\n",
       "    </tr>\n",
       "    <tr>\n",
       "      <th>3</th>\n",
       "      <td>689,000</td>\n",
       "      <td>FORD</td>\n",
       "      <td>849,000</td>\n",
       "    </tr>\n",
       "    <tr>\n",
       "      <th>4</th>\n",
       "      <td>359,000</td>\n",
       "      <td>TOYOTA</td>\n",
       "      <td>649,000</td>\n",
       "    </tr>\n",
       "  </tbody>\n",
       "</table>\n",
       "</div>"
      ],
      "text/plain": [
       "  sales_price   brand market_price\n",
       "0     488,000   HONDA          NaN\n",
       "1   1,677,000  TOYOTA    3,050,000\n",
       "2     338,000   HONDA          NaN\n",
       "3     689,000    FORD      849,000\n",
       "4     359,000  TOYOTA      649,000"
      ]
     },
     "execution_count": 31,
     "metadata": {
      "tags": []
     },
     "output_type": "execute_result"
    }
   ],
   "source": [
    "df2 = df[['sales_price', 'brand', 'market_price']]\n",
    "df2.head()"
   ]
  },
  {
   "cell_type": "markdown",
   "metadata": {
    "id": "JrHhx68EuIce"
   },
   "source": [
    "การเช็ค data type ของข้อมูล"
   ]
  },
  {
   "cell_type": "code",
   "execution_count": 32,
   "metadata": {
    "colab": {
     "base_uri": "https://localhost:8080/"
    },
    "id": "IdPr0tE5rRff",
    "outputId": "1cdbaa19-5f6b-47fd-d5ec-9e161ad2abb1"
   },
   "outputs": [
    {
     "data": {
      "text/plain": [
       "sales_price     object\n",
       "brand           object\n",
       "market_price    object\n",
       "dtype: object"
      ]
     },
     "execution_count": 32,
     "metadata": {
      "tags": []
     },
     "output_type": "execute_result"
    }
   ],
   "source": [
    "df2.dtypes"
   ]
  },
  {
   "cell_type": "markdown",
   "metadata": {
    "id": "Zzjlqt15uQ-P"
   },
   "source": [
    "**ทำไม string ถึงถูกเก็บเป็น object?**\n",
    "\n",
    "= เพราะว่าชนิดของข้อมูลใน DataFrame นั้นจริงๆแล้วมาจากชนิดของข้อมูลใน `ndarray` ทุกๆ element ใน `ndarray` นั้นจะต้องมีขนาดของ bytes ที่เท่ากัน ตัวอย่างเช่น `int64`, `float64` พวกมันนั้นมีขนาด 8 bytes หรือ 64 bits แต่สำหรับ string เนื่องจากความยาวของ string นั้นไม่ได้ถูก fixed ดังนั้นแทนที่มันจะเก็บ bytes ของ string ใน `ndarray` แบบตรงๆ Pandas จะใช้ object `ndarray` ในการเก็บแทน เพื่อที่มันจะบันทึกตัว pointers เพื่อชี้ไปยัง object นั้นๆแทน\n",
    "\n",
    "![](https://i.stack.imgur.com/pFF44.png)"
   ]
  },
  {
   "cell_type": "markdown",
   "metadata": {
    "id": "HxoAgT7bvNn-"
   },
   "source": [
    "เนื่องจาก `sales_price` ถูกเก็บเป็น object หรือ string อยู่ จึงไม่สามารถที่จะหาค่าเฉลี่ยของราคารถที่ถูกขายอยู่ได้"
   ]
  },
  {
   "cell_type": "code",
   "execution_count": 33,
   "metadata": {
    "colab": {
     "base_uri": "https://localhost:8080/",
     "height": 565
    },
    "id": "8e4zZ-kYwqa4",
    "outputId": "564d9274-8ad1-4583-b4dc-d9feee8153e2"
   },
   "outputs": [
    {
     "ename": "TypeError",
     "evalue": "ignored",
     "output_type": "error",
     "traceback": [
      "\u001b[0;31m---------------------------------------------------------------------------\u001b[0m",
      "\u001b[0;31mValueError\u001b[0m                                Traceback (most recent call last)",
      "\u001b[0;32m/usr/local/lib/python3.7/dist-packages/pandas/core/nanops.py\u001b[0m in \u001b[0;36m_ensure_numeric\u001b[0;34m(x)\u001b[0m\n\u001b[1;32m   1426\u001b[0m         \u001b[0;32mtry\u001b[0m\u001b[0;34m:\u001b[0m\u001b[0;34m\u001b[0m\u001b[0;34m\u001b[0m\u001b[0m\n\u001b[0;32m-> 1427\u001b[0;31m             \u001b[0mx\u001b[0m \u001b[0;34m=\u001b[0m \u001b[0mfloat\u001b[0m\u001b[0;34m(\u001b[0m\u001b[0mx\u001b[0m\u001b[0;34m)\u001b[0m\u001b[0;34m\u001b[0m\u001b[0;34m\u001b[0m\u001b[0m\n\u001b[0m\u001b[1;32m   1428\u001b[0m         \u001b[0;32mexcept\u001b[0m \u001b[0mValueError\u001b[0m\u001b[0;34m:\u001b[0m\u001b[0;34m\u001b[0m\u001b[0;34m\u001b[0m\u001b[0m\n",
      "\u001b[0;31mValueError\u001b[0m: could not convert string to float: '488,0001,677,000338,000689,000359,0001,190,000459,00055,000399,000269,000388,000458,000719,0002,390,000338,000460,000419,000329,000365,000450,000900,000125,000828,000275,000380,000385,0001,390,000209,000738,000465,0004,490,0001,079,0001,645,0001,690,000699,000495,000495,000439,0001,790,000209,000699,000699,000559,000495,000409,000479,000305,000819,000419,000299,0003,898,000379,0001,880,000788,000720,000259,000399,000199,000729,000335,000289,000375,000429,000929,000349,000433,000289,000449,000238,000370,00053,000448,000139,000179,000319,000429,000550,0001,088,000349,000840,000819,000329,000439,0002,190,000439,000445,0001,850,000729,000195,0001,089,000729,000669,000799,0001,090,000469,000179,000279,000159,0001,599,000579,000997,0001,140,000670,0002,190,000273,000248,000378,000328,0002,590,000178,000449,000219,000639,000399,000658,000148,000150,000196,000377,0001,869,000394,00075,0001,898,000367,000539,000579,000155,000245,000299,000670,000389,000468,000154,000625,000335,000128,000125,000430,000295,0002,080,000150,000459,000899,000729,000328,000279,000129,000595,000329,000398,000689,000179,000188,000748,000545,0002,150,000399,000239,000308,000555,000269,000495,000235,000358,000378,000287,000479,000429,000338,00099,00035,000289,000659,000239,000268,000230,000475,000280,000240,000219,0001,490,000215,000468,000284,000225,000479,000348,000299,000688,000469,000199,000407,000648,000258,000448,000618,000570,000479,000378,000...",
      "\nDuring handling of the above exception, another exception occurred:\n",
      "\u001b[0;31mValueError\u001b[0m                                Traceback (most recent call last)",
      "\u001b[0;32m/usr/local/lib/python3.7/dist-packages/pandas/core/nanops.py\u001b[0m in \u001b[0;36m_ensure_numeric\u001b[0;34m(x)\u001b[0m\n\u001b[1;32m   1430\u001b[0m             \u001b[0;32mtry\u001b[0m\u001b[0;34m:\u001b[0m\u001b[0;34m\u001b[0m\u001b[0;34m\u001b[0m\u001b[0m\n\u001b[0;32m-> 1431\u001b[0;31m                 \u001b[0mx\u001b[0m \u001b[0;34m=\u001b[0m \u001b[0mcomplex\u001b[0m\u001b[0;34m(\u001b[0m\u001b[0mx\u001b[0m\u001b[0;34m)\u001b[0m\u001b[0;34m\u001b[0m\u001b[0;34m\u001b[0m\u001b[0m\n\u001b[0m\u001b[1;32m   1432\u001b[0m             \u001b[0;32mexcept\u001b[0m \u001b[0mValueError\u001b[0m \u001b[0;32mas\u001b[0m \u001b[0merr\u001b[0m\u001b[0;34m:\u001b[0m\u001b[0;34m\u001b[0m\u001b[0;34m\u001b[0m\u001b[0m\n",
      "\u001b[0;31mValueError\u001b[0m: complex() arg is a malformed string",
      "\nThe above exception was the direct cause of the following exception:\n",
      "\u001b[0;31mTypeError\u001b[0m                                 Traceback (most recent call last)",
      "\u001b[0;32m<ipython-input-33-190ebfc01060>\u001b[0m in \u001b[0;36m<module>\u001b[0;34m()\u001b[0m\n\u001b[0;32m----> 1\u001b[0;31m \u001b[0mdf2\u001b[0m\u001b[0;34m[\u001b[0m\u001b[0;34m'sales_price'\u001b[0m\u001b[0;34m]\u001b[0m\u001b[0;34m.\u001b[0m\u001b[0mmean\u001b[0m\u001b[0;34m(\u001b[0m\u001b[0;34m)\u001b[0m\u001b[0;34m\u001b[0m\u001b[0;34m\u001b[0m\u001b[0m\n\u001b[0m",
      "\u001b[0;32m/usr/local/lib/python3.7/dist-packages/pandas/core/generic.py\u001b[0m in \u001b[0;36mstat_func\u001b[0;34m(self, axis, skipna, level, numeric_only, **kwargs)\u001b[0m\n\u001b[1;32m  11473\u001b[0m             \u001b[0;32mreturn\u001b[0m \u001b[0mself\u001b[0m\u001b[0;34m.\u001b[0m\u001b[0m_agg_by_level\u001b[0m\u001b[0;34m(\u001b[0m\u001b[0mname\u001b[0m\u001b[0;34m,\u001b[0m \u001b[0maxis\u001b[0m\u001b[0;34m=\u001b[0m\u001b[0maxis\u001b[0m\u001b[0;34m,\u001b[0m \u001b[0mlevel\u001b[0m\u001b[0;34m=\u001b[0m\u001b[0mlevel\u001b[0m\u001b[0;34m,\u001b[0m \u001b[0mskipna\u001b[0m\u001b[0;34m=\u001b[0m\u001b[0mskipna\u001b[0m\u001b[0;34m)\u001b[0m\u001b[0;34m\u001b[0m\u001b[0;34m\u001b[0m\u001b[0m\n\u001b[1;32m  11474\u001b[0m         return self._reduce(\n\u001b[0;32m> 11475\u001b[0;31m             \u001b[0mfunc\u001b[0m\u001b[0;34m,\u001b[0m \u001b[0mname\u001b[0m\u001b[0;34m=\u001b[0m\u001b[0mname\u001b[0m\u001b[0;34m,\u001b[0m \u001b[0maxis\u001b[0m\u001b[0;34m=\u001b[0m\u001b[0maxis\u001b[0m\u001b[0;34m,\u001b[0m \u001b[0mskipna\u001b[0m\u001b[0;34m=\u001b[0m\u001b[0mskipna\u001b[0m\u001b[0;34m,\u001b[0m \u001b[0mnumeric_only\u001b[0m\u001b[0;34m=\u001b[0m\u001b[0mnumeric_only\u001b[0m\u001b[0;34m\u001b[0m\u001b[0;34m\u001b[0m\u001b[0m\n\u001b[0m\u001b[1;32m  11476\u001b[0m         )\n\u001b[1;32m  11477\u001b[0m \u001b[0;34m\u001b[0m\u001b[0m\n",
      "\u001b[0;32m/usr/local/lib/python3.7/dist-packages/pandas/core/series.py\u001b[0m in \u001b[0;36m_reduce\u001b[0;34m(self, op, name, axis, skipna, numeric_only, filter_type, **kwds)\u001b[0m\n\u001b[1;32m   4247\u001b[0m                 )\n\u001b[1;32m   4248\u001b[0m             \u001b[0;32mwith\u001b[0m \u001b[0mnp\u001b[0m\u001b[0;34m.\u001b[0m\u001b[0merrstate\u001b[0m\u001b[0;34m(\u001b[0m\u001b[0mall\u001b[0m\u001b[0;34m=\u001b[0m\u001b[0;34m\"ignore\"\u001b[0m\u001b[0;34m)\u001b[0m\u001b[0;34m:\u001b[0m\u001b[0;34m\u001b[0m\u001b[0;34m\u001b[0m\u001b[0m\n\u001b[0;32m-> 4249\u001b[0;31m                 \u001b[0;32mreturn\u001b[0m \u001b[0mop\u001b[0m\u001b[0;34m(\u001b[0m\u001b[0mdelegate\u001b[0m\u001b[0;34m,\u001b[0m \u001b[0mskipna\u001b[0m\u001b[0;34m=\u001b[0m\u001b[0mskipna\u001b[0m\u001b[0;34m,\u001b[0m \u001b[0;34m**\u001b[0m\u001b[0mkwds\u001b[0m\u001b[0;34m)\u001b[0m\u001b[0;34m\u001b[0m\u001b[0;34m\u001b[0m\u001b[0m\n\u001b[0m\u001b[1;32m   4250\u001b[0m \u001b[0;34m\u001b[0m\u001b[0m\n\u001b[1;32m   4251\u001b[0m     \u001b[0;32mdef\u001b[0m \u001b[0m_reindex_indexer\u001b[0m\u001b[0;34m(\u001b[0m\u001b[0mself\u001b[0m\u001b[0;34m,\u001b[0m \u001b[0mnew_index\u001b[0m\u001b[0;34m,\u001b[0m \u001b[0mindexer\u001b[0m\u001b[0;34m,\u001b[0m \u001b[0mcopy\u001b[0m\u001b[0;34m)\u001b[0m\u001b[0;34m:\u001b[0m\u001b[0;34m\u001b[0m\u001b[0;34m\u001b[0m\u001b[0m\n",
      "\u001b[0;32m/usr/local/lib/python3.7/dist-packages/pandas/core/nanops.py\u001b[0m in \u001b[0;36m_f\u001b[0;34m(*args, **kwargs)\u001b[0m\n\u001b[1;32m     69\u001b[0m             \u001b[0;32mtry\u001b[0m\u001b[0;34m:\u001b[0m\u001b[0;34m\u001b[0m\u001b[0;34m\u001b[0m\u001b[0m\n\u001b[1;32m     70\u001b[0m                 \u001b[0;32mwith\u001b[0m \u001b[0mnp\u001b[0m\u001b[0;34m.\u001b[0m\u001b[0merrstate\u001b[0m\u001b[0;34m(\u001b[0m\u001b[0minvalid\u001b[0m\u001b[0;34m=\u001b[0m\u001b[0;34m\"ignore\"\u001b[0m\u001b[0;34m)\u001b[0m\u001b[0;34m:\u001b[0m\u001b[0;34m\u001b[0m\u001b[0;34m\u001b[0m\u001b[0m\n\u001b[0;32m---> 71\u001b[0;31m                     \u001b[0;32mreturn\u001b[0m \u001b[0mf\u001b[0m\u001b[0;34m(\u001b[0m\u001b[0;34m*\u001b[0m\u001b[0margs\u001b[0m\u001b[0;34m,\u001b[0m \u001b[0;34m**\u001b[0m\u001b[0mkwargs\u001b[0m\u001b[0;34m)\u001b[0m\u001b[0;34m\u001b[0m\u001b[0;34m\u001b[0m\u001b[0m\n\u001b[0m\u001b[1;32m     72\u001b[0m             \u001b[0;32mexcept\u001b[0m \u001b[0mValueError\u001b[0m \u001b[0;32mas\u001b[0m \u001b[0me\u001b[0m\u001b[0;34m:\u001b[0m\u001b[0;34m\u001b[0m\u001b[0;34m\u001b[0m\u001b[0m\n\u001b[1;32m     73\u001b[0m                 \u001b[0;31m# we want to transform an object array\u001b[0m\u001b[0;34m\u001b[0m\u001b[0;34m\u001b[0m\u001b[0;34m\u001b[0m\u001b[0m\n",
      "\u001b[0;32m/usr/local/lib/python3.7/dist-packages/pandas/core/nanops.py\u001b[0m in \u001b[0;36mf\u001b[0;34m(values, axis, skipna, **kwds)\u001b[0m\n\u001b[1;32m    127\u001b[0m                     \u001b[0mresult\u001b[0m \u001b[0;34m=\u001b[0m \u001b[0malt\u001b[0m\u001b[0;34m(\u001b[0m\u001b[0mvalues\u001b[0m\u001b[0;34m,\u001b[0m \u001b[0maxis\u001b[0m\u001b[0;34m=\u001b[0m\u001b[0maxis\u001b[0m\u001b[0;34m,\u001b[0m \u001b[0mskipna\u001b[0m\u001b[0;34m=\u001b[0m\u001b[0mskipna\u001b[0m\u001b[0;34m,\u001b[0m \u001b[0;34m**\u001b[0m\u001b[0mkwds\u001b[0m\u001b[0;34m)\u001b[0m\u001b[0;34m\u001b[0m\u001b[0;34m\u001b[0m\u001b[0m\n\u001b[1;32m    128\u001b[0m             \u001b[0;32melse\u001b[0m\u001b[0;34m:\u001b[0m\u001b[0;34m\u001b[0m\u001b[0;34m\u001b[0m\u001b[0m\n\u001b[0;32m--> 129\u001b[0;31m                 \u001b[0mresult\u001b[0m \u001b[0;34m=\u001b[0m \u001b[0malt\u001b[0m\u001b[0;34m(\u001b[0m\u001b[0mvalues\u001b[0m\u001b[0;34m,\u001b[0m \u001b[0maxis\u001b[0m\u001b[0;34m=\u001b[0m\u001b[0maxis\u001b[0m\u001b[0;34m,\u001b[0m \u001b[0mskipna\u001b[0m\u001b[0;34m=\u001b[0m\u001b[0mskipna\u001b[0m\u001b[0;34m,\u001b[0m \u001b[0;34m**\u001b[0m\u001b[0mkwds\u001b[0m\u001b[0;34m)\u001b[0m\u001b[0;34m\u001b[0m\u001b[0;34m\u001b[0m\u001b[0m\n\u001b[0m\u001b[1;32m    130\u001b[0m \u001b[0;34m\u001b[0m\u001b[0m\n\u001b[1;32m    131\u001b[0m             \u001b[0;32mreturn\u001b[0m \u001b[0mresult\u001b[0m\u001b[0;34m\u001b[0m\u001b[0;34m\u001b[0m\u001b[0m\n",
      "\u001b[0;32m/usr/local/lib/python3.7/dist-packages/pandas/core/nanops.py\u001b[0m in \u001b[0;36mnanmean\u001b[0;34m(values, axis, skipna, mask)\u001b[0m\n\u001b[1;32m    561\u001b[0m         \u001b[0mdtype_count\u001b[0m \u001b[0;34m=\u001b[0m \u001b[0mdtype\u001b[0m\u001b[0;34m\u001b[0m\u001b[0;34m\u001b[0m\u001b[0m\n\u001b[1;32m    562\u001b[0m     \u001b[0mcount\u001b[0m \u001b[0;34m=\u001b[0m \u001b[0m_get_counts\u001b[0m\u001b[0;34m(\u001b[0m\u001b[0mvalues\u001b[0m\u001b[0;34m.\u001b[0m\u001b[0mshape\u001b[0m\u001b[0;34m,\u001b[0m \u001b[0mmask\u001b[0m\u001b[0;34m,\u001b[0m \u001b[0maxis\u001b[0m\u001b[0;34m,\u001b[0m \u001b[0mdtype\u001b[0m\u001b[0;34m=\u001b[0m\u001b[0mdtype_count\u001b[0m\u001b[0;34m)\u001b[0m\u001b[0;34m\u001b[0m\u001b[0;34m\u001b[0m\u001b[0m\n\u001b[0;32m--> 563\u001b[0;31m     \u001b[0mthe_sum\u001b[0m \u001b[0;34m=\u001b[0m \u001b[0m_ensure_numeric\u001b[0m\u001b[0;34m(\u001b[0m\u001b[0mvalues\u001b[0m\u001b[0;34m.\u001b[0m\u001b[0msum\u001b[0m\u001b[0;34m(\u001b[0m\u001b[0maxis\u001b[0m\u001b[0;34m,\u001b[0m \u001b[0mdtype\u001b[0m\u001b[0;34m=\u001b[0m\u001b[0mdtype_sum\u001b[0m\u001b[0;34m)\u001b[0m\u001b[0;34m)\u001b[0m\u001b[0;34m\u001b[0m\u001b[0;34m\u001b[0m\u001b[0m\n\u001b[0m\u001b[1;32m    564\u001b[0m \u001b[0;34m\u001b[0m\u001b[0m\n\u001b[1;32m    565\u001b[0m     \u001b[0;32mif\u001b[0m \u001b[0maxis\u001b[0m \u001b[0;32mis\u001b[0m \u001b[0;32mnot\u001b[0m \u001b[0;32mNone\u001b[0m \u001b[0;32mand\u001b[0m \u001b[0mgetattr\u001b[0m\u001b[0;34m(\u001b[0m\u001b[0mthe_sum\u001b[0m\u001b[0;34m,\u001b[0m \u001b[0;34m\"ndim\"\u001b[0m\u001b[0;34m,\u001b[0m \u001b[0;32mFalse\u001b[0m\u001b[0;34m)\u001b[0m\u001b[0;34m:\u001b[0m\u001b[0;34m\u001b[0m\u001b[0;34m\u001b[0m\u001b[0m\n",
      "\u001b[0;32m/usr/local/lib/python3.7/dist-packages/pandas/core/nanops.py\u001b[0m in \u001b[0;36m_ensure_numeric\u001b[0;34m(x)\u001b[0m\n\u001b[1;32m   1432\u001b[0m             \u001b[0;32mexcept\u001b[0m \u001b[0mValueError\u001b[0m \u001b[0;32mas\u001b[0m \u001b[0merr\u001b[0m\u001b[0;34m:\u001b[0m\u001b[0;34m\u001b[0m\u001b[0;34m\u001b[0m\u001b[0m\n\u001b[1;32m   1433\u001b[0m                 \u001b[0;31m# e.g. \"foo\"\u001b[0m\u001b[0;34m\u001b[0m\u001b[0;34m\u001b[0m\u001b[0;34m\u001b[0m\u001b[0m\n\u001b[0;32m-> 1434\u001b[0;31m                 \u001b[0;32mraise\u001b[0m \u001b[0mTypeError\u001b[0m\u001b[0;34m(\u001b[0m\u001b[0;34mf\"Could not convert {x} to numeric\"\u001b[0m\u001b[0;34m)\u001b[0m \u001b[0;32mfrom\u001b[0m \u001b[0merr\u001b[0m\u001b[0;34m\u001b[0m\u001b[0;34m\u001b[0m\u001b[0m\n\u001b[0m\u001b[1;32m   1435\u001b[0m     \u001b[0;32mreturn\u001b[0m \u001b[0mx\u001b[0m\u001b[0;34m\u001b[0m\u001b[0;34m\u001b[0m\u001b[0m\n\u001b[1;32m   1436\u001b[0m \u001b[0;34m\u001b[0m\u001b[0m\n",
      "\u001b[0;31mTypeError\u001b[0m: Could not convert 488,0001,677,000338,000689,000359,0001,190,000459,00055,000399,000269,000388,000458,000719,0002,390,000338,000460,000419,000329,000365,000450,000900,000125,000828,000275,000380,000385,0001,390,000209,000738,000465,0004,490,0001,079,0001,645,0001,690,000699,000495,000495,000439,0001,790,000209,000699,000699,000559,000495,000409,000479,000305,000819,000419,000299,0003,898,000379,0001,880,000788,000720,000259,000399,000199,000729,000335,000289,000375,000429,000929,000349,000433,000289,000449,000238,000370,00053,000448,000139,000179,000319,000429,000550,0001,088,000349,000840,000819,000329,000439,0002,190,000439,000445,0001,850,000729,000195,0001,089,000729,000669,000799,0001,090,000469,000179,000279,000159,0001,599,000579,000997,0001,140,000670,0002,190,000273,000248,000378,000328,0002,590,000178,000449,000219,000639,000399,000658,000148,000150,000196,000377,0001,869,000394,00075,0001,898,000367,000539,000579,000155,000245,000299,000670,000389,000468,000154,000625,000335,000128,000125,000430,000295,0002,080,000150,000459,000899,000729,000328,000279,000129,000595,000329,000398,000689,000179,000188,000748,000545,0002,150,000399,000239,000308,000555,000269,000495,000235,000358,000378,000287,000479,000429,000338,00099,00035,000289,000659,000239,000268,000230,000475,000280,000240,000219,0001,490,000215,000468,000284,000225,000479,000348,000299,000688,000469,000199,000407,000648,000258,000448,000618,000570,000479,000378,000318,000439,000255,0..."
     ]
    }
   ],
   "source": [
    "df2['sales_price'].mean()"
   ]
  },
  {
   "cell_type": "markdown",
   "metadata": {
    "id": "q28JKJHjvoaW"
   },
   "source": [
    "เพราะฉะนั้นสิ่งแรกที่ควรทำคือการแปลง data type จาก object ให้กลายมาเป็น integer แต่เรื่องจากในข้อมูลของเรานั้นมี `,` คั่นอยู่ระหว่างตัวเลข สิ่งแรกที่ควรทำเลยก็คือการลบ `,` ออกไป แล้วจึงค่อยแปลงเป็นตัวเลข [Working with text data](https://pandas.pydata.org/pandas-docs/stable/user_guide/text.html)"
   ]
  },
  {
   "cell_type": "code",
   "execution_count": 35,
   "metadata": {
    "colab": {
     "base_uri": "https://localhost:8080/",
     "height": 341
    },
    "id": "0sBtM0fQrPYD",
    "outputId": "29b0ca58-5532-490b-da04-074887d62961"
   },
   "outputs": [
    {
     "ename": "ValueError",
     "evalue": "ignored",
     "output_type": "error",
     "traceback": [
      "\u001b[0;31m---------------------------------------------------------------------------\u001b[0m",
      "\u001b[0;31mValueError\u001b[0m                                Traceback (most recent call last)",
      "\u001b[0;32m<ipython-input-35-72c53238a145>\u001b[0m in \u001b[0;36m<module>\u001b[0;34m()\u001b[0m\n\u001b[0;32m----> 1\u001b[0;31m \u001b[0mdf2\u001b[0m\u001b[0;34m[\u001b[0m\u001b[0;34m'sales_price'\u001b[0m\u001b[0;34m]\u001b[0m\u001b[0;34m.\u001b[0m\u001b[0mastype\u001b[0m\u001b[0;34m(\u001b[0m\u001b[0mint\u001b[0m\u001b[0;34m)\u001b[0m\u001b[0;34m\u001b[0m\u001b[0;34m\u001b[0m\u001b[0m\n\u001b[0m",
      "\u001b[0;32m/usr/local/lib/python3.7/dist-packages/pandas/core/generic.py\u001b[0m in \u001b[0;36mastype\u001b[0;34m(self, dtype, copy, errors)\u001b[0m\n\u001b[1;32m   5546\u001b[0m         \u001b[0;32melse\u001b[0m\u001b[0;34m:\u001b[0m\u001b[0;34m\u001b[0m\u001b[0;34m\u001b[0m\u001b[0m\n\u001b[1;32m   5547\u001b[0m             \u001b[0;31m# else, only a single dtype is given\u001b[0m\u001b[0;34m\u001b[0m\u001b[0;34m\u001b[0m\u001b[0;34m\u001b[0m\u001b[0m\n\u001b[0;32m-> 5548\u001b[0;31m             \u001b[0mnew_data\u001b[0m \u001b[0;34m=\u001b[0m \u001b[0mself\u001b[0m\u001b[0;34m.\u001b[0m\u001b[0m_mgr\u001b[0m\u001b[0;34m.\u001b[0m\u001b[0mastype\u001b[0m\u001b[0;34m(\u001b[0m\u001b[0mdtype\u001b[0m\u001b[0;34m=\u001b[0m\u001b[0mdtype\u001b[0m\u001b[0;34m,\u001b[0m \u001b[0mcopy\u001b[0m\u001b[0;34m=\u001b[0m\u001b[0mcopy\u001b[0m\u001b[0;34m,\u001b[0m \u001b[0merrors\u001b[0m\u001b[0;34m=\u001b[0m\u001b[0merrors\u001b[0m\u001b[0;34m,\u001b[0m\u001b[0;34m)\u001b[0m\u001b[0;34m\u001b[0m\u001b[0;34m\u001b[0m\u001b[0m\n\u001b[0m\u001b[1;32m   5549\u001b[0m             \u001b[0;32mreturn\u001b[0m \u001b[0mself\u001b[0m\u001b[0;34m.\u001b[0m\u001b[0m_constructor\u001b[0m\u001b[0;34m(\u001b[0m\u001b[0mnew_data\u001b[0m\u001b[0;34m)\u001b[0m\u001b[0;34m.\u001b[0m\u001b[0m__finalize__\u001b[0m\u001b[0;34m(\u001b[0m\u001b[0mself\u001b[0m\u001b[0;34m,\u001b[0m \u001b[0mmethod\u001b[0m\u001b[0;34m=\u001b[0m\u001b[0;34m\"astype\"\u001b[0m\u001b[0;34m)\u001b[0m\u001b[0;34m\u001b[0m\u001b[0;34m\u001b[0m\u001b[0m\n\u001b[1;32m   5550\u001b[0m \u001b[0;34m\u001b[0m\u001b[0m\n",
      "\u001b[0;32m/usr/local/lib/python3.7/dist-packages/pandas/core/internals/managers.py\u001b[0m in \u001b[0;36mastype\u001b[0;34m(self, dtype, copy, errors)\u001b[0m\n\u001b[1;32m    602\u001b[0m         \u001b[0mself\u001b[0m\u001b[0;34m,\u001b[0m \u001b[0mdtype\u001b[0m\u001b[0;34m,\u001b[0m \u001b[0mcopy\u001b[0m\u001b[0;34m:\u001b[0m \u001b[0mbool\u001b[0m \u001b[0;34m=\u001b[0m \u001b[0;32mFalse\u001b[0m\u001b[0;34m,\u001b[0m \u001b[0merrors\u001b[0m\u001b[0;34m:\u001b[0m \u001b[0mstr\u001b[0m \u001b[0;34m=\u001b[0m \u001b[0;34m\"raise\"\u001b[0m\u001b[0;34m\u001b[0m\u001b[0;34m\u001b[0m\u001b[0m\n\u001b[1;32m    603\u001b[0m     ) -> \"BlockManager\":\n\u001b[0;32m--> 604\u001b[0;31m         \u001b[0;32mreturn\u001b[0m \u001b[0mself\u001b[0m\u001b[0;34m.\u001b[0m\u001b[0mapply\u001b[0m\u001b[0;34m(\u001b[0m\u001b[0;34m\"astype\"\u001b[0m\u001b[0;34m,\u001b[0m \u001b[0mdtype\u001b[0m\u001b[0;34m=\u001b[0m\u001b[0mdtype\u001b[0m\u001b[0;34m,\u001b[0m \u001b[0mcopy\u001b[0m\u001b[0;34m=\u001b[0m\u001b[0mcopy\u001b[0m\u001b[0;34m,\u001b[0m \u001b[0merrors\u001b[0m\u001b[0;34m=\u001b[0m\u001b[0merrors\u001b[0m\u001b[0;34m)\u001b[0m\u001b[0;34m\u001b[0m\u001b[0;34m\u001b[0m\u001b[0m\n\u001b[0m\u001b[1;32m    605\u001b[0m \u001b[0;34m\u001b[0m\u001b[0m\n\u001b[1;32m    606\u001b[0m     def convert(\n",
      "\u001b[0;32m/usr/local/lib/python3.7/dist-packages/pandas/core/internals/managers.py\u001b[0m in \u001b[0;36mapply\u001b[0;34m(self, f, align_keys, **kwargs)\u001b[0m\n\u001b[1;32m    407\u001b[0m                 \u001b[0mapplied\u001b[0m \u001b[0;34m=\u001b[0m \u001b[0mb\u001b[0m\u001b[0;34m.\u001b[0m\u001b[0mapply\u001b[0m\u001b[0;34m(\u001b[0m\u001b[0mf\u001b[0m\u001b[0;34m,\u001b[0m \u001b[0;34m**\u001b[0m\u001b[0mkwargs\u001b[0m\u001b[0;34m)\u001b[0m\u001b[0;34m\u001b[0m\u001b[0;34m\u001b[0m\u001b[0m\n\u001b[1;32m    408\u001b[0m             \u001b[0;32melse\u001b[0m\u001b[0;34m:\u001b[0m\u001b[0;34m\u001b[0m\u001b[0;34m\u001b[0m\u001b[0m\n\u001b[0;32m--> 409\u001b[0;31m                 \u001b[0mapplied\u001b[0m \u001b[0;34m=\u001b[0m \u001b[0mgetattr\u001b[0m\u001b[0;34m(\u001b[0m\u001b[0mb\u001b[0m\u001b[0;34m,\u001b[0m \u001b[0mf\u001b[0m\u001b[0;34m)\u001b[0m\u001b[0;34m(\u001b[0m\u001b[0;34m**\u001b[0m\u001b[0mkwargs\u001b[0m\u001b[0;34m)\u001b[0m\u001b[0;34m\u001b[0m\u001b[0;34m\u001b[0m\u001b[0m\n\u001b[0m\u001b[1;32m    410\u001b[0m             \u001b[0mresult_blocks\u001b[0m \u001b[0;34m=\u001b[0m \u001b[0m_extend_blocks\u001b[0m\u001b[0;34m(\u001b[0m\u001b[0mapplied\u001b[0m\u001b[0;34m,\u001b[0m \u001b[0mresult_blocks\u001b[0m\u001b[0;34m)\u001b[0m\u001b[0;34m\u001b[0m\u001b[0;34m\u001b[0m\u001b[0m\n\u001b[1;32m    411\u001b[0m \u001b[0;34m\u001b[0m\u001b[0m\n",
      "\u001b[0;32m/usr/local/lib/python3.7/dist-packages/pandas/core/internals/blocks.py\u001b[0m in \u001b[0;36mastype\u001b[0;34m(self, dtype, copy, errors)\u001b[0m\n\u001b[1;32m    593\u001b[0m             \u001b[0mvals1d\u001b[0m \u001b[0;34m=\u001b[0m \u001b[0mvalues\u001b[0m\u001b[0;34m.\u001b[0m\u001b[0mravel\u001b[0m\u001b[0;34m(\u001b[0m\u001b[0;34m)\u001b[0m\u001b[0;34m\u001b[0m\u001b[0;34m\u001b[0m\u001b[0m\n\u001b[1;32m    594\u001b[0m             \u001b[0;32mtry\u001b[0m\u001b[0;34m:\u001b[0m\u001b[0;34m\u001b[0m\u001b[0;34m\u001b[0m\u001b[0m\n\u001b[0;32m--> 595\u001b[0;31m                 \u001b[0mvalues\u001b[0m \u001b[0;34m=\u001b[0m \u001b[0mastype_nansafe\u001b[0m\u001b[0;34m(\u001b[0m\u001b[0mvals1d\u001b[0m\u001b[0;34m,\u001b[0m \u001b[0mdtype\u001b[0m\u001b[0;34m,\u001b[0m \u001b[0mcopy\u001b[0m\u001b[0;34m=\u001b[0m\u001b[0;32mTrue\u001b[0m\u001b[0;34m)\u001b[0m\u001b[0;34m\u001b[0m\u001b[0;34m\u001b[0m\u001b[0m\n\u001b[0m\u001b[1;32m    596\u001b[0m             \u001b[0;32mexcept\u001b[0m \u001b[0;34m(\u001b[0m\u001b[0mValueError\u001b[0m\u001b[0;34m,\u001b[0m \u001b[0mTypeError\u001b[0m\u001b[0;34m)\u001b[0m\u001b[0;34m:\u001b[0m\u001b[0;34m\u001b[0m\u001b[0;34m\u001b[0m\u001b[0m\n\u001b[1;32m    597\u001b[0m                 \u001b[0;31m# e.g. astype_nansafe can fail on object-dtype of strings\u001b[0m\u001b[0;34m\u001b[0m\u001b[0;34m\u001b[0m\u001b[0;34m\u001b[0m\u001b[0m\n",
      "\u001b[0;32m/usr/local/lib/python3.7/dist-packages/pandas/core/dtypes/cast.py\u001b[0m in \u001b[0;36mastype_nansafe\u001b[0;34m(arr, dtype, copy, skipna)\u001b[0m\n\u001b[1;32m    972\u001b[0m         \u001b[0;31m# work around NumPy brokenness, #1987\u001b[0m\u001b[0;34m\u001b[0m\u001b[0;34m\u001b[0m\u001b[0;34m\u001b[0m\u001b[0m\n\u001b[1;32m    973\u001b[0m         \u001b[0;32mif\u001b[0m \u001b[0mnp\u001b[0m\u001b[0;34m.\u001b[0m\u001b[0missubdtype\u001b[0m\u001b[0;34m(\u001b[0m\u001b[0mdtype\u001b[0m\u001b[0;34m.\u001b[0m\u001b[0mtype\u001b[0m\u001b[0;34m,\u001b[0m \u001b[0mnp\u001b[0m\u001b[0;34m.\u001b[0m\u001b[0minteger\u001b[0m\u001b[0;34m)\u001b[0m\u001b[0;34m:\u001b[0m\u001b[0;34m\u001b[0m\u001b[0;34m\u001b[0m\u001b[0m\n\u001b[0;32m--> 974\u001b[0;31m             \u001b[0;32mreturn\u001b[0m \u001b[0mlib\u001b[0m\u001b[0;34m.\u001b[0m\u001b[0mastype_intsafe\u001b[0m\u001b[0;34m(\u001b[0m\u001b[0marr\u001b[0m\u001b[0;34m.\u001b[0m\u001b[0mravel\u001b[0m\u001b[0;34m(\u001b[0m\u001b[0;34m)\u001b[0m\u001b[0;34m,\u001b[0m \u001b[0mdtype\u001b[0m\u001b[0;34m)\u001b[0m\u001b[0;34m.\u001b[0m\u001b[0mreshape\u001b[0m\u001b[0;34m(\u001b[0m\u001b[0marr\u001b[0m\u001b[0;34m.\u001b[0m\u001b[0mshape\u001b[0m\u001b[0;34m)\u001b[0m\u001b[0;34m\u001b[0m\u001b[0;34m\u001b[0m\u001b[0m\n\u001b[0m\u001b[1;32m    975\u001b[0m \u001b[0;34m\u001b[0m\u001b[0m\n\u001b[1;32m    976\u001b[0m         \u001b[0;31m# if we have a datetime/timedelta array of objects\u001b[0m\u001b[0;34m\u001b[0m\u001b[0;34m\u001b[0m\u001b[0;34m\u001b[0m\u001b[0m\n",
      "\u001b[0;32mpandas/_libs/lib.pyx\u001b[0m in \u001b[0;36mpandas._libs.lib.astype_intsafe\u001b[0;34m()\u001b[0m\n",
      "\u001b[0;31mValueError\u001b[0m: invalid literal for int() with base 10: '488,000'"
     ]
    }
   ],
   "source": [
    "df2['sales_price'].astype(int)"
   ]
  },
  {
   "cell_type": "code",
   "execution_count": 36,
   "metadata": {
    "colab": {
     "base_uri": "https://localhost:8080/",
     "height": 272
    },
    "id": "OjzdAtuZqufC",
    "outputId": "0876afa9-eac5-4c93-f6b4-32173aeb3f73"
   },
   "outputs": [
    {
     "name": "stdout",
     "output_type": "stream",
     "text": [
      "sales_price      int64\n",
      "brand           object\n",
      "market_price    object\n",
      "dtype: object\n"
     ]
    },
    {
     "data": {
      "text/html": [
       "<div>\n",
       "<style scoped>\n",
       "    .dataframe tbody tr th:only-of-type {\n",
       "        vertical-align: middle;\n",
       "    }\n",
       "\n",
       "    .dataframe tbody tr th {\n",
       "        vertical-align: top;\n",
       "    }\n",
       "\n",
       "    .dataframe thead th {\n",
       "        text-align: right;\n",
       "    }\n",
       "</style>\n",
       "<table border=\"1\" class=\"dataframe\">\n",
       "  <thead>\n",
       "    <tr style=\"text-align: right;\">\n",
       "      <th></th>\n",
       "      <th>sales_price</th>\n",
       "      <th>brand</th>\n",
       "      <th>market_price</th>\n",
       "    </tr>\n",
       "  </thead>\n",
       "  <tbody>\n",
       "    <tr>\n",
       "      <th>0</th>\n",
       "      <td>488000</td>\n",
       "      <td>HONDA</td>\n",
       "      <td>NaN</td>\n",
       "    </tr>\n",
       "    <tr>\n",
       "      <th>1</th>\n",
       "      <td>1677000</td>\n",
       "      <td>TOYOTA</td>\n",
       "      <td>3,050,000</td>\n",
       "    </tr>\n",
       "    <tr>\n",
       "      <th>2</th>\n",
       "      <td>338000</td>\n",
       "      <td>HONDA</td>\n",
       "      <td>NaN</td>\n",
       "    </tr>\n",
       "    <tr>\n",
       "      <th>3</th>\n",
       "      <td>689000</td>\n",
       "      <td>FORD</td>\n",
       "      <td>849,000</td>\n",
       "    </tr>\n",
       "    <tr>\n",
       "      <th>4</th>\n",
       "      <td>359000</td>\n",
       "      <td>TOYOTA</td>\n",
       "      <td>649,000</td>\n",
       "    </tr>\n",
       "  </tbody>\n",
       "</table>\n",
       "</div>"
      ],
      "text/plain": [
       "   sales_price   brand market_price\n",
       "0       488000   HONDA          NaN\n",
       "1      1677000  TOYOTA    3,050,000\n",
       "2       338000   HONDA          NaN\n",
       "3       689000    FORD      849,000\n",
       "4       359000  TOYOTA      649,000"
      ]
     },
     "execution_count": 36,
     "metadata": {
      "tags": []
     },
     "output_type": "execute_result"
    }
   ],
   "source": [
    "df2['sales_price'] = df2['sales_price'].str.replace(',', '') # Delete ,\n",
    "df2['sales_price'] = df2['sales_price'].astype(int)\n",
    "print(df2.dtypes)\n",
    "df2.head()"
   ]
  },
  {
   "cell_type": "markdown",
   "metadata": {
    "id": "bNNNoHXJxraW"
   },
   "source": [
    "### Numerical Data\n",
    "\n",
    "ในการหา descriptive statistics เราสามารถใช้ function ที่ต้องการโดยตรงเลยหรือใช้ `describe()` ก็ได้ โดยใน `describe()` นั้น ก็จะมีบอกค่าทางสถิิติในรูปแบบต่างๆ ทั้ง ค่าเฉลี่ย, ส่วนเบี่ยงเบนมาตรฐาน, ค่าน้อยที่สุด, ค่ามากที่สุดและรวมถึงค่า percentile ต่างๆอีกด้วย"
   ]
  },
  {
   "cell_type": "code",
   "execution_count": 37,
   "metadata": {
    "colab": {
     "base_uri": "https://localhost:8080/"
    },
    "id": "6rnip_rCruxb",
    "outputId": "86e9dac2-d612-4740-890a-0123c261ec2e"
   },
   "outputs": [
    {
     "name": "stdout",
     "output_type": "stream",
     "text": [
      "Lowest sales price: 20000\n",
      "Highest sales price: 55000000\n",
      "Average sales price: 606793.1894279404\n",
      "Median sales price: 413000.0\n"
     ]
    }
   ],
   "source": [
    "print(f\"Lowest sales price: {df2['sales_price'].min()}\")\n",
    "print(f\"Highest sales price: {df2['sales_price'].max()}\")\n",
    "print(f\"Average sales price: {df2['sales_price'].mean()}\")\n",
    "print(f\"Median sales price: {df2['sales_price'].median()}\")"
   ]
  },
  {
   "cell_type": "code",
   "execution_count": 38,
   "metadata": {
    "colab": {
     "base_uri": "https://localhost:8080/"
    },
    "id": "wmd7QR7lsD2c",
    "outputId": "71d440f5-9f5c-447d-f742-3e56ff527ac6"
   },
   "outputs": [
    {
     "data": {
      "text/plain": [
       "count    1.403700e+04\n",
       "mean     6.067932e+05\n",
       "std      8.720579e+05\n",
       "min      2.000000e+04\n",
       "25%      2.790000e+05\n",
       "50%      4.130000e+05\n",
       "75%      6.480000e+05\n",
       "max      5.500000e+07\n",
       "Name: sales_price, dtype: float64"
      ]
     },
     "execution_count": 38,
     "metadata": {
      "tags": []
     },
     "output_type": "execute_result"
    }
   ],
   "source": [
    "df2['sales_price'].describe()"
   ]
  },
  {
   "cell_type": "markdown",
   "metadata": {
    "id": "nv4_uLcIyOiY"
   },
   "source": [
    "### Categorical Data\n",
    "\n",
    "ในส่วนของ categorical data เราก็จะสามารถหา unique value ของ category ได้ รวมทั้งจำนวนครั้งที่ category นั้นมีอยู่ใน data ของเรา"
   ]
  },
  {
   "cell_type": "code",
   "execution_count": 39,
   "metadata": {
    "colab": {
     "base_uri": "https://localhost:8080/"
    },
    "id": "AMr00ECltpve",
    "outputId": "a8078882-6294-4b25-ea64-4684f1f649cf"
   },
   "outputs": [
    {
     "data": {
      "text/plain": [
       "0         HONDA\n",
       "1        TOYOTA\n",
       "2         HONDA\n",
       "3          FORD\n",
       "4        TOYOTA\n",
       "          ...  \n",
       "14032     HONDA\n",
       "14033    TOYOTA\n",
       "14034    TOYOTA\n",
       "14035     HONDA\n",
       "14036     HONDA\n",
       "Name: brand, Length: 14037, dtype: object"
      ]
     },
     "execution_count": 39,
     "metadata": {
      "tags": []
     },
     "output_type": "execute_result"
    }
   ],
   "source": [
    "df2['brand']"
   ]
  },
  {
   "cell_type": "code",
   "execution_count": 40,
   "metadata": {
    "colab": {
     "base_uri": "https://localhost:8080/"
    },
    "id": "szEsxIdsttLE",
    "outputId": "4e7a180a-4356-4dad-964f-846a39cc5445"
   },
   "outputs": [
    {
     "data": {
      "text/plain": [
       "array(['HONDA', 'TOYOTA', 'FORD', 'VOLKSWAGEN', 'CHEVROLET', 'VOLVO',\n",
       "       'AUDI', 'ISUZU', 'NISSAN', 'BMW', 'BENZ', 'SUZUKI', 'LEXUS',\n",
       "       'PORSCHE', 'SUBARU', 'MITSUBISHI', 'MAZDA', 'MG', 'SAAB',\n",
       "       'LANDROVER', 'PEUGEOT', 'JAGUAR', 'MINI', 'HYUNDAI', 'THAI RUNG',\n",
       "       'PROTON', 'KIA', 'HINO', 'TATA', 'FIAT', 'JEEP', 'SEAT',\n",
       "       'LAMBORGHINI', 'SKODA', 'ROVER', 'SSANGYONG', 'MASERATI',\n",
       "       'DAIHATSU', 'CITROEN', 'DFSK', 'FERRARI', 'ASTON MARTIN',\n",
       "       'BENTLEY', 'ALFA ROMEO', 'LOTUS', 'FOTON', 'HUMMER', 'CHERY',\n",
       "       'MITSUOKA'], dtype=object)"
      ]
     },
     "execution_count": 40,
     "metadata": {
      "tags": []
     },
     "output_type": "execute_result"
    }
   ],
   "source": [
    "df2['brand'].unique()"
   ]
  },
  {
   "cell_type": "code",
   "execution_count": 41,
   "metadata": {
    "colab": {
     "base_uri": "https://localhost:8080/"
    },
    "id": "mTao5DAytxT7",
    "outputId": "d96cd074-72b7-4c0f-b49d-1c4bd81af2b4"
   },
   "outputs": [
    {
     "data": {
      "text/plain": [
       "49"
      ]
     },
     "execution_count": 41,
     "metadata": {
      "tags": []
     },
     "output_type": "execute_result"
    }
   ],
   "source": [
    "df2['brand'].nunique()"
   ]
  },
  {
   "cell_type": "code",
   "execution_count": 42,
   "metadata": {
    "colab": {
     "base_uri": "https://localhost:8080/"
    },
    "id": "795nNHizt1AG",
    "outputId": "9c5ae2ad-a85e-4890-806c-a06b927e9c6d"
   },
   "outputs": [
    {
     "data": {
      "text/plain": [
       "TOYOTA    4227\n",
       "HONDA     2252\n",
       "NISSAN    1055\n",
       "ISUZU     1050\n",
       "BENZ      1036\n",
       "Name: brand, dtype: int64"
      ]
     },
     "execution_count": 42,
     "metadata": {
      "tags": []
     },
     "output_type": "execute_result"
    }
   ],
   "source": [
    "df2['brand'].value_counts().head()"
   ]
  },
  {
   "cell_type": "markdown",
   "metadata": {
    "id": "EKyJPm4Zw2pT"
   },
   "source": [
    "### Categorical & Numerical Data\n",
    "\n",
    "เราสามารถจัดกลุ่มของ category ต่างๆโดยคำสั่ง `groupby()` [Group by: split-apply-combine](https://pandas.pydata.org/docs/user_guide/groupby.html) เพื่อที่จะสามารถหาค่าต่างๆในแต่ละกลุ่มได้ ไม่ว่าจะเป็นค่าเฉลี่ยของราคาขายรถแต่ละยี่ห้อ, ค่าที่มากที่สุด, ค่าที่น้อยที่สุดที่รถยี่ห้อนั้นๆถูกขายอยู่ในท้องตลาด"
   ]
  },
  {
   "cell_type": "code",
   "execution_count": 43,
   "metadata": {
    "colab": {
     "base_uri": "https://localhost:8080/"
    },
    "id": "XexzFVvUt9ij",
    "outputId": "e7796528-a179-46e8-e571-8a2f6e87102c"
   },
   "outputs": [
    {
     "data": {
      "text/plain": [
       "brand\n",
       "ALFA ROMEO        455000\n",
       "ASTON MARTIN     6900000\n",
       "AUDI             8390000\n",
       "BENTLEY         13800000\n",
       "BENZ            12800000\n",
       "Name: sales_price, dtype: int64"
      ]
     },
     "execution_count": 43,
     "metadata": {
      "tags": []
     },
     "output_type": "execute_result"
    }
   ],
   "source": [
    "df2.groupby(['brand'])['sales_price'].max().head()"
   ]
  },
  {
   "cell_type": "code",
   "execution_count": 44,
   "metadata": {
    "colab": {
     "base_uri": "https://localhost:8080/"
    },
    "id": "0x3e6TZ6uHKM",
    "outputId": "6c0e060b-c652-427e-a4e4-e83f977a770a"
   },
   "outputs": [
    {
     "data": {
      "text/plain": [
       "brand\n",
       "ALFA ROMEO       256000\n",
       "ASTON MARTIN    6900000\n",
       "AUDI              88000\n",
       "BENTLEY         5800000\n",
       "BENZ              28000\n",
       "Name: sales_price, dtype: int64"
      ]
     },
     "execution_count": 44,
     "metadata": {
      "tags": []
     },
     "output_type": "execute_result"
    }
   ],
   "source": [
    "df2.groupby(['brand'])['sales_price'].min().head()"
   ]
  },
  {
   "cell_type": "code",
   "execution_count": 45,
   "metadata": {
    "colab": {
     "base_uri": "https://localhost:8080/"
    },
    "id": "AfUjPRXhuI0o",
    "outputId": "620e9aa7-6e54-49d2-9bad-51182d055f7f"
   },
   "outputs": [
    {
     "data": {
      "text/plain": [
       "brand\n",
       "ALFA ROMEO      3.555000e+05\n",
       "ASTON MARTIN    6.900000e+06\n",
       "AUDI            1.594739e+06\n",
       "BENTLEY         9.100000e+06\n",
       "BENZ            1.295657e+06\n",
       "Name: sales_price, dtype: float64"
      ]
     },
     "execution_count": 45,
     "metadata": {
      "tags": []
     },
     "output_type": "execute_result"
    }
   ],
   "source": [
    "df2.groupby(['brand'])['sales_price'].mean().head()"
   ]
  },
  {
   "cell_type": "markdown",
   "metadata": {
    "id": "VZtL41gnx451"
   },
   "source": [
    "ถ้าเราอยากรู้ว่าโดยเฉลี่ยแล้ว รถยี่ห้อไหนมีราคาขายแพงที่สุด เราก็จะสามารถทำได้โดยการ `groupby()` แล้วหาค่าเฉลี่ยของราคาขายรถแต่ละยี่ห้อ แล้วจึงเรียงลำดับค่าจากมากไปน้อย"
   ]
  },
  {
   "cell_type": "code",
   "execution_count": 46,
   "metadata": {
    "colab": {
     "base_uri": "https://localhost:8080/"
    },
    "id": "g4q541eDYBk-",
    "outputId": "5030123a-72d1-42e7-b881-260f6d64d9f1"
   },
   "outputs": [
    {
     "data": {
      "text/plain": [
       "brand\n",
       "ALFA ROMEO      3.555000e+05\n",
       "ASTON MARTIN    6.900000e+06\n",
       "AUDI            1.594739e+06\n",
       "BENTLEY         9.100000e+06\n",
       "BENZ            1.295657e+06\n",
       "Name: sales_price, dtype: float64"
      ]
     },
     "execution_count": 46,
     "metadata": {
      "tags": []
     },
     "output_type": "execute_result"
    }
   ],
   "source": [
    "price_mean = df2.groupby(['brand'])['sales_price'].mean()\n",
    "price_mean.head()"
   ]
  },
  {
   "cell_type": "code",
   "execution_count": 47,
   "metadata": {
    "colab": {
     "base_uri": "https://localhost:8080/"
    },
    "id": "GU1kuFB2Ypd7",
    "outputId": "e40d3e6a-4dbc-4e66-bf8f-aeb8a9522b2d"
   },
   "outputs": [
    {
     "data": {
      "text/plain": [
       "brand\n",
       "FERRARI         1.448333e+07\n",
       "BENTLEY         9.100000e+06\n",
       "LAMBORGHINI     7.796667e+06\n",
       "ASTON MARTIN    6.900000e+06\n",
       "MASERATI        5.990000e+06\n",
       "Name: sales_price, dtype: float64"
      ]
     },
     "execution_count": 47,
     "metadata": {
      "tags": []
     },
     "output_type": "execute_result"
    }
   ],
   "source": [
    "price_mean.sort_values(ascending=False).head()"
   ]
  },
  {
   "cell_type": "markdown",
   "metadata": {
    "id": "QxrkywK2yb2U"
   },
   "source": [
    "**แล้วใครกันที่ขายรถถูกกว่าราคาตลาด?**\n",
    "\n",
    "= สิ่งที่เราต้องทำก็คือการเทียบราคาขายของรถนั้นๆกับราคาตลาด เพื่อดูว่าผู้ขายคนไหนที่ขายรถถูกกว่าราคาตลาด"
   ]
  },
  {
   "cell_type": "code",
   "execution_count": 48,
   "metadata": {
    "colab": {
     "base_uri": "https://localhost:8080/"
    },
    "id": "Jv8iM7KEZJPC",
    "outputId": "5b706d4d-40b0-4cf8-cfa1-47969cce9769"
   },
   "outputs": [
    {
     "name": "stdout",
     "output_type": "stream",
     "text": [
      "<class 'pandas.core.frame.DataFrame'>\n",
      "RangeIndex: 14037 entries, 0 to 14036\n",
      "Data columns (total 3 columns):\n",
      " #   Column        Non-Null Count  Dtype \n",
      "---  ------        --------------  ----- \n",
      " 0   sales_price   14037 non-null  int64 \n",
      " 1   brand         14037 non-null  object\n",
      " 2   market_price  6153 non-null   object\n",
      "dtypes: int64(1), object(2)\n",
      "memory usage: 329.1+ KB\n"
     ]
    }
   ],
   "source": [
    "df2.info()"
   ]
  },
  {
   "cell_type": "markdown",
   "metadata": {
    "id": "dRE3L1jGzGB_"
   },
   "source": [
    "เนื่องจากรถทุกยี่ห้อไม่ได้มีราคาตลาดให้ทำการเปรียบเทียบ เราจึงไม่สนใจรถยี่ห้อนั้นๆ เพราะเราจะไม่มีทางรู้ได้เลยว่ามันถูกกว่าหรือแพงกว่าราคาตลาด เราจึงทำการลบข้อมูลแถวนั้นออกไป โดยใช้คำสั่ง `dropna()`"
   ]
  },
  {
   "cell_type": "code",
   "execution_count": 49,
   "metadata": {
    "colab": {
     "base_uri": "https://localhost:8080/",
     "height": 419
    },
    "id": "Zc76ziGfaTka",
    "outputId": "cae05f2a-cfdb-4d68-8500-1952d02a86e5"
   },
   "outputs": [
    {
     "data": {
      "text/html": [
       "<div>\n",
       "<style scoped>\n",
       "    .dataframe tbody tr th:only-of-type {\n",
       "        vertical-align: middle;\n",
       "    }\n",
       "\n",
       "    .dataframe tbody tr th {\n",
       "        vertical-align: top;\n",
       "    }\n",
       "\n",
       "    .dataframe thead th {\n",
       "        text-align: right;\n",
       "    }\n",
       "</style>\n",
       "<table border=\"1\" class=\"dataframe\">\n",
       "  <thead>\n",
       "    <tr style=\"text-align: right;\">\n",
       "      <th></th>\n",
       "      <th>sales_price</th>\n",
       "      <th>market_price</th>\n",
       "    </tr>\n",
       "  </thead>\n",
       "  <tbody>\n",
       "    <tr>\n",
       "      <th>1</th>\n",
       "      <td>1677000</td>\n",
       "      <td>3,050,000</td>\n",
       "    </tr>\n",
       "    <tr>\n",
       "      <th>3</th>\n",
       "      <td>689000</td>\n",
       "      <td>849,000</td>\n",
       "    </tr>\n",
       "    <tr>\n",
       "      <th>4</th>\n",
       "      <td>359000</td>\n",
       "      <td>649,000</td>\n",
       "    </tr>\n",
       "    <tr>\n",
       "      <th>6</th>\n",
       "      <td>459000</td>\n",
       "      <td>829,000</td>\n",
       "    </tr>\n",
       "    <tr>\n",
       "      <th>10</th>\n",
       "      <td>388000</td>\n",
       "      <td>699,000</td>\n",
       "    </tr>\n",
       "    <tr>\n",
       "      <th>...</th>\n",
       "      <td>...</td>\n",
       "      <td>...</td>\n",
       "    </tr>\n",
       "    <tr>\n",
       "      <th>14022</th>\n",
       "      <td>389000</td>\n",
       "      <td>682,000</td>\n",
       "    </tr>\n",
       "    <tr>\n",
       "      <th>14023</th>\n",
       "      <td>899000</td>\n",
       "      <td>1,541,000</td>\n",
       "    </tr>\n",
       "    <tr>\n",
       "      <th>14030</th>\n",
       "      <td>2590000</td>\n",
       "      <td>6,650,000</td>\n",
       "    </tr>\n",
       "    <tr>\n",
       "      <th>14033</th>\n",
       "      <td>530000</td>\n",
       "      <td>1,299,000</td>\n",
       "    </tr>\n",
       "    <tr>\n",
       "      <th>14036</th>\n",
       "      <td>976000</td>\n",
       "      <td>1,190,000</td>\n",
       "    </tr>\n",
       "  </tbody>\n",
       "</table>\n",
       "<p>6153 rows × 2 columns</p>\n",
       "</div>"
      ],
      "text/plain": [
       "       sales_price market_price\n",
       "1          1677000    3,050,000\n",
       "3           689000      849,000\n",
       "4           359000      649,000\n",
       "6           459000      829,000\n",
       "10          388000      699,000\n",
       "...            ...          ...\n",
       "14022       389000      682,000\n",
       "14023       899000    1,541,000\n",
       "14030      2590000    6,650,000\n",
       "14033       530000    1,299,000\n",
       "14036       976000    1,190,000\n",
       "\n",
       "[6153 rows x 2 columns]"
      ]
     },
     "execution_count": 49,
     "metadata": {
      "tags": []
     },
     "output_type": "execute_result"
    }
   ],
   "source": [
    "price_df = df2[['sales_price', 'market_price']].dropna()\n",
    "price_df"
   ]
  },
  {
   "cell_type": "markdown",
   "metadata": {
    "id": "DtZn3zqOzd_a"
   },
   "source": [
    "เราจะได้เห็นได้ว่าหลังจากเราลบข้อมูลแถวที่ไม่มีราคาตลาดออกไปแล้ว ตัว `index` ของ DataFrame มันยังคงจำ `index` เดิมอยู่ เราจึงต้องทำการรีเซ็ทค่าของมันโดยใช้คำสั่ง `reset_index()`"
   ]
  },
  {
   "cell_type": "code",
   "execution_count": 50,
   "metadata": {
    "colab": {
     "base_uri": "https://localhost:8080/",
     "height": 419
    },
    "id": "Hs_-WKWYae5f",
    "outputId": "d64e1e0b-6882-4375-f17b-fa5dcf4967f8"
   },
   "outputs": [
    {
     "data": {
      "text/html": [
       "<div>\n",
       "<style scoped>\n",
       "    .dataframe tbody tr th:only-of-type {\n",
       "        vertical-align: middle;\n",
       "    }\n",
       "\n",
       "    .dataframe tbody tr th {\n",
       "        vertical-align: top;\n",
       "    }\n",
       "\n",
       "    .dataframe thead th {\n",
       "        text-align: right;\n",
       "    }\n",
       "</style>\n",
       "<table border=\"1\" class=\"dataframe\">\n",
       "  <thead>\n",
       "    <tr style=\"text-align: right;\">\n",
       "      <th></th>\n",
       "      <th>index</th>\n",
       "      <th>sales_price</th>\n",
       "      <th>market_price</th>\n",
       "    </tr>\n",
       "  </thead>\n",
       "  <tbody>\n",
       "    <tr>\n",
       "      <th>0</th>\n",
       "      <td>1</td>\n",
       "      <td>1677000</td>\n",
       "      <td>3,050,000</td>\n",
       "    </tr>\n",
       "    <tr>\n",
       "      <th>1</th>\n",
       "      <td>3</td>\n",
       "      <td>689000</td>\n",
       "      <td>849,000</td>\n",
       "    </tr>\n",
       "    <tr>\n",
       "      <th>2</th>\n",
       "      <td>4</td>\n",
       "      <td>359000</td>\n",
       "      <td>649,000</td>\n",
       "    </tr>\n",
       "    <tr>\n",
       "      <th>3</th>\n",
       "      <td>6</td>\n",
       "      <td>459000</td>\n",
       "      <td>829,000</td>\n",
       "    </tr>\n",
       "    <tr>\n",
       "      <th>4</th>\n",
       "      <td>10</td>\n",
       "      <td>388000</td>\n",
       "      <td>699,000</td>\n",
       "    </tr>\n",
       "    <tr>\n",
       "      <th>...</th>\n",
       "      <td>...</td>\n",
       "      <td>...</td>\n",
       "      <td>...</td>\n",
       "    </tr>\n",
       "    <tr>\n",
       "      <th>6148</th>\n",
       "      <td>14022</td>\n",
       "      <td>389000</td>\n",
       "      <td>682,000</td>\n",
       "    </tr>\n",
       "    <tr>\n",
       "      <th>6149</th>\n",
       "      <td>14023</td>\n",
       "      <td>899000</td>\n",
       "      <td>1,541,000</td>\n",
       "    </tr>\n",
       "    <tr>\n",
       "      <th>6150</th>\n",
       "      <td>14030</td>\n",
       "      <td>2590000</td>\n",
       "      <td>6,650,000</td>\n",
       "    </tr>\n",
       "    <tr>\n",
       "      <th>6151</th>\n",
       "      <td>14033</td>\n",
       "      <td>530000</td>\n",
       "      <td>1,299,000</td>\n",
       "    </tr>\n",
       "    <tr>\n",
       "      <th>6152</th>\n",
       "      <td>14036</td>\n",
       "      <td>976000</td>\n",
       "      <td>1,190,000</td>\n",
       "    </tr>\n",
       "  </tbody>\n",
       "</table>\n",
       "<p>6153 rows × 3 columns</p>\n",
       "</div>"
      ],
      "text/plain": [
       "      index  sales_price market_price\n",
       "0         1      1677000    3,050,000\n",
       "1         3       689000      849,000\n",
       "2         4       359000      649,000\n",
       "3         6       459000      829,000\n",
       "4        10       388000      699,000\n",
       "...     ...          ...          ...\n",
       "6148  14022       389000      682,000\n",
       "6149  14023       899000    1,541,000\n",
       "6150  14030      2590000    6,650,000\n",
       "6151  14033       530000    1,299,000\n",
       "6152  14036       976000    1,190,000\n",
       "\n",
       "[6153 rows x 3 columns]"
      ]
     },
     "execution_count": 50,
     "metadata": {
      "tags": []
     },
     "output_type": "execute_result"
    }
   ],
   "source": [
    "price_df.reset_index()"
   ]
  },
  {
   "cell_type": "code",
   "execution_count": 51,
   "metadata": {
    "colab": {
     "base_uri": "https://localhost:8080/",
     "height": 419
    },
    "id": "uKpnvvBuaou_",
    "outputId": "3ec3ed99-eefb-469b-e80b-f935e0b7e751"
   },
   "outputs": [
    {
     "data": {
      "text/html": [
       "<div>\n",
       "<style scoped>\n",
       "    .dataframe tbody tr th:only-of-type {\n",
       "        vertical-align: middle;\n",
       "    }\n",
       "\n",
       "    .dataframe tbody tr th {\n",
       "        vertical-align: top;\n",
       "    }\n",
       "\n",
       "    .dataframe thead th {\n",
       "        text-align: right;\n",
       "    }\n",
       "</style>\n",
       "<table border=\"1\" class=\"dataframe\">\n",
       "  <thead>\n",
       "    <tr style=\"text-align: right;\">\n",
       "      <th></th>\n",
       "      <th>sales_price</th>\n",
       "      <th>market_price</th>\n",
       "    </tr>\n",
       "  </thead>\n",
       "  <tbody>\n",
       "    <tr>\n",
       "      <th>0</th>\n",
       "      <td>1677000</td>\n",
       "      <td>3,050,000</td>\n",
       "    </tr>\n",
       "    <tr>\n",
       "      <th>1</th>\n",
       "      <td>689000</td>\n",
       "      <td>849,000</td>\n",
       "    </tr>\n",
       "    <tr>\n",
       "      <th>2</th>\n",
       "      <td>359000</td>\n",
       "      <td>649,000</td>\n",
       "    </tr>\n",
       "    <tr>\n",
       "      <th>3</th>\n",
       "      <td>459000</td>\n",
       "      <td>829,000</td>\n",
       "    </tr>\n",
       "    <tr>\n",
       "      <th>4</th>\n",
       "      <td>388000</td>\n",
       "      <td>699,000</td>\n",
       "    </tr>\n",
       "    <tr>\n",
       "      <th>...</th>\n",
       "      <td>...</td>\n",
       "      <td>...</td>\n",
       "    </tr>\n",
       "    <tr>\n",
       "      <th>6148</th>\n",
       "      <td>389000</td>\n",
       "      <td>682,000</td>\n",
       "    </tr>\n",
       "    <tr>\n",
       "      <th>6149</th>\n",
       "      <td>899000</td>\n",
       "      <td>1,541,000</td>\n",
       "    </tr>\n",
       "    <tr>\n",
       "      <th>6150</th>\n",
       "      <td>2590000</td>\n",
       "      <td>6,650,000</td>\n",
       "    </tr>\n",
       "    <tr>\n",
       "      <th>6151</th>\n",
       "      <td>530000</td>\n",
       "      <td>1,299,000</td>\n",
       "    </tr>\n",
       "    <tr>\n",
       "      <th>6152</th>\n",
       "      <td>976000</td>\n",
       "      <td>1,190,000</td>\n",
       "    </tr>\n",
       "  </tbody>\n",
       "</table>\n",
       "<p>6153 rows × 2 columns</p>\n",
       "</div>"
      ],
      "text/plain": [
       "      sales_price market_price\n",
       "0         1677000    3,050,000\n",
       "1          689000      849,000\n",
       "2          359000      649,000\n",
       "3          459000      829,000\n",
       "4          388000      699,000\n",
       "...           ...          ...\n",
       "6148       389000      682,000\n",
       "6149       899000    1,541,000\n",
       "6150      2590000    6,650,000\n",
       "6151       530000    1,299,000\n",
       "6152       976000    1,190,000\n",
       "\n",
       "[6153 rows x 2 columns]"
      ]
     },
     "execution_count": 51,
     "metadata": {
      "tags": []
     },
     "output_type": "execute_result"
    }
   ],
   "source": [
    "price_df = price_df.reset_index(drop=True)\n",
    "price_df"
   ]
  },
  {
   "cell_type": "code",
   "execution_count": 52,
   "metadata": {
    "colab": {
     "base_uri": "https://localhost:8080/",
     "height": 255
    },
    "id": "yIjRsZzKatKD",
    "outputId": "69c8172a-6da3-4833-8e96-2dbe7f0b7052"
   },
   "outputs": [
    {
     "name": "stdout",
     "output_type": "stream",
     "text": [
      "sales_price     int64\n",
      "market_price    int64\n",
      "dtype: object\n"
     ]
    },
    {
     "data": {
      "text/html": [
       "<div>\n",
       "<style scoped>\n",
       "    .dataframe tbody tr th:only-of-type {\n",
       "        vertical-align: middle;\n",
       "    }\n",
       "\n",
       "    .dataframe tbody tr th {\n",
       "        vertical-align: top;\n",
       "    }\n",
       "\n",
       "    .dataframe thead th {\n",
       "        text-align: right;\n",
       "    }\n",
       "</style>\n",
       "<table border=\"1\" class=\"dataframe\">\n",
       "  <thead>\n",
       "    <tr style=\"text-align: right;\">\n",
       "      <th></th>\n",
       "      <th>sales_price</th>\n",
       "      <th>market_price</th>\n",
       "    </tr>\n",
       "  </thead>\n",
       "  <tbody>\n",
       "    <tr>\n",
       "      <th>0</th>\n",
       "      <td>1677000</td>\n",
       "      <td>3050000</td>\n",
       "    </tr>\n",
       "    <tr>\n",
       "      <th>1</th>\n",
       "      <td>689000</td>\n",
       "      <td>849000</td>\n",
       "    </tr>\n",
       "    <tr>\n",
       "      <th>2</th>\n",
       "      <td>359000</td>\n",
       "      <td>649000</td>\n",
       "    </tr>\n",
       "    <tr>\n",
       "      <th>3</th>\n",
       "      <td>459000</td>\n",
       "      <td>829000</td>\n",
       "    </tr>\n",
       "    <tr>\n",
       "      <th>4</th>\n",
       "      <td>388000</td>\n",
       "      <td>699000</td>\n",
       "    </tr>\n",
       "  </tbody>\n",
       "</table>\n",
       "</div>"
      ],
      "text/plain": [
       "   sales_price  market_price\n",
       "0      1677000       3050000\n",
       "1       689000        849000\n",
       "2       359000        649000\n",
       "3       459000        829000\n",
       "4       388000        699000"
      ]
     },
     "execution_count": 52,
     "metadata": {
      "tags": []
     },
     "output_type": "execute_result"
    }
   ],
   "source": [
    "price_df['market_price'] = price_df['market_price'].str.replace(',', '').astype(int)\n",
    "print(price_df.dtypes)\n",
    "price_df.head()"
   ]
  },
  {
   "cell_type": "markdown",
   "metadata": {
    "id": "zOpBmBeWz8Sz"
   },
   "source": [
    "และเนื่องจากลูกค้าที่จะมาซื้อรถเป็นลูกค้าต่างชาติ เพราะฉะนั้นเราจึงต้องแปลงราคาขายของรถจากเงินบาทให้เป็นเงินดอลลาร์ โดยการสร้าง function `thb_to_usd` ขึ้นมาและใช้ `map()` หรือ `apply()` ในการนำ DataFrame หรือ Series นั้นมาเข้าสู่ function ที่ได้สร้างไว้"
   ]
  },
  {
   "cell_type": "code",
   "execution_count": 53,
   "metadata": {
    "id": "hKqqjvecbE6h"
   },
   "outputs": [],
   "source": [
    "def thb_to_usd(thb):\n",
    "  usd = thb / 30\n",
    "  return usd"
   ]
  },
  {
   "cell_type": "code",
   "execution_count": 54,
   "metadata": {
    "colab": {
     "base_uri": "https://localhost:8080/"
    },
    "id": "C1JCWBXUa8er",
    "outputId": "0cfa7692-3681-407a-af0a-cd2658b3c66f"
   },
   "outputs": [
    {
     "data": {
      "text/plain": [
       "0       55900.000000\n",
       "1       22966.666667\n",
       "2       11966.666667\n",
       "3       15300.000000\n",
       "4       12933.333333\n",
       "            ...     \n",
       "6148    12966.666667\n",
       "6149    29966.666667\n",
       "6150    86333.333333\n",
       "6151    17666.666667\n",
       "6152    32533.333333\n",
       "Name: sales_price, Length: 6153, dtype: float64"
      ]
     },
     "execution_count": 54,
     "metadata": {
      "tags": []
     },
     "output_type": "execute_result"
    }
   ],
   "source": [
    "price_df['sales_price'].map(thb_to_usd)"
   ]
  },
  {
   "cell_type": "code",
   "execution_count": 55,
   "metadata": {
    "colab": {
     "base_uri": "https://localhost:8080/"
    },
    "id": "9uclAiG8bXcU",
    "outputId": "f57469ac-aff1-4c84-b620-8a0be9474895"
   },
   "outputs": [
    {
     "data": {
      "text/plain": [
       "0       101666.666667\n",
       "1        28300.000000\n",
       "2        21633.333333\n",
       "3        27633.333333\n",
       "4        23300.000000\n",
       "            ...      \n",
       "6148     22733.333333\n",
       "6149     51366.666667\n",
       "6150    221666.666667\n",
       "6151     43300.000000\n",
       "6152     39666.666667\n",
       "Name: market_price, Length: 6153, dtype: float64"
      ]
     },
     "execution_count": 55,
     "metadata": {
      "tags": []
     },
     "output_type": "execute_result"
    }
   ],
   "source": [
    "price_df['market_price'].map(thb_to_usd)"
   ]
  },
  {
   "cell_type": "code",
   "execution_count": 57,
   "metadata": {
    "colab": {
     "base_uri": "https://localhost:8080/",
     "height": 283
    },
    "id": "_qm7Jog2bcUX",
    "outputId": "5a935dcc-1791-4b95-b6b2-f6f09fe6b977"
   },
   "outputs": [
    {
     "ename": "AttributeError",
     "evalue": "ignored",
     "output_type": "error",
     "traceback": [
      "\u001b[0;31m---------------------------------------------------------------------------\u001b[0m",
      "\u001b[0;31mAttributeError\u001b[0m                            Traceback (most recent call last)",
      "\u001b[0;32m<ipython-input-57-20af9c5a39a4>\u001b[0m in \u001b[0;36m<module>\u001b[0;34m()\u001b[0m\n\u001b[0;32m----> 1\u001b[0;31m \u001b[0mprice_df\u001b[0m\u001b[0;34m.\u001b[0m\u001b[0mmap\u001b[0m\u001b[0;34m(\u001b[0m\u001b[0mthb_to_usd\u001b[0m\u001b[0;34m)\u001b[0m\u001b[0;34m\u001b[0m\u001b[0;34m\u001b[0m\u001b[0m\n\u001b[0m",
      "\u001b[0;32m/usr/local/lib/python3.7/dist-packages/pandas/core/generic.py\u001b[0m in \u001b[0;36m__getattr__\u001b[0;34m(self, name)\u001b[0m\n\u001b[1;32m   5139\u001b[0m             \u001b[0;32mif\u001b[0m \u001b[0mself\u001b[0m\u001b[0;34m.\u001b[0m\u001b[0m_info_axis\u001b[0m\u001b[0;34m.\u001b[0m\u001b[0m_can_hold_identifiers_and_holds_name\u001b[0m\u001b[0;34m(\u001b[0m\u001b[0mname\u001b[0m\u001b[0;34m)\u001b[0m\u001b[0;34m:\u001b[0m\u001b[0;34m\u001b[0m\u001b[0;34m\u001b[0m\u001b[0m\n\u001b[1;32m   5140\u001b[0m                 \u001b[0;32mreturn\u001b[0m \u001b[0mself\u001b[0m\u001b[0;34m[\u001b[0m\u001b[0mname\u001b[0m\u001b[0;34m]\u001b[0m\u001b[0;34m\u001b[0m\u001b[0;34m\u001b[0m\u001b[0m\n\u001b[0;32m-> 5141\u001b[0;31m             \u001b[0;32mreturn\u001b[0m \u001b[0mobject\u001b[0m\u001b[0;34m.\u001b[0m\u001b[0m__getattribute__\u001b[0m\u001b[0;34m(\u001b[0m\u001b[0mself\u001b[0m\u001b[0;34m,\u001b[0m \u001b[0mname\u001b[0m\u001b[0;34m)\u001b[0m\u001b[0;34m\u001b[0m\u001b[0;34m\u001b[0m\u001b[0m\n\u001b[0m\u001b[1;32m   5142\u001b[0m \u001b[0;34m\u001b[0m\u001b[0m\n\u001b[1;32m   5143\u001b[0m     \u001b[0;32mdef\u001b[0m \u001b[0m__setattr__\u001b[0m\u001b[0;34m(\u001b[0m\u001b[0mself\u001b[0m\u001b[0;34m,\u001b[0m \u001b[0mname\u001b[0m\u001b[0;34m:\u001b[0m \u001b[0mstr\u001b[0m\u001b[0;34m,\u001b[0m \u001b[0mvalue\u001b[0m\u001b[0;34m)\u001b[0m \u001b[0;34m->\u001b[0m \u001b[0;32mNone\u001b[0m\u001b[0;34m:\u001b[0m\u001b[0;34m\u001b[0m\u001b[0;34m\u001b[0m\u001b[0m\n",
      "\u001b[0;31mAttributeError\u001b[0m: 'DataFrame' object has no attribute 'map'"
     ]
    }
   ],
   "source": [
    "price_df.map(thb_to_usd)"
   ]
  },
  {
   "cell_type": "code",
   "execution_count": 58,
   "metadata": {
    "colab": {
     "base_uri": "https://localhost:8080/",
     "height": 419
    },
    "id": "mFx5S9Y6bf9e",
    "outputId": "8e460b74-05bd-4cc5-adfa-2b7ee38ae41b"
   },
   "outputs": [
    {
     "data": {
      "text/html": [
       "<div>\n",
       "<style scoped>\n",
       "    .dataframe tbody tr th:only-of-type {\n",
       "        vertical-align: middle;\n",
       "    }\n",
       "\n",
       "    .dataframe tbody tr th {\n",
       "        vertical-align: top;\n",
       "    }\n",
       "\n",
       "    .dataframe thead th {\n",
       "        text-align: right;\n",
       "    }\n",
       "</style>\n",
       "<table border=\"1\" class=\"dataframe\">\n",
       "  <thead>\n",
       "    <tr style=\"text-align: right;\">\n",
       "      <th></th>\n",
       "      <th>sales_price</th>\n",
       "      <th>market_price</th>\n",
       "    </tr>\n",
       "  </thead>\n",
       "  <tbody>\n",
       "    <tr>\n",
       "      <th>0</th>\n",
       "      <td>55900.000000</td>\n",
       "      <td>101666.666667</td>\n",
       "    </tr>\n",
       "    <tr>\n",
       "      <th>1</th>\n",
       "      <td>22966.666667</td>\n",
       "      <td>28300.000000</td>\n",
       "    </tr>\n",
       "    <tr>\n",
       "      <th>2</th>\n",
       "      <td>11966.666667</td>\n",
       "      <td>21633.333333</td>\n",
       "    </tr>\n",
       "    <tr>\n",
       "      <th>3</th>\n",
       "      <td>15300.000000</td>\n",
       "      <td>27633.333333</td>\n",
       "    </tr>\n",
       "    <tr>\n",
       "      <th>4</th>\n",
       "      <td>12933.333333</td>\n",
       "      <td>23300.000000</td>\n",
       "    </tr>\n",
       "    <tr>\n",
       "      <th>...</th>\n",
       "      <td>...</td>\n",
       "      <td>...</td>\n",
       "    </tr>\n",
       "    <tr>\n",
       "      <th>6148</th>\n",
       "      <td>12966.666667</td>\n",
       "      <td>22733.333333</td>\n",
       "    </tr>\n",
       "    <tr>\n",
       "      <th>6149</th>\n",
       "      <td>29966.666667</td>\n",
       "      <td>51366.666667</td>\n",
       "    </tr>\n",
       "    <tr>\n",
       "      <th>6150</th>\n",
       "      <td>86333.333333</td>\n",
       "      <td>221666.666667</td>\n",
       "    </tr>\n",
       "    <tr>\n",
       "      <th>6151</th>\n",
       "      <td>17666.666667</td>\n",
       "      <td>43300.000000</td>\n",
       "    </tr>\n",
       "    <tr>\n",
       "      <th>6152</th>\n",
       "      <td>32533.333333</td>\n",
       "      <td>39666.666667</td>\n",
       "    </tr>\n",
       "  </tbody>\n",
       "</table>\n",
       "<p>6153 rows × 2 columns</p>\n",
       "</div>"
      ],
      "text/plain": [
       "       sales_price   market_price\n",
       "0     55900.000000  101666.666667\n",
       "1     22966.666667   28300.000000\n",
       "2     11966.666667   21633.333333\n",
       "3     15300.000000   27633.333333\n",
       "4     12933.333333   23300.000000\n",
       "...            ...            ...\n",
       "6148  12966.666667   22733.333333\n",
       "6149  29966.666667   51366.666667\n",
       "6150  86333.333333  221666.666667\n",
       "6151  17666.666667   43300.000000\n",
       "6152  32533.333333   39666.666667\n",
       "\n",
       "[6153 rows x 2 columns]"
      ]
     },
     "execution_count": 58,
     "metadata": {
      "tags": []
     },
     "output_type": "execute_result"
    }
   ],
   "source": [
    "price_df.apply(thb_to_usd)"
   ]
  },
  {
   "cell_type": "markdown",
   "metadata": {
    "id": "nIFgDx2B0t6K"
   },
   "source": [
    "จากโค้ดข้างบนจะเห็นได้ว่าทั้ง `map()` และ `apply()` สามารถนำข้อมูลที่มีเข้าสู่ function ได้ แต่ข้อแตกต่างที่สำคัญระหว่าง 2 ตัวนี้คือ `apply()` นั้น จะสามารถใช้ได้กับทั้ง Series และ DataFrame ในขณะที่ `map()` นั้่นจะสามารถใช้ได้กับ Series เท่านั้น"
   ]
  },
  {
   "cell_type": "markdown",
   "metadata": {
    "id": "46xwyYHC1b9Y"
   },
   "source": [
    "และสิ่งสุดท้ายที่เราต้องการคือการหาความแตกต่างระหว่างราคาตลาดและราคาขายของรถ เราจึงสามารถใช้ `apply()` ได้ และเราจะใช้ `lambda` function เข้ามาช่วย โดยตัว `lambda` function นั้น เปรียบเสมือน function ขนาดเล็กที่ไม่ต้องมีการกำหนดชื่อของ function\n",
    "\n",
    "![](https://github.com/opalchonlapat/sample-data/blob/master/img/1554612772628.jpg?raw=true)"
   ]
  },
  {
   "cell_type": "code",
   "execution_count": 59,
   "metadata": {
    "colab": {
     "base_uri": "https://localhost:8080/"
    },
    "id": "8SyAditbb3bs",
    "outputId": "d138f727-bfbc-4121-d0ad-c7689e964d55"
   },
   "outputs": [
    {
     "data": {
      "text/plain": [
       "0       1373000\n",
       "1        160000\n",
       "2        290000\n",
       "3        370000\n",
       "4        311000\n",
       "         ...   \n",
       "6148     293000\n",
       "6149     642000\n",
       "6150    4060000\n",
       "6151     769000\n",
       "6152     214000\n",
       "Length: 6153, dtype: int64"
      ]
     },
     "execution_count": 59,
     "metadata": {
      "tags": []
     },
     "output_type": "execute_result"
    }
   ],
   "source": [
    "price_df.apply(lambda x: x['market_price'] - x['sales_price'], axis=1)"
   ]
  },
  {
   "cell_type": "code",
   "execution_count": 60,
   "metadata": {
    "id": "dYqmVKzs2CSS"
   },
   "outputs": [],
   "source": [
    "def find_diff_price(x):\n",
    "  return x['market_price'] - x['sales_price']"
   ]
  },
  {
   "cell_type": "code",
   "execution_count": 61,
   "metadata": {
    "colab": {
     "base_uri": "https://localhost:8080/"
    },
    "id": "WUoOGwPS2JcZ",
    "outputId": "1b769f55-f790-44f2-a0fc-7c97bb4ddad0"
   },
   "outputs": [
    {
     "data": {
      "text/plain": [
       "0       1373000\n",
       "1        160000\n",
       "2        290000\n",
       "3        370000\n",
       "4        311000\n",
       "         ...   \n",
       "6148     293000\n",
       "6149     642000\n",
       "6150    4060000\n",
       "6151     769000\n",
       "6152     214000\n",
       "Length: 6153, dtype: int64"
      ]
     },
     "execution_count": 61,
     "metadata": {
      "tags": []
     },
     "output_type": "execute_result"
    }
   ],
   "source": [
    "price_df.apply(find_diff_price, axis=1)"
   ]
  },
  {
   "cell_type": "markdown",
   "metadata": {
    "id": "Rjfc5D7EUPyx"
   },
   "source": [
    "## Analyze data\n",
    "\n",
    "ข้อมูลที่เราจะนำมาวิเคราะห์ในนี้คือข้อมูลของ species ของดอก iris โดยหลักๆจะมี 3 species คือ setosa, versicolor, และ virginica โดยแต่ละประเภทก็จะมีความยาว `length` และความกว้าง `width` ของกลีบเลี้ยง `sepal` และกลีบดอก `petal` ที่แตกต่างกันไป\n",
    "\n",
    "![](https://miro.medium.com/max/2000/0*_WfmSKzMX-u_xVyc.png)"
   ]
  },
  {
   "cell_type": "code",
   "execution_count": 62,
   "metadata": {
    "id": "LbZA9yoeUcoY"
   },
   "outputs": [],
   "source": [
    "iris = pd.read_csv('https://gist.githubusercontent.com/curran/a08a1080b88344b0c8a7/raw/0e7a9b0a5d22642a06d3d5b9bcbad9890c8ee534/iris.csv')"
   ]
  },
  {
   "cell_type": "code",
   "execution_count": 63,
   "metadata": {
    "colab": {
     "base_uri": "https://localhost:8080/",
     "height": 419
    },
    "id": "Ojq9oCM5bKv_",
    "outputId": "e3b3546a-dbbf-4937-9676-ac907a66ba87"
   },
   "outputs": [
    {
     "data": {
      "text/html": [
       "<div>\n",
       "<style scoped>\n",
       "    .dataframe tbody tr th:only-of-type {\n",
       "        vertical-align: middle;\n",
       "    }\n",
       "\n",
       "    .dataframe tbody tr th {\n",
       "        vertical-align: top;\n",
       "    }\n",
       "\n",
       "    .dataframe thead th {\n",
       "        text-align: right;\n",
       "    }\n",
       "</style>\n",
       "<table border=\"1\" class=\"dataframe\">\n",
       "  <thead>\n",
       "    <tr style=\"text-align: right;\">\n",
       "      <th></th>\n",
       "      <th>sepal_length</th>\n",
       "      <th>sepal_width</th>\n",
       "      <th>petal_length</th>\n",
       "      <th>petal_width</th>\n",
       "      <th>species</th>\n",
       "    </tr>\n",
       "  </thead>\n",
       "  <tbody>\n",
       "    <tr>\n",
       "      <th>0</th>\n",
       "      <td>5.1</td>\n",
       "      <td>3.5</td>\n",
       "      <td>1.4</td>\n",
       "      <td>0.2</td>\n",
       "      <td>setosa</td>\n",
       "    </tr>\n",
       "    <tr>\n",
       "      <th>1</th>\n",
       "      <td>4.9</td>\n",
       "      <td>3.0</td>\n",
       "      <td>1.4</td>\n",
       "      <td>0.2</td>\n",
       "      <td>setosa</td>\n",
       "    </tr>\n",
       "    <tr>\n",
       "      <th>2</th>\n",
       "      <td>4.7</td>\n",
       "      <td>3.2</td>\n",
       "      <td>1.3</td>\n",
       "      <td>0.2</td>\n",
       "      <td>setosa</td>\n",
       "    </tr>\n",
       "    <tr>\n",
       "      <th>3</th>\n",
       "      <td>4.6</td>\n",
       "      <td>3.1</td>\n",
       "      <td>1.5</td>\n",
       "      <td>0.2</td>\n",
       "      <td>setosa</td>\n",
       "    </tr>\n",
       "    <tr>\n",
       "      <th>4</th>\n",
       "      <td>5.0</td>\n",
       "      <td>3.6</td>\n",
       "      <td>1.4</td>\n",
       "      <td>0.2</td>\n",
       "      <td>setosa</td>\n",
       "    </tr>\n",
       "    <tr>\n",
       "      <th>...</th>\n",
       "      <td>...</td>\n",
       "      <td>...</td>\n",
       "      <td>...</td>\n",
       "      <td>...</td>\n",
       "      <td>...</td>\n",
       "    </tr>\n",
       "    <tr>\n",
       "      <th>145</th>\n",
       "      <td>6.7</td>\n",
       "      <td>3.0</td>\n",
       "      <td>5.2</td>\n",
       "      <td>2.3</td>\n",
       "      <td>virginica</td>\n",
       "    </tr>\n",
       "    <tr>\n",
       "      <th>146</th>\n",
       "      <td>6.3</td>\n",
       "      <td>2.5</td>\n",
       "      <td>5.0</td>\n",
       "      <td>1.9</td>\n",
       "      <td>virginica</td>\n",
       "    </tr>\n",
       "    <tr>\n",
       "      <th>147</th>\n",
       "      <td>6.5</td>\n",
       "      <td>3.0</td>\n",
       "      <td>5.2</td>\n",
       "      <td>2.0</td>\n",
       "      <td>virginica</td>\n",
       "    </tr>\n",
       "    <tr>\n",
       "      <th>148</th>\n",
       "      <td>6.2</td>\n",
       "      <td>3.4</td>\n",
       "      <td>5.4</td>\n",
       "      <td>2.3</td>\n",
       "      <td>virginica</td>\n",
       "    </tr>\n",
       "    <tr>\n",
       "      <th>149</th>\n",
       "      <td>5.9</td>\n",
       "      <td>3.0</td>\n",
       "      <td>5.1</td>\n",
       "      <td>1.8</td>\n",
       "      <td>virginica</td>\n",
       "    </tr>\n",
       "  </tbody>\n",
       "</table>\n",
       "<p>150 rows × 5 columns</p>\n",
       "</div>"
      ],
      "text/plain": [
       "     sepal_length  sepal_width  petal_length  petal_width    species\n",
       "0             5.1          3.5           1.4          0.2     setosa\n",
       "1             4.9          3.0           1.4          0.2     setosa\n",
       "2             4.7          3.2           1.3          0.2     setosa\n",
       "3             4.6          3.1           1.5          0.2     setosa\n",
       "4             5.0          3.6           1.4          0.2     setosa\n",
       "..            ...          ...           ...          ...        ...\n",
       "145           6.7          3.0           5.2          2.3  virginica\n",
       "146           6.3          2.5           5.0          1.9  virginica\n",
       "147           6.5          3.0           5.2          2.0  virginica\n",
       "148           6.2          3.4           5.4          2.3  virginica\n",
       "149           5.9          3.0           5.1          1.8  virginica\n",
       "\n",
       "[150 rows x 5 columns]"
      ]
     },
     "execution_count": 63,
     "metadata": {
      "tags": []
     },
     "output_type": "execute_result"
    }
   ],
   "source": [
    "iris"
   ]
  },
  {
   "cell_type": "markdown",
   "metadata": {
    "id": "YlXdQKar6jnQ"
   },
   "source": [
    "### Question:\n",
    "1. ค่าเฉลี่ยของความยาวและความกว้างของกลีบเลี้ยงคือเท่าไหร่ ?\n",
    "2. กลีบดอกมีความยาวและความกว้่างมากที่สุดเท่าไหร่ ?\n",
    "3. ดอกไม้ species ไหน มีจำนวนเยอะที่สุด ?\n",
    "4. แต่ละ species มีค่าเฉลี่ยความยาวและความกว้างของกลีบเลี้ยงคือเท่าไหร่ ?"
   ]
  },
  {
   "cell_type": "code",
   "execution_count": 63,
   "metadata": {
    "id": "ujjw5osYAIli"
   },
   "outputs": [],
   "source": []
  }
 ],
 "metadata": {
  "colab": {
   "collapsed_sections": [],
   "name": "ai_builder_pandas.ipynb",
   "provenance": [],
   "toc_visible": true
  },
  "kernelspec": {
   "display_name": "Python 3",
   "language": "python",
   "name": "python3"
  },
  "language_info": {
   "codemirror_mode": {
    "name": "ipython",
    "version": 3
   },
   "file_extension": ".py",
   "mimetype": "text/x-python",
   "name": "python",
   "nbconvert_exporter": "python",
   "pygments_lexer": "ipython3",
   "version": "3.6.7"
  }
 },
 "nbformat": 4,
 "nbformat_minor": 4
}
