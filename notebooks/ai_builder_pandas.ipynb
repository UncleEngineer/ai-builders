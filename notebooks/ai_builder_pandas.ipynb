{
 "cells": [
  {
   "cell_type": "markdown",
   "metadata": {
    "id": "4Y1vJWx4Ntyv"
   },
   "source": [
    "# Introduction to Pandas"
   ]
  },
  {
   "cell_type": "markdown",
   "metadata": {},
   "source": [
    "[![](https://colab.research.google.com/assets/colab-badge.svg)](https://colab.research.google.com/drive/1FpWjpPEvJgCfo3XmkY-NPfRSNcmjDHrn?usp=sharing)"
   ]
  },
  {
   "cell_type": "code",
   "execution_count": 1,
   "metadata": {
    "id": "pi3RJlBrOhrf"
   },
   "outputs": [],
   "source": [
    "import pandas as pd"
   ]
  },
  {
   "cell_type": "markdown",
   "metadata": {
    "id": "zHliYFRBNxf4"
   },
   "source": [
    "## 1. Read data"
   ]
  },
  {
   "cell_type": "code",
   "execution_count": 2,
   "metadata": {
    "id": "uxE-qQHnM7qx"
   },
   "outputs": [],
   "source": [
    "# show read big dataset"
   ]
  },
  {
   "cell_type": "code",
   "execution_count": 51,
   "metadata": {
    "id": "pctTMUE3QZGQ"
   },
   "outputs": [],
   "source": [
    "df = pd.read_csv('https://raw.githubusercontent.com/cstorm125/viztech/master/data/taladrod.csv')"
   ]
  },
  {
   "cell_type": "code",
   "execution_count": 14,
   "metadata": {
    "colab": {
     "base_uri": "https://localhost:8080/",
     "height": 479
    },
    "id": "YJXeAIJupxpd",
    "outputId": "69b279cc-4502-4d8b-8760-3fd068587a27"
   },
   "outputs": [
    {
     "data": {
      "text/html": [
       "<div>\n",
       "<style scoped>\n",
       "    .dataframe tbody tr th:only-of-type {\n",
       "        vertical-align: middle;\n",
       "    }\n",
       "\n",
       "    .dataframe tbody tr th {\n",
       "        vertical-align: top;\n",
       "    }\n",
       "\n",
       "    .dataframe thead th {\n",
       "        text-align: right;\n",
       "    }\n",
       "</style>\n",
       "<table border=\"1\" class=\"dataframe\">\n",
       "  <thead>\n",
       "    <tr style=\"text-align: right;\">\n",
       "      <th></th>\n",
       "      <th>id</th>\n",
       "      <th>brand</th>\n",
       "      <th>series</th>\n",
       "      <th>model</th>\n",
       "      <th>gen</th>\n",
       "      <th>year</th>\n",
       "      <th>color</th>\n",
       "      <th>gear</th>\n",
       "      <th>gas</th>\n",
       "      <th>sales_price</th>\n",
       "      <th>original_price</th>\n",
       "      <th>market_price</th>\n",
       "      <th>description</th>\n",
       "      <th>contact_location</th>\n",
       "      <th>subscribers</th>\n",
       "      <th>scraped_date</th>\n",
       "      <th>removed_date</th>\n",
       "    </tr>\n",
       "  </thead>\n",
       "  <tbody>\n",
       "    <tr>\n",
       "      <th>0</th>\n",
       "      <td>2210000</td>\n",
       "      <td>HONDA</td>\n",
       "      <td>JAZZ</td>\n",
       "      <td>1.5 i-VTEC SV (AS)</td>\n",
       "      <td>ปี08-13</td>\n",
       "      <td>2014.0</td>\n",
       "      <td>สีขาว</td>\n",
       "      <td>เกียร์ออโต้</td>\n",
       "      <td>NaN</td>\n",
       "      <td>488,000</td>\n",
       "      <td>NaN</td>\n",
       "      <td>NaN</td>\n",
       "      <td>เครดิตดีออกรถ10,000จบครับ\\nรับประกันเครื่องเกี...</td>\n",
       "      <td>กรุงเทพฯ</td>\n",
       "      <td>1047.0</td>\n",
       "      <td>2019-05-22</td>\n",
       "      <td>NaN</td>\n",
       "    </tr>\n",
       "    <tr>\n",
       "      <th>1</th>\n",
       "      <td>2210001</td>\n",
       "      <td>TOYOTA</td>\n",
       "      <td>ESTIMA</td>\n",
       "      <td>2.4 G HYBRID</td>\n",
       "      <td>ปี10-ปัจจุบัน</td>\n",
       "      <td>2013.0</td>\n",
       "      <td>สีขาว</td>\n",
       "      <td>เกียร์ออโต้</td>\n",
       "      <td>NaN</td>\n",
       "      <td>1,677,000</td>\n",
       "      <td>NaN</td>\n",
       "      <td>3,050,000</td>\n",
       "      <td>TOPสุด Estima Aeras Hybrid รถเข้าเซอร์วิส TOYO...</td>\n",
       "      <td>กรุงเทพฯ</td>\n",
       "      <td>182.0</td>\n",
       "      <td>2019-05-22</td>\n",
       "      <td>NaN</td>\n",
       "    </tr>\n",
       "    <tr>\n",
       "      <th>2</th>\n",
       "      <td>2210009</td>\n",
       "      <td>HONDA</td>\n",
       "      <td>JAZZ</td>\n",
       "      <td>1.5 i-VTEC V (AS)</td>\n",
       "      <td>ปี08-13</td>\n",
       "      <td>2008.0</td>\n",
       "      <td>สีน้ำเงิน</td>\n",
       "      <td>เกียร์ออโต้</td>\n",
       "      <td>NaN</td>\n",
       "      <td>338,000</td>\n",
       "      <td>NaN</td>\n",
       "      <td>NaN</td>\n",
       "      <td>เครดิดีออกรถ10,000จบครับ\\nรับประกันเครื่องเกีย...</td>\n",
       "      <td>กรุงเทพฯ</td>\n",
       "      <td>1047.0</td>\n",
       "      <td>2019-05-22</td>\n",
       "      <td>NaN</td>\n",
       "    </tr>\n",
       "    <tr>\n",
       "      <th>3</th>\n",
       "      <td>2210012</td>\n",
       "      <td>FORD</td>\n",
       "      <td>RANGER</td>\n",
       "      <td>2.2 WILDTRAK DBL CAB HI-RIDER</td>\n",
       "      <td>DOUBLECAB</td>\n",
       "      <td>2016.0</td>\n",
       "      <td>สีขาว</td>\n",
       "      <td>เกียร์ออโต้</td>\n",
       "      <td>NaN</td>\n",
       "      <td>689,000</td>\n",
       "      <td>NaN</td>\n",
       "      <td>849,000</td>\n",
       "      <td>รับรองสภาพ ไม่มีชน มือเดียว พาช่างมาตรวจสภาพรถ...</td>\n",
       "      <td>กรุงเทพฯ</td>\n",
       "      <td>760.0</td>\n",
       "      <td>2019-05-22</td>\n",
       "      <td>NaN</td>\n",
       "    </tr>\n",
       "    <tr>\n",
       "      <th>4</th>\n",
       "      <td>2210016</td>\n",
       "      <td>TOYOTA</td>\n",
       "      <td>SOLUNA</td>\n",
       "      <td>VIOS 1.5 E (ABS+AB)</td>\n",
       "      <td>VIOS ปี13-ปัจจุบัน</td>\n",
       "      <td>2015.0</td>\n",
       "      <td>สีบรอนซ์เงิน</td>\n",
       "      <td>เกียร์ออโต้</td>\n",
       "      <td>NaN</td>\n",
       "      <td>359,000</td>\n",
       "      <td>NaN</td>\n",
       "      <td>649,000</td>\n",
       "      <td>ไมล์แท้ 99,xxx TOYOTA SOLUNA VIOS 1.5E\\nTOYOTA...</td>\n",
       "      <td>กรุงเทพฯ</td>\n",
       "      <td>699.0</td>\n",
       "      <td>2019-05-22</td>\n",
       "      <td>NaN</td>\n",
       "    </tr>\n",
       "  </tbody>\n",
       "</table>\n",
       "</div>"
      ],
      "text/plain": [
       "        id   brand  series  ... subscribers scraped_date  removed_date\n",
       "0  2210000   HONDA    JAZZ  ...      1047.0   2019-05-22           NaN\n",
       "1  2210001  TOYOTA  ESTIMA  ...       182.0   2019-05-22           NaN\n",
       "2  2210009   HONDA    JAZZ  ...      1047.0   2019-05-22           NaN\n",
       "3  2210012    FORD  RANGER  ...       760.0   2019-05-22           NaN\n",
       "4  2210016  TOYOTA  SOLUNA  ...       699.0   2019-05-22           NaN\n",
       "\n",
       "[5 rows x 17 columns]"
      ]
     },
     "execution_count": 14,
     "metadata": {
      "tags": []
     },
     "output_type": "execute_result"
    }
   ],
   "source": [
    "df.head()"
   ]
  },
  {
   "cell_type": "code",
   "execution_count": 15,
   "metadata": {
    "colab": {
     "base_uri": "https://localhost:8080/"
    },
    "id": "-lXGsCEwp1xl",
    "outputId": "9d25147c-0a9f-4c7d-9b93-4b00d98481f8"
   },
   "outputs": [
    {
     "name": "stdout",
     "output_type": "stream",
     "text": [
      "<class 'pandas.core.frame.DataFrame'>\n",
      "RangeIndex: 14037 entries, 0 to 14036\n",
      "Data columns (total 17 columns):\n",
      " #   Column            Non-Null Count  Dtype  \n",
      "---  ------            --------------  -----  \n",
      " 0   id                14037 non-null  int64  \n",
      " 1   brand             14037 non-null  object \n",
      " 2   series            14037 non-null  object \n",
      " 3   model             14037 non-null  object \n",
      " 4   gen               14037 non-null  object \n",
      " 5   year              14037 non-null  float64\n",
      " 6   color             14037 non-null  object \n",
      " 7   gear              14037 non-null  object \n",
      " 8   gas               891 non-null    object \n",
      " 9   sales_price       14037 non-null  object \n",
      " 10  original_price    121 non-null    object \n",
      " 11  market_price      6153 non-null   object \n",
      " 12  description       14037 non-null  object \n",
      " 13  contact_location  14037 non-null  object \n",
      " 14  subscribers       14028 non-null  float64\n",
      " 15  scraped_date      14037 non-null  object \n",
      " 16  removed_date      1590 non-null   object \n",
      "dtypes: float64(2), int64(1), object(14)\n",
      "memory usage: 1.8+ MB\n"
     ]
    }
   ],
   "source": [
    "df.info()"
   ]
  },
  {
   "cell_type": "markdown",
   "metadata": {
    "id": "mntApgBFQvpZ"
   },
   "source": [
    "## 2. Series"
   ]
  },
  {
   "cell_type": "code",
   "execution_count": 16,
   "metadata": {
    "colab": {
     "base_uri": "https://localhost:8080/"
    },
    "id": "i-7sI2XFQbI4",
    "outputId": "db8166ac-92ea-45be-92c8-1286f139627a"
   },
   "outputs": [
    {
     "data": {
      "text/plain": [
       "0          488,000\n",
       "1        1,677,000\n",
       "2          338,000\n",
       "3          689,000\n",
       "4          359,000\n",
       "           ...    \n",
       "14032      428,000\n",
       "14033      530,000\n",
       "14034      435,000\n",
       "14035      168,000\n",
       "14036      976,000\n",
       "Name: sales_price, Length: 14037, dtype: object"
      ]
     },
     "execution_count": 16,
     "metadata": {
      "tags": []
     },
     "output_type": "execute_result"
    }
   ],
   "source": [
    "ser = df['sales_price']\n",
    "ser"
   ]
  },
  {
   "cell_type": "code",
   "execution_count": 17,
   "metadata": {
    "colab": {
     "base_uri": "https://localhost:8080/"
    },
    "id": "CNZNDPO5Q0vM",
    "outputId": "77d666d0-1e1a-4207-98e9-ba03463edd5e"
   },
   "outputs": [
    {
     "data": {
      "text/plain": [
       "(14037,)"
      ]
     },
     "execution_count": 17,
     "metadata": {
      "tags": []
     },
     "output_type": "execute_result"
    }
   ],
   "source": [
    "ser.shape"
   ]
  },
  {
   "cell_type": "markdown",
   "metadata": {
    "id": "m1uj0RjhQ-6v"
   },
   "source": [
    "## 3. Dataframe"
   ]
  },
  {
   "cell_type": "code",
   "execution_count": 18,
   "metadata": {
    "colab": {
     "base_uri": "https://localhost:8080/",
     "height": 496
    },
    "id": "mqF8yjuWQ3wV",
    "outputId": "2785714d-ea59-49b4-eaaf-7af3973a5155"
   },
   "outputs": [
    {
     "data": {
      "text/html": [
       "<div>\n",
       "<style scoped>\n",
       "    .dataframe tbody tr th:only-of-type {\n",
       "        vertical-align: middle;\n",
       "    }\n",
       "\n",
       "    .dataframe tbody tr th {\n",
       "        vertical-align: top;\n",
       "    }\n",
       "\n",
       "    .dataframe thead th {\n",
       "        text-align: right;\n",
       "    }\n",
       "</style>\n",
       "<table border=\"1\" class=\"dataframe\">\n",
       "  <thead>\n",
       "    <tr style=\"text-align: right;\">\n",
       "      <th></th>\n",
       "      <th>id</th>\n",
       "      <th>brand</th>\n",
       "      <th>series</th>\n",
       "      <th>model</th>\n",
       "      <th>gen</th>\n",
       "      <th>year</th>\n",
       "      <th>color</th>\n",
       "      <th>gear</th>\n",
       "      <th>gas</th>\n",
       "      <th>sales_price</th>\n",
       "      <th>original_price</th>\n",
       "      <th>market_price</th>\n",
       "      <th>description</th>\n",
       "      <th>contact_location</th>\n",
       "      <th>subscribers</th>\n",
       "      <th>scraped_date</th>\n",
       "      <th>removed_date</th>\n",
       "    </tr>\n",
       "  </thead>\n",
       "  <tbody>\n",
       "    <tr>\n",
       "      <th>14032</th>\n",
       "      <td>2232877</td>\n",
       "      <td>HONDA</td>\n",
       "      <td>CIVIC</td>\n",
       "      <td>1.8 E</td>\n",
       "      <td>FB ปี12-15</td>\n",
       "      <td>2012.0</td>\n",
       "      <td>สีบรอนซ์เงิน</td>\n",
       "      <td>เกียร์ออโต้</td>\n",
       "      <td>NaN</td>\n",
       "      <td>428,000</td>\n",
       "      <td>NaN</td>\n",
       "      <td>NaN</td>\n",
       "      <td>2012 Honda civic FB 1.8E auto เบาะไฟฟ้า สภาพสว...</td>\n",
       "      <td>กรุงเทพฯ</td>\n",
       "      <td>1614.0</td>\n",
       "      <td>2019-05-28</td>\n",
       "      <td>NaN</td>\n",
       "    </tr>\n",
       "    <tr>\n",
       "      <th>14033</th>\n",
       "      <td>2232878</td>\n",
       "      <td>TOYOTA</td>\n",
       "      <td>CAMRY</td>\n",
       "      <td>2.0 G</td>\n",
       "      <td>ปี06-12</td>\n",
       "      <td>2011.0</td>\n",
       "      <td>สีเทา</td>\n",
       "      <td>เกียร์ออโต้</td>\n",
       "      <td>NaN</td>\n",
       "      <td>530,000</td>\n",
       "      <td>NaN</td>\n",
       "      <td>1,299,000</td>\n",
       "      <td>รถศูนย์ TOYOTA CAMRY 2.0 G ปี 2011\\nรถศูนย์ สภ...</td>\n",
       "      <td>ปทุมธานี</td>\n",
       "      <td>1469.0</td>\n",
       "      <td>2019-05-28</td>\n",
       "      <td>NaN</td>\n",
       "    </tr>\n",
       "    <tr>\n",
       "      <th>14034</th>\n",
       "      <td>2232879</td>\n",
       "      <td>TOYOTA</td>\n",
       "      <td>CAMRY</td>\n",
       "      <td>2.4 HYBRID</td>\n",
       "      <td>ปี06-12</td>\n",
       "      <td>2010.0</td>\n",
       "      <td>สีขาว</td>\n",
       "      <td>เกียร์ออโต้</td>\n",
       "      <td>NaN</td>\n",
       "      <td>435,000</td>\n",
       "      <td>NaN</td>\n",
       "      <td>NaN</td>\n",
       "      <td>Camry Hybrid วิ่งน้อย เช็ค0ทุกระยะ สภาพใหม่กิ๊...</td>\n",
       "      <td>กรุงเทพฯ</td>\n",
       "      <td>1469.0</td>\n",
       "      <td>2019-05-28</td>\n",
       "      <td>NaN</td>\n",
       "    </tr>\n",
       "    <tr>\n",
       "      <th>14035</th>\n",
       "      <td>2232880</td>\n",
       "      <td>HONDA</td>\n",
       "      <td>JAZZ</td>\n",
       "      <td>1.5 S</td>\n",
       "      <td>แรก</td>\n",
       "      <td>2006.0</td>\n",
       "      <td>สีขาว</td>\n",
       "      <td>เกียร์ออโต้</td>\n",
       "      <td>NaN</td>\n",
       "      <td>168,000</td>\n",
       "      <td>NaN</td>\n",
       "      <td>NaN</td>\n",
       "      <td>Honda Jazz ปี2006  เกียร์auto  ขาย 168000 บ.\\n...</td>\n",
       "      <td>กรุงเทพฯ</td>\n",
       "      <td>825.0</td>\n",
       "      <td>2019-05-28</td>\n",
       "      <td>NaN</td>\n",
       "    </tr>\n",
       "    <tr>\n",
       "      <th>14036</th>\n",
       "      <td>2232881</td>\n",
       "      <td>HONDA</td>\n",
       "      <td>CIVIC</td>\n",
       "      <td>1.5 TURBO RS</td>\n",
       "      <td>FC ปี16-ปัจจุบัน</td>\n",
       "      <td>2016.0</td>\n",
       "      <td>สีเทา</td>\n",
       "      <td>เกียร์ออโต้</td>\n",
       "      <td>NaN</td>\n",
       "      <td>976,000</td>\n",
       "      <td>NaN</td>\n",
       "      <td>1,190,000</td>\n",
       "      <td>1.5 Turbo RS Topสุด โฉม FC ยังมีวารันตีศูนย์ ไ...</td>\n",
       "      <td>กรุงเทพฯ</td>\n",
       "      <td>1147.0</td>\n",
       "      <td>2019-05-28</td>\n",
       "      <td>NaN</td>\n",
       "    </tr>\n",
       "  </tbody>\n",
       "</table>\n",
       "</div>"
      ],
      "text/plain": [
       "            id   brand series  ... subscribers scraped_date  removed_date\n",
       "14032  2232877   HONDA  CIVIC  ...      1614.0   2019-05-28           NaN\n",
       "14033  2232878  TOYOTA  CAMRY  ...      1469.0   2019-05-28           NaN\n",
       "14034  2232879  TOYOTA  CAMRY  ...      1469.0   2019-05-28           NaN\n",
       "14035  2232880   HONDA   JAZZ  ...       825.0   2019-05-28           NaN\n",
       "14036  2232881   HONDA  CIVIC  ...      1147.0   2019-05-28           NaN\n",
       "\n",
       "[5 rows x 17 columns]"
      ]
     },
     "execution_count": 18,
     "metadata": {
      "tags": []
     },
     "output_type": "execute_result"
    }
   ],
   "source": [
    "df.tail()"
   ]
  },
  {
   "cell_type": "code",
   "execution_count": 19,
   "metadata": {
    "colab": {
     "base_uri": "https://localhost:8080/"
    },
    "id": "PRV5oRBZRFNa",
    "outputId": "da337c4a-f328-44f3-d802-1ac772c71cb8"
   },
   "outputs": [
    {
     "data": {
      "text/plain": [
       "(14037, 17)"
      ]
     },
     "execution_count": 19,
     "metadata": {
      "tags": []
     },
     "output_type": "execute_result"
    }
   ],
   "source": [
    "df.shape"
   ]
  },
  {
   "cell_type": "markdown",
   "metadata": {
    "id": "dBTbbUx7SJHY"
   },
   "source": [
    "## 4. Indexing"
   ]
  },
  {
   "cell_type": "markdown",
   "metadata": {
    "id": "l_hDtQawSi7x"
   },
   "source": [
    "Position"
   ]
  },
  {
   "cell_type": "code",
   "execution_count": 20,
   "metadata": {
    "colab": {
     "base_uri": "https://localhost:8080/"
    },
    "id": "gnVBrsVbRJpj",
    "outputId": "81bd375f-0a50-49c8-82a9-4cc0de9b67d0"
   },
   "outputs": [
    {
     "data": {
      "text/plain": [
       "id                                                            2210012\n",
       "brand                                                            FORD\n",
       "series                                                         RANGER\n",
       "model                                   2.2 WILDTRAK DBL CAB HI-RIDER\n",
       "gen                                                         DOUBLECAB\n",
       "year                                                             2016\n",
       "color                                                           สีขาว\n",
       "gear                                                      เกียร์ออโต้\n",
       "gas                                                               NaN\n",
       "sales_price                                                   689,000\n",
       "original_price                                                    NaN\n",
       "market_price                                                  849,000\n",
       "description         รับรองสภาพ ไม่มีชน มือเดียว พาช่างมาตรวจสภาพรถ...\n",
       "contact_location                                             กรุงเทพฯ\n",
       "subscribers                                                       760\n",
       "scraped_date                                               2019-05-22\n",
       "removed_date                                                      NaN\n",
       "Name: 3, dtype: object"
      ]
     },
     "execution_count": 20,
     "metadata": {
      "tags": []
     },
     "output_type": "execute_result"
    }
   ],
   "source": [
    "df.iloc[3]"
   ]
  },
  {
   "cell_type": "code",
   "execution_count": 21,
   "metadata": {
    "colab": {
     "base_uri": "https://localhost:8080/",
     "height": 111
    },
    "id": "iAixTmE4SUQ3",
    "outputId": "50340c10-d93d-4c76-fce9-e602f15889f4"
   },
   "outputs": [
    {
     "data": {
      "text/html": [
       "<div>\n",
       "<style scoped>\n",
       "    .dataframe tbody tr th:only-of-type {\n",
       "        vertical-align: middle;\n",
       "    }\n",
       "\n",
       "    .dataframe tbody tr th {\n",
       "        vertical-align: top;\n",
       "    }\n",
       "\n",
       "    .dataframe thead th {\n",
       "        text-align: right;\n",
       "    }\n",
       "</style>\n",
       "<table border=\"1\" class=\"dataframe\">\n",
       "  <thead>\n",
       "    <tr style=\"text-align: right;\">\n",
       "      <th></th>\n",
       "      <th>id</th>\n",
       "      <th>brand</th>\n",
       "    </tr>\n",
       "  </thead>\n",
       "  <tbody>\n",
       "    <tr>\n",
       "      <th>3</th>\n",
       "      <td>2210012</td>\n",
       "      <td>FORD</td>\n",
       "    </tr>\n",
       "    <tr>\n",
       "      <th>4</th>\n",
       "      <td>2210016</td>\n",
       "      <td>TOYOTA</td>\n",
       "    </tr>\n",
       "  </tbody>\n",
       "</table>\n",
       "</div>"
      ],
      "text/plain": [
       "        id   brand\n",
       "3  2210012    FORD\n",
       "4  2210016  TOYOTA"
      ]
     },
     "execution_count": 21,
     "metadata": {
      "tags": []
     },
     "output_type": "execute_result"
    }
   ],
   "source": [
    "df.iloc[3:5, 0:2]"
   ]
  },
  {
   "cell_type": "code",
   "execution_count": 22,
   "metadata": {
    "colab": {
     "base_uri": "https://localhost:8080/",
     "height": 142
    },
    "id": "sgf1dURmSSay",
    "outputId": "21e50b9a-0b71-436c-ad27-e85aa0a6829d"
   },
   "outputs": [
    {
     "data": {
      "text/html": [
       "<div>\n",
       "<style scoped>\n",
       "    .dataframe tbody tr th:only-of-type {\n",
       "        vertical-align: middle;\n",
       "    }\n",
       "\n",
       "    .dataframe tbody tr th {\n",
       "        vertical-align: top;\n",
       "    }\n",
       "\n",
       "    .dataframe thead th {\n",
       "        text-align: right;\n",
       "    }\n",
       "</style>\n",
       "<table border=\"1\" class=\"dataframe\">\n",
       "  <thead>\n",
       "    <tr style=\"text-align: right;\">\n",
       "      <th></th>\n",
       "      <th>id</th>\n",
       "      <th>series</th>\n",
       "    </tr>\n",
       "  </thead>\n",
       "  <tbody>\n",
       "    <tr>\n",
       "      <th>1</th>\n",
       "      <td>2210001</td>\n",
       "      <td>ESTIMA</td>\n",
       "    </tr>\n",
       "    <tr>\n",
       "      <th>2</th>\n",
       "      <td>2210009</td>\n",
       "      <td>JAZZ</td>\n",
       "    </tr>\n",
       "    <tr>\n",
       "      <th>4</th>\n",
       "      <td>2210016</td>\n",
       "      <td>SOLUNA</td>\n",
       "    </tr>\n",
       "  </tbody>\n",
       "</table>\n",
       "</div>"
      ],
      "text/plain": [
       "        id  series\n",
       "1  2210001  ESTIMA\n",
       "2  2210009    JAZZ\n",
       "4  2210016  SOLUNA"
      ]
     },
     "execution_count": 22,
     "metadata": {
      "tags": []
     },
     "output_type": "execute_result"
    }
   ],
   "source": [
    "df.iloc[[1, 2, 4], [0, 2]]"
   ]
  },
  {
   "cell_type": "code",
   "execution_count": 23,
   "metadata": {
    "colab": {
     "base_uri": "https://localhost:8080/",
     "height": 233
    },
    "id": "MPOMJN3xSYOt",
    "outputId": "75ff7e5c-04be-4d31-dcd3-816e6dc44677"
   },
   "outputs": [
    {
     "data": {
      "text/html": [
       "<div>\n",
       "<style scoped>\n",
       "    .dataframe tbody tr th:only-of-type {\n",
       "        vertical-align: middle;\n",
       "    }\n",
       "\n",
       "    .dataframe tbody tr th {\n",
       "        vertical-align: top;\n",
       "    }\n",
       "\n",
       "    .dataframe thead th {\n",
       "        text-align: right;\n",
       "    }\n",
       "</style>\n",
       "<table border=\"1\" class=\"dataframe\">\n",
       "  <thead>\n",
       "    <tr style=\"text-align: right;\">\n",
       "      <th></th>\n",
       "      <th>id</th>\n",
       "      <th>brand</th>\n",
       "      <th>series</th>\n",
       "      <th>model</th>\n",
       "      <th>gen</th>\n",
       "      <th>year</th>\n",
       "      <th>color</th>\n",
       "      <th>gear</th>\n",
       "      <th>gas</th>\n",
       "      <th>sales_price</th>\n",
       "      <th>original_price</th>\n",
       "      <th>market_price</th>\n",
       "      <th>description</th>\n",
       "      <th>contact_location</th>\n",
       "      <th>subscribers</th>\n",
       "      <th>scraped_date</th>\n",
       "      <th>removed_date</th>\n",
       "    </tr>\n",
       "  </thead>\n",
       "  <tbody>\n",
       "    <tr>\n",
       "      <th>1</th>\n",
       "      <td>2210001</td>\n",
       "      <td>TOYOTA</td>\n",
       "      <td>ESTIMA</td>\n",
       "      <td>2.4 G HYBRID</td>\n",
       "      <td>ปี10-ปัจจุบัน</td>\n",
       "      <td>2013.0</td>\n",
       "      <td>สีขาว</td>\n",
       "      <td>เกียร์ออโต้</td>\n",
       "      <td>NaN</td>\n",
       "      <td>1,677,000</td>\n",
       "      <td>NaN</td>\n",
       "      <td>3,050,000</td>\n",
       "      <td>TOPสุด Estima Aeras Hybrid รถเข้าเซอร์วิส TOYO...</td>\n",
       "      <td>กรุงเทพฯ</td>\n",
       "      <td>182.0</td>\n",
       "      <td>2019-05-22</td>\n",
       "      <td>NaN</td>\n",
       "    </tr>\n",
       "    <tr>\n",
       "      <th>2</th>\n",
       "      <td>2210009</td>\n",
       "      <td>HONDA</td>\n",
       "      <td>JAZZ</td>\n",
       "      <td>1.5 i-VTEC V (AS)</td>\n",
       "      <td>ปี08-13</td>\n",
       "      <td>2008.0</td>\n",
       "      <td>สีน้ำเงิน</td>\n",
       "      <td>เกียร์ออโต้</td>\n",
       "      <td>NaN</td>\n",
       "      <td>338,000</td>\n",
       "      <td>NaN</td>\n",
       "      <td>NaN</td>\n",
       "      <td>เครดิดีออกรถ10,000จบครับ\\nรับประกันเครื่องเกีย...</td>\n",
       "      <td>กรุงเทพฯ</td>\n",
       "      <td>1047.0</td>\n",
       "      <td>2019-05-22</td>\n",
       "      <td>NaN</td>\n",
       "    </tr>\n",
       "  </tbody>\n",
       "</table>\n",
       "</div>"
      ],
      "text/plain": [
       "        id   brand  series  ... subscribers scraped_date  removed_date\n",
       "1  2210001  TOYOTA  ESTIMA  ...       182.0   2019-05-22           NaN\n",
       "2  2210009   HONDA    JAZZ  ...      1047.0   2019-05-22           NaN\n",
       "\n",
       "[2 rows x 17 columns]"
      ]
     },
     "execution_count": 23,
     "metadata": {
      "tags": []
     },
     "output_type": "execute_result"
    }
   ],
   "source": [
    "df.iloc[1:3, :]"
   ]
  },
  {
   "cell_type": "code",
   "execution_count": 24,
   "metadata": {
    "colab": {
     "base_uri": "https://localhost:8080/",
     "height": 419
    },
    "id": "7GKVoG6zSZrl",
    "outputId": "a2b4a967-7861-418f-e40a-86d9d594874d"
   },
   "outputs": [
    {
     "data": {
      "text/html": [
       "<div>\n",
       "<style scoped>\n",
       "    .dataframe tbody tr th:only-of-type {\n",
       "        vertical-align: middle;\n",
       "    }\n",
       "\n",
       "    .dataframe tbody tr th {\n",
       "        vertical-align: top;\n",
       "    }\n",
       "\n",
       "    .dataframe thead th {\n",
       "        text-align: right;\n",
       "    }\n",
       "</style>\n",
       "<table border=\"1\" class=\"dataframe\">\n",
       "  <thead>\n",
       "    <tr style=\"text-align: right;\">\n",
       "      <th></th>\n",
       "      <th>brand</th>\n",
       "      <th>series</th>\n",
       "    </tr>\n",
       "  </thead>\n",
       "  <tbody>\n",
       "    <tr>\n",
       "      <th>0</th>\n",
       "      <td>HONDA</td>\n",
       "      <td>JAZZ</td>\n",
       "    </tr>\n",
       "    <tr>\n",
       "      <th>1</th>\n",
       "      <td>TOYOTA</td>\n",
       "      <td>ESTIMA</td>\n",
       "    </tr>\n",
       "    <tr>\n",
       "      <th>2</th>\n",
       "      <td>HONDA</td>\n",
       "      <td>JAZZ</td>\n",
       "    </tr>\n",
       "    <tr>\n",
       "      <th>3</th>\n",
       "      <td>FORD</td>\n",
       "      <td>RANGER</td>\n",
       "    </tr>\n",
       "    <tr>\n",
       "      <th>4</th>\n",
       "      <td>TOYOTA</td>\n",
       "      <td>SOLUNA</td>\n",
       "    </tr>\n",
       "    <tr>\n",
       "      <th>...</th>\n",
       "      <td>...</td>\n",
       "      <td>...</td>\n",
       "    </tr>\n",
       "    <tr>\n",
       "      <th>14032</th>\n",
       "      <td>HONDA</td>\n",
       "      <td>CIVIC</td>\n",
       "    </tr>\n",
       "    <tr>\n",
       "      <th>14033</th>\n",
       "      <td>TOYOTA</td>\n",
       "      <td>CAMRY</td>\n",
       "    </tr>\n",
       "    <tr>\n",
       "      <th>14034</th>\n",
       "      <td>TOYOTA</td>\n",
       "      <td>CAMRY</td>\n",
       "    </tr>\n",
       "    <tr>\n",
       "      <th>14035</th>\n",
       "      <td>HONDA</td>\n",
       "      <td>JAZZ</td>\n",
       "    </tr>\n",
       "    <tr>\n",
       "      <th>14036</th>\n",
       "      <td>HONDA</td>\n",
       "      <td>CIVIC</td>\n",
       "    </tr>\n",
       "  </tbody>\n",
       "</table>\n",
       "<p>14037 rows × 2 columns</p>\n",
       "</div>"
      ],
      "text/plain": [
       "        brand  series\n",
       "0       HONDA    JAZZ\n",
       "1      TOYOTA  ESTIMA\n",
       "2       HONDA    JAZZ\n",
       "3        FORD  RANGER\n",
       "4      TOYOTA  SOLUNA\n",
       "...       ...     ...\n",
       "14032   HONDA   CIVIC\n",
       "14033  TOYOTA   CAMRY\n",
       "14034  TOYOTA   CAMRY\n",
       "14035   HONDA    JAZZ\n",
       "14036   HONDA   CIVIC\n",
       "\n",
       "[14037 rows x 2 columns]"
      ]
     },
     "execution_count": 24,
     "metadata": {
      "tags": []
     },
     "output_type": "execute_result"
    }
   ],
   "source": [
    "df.iloc[:, 1:3]"
   ]
  },
  {
   "cell_type": "code",
   "execution_count": 25,
   "metadata": {
    "colab": {
     "base_uri": "https://localhost:8080/",
     "height": 35
    },
    "id": "w6jFJnPqSdKO",
    "outputId": "c7c8cbce-0be4-47f7-e2e5-970297d3b575"
   },
   "outputs": [
    {
     "data": {
      "application/vnd.google.colaboratory.intrinsic+json": {
       "type": "string"
      },
      "text/plain": [
       "'TOYOTA'"
      ]
     },
     "execution_count": 25,
     "metadata": {
      "tags": []
     },
     "output_type": "execute_result"
    }
   ],
   "source": [
    "df.iloc[1, 1]"
   ]
  },
  {
   "cell_type": "code",
   "execution_count": 26,
   "metadata": {
    "colab": {
     "base_uri": "https://localhost:8080/",
     "height": 35
    },
    "id": "sAtaIErxSeya",
    "outputId": "f3fcdfae-821d-44a9-f6bf-8dd9bb16958b"
   },
   "outputs": [
    {
     "data": {
      "application/vnd.google.colaboratory.intrinsic+json": {
       "type": "string"
      },
      "text/plain": [
       "'TOYOTA'"
      ]
     },
     "execution_count": 26,
     "metadata": {
      "tags": []
     },
     "output_type": "execute_result"
    }
   ],
   "source": [
    "df.iat[1, 1]"
   ]
  },
  {
   "cell_type": "markdown",
   "metadata": {
    "id": "LT_lCb9jSnCn"
   },
   "source": [
    "Label"
   ]
  },
  {
   "cell_type": "code",
   "execution_count": 27,
   "metadata": {
    "colab": {
     "base_uri": "https://localhost:8080/"
    },
    "id": "Ba3rx6omSghi",
    "outputId": "61b52970-758f-4ac8-a8ad-fd8e582bf605"
   },
   "outputs": [
    {
     "data": {
      "text/plain": [
       "id                                                            2210000\n",
       "brand                                                           HONDA\n",
       "series                                                           JAZZ\n",
       "model                                              1.5 i-VTEC SV (AS)\n",
       "gen                                                           ปี08-13\n",
       "year                                                             2014\n",
       "color                                                           สีขาว\n",
       "gear                                                      เกียร์ออโต้\n",
       "gas                                                               NaN\n",
       "sales_price                                                   488,000\n",
       "original_price                                                    NaN\n",
       "market_price                                                      NaN\n",
       "description         เครดิตดีออกรถ10,000จบครับ\\nรับประกันเครื่องเกี...\n",
       "contact_location                                             กรุงเทพฯ\n",
       "subscribers                                                      1047\n",
       "scraped_date                                               2019-05-22\n",
       "removed_date                                                      NaN\n",
       "Name: 0, dtype: object"
      ]
     },
     "execution_count": 27,
     "metadata": {
      "tags": []
     },
     "output_type": "execute_result"
    }
   ],
   "source": [
    "df.loc[0]"
   ]
  },
  {
   "cell_type": "code",
   "execution_count": 28,
   "metadata": {
    "colab": {
     "base_uri": "https://localhost:8080/",
     "height": 35
    },
    "id": "dHGp55C2TBVr",
    "outputId": "36a54136-044e-402f-815c-e030776f77dc"
   },
   "outputs": [
    {
     "data": {
      "application/vnd.google.colaboratory.intrinsic+json": {
       "type": "string"
      },
      "text/plain": [
       "'HONDA'"
      ]
     },
     "execution_count": 28,
     "metadata": {
      "tags": []
     },
     "output_type": "execute_result"
    }
   ],
   "source": [
    "df.loc[0, \"brand\"]"
   ]
  },
  {
   "cell_type": "code",
   "execution_count": 29,
   "metadata": {
    "colab": {
     "base_uri": "https://localhost:8080/"
    },
    "id": "a8wOFikOStZ9",
    "outputId": "cc2976a0-668f-42ba-dcdf-e1b31f14274c"
   },
   "outputs": [
    {
     "data": {
      "text/plain": [
       "0     HONDA\n",
       "1    TOYOTA\n",
       "Name: brand, dtype: object"
      ]
     },
     "execution_count": 29,
     "metadata": {
      "tags": []
     },
     "output_type": "execute_result"
    }
   ],
   "source": [
    "df.loc[[0, 1], \"brand\"]"
   ]
  },
  {
   "cell_type": "code",
   "execution_count": 30,
   "metadata": {
    "colab": {
     "base_uri": "https://localhost:8080/"
    },
    "id": "wxBOJdKITHdq",
    "outputId": "3d0642f4-a0cf-4abc-bad2-465d1e21527c"
   },
   "outputs": [
    {
     "data": {
      "text/plain": [
       "0         HONDA\n",
       "5    VOLKSWAGEN\n",
       "Name: brand, dtype: object"
      ]
     },
     "execution_count": 30,
     "metadata": {
      "tags": []
     },
     "output_type": "execute_result"
    }
   ],
   "source": [
    "df.loc[[0, 5], \"brand\"]"
   ]
  },
  {
   "cell_type": "code",
   "execution_count": 31,
   "metadata": {
    "colab": {
     "base_uri": "https://localhost:8080/",
     "height": 111
    },
    "id": "MPdV_ZgtTIso",
    "outputId": "e562928c-3920-470b-9eb9-061a4c92c14f"
   },
   "outputs": [
    {
     "data": {
      "text/html": [
       "<div>\n",
       "<style scoped>\n",
       "    .dataframe tbody tr th:only-of-type {\n",
       "        vertical-align: middle;\n",
       "    }\n",
       "\n",
       "    .dataframe tbody tr th {\n",
       "        vertical-align: top;\n",
       "    }\n",
       "\n",
       "    .dataframe thead th {\n",
       "        text-align: right;\n",
       "    }\n",
       "</style>\n",
       "<table border=\"1\" class=\"dataframe\">\n",
       "  <thead>\n",
       "    <tr style=\"text-align: right;\">\n",
       "      <th></th>\n",
       "      <th>brand</th>\n",
       "      <th>series</th>\n",
       "    </tr>\n",
       "  </thead>\n",
       "  <tbody>\n",
       "    <tr>\n",
       "      <th>0</th>\n",
       "      <td>HONDA</td>\n",
       "      <td>JAZZ</td>\n",
       "    </tr>\n",
       "    <tr>\n",
       "      <th>1</th>\n",
       "      <td>TOYOTA</td>\n",
       "      <td>ESTIMA</td>\n",
       "    </tr>\n",
       "  </tbody>\n",
       "</table>\n",
       "</div>"
      ],
      "text/plain": [
       "    brand  series\n",
       "0   HONDA    JAZZ\n",
       "1  TOYOTA  ESTIMA"
      ]
     },
     "execution_count": 31,
     "metadata": {
      "tags": []
     },
     "output_type": "execute_result"
    }
   ],
   "source": [
    "df.loc[[0, 1], [\"brand\", \"series\"]]"
   ]
  },
  {
   "cell_type": "markdown",
   "metadata": {
    "id": "DgBl5PAMTNzV"
   },
   "source": [
    "## 5. Slicing"
   ]
  },
  {
   "cell_type": "code",
   "execution_count": 32,
   "metadata": {
    "colab": {
     "base_uri": "https://localhost:8080/",
     "height": 544
    },
    "id": "p0zdYk3NS1Yv",
    "outputId": "188fa9a1-e14e-4d35-8c2d-ea0e6b3248c4"
   },
   "outputs": [
    {
     "data": {
      "text/html": [
       "<div>\n",
       "<style scoped>\n",
       "    .dataframe tbody tr th:only-of-type {\n",
       "        vertical-align: middle;\n",
       "    }\n",
       "\n",
       "    .dataframe tbody tr th {\n",
       "        vertical-align: top;\n",
       "    }\n",
       "\n",
       "    .dataframe thead th {\n",
       "        text-align: right;\n",
       "    }\n",
       "</style>\n",
       "<table border=\"1\" class=\"dataframe\">\n",
       "  <thead>\n",
       "    <tr style=\"text-align: right;\">\n",
       "      <th></th>\n",
       "      <th>id</th>\n",
       "      <th>brand</th>\n",
       "      <th>series</th>\n",
       "      <th>model</th>\n",
       "      <th>gen</th>\n",
       "      <th>year</th>\n",
       "      <th>color</th>\n",
       "      <th>gear</th>\n",
       "      <th>gas</th>\n",
       "      <th>sales_price</th>\n",
       "      <th>original_price</th>\n",
       "      <th>market_price</th>\n",
       "      <th>description</th>\n",
       "      <th>contact_location</th>\n",
       "      <th>subscribers</th>\n",
       "      <th>scraped_date</th>\n",
       "      <th>removed_date</th>\n",
       "    </tr>\n",
       "  </thead>\n",
       "  <tbody>\n",
       "    <tr>\n",
       "      <th>0</th>\n",
       "      <td>2210000</td>\n",
       "      <td>HONDA</td>\n",
       "      <td>JAZZ</td>\n",
       "      <td>1.5 i-VTEC SV (AS)</td>\n",
       "      <td>ปี08-13</td>\n",
       "      <td>2014.0</td>\n",
       "      <td>สีขาว</td>\n",
       "      <td>เกียร์ออโต้</td>\n",
       "      <td>NaN</td>\n",
       "      <td>488,000</td>\n",
       "      <td>NaN</td>\n",
       "      <td>NaN</td>\n",
       "      <td>เครดิตดีออกรถ10,000จบครับ\\nรับประกันเครื่องเกี...</td>\n",
       "      <td>กรุงเทพฯ</td>\n",
       "      <td>1047.0</td>\n",
       "      <td>2019-05-22</td>\n",
       "      <td>NaN</td>\n",
       "    </tr>\n",
       "    <tr>\n",
       "      <th>1</th>\n",
       "      <td>2210001</td>\n",
       "      <td>TOYOTA</td>\n",
       "      <td>ESTIMA</td>\n",
       "      <td>2.4 G HYBRID</td>\n",
       "      <td>ปี10-ปัจจุบัน</td>\n",
       "      <td>2013.0</td>\n",
       "      <td>สีขาว</td>\n",
       "      <td>เกียร์ออโต้</td>\n",
       "      <td>NaN</td>\n",
       "      <td>1,677,000</td>\n",
       "      <td>NaN</td>\n",
       "      <td>3,050,000</td>\n",
       "      <td>TOPสุด Estima Aeras Hybrid รถเข้าเซอร์วิส TOYO...</td>\n",
       "      <td>กรุงเทพฯ</td>\n",
       "      <td>182.0</td>\n",
       "      <td>2019-05-22</td>\n",
       "      <td>NaN</td>\n",
       "    </tr>\n",
       "    <tr>\n",
       "      <th>2</th>\n",
       "      <td>2210009</td>\n",
       "      <td>HONDA</td>\n",
       "      <td>JAZZ</td>\n",
       "      <td>1.5 i-VTEC V (AS)</td>\n",
       "      <td>ปี08-13</td>\n",
       "      <td>2008.0</td>\n",
       "      <td>สีน้ำเงิน</td>\n",
       "      <td>เกียร์ออโต้</td>\n",
       "      <td>NaN</td>\n",
       "      <td>338,000</td>\n",
       "      <td>NaN</td>\n",
       "      <td>NaN</td>\n",
       "      <td>เครดิดีออกรถ10,000จบครับ\\nรับประกันเครื่องเกีย...</td>\n",
       "      <td>กรุงเทพฯ</td>\n",
       "      <td>1047.0</td>\n",
       "      <td>2019-05-22</td>\n",
       "      <td>NaN</td>\n",
       "    </tr>\n",
       "    <tr>\n",
       "      <th>3</th>\n",
       "      <td>2210012</td>\n",
       "      <td>FORD</td>\n",
       "      <td>RANGER</td>\n",
       "      <td>2.2 WILDTRAK DBL CAB HI-RIDER</td>\n",
       "      <td>DOUBLECAB</td>\n",
       "      <td>2016.0</td>\n",
       "      <td>สีขาว</td>\n",
       "      <td>เกียร์ออโต้</td>\n",
       "      <td>NaN</td>\n",
       "      <td>689,000</td>\n",
       "      <td>NaN</td>\n",
       "      <td>849,000</td>\n",
       "      <td>รับรองสภาพ ไม่มีชน มือเดียว พาช่างมาตรวจสภาพรถ...</td>\n",
       "      <td>กรุงเทพฯ</td>\n",
       "      <td>760.0</td>\n",
       "      <td>2019-05-22</td>\n",
       "      <td>NaN</td>\n",
       "    </tr>\n",
       "    <tr>\n",
       "      <th>4</th>\n",
       "      <td>2210016</td>\n",
       "      <td>TOYOTA</td>\n",
       "      <td>SOLUNA</td>\n",
       "      <td>VIOS 1.5 E (ABS+AB)</td>\n",
       "      <td>VIOS ปี13-ปัจจุบัน</td>\n",
       "      <td>2015.0</td>\n",
       "      <td>สีบรอนซ์เงิน</td>\n",
       "      <td>เกียร์ออโต้</td>\n",
       "      <td>NaN</td>\n",
       "      <td>359,000</td>\n",
       "      <td>NaN</td>\n",
       "      <td>649,000</td>\n",
       "      <td>ไมล์แท้ 99,xxx TOYOTA SOLUNA VIOS 1.5E\\nTOYOTA...</td>\n",
       "      <td>กรุงเทพฯ</td>\n",
       "      <td>699.0</td>\n",
       "      <td>2019-05-22</td>\n",
       "      <td>NaN</td>\n",
       "    </tr>\n",
       "    <tr>\n",
       "      <th>5</th>\n",
       "      <td>2210017</td>\n",
       "      <td>VOLKSWAGEN</td>\n",
       "      <td>GOLF</td>\n",
       "      <td>2.0 GTI</td>\n",
       "      <td>ปี13-15</td>\n",
       "      <td>2013.0</td>\n",
       "      <td>สีขาว</td>\n",
       "      <td>เกียร์ออโต้</td>\n",
       "      <td>NaN</td>\n",
       "      <td>1,190,000</td>\n",
       "      <td>NaN</td>\n",
       "      <td>NaN</td>\n",
       "      <td>แต่งไปครึ่งล้าน !!!\\nVw golf gti mk6 2013(7xxx...</td>\n",
       "      <td>กรุงเทพฯ</td>\n",
       "      <td>57.0</td>\n",
       "      <td>2019-05-22</td>\n",
       "      <td>NaN</td>\n",
       "    </tr>\n",
       "  </tbody>\n",
       "</table>\n",
       "</div>"
      ],
      "text/plain": [
       "        id       brand  series  ... subscribers scraped_date  removed_date\n",
       "0  2210000       HONDA    JAZZ  ...      1047.0   2019-05-22           NaN\n",
       "1  2210001      TOYOTA  ESTIMA  ...       182.0   2019-05-22           NaN\n",
       "2  2210009       HONDA    JAZZ  ...      1047.0   2019-05-22           NaN\n",
       "3  2210012        FORD  RANGER  ...       760.0   2019-05-22           NaN\n",
       "4  2210016      TOYOTA  SOLUNA  ...       699.0   2019-05-22           NaN\n",
       "5  2210017  VOLKSWAGEN    GOLF  ...        57.0   2019-05-22           NaN\n",
       "\n",
       "[6 rows x 17 columns]"
      ]
     },
     "execution_count": 32,
     "metadata": {
      "tags": []
     },
     "output_type": "execute_result"
    }
   ],
   "source": [
    "df.loc[0:5]"
   ]
  },
  {
   "cell_type": "code",
   "execution_count": 33,
   "metadata": {
    "colab": {
     "base_uri": "https://localhost:8080/",
     "height": 235
    },
    "id": "fePQBfJnS4Kh",
    "outputId": "a4c026ed-deb1-4136-b6f1-23ac941c1ac4"
   },
   "outputs": [
    {
     "data": {
      "text/html": [
       "<div>\n",
       "<style scoped>\n",
       "    .dataframe tbody tr th:only-of-type {\n",
       "        vertical-align: middle;\n",
       "    }\n",
       "\n",
       "    .dataframe tbody tr th {\n",
       "        vertical-align: top;\n",
       "    }\n",
       "\n",
       "    .dataframe thead th {\n",
       "        text-align: right;\n",
       "    }\n",
       "</style>\n",
       "<table border=\"1\" class=\"dataframe\">\n",
       "  <thead>\n",
       "    <tr style=\"text-align: right;\">\n",
       "      <th></th>\n",
       "      <th>model</th>\n",
       "    </tr>\n",
       "  </thead>\n",
       "  <tbody>\n",
       "    <tr>\n",
       "      <th>0</th>\n",
       "      <td>1.5 i-VTEC SV (AS)</td>\n",
       "    </tr>\n",
       "    <tr>\n",
       "      <th>1</th>\n",
       "      <td>2.4 G HYBRID</td>\n",
       "    </tr>\n",
       "    <tr>\n",
       "      <th>2</th>\n",
       "      <td>1.5 i-VTEC V (AS)</td>\n",
       "    </tr>\n",
       "    <tr>\n",
       "      <th>3</th>\n",
       "      <td>2.2 WILDTRAK DBL CAB HI-RIDER</td>\n",
       "    </tr>\n",
       "    <tr>\n",
       "      <th>4</th>\n",
       "      <td>VIOS 1.5 E (ABS+AB)</td>\n",
       "    </tr>\n",
       "    <tr>\n",
       "      <th>5</th>\n",
       "      <td>2.0 GTI</td>\n",
       "    </tr>\n",
       "  </tbody>\n",
       "</table>\n",
       "</div>"
      ],
      "text/plain": [
       "                           model\n",
       "0             1.5 i-VTEC SV (AS)\n",
       "1                   2.4 G HYBRID\n",
       "2              1.5 i-VTEC V (AS)\n",
       "3  2.2 WILDTRAK DBL CAB HI-RIDER\n",
       "4            VIOS 1.5 E (ABS+AB)\n",
       "5                        2.0 GTI"
      ]
     },
     "execution_count": 33,
     "metadata": {
      "tags": []
     },
     "output_type": "execute_result"
    }
   ],
   "source": [
    "df.loc[0:5, ['model']]"
   ]
  },
  {
   "cell_type": "code",
   "execution_count": 34,
   "metadata": {
    "colab": {
     "base_uri": "https://localhost:8080/",
     "height": 235
    },
    "id": "IPi6AFeKTUiH",
    "outputId": "59711acd-a93a-4c14-dbd6-e8187cf6d47f"
   },
   "outputs": [
    {
     "data": {
      "text/html": [
       "<div>\n",
       "<style scoped>\n",
       "    .dataframe tbody tr th:only-of-type {\n",
       "        vertical-align: middle;\n",
       "    }\n",
       "\n",
       "    .dataframe tbody tr th {\n",
       "        vertical-align: top;\n",
       "    }\n",
       "\n",
       "    .dataframe thead th {\n",
       "        text-align: right;\n",
       "    }\n",
       "</style>\n",
       "<table border=\"1\" class=\"dataframe\">\n",
       "  <thead>\n",
       "    <tr style=\"text-align: right;\">\n",
       "      <th></th>\n",
       "      <th>brand</th>\n",
       "      <th>series</th>\n",
       "      <th>model</th>\n",
       "    </tr>\n",
       "  </thead>\n",
       "  <tbody>\n",
       "    <tr>\n",
       "      <th>0</th>\n",
       "      <td>HONDA</td>\n",
       "      <td>JAZZ</td>\n",
       "      <td>1.5 i-VTEC SV (AS)</td>\n",
       "    </tr>\n",
       "    <tr>\n",
       "      <th>1</th>\n",
       "      <td>TOYOTA</td>\n",
       "      <td>ESTIMA</td>\n",
       "      <td>2.4 G HYBRID</td>\n",
       "    </tr>\n",
       "    <tr>\n",
       "      <th>2</th>\n",
       "      <td>HONDA</td>\n",
       "      <td>JAZZ</td>\n",
       "      <td>1.5 i-VTEC V (AS)</td>\n",
       "    </tr>\n",
       "    <tr>\n",
       "      <th>3</th>\n",
       "      <td>FORD</td>\n",
       "      <td>RANGER</td>\n",
       "      <td>2.2 WILDTRAK DBL CAB HI-RIDER</td>\n",
       "    </tr>\n",
       "    <tr>\n",
       "      <th>4</th>\n",
       "      <td>TOYOTA</td>\n",
       "      <td>SOLUNA</td>\n",
       "      <td>VIOS 1.5 E (ABS+AB)</td>\n",
       "    </tr>\n",
       "    <tr>\n",
       "      <th>5</th>\n",
       "      <td>VOLKSWAGEN</td>\n",
       "      <td>GOLF</td>\n",
       "      <td>2.0 GTI</td>\n",
       "    </tr>\n",
       "  </tbody>\n",
       "</table>\n",
       "</div>"
      ],
      "text/plain": [
       "        brand  series                          model\n",
       "0       HONDA    JAZZ             1.5 i-VTEC SV (AS)\n",
       "1      TOYOTA  ESTIMA                   2.4 G HYBRID\n",
       "2       HONDA    JAZZ              1.5 i-VTEC V (AS)\n",
       "3        FORD  RANGER  2.2 WILDTRAK DBL CAB HI-RIDER\n",
       "4      TOYOTA  SOLUNA            VIOS 1.5 E (ABS+AB)\n",
       "5  VOLKSWAGEN    GOLF                        2.0 GTI"
      ]
     },
     "execution_count": 34,
     "metadata": {
      "tags": []
     },
     "output_type": "execute_result"
    }
   ],
   "source": [
    "df.loc[0:5, 'brand':'model']"
   ]
  },
  {
   "cell_type": "code",
   "execution_count": 35,
   "metadata": {
    "colab": {
     "base_uri": "https://localhost:8080/",
     "height": 307
    },
    "id": "4Bs3Z2R8TYkm",
    "outputId": "6a5c3f4c-ad81-4ced-ecb1-f9d6a4bd8137"
   },
   "outputs": [
    {
     "ename": "TypeError",
     "evalue": "ignored",
     "output_type": "error",
     "traceback": [
      "\u001b[0;31m---------------------------------------------------------------------------\u001b[0m",
      "\u001b[0;31mTypeError\u001b[0m                                 Traceback (most recent call last)",
      "\u001b[0;32m<ipython-input-35-843a684d5a93>\u001b[0m in \u001b[0;36m<module>\u001b[0;34m()\u001b[0m\n\u001b[0;32m----> 1\u001b[0;31m \u001b[0mdf\u001b[0m\u001b[0;34m.\u001b[0m\u001b[0miloc\u001b[0m\u001b[0;34m[\u001b[0m\u001b[0;36m0\u001b[0m\u001b[0;34m:\u001b[0m\u001b[0;36m5\u001b[0m\u001b[0;34m,\u001b[0m \u001b[0;34m'brand'\u001b[0m\u001b[0;34m:\u001b[0m\u001b[0;34m'model'\u001b[0m\u001b[0;34m]\u001b[0m\u001b[0;34m\u001b[0m\u001b[0;34m\u001b[0m\u001b[0m\n\u001b[0m",
      "\u001b[0;32m/usr/local/lib/python3.7/dist-packages/pandas/core/indexing.py\u001b[0m in \u001b[0;36m__getitem__\u001b[0;34m(self, key)\u001b[0m\n\u001b[1;32m    871\u001b[0m                     \u001b[0;31m# AttributeError for IntervalTree get_value\u001b[0m\u001b[0;34m\u001b[0m\u001b[0;34m\u001b[0m\u001b[0;34m\u001b[0m\u001b[0m\n\u001b[1;32m    872\u001b[0m                     \u001b[0;32mpass\u001b[0m\u001b[0;34m\u001b[0m\u001b[0;34m\u001b[0m\u001b[0m\n\u001b[0;32m--> 873\u001b[0;31m             \u001b[0;32mreturn\u001b[0m \u001b[0mself\u001b[0m\u001b[0;34m.\u001b[0m\u001b[0m_getitem_tuple\u001b[0m\u001b[0;34m(\u001b[0m\u001b[0mkey\u001b[0m\u001b[0;34m)\u001b[0m\u001b[0;34m\u001b[0m\u001b[0;34m\u001b[0m\u001b[0m\n\u001b[0m\u001b[1;32m    874\u001b[0m         \u001b[0;32melse\u001b[0m\u001b[0;34m:\u001b[0m\u001b[0;34m\u001b[0m\u001b[0;34m\u001b[0m\u001b[0m\n\u001b[1;32m    875\u001b[0m             \u001b[0;31m# we by definition only have the 0th axis\u001b[0m\u001b[0;34m\u001b[0m\u001b[0;34m\u001b[0m\u001b[0;34m\u001b[0m\u001b[0m\n",
      "\u001b[0;32m/usr/local/lib/python3.7/dist-packages/pandas/core/indexing.py\u001b[0m in \u001b[0;36m_getitem_tuple\u001b[0;34m(self, tup)\u001b[0m\n\u001b[1;32m   1447\u001b[0m             \u001b[0;32mpass\u001b[0m\u001b[0;34m\u001b[0m\u001b[0;34m\u001b[0m\u001b[0m\n\u001b[1;32m   1448\u001b[0m \u001b[0;34m\u001b[0m\u001b[0m\n\u001b[0;32m-> 1449\u001b[0;31m         \u001b[0;32mreturn\u001b[0m \u001b[0mself\u001b[0m\u001b[0;34m.\u001b[0m\u001b[0m_getitem_tuple_same_dim\u001b[0m\u001b[0;34m(\u001b[0m\u001b[0mtup\u001b[0m\u001b[0;34m)\u001b[0m\u001b[0;34m\u001b[0m\u001b[0;34m\u001b[0m\u001b[0m\n\u001b[0m\u001b[1;32m   1450\u001b[0m \u001b[0;34m\u001b[0m\u001b[0m\n\u001b[1;32m   1451\u001b[0m     \u001b[0;32mdef\u001b[0m \u001b[0m_get_list_axis\u001b[0m\u001b[0;34m(\u001b[0m\u001b[0mself\u001b[0m\u001b[0;34m,\u001b[0m \u001b[0mkey\u001b[0m\u001b[0;34m,\u001b[0m \u001b[0maxis\u001b[0m\u001b[0;34m:\u001b[0m \u001b[0mint\u001b[0m\u001b[0;34m)\u001b[0m\u001b[0;34m:\u001b[0m\u001b[0;34m\u001b[0m\u001b[0;34m\u001b[0m\u001b[0m\n",
      "\u001b[0;32m/usr/local/lib/python3.7/dist-packages/pandas/core/indexing.py\u001b[0m in \u001b[0;36m_getitem_tuple_same_dim\u001b[0;34m(self, tup)\u001b[0m\n\u001b[1;32m    748\u001b[0m                 \u001b[0;32mcontinue\u001b[0m\u001b[0;34m\u001b[0m\u001b[0;34m\u001b[0m\u001b[0m\n\u001b[1;32m    749\u001b[0m \u001b[0;34m\u001b[0m\u001b[0m\n\u001b[0;32m--> 750\u001b[0;31m             \u001b[0mretval\u001b[0m \u001b[0;34m=\u001b[0m \u001b[0mgetattr\u001b[0m\u001b[0;34m(\u001b[0m\u001b[0mretval\u001b[0m\u001b[0;34m,\u001b[0m \u001b[0mself\u001b[0m\u001b[0;34m.\u001b[0m\u001b[0mname\u001b[0m\u001b[0;34m)\u001b[0m\u001b[0;34m.\u001b[0m\u001b[0m_getitem_axis\u001b[0m\u001b[0;34m(\u001b[0m\u001b[0mkey\u001b[0m\u001b[0;34m,\u001b[0m \u001b[0maxis\u001b[0m\u001b[0;34m=\u001b[0m\u001b[0mi\u001b[0m\u001b[0;34m)\u001b[0m\u001b[0;34m\u001b[0m\u001b[0;34m\u001b[0m\u001b[0m\n\u001b[0m\u001b[1;32m    751\u001b[0m             \u001b[0;31m# We should never have retval.ndim < self.ndim, as that should\u001b[0m\u001b[0;34m\u001b[0m\u001b[0;34m\u001b[0m\u001b[0;34m\u001b[0m\u001b[0m\n\u001b[1;32m    752\u001b[0m             \u001b[0;31m#  be handled by the _getitem_lowerdim call above.\u001b[0m\u001b[0;34m\u001b[0m\u001b[0;34m\u001b[0m\u001b[0;34m\u001b[0m\u001b[0m\n",
      "\u001b[0;32m/usr/local/lib/python3.7/dist-packages/pandas/core/indexing.py\u001b[0m in \u001b[0;36m_getitem_axis\u001b[0;34m(self, key, axis)\u001b[0m\n\u001b[1;32m   1474\u001b[0m     \u001b[0;32mdef\u001b[0m \u001b[0m_getitem_axis\u001b[0m\u001b[0;34m(\u001b[0m\u001b[0mself\u001b[0m\u001b[0;34m,\u001b[0m \u001b[0mkey\u001b[0m\u001b[0;34m,\u001b[0m \u001b[0maxis\u001b[0m\u001b[0;34m:\u001b[0m \u001b[0mint\u001b[0m\u001b[0;34m)\u001b[0m\u001b[0;34m:\u001b[0m\u001b[0;34m\u001b[0m\u001b[0;34m\u001b[0m\u001b[0m\n\u001b[1;32m   1475\u001b[0m         \u001b[0;32mif\u001b[0m \u001b[0misinstance\u001b[0m\u001b[0;34m(\u001b[0m\u001b[0mkey\u001b[0m\u001b[0;34m,\u001b[0m \u001b[0mslice\u001b[0m\u001b[0;34m)\u001b[0m\u001b[0;34m:\u001b[0m\u001b[0;34m\u001b[0m\u001b[0;34m\u001b[0m\u001b[0m\n\u001b[0;32m-> 1476\u001b[0;31m             \u001b[0;32mreturn\u001b[0m \u001b[0mself\u001b[0m\u001b[0;34m.\u001b[0m\u001b[0m_get_slice_axis\u001b[0m\u001b[0;34m(\u001b[0m\u001b[0mkey\u001b[0m\u001b[0;34m,\u001b[0m \u001b[0maxis\u001b[0m\u001b[0;34m=\u001b[0m\u001b[0maxis\u001b[0m\u001b[0;34m)\u001b[0m\u001b[0;34m\u001b[0m\u001b[0;34m\u001b[0m\u001b[0m\n\u001b[0m\u001b[1;32m   1477\u001b[0m \u001b[0;34m\u001b[0m\u001b[0m\n\u001b[1;32m   1478\u001b[0m         \u001b[0;32mif\u001b[0m \u001b[0misinstance\u001b[0m\u001b[0;34m(\u001b[0m\u001b[0mkey\u001b[0m\u001b[0;34m,\u001b[0m \u001b[0mlist\u001b[0m\u001b[0;34m)\u001b[0m\u001b[0;34m:\u001b[0m\u001b[0;34m\u001b[0m\u001b[0;34m\u001b[0m\u001b[0m\n",
      "\u001b[0;32m/usr/local/lib/python3.7/dist-packages/pandas/core/indexing.py\u001b[0m in \u001b[0;36m_get_slice_axis\u001b[0;34m(self, slice_obj, axis)\u001b[0m\n\u001b[1;32m   1506\u001b[0m \u001b[0;34m\u001b[0m\u001b[0m\n\u001b[1;32m   1507\u001b[0m         \u001b[0mlabels\u001b[0m \u001b[0;34m=\u001b[0m \u001b[0mobj\u001b[0m\u001b[0;34m.\u001b[0m\u001b[0m_get_axis\u001b[0m\u001b[0;34m(\u001b[0m\u001b[0maxis\u001b[0m\u001b[0;34m)\u001b[0m\u001b[0;34m\u001b[0m\u001b[0;34m\u001b[0m\u001b[0m\n\u001b[0;32m-> 1508\u001b[0;31m         \u001b[0mlabels\u001b[0m\u001b[0;34m.\u001b[0m\u001b[0m_validate_positional_slice\u001b[0m\u001b[0;34m(\u001b[0m\u001b[0mslice_obj\u001b[0m\u001b[0;34m)\u001b[0m\u001b[0;34m\u001b[0m\u001b[0;34m\u001b[0m\u001b[0m\n\u001b[0m\u001b[1;32m   1509\u001b[0m         \u001b[0;32mreturn\u001b[0m \u001b[0mself\u001b[0m\u001b[0;34m.\u001b[0m\u001b[0mobj\u001b[0m\u001b[0;34m.\u001b[0m\u001b[0m_slice\u001b[0m\u001b[0;34m(\u001b[0m\u001b[0mslice_obj\u001b[0m\u001b[0;34m,\u001b[0m \u001b[0maxis\u001b[0m\u001b[0;34m=\u001b[0m\u001b[0maxis\u001b[0m\u001b[0;34m)\u001b[0m\u001b[0;34m\u001b[0m\u001b[0;34m\u001b[0m\u001b[0m\n\u001b[1;32m   1510\u001b[0m \u001b[0;34m\u001b[0m\u001b[0m\n",
      "\u001b[0;32m/usr/local/lib/python3.7/dist-packages/pandas/core/indexes/base.py\u001b[0m in \u001b[0;36m_validate_positional_slice\u001b[0;34m(self, key)\u001b[0m\n\u001b[1;32m   3121\u001b[0m         \u001b[0;32mfor\u001b[0m \u001b[0meach\u001b[0m \u001b[0mof\u001b[0m \u001b[0mstart\u001b[0m\u001b[0;34m,\u001b[0m \u001b[0mstop\u001b[0m\u001b[0;34m,\u001b[0m \u001b[0;32mand\u001b[0m \u001b[0mstep\u001b[0m\u001b[0;34m.\u001b[0m\u001b[0;34m\u001b[0m\u001b[0;34m\u001b[0m\u001b[0m\n\u001b[1;32m   3122\u001b[0m         \"\"\"\n\u001b[0;32m-> 3123\u001b[0;31m         \u001b[0mself\u001b[0m\u001b[0;34m.\u001b[0m\u001b[0m_validate_indexer\u001b[0m\u001b[0;34m(\u001b[0m\u001b[0;34m\"positional\"\u001b[0m\u001b[0;34m,\u001b[0m \u001b[0mkey\u001b[0m\u001b[0;34m.\u001b[0m\u001b[0mstart\u001b[0m\u001b[0;34m,\u001b[0m \u001b[0;34m\"iloc\"\u001b[0m\u001b[0;34m)\u001b[0m\u001b[0;34m\u001b[0m\u001b[0;34m\u001b[0m\u001b[0m\n\u001b[0m\u001b[1;32m   3124\u001b[0m         \u001b[0mself\u001b[0m\u001b[0;34m.\u001b[0m\u001b[0m_validate_indexer\u001b[0m\u001b[0;34m(\u001b[0m\u001b[0;34m\"positional\"\u001b[0m\u001b[0;34m,\u001b[0m \u001b[0mkey\u001b[0m\u001b[0;34m.\u001b[0m\u001b[0mstop\u001b[0m\u001b[0;34m,\u001b[0m \u001b[0;34m\"iloc\"\u001b[0m\u001b[0;34m)\u001b[0m\u001b[0;34m\u001b[0m\u001b[0;34m\u001b[0m\u001b[0m\n\u001b[1;32m   3125\u001b[0m         \u001b[0mself\u001b[0m\u001b[0;34m.\u001b[0m\u001b[0m_validate_indexer\u001b[0m\u001b[0;34m(\u001b[0m\u001b[0;34m\"positional\"\u001b[0m\u001b[0;34m,\u001b[0m \u001b[0mkey\u001b[0m\u001b[0;34m.\u001b[0m\u001b[0mstep\u001b[0m\u001b[0;34m,\u001b[0m \u001b[0;34m\"iloc\"\u001b[0m\u001b[0;34m)\u001b[0m\u001b[0;34m\u001b[0m\u001b[0;34m\u001b[0m\u001b[0m\n",
      "\u001b[0;32m/usr/local/lib/python3.7/dist-packages/pandas/core/indexes/base.py\u001b[0m in \u001b[0;36m_validate_indexer\u001b[0;34m(self, form, key, kind)\u001b[0m\n\u001b[1;32m   4998\u001b[0m             \u001b[0;32mpass\u001b[0m\u001b[0;34m\u001b[0m\u001b[0;34m\u001b[0m\u001b[0m\n\u001b[1;32m   4999\u001b[0m         \u001b[0;32melse\u001b[0m\u001b[0;34m:\u001b[0m\u001b[0;34m\u001b[0m\u001b[0;34m\u001b[0m\u001b[0m\n\u001b[0;32m-> 5000\u001b[0;31m             \u001b[0mself\u001b[0m\u001b[0;34m.\u001b[0m\u001b[0m_invalid_indexer\u001b[0m\u001b[0;34m(\u001b[0m\u001b[0mform\u001b[0m\u001b[0;34m,\u001b[0m \u001b[0mkey\u001b[0m\u001b[0;34m)\u001b[0m\u001b[0;34m\u001b[0m\u001b[0;34m\u001b[0m\u001b[0m\n\u001b[0m\u001b[1;32m   5001\u001b[0m \u001b[0;34m\u001b[0m\u001b[0m\n\u001b[1;32m   5002\u001b[0m     \u001b[0;32mdef\u001b[0m \u001b[0m_maybe_cast_slice_bound\u001b[0m\u001b[0;34m(\u001b[0m\u001b[0mself\u001b[0m\u001b[0;34m,\u001b[0m \u001b[0mlabel\u001b[0m\u001b[0;34m,\u001b[0m \u001b[0mside\u001b[0m\u001b[0;34m:\u001b[0m \u001b[0mstr_t\u001b[0m\u001b[0;34m,\u001b[0m \u001b[0mkind\u001b[0m\u001b[0;34m)\u001b[0m\u001b[0;34m:\u001b[0m\u001b[0;34m\u001b[0m\u001b[0;34m\u001b[0m\u001b[0m\n",
      "\u001b[0;32m/usr/local/lib/python3.7/dist-packages/pandas/core/indexes/base.py\u001b[0m in \u001b[0;36m_invalid_indexer\u001b[0;34m(self, form, key)\u001b[0m\n\u001b[1;32m   3269\u001b[0m         \"\"\"\n\u001b[1;32m   3270\u001b[0m         raise TypeError(\n\u001b[0;32m-> 3271\u001b[0;31m             \u001b[0;34mf\"cannot do {form} indexing on {type(self).__name__} with these \"\u001b[0m\u001b[0;34m\u001b[0m\u001b[0;34m\u001b[0m\u001b[0m\n\u001b[0m\u001b[1;32m   3272\u001b[0m             \u001b[0;34mf\"indexers [{key}] of type {type(key).__name__}\"\u001b[0m\u001b[0;34m\u001b[0m\u001b[0;34m\u001b[0m\u001b[0m\n\u001b[1;32m   3273\u001b[0m         )\n",
      "\u001b[0;31mTypeError\u001b[0m: cannot do positional indexing on Index with these indexers [brand] of type str"
     ]
    }
   ],
   "source": [
    "df.iloc[0:5, 'brand':'model']"
   ]
  },
  {
   "cell_type": "code",
   "execution_count": 36,
   "metadata": {
    "colab": {
     "base_uri": "https://localhost:8080/",
     "height": 204
    },
    "id": "KpPZUjsuTbZ8",
    "outputId": "ba73c613-7834-428d-fd5a-f8f881cc64cb"
   },
   "outputs": [
    {
     "data": {
      "text/html": [
       "<div>\n",
       "<style scoped>\n",
       "    .dataframe tbody tr th:only-of-type {\n",
       "        vertical-align: middle;\n",
       "    }\n",
       "\n",
       "    .dataframe tbody tr th {\n",
       "        vertical-align: top;\n",
       "    }\n",
       "\n",
       "    .dataframe thead th {\n",
       "        text-align: right;\n",
       "    }\n",
       "</style>\n",
       "<table border=\"1\" class=\"dataframe\">\n",
       "  <thead>\n",
       "    <tr style=\"text-align: right;\">\n",
       "      <th></th>\n",
       "      <th>brand</th>\n",
       "      <th>series</th>\n",
       "      <th>model</th>\n",
       "    </tr>\n",
       "  </thead>\n",
       "  <tbody>\n",
       "    <tr>\n",
       "      <th>0</th>\n",
       "      <td>HONDA</td>\n",
       "      <td>JAZZ</td>\n",
       "      <td>1.5 i-VTEC SV (AS)</td>\n",
       "    </tr>\n",
       "    <tr>\n",
       "      <th>1</th>\n",
       "      <td>TOYOTA</td>\n",
       "      <td>ESTIMA</td>\n",
       "      <td>2.4 G HYBRID</td>\n",
       "    </tr>\n",
       "    <tr>\n",
       "      <th>2</th>\n",
       "      <td>HONDA</td>\n",
       "      <td>JAZZ</td>\n",
       "      <td>1.5 i-VTEC V (AS)</td>\n",
       "    </tr>\n",
       "    <tr>\n",
       "      <th>3</th>\n",
       "      <td>FORD</td>\n",
       "      <td>RANGER</td>\n",
       "      <td>2.2 WILDTRAK DBL CAB HI-RIDER</td>\n",
       "    </tr>\n",
       "    <tr>\n",
       "      <th>4</th>\n",
       "      <td>TOYOTA</td>\n",
       "      <td>SOLUNA</td>\n",
       "      <td>VIOS 1.5 E (ABS+AB)</td>\n",
       "    </tr>\n",
       "  </tbody>\n",
       "</table>\n",
       "</div>"
      ],
      "text/plain": [
       "    brand  series                          model\n",
       "0   HONDA    JAZZ             1.5 i-VTEC SV (AS)\n",
       "1  TOYOTA  ESTIMA                   2.4 G HYBRID\n",
       "2   HONDA    JAZZ              1.5 i-VTEC V (AS)\n",
       "3    FORD  RANGER  2.2 WILDTRAK DBL CAB HI-RIDER\n",
       "4  TOYOTA  SOLUNA            VIOS 1.5 E (ABS+AB)"
      ]
     },
     "execution_count": 36,
     "metadata": {
      "tags": []
     },
     "output_type": "execute_result"
    }
   ],
   "source": [
    "df.iloc[0:5, 1:4]"
   ]
  },
  {
   "cell_type": "markdown",
   "metadata": {
    "id": "geSkM8MiqlN1"
   },
   "source": [
    "## 6. Aggregation"
   ]
  },
  {
   "cell_type": "code",
   "execution_count": 52,
   "metadata": {
    "colab": {
     "base_uri": "https://localhost:8080/",
     "height": 204
    },
    "id": "yW2yOFiXqkjZ",
    "outputId": "2ea60297-bebe-49ec-c0f8-fc3b0200c3f4"
   },
   "outputs": [
    {
     "data": {
      "text/html": [
       "<div>\n",
       "<style scoped>\n",
       "    .dataframe tbody tr th:only-of-type {\n",
       "        vertical-align: middle;\n",
       "    }\n",
       "\n",
       "    .dataframe tbody tr th {\n",
       "        vertical-align: top;\n",
       "    }\n",
       "\n",
       "    .dataframe thead th {\n",
       "        text-align: right;\n",
       "    }\n",
       "</style>\n",
       "<table border=\"1\" class=\"dataframe\">\n",
       "  <thead>\n",
       "    <tr style=\"text-align: right;\">\n",
       "      <th></th>\n",
       "      <th>sales_price</th>\n",
       "      <th>brand</th>\n",
       "    </tr>\n",
       "  </thead>\n",
       "  <tbody>\n",
       "    <tr>\n",
       "      <th>12087</th>\n",
       "      <td>865,000</td>\n",
       "      <td>MITSUBISHI</td>\n",
       "    </tr>\n",
       "    <tr>\n",
       "      <th>300</th>\n",
       "      <td>435,000</td>\n",
       "      <td>NISSAN</td>\n",
       "    </tr>\n",
       "    <tr>\n",
       "      <th>9904</th>\n",
       "      <td>289,000</td>\n",
       "      <td>ISUZU</td>\n",
       "    </tr>\n",
       "    <tr>\n",
       "      <th>9234</th>\n",
       "      <td>265,000</td>\n",
       "      <td>NISSAN</td>\n",
       "    </tr>\n",
       "    <tr>\n",
       "      <th>13995</th>\n",
       "      <td>620,000</td>\n",
       "      <td>HONDA</td>\n",
       "    </tr>\n",
       "  </tbody>\n",
       "</table>\n",
       "</div>"
      ],
      "text/plain": [
       "      sales_price       brand\n",
       "12087     865,000  MITSUBISHI\n",
       "300       435,000      NISSAN\n",
       "9904      289,000       ISUZU\n",
       "9234      265,000      NISSAN\n",
       "13995     620,000       HONDA"
      ]
     },
     "execution_count": 52,
     "metadata": {
      "tags": []
     },
     "output_type": "execute_result"
    }
   ],
   "source": [
    "df2 = df[['sales_price', 'brand']]\n",
    "df2.sample(n=5)"
   ]
  },
  {
   "cell_type": "code",
   "execution_count": 53,
   "metadata": {
    "colab": {
     "base_uri": "https://localhost:8080/"
    },
    "id": "IdPr0tE5rRff",
    "outputId": "5280fc39-34a0-499f-d21a-b903ac6c1132"
   },
   "outputs": [
    {
     "data": {
      "text/plain": [
       "sales_price    object\n",
       "brand          object\n",
       "dtype: object"
      ]
     },
     "execution_count": 53,
     "metadata": {
      "tags": []
     },
     "output_type": "execute_result"
    }
   ],
   "source": [
    "df2.dtypes"
   ]
  },
  {
   "cell_type": "code",
   "execution_count": 54,
   "metadata": {
    "colab": {
     "base_uri": "https://localhost:8080/",
     "height": 341
    },
    "id": "0sBtM0fQrPYD",
    "outputId": "a0542382-5e40-4920-86f5-b22a1acbffe9"
   },
   "outputs": [
    {
     "ename": "ValueError",
     "evalue": "ignored",
     "output_type": "error",
     "traceback": [
      "\u001b[0;31m---------------------------------------------------------------------------\u001b[0m",
      "\u001b[0;31mValueError\u001b[0m                                Traceback (most recent call last)",
      "\u001b[0;32m<ipython-input-54-72c53238a145>\u001b[0m in \u001b[0;36m<module>\u001b[0;34m()\u001b[0m\n\u001b[0;32m----> 1\u001b[0;31m \u001b[0mdf2\u001b[0m\u001b[0;34m[\u001b[0m\u001b[0;34m'sales_price'\u001b[0m\u001b[0;34m]\u001b[0m\u001b[0;34m.\u001b[0m\u001b[0mastype\u001b[0m\u001b[0;34m(\u001b[0m\u001b[0mint\u001b[0m\u001b[0;34m)\u001b[0m\u001b[0;34m\u001b[0m\u001b[0;34m\u001b[0m\u001b[0m\n\u001b[0m",
      "\u001b[0;32m/usr/local/lib/python3.7/dist-packages/pandas/core/generic.py\u001b[0m in \u001b[0;36mastype\u001b[0;34m(self, dtype, copy, errors)\u001b[0m\n\u001b[1;32m   5546\u001b[0m         \u001b[0;32melse\u001b[0m\u001b[0;34m:\u001b[0m\u001b[0;34m\u001b[0m\u001b[0;34m\u001b[0m\u001b[0m\n\u001b[1;32m   5547\u001b[0m             \u001b[0;31m# else, only a single dtype is given\u001b[0m\u001b[0;34m\u001b[0m\u001b[0;34m\u001b[0m\u001b[0;34m\u001b[0m\u001b[0m\n\u001b[0;32m-> 5548\u001b[0;31m             \u001b[0mnew_data\u001b[0m \u001b[0;34m=\u001b[0m \u001b[0mself\u001b[0m\u001b[0;34m.\u001b[0m\u001b[0m_mgr\u001b[0m\u001b[0;34m.\u001b[0m\u001b[0mastype\u001b[0m\u001b[0;34m(\u001b[0m\u001b[0mdtype\u001b[0m\u001b[0;34m=\u001b[0m\u001b[0mdtype\u001b[0m\u001b[0;34m,\u001b[0m \u001b[0mcopy\u001b[0m\u001b[0;34m=\u001b[0m\u001b[0mcopy\u001b[0m\u001b[0;34m,\u001b[0m \u001b[0merrors\u001b[0m\u001b[0;34m=\u001b[0m\u001b[0merrors\u001b[0m\u001b[0;34m,\u001b[0m\u001b[0;34m)\u001b[0m\u001b[0;34m\u001b[0m\u001b[0;34m\u001b[0m\u001b[0m\n\u001b[0m\u001b[1;32m   5549\u001b[0m             \u001b[0;32mreturn\u001b[0m \u001b[0mself\u001b[0m\u001b[0;34m.\u001b[0m\u001b[0m_constructor\u001b[0m\u001b[0;34m(\u001b[0m\u001b[0mnew_data\u001b[0m\u001b[0;34m)\u001b[0m\u001b[0;34m.\u001b[0m\u001b[0m__finalize__\u001b[0m\u001b[0;34m(\u001b[0m\u001b[0mself\u001b[0m\u001b[0;34m,\u001b[0m \u001b[0mmethod\u001b[0m\u001b[0;34m=\u001b[0m\u001b[0;34m\"astype\"\u001b[0m\u001b[0;34m)\u001b[0m\u001b[0;34m\u001b[0m\u001b[0;34m\u001b[0m\u001b[0m\n\u001b[1;32m   5550\u001b[0m \u001b[0;34m\u001b[0m\u001b[0m\n",
      "\u001b[0;32m/usr/local/lib/python3.7/dist-packages/pandas/core/internals/managers.py\u001b[0m in \u001b[0;36mastype\u001b[0;34m(self, dtype, copy, errors)\u001b[0m\n\u001b[1;32m    602\u001b[0m         \u001b[0mself\u001b[0m\u001b[0;34m,\u001b[0m \u001b[0mdtype\u001b[0m\u001b[0;34m,\u001b[0m \u001b[0mcopy\u001b[0m\u001b[0;34m:\u001b[0m \u001b[0mbool\u001b[0m \u001b[0;34m=\u001b[0m \u001b[0;32mFalse\u001b[0m\u001b[0;34m,\u001b[0m \u001b[0merrors\u001b[0m\u001b[0;34m:\u001b[0m \u001b[0mstr\u001b[0m \u001b[0;34m=\u001b[0m \u001b[0;34m\"raise\"\u001b[0m\u001b[0;34m\u001b[0m\u001b[0;34m\u001b[0m\u001b[0m\n\u001b[1;32m    603\u001b[0m     ) -> \"BlockManager\":\n\u001b[0;32m--> 604\u001b[0;31m         \u001b[0;32mreturn\u001b[0m \u001b[0mself\u001b[0m\u001b[0;34m.\u001b[0m\u001b[0mapply\u001b[0m\u001b[0;34m(\u001b[0m\u001b[0;34m\"astype\"\u001b[0m\u001b[0;34m,\u001b[0m \u001b[0mdtype\u001b[0m\u001b[0;34m=\u001b[0m\u001b[0mdtype\u001b[0m\u001b[0;34m,\u001b[0m \u001b[0mcopy\u001b[0m\u001b[0;34m=\u001b[0m\u001b[0mcopy\u001b[0m\u001b[0;34m,\u001b[0m \u001b[0merrors\u001b[0m\u001b[0;34m=\u001b[0m\u001b[0merrors\u001b[0m\u001b[0;34m)\u001b[0m\u001b[0;34m\u001b[0m\u001b[0;34m\u001b[0m\u001b[0m\n\u001b[0m\u001b[1;32m    605\u001b[0m \u001b[0;34m\u001b[0m\u001b[0m\n\u001b[1;32m    606\u001b[0m     def convert(\n",
      "\u001b[0;32m/usr/local/lib/python3.7/dist-packages/pandas/core/internals/managers.py\u001b[0m in \u001b[0;36mapply\u001b[0;34m(self, f, align_keys, **kwargs)\u001b[0m\n\u001b[1;32m    407\u001b[0m                 \u001b[0mapplied\u001b[0m \u001b[0;34m=\u001b[0m \u001b[0mb\u001b[0m\u001b[0;34m.\u001b[0m\u001b[0mapply\u001b[0m\u001b[0;34m(\u001b[0m\u001b[0mf\u001b[0m\u001b[0;34m,\u001b[0m \u001b[0;34m**\u001b[0m\u001b[0mkwargs\u001b[0m\u001b[0;34m)\u001b[0m\u001b[0;34m\u001b[0m\u001b[0;34m\u001b[0m\u001b[0m\n\u001b[1;32m    408\u001b[0m             \u001b[0;32melse\u001b[0m\u001b[0;34m:\u001b[0m\u001b[0;34m\u001b[0m\u001b[0;34m\u001b[0m\u001b[0m\n\u001b[0;32m--> 409\u001b[0;31m                 \u001b[0mapplied\u001b[0m \u001b[0;34m=\u001b[0m \u001b[0mgetattr\u001b[0m\u001b[0;34m(\u001b[0m\u001b[0mb\u001b[0m\u001b[0;34m,\u001b[0m \u001b[0mf\u001b[0m\u001b[0;34m)\u001b[0m\u001b[0;34m(\u001b[0m\u001b[0;34m**\u001b[0m\u001b[0mkwargs\u001b[0m\u001b[0;34m)\u001b[0m\u001b[0;34m\u001b[0m\u001b[0;34m\u001b[0m\u001b[0m\n\u001b[0m\u001b[1;32m    410\u001b[0m             \u001b[0mresult_blocks\u001b[0m \u001b[0;34m=\u001b[0m \u001b[0m_extend_blocks\u001b[0m\u001b[0;34m(\u001b[0m\u001b[0mapplied\u001b[0m\u001b[0;34m,\u001b[0m \u001b[0mresult_blocks\u001b[0m\u001b[0;34m)\u001b[0m\u001b[0;34m\u001b[0m\u001b[0;34m\u001b[0m\u001b[0m\n\u001b[1;32m    411\u001b[0m \u001b[0;34m\u001b[0m\u001b[0m\n",
      "\u001b[0;32m/usr/local/lib/python3.7/dist-packages/pandas/core/internals/blocks.py\u001b[0m in \u001b[0;36mastype\u001b[0;34m(self, dtype, copy, errors)\u001b[0m\n\u001b[1;32m    593\u001b[0m             \u001b[0mvals1d\u001b[0m \u001b[0;34m=\u001b[0m \u001b[0mvalues\u001b[0m\u001b[0;34m.\u001b[0m\u001b[0mravel\u001b[0m\u001b[0;34m(\u001b[0m\u001b[0;34m)\u001b[0m\u001b[0;34m\u001b[0m\u001b[0;34m\u001b[0m\u001b[0m\n\u001b[1;32m    594\u001b[0m             \u001b[0;32mtry\u001b[0m\u001b[0;34m:\u001b[0m\u001b[0;34m\u001b[0m\u001b[0;34m\u001b[0m\u001b[0m\n\u001b[0;32m--> 595\u001b[0;31m                 \u001b[0mvalues\u001b[0m \u001b[0;34m=\u001b[0m \u001b[0mastype_nansafe\u001b[0m\u001b[0;34m(\u001b[0m\u001b[0mvals1d\u001b[0m\u001b[0;34m,\u001b[0m \u001b[0mdtype\u001b[0m\u001b[0;34m,\u001b[0m \u001b[0mcopy\u001b[0m\u001b[0;34m=\u001b[0m\u001b[0;32mTrue\u001b[0m\u001b[0;34m)\u001b[0m\u001b[0;34m\u001b[0m\u001b[0;34m\u001b[0m\u001b[0m\n\u001b[0m\u001b[1;32m    596\u001b[0m             \u001b[0;32mexcept\u001b[0m \u001b[0;34m(\u001b[0m\u001b[0mValueError\u001b[0m\u001b[0;34m,\u001b[0m \u001b[0mTypeError\u001b[0m\u001b[0;34m)\u001b[0m\u001b[0;34m:\u001b[0m\u001b[0;34m\u001b[0m\u001b[0;34m\u001b[0m\u001b[0m\n\u001b[1;32m    597\u001b[0m                 \u001b[0;31m# e.g. astype_nansafe can fail on object-dtype of strings\u001b[0m\u001b[0;34m\u001b[0m\u001b[0;34m\u001b[0m\u001b[0;34m\u001b[0m\u001b[0m\n",
      "\u001b[0;32m/usr/local/lib/python3.7/dist-packages/pandas/core/dtypes/cast.py\u001b[0m in \u001b[0;36mastype_nansafe\u001b[0;34m(arr, dtype, copy, skipna)\u001b[0m\n\u001b[1;32m    972\u001b[0m         \u001b[0;31m# work around NumPy brokenness, #1987\u001b[0m\u001b[0;34m\u001b[0m\u001b[0;34m\u001b[0m\u001b[0;34m\u001b[0m\u001b[0m\n\u001b[1;32m    973\u001b[0m         \u001b[0;32mif\u001b[0m \u001b[0mnp\u001b[0m\u001b[0;34m.\u001b[0m\u001b[0missubdtype\u001b[0m\u001b[0;34m(\u001b[0m\u001b[0mdtype\u001b[0m\u001b[0;34m.\u001b[0m\u001b[0mtype\u001b[0m\u001b[0;34m,\u001b[0m \u001b[0mnp\u001b[0m\u001b[0;34m.\u001b[0m\u001b[0minteger\u001b[0m\u001b[0;34m)\u001b[0m\u001b[0;34m:\u001b[0m\u001b[0;34m\u001b[0m\u001b[0;34m\u001b[0m\u001b[0m\n\u001b[0;32m--> 974\u001b[0;31m             \u001b[0;32mreturn\u001b[0m \u001b[0mlib\u001b[0m\u001b[0;34m.\u001b[0m\u001b[0mastype_intsafe\u001b[0m\u001b[0;34m(\u001b[0m\u001b[0marr\u001b[0m\u001b[0;34m.\u001b[0m\u001b[0mravel\u001b[0m\u001b[0;34m(\u001b[0m\u001b[0;34m)\u001b[0m\u001b[0;34m,\u001b[0m \u001b[0mdtype\u001b[0m\u001b[0;34m)\u001b[0m\u001b[0;34m.\u001b[0m\u001b[0mreshape\u001b[0m\u001b[0;34m(\u001b[0m\u001b[0marr\u001b[0m\u001b[0;34m.\u001b[0m\u001b[0mshape\u001b[0m\u001b[0;34m)\u001b[0m\u001b[0;34m\u001b[0m\u001b[0;34m\u001b[0m\u001b[0m\n\u001b[0m\u001b[1;32m    975\u001b[0m \u001b[0;34m\u001b[0m\u001b[0m\n\u001b[1;32m    976\u001b[0m         \u001b[0;31m# if we have a datetime/timedelta array of objects\u001b[0m\u001b[0;34m\u001b[0m\u001b[0;34m\u001b[0m\u001b[0;34m\u001b[0m\u001b[0m\n",
      "\u001b[0;32mpandas/_libs/lib.pyx\u001b[0m in \u001b[0;36mpandas._libs.lib.astype_intsafe\u001b[0;34m()\u001b[0m\n",
      "\u001b[0;31mValueError\u001b[0m: invalid literal for int() with base 10: '488,000'"
     ]
    }
   ],
   "source": [
    "df2['sales_price'].astype(int)"
   ]
  },
  {
   "cell_type": "code",
   "execution_count": 55,
   "metadata": {
    "colab": {
     "base_uri": "https://localhost:8080/",
     "height": 459
    },
    "id": "OjzdAtuZqufC",
    "outputId": "5df6a4a1-12e2-4750-b39f-a47986eb8b0a"
   },
   "outputs": [
    {
     "name": "stdout",
     "output_type": "stream",
     "text": [
      "sales_price     int64\n",
      "brand          object\n",
      "dtype: object\n"
     ]
    },
    {
     "name": "stderr",
     "output_type": "stream",
     "text": [
      "/usr/local/lib/python3.7/dist-packages/ipykernel_launcher.py:1: SettingWithCopyWarning: \n",
      "A value is trying to be set on a copy of a slice from a DataFrame.\n",
      "Try using .loc[row_indexer,col_indexer] = value instead\n",
      "\n",
      "See the caveats in the documentation: https://pandas.pydata.org/pandas-docs/stable/user_guide/indexing.html#returning-a-view-versus-a-copy\n",
      "  \"\"\"Entry point for launching an IPython kernel.\n",
      "/usr/local/lib/python3.7/dist-packages/ipykernel_launcher.py:2: SettingWithCopyWarning: \n",
      "A value is trying to be set on a copy of a slice from a DataFrame.\n",
      "Try using .loc[row_indexer,col_indexer] = value instead\n",
      "\n",
      "See the caveats in the documentation: https://pandas.pydata.org/pandas-docs/stable/user_guide/indexing.html#returning-a-view-versus-a-copy\n",
      "  \n"
     ]
    },
    {
     "data": {
      "text/html": [
       "<div>\n",
       "<style scoped>\n",
       "    .dataframe tbody tr th:only-of-type {\n",
       "        vertical-align: middle;\n",
       "    }\n",
       "\n",
       "    .dataframe tbody tr th {\n",
       "        vertical-align: top;\n",
       "    }\n",
       "\n",
       "    .dataframe thead th {\n",
       "        text-align: right;\n",
       "    }\n",
       "</style>\n",
       "<table border=\"1\" class=\"dataframe\">\n",
       "  <thead>\n",
       "    <tr style=\"text-align: right;\">\n",
       "      <th></th>\n",
       "      <th>sales_price</th>\n",
       "      <th>brand</th>\n",
       "    </tr>\n",
       "  </thead>\n",
       "  <tbody>\n",
       "    <tr>\n",
       "      <th>0</th>\n",
       "      <td>488000</td>\n",
       "      <td>HONDA</td>\n",
       "    </tr>\n",
       "    <tr>\n",
       "      <th>1</th>\n",
       "      <td>1677000</td>\n",
       "      <td>TOYOTA</td>\n",
       "    </tr>\n",
       "    <tr>\n",
       "      <th>2</th>\n",
       "      <td>338000</td>\n",
       "      <td>HONDA</td>\n",
       "    </tr>\n",
       "    <tr>\n",
       "      <th>3</th>\n",
       "      <td>689000</td>\n",
       "      <td>FORD</td>\n",
       "    </tr>\n",
       "    <tr>\n",
       "      <th>4</th>\n",
       "      <td>359000</td>\n",
       "      <td>TOYOTA</td>\n",
       "    </tr>\n",
       "  </tbody>\n",
       "</table>\n",
       "</div>"
      ],
      "text/plain": [
       "   sales_price   brand\n",
       "0       488000   HONDA\n",
       "1      1677000  TOYOTA\n",
       "2       338000   HONDA\n",
       "3       689000    FORD\n",
       "4       359000  TOYOTA"
      ]
     },
     "execution_count": 55,
     "metadata": {
      "tags": []
     },
     "output_type": "execute_result"
    }
   ],
   "source": [
    "df2['sales_price'] = df2['sales_price'].str.replace(',', '')\n",
    "df2['sales_price'] = df2['sales_price'].astype(int)\n",
    "print(df2.dtypes)\n",
    "df2.head()"
   ]
  },
  {
   "cell_type": "code",
   "execution_count": 57,
   "metadata": {
    "colab": {
     "base_uri": "https://localhost:8080/"
    },
    "id": "6rnip_rCruxb",
    "outputId": "c0ba3d9e-8fc6-4db1-88a5-08800a1c8605"
   },
   "outputs": [
    {
     "name": "stdout",
     "output_type": "stream",
     "text": [
      "Lowest sales price: 20000\n",
      "Highest sales price: 55000000\n",
      "Average sales price: 606793.1894279404\n",
      "Median sales price: 413000.0\n"
     ]
    }
   ],
   "source": [
    "print(f\"Lowest sales price: {df2['sales_price'].min()}\")\n",
    "print(f\"Highest sales price: {df2['sales_price'].max()}\")\n",
    "print(f\"Average sales price: {df2['sales_price'].mean()}\")\n",
    "print(f\"Median sales price: {df2['sales_price'].median()}\")"
   ]
  },
  {
   "cell_type": "code",
   "execution_count": 59,
   "metadata": {
    "colab": {
     "base_uri": "https://localhost:8080/"
    },
    "id": "wmd7QR7lsD2c",
    "outputId": "f2268973-0aac-4add-ff4c-c881822b828d"
   },
   "outputs": [
    {
     "data": {
      "text/plain": [
       "count    1.403700e+04\n",
       "mean     6.067932e+05\n",
       "std      8.720579e+05\n",
       "min      2.000000e+04\n",
       "25%      2.790000e+05\n",
       "50%      4.130000e+05\n",
       "75%      6.480000e+05\n",
       "max      5.500000e+07\n",
       "Name: sales_price, dtype: float64"
      ]
     },
     "execution_count": 59,
     "metadata": {
      "tags": []
     },
     "output_type": "execute_result"
    }
   ],
   "source": [
    "df2['sales_price'].describe()"
   ]
  },
  {
   "cell_type": "code",
   "execution_count": 68,
   "metadata": {
    "colab": {
     "base_uri": "https://localhost:8080/"
    },
    "id": "AMr00ECltpve",
    "outputId": "27ee9d68-48e0-4ee5-fd48-36867a23a3be"
   },
   "outputs": [
    {
     "data": {
      "text/plain": [
       "0         HONDA\n",
       "1        TOYOTA\n",
       "2         HONDA\n",
       "3          FORD\n",
       "4        TOYOTA\n",
       "          ...  \n",
       "14032     HONDA\n",
       "14033    TOYOTA\n",
       "14034    TOYOTA\n",
       "14035     HONDA\n",
       "14036     HONDA\n",
       "Name: brand, Length: 14037, dtype: object"
      ]
     },
     "execution_count": 68,
     "metadata": {
      "tags": []
     },
     "output_type": "execute_result"
    }
   ],
   "source": [
    "df2['brand']"
   ]
  },
  {
   "cell_type": "code",
   "execution_count": 69,
   "metadata": {
    "colab": {
     "base_uri": "https://localhost:8080/"
    },
    "id": "szEsxIdsttLE",
    "outputId": "b4892e0b-72e7-4688-90fa-80cc6127bdf2"
   },
   "outputs": [
    {
     "data": {
      "text/plain": [
       "array(['HONDA', 'TOYOTA', 'FORD', 'VOLKSWAGEN', 'CHEVROLET', 'VOLVO',\n",
       "       'AUDI', 'ISUZU', 'NISSAN', 'BMW', 'BENZ', 'SUZUKI', 'LEXUS',\n",
       "       'PORSCHE', 'SUBARU', 'MITSUBISHI', 'MAZDA', 'MG', 'SAAB',\n",
       "       'LANDROVER', 'PEUGEOT', 'JAGUAR', 'MINI', 'HYUNDAI', 'THAI RUNG',\n",
       "       'PROTON', 'KIA', 'HINO', 'TATA', 'FIAT', 'JEEP', 'SEAT',\n",
       "       'LAMBORGHINI', 'SKODA', 'ROVER', 'SSANGYONG', 'MASERATI',\n",
       "       'DAIHATSU', 'CITROEN', 'DFSK', 'FERRARI', 'ASTON MARTIN',\n",
       "       'BENTLEY', 'ALFA ROMEO', 'LOTUS', 'FOTON', 'HUMMER', 'CHERY',\n",
       "       'MITSUOKA'], dtype=object)"
      ]
     },
     "execution_count": 69,
     "metadata": {
      "tags": []
     },
     "output_type": "execute_result"
    }
   ],
   "source": [
    "df2['brand'].unique()"
   ]
  },
  {
   "cell_type": "code",
   "execution_count": 70,
   "metadata": {
    "colab": {
     "base_uri": "https://localhost:8080/"
    },
    "id": "mTao5DAytxT7",
    "outputId": "a14fa3b5-1673-4830-d6d4-f1e7c6ff8645"
   },
   "outputs": [
    {
     "data": {
      "text/plain": [
       "49"
      ]
     },
     "execution_count": 70,
     "metadata": {
      "tags": []
     },
     "output_type": "execute_result"
    }
   ],
   "source": [
    "df2['brand'].nunique()"
   ]
  },
  {
   "cell_type": "code",
   "execution_count": 71,
   "metadata": {
    "colab": {
     "base_uri": "https://localhost:8080/"
    },
    "id": "795nNHizt1AG",
    "outputId": "61971b03-7bad-4fe7-fb84-dfc307eca2dd"
   },
   "outputs": [
    {
     "data": {
      "text/plain": [
       "TOYOTA          4227\n",
       "HONDA           2252\n",
       "NISSAN          1055\n",
       "ISUZU           1050\n",
       "BENZ            1036\n",
       "MITSUBISHI       855\n",
       "BMW              664\n",
       "MAZDA            604\n",
       "FORD             554\n",
       "CHEVROLET        455\n",
       "SUZUKI           264\n",
       "HYUNDAI          135\n",
       "MINI             109\n",
       "VOLVO            107\n",
       "PORSCHE           95\n",
       "VOLKSWAGEN        86\n",
       "AUDI              69\n",
       "LEXUS             63\n",
       "SUBARU            51\n",
       "MG                41\n",
       "KIA               40\n",
       "LANDROVER         33\n",
       "PROTON            31\n",
       "THAI RUNG         26\n",
       "PEUGEOT           17\n",
       "JEEP              15\n",
       "JAGUAR            14\n",
       "HINO              13\n",
       "TATA              12\n",
       "CITROEN           11\n",
       "SSANGYONG         10\n",
       "DFSK               5\n",
       "FIAT               5\n",
       "DAIHATSU           4\n",
       "BENTLEY            3\n",
       "FERRARI            3\n",
       "SEAT               3\n",
       "LAMBORGHINI        3\n",
       "HUMMER             3\n",
       "CHERY              2\n",
       "ALFA ROMEO         2\n",
       "ROVER              2\n",
       "SAAB               2\n",
       "LOTUS              1\n",
       "MASERATI           1\n",
       "MITSUOKA           1\n",
       "SKODA              1\n",
       "ASTON MARTIN       1\n",
       "FOTON              1\n",
       "Name: brand, dtype: int64"
      ]
     },
     "execution_count": 71,
     "metadata": {
      "tags": []
     },
     "output_type": "execute_result"
    }
   ],
   "source": [
    "df2['brand'].value_counts()"
   ]
  },
  {
   "cell_type": "code",
   "execution_count": 72,
   "metadata": {
    "colab": {
     "base_uri": "https://localhost:8080/"
    },
    "id": "XexzFVvUt9ij",
    "outputId": "24610064-a1db-4a08-f7f1-9c6eabf5c1a0"
   },
   "outputs": [
    {
     "data": {
      "text/plain": [
       "brand\n",
       "ALFA ROMEO        455000\n",
       "ASTON MARTIN     6900000\n",
       "AUDI             8390000\n",
       "BENTLEY         13800000\n",
       "BENZ            12800000\n",
       "BMW              7350000\n",
       "CHERY             139000\n",
       "CHEVROLET        6190000\n",
       "CITROEN           549000\n",
       "DAIHATSU          299000\n",
       "DFSK               89000\n",
       "FERRARI         22000000\n",
       "FIAT             1890000\n",
       "FORD             2998000\n",
       "FOTON             365000\n",
       "HINO             3100000\n",
       "HONDA            6990000\n",
       "HUMMER           1950000\n",
       "HYUNDAI          2090000\n",
       "ISUZU            2550000\n",
       "JAGUAR           3490000\n",
       "JEEP             4550000\n",
       "KIA              1560000\n",
       "LAMBORGHINI      8900000\n",
       "LANDROVER        6700000\n",
       "LEXUS            3390000\n",
       "LOTUS            3900000\n",
       "MASERATI         5990000\n",
       "MAZDA            2390000\n",
       "MG                698000\n",
       "MINI             2650000\n",
       "MITSUBISHI       1198000\n",
       "MITSUOKA         1550000\n",
       "NISSAN          10500000\n",
       "PEUGEOT          1350000\n",
       "PORSCHE         55000000\n",
       "PROTON            299000\n",
       "ROVER             389000\n",
       "SAAB              245000\n",
       "SEAT              135000\n",
       "SKODA              89000\n",
       "SSANGYONG         595000\n",
       "SUBARU           2188000\n",
       "SUZUKI           2750000\n",
       "TATA              255000\n",
       "THAI RUNG         845000\n",
       "TOYOTA          11900000\n",
       "VOLKSWAGEN       1890000\n",
       "VOLVO            3480000\n",
       "Name: sales_price, dtype: int64"
      ]
     },
     "execution_count": 72,
     "metadata": {
      "tags": []
     },
     "output_type": "execute_result"
    }
   ],
   "source": [
    "df2.groupby(['brand'])['sales_price'].max()"
   ]
  },
  {
   "cell_type": "code",
   "execution_count": 73,
   "metadata": {
    "colab": {
     "base_uri": "https://localhost:8080/"
    },
    "id": "0x3e6TZ6uHKM",
    "outputId": "1bad1df3-a42c-4d6e-a96a-785f1af1f6bb"
   },
   "outputs": [
    {
     "data": {
      "text/plain": [
       "brand\n",
       "ALFA ROMEO       256000\n",
       "ASTON MARTIN    6900000\n",
       "AUDI              88000\n",
       "BENTLEY         5800000\n",
       "BENZ              28000\n",
       "BMW               50000\n",
       "CHERY             79000\n",
       "CHEVROLET         20000\n",
       "CITROEN          179000\n",
       "DAIHATSU         169000\n",
       "DFSK              75000\n",
       "FERRARI         9950000\n",
       "FIAT             119000\n",
       "FORD              48000\n",
       "FOTON            365000\n",
       "HINO             190000\n",
       "HONDA             20000\n",
       "HUMMER          1530000\n",
       "HYUNDAI           89000\n",
       "ISUZU             20000\n",
       "JAGUAR           439000\n",
       "JEEP             114000\n",
       "KIA               88000\n",
       "LAMBORGHINI     5590000\n",
       "LANDROVER        268000\n",
       "LEXUS             79000\n",
       "LOTUS           3900000\n",
       "MASERATI        5990000\n",
       "MAZDA             35000\n",
       "MG               230000\n",
       "MINI              50000\n",
       "MITSUBISHI        20000\n",
       "MITSUOKA        1550000\n",
       "NISSAN            20000\n",
       "PEUGEOT           75000\n",
       "PORSCHE         1290000\n",
       "PROTON            58000\n",
       "ROVER             99000\n",
       "SAAB              67000\n",
       "SEAT              65000\n",
       "SKODA             89000\n",
       "SSANGYONG        118000\n",
       "SUBARU           120000\n",
       "SUZUKI            79000\n",
       "TATA              65000\n",
       "THAI RUNG         69000\n",
       "TOYOTA            20000\n",
       "VOLKSWAGEN        58000\n",
       "VOLVO             43000\n",
       "Name: sales_price, dtype: int64"
      ]
     },
     "execution_count": 73,
     "metadata": {
      "tags": []
     },
     "output_type": "execute_result"
    }
   ],
   "source": [
    "df2.groupby(['brand'])['sales_price'].min()"
   ]
  },
  {
   "cell_type": "code",
   "execution_count": 74,
   "metadata": {
    "colab": {
     "base_uri": "https://localhost:8080/"
    },
    "id": "AfUjPRXhuI0o",
    "outputId": "0a295598-9fce-44aa-ea33-a977d3f8d289"
   },
   "outputs": [
    {
     "data": {
      "text/plain": [
       "brand\n",
       "ALFA ROMEO      3.555000e+05\n",
       "ASTON MARTIN    6.900000e+06\n",
       "AUDI            1.594739e+06\n",
       "BENTLEY         9.100000e+06\n",
       "BENZ            1.295657e+06\n",
       "BMW             1.254411e+06\n",
       "CHERY           1.090000e+05\n",
       "CHEVROLET       3.834835e+05\n",
       "CITROEN         3.742727e+05\n",
       "DAIHATSU        2.215000e+05\n",
       "DFSK            8.540000e+04\n",
       "FERRARI         1.448333e+07\n",
       "FIAT            1.225800e+06\n",
       "FORD            4.229819e+05\n",
       "FOTON           3.650000e+05\n",
       "HINO            9.753846e+05\n",
       "HONDA           4.377744e+05\n",
       "HUMMER          1.790000e+06\n",
       "HYUNDAI         8.377926e+05\n",
       "ISUZU           4.501829e+05\n",
       "JAGUAR          1.321571e+06\n",
       "JEEP            8.740000e+05\n",
       "KIA             3.733250e+05\n",
       "LAMBORGHINI     7.796667e+06\n",
       "LANDROVER       1.747121e+06\n",
       "LEXUS           1.100429e+06\n",
       "LOTUS           3.900000e+06\n",
       "MASERATI        5.990000e+06\n",
       "MAZDA           4.147467e+05\n",
       "MG              3.860244e+05\n",
       "MINI            1.158330e+06\n",
       "MITSUBISHI      3.656596e+05\n",
       "MITSUOKA        1.550000e+06\n",
       "NISSAN          4.077697e+05\n",
       "PEUGEOT         4.717059e+05\n",
       "PORSCHE         4.873274e+06\n",
       "PROTON          1.908387e+05\n",
       "ROVER           2.440000e+05\n",
       "SAAB            1.560000e+05\n",
       "SEAT            1.116667e+05\n",
       "SKODA           8.900000e+04\n",
       "SSANGYONG       3.107000e+05\n",
       "SUBARU          6.591176e+05\n",
       "SUZUKI          3.022121e+05\n",
       "TATA            1.130000e+05\n",
       "THAI RUNG       2.282692e+05\n",
       "TOYOTA          4.886688e+05\n",
       "VOLKSWAGEN      7.786395e+05\n",
       "VOLVO           6.073738e+05\n",
       "Name: sales_price, dtype: float64"
      ]
     },
     "execution_count": 74,
     "metadata": {
      "tags": []
     },
     "output_type": "execute_result"
    }
   ],
   "source": [
    "df2.groupby(['brand'])['sales_price'].mean()"
   ]
  },
  {
   "cell_type": "markdown",
   "metadata": {
    "id": "Rjfc5D7EUPyx"
   },
   "source": [
    "## 7. Analyze data"
   ]
  },
  {
   "cell_type": "code",
   "execution_count": 75,
   "metadata": {
    "id": "LbZA9yoeUcoY"
   },
   "outputs": [],
   "source": [
    "iris = pd.read_csv('https://gist.githubusercontent.com/curran/a08a1080b88344b0c8a7/raw/0e7a9b0a5d22642a06d3d5b9bcbad9890c8ee534/iris.csv')"
   ]
  },
  {
   "cell_type": "code",
   "execution_count": 76,
   "metadata": {
    "colab": {
     "base_uri": "https://localhost:8080/",
     "height": 204
    },
    "id": "Ojq9oCM5bKv_",
    "outputId": "d101f81f-f46b-43f5-f286-ca3bc1ae6f1e"
   },
   "outputs": [
    {
     "data": {
      "text/html": [
       "<div>\n",
       "<style scoped>\n",
       "    .dataframe tbody tr th:only-of-type {\n",
       "        vertical-align: middle;\n",
       "    }\n",
       "\n",
       "    .dataframe tbody tr th {\n",
       "        vertical-align: top;\n",
       "    }\n",
       "\n",
       "    .dataframe thead th {\n",
       "        text-align: right;\n",
       "    }\n",
       "</style>\n",
       "<table border=\"1\" class=\"dataframe\">\n",
       "  <thead>\n",
       "    <tr style=\"text-align: right;\">\n",
       "      <th></th>\n",
       "      <th>sepal_length</th>\n",
       "      <th>sepal_width</th>\n",
       "      <th>petal_length</th>\n",
       "      <th>petal_width</th>\n",
       "      <th>species</th>\n",
       "    </tr>\n",
       "  </thead>\n",
       "  <tbody>\n",
       "    <tr>\n",
       "      <th>0</th>\n",
       "      <td>5.1</td>\n",
       "      <td>3.5</td>\n",
       "      <td>1.4</td>\n",
       "      <td>0.2</td>\n",
       "      <td>setosa</td>\n",
       "    </tr>\n",
       "    <tr>\n",
       "      <th>1</th>\n",
       "      <td>4.9</td>\n",
       "      <td>3.0</td>\n",
       "      <td>1.4</td>\n",
       "      <td>0.2</td>\n",
       "      <td>setosa</td>\n",
       "    </tr>\n",
       "    <tr>\n",
       "      <th>2</th>\n",
       "      <td>4.7</td>\n",
       "      <td>3.2</td>\n",
       "      <td>1.3</td>\n",
       "      <td>0.2</td>\n",
       "      <td>setosa</td>\n",
       "    </tr>\n",
       "    <tr>\n",
       "      <th>3</th>\n",
       "      <td>4.6</td>\n",
       "      <td>3.1</td>\n",
       "      <td>1.5</td>\n",
       "      <td>0.2</td>\n",
       "      <td>setosa</td>\n",
       "    </tr>\n",
       "    <tr>\n",
       "      <th>4</th>\n",
       "      <td>5.0</td>\n",
       "      <td>3.6</td>\n",
       "      <td>1.4</td>\n",
       "      <td>0.2</td>\n",
       "      <td>setosa</td>\n",
       "    </tr>\n",
       "  </tbody>\n",
       "</table>\n",
       "</div>"
      ],
      "text/plain": [
       "   sepal_length  sepal_width  petal_length  petal_width species\n",
       "0           5.1          3.5           1.4          0.2  setosa\n",
       "1           4.9          3.0           1.4          0.2  setosa\n",
       "2           4.7          3.2           1.3          0.2  setosa\n",
       "3           4.6          3.1           1.5          0.2  setosa\n",
       "4           5.0          3.6           1.4          0.2  setosa"
      ]
     },
     "execution_count": 76,
     "metadata": {
      "tags": []
     },
     "output_type": "execute_result"
    }
   ],
   "source": [
    "iris.head()"
   ]
  },
  {
   "cell_type": "markdown",
   "metadata": {
    "id": "-oG5_S6quhVk"
   },
   "source": [
    "Question:\n",
    "1. ค่าเฉลี่ยของความยาวและความกว้างของกลีบเลี้ยงคือเท่าไหร่ ?\n",
    "2. กลีบดอกมีความยาวและความกว้่างมากที่สุดเท่าไหร่ ?\n",
    "3. ดอกไม้ species ไหน มีจำนวนเยอะที่สุด ?\n",
    "4. แต่ละ species มีค่าเฉลี่ยความยาวและความกว้างของกลีบเลี้ยงคือเท่าไหร่ ?"
   ]
  },
  {
   "cell_type": "code",
   "execution_count": null,
   "metadata": {
    "id": "xAW4UYZCvRn2"
   },
   "outputs": [],
   "source": []
  }
 ],
 "metadata": {
  "colab": {
   "name": "ai_builder_pandas.ipynb",
   "provenance": [],
   "toc_visible": true
  },
  "kernelspec": {
   "display_name": "Python 3",
   "language": "python",
   "name": "python3"
  },
  "language_info": {
   "codemirror_mode": {
    "name": "ipython",
    "version": 3
   },
   "file_extension": ".py",
   "mimetype": "text/x-python",
   "name": "python",
   "nbconvert_exporter": "python",
   "pygments_lexer": "ipython3",
   "version": "3.6.7"
  }
 },
 "nbformat": 4,
 "nbformat_minor": 4
}
