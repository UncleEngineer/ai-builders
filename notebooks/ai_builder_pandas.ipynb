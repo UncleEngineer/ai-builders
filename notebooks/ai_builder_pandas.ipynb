{
 "cells": [
  {
   "cell_type": "markdown",
   "metadata": {
    "id": "4Y1vJWx4Ntyv"
   },
   "source": [
    "# Introduction to Pandas"
   ]
  },
  {
   "cell_type": "markdown",
   "metadata": {},
   "source": [
    "[![](https://colab.research.google.com/assets/colab-badge.svg)](https://colab.research.google.com/drive/1FpWjpPEvJgCfo3XmkY-NPfRSNcmjDHrn?usp=sharing)"
   ]
  },
  {
   "cell_type": "code",
   "execution_count": 1,
   "metadata": {
    "id": "pi3RJlBrOhrf"
   },
   "outputs": [],
   "source": [
    "import pandas as pd"
   ]
  },
  {
   "cell_type": "markdown",
   "metadata": {
    "id": "zHliYFRBNxf4"
   },
   "source": [
    "## 1. Read data"
   ]
  },
  {
   "cell_type": "code",
   "execution_count": 2,
   "metadata": {
    "id": "uxE-qQHnM7qx"
   },
   "outputs": [],
   "source": [
    "# show read big dataset"
   ]
  },
  {
   "cell_type": "code",
   "execution_count": 3,
   "metadata": {
    "id": "pctTMUE3QZGQ"
   },
   "outputs": [],
   "source": [
    "df = pd.read_csv('https://raw.githubusercontent.com/cstorm125/viztech/master/data/taladrod.csv')"
   ]
  },
  {
   "cell_type": "code",
   "execution_count": 4,
   "metadata": {
    "colab": {
     "base_uri": "https://localhost:8080/",
     "height": 479
    },
    "id": "YJXeAIJupxpd",
    "outputId": "b2b35d0f-96c0-4ddb-b736-ad7e4164d950"
   },
   "outputs": [
    {
     "data": {
      "text/html": [
       "<div>\n",
       "<style scoped>\n",
       "    .dataframe tbody tr th:only-of-type {\n",
       "        vertical-align: middle;\n",
       "    }\n",
       "\n",
       "    .dataframe tbody tr th {\n",
       "        vertical-align: top;\n",
       "    }\n",
       "\n",
       "    .dataframe thead th {\n",
       "        text-align: right;\n",
       "    }\n",
       "</style>\n",
       "<table border=\"1\" class=\"dataframe\">\n",
       "  <thead>\n",
       "    <tr style=\"text-align: right;\">\n",
       "      <th></th>\n",
       "      <th>id</th>\n",
       "      <th>brand</th>\n",
       "      <th>series</th>\n",
       "      <th>model</th>\n",
       "      <th>gen</th>\n",
       "      <th>year</th>\n",
       "      <th>color</th>\n",
       "      <th>gear</th>\n",
       "      <th>gas</th>\n",
       "      <th>sales_price</th>\n",
       "      <th>original_price</th>\n",
       "      <th>market_price</th>\n",
       "      <th>description</th>\n",
       "      <th>contact_location</th>\n",
       "      <th>subscribers</th>\n",
       "      <th>scraped_date</th>\n",
       "      <th>removed_date</th>\n",
       "    </tr>\n",
       "  </thead>\n",
       "  <tbody>\n",
       "    <tr>\n",
       "      <th>0</th>\n",
       "      <td>2210000</td>\n",
       "      <td>HONDA</td>\n",
       "      <td>JAZZ</td>\n",
       "      <td>1.5 i-VTEC SV (AS)</td>\n",
       "      <td>ปี08-13</td>\n",
       "      <td>2014.0</td>\n",
       "      <td>สีขาว</td>\n",
       "      <td>เกียร์ออโต้</td>\n",
       "      <td>NaN</td>\n",
       "      <td>488,000</td>\n",
       "      <td>NaN</td>\n",
       "      <td>NaN</td>\n",
       "      <td>เครดิตดีออกรถ10,000จบครับ\\nรับประกันเครื่องเกี...</td>\n",
       "      <td>กรุงเทพฯ</td>\n",
       "      <td>1047.0</td>\n",
       "      <td>2019-05-22</td>\n",
       "      <td>NaN</td>\n",
       "    </tr>\n",
       "    <tr>\n",
       "      <th>1</th>\n",
       "      <td>2210001</td>\n",
       "      <td>TOYOTA</td>\n",
       "      <td>ESTIMA</td>\n",
       "      <td>2.4 G HYBRID</td>\n",
       "      <td>ปี10-ปัจจุบัน</td>\n",
       "      <td>2013.0</td>\n",
       "      <td>สีขาว</td>\n",
       "      <td>เกียร์ออโต้</td>\n",
       "      <td>NaN</td>\n",
       "      <td>1,677,000</td>\n",
       "      <td>NaN</td>\n",
       "      <td>3,050,000</td>\n",
       "      <td>TOPสุด Estima Aeras Hybrid รถเข้าเซอร์วิส TOYO...</td>\n",
       "      <td>กรุงเทพฯ</td>\n",
       "      <td>182.0</td>\n",
       "      <td>2019-05-22</td>\n",
       "      <td>NaN</td>\n",
       "    </tr>\n",
       "    <tr>\n",
       "      <th>2</th>\n",
       "      <td>2210009</td>\n",
       "      <td>HONDA</td>\n",
       "      <td>JAZZ</td>\n",
       "      <td>1.5 i-VTEC V (AS)</td>\n",
       "      <td>ปี08-13</td>\n",
       "      <td>2008.0</td>\n",
       "      <td>สีน้ำเงิน</td>\n",
       "      <td>เกียร์ออโต้</td>\n",
       "      <td>NaN</td>\n",
       "      <td>338,000</td>\n",
       "      <td>NaN</td>\n",
       "      <td>NaN</td>\n",
       "      <td>เครดิดีออกรถ10,000จบครับ\\nรับประกันเครื่องเกีย...</td>\n",
       "      <td>กรุงเทพฯ</td>\n",
       "      <td>1047.0</td>\n",
       "      <td>2019-05-22</td>\n",
       "      <td>NaN</td>\n",
       "    </tr>\n",
       "    <tr>\n",
       "      <th>3</th>\n",
       "      <td>2210012</td>\n",
       "      <td>FORD</td>\n",
       "      <td>RANGER</td>\n",
       "      <td>2.2 WILDTRAK DBL CAB HI-RIDER</td>\n",
       "      <td>DOUBLECAB</td>\n",
       "      <td>2016.0</td>\n",
       "      <td>สีขาว</td>\n",
       "      <td>เกียร์ออโต้</td>\n",
       "      <td>NaN</td>\n",
       "      <td>689,000</td>\n",
       "      <td>NaN</td>\n",
       "      <td>849,000</td>\n",
       "      <td>รับรองสภาพ ไม่มีชน มือเดียว พาช่างมาตรวจสภาพรถ...</td>\n",
       "      <td>กรุงเทพฯ</td>\n",
       "      <td>760.0</td>\n",
       "      <td>2019-05-22</td>\n",
       "      <td>NaN</td>\n",
       "    </tr>\n",
       "    <tr>\n",
       "      <th>4</th>\n",
       "      <td>2210016</td>\n",
       "      <td>TOYOTA</td>\n",
       "      <td>SOLUNA</td>\n",
       "      <td>VIOS 1.5 E (ABS+AB)</td>\n",
       "      <td>VIOS ปี13-ปัจจุบัน</td>\n",
       "      <td>2015.0</td>\n",
       "      <td>สีบรอนซ์เงิน</td>\n",
       "      <td>เกียร์ออโต้</td>\n",
       "      <td>NaN</td>\n",
       "      <td>359,000</td>\n",
       "      <td>NaN</td>\n",
       "      <td>649,000</td>\n",
       "      <td>ไมล์แท้ 99,xxx TOYOTA SOLUNA VIOS 1.5E\\nTOYOTA...</td>\n",
       "      <td>กรุงเทพฯ</td>\n",
       "      <td>699.0</td>\n",
       "      <td>2019-05-22</td>\n",
       "      <td>NaN</td>\n",
       "    </tr>\n",
       "  </tbody>\n",
       "</table>\n",
       "</div>"
      ],
      "text/plain": [
       "        id   brand  series  ... subscribers scraped_date  removed_date\n",
       "0  2210000   HONDA    JAZZ  ...      1047.0   2019-05-22           NaN\n",
       "1  2210001  TOYOTA  ESTIMA  ...       182.0   2019-05-22           NaN\n",
       "2  2210009   HONDA    JAZZ  ...      1047.0   2019-05-22           NaN\n",
       "3  2210012    FORD  RANGER  ...       760.0   2019-05-22           NaN\n",
       "4  2210016  TOYOTA  SOLUNA  ...       699.0   2019-05-22           NaN\n",
       "\n",
       "[5 rows x 17 columns]"
      ]
     },
     "execution_count": 4,
     "metadata": {
      "tags": []
     },
     "output_type": "execute_result"
    }
   ],
   "source": [
    "df.head()"
   ]
  },
  {
   "cell_type": "code",
   "execution_count": 5,
   "metadata": {
    "colab": {
     "base_uri": "https://localhost:8080/"
    },
    "id": "-lXGsCEwp1xl",
    "outputId": "89e5f15b-04bc-44c9-e8c5-307a9e8023d6"
   },
   "outputs": [
    {
     "name": "stdout",
     "output_type": "stream",
     "text": [
      "<class 'pandas.core.frame.DataFrame'>\n",
      "RangeIndex: 14037 entries, 0 to 14036\n",
      "Data columns (total 17 columns):\n",
      " #   Column            Non-Null Count  Dtype  \n",
      "---  ------            --------------  -----  \n",
      " 0   id                14037 non-null  int64  \n",
      " 1   brand             14037 non-null  object \n",
      " 2   series            14037 non-null  object \n",
      " 3   model             14037 non-null  object \n",
      " 4   gen               14037 non-null  object \n",
      " 5   year              14037 non-null  float64\n",
      " 6   color             14037 non-null  object \n",
      " 7   gear              14037 non-null  object \n",
      " 8   gas               891 non-null    object \n",
      " 9   sales_price       14037 non-null  object \n",
      " 10  original_price    121 non-null    object \n",
      " 11  market_price      6153 non-null   object \n",
      " 12  description       14037 non-null  object \n",
      " 13  contact_location  14037 non-null  object \n",
      " 14  subscribers       14028 non-null  float64\n",
      " 15  scraped_date      14037 non-null  object \n",
      " 16  removed_date      1590 non-null   object \n",
      "dtypes: float64(2), int64(1), object(14)\n",
      "memory usage: 1.8+ MB\n"
     ]
    }
   ],
   "source": [
    "df.info()"
   ]
  },
  {
   "cell_type": "markdown",
   "metadata": {
    "id": "mntApgBFQvpZ"
   },
   "source": [
    "## 2. Series"
   ]
  },
  {
   "cell_type": "code",
   "execution_count": 6,
   "metadata": {
    "colab": {
     "base_uri": "https://localhost:8080/"
    },
    "id": "i-7sI2XFQbI4",
    "outputId": "e3d872b5-8532-4cdb-a077-ae72d6920c12"
   },
   "outputs": [
    {
     "data": {
      "text/plain": [
       "0          488,000\n",
       "1        1,677,000\n",
       "2          338,000\n",
       "3          689,000\n",
       "4          359,000\n",
       "           ...    \n",
       "14032      428,000\n",
       "14033      530,000\n",
       "14034      435,000\n",
       "14035      168,000\n",
       "14036      976,000\n",
       "Name: sales_price, Length: 14037, dtype: object"
      ]
     },
     "execution_count": 6,
     "metadata": {
      "tags": []
     },
     "output_type": "execute_result"
    }
   ],
   "source": [
    "ser = df['sales_price']\n",
    "ser"
   ]
  },
  {
   "cell_type": "code",
   "execution_count": 7,
   "metadata": {
    "colab": {
     "base_uri": "https://localhost:8080/"
    },
    "id": "CNZNDPO5Q0vM",
    "outputId": "37a868dd-003e-4603-f44b-eab648bd5e98"
   },
   "outputs": [
    {
     "data": {
      "text/plain": [
       "(14037,)"
      ]
     },
     "execution_count": 7,
     "metadata": {
      "tags": []
     },
     "output_type": "execute_result"
    }
   ],
   "source": [
    "ser.shape"
   ]
  },
  {
   "cell_type": "markdown",
   "metadata": {
    "id": "m1uj0RjhQ-6v"
   },
   "source": [
    "## 3. Dataframe"
   ]
  },
  {
   "cell_type": "code",
   "execution_count": 8,
   "metadata": {
    "colab": {
     "base_uri": "https://localhost:8080/",
     "height": 496
    },
    "id": "mqF8yjuWQ3wV",
    "outputId": "38e161c1-3031-4630-8f58-f0f53f982145"
   },
   "outputs": [
    {
     "data": {
      "text/html": [
       "<div>\n",
       "<style scoped>\n",
       "    .dataframe tbody tr th:only-of-type {\n",
       "        vertical-align: middle;\n",
       "    }\n",
       "\n",
       "    .dataframe tbody tr th {\n",
       "        vertical-align: top;\n",
       "    }\n",
       "\n",
       "    .dataframe thead th {\n",
       "        text-align: right;\n",
       "    }\n",
       "</style>\n",
       "<table border=\"1\" class=\"dataframe\">\n",
       "  <thead>\n",
       "    <tr style=\"text-align: right;\">\n",
       "      <th></th>\n",
       "      <th>id</th>\n",
       "      <th>brand</th>\n",
       "      <th>series</th>\n",
       "      <th>model</th>\n",
       "      <th>gen</th>\n",
       "      <th>year</th>\n",
       "      <th>color</th>\n",
       "      <th>gear</th>\n",
       "      <th>gas</th>\n",
       "      <th>sales_price</th>\n",
       "      <th>original_price</th>\n",
       "      <th>market_price</th>\n",
       "      <th>description</th>\n",
       "      <th>contact_location</th>\n",
       "      <th>subscribers</th>\n",
       "      <th>scraped_date</th>\n",
       "      <th>removed_date</th>\n",
       "    </tr>\n",
       "  </thead>\n",
       "  <tbody>\n",
       "    <tr>\n",
       "      <th>14032</th>\n",
       "      <td>2232877</td>\n",
       "      <td>HONDA</td>\n",
       "      <td>CIVIC</td>\n",
       "      <td>1.8 E</td>\n",
       "      <td>FB ปี12-15</td>\n",
       "      <td>2012.0</td>\n",
       "      <td>สีบรอนซ์เงิน</td>\n",
       "      <td>เกียร์ออโต้</td>\n",
       "      <td>NaN</td>\n",
       "      <td>428,000</td>\n",
       "      <td>NaN</td>\n",
       "      <td>NaN</td>\n",
       "      <td>2012 Honda civic FB 1.8E auto เบาะไฟฟ้า สภาพสว...</td>\n",
       "      <td>กรุงเทพฯ</td>\n",
       "      <td>1614.0</td>\n",
       "      <td>2019-05-28</td>\n",
       "      <td>NaN</td>\n",
       "    </tr>\n",
       "    <tr>\n",
       "      <th>14033</th>\n",
       "      <td>2232878</td>\n",
       "      <td>TOYOTA</td>\n",
       "      <td>CAMRY</td>\n",
       "      <td>2.0 G</td>\n",
       "      <td>ปี06-12</td>\n",
       "      <td>2011.0</td>\n",
       "      <td>สีเทา</td>\n",
       "      <td>เกียร์ออโต้</td>\n",
       "      <td>NaN</td>\n",
       "      <td>530,000</td>\n",
       "      <td>NaN</td>\n",
       "      <td>1,299,000</td>\n",
       "      <td>รถศูนย์ TOYOTA CAMRY 2.0 G ปี 2011\\nรถศูนย์ สภ...</td>\n",
       "      <td>ปทุมธานี</td>\n",
       "      <td>1469.0</td>\n",
       "      <td>2019-05-28</td>\n",
       "      <td>NaN</td>\n",
       "    </tr>\n",
       "    <tr>\n",
       "      <th>14034</th>\n",
       "      <td>2232879</td>\n",
       "      <td>TOYOTA</td>\n",
       "      <td>CAMRY</td>\n",
       "      <td>2.4 HYBRID</td>\n",
       "      <td>ปี06-12</td>\n",
       "      <td>2010.0</td>\n",
       "      <td>สีขาว</td>\n",
       "      <td>เกียร์ออโต้</td>\n",
       "      <td>NaN</td>\n",
       "      <td>435,000</td>\n",
       "      <td>NaN</td>\n",
       "      <td>NaN</td>\n",
       "      <td>Camry Hybrid วิ่งน้อย เช็ค0ทุกระยะ สภาพใหม่กิ๊...</td>\n",
       "      <td>กรุงเทพฯ</td>\n",
       "      <td>1469.0</td>\n",
       "      <td>2019-05-28</td>\n",
       "      <td>NaN</td>\n",
       "    </tr>\n",
       "    <tr>\n",
       "      <th>14035</th>\n",
       "      <td>2232880</td>\n",
       "      <td>HONDA</td>\n",
       "      <td>JAZZ</td>\n",
       "      <td>1.5 S</td>\n",
       "      <td>แรก</td>\n",
       "      <td>2006.0</td>\n",
       "      <td>สีขาว</td>\n",
       "      <td>เกียร์ออโต้</td>\n",
       "      <td>NaN</td>\n",
       "      <td>168,000</td>\n",
       "      <td>NaN</td>\n",
       "      <td>NaN</td>\n",
       "      <td>Honda Jazz ปี2006  เกียร์auto  ขาย 168000 บ.\\n...</td>\n",
       "      <td>กรุงเทพฯ</td>\n",
       "      <td>825.0</td>\n",
       "      <td>2019-05-28</td>\n",
       "      <td>NaN</td>\n",
       "    </tr>\n",
       "    <tr>\n",
       "      <th>14036</th>\n",
       "      <td>2232881</td>\n",
       "      <td>HONDA</td>\n",
       "      <td>CIVIC</td>\n",
       "      <td>1.5 TURBO RS</td>\n",
       "      <td>FC ปี16-ปัจจุบัน</td>\n",
       "      <td>2016.0</td>\n",
       "      <td>สีเทา</td>\n",
       "      <td>เกียร์ออโต้</td>\n",
       "      <td>NaN</td>\n",
       "      <td>976,000</td>\n",
       "      <td>NaN</td>\n",
       "      <td>1,190,000</td>\n",
       "      <td>1.5 Turbo RS Topสุด โฉม FC ยังมีวารันตีศูนย์ ไ...</td>\n",
       "      <td>กรุงเทพฯ</td>\n",
       "      <td>1147.0</td>\n",
       "      <td>2019-05-28</td>\n",
       "      <td>NaN</td>\n",
       "    </tr>\n",
       "  </tbody>\n",
       "</table>\n",
       "</div>"
      ],
      "text/plain": [
       "            id   brand series  ... subscribers scraped_date  removed_date\n",
       "14032  2232877   HONDA  CIVIC  ...      1614.0   2019-05-28           NaN\n",
       "14033  2232878  TOYOTA  CAMRY  ...      1469.0   2019-05-28           NaN\n",
       "14034  2232879  TOYOTA  CAMRY  ...      1469.0   2019-05-28           NaN\n",
       "14035  2232880   HONDA   JAZZ  ...       825.0   2019-05-28           NaN\n",
       "14036  2232881   HONDA  CIVIC  ...      1147.0   2019-05-28           NaN\n",
       "\n",
       "[5 rows x 17 columns]"
      ]
     },
     "execution_count": 8,
     "metadata": {
      "tags": []
     },
     "output_type": "execute_result"
    }
   ],
   "source": [
    "df.tail()"
   ]
  },
  {
   "cell_type": "code",
   "execution_count": 9,
   "metadata": {
    "colab": {
     "base_uri": "https://localhost:8080/"
    },
    "id": "PRV5oRBZRFNa",
    "outputId": "c9ef06c6-8fb2-4ab0-dc03-8212851b0ea3"
   },
   "outputs": [
    {
     "data": {
      "text/plain": [
       "(14037, 17)"
      ]
     },
     "execution_count": 9,
     "metadata": {
      "tags": []
     },
     "output_type": "execute_result"
    }
   ],
   "source": [
    "df.shape"
   ]
  },
  {
   "cell_type": "markdown",
   "metadata": {
    "id": "dBTbbUx7SJHY"
   },
   "source": [
    "## 4. Indexing"
   ]
  },
  {
   "cell_type": "markdown",
   "metadata": {
    "id": "l_hDtQawSi7x"
   },
   "source": [
    "Position"
   ]
  },
  {
   "cell_type": "code",
   "execution_count": 10,
   "metadata": {
    "colab": {
     "base_uri": "https://localhost:8080/"
    },
    "id": "gnVBrsVbRJpj",
    "outputId": "4203312c-05e0-4c97-cbdb-0579e5b1b469"
   },
   "outputs": [
    {
     "data": {
      "text/plain": [
       "id                                                            2210012\n",
       "brand                                                            FORD\n",
       "series                                                         RANGER\n",
       "model                                   2.2 WILDTRAK DBL CAB HI-RIDER\n",
       "gen                                                         DOUBLECAB\n",
       "year                                                             2016\n",
       "color                                                           สีขาว\n",
       "gear                                                      เกียร์ออโต้\n",
       "gas                                                               NaN\n",
       "sales_price                                                   689,000\n",
       "original_price                                                    NaN\n",
       "market_price                                                  849,000\n",
       "description         รับรองสภาพ ไม่มีชน มือเดียว พาช่างมาตรวจสภาพรถ...\n",
       "contact_location                                             กรุงเทพฯ\n",
       "subscribers                                                       760\n",
       "scraped_date                                               2019-05-22\n",
       "removed_date                                                      NaN\n",
       "Name: 3, dtype: object"
      ]
     },
     "execution_count": 10,
     "metadata": {
      "tags": []
     },
     "output_type": "execute_result"
    }
   ],
   "source": [
    "df.iloc[3]"
   ]
  },
  {
   "cell_type": "code",
   "execution_count": 11,
   "metadata": {
    "colab": {
     "base_uri": "https://localhost:8080/",
     "height": 111
    },
    "id": "iAixTmE4SUQ3",
    "outputId": "236badae-d785-41b7-d9b7-e560779cda14"
   },
   "outputs": [
    {
     "data": {
      "text/html": [
       "<div>\n",
       "<style scoped>\n",
       "    .dataframe tbody tr th:only-of-type {\n",
       "        vertical-align: middle;\n",
       "    }\n",
       "\n",
       "    .dataframe tbody tr th {\n",
       "        vertical-align: top;\n",
       "    }\n",
       "\n",
       "    .dataframe thead th {\n",
       "        text-align: right;\n",
       "    }\n",
       "</style>\n",
       "<table border=\"1\" class=\"dataframe\">\n",
       "  <thead>\n",
       "    <tr style=\"text-align: right;\">\n",
       "      <th></th>\n",
       "      <th>id</th>\n",
       "      <th>brand</th>\n",
       "    </tr>\n",
       "  </thead>\n",
       "  <tbody>\n",
       "    <tr>\n",
       "      <th>3</th>\n",
       "      <td>2210012</td>\n",
       "      <td>FORD</td>\n",
       "    </tr>\n",
       "    <tr>\n",
       "      <th>4</th>\n",
       "      <td>2210016</td>\n",
       "      <td>TOYOTA</td>\n",
       "    </tr>\n",
       "  </tbody>\n",
       "</table>\n",
       "</div>"
      ],
      "text/plain": [
       "        id   brand\n",
       "3  2210012    FORD\n",
       "4  2210016  TOYOTA"
      ]
     },
     "execution_count": 11,
     "metadata": {
      "tags": []
     },
     "output_type": "execute_result"
    }
   ],
   "source": [
    "df.iloc[3:5, 0:2]"
   ]
  },
  {
   "cell_type": "code",
   "execution_count": 12,
   "metadata": {
    "colab": {
     "base_uri": "https://localhost:8080/",
     "height": 142
    },
    "id": "sgf1dURmSSay",
    "outputId": "04580c88-0b9d-465a-a093-19db6cc27fc0"
   },
   "outputs": [
    {
     "data": {
      "text/html": [
       "<div>\n",
       "<style scoped>\n",
       "    .dataframe tbody tr th:only-of-type {\n",
       "        vertical-align: middle;\n",
       "    }\n",
       "\n",
       "    .dataframe tbody tr th {\n",
       "        vertical-align: top;\n",
       "    }\n",
       "\n",
       "    .dataframe thead th {\n",
       "        text-align: right;\n",
       "    }\n",
       "</style>\n",
       "<table border=\"1\" class=\"dataframe\">\n",
       "  <thead>\n",
       "    <tr style=\"text-align: right;\">\n",
       "      <th></th>\n",
       "      <th>id</th>\n",
       "      <th>series</th>\n",
       "    </tr>\n",
       "  </thead>\n",
       "  <tbody>\n",
       "    <tr>\n",
       "      <th>1</th>\n",
       "      <td>2210001</td>\n",
       "      <td>ESTIMA</td>\n",
       "    </tr>\n",
       "    <tr>\n",
       "      <th>2</th>\n",
       "      <td>2210009</td>\n",
       "      <td>JAZZ</td>\n",
       "    </tr>\n",
       "    <tr>\n",
       "      <th>4</th>\n",
       "      <td>2210016</td>\n",
       "      <td>SOLUNA</td>\n",
       "    </tr>\n",
       "  </tbody>\n",
       "</table>\n",
       "</div>"
      ],
      "text/plain": [
       "        id  series\n",
       "1  2210001  ESTIMA\n",
       "2  2210009    JAZZ\n",
       "4  2210016  SOLUNA"
      ]
     },
     "execution_count": 12,
     "metadata": {
      "tags": []
     },
     "output_type": "execute_result"
    }
   ],
   "source": [
    "df.iloc[[1, 2, 4], [0, 2]]"
   ]
  },
  {
   "cell_type": "code",
   "execution_count": 13,
   "metadata": {
    "colab": {
     "base_uri": "https://localhost:8080/",
     "height": 233
    },
    "id": "MPOMJN3xSYOt",
    "outputId": "b1389577-db0e-4db3-8d82-7f1f02bed8bb"
   },
   "outputs": [
    {
     "data": {
      "text/html": [
       "<div>\n",
       "<style scoped>\n",
       "    .dataframe tbody tr th:only-of-type {\n",
       "        vertical-align: middle;\n",
       "    }\n",
       "\n",
       "    .dataframe tbody tr th {\n",
       "        vertical-align: top;\n",
       "    }\n",
       "\n",
       "    .dataframe thead th {\n",
       "        text-align: right;\n",
       "    }\n",
       "</style>\n",
       "<table border=\"1\" class=\"dataframe\">\n",
       "  <thead>\n",
       "    <tr style=\"text-align: right;\">\n",
       "      <th></th>\n",
       "      <th>id</th>\n",
       "      <th>brand</th>\n",
       "      <th>series</th>\n",
       "      <th>model</th>\n",
       "      <th>gen</th>\n",
       "      <th>year</th>\n",
       "      <th>color</th>\n",
       "      <th>gear</th>\n",
       "      <th>gas</th>\n",
       "      <th>sales_price</th>\n",
       "      <th>original_price</th>\n",
       "      <th>market_price</th>\n",
       "      <th>description</th>\n",
       "      <th>contact_location</th>\n",
       "      <th>subscribers</th>\n",
       "      <th>scraped_date</th>\n",
       "      <th>removed_date</th>\n",
       "    </tr>\n",
       "  </thead>\n",
       "  <tbody>\n",
       "    <tr>\n",
       "      <th>1</th>\n",
       "      <td>2210001</td>\n",
       "      <td>TOYOTA</td>\n",
       "      <td>ESTIMA</td>\n",
       "      <td>2.4 G HYBRID</td>\n",
       "      <td>ปี10-ปัจจุบัน</td>\n",
       "      <td>2013.0</td>\n",
       "      <td>สีขาว</td>\n",
       "      <td>เกียร์ออโต้</td>\n",
       "      <td>NaN</td>\n",
       "      <td>1,677,000</td>\n",
       "      <td>NaN</td>\n",
       "      <td>3,050,000</td>\n",
       "      <td>TOPสุด Estima Aeras Hybrid รถเข้าเซอร์วิส TOYO...</td>\n",
       "      <td>กรุงเทพฯ</td>\n",
       "      <td>182.0</td>\n",
       "      <td>2019-05-22</td>\n",
       "      <td>NaN</td>\n",
       "    </tr>\n",
       "    <tr>\n",
       "      <th>2</th>\n",
       "      <td>2210009</td>\n",
       "      <td>HONDA</td>\n",
       "      <td>JAZZ</td>\n",
       "      <td>1.5 i-VTEC V (AS)</td>\n",
       "      <td>ปี08-13</td>\n",
       "      <td>2008.0</td>\n",
       "      <td>สีน้ำเงิน</td>\n",
       "      <td>เกียร์ออโต้</td>\n",
       "      <td>NaN</td>\n",
       "      <td>338,000</td>\n",
       "      <td>NaN</td>\n",
       "      <td>NaN</td>\n",
       "      <td>เครดิดีออกรถ10,000จบครับ\\nรับประกันเครื่องเกีย...</td>\n",
       "      <td>กรุงเทพฯ</td>\n",
       "      <td>1047.0</td>\n",
       "      <td>2019-05-22</td>\n",
       "      <td>NaN</td>\n",
       "    </tr>\n",
       "  </tbody>\n",
       "</table>\n",
       "</div>"
      ],
      "text/plain": [
       "        id   brand  series  ... subscribers scraped_date  removed_date\n",
       "1  2210001  TOYOTA  ESTIMA  ...       182.0   2019-05-22           NaN\n",
       "2  2210009   HONDA    JAZZ  ...      1047.0   2019-05-22           NaN\n",
       "\n",
       "[2 rows x 17 columns]"
      ]
     },
     "execution_count": 13,
     "metadata": {
      "tags": []
     },
     "output_type": "execute_result"
    }
   ],
   "source": [
    "df.iloc[1:3, :]"
   ]
  },
  {
   "cell_type": "code",
   "execution_count": 14,
   "metadata": {
    "colab": {
     "base_uri": "https://localhost:8080/",
     "height": 419
    },
    "id": "7GKVoG6zSZrl",
    "outputId": "c9b339a1-bec4-4d0e-dc2e-08933a1a6952"
   },
   "outputs": [
    {
     "data": {
      "text/html": [
       "<div>\n",
       "<style scoped>\n",
       "    .dataframe tbody tr th:only-of-type {\n",
       "        vertical-align: middle;\n",
       "    }\n",
       "\n",
       "    .dataframe tbody tr th {\n",
       "        vertical-align: top;\n",
       "    }\n",
       "\n",
       "    .dataframe thead th {\n",
       "        text-align: right;\n",
       "    }\n",
       "</style>\n",
       "<table border=\"1\" class=\"dataframe\">\n",
       "  <thead>\n",
       "    <tr style=\"text-align: right;\">\n",
       "      <th></th>\n",
       "      <th>brand</th>\n",
       "      <th>series</th>\n",
       "    </tr>\n",
       "  </thead>\n",
       "  <tbody>\n",
       "    <tr>\n",
       "      <th>0</th>\n",
       "      <td>HONDA</td>\n",
       "      <td>JAZZ</td>\n",
       "    </tr>\n",
       "    <tr>\n",
       "      <th>1</th>\n",
       "      <td>TOYOTA</td>\n",
       "      <td>ESTIMA</td>\n",
       "    </tr>\n",
       "    <tr>\n",
       "      <th>2</th>\n",
       "      <td>HONDA</td>\n",
       "      <td>JAZZ</td>\n",
       "    </tr>\n",
       "    <tr>\n",
       "      <th>3</th>\n",
       "      <td>FORD</td>\n",
       "      <td>RANGER</td>\n",
       "    </tr>\n",
       "    <tr>\n",
       "      <th>4</th>\n",
       "      <td>TOYOTA</td>\n",
       "      <td>SOLUNA</td>\n",
       "    </tr>\n",
       "    <tr>\n",
       "      <th>...</th>\n",
       "      <td>...</td>\n",
       "      <td>...</td>\n",
       "    </tr>\n",
       "    <tr>\n",
       "      <th>14032</th>\n",
       "      <td>HONDA</td>\n",
       "      <td>CIVIC</td>\n",
       "    </tr>\n",
       "    <tr>\n",
       "      <th>14033</th>\n",
       "      <td>TOYOTA</td>\n",
       "      <td>CAMRY</td>\n",
       "    </tr>\n",
       "    <tr>\n",
       "      <th>14034</th>\n",
       "      <td>TOYOTA</td>\n",
       "      <td>CAMRY</td>\n",
       "    </tr>\n",
       "    <tr>\n",
       "      <th>14035</th>\n",
       "      <td>HONDA</td>\n",
       "      <td>JAZZ</td>\n",
       "    </tr>\n",
       "    <tr>\n",
       "      <th>14036</th>\n",
       "      <td>HONDA</td>\n",
       "      <td>CIVIC</td>\n",
       "    </tr>\n",
       "  </tbody>\n",
       "</table>\n",
       "<p>14037 rows × 2 columns</p>\n",
       "</div>"
      ],
      "text/plain": [
       "        brand  series\n",
       "0       HONDA    JAZZ\n",
       "1      TOYOTA  ESTIMA\n",
       "2       HONDA    JAZZ\n",
       "3        FORD  RANGER\n",
       "4      TOYOTA  SOLUNA\n",
       "...       ...     ...\n",
       "14032   HONDA   CIVIC\n",
       "14033  TOYOTA   CAMRY\n",
       "14034  TOYOTA   CAMRY\n",
       "14035   HONDA    JAZZ\n",
       "14036   HONDA   CIVIC\n",
       "\n",
       "[14037 rows x 2 columns]"
      ]
     },
     "execution_count": 14,
     "metadata": {
      "tags": []
     },
     "output_type": "execute_result"
    }
   ],
   "source": [
    "df.iloc[:, 1:3]"
   ]
  },
  {
   "cell_type": "code",
   "execution_count": 15,
   "metadata": {
    "colab": {
     "base_uri": "https://localhost:8080/",
     "height": 35
    },
    "id": "w6jFJnPqSdKO",
    "outputId": "e12768d8-815a-4fc2-f528-d7e618ca6d64"
   },
   "outputs": [
    {
     "data": {
      "application/vnd.google.colaboratory.intrinsic+json": {
       "type": "string"
      },
      "text/plain": [
       "'TOYOTA'"
      ]
     },
     "execution_count": 15,
     "metadata": {
      "tags": []
     },
     "output_type": "execute_result"
    }
   ],
   "source": [
    "df.iloc[1, 1]"
   ]
  },
  {
   "cell_type": "code",
   "execution_count": 16,
   "metadata": {
    "colab": {
     "base_uri": "https://localhost:8080/",
     "height": 35
    },
    "id": "sAtaIErxSeya",
    "outputId": "bc4b4882-311c-4ab7-eab3-28f88f7388bd"
   },
   "outputs": [
    {
     "data": {
      "application/vnd.google.colaboratory.intrinsic+json": {
       "type": "string"
      },
      "text/plain": [
       "'TOYOTA'"
      ]
     },
     "execution_count": 16,
     "metadata": {
      "tags": []
     },
     "output_type": "execute_result"
    }
   ],
   "source": [
    "df.iat[1, 1]"
   ]
  },
  {
   "cell_type": "markdown",
   "metadata": {
    "id": "LT_lCb9jSnCn"
   },
   "source": [
    "Label"
   ]
  },
  {
   "cell_type": "code",
   "execution_count": 17,
   "metadata": {
    "colab": {
     "base_uri": "https://localhost:8080/"
    },
    "id": "Ba3rx6omSghi",
    "outputId": "a82c8235-4486-4e26-8064-a8daf2636317"
   },
   "outputs": [
    {
     "data": {
      "text/plain": [
       "id                                                            2210000\n",
       "brand                                                           HONDA\n",
       "series                                                           JAZZ\n",
       "model                                              1.5 i-VTEC SV (AS)\n",
       "gen                                                           ปี08-13\n",
       "year                                                             2014\n",
       "color                                                           สีขาว\n",
       "gear                                                      เกียร์ออโต้\n",
       "gas                                                               NaN\n",
       "sales_price                                                   488,000\n",
       "original_price                                                    NaN\n",
       "market_price                                                      NaN\n",
       "description         เครดิตดีออกรถ10,000จบครับ\\nรับประกันเครื่องเกี...\n",
       "contact_location                                             กรุงเทพฯ\n",
       "subscribers                                                      1047\n",
       "scraped_date                                               2019-05-22\n",
       "removed_date                                                      NaN\n",
       "Name: 0, dtype: object"
      ]
     },
     "execution_count": 17,
     "metadata": {
      "tags": []
     },
     "output_type": "execute_result"
    }
   ],
   "source": [
    "df.loc[0]"
   ]
  },
  {
   "cell_type": "code",
   "execution_count": 18,
   "metadata": {
    "colab": {
     "base_uri": "https://localhost:8080/",
     "height": 35
    },
    "id": "dHGp55C2TBVr",
    "outputId": "e7266dd0-7444-4aa5-ed78-6fb40e6f5761"
   },
   "outputs": [
    {
     "data": {
      "application/vnd.google.colaboratory.intrinsic+json": {
       "type": "string"
      },
      "text/plain": [
       "'HONDA'"
      ]
     },
     "execution_count": 18,
     "metadata": {
      "tags": []
     },
     "output_type": "execute_result"
    }
   ],
   "source": [
    "df.loc[0, \"brand\"]"
   ]
  },
  {
   "cell_type": "code",
   "execution_count": 19,
   "metadata": {
    "colab": {
     "base_uri": "https://localhost:8080/"
    },
    "id": "a8wOFikOStZ9",
    "outputId": "6bf07f10-d1bc-4753-a9fe-fb98911af884"
   },
   "outputs": [
    {
     "data": {
      "text/plain": [
       "0     HONDA\n",
       "1    TOYOTA\n",
       "Name: brand, dtype: object"
      ]
     },
     "execution_count": 19,
     "metadata": {
      "tags": []
     },
     "output_type": "execute_result"
    }
   ],
   "source": [
    "df.loc[[0, 1], \"brand\"]"
   ]
  },
  {
   "cell_type": "code",
   "execution_count": 20,
   "metadata": {
    "colab": {
     "base_uri": "https://localhost:8080/"
    },
    "id": "wxBOJdKITHdq",
    "outputId": "4a0b0843-4955-4abc-a9b2-c2110b83a12e"
   },
   "outputs": [
    {
     "data": {
      "text/plain": [
       "0         HONDA\n",
       "5    VOLKSWAGEN\n",
       "Name: brand, dtype: object"
      ]
     },
     "execution_count": 20,
     "metadata": {
      "tags": []
     },
     "output_type": "execute_result"
    }
   ],
   "source": [
    "df.loc[[0, 5], \"brand\"]"
   ]
  },
  {
   "cell_type": "code",
   "execution_count": 21,
   "metadata": {
    "colab": {
     "base_uri": "https://localhost:8080/",
     "height": 111
    },
    "id": "MPdV_ZgtTIso",
    "outputId": "2217b374-2d14-44ff-fb05-df8e97b47505"
   },
   "outputs": [
    {
     "data": {
      "text/html": [
       "<div>\n",
       "<style scoped>\n",
       "    .dataframe tbody tr th:only-of-type {\n",
       "        vertical-align: middle;\n",
       "    }\n",
       "\n",
       "    .dataframe tbody tr th {\n",
       "        vertical-align: top;\n",
       "    }\n",
       "\n",
       "    .dataframe thead th {\n",
       "        text-align: right;\n",
       "    }\n",
       "</style>\n",
       "<table border=\"1\" class=\"dataframe\">\n",
       "  <thead>\n",
       "    <tr style=\"text-align: right;\">\n",
       "      <th></th>\n",
       "      <th>brand</th>\n",
       "      <th>series</th>\n",
       "    </tr>\n",
       "  </thead>\n",
       "  <tbody>\n",
       "    <tr>\n",
       "      <th>0</th>\n",
       "      <td>HONDA</td>\n",
       "      <td>JAZZ</td>\n",
       "    </tr>\n",
       "    <tr>\n",
       "      <th>1</th>\n",
       "      <td>TOYOTA</td>\n",
       "      <td>ESTIMA</td>\n",
       "    </tr>\n",
       "  </tbody>\n",
       "</table>\n",
       "</div>"
      ],
      "text/plain": [
       "    brand  series\n",
       "0   HONDA    JAZZ\n",
       "1  TOYOTA  ESTIMA"
      ]
     },
     "execution_count": 21,
     "metadata": {
      "tags": []
     },
     "output_type": "execute_result"
    }
   ],
   "source": [
    "df.loc[[0, 1], [\"brand\", \"series\"]]"
   ]
  },
  {
   "cell_type": "markdown",
   "metadata": {
    "id": "DgBl5PAMTNzV"
   },
   "source": [
    "## 5. Slicing"
   ]
  },
  {
   "cell_type": "code",
   "execution_count": 22,
   "metadata": {
    "colab": {
     "base_uri": "https://localhost:8080/",
     "height": 544
    },
    "id": "p0zdYk3NS1Yv",
    "outputId": "48daa8f5-18fc-40cf-b1f2-a01f1cf3887f"
   },
   "outputs": [
    {
     "data": {
      "text/html": [
       "<div>\n",
       "<style scoped>\n",
       "    .dataframe tbody tr th:only-of-type {\n",
       "        vertical-align: middle;\n",
       "    }\n",
       "\n",
       "    .dataframe tbody tr th {\n",
       "        vertical-align: top;\n",
       "    }\n",
       "\n",
       "    .dataframe thead th {\n",
       "        text-align: right;\n",
       "    }\n",
       "</style>\n",
       "<table border=\"1\" class=\"dataframe\">\n",
       "  <thead>\n",
       "    <tr style=\"text-align: right;\">\n",
       "      <th></th>\n",
       "      <th>id</th>\n",
       "      <th>brand</th>\n",
       "      <th>series</th>\n",
       "      <th>model</th>\n",
       "      <th>gen</th>\n",
       "      <th>year</th>\n",
       "      <th>color</th>\n",
       "      <th>gear</th>\n",
       "      <th>gas</th>\n",
       "      <th>sales_price</th>\n",
       "      <th>original_price</th>\n",
       "      <th>market_price</th>\n",
       "      <th>description</th>\n",
       "      <th>contact_location</th>\n",
       "      <th>subscribers</th>\n",
       "      <th>scraped_date</th>\n",
       "      <th>removed_date</th>\n",
       "    </tr>\n",
       "  </thead>\n",
       "  <tbody>\n",
       "    <tr>\n",
       "      <th>0</th>\n",
       "      <td>2210000</td>\n",
       "      <td>HONDA</td>\n",
       "      <td>JAZZ</td>\n",
       "      <td>1.5 i-VTEC SV (AS)</td>\n",
       "      <td>ปี08-13</td>\n",
       "      <td>2014.0</td>\n",
       "      <td>สีขาว</td>\n",
       "      <td>เกียร์ออโต้</td>\n",
       "      <td>NaN</td>\n",
       "      <td>488,000</td>\n",
       "      <td>NaN</td>\n",
       "      <td>NaN</td>\n",
       "      <td>เครดิตดีออกรถ10,000จบครับ\\nรับประกันเครื่องเกี...</td>\n",
       "      <td>กรุงเทพฯ</td>\n",
       "      <td>1047.0</td>\n",
       "      <td>2019-05-22</td>\n",
       "      <td>NaN</td>\n",
       "    </tr>\n",
       "    <tr>\n",
       "      <th>1</th>\n",
       "      <td>2210001</td>\n",
       "      <td>TOYOTA</td>\n",
       "      <td>ESTIMA</td>\n",
       "      <td>2.4 G HYBRID</td>\n",
       "      <td>ปี10-ปัจจุบัน</td>\n",
       "      <td>2013.0</td>\n",
       "      <td>สีขาว</td>\n",
       "      <td>เกียร์ออโต้</td>\n",
       "      <td>NaN</td>\n",
       "      <td>1,677,000</td>\n",
       "      <td>NaN</td>\n",
       "      <td>3,050,000</td>\n",
       "      <td>TOPสุด Estima Aeras Hybrid รถเข้าเซอร์วิส TOYO...</td>\n",
       "      <td>กรุงเทพฯ</td>\n",
       "      <td>182.0</td>\n",
       "      <td>2019-05-22</td>\n",
       "      <td>NaN</td>\n",
       "    </tr>\n",
       "    <tr>\n",
       "      <th>2</th>\n",
       "      <td>2210009</td>\n",
       "      <td>HONDA</td>\n",
       "      <td>JAZZ</td>\n",
       "      <td>1.5 i-VTEC V (AS)</td>\n",
       "      <td>ปี08-13</td>\n",
       "      <td>2008.0</td>\n",
       "      <td>สีน้ำเงิน</td>\n",
       "      <td>เกียร์ออโต้</td>\n",
       "      <td>NaN</td>\n",
       "      <td>338,000</td>\n",
       "      <td>NaN</td>\n",
       "      <td>NaN</td>\n",
       "      <td>เครดิดีออกรถ10,000จบครับ\\nรับประกันเครื่องเกีย...</td>\n",
       "      <td>กรุงเทพฯ</td>\n",
       "      <td>1047.0</td>\n",
       "      <td>2019-05-22</td>\n",
       "      <td>NaN</td>\n",
       "    </tr>\n",
       "    <tr>\n",
       "      <th>3</th>\n",
       "      <td>2210012</td>\n",
       "      <td>FORD</td>\n",
       "      <td>RANGER</td>\n",
       "      <td>2.2 WILDTRAK DBL CAB HI-RIDER</td>\n",
       "      <td>DOUBLECAB</td>\n",
       "      <td>2016.0</td>\n",
       "      <td>สีขาว</td>\n",
       "      <td>เกียร์ออโต้</td>\n",
       "      <td>NaN</td>\n",
       "      <td>689,000</td>\n",
       "      <td>NaN</td>\n",
       "      <td>849,000</td>\n",
       "      <td>รับรองสภาพ ไม่มีชน มือเดียว พาช่างมาตรวจสภาพรถ...</td>\n",
       "      <td>กรุงเทพฯ</td>\n",
       "      <td>760.0</td>\n",
       "      <td>2019-05-22</td>\n",
       "      <td>NaN</td>\n",
       "    </tr>\n",
       "    <tr>\n",
       "      <th>4</th>\n",
       "      <td>2210016</td>\n",
       "      <td>TOYOTA</td>\n",
       "      <td>SOLUNA</td>\n",
       "      <td>VIOS 1.5 E (ABS+AB)</td>\n",
       "      <td>VIOS ปี13-ปัจจุบัน</td>\n",
       "      <td>2015.0</td>\n",
       "      <td>สีบรอนซ์เงิน</td>\n",
       "      <td>เกียร์ออโต้</td>\n",
       "      <td>NaN</td>\n",
       "      <td>359,000</td>\n",
       "      <td>NaN</td>\n",
       "      <td>649,000</td>\n",
       "      <td>ไมล์แท้ 99,xxx TOYOTA SOLUNA VIOS 1.5E\\nTOYOTA...</td>\n",
       "      <td>กรุงเทพฯ</td>\n",
       "      <td>699.0</td>\n",
       "      <td>2019-05-22</td>\n",
       "      <td>NaN</td>\n",
       "    </tr>\n",
       "    <tr>\n",
       "      <th>5</th>\n",
       "      <td>2210017</td>\n",
       "      <td>VOLKSWAGEN</td>\n",
       "      <td>GOLF</td>\n",
       "      <td>2.0 GTI</td>\n",
       "      <td>ปี13-15</td>\n",
       "      <td>2013.0</td>\n",
       "      <td>สีขาว</td>\n",
       "      <td>เกียร์ออโต้</td>\n",
       "      <td>NaN</td>\n",
       "      <td>1,190,000</td>\n",
       "      <td>NaN</td>\n",
       "      <td>NaN</td>\n",
       "      <td>แต่งไปครึ่งล้าน !!!\\nVw golf gti mk6 2013(7xxx...</td>\n",
       "      <td>กรุงเทพฯ</td>\n",
       "      <td>57.0</td>\n",
       "      <td>2019-05-22</td>\n",
       "      <td>NaN</td>\n",
       "    </tr>\n",
       "  </tbody>\n",
       "</table>\n",
       "</div>"
      ],
      "text/plain": [
       "        id       brand  series  ... subscribers scraped_date  removed_date\n",
       "0  2210000       HONDA    JAZZ  ...      1047.0   2019-05-22           NaN\n",
       "1  2210001      TOYOTA  ESTIMA  ...       182.0   2019-05-22           NaN\n",
       "2  2210009       HONDA    JAZZ  ...      1047.0   2019-05-22           NaN\n",
       "3  2210012        FORD  RANGER  ...       760.0   2019-05-22           NaN\n",
       "4  2210016      TOYOTA  SOLUNA  ...       699.0   2019-05-22           NaN\n",
       "5  2210017  VOLKSWAGEN    GOLF  ...        57.0   2019-05-22           NaN\n",
       "\n",
       "[6 rows x 17 columns]"
      ]
     },
     "execution_count": 22,
     "metadata": {
      "tags": []
     },
     "output_type": "execute_result"
    }
   ],
   "source": [
    "df.loc[0:5]"
   ]
  },
  {
   "cell_type": "code",
   "execution_count": 23,
   "metadata": {
    "colab": {
     "base_uri": "https://localhost:8080/",
     "height": 235
    },
    "id": "fePQBfJnS4Kh",
    "outputId": "c141ea85-7642-41bf-867e-a59615d49457"
   },
   "outputs": [
    {
     "data": {
      "text/html": [
       "<div>\n",
       "<style scoped>\n",
       "    .dataframe tbody tr th:only-of-type {\n",
       "        vertical-align: middle;\n",
       "    }\n",
       "\n",
       "    .dataframe tbody tr th {\n",
       "        vertical-align: top;\n",
       "    }\n",
       "\n",
       "    .dataframe thead th {\n",
       "        text-align: right;\n",
       "    }\n",
       "</style>\n",
       "<table border=\"1\" class=\"dataframe\">\n",
       "  <thead>\n",
       "    <tr style=\"text-align: right;\">\n",
       "      <th></th>\n",
       "      <th>model</th>\n",
       "    </tr>\n",
       "  </thead>\n",
       "  <tbody>\n",
       "    <tr>\n",
       "      <th>0</th>\n",
       "      <td>1.5 i-VTEC SV (AS)</td>\n",
       "    </tr>\n",
       "    <tr>\n",
       "      <th>1</th>\n",
       "      <td>2.4 G HYBRID</td>\n",
       "    </tr>\n",
       "    <tr>\n",
       "      <th>2</th>\n",
       "      <td>1.5 i-VTEC V (AS)</td>\n",
       "    </tr>\n",
       "    <tr>\n",
       "      <th>3</th>\n",
       "      <td>2.2 WILDTRAK DBL CAB HI-RIDER</td>\n",
       "    </tr>\n",
       "    <tr>\n",
       "      <th>4</th>\n",
       "      <td>VIOS 1.5 E (ABS+AB)</td>\n",
       "    </tr>\n",
       "    <tr>\n",
       "      <th>5</th>\n",
       "      <td>2.0 GTI</td>\n",
       "    </tr>\n",
       "  </tbody>\n",
       "</table>\n",
       "</div>"
      ],
      "text/plain": [
       "                           model\n",
       "0             1.5 i-VTEC SV (AS)\n",
       "1                   2.4 G HYBRID\n",
       "2              1.5 i-VTEC V (AS)\n",
       "3  2.2 WILDTRAK DBL CAB HI-RIDER\n",
       "4            VIOS 1.5 E (ABS+AB)\n",
       "5                        2.0 GTI"
      ]
     },
     "execution_count": 23,
     "metadata": {
      "tags": []
     },
     "output_type": "execute_result"
    }
   ],
   "source": [
    "df.loc[0:5, ['model']]"
   ]
  },
  {
   "cell_type": "code",
   "execution_count": 24,
   "metadata": {
    "colab": {
     "base_uri": "https://localhost:8080/",
     "height": 235
    },
    "id": "IPi6AFeKTUiH",
    "outputId": "1b0b4218-fd47-44d7-a851-ab751ad10349"
   },
   "outputs": [
    {
     "data": {
      "text/html": [
       "<div>\n",
       "<style scoped>\n",
       "    .dataframe tbody tr th:only-of-type {\n",
       "        vertical-align: middle;\n",
       "    }\n",
       "\n",
       "    .dataframe tbody tr th {\n",
       "        vertical-align: top;\n",
       "    }\n",
       "\n",
       "    .dataframe thead th {\n",
       "        text-align: right;\n",
       "    }\n",
       "</style>\n",
       "<table border=\"1\" class=\"dataframe\">\n",
       "  <thead>\n",
       "    <tr style=\"text-align: right;\">\n",
       "      <th></th>\n",
       "      <th>brand</th>\n",
       "      <th>series</th>\n",
       "      <th>model</th>\n",
       "    </tr>\n",
       "  </thead>\n",
       "  <tbody>\n",
       "    <tr>\n",
       "      <th>0</th>\n",
       "      <td>HONDA</td>\n",
       "      <td>JAZZ</td>\n",
       "      <td>1.5 i-VTEC SV (AS)</td>\n",
       "    </tr>\n",
       "    <tr>\n",
       "      <th>1</th>\n",
       "      <td>TOYOTA</td>\n",
       "      <td>ESTIMA</td>\n",
       "      <td>2.4 G HYBRID</td>\n",
       "    </tr>\n",
       "    <tr>\n",
       "      <th>2</th>\n",
       "      <td>HONDA</td>\n",
       "      <td>JAZZ</td>\n",
       "      <td>1.5 i-VTEC V (AS)</td>\n",
       "    </tr>\n",
       "    <tr>\n",
       "      <th>3</th>\n",
       "      <td>FORD</td>\n",
       "      <td>RANGER</td>\n",
       "      <td>2.2 WILDTRAK DBL CAB HI-RIDER</td>\n",
       "    </tr>\n",
       "    <tr>\n",
       "      <th>4</th>\n",
       "      <td>TOYOTA</td>\n",
       "      <td>SOLUNA</td>\n",
       "      <td>VIOS 1.5 E (ABS+AB)</td>\n",
       "    </tr>\n",
       "    <tr>\n",
       "      <th>5</th>\n",
       "      <td>VOLKSWAGEN</td>\n",
       "      <td>GOLF</td>\n",
       "      <td>2.0 GTI</td>\n",
       "    </tr>\n",
       "  </tbody>\n",
       "</table>\n",
       "</div>"
      ],
      "text/plain": [
       "        brand  series                          model\n",
       "0       HONDA    JAZZ             1.5 i-VTEC SV (AS)\n",
       "1      TOYOTA  ESTIMA                   2.4 G HYBRID\n",
       "2       HONDA    JAZZ              1.5 i-VTEC V (AS)\n",
       "3        FORD  RANGER  2.2 WILDTRAK DBL CAB HI-RIDER\n",
       "4      TOYOTA  SOLUNA            VIOS 1.5 E (ABS+AB)\n",
       "5  VOLKSWAGEN    GOLF                        2.0 GTI"
      ]
     },
     "execution_count": 24,
     "metadata": {
      "tags": []
     },
     "output_type": "execute_result"
    }
   ],
   "source": [
    "df.loc[0:5, 'brand':'model']"
   ]
  },
  {
   "cell_type": "code",
   "execution_count": 63,
   "metadata": {
    "colab": {
     "base_uri": "https://localhost:8080/",
     "height": 307
    },
    "id": "4Bs3Z2R8TYkm",
    "outputId": "e7d4bc65-42ac-453c-ebd2-441323f36d38"
   },
   "outputs": [
    {
     "ename": "TypeError",
     "evalue": "ignored",
     "output_type": "error",
     "traceback": [
      "\u001b[0;31m---------------------------------------------------------------------------\u001b[0m",
      "\u001b[0;31mTypeError\u001b[0m                                 Traceback (most recent call last)",
      "\u001b[0;32m<ipython-input-63-c62a21ce0e29>\u001b[0m in \u001b[0;36m<module>\u001b[0;34m()\u001b[0m\n\u001b[0;32m----> 1\u001b[0;31m \u001b[0mdf\u001b[0m\u001b[0;34m.\u001b[0m\u001b[0miloc\u001b[0m\u001b[0;34m[\u001b[0m\u001b[0;36m0\u001b[0m\u001b[0;34m:\u001b[0m\u001b[0;36m5\u001b[0m\u001b[0;34m,\u001b[0m \u001b[0;34m'brand'\u001b[0m\u001b[0;34m:\u001b[0m\u001b[0;34m'model'\u001b[0m\u001b[0;34m]\u001b[0m\u001b[0;34m.\u001b[0m\u001b[0mstr\u001b[0m\u001b[0;34m.\u001b[0m\u001b[0mreplace\u001b[0m\u001b[0;34m(\u001b[0m\u001b[0;34m','\u001b[0m\u001b[0;34m,\u001b[0m \u001b[0;34m''\u001b[0m\u001b[0;34m)\u001b[0m\u001b[0;34m\u001b[0m\u001b[0;34m\u001b[0m\u001b[0m\n\u001b[0m",
      "\u001b[0;32m/usr/local/lib/python3.7/dist-packages/pandas/core/indexing.py\u001b[0m in \u001b[0;36m__getitem__\u001b[0;34m(self, key)\u001b[0m\n\u001b[1;32m    871\u001b[0m                     \u001b[0;31m# AttributeError for IntervalTree get_value\u001b[0m\u001b[0;34m\u001b[0m\u001b[0;34m\u001b[0m\u001b[0;34m\u001b[0m\u001b[0m\n\u001b[1;32m    872\u001b[0m                     \u001b[0;32mpass\u001b[0m\u001b[0;34m\u001b[0m\u001b[0;34m\u001b[0m\u001b[0m\n\u001b[0;32m--> 873\u001b[0;31m             \u001b[0;32mreturn\u001b[0m \u001b[0mself\u001b[0m\u001b[0;34m.\u001b[0m\u001b[0m_getitem_tuple\u001b[0m\u001b[0;34m(\u001b[0m\u001b[0mkey\u001b[0m\u001b[0;34m)\u001b[0m\u001b[0;34m\u001b[0m\u001b[0;34m\u001b[0m\u001b[0m\n\u001b[0m\u001b[1;32m    874\u001b[0m         \u001b[0;32melse\u001b[0m\u001b[0;34m:\u001b[0m\u001b[0;34m\u001b[0m\u001b[0;34m\u001b[0m\u001b[0m\n\u001b[1;32m    875\u001b[0m             \u001b[0;31m# we by definition only have the 0th axis\u001b[0m\u001b[0;34m\u001b[0m\u001b[0;34m\u001b[0m\u001b[0;34m\u001b[0m\u001b[0m\n",
      "\u001b[0;32m/usr/local/lib/python3.7/dist-packages/pandas/core/indexing.py\u001b[0m in \u001b[0;36m_getitem_tuple\u001b[0;34m(self, tup)\u001b[0m\n\u001b[1;32m   1447\u001b[0m             \u001b[0;32mpass\u001b[0m\u001b[0;34m\u001b[0m\u001b[0;34m\u001b[0m\u001b[0m\n\u001b[1;32m   1448\u001b[0m \u001b[0;34m\u001b[0m\u001b[0m\n\u001b[0;32m-> 1449\u001b[0;31m         \u001b[0;32mreturn\u001b[0m \u001b[0mself\u001b[0m\u001b[0;34m.\u001b[0m\u001b[0m_getitem_tuple_same_dim\u001b[0m\u001b[0;34m(\u001b[0m\u001b[0mtup\u001b[0m\u001b[0;34m)\u001b[0m\u001b[0;34m\u001b[0m\u001b[0;34m\u001b[0m\u001b[0m\n\u001b[0m\u001b[1;32m   1450\u001b[0m \u001b[0;34m\u001b[0m\u001b[0m\n\u001b[1;32m   1451\u001b[0m     \u001b[0;32mdef\u001b[0m \u001b[0m_get_list_axis\u001b[0m\u001b[0;34m(\u001b[0m\u001b[0mself\u001b[0m\u001b[0;34m,\u001b[0m \u001b[0mkey\u001b[0m\u001b[0;34m,\u001b[0m \u001b[0maxis\u001b[0m\u001b[0;34m:\u001b[0m \u001b[0mint\u001b[0m\u001b[0;34m)\u001b[0m\u001b[0;34m:\u001b[0m\u001b[0;34m\u001b[0m\u001b[0;34m\u001b[0m\u001b[0m\n",
      "\u001b[0;32m/usr/local/lib/python3.7/dist-packages/pandas/core/indexing.py\u001b[0m in \u001b[0;36m_getitem_tuple_same_dim\u001b[0;34m(self, tup)\u001b[0m\n\u001b[1;32m    748\u001b[0m                 \u001b[0;32mcontinue\u001b[0m\u001b[0;34m\u001b[0m\u001b[0;34m\u001b[0m\u001b[0m\n\u001b[1;32m    749\u001b[0m \u001b[0;34m\u001b[0m\u001b[0m\n\u001b[0;32m--> 750\u001b[0;31m             \u001b[0mretval\u001b[0m \u001b[0;34m=\u001b[0m \u001b[0mgetattr\u001b[0m\u001b[0;34m(\u001b[0m\u001b[0mretval\u001b[0m\u001b[0;34m,\u001b[0m \u001b[0mself\u001b[0m\u001b[0;34m.\u001b[0m\u001b[0mname\u001b[0m\u001b[0;34m)\u001b[0m\u001b[0;34m.\u001b[0m\u001b[0m_getitem_axis\u001b[0m\u001b[0;34m(\u001b[0m\u001b[0mkey\u001b[0m\u001b[0;34m,\u001b[0m \u001b[0maxis\u001b[0m\u001b[0;34m=\u001b[0m\u001b[0mi\u001b[0m\u001b[0;34m)\u001b[0m\u001b[0;34m\u001b[0m\u001b[0;34m\u001b[0m\u001b[0m\n\u001b[0m\u001b[1;32m    751\u001b[0m             \u001b[0;31m# We should never have retval.ndim < self.ndim, as that should\u001b[0m\u001b[0;34m\u001b[0m\u001b[0;34m\u001b[0m\u001b[0;34m\u001b[0m\u001b[0m\n\u001b[1;32m    752\u001b[0m             \u001b[0;31m#  be handled by the _getitem_lowerdim call above.\u001b[0m\u001b[0;34m\u001b[0m\u001b[0;34m\u001b[0m\u001b[0;34m\u001b[0m\u001b[0m\n",
      "\u001b[0;32m/usr/local/lib/python3.7/dist-packages/pandas/core/indexing.py\u001b[0m in \u001b[0;36m_getitem_axis\u001b[0;34m(self, key, axis)\u001b[0m\n\u001b[1;32m   1474\u001b[0m     \u001b[0;32mdef\u001b[0m \u001b[0m_getitem_axis\u001b[0m\u001b[0;34m(\u001b[0m\u001b[0mself\u001b[0m\u001b[0;34m,\u001b[0m \u001b[0mkey\u001b[0m\u001b[0;34m,\u001b[0m \u001b[0maxis\u001b[0m\u001b[0;34m:\u001b[0m \u001b[0mint\u001b[0m\u001b[0;34m)\u001b[0m\u001b[0;34m:\u001b[0m\u001b[0;34m\u001b[0m\u001b[0;34m\u001b[0m\u001b[0m\n\u001b[1;32m   1475\u001b[0m         \u001b[0;32mif\u001b[0m \u001b[0misinstance\u001b[0m\u001b[0;34m(\u001b[0m\u001b[0mkey\u001b[0m\u001b[0;34m,\u001b[0m \u001b[0mslice\u001b[0m\u001b[0;34m)\u001b[0m\u001b[0;34m:\u001b[0m\u001b[0;34m\u001b[0m\u001b[0;34m\u001b[0m\u001b[0m\n\u001b[0;32m-> 1476\u001b[0;31m             \u001b[0;32mreturn\u001b[0m \u001b[0mself\u001b[0m\u001b[0;34m.\u001b[0m\u001b[0m_get_slice_axis\u001b[0m\u001b[0;34m(\u001b[0m\u001b[0mkey\u001b[0m\u001b[0;34m,\u001b[0m \u001b[0maxis\u001b[0m\u001b[0;34m=\u001b[0m\u001b[0maxis\u001b[0m\u001b[0;34m)\u001b[0m\u001b[0;34m\u001b[0m\u001b[0;34m\u001b[0m\u001b[0m\n\u001b[0m\u001b[1;32m   1477\u001b[0m \u001b[0;34m\u001b[0m\u001b[0m\n\u001b[1;32m   1478\u001b[0m         \u001b[0;32mif\u001b[0m \u001b[0misinstance\u001b[0m\u001b[0;34m(\u001b[0m\u001b[0mkey\u001b[0m\u001b[0;34m,\u001b[0m \u001b[0mlist\u001b[0m\u001b[0;34m)\u001b[0m\u001b[0;34m:\u001b[0m\u001b[0;34m\u001b[0m\u001b[0;34m\u001b[0m\u001b[0m\n",
      "\u001b[0;32m/usr/local/lib/python3.7/dist-packages/pandas/core/indexing.py\u001b[0m in \u001b[0;36m_get_slice_axis\u001b[0;34m(self, slice_obj, axis)\u001b[0m\n\u001b[1;32m   1506\u001b[0m \u001b[0;34m\u001b[0m\u001b[0m\n\u001b[1;32m   1507\u001b[0m         \u001b[0mlabels\u001b[0m \u001b[0;34m=\u001b[0m \u001b[0mobj\u001b[0m\u001b[0;34m.\u001b[0m\u001b[0m_get_axis\u001b[0m\u001b[0;34m(\u001b[0m\u001b[0maxis\u001b[0m\u001b[0;34m)\u001b[0m\u001b[0;34m\u001b[0m\u001b[0;34m\u001b[0m\u001b[0m\n\u001b[0;32m-> 1508\u001b[0;31m         \u001b[0mlabels\u001b[0m\u001b[0;34m.\u001b[0m\u001b[0m_validate_positional_slice\u001b[0m\u001b[0;34m(\u001b[0m\u001b[0mslice_obj\u001b[0m\u001b[0;34m)\u001b[0m\u001b[0;34m\u001b[0m\u001b[0;34m\u001b[0m\u001b[0m\n\u001b[0m\u001b[1;32m   1509\u001b[0m         \u001b[0;32mreturn\u001b[0m \u001b[0mself\u001b[0m\u001b[0;34m.\u001b[0m\u001b[0mobj\u001b[0m\u001b[0;34m.\u001b[0m\u001b[0m_slice\u001b[0m\u001b[0;34m(\u001b[0m\u001b[0mslice_obj\u001b[0m\u001b[0;34m,\u001b[0m \u001b[0maxis\u001b[0m\u001b[0;34m=\u001b[0m\u001b[0maxis\u001b[0m\u001b[0;34m)\u001b[0m\u001b[0;34m\u001b[0m\u001b[0;34m\u001b[0m\u001b[0m\n\u001b[1;32m   1510\u001b[0m \u001b[0;34m\u001b[0m\u001b[0m\n",
      "\u001b[0;32m/usr/local/lib/python3.7/dist-packages/pandas/core/indexes/base.py\u001b[0m in \u001b[0;36m_validate_positional_slice\u001b[0;34m(self, key)\u001b[0m\n\u001b[1;32m   3121\u001b[0m         \u001b[0;32mfor\u001b[0m \u001b[0meach\u001b[0m \u001b[0mof\u001b[0m \u001b[0mstart\u001b[0m\u001b[0;34m,\u001b[0m \u001b[0mstop\u001b[0m\u001b[0;34m,\u001b[0m \u001b[0;32mand\u001b[0m \u001b[0mstep\u001b[0m\u001b[0;34m.\u001b[0m\u001b[0;34m\u001b[0m\u001b[0;34m\u001b[0m\u001b[0m\n\u001b[1;32m   3122\u001b[0m         \"\"\"\n\u001b[0;32m-> 3123\u001b[0;31m         \u001b[0mself\u001b[0m\u001b[0;34m.\u001b[0m\u001b[0m_validate_indexer\u001b[0m\u001b[0;34m(\u001b[0m\u001b[0;34m\"positional\"\u001b[0m\u001b[0;34m,\u001b[0m \u001b[0mkey\u001b[0m\u001b[0;34m.\u001b[0m\u001b[0mstart\u001b[0m\u001b[0;34m,\u001b[0m \u001b[0;34m\"iloc\"\u001b[0m\u001b[0;34m)\u001b[0m\u001b[0;34m\u001b[0m\u001b[0;34m\u001b[0m\u001b[0m\n\u001b[0m\u001b[1;32m   3124\u001b[0m         \u001b[0mself\u001b[0m\u001b[0;34m.\u001b[0m\u001b[0m_validate_indexer\u001b[0m\u001b[0;34m(\u001b[0m\u001b[0;34m\"positional\"\u001b[0m\u001b[0;34m,\u001b[0m \u001b[0mkey\u001b[0m\u001b[0;34m.\u001b[0m\u001b[0mstop\u001b[0m\u001b[0;34m,\u001b[0m \u001b[0;34m\"iloc\"\u001b[0m\u001b[0;34m)\u001b[0m\u001b[0;34m\u001b[0m\u001b[0;34m\u001b[0m\u001b[0m\n\u001b[1;32m   3125\u001b[0m         \u001b[0mself\u001b[0m\u001b[0;34m.\u001b[0m\u001b[0m_validate_indexer\u001b[0m\u001b[0;34m(\u001b[0m\u001b[0;34m\"positional\"\u001b[0m\u001b[0;34m,\u001b[0m \u001b[0mkey\u001b[0m\u001b[0;34m.\u001b[0m\u001b[0mstep\u001b[0m\u001b[0;34m,\u001b[0m \u001b[0;34m\"iloc\"\u001b[0m\u001b[0;34m)\u001b[0m\u001b[0;34m\u001b[0m\u001b[0;34m\u001b[0m\u001b[0m\n",
      "\u001b[0;32m/usr/local/lib/python3.7/dist-packages/pandas/core/indexes/base.py\u001b[0m in \u001b[0;36m_validate_indexer\u001b[0;34m(self, form, key, kind)\u001b[0m\n\u001b[1;32m   4998\u001b[0m             \u001b[0;32mpass\u001b[0m\u001b[0;34m\u001b[0m\u001b[0;34m\u001b[0m\u001b[0m\n\u001b[1;32m   4999\u001b[0m         \u001b[0;32melse\u001b[0m\u001b[0;34m:\u001b[0m\u001b[0;34m\u001b[0m\u001b[0;34m\u001b[0m\u001b[0m\n\u001b[0;32m-> 5000\u001b[0;31m             \u001b[0mself\u001b[0m\u001b[0;34m.\u001b[0m\u001b[0m_invalid_indexer\u001b[0m\u001b[0;34m(\u001b[0m\u001b[0mform\u001b[0m\u001b[0;34m,\u001b[0m \u001b[0mkey\u001b[0m\u001b[0;34m)\u001b[0m\u001b[0;34m\u001b[0m\u001b[0;34m\u001b[0m\u001b[0m\n\u001b[0m\u001b[1;32m   5001\u001b[0m \u001b[0;34m\u001b[0m\u001b[0m\n\u001b[1;32m   5002\u001b[0m     \u001b[0;32mdef\u001b[0m \u001b[0m_maybe_cast_slice_bound\u001b[0m\u001b[0;34m(\u001b[0m\u001b[0mself\u001b[0m\u001b[0;34m,\u001b[0m \u001b[0mlabel\u001b[0m\u001b[0;34m,\u001b[0m \u001b[0mside\u001b[0m\u001b[0;34m:\u001b[0m \u001b[0mstr_t\u001b[0m\u001b[0;34m,\u001b[0m \u001b[0mkind\u001b[0m\u001b[0;34m)\u001b[0m\u001b[0;34m:\u001b[0m\u001b[0;34m\u001b[0m\u001b[0;34m\u001b[0m\u001b[0m\n",
      "\u001b[0;32m/usr/local/lib/python3.7/dist-packages/pandas/core/indexes/base.py\u001b[0m in \u001b[0;36m_invalid_indexer\u001b[0;34m(self, form, key)\u001b[0m\n\u001b[1;32m   3269\u001b[0m         \"\"\"\n\u001b[1;32m   3270\u001b[0m         raise TypeError(\n\u001b[0;32m-> 3271\u001b[0;31m             \u001b[0;34mf\"cannot do {form} indexing on {type(self).__name__} with these \"\u001b[0m\u001b[0;34m\u001b[0m\u001b[0;34m\u001b[0m\u001b[0m\n\u001b[0m\u001b[1;32m   3272\u001b[0m             \u001b[0;34mf\"indexers [{key}] of type {type(key).__name__}\"\u001b[0m\u001b[0;34m\u001b[0m\u001b[0;34m\u001b[0m\u001b[0m\n\u001b[1;32m   3273\u001b[0m         )\n",
      "\u001b[0;31mTypeError\u001b[0m: cannot do positional indexing on Index with these indexers [brand] of type str"
     ]
    }
   ],
   "source": [
    "df.iloc[0:5, 'brand':'model']"
   ]
  },
  {
   "cell_type": "code",
   "execution_count": 26,
   "metadata": {
    "colab": {
     "base_uri": "https://localhost:8080/",
     "height": 204
    },
    "id": "KpPZUjsuTbZ8",
    "outputId": "4bc65eaa-b041-4655-db16-eb6f16b5a453"
   },
   "outputs": [
    {
     "data": {
      "text/html": [
       "<div>\n",
       "<style scoped>\n",
       "    .dataframe tbody tr th:only-of-type {\n",
       "        vertical-align: middle;\n",
       "    }\n",
       "\n",
       "    .dataframe tbody tr th {\n",
       "        vertical-align: top;\n",
       "    }\n",
       "\n",
       "    .dataframe thead th {\n",
       "        text-align: right;\n",
       "    }\n",
       "</style>\n",
       "<table border=\"1\" class=\"dataframe\">\n",
       "  <thead>\n",
       "    <tr style=\"text-align: right;\">\n",
       "      <th></th>\n",
       "      <th>brand</th>\n",
       "      <th>series</th>\n",
       "      <th>model</th>\n",
       "    </tr>\n",
       "  </thead>\n",
       "  <tbody>\n",
       "    <tr>\n",
       "      <th>0</th>\n",
       "      <td>HONDA</td>\n",
       "      <td>JAZZ</td>\n",
       "      <td>1.5 i-VTEC SV (AS)</td>\n",
       "    </tr>\n",
       "    <tr>\n",
       "      <th>1</th>\n",
       "      <td>TOYOTA</td>\n",
       "      <td>ESTIMA</td>\n",
       "      <td>2.4 G HYBRID</td>\n",
       "    </tr>\n",
       "    <tr>\n",
       "      <th>2</th>\n",
       "      <td>HONDA</td>\n",
       "      <td>JAZZ</td>\n",
       "      <td>1.5 i-VTEC V (AS)</td>\n",
       "    </tr>\n",
       "    <tr>\n",
       "      <th>3</th>\n",
       "      <td>FORD</td>\n",
       "      <td>RANGER</td>\n",
       "      <td>2.2 WILDTRAK DBL CAB HI-RIDER</td>\n",
       "    </tr>\n",
       "    <tr>\n",
       "      <th>4</th>\n",
       "      <td>TOYOTA</td>\n",
       "      <td>SOLUNA</td>\n",
       "      <td>VIOS 1.5 E (ABS+AB)</td>\n",
       "    </tr>\n",
       "  </tbody>\n",
       "</table>\n",
       "</div>"
      ],
      "text/plain": [
       "    brand  series                          model\n",
       "0   HONDA    JAZZ             1.5 i-VTEC SV (AS)\n",
       "1  TOYOTA  ESTIMA                   2.4 G HYBRID\n",
       "2   HONDA    JAZZ              1.5 i-VTEC V (AS)\n",
       "3    FORD  RANGER  2.2 WILDTRAK DBL CAB HI-RIDER\n",
       "4  TOYOTA  SOLUNA            VIOS 1.5 E (ABS+AB)"
      ]
     },
     "execution_count": 26,
     "metadata": {
      "tags": []
     },
     "output_type": "execute_result"
    }
   ],
   "source": [
    "df.iloc[0:5, 1:4]"
   ]
  },
  {
   "cell_type": "markdown",
   "metadata": {
    "id": "geSkM8MiqlN1"
   },
   "source": [
    "## 6. Aggregation"
   ]
  },
  {
   "cell_type": "code",
   "execution_count": 67,
   "metadata": {
    "colab": {
     "base_uri": "https://localhost:8080/",
     "height": 204
    },
    "id": "yW2yOFiXqkjZ",
    "outputId": "869595e9-093e-44a7-fc23-202e67e76f60"
   },
   "outputs": [
    {
     "data": {
      "text/html": [
       "<div>\n",
       "<style scoped>\n",
       "    .dataframe tbody tr th:only-of-type {\n",
       "        vertical-align: middle;\n",
       "    }\n",
       "\n",
       "    .dataframe tbody tr th {\n",
       "        vertical-align: top;\n",
       "    }\n",
       "\n",
       "    .dataframe thead th {\n",
       "        text-align: right;\n",
       "    }\n",
       "</style>\n",
       "<table border=\"1\" class=\"dataframe\">\n",
       "  <thead>\n",
       "    <tr style=\"text-align: right;\">\n",
       "      <th></th>\n",
       "      <th>sales_price</th>\n",
       "      <th>brand</th>\n",
       "      <th>market_price</th>\n",
       "    </tr>\n",
       "  </thead>\n",
       "  <tbody>\n",
       "    <tr>\n",
       "      <th>11574</th>\n",
       "      <td>579,000</td>\n",
       "      <td>ISUZU</td>\n",
       "      <td>NaN</td>\n",
       "    </tr>\n",
       "    <tr>\n",
       "      <th>5254</th>\n",
       "      <td>559,000</td>\n",
       "      <td>ISUZU</td>\n",
       "      <td>NaN</td>\n",
       "    </tr>\n",
       "    <tr>\n",
       "      <th>11230</th>\n",
       "      <td>169,000</td>\n",
       "      <td>TOYOTA</td>\n",
       "      <td>NaN</td>\n",
       "    </tr>\n",
       "    <tr>\n",
       "      <th>12925</th>\n",
       "      <td>319,000</td>\n",
       "      <td>TOYOTA</td>\n",
       "      <td>589,000</td>\n",
       "    </tr>\n",
       "    <tr>\n",
       "      <th>290</th>\n",
       "      <td>698,000</td>\n",
       "      <td>HONDA</td>\n",
       "      <td>1,445,000</td>\n",
       "    </tr>\n",
       "  </tbody>\n",
       "</table>\n",
       "</div>"
      ],
      "text/plain": [
       "      sales_price   brand market_price\n",
       "11574     579,000   ISUZU          NaN\n",
       "5254      559,000   ISUZU          NaN\n",
       "11230     169,000  TOYOTA          NaN\n",
       "12925     319,000  TOYOTA      589,000\n",
       "290       698,000   HONDA    1,445,000"
      ]
     },
     "execution_count": 67,
     "metadata": {
      "tags": []
     },
     "output_type": "execute_result"
    }
   ],
   "source": [
    "df2 = df[['sales_price', 'brand', 'market_price']]\n",
    "df2.sample(n=5)"
   ]
  },
  {
   "cell_type": "code",
   "execution_count": 68,
   "metadata": {
    "colab": {
     "base_uri": "https://localhost:8080/"
    },
    "id": "IdPr0tE5rRff",
    "outputId": "75b0f478-76e8-4f69-8fb6-e9f7eb856899"
   },
   "outputs": [
    {
     "data": {
      "text/plain": [
       "sales_price     object\n",
       "brand           object\n",
       "market_price    object\n",
       "dtype: object"
      ]
     },
     "execution_count": 68,
     "metadata": {
      "tags": []
     },
     "output_type": "execute_result"
    }
   ],
   "source": [
    "df2.dtypes"
   ]
  },
  {
   "cell_type": "code",
   "execution_count": 69,
   "metadata": {
    "colab": {
     "base_uri": "https://localhost:8080/",
     "height": 341
    },
    "id": "0sBtM0fQrPYD",
    "outputId": "566d3195-819d-4725-d053-372746766f54"
   },
   "outputs": [
    {
     "ename": "ValueError",
     "evalue": "ignored",
     "output_type": "error",
     "traceback": [
      "\u001b[0;31m---------------------------------------------------------------------------\u001b[0m",
      "\u001b[0;31mValueError\u001b[0m                                Traceback (most recent call last)",
      "\u001b[0;32m<ipython-input-69-72c53238a145>\u001b[0m in \u001b[0;36m<module>\u001b[0;34m()\u001b[0m\n\u001b[0;32m----> 1\u001b[0;31m \u001b[0mdf2\u001b[0m\u001b[0;34m[\u001b[0m\u001b[0;34m'sales_price'\u001b[0m\u001b[0;34m]\u001b[0m\u001b[0;34m.\u001b[0m\u001b[0mastype\u001b[0m\u001b[0;34m(\u001b[0m\u001b[0mint\u001b[0m\u001b[0;34m)\u001b[0m\u001b[0;34m\u001b[0m\u001b[0;34m\u001b[0m\u001b[0m\n\u001b[0m",
      "\u001b[0;32m/usr/local/lib/python3.7/dist-packages/pandas/core/generic.py\u001b[0m in \u001b[0;36mastype\u001b[0;34m(self, dtype, copy, errors)\u001b[0m\n\u001b[1;32m   5546\u001b[0m         \u001b[0;32melse\u001b[0m\u001b[0;34m:\u001b[0m\u001b[0;34m\u001b[0m\u001b[0;34m\u001b[0m\u001b[0m\n\u001b[1;32m   5547\u001b[0m             \u001b[0;31m# else, only a single dtype is given\u001b[0m\u001b[0;34m\u001b[0m\u001b[0;34m\u001b[0m\u001b[0;34m\u001b[0m\u001b[0m\n\u001b[0;32m-> 5548\u001b[0;31m             \u001b[0mnew_data\u001b[0m \u001b[0;34m=\u001b[0m \u001b[0mself\u001b[0m\u001b[0;34m.\u001b[0m\u001b[0m_mgr\u001b[0m\u001b[0;34m.\u001b[0m\u001b[0mastype\u001b[0m\u001b[0;34m(\u001b[0m\u001b[0mdtype\u001b[0m\u001b[0;34m=\u001b[0m\u001b[0mdtype\u001b[0m\u001b[0;34m,\u001b[0m \u001b[0mcopy\u001b[0m\u001b[0;34m=\u001b[0m\u001b[0mcopy\u001b[0m\u001b[0;34m,\u001b[0m \u001b[0merrors\u001b[0m\u001b[0;34m=\u001b[0m\u001b[0merrors\u001b[0m\u001b[0;34m,\u001b[0m\u001b[0;34m)\u001b[0m\u001b[0;34m\u001b[0m\u001b[0;34m\u001b[0m\u001b[0m\n\u001b[0m\u001b[1;32m   5549\u001b[0m             \u001b[0;32mreturn\u001b[0m \u001b[0mself\u001b[0m\u001b[0;34m.\u001b[0m\u001b[0m_constructor\u001b[0m\u001b[0;34m(\u001b[0m\u001b[0mnew_data\u001b[0m\u001b[0;34m)\u001b[0m\u001b[0;34m.\u001b[0m\u001b[0m__finalize__\u001b[0m\u001b[0;34m(\u001b[0m\u001b[0mself\u001b[0m\u001b[0;34m,\u001b[0m \u001b[0mmethod\u001b[0m\u001b[0;34m=\u001b[0m\u001b[0;34m\"astype\"\u001b[0m\u001b[0;34m)\u001b[0m\u001b[0;34m\u001b[0m\u001b[0;34m\u001b[0m\u001b[0m\n\u001b[1;32m   5550\u001b[0m \u001b[0;34m\u001b[0m\u001b[0m\n",
      "\u001b[0;32m/usr/local/lib/python3.7/dist-packages/pandas/core/internals/managers.py\u001b[0m in \u001b[0;36mastype\u001b[0;34m(self, dtype, copy, errors)\u001b[0m\n\u001b[1;32m    602\u001b[0m         \u001b[0mself\u001b[0m\u001b[0;34m,\u001b[0m \u001b[0mdtype\u001b[0m\u001b[0;34m,\u001b[0m \u001b[0mcopy\u001b[0m\u001b[0;34m:\u001b[0m \u001b[0mbool\u001b[0m \u001b[0;34m=\u001b[0m \u001b[0;32mFalse\u001b[0m\u001b[0;34m,\u001b[0m \u001b[0merrors\u001b[0m\u001b[0;34m:\u001b[0m \u001b[0mstr\u001b[0m \u001b[0;34m=\u001b[0m \u001b[0;34m\"raise\"\u001b[0m\u001b[0;34m\u001b[0m\u001b[0;34m\u001b[0m\u001b[0m\n\u001b[1;32m    603\u001b[0m     ) -> \"BlockManager\":\n\u001b[0;32m--> 604\u001b[0;31m         \u001b[0;32mreturn\u001b[0m \u001b[0mself\u001b[0m\u001b[0;34m.\u001b[0m\u001b[0mapply\u001b[0m\u001b[0;34m(\u001b[0m\u001b[0;34m\"astype\"\u001b[0m\u001b[0;34m,\u001b[0m \u001b[0mdtype\u001b[0m\u001b[0;34m=\u001b[0m\u001b[0mdtype\u001b[0m\u001b[0;34m,\u001b[0m \u001b[0mcopy\u001b[0m\u001b[0;34m=\u001b[0m\u001b[0mcopy\u001b[0m\u001b[0;34m,\u001b[0m \u001b[0merrors\u001b[0m\u001b[0;34m=\u001b[0m\u001b[0merrors\u001b[0m\u001b[0;34m)\u001b[0m\u001b[0;34m\u001b[0m\u001b[0;34m\u001b[0m\u001b[0m\n\u001b[0m\u001b[1;32m    605\u001b[0m \u001b[0;34m\u001b[0m\u001b[0m\n\u001b[1;32m    606\u001b[0m     def convert(\n",
      "\u001b[0;32m/usr/local/lib/python3.7/dist-packages/pandas/core/internals/managers.py\u001b[0m in \u001b[0;36mapply\u001b[0;34m(self, f, align_keys, **kwargs)\u001b[0m\n\u001b[1;32m    407\u001b[0m                 \u001b[0mapplied\u001b[0m \u001b[0;34m=\u001b[0m \u001b[0mb\u001b[0m\u001b[0;34m.\u001b[0m\u001b[0mapply\u001b[0m\u001b[0;34m(\u001b[0m\u001b[0mf\u001b[0m\u001b[0;34m,\u001b[0m \u001b[0;34m**\u001b[0m\u001b[0mkwargs\u001b[0m\u001b[0;34m)\u001b[0m\u001b[0;34m\u001b[0m\u001b[0;34m\u001b[0m\u001b[0m\n\u001b[1;32m    408\u001b[0m             \u001b[0;32melse\u001b[0m\u001b[0;34m:\u001b[0m\u001b[0;34m\u001b[0m\u001b[0;34m\u001b[0m\u001b[0m\n\u001b[0;32m--> 409\u001b[0;31m                 \u001b[0mapplied\u001b[0m \u001b[0;34m=\u001b[0m \u001b[0mgetattr\u001b[0m\u001b[0;34m(\u001b[0m\u001b[0mb\u001b[0m\u001b[0;34m,\u001b[0m \u001b[0mf\u001b[0m\u001b[0;34m)\u001b[0m\u001b[0;34m(\u001b[0m\u001b[0;34m**\u001b[0m\u001b[0mkwargs\u001b[0m\u001b[0;34m)\u001b[0m\u001b[0;34m\u001b[0m\u001b[0;34m\u001b[0m\u001b[0m\n\u001b[0m\u001b[1;32m    410\u001b[0m             \u001b[0mresult_blocks\u001b[0m \u001b[0;34m=\u001b[0m \u001b[0m_extend_blocks\u001b[0m\u001b[0;34m(\u001b[0m\u001b[0mapplied\u001b[0m\u001b[0;34m,\u001b[0m \u001b[0mresult_blocks\u001b[0m\u001b[0;34m)\u001b[0m\u001b[0;34m\u001b[0m\u001b[0;34m\u001b[0m\u001b[0m\n\u001b[1;32m    411\u001b[0m \u001b[0;34m\u001b[0m\u001b[0m\n",
      "\u001b[0;32m/usr/local/lib/python3.7/dist-packages/pandas/core/internals/blocks.py\u001b[0m in \u001b[0;36mastype\u001b[0;34m(self, dtype, copy, errors)\u001b[0m\n\u001b[1;32m    593\u001b[0m             \u001b[0mvals1d\u001b[0m \u001b[0;34m=\u001b[0m \u001b[0mvalues\u001b[0m\u001b[0;34m.\u001b[0m\u001b[0mravel\u001b[0m\u001b[0;34m(\u001b[0m\u001b[0;34m)\u001b[0m\u001b[0;34m\u001b[0m\u001b[0;34m\u001b[0m\u001b[0m\n\u001b[1;32m    594\u001b[0m             \u001b[0;32mtry\u001b[0m\u001b[0;34m:\u001b[0m\u001b[0;34m\u001b[0m\u001b[0;34m\u001b[0m\u001b[0m\n\u001b[0;32m--> 595\u001b[0;31m                 \u001b[0mvalues\u001b[0m \u001b[0;34m=\u001b[0m \u001b[0mastype_nansafe\u001b[0m\u001b[0;34m(\u001b[0m\u001b[0mvals1d\u001b[0m\u001b[0;34m,\u001b[0m \u001b[0mdtype\u001b[0m\u001b[0;34m,\u001b[0m \u001b[0mcopy\u001b[0m\u001b[0;34m=\u001b[0m\u001b[0;32mTrue\u001b[0m\u001b[0;34m)\u001b[0m\u001b[0;34m\u001b[0m\u001b[0;34m\u001b[0m\u001b[0m\n\u001b[0m\u001b[1;32m    596\u001b[0m             \u001b[0;32mexcept\u001b[0m \u001b[0;34m(\u001b[0m\u001b[0mValueError\u001b[0m\u001b[0;34m,\u001b[0m \u001b[0mTypeError\u001b[0m\u001b[0;34m)\u001b[0m\u001b[0;34m:\u001b[0m\u001b[0;34m\u001b[0m\u001b[0;34m\u001b[0m\u001b[0m\n\u001b[1;32m    597\u001b[0m                 \u001b[0;31m# e.g. astype_nansafe can fail on object-dtype of strings\u001b[0m\u001b[0;34m\u001b[0m\u001b[0;34m\u001b[0m\u001b[0;34m\u001b[0m\u001b[0m\n",
      "\u001b[0;32m/usr/local/lib/python3.7/dist-packages/pandas/core/dtypes/cast.py\u001b[0m in \u001b[0;36mastype_nansafe\u001b[0;34m(arr, dtype, copy, skipna)\u001b[0m\n\u001b[1;32m    972\u001b[0m         \u001b[0;31m# work around NumPy brokenness, #1987\u001b[0m\u001b[0;34m\u001b[0m\u001b[0;34m\u001b[0m\u001b[0;34m\u001b[0m\u001b[0m\n\u001b[1;32m    973\u001b[0m         \u001b[0;32mif\u001b[0m \u001b[0mnp\u001b[0m\u001b[0;34m.\u001b[0m\u001b[0missubdtype\u001b[0m\u001b[0;34m(\u001b[0m\u001b[0mdtype\u001b[0m\u001b[0;34m.\u001b[0m\u001b[0mtype\u001b[0m\u001b[0;34m,\u001b[0m \u001b[0mnp\u001b[0m\u001b[0;34m.\u001b[0m\u001b[0minteger\u001b[0m\u001b[0;34m)\u001b[0m\u001b[0;34m:\u001b[0m\u001b[0;34m\u001b[0m\u001b[0;34m\u001b[0m\u001b[0m\n\u001b[0;32m--> 974\u001b[0;31m             \u001b[0;32mreturn\u001b[0m \u001b[0mlib\u001b[0m\u001b[0;34m.\u001b[0m\u001b[0mastype_intsafe\u001b[0m\u001b[0;34m(\u001b[0m\u001b[0marr\u001b[0m\u001b[0;34m.\u001b[0m\u001b[0mravel\u001b[0m\u001b[0;34m(\u001b[0m\u001b[0;34m)\u001b[0m\u001b[0;34m,\u001b[0m \u001b[0mdtype\u001b[0m\u001b[0;34m)\u001b[0m\u001b[0;34m.\u001b[0m\u001b[0mreshape\u001b[0m\u001b[0;34m(\u001b[0m\u001b[0marr\u001b[0m\u001b[0;34m.\u001b[0m\u001b[0mshape\u001b[0m\u001b[0;34m)\u001b[0m\u001b[0;34m\u001b[0m\u001b[0;34m\u001b[0m\u001b[0m\n\u001b[0m\u001b[1;32m    975\u001b[0m \u001b[0;34m\u001b[0m\u001b[0m\n\u001b[1;32m    976\u001b[0m         \u001b[0;31m# if we have a datetime/timedelta array of objects\u001b[0m\u001b[0;34m\u001b[0m\u001b[0;34m\u001b[0m\u001b[0;34m\u001b[0m\u001b[0m\n",
      "\u001b[0;32mpandas/_libs/lib.pyx\u001b[0m in \u001b[0;36mpandas._libs.lib.astype_intsafe\u001b[0;34m()\u001b[0m\n",
      "\u001b[0;31mValueError\u001b[0m: invalid literal for int() with base 10: '488,000'"
     ]
    }
   ],
   "source": [
    "df2['sales_price'].astype(int)"
   ]
  },
  {
   "cell_type": "code",
   "execution_count": 70,
   "metadata": {
    "colab": {
     "base_uri": "https://localhost:8080/",
     "height": 476
    },
    "id": "OjzdAtuZqufC",
    "outputId": "695a2134-50dc-4716-c0c2-891e10257062"
   },
   "outputs": [
    {
     "name": "stdout",
     "output_type": "stream",
     "text": [
      "sales_price      int64\n",
      "brand           object\n",
      "market_price    object\n",
      "dtype: object\n"
     ]
    },
    {
     "name": "stderr",
     "output_type": "stream",
     "text": [
      "/usr/local/lib/python3.7/dist-packages/ipykernel_launcher.py:1: SettingWithCopyWarning: \n",
      "A value is trying to be set on a copy of a slice from a DataFrame.\n",
      "Try using .loc[row_indexer,col_indexer] = value instead\n",
      "\n",
      "See the caveats in the documentation: https://pandas.pydata.org/pandas-docs/stable/user_guide/indexing.html#returning-a-view-versus-a-copy\n",
      "  \"\"\"Entry point for launching an IPython kernel.\n",
      "/usr/local/lib/python3.7/dist-packages/ipykernel_launcher.py:2: SettingWithCopyWarning: \n",
      "A value is trying to be set on a copy of a slice from a DataFrame.\n",
      "Try using .loc[row_indexer,col_indexer] = value instead\n",
      "\n",
      "See the caveats in the documentation: https://pandas.pydata.org/pandas-docs/stable/user_guide/indexing.html#returning-a-view-versus-a-copy\n",
      "  \n"
     ]
    },
    {
     "data": {
      "text/html": [
       "<div>\n",
       "<style scoped>\n",
       "    .dataframe tbody tr th:only-of-type {\n",
       "        vertical-align: middle;\n",
       "    }\n",
       "\n",
       "    .dataframe tbody tr th {\n",
       "        vertical-align: top;\n",
       "    }\n",
       "\n",
       "    .dataframe thead th {\n",
       "        text-align: right;\n",
       "    }\n",
       "</style>\n",
       "<table border=\"1\" class=\"dataframe\">\n",
       "  <thead>\n",
       "    <tr style=\"text-align: right;\">\n",
       "      <th></th>\n",
       "      <th>sales_price</th>\n",
       "      <th>brand</th>\n",
       "      <th>market_price</th>\n",
       "    </tr>\n",
       "  </thead>\n",
       "  <tbody>\n",
       "    <tr>\n",
       "      <th>0</th>\n",
       "      <td>488000</td>\n",
       "      <td>HONDA</td>\n",
       "      <td>NaN</td>\n",
       "    </tr>\n",
       "    <tr>\n",
       "      <th>1</th>\n",
       "      <td>1677000</td>\n",
       "      <td>TOYOTA</td>\n",
       "      <td>3,050,000</td>\n",
       "    </tr>\n",
       "    <tr>\n",
       "      <th>2</th>\n",
       "      <td>338000</td>\n",
       "      <td>HONDA</td>\n",
       "      <td>NaN</td>\n",
       "    </tr>\n",
       "    <tr>\n",
       "      <th>3</th>\n",
       "      <td>689000</td>\n",
       "      <td>FORD</td>\n",
       "      <td>849,000</td>\n",
       "    </tr>\n",
       "    <tr>\n",
       "      <th>4</th>\n",
       "      <td>359000</td>\n",
       "      <td>TOYOTA</td>\n",
       "      <td>649,000</td>\n",
       "    </tr>\n",
       "  </tbody>\n",
       "</table>\n",
       "</div>"
      ],
      "text/plain": [
       "   sales_price   brand market_price\n",
       "0       488000   HONDA          NaN\n",
       "1      1677000  TOYOTA    3,050,000\n",
       "2       338000   HONDA          NaN\n",
       "3       689000    FORD      849,000\n",
       "4       359000  TOYOTA      649,000"
      ]
     },
     "execution_count": 70,
     "metadata": {
      "tags": []
     },
     "output_type": "execute_result"
    }
   ],
   "source": [
    "df2['sales_price'] = df2['sales_price'].str.replace(',', '')\n",
    "df2['sales_price'] = df2['sales_price'].astype(int)\n",
    "print(df2.dtypes)\n",
    "df2.head()"
   ]
  },
  {
   "cell_type": "code",
   "execution_count": 71,
   "metadata": {
    "colab": {
     "base_uri": "https://localhost:8080/"
    },
    "id": "6rnip_rCruxb",
    "outputId": "194ae196-06c0-4421-a0ae-7e99e66ec8ff"
   },
   "outputs": [
    {
     "name": "stdout",
     "output_type": "stream",
     "text": [
      "Lowest sales price: 20000\n",
      "Highest sales price: 55000000\n",
      "Average sales price: 606793.1894279404\n",
      "Median sales price: 413000.0\n"
     ]
    }
   ],
   "source": [
    "print(f\"Lowest sales price: {df2['sales_price'].min()}\")\n",
    "print(f\"Highest sales price: {df2['sales_price'].max()}\")\n",
    "print(f\"Average sales price: {df2['sales_price'].mean()}\")\n",
    "print(f\"Median sales price: {df2['sales_price'].median()}\")"
   ]
  },
  {
   "cell_type": "code",
   "execution_count": 72,
   "metadata": {
    "colab": {
     "base_uri": "https://localhost:8080/"
    },
    "id": "wmd7QR7lsD2c",
    "outputId": "55a52aba-1812-40e5-f514-7699b641a87a"
   },
   "outputs": [
    {
     "data": {
      "text/plain": [
       "count    1.403700e+04\n",
       "mean     6.067932e+05\n",
       "std      8.720579e+05\n",
       "min      2.000000e+04\n",
       "25%      2.790000e+05\n",
       "50%      4.130000e+05\n",
       "75%      6.480000e+05\n",
       "max      5.500000e+07\n",
       "Name: sales_price, dtype: float64"
      ]
     },
     "execution_count": 72,
     "metadata": {
      "tags": []
     },
     "output_type": "execute_result"
    }
   ],
   "source": [
    "df2['sales_price'].describe()"
   ]
  },
  {
   "cell_type": "code",
   "execution_count": 73,
   "metadata": {
    "colab": {
     "base_uri": "https://localhost:8080/"
    },
    "id": "AMr00ECltpve",
    "outputId": "46e921cc-567e-4ecf-bffc-0438720f7ace"
   },
   "outputs": [
    {
     "data": {
      "text/plain": [
       "0         HONDA\n",
       "1        TOYOTA\n",
       "2         HONDA\n",
       "3          FORD\n",
       "4        TOYOTA\n",
       "          ...  \n",
       "14032     HONDA\n",
       "14033    TOYOTA\n",
       "14034    TOYOTA\n",
       "14035     HONDA\n",
       "14036     HONDA\n",
       "Name: brand, Length: 14037, dtype: object"
      ]
     },
     "execution_count": 73,
     "metadata": {
      "tags": []
     },
     "output_type": "execute_result"
    }
   ],
   "source": [
    "df2['brand']"
   ]
  },
  {
   "cell_type": "code",
   "execution_count": 74,
   "metadata": {
    "colab": {
     "base_uri": "https://localhost:8080/"
    },
    "id": "szEsxIdsttLE",
    "outputId": "ab841c8c-4495-41f9-8ad7-93ba9cd7c6a9"
   },
   "outputs": [
    {
     "data": {
      "text/plain": [
       "array(['HONDA', 'TOYOTA', 'FORD', 'VOLKSWAGEN', 'CHEVROLET', 'VOLVO',\n",
       "       'AUDI', 'ISUZU', 'NISSAN', 'BMW', 'BENZ', 'SUZUKI', 'LEXUS',\n",
       "       'PORSCHE', 'SUBARU', 'MITSUBISHI', 'MAZDA', 'MG', 'SAAB',\n",
       "       'LANDROVER', 'PEUGEOT', 'JAGUAR', 'MINI', 'HYUNDAI', 'THAI RUNG',\n",
       "       'PROTON', 'KIA', 'HINO', 'TATA', 'FIAT', 'JEEP', 'SEAT',\n",
       "       'LAMBORGHINI', 'SKODA', 'ROVER', 'SSANGYONG', 'MASERATI',\n",
       "       'DAIHATSU', 'CITROEN', 'DFSK', 'FERRARI', 'ASTON MARTIN',\n",
       "       'BENTLEY', 'ALFA ROMEO', 'LOTUS', 'FOTON', 'HUMMER', 'CHERY',\n",
       "       'MITSUOKA'], dtype=object)"
      ]
     },
     "execution_count": 74,
     "metadata": {
      "tags": []
     },
     "output_type": "execute_result"
    }
   ],
   "source": [
    "df2['brand'].unique()"
   ]
  },
  {
   "cell_type": "code",
   "execution_count": 75,
   "metadata": {
    "colab": {
     "base_uri": "https://localhost:8080/"
    },
    "id": "mTao5DAytxT7",
    "outputId": "4f41ae85-b3c9-42f9-dd0b-dd0a08b346fd"
   },
   "outputs": [
    {
     "data": {
      "text/plain": [
       "49"
      ]
     },
     "execution_count": 75,
     "metadata": {
      "tags": []
     },
     "output_type": "execute_result"
    }
   ],
   "source": [
    "df2['brand'].nunique()"
   ]
  },
  {
   "cell_type": "code",
   "execution_count": 76,
   "metadata": {
    "colab": {
     "base_uri": "https://localhost:8080/"
    },
    "id": "795nNHizt1AG",
    "outputId": "260b839e-82fe-47a5-e8ee-a719087110d1"
   },
   "outputs": [
    {
     "data": {
      "text/plain": [
       "TOYOTA    4227\n",
       "HONDA     2252\n",
       "NISSAN    1055\n",
       "ISUZU     1050\n",
       "BENZ      1036\n",
       "Name: brand, dtype: int64"
      ]
     },
     "execution_count": 76,
     "metadata": {
      "tags": []
     },
     "output_type": "execute_result"
    }
   ],
   "source": [
    "df2['brand'].value_counts().head()"
   ]
  },
  {
   "cell_type": "code",
   "execution_count": 77,
   "metadata": {
    "colab": {
     "base_uri": "https://localhost:8080/"
    },
    "id": "XexzFVvUt9ij",
    "outputId": "8c6a1e88-fe23-4936-84a7-61e0966d8be5"
   },
   "outputs": [
    {
     "data": {
      "text/plain": [
       "brand\n",
       "ALFA ROMEO        455000\n",
       "ASTON MARTIN     6900000\n",
       "AUDI             8390000\n",
       "BENTLEY         13800000\n",
       "BENZ            12800000\n",
       "Name: sales_price, dtype: int64"
      ]
     },
     "execution_count": 77,
     "metadata": {
      "tags": []
     },
     "output_type": "execute_result"
    }
   ],
   "source": [
    "df2.groupby(['brand'])['sales_price'].max().head()"
   ]
  },
  {
   "cell_type": "code",
   "execution_count": 78,
   "metadata": {
    "colab": {
     "base_uri": "https://localhost:8080/"
    },
    "id": "0x3e6TZ6uHKM",
    "outputId": "dfdb0402-0535-4e42-eaec-7927dad42c0f"
   },
   "outputs": [
    {
     "data": {
      "text/plain": [
       "brand\n",
       "ALFA ROMEO       256000\n",
       "ASTON MARTIN    6900000\n",
       "AUDI              88000\n",
       "BENTLEY         5800000\n",
       "BENZ              28000\n",
       "Name: sales_price, dtype: int64"
      ]
     },
     "execution_count": 78,
     "metadata": {
      "tags": []
     },
     "output_type": "execute_result"
    }
   ],
   "source": [
    "df2.groupby(['brand'])['sales_price'].min().head()"
   ]
  },
  {
   "cell_type": "code",
   "execution_count": 79,
   "metadata": {
    "colab": {
     "base_uri": "https://localhost:8080/"
    },
    "id": "AfUjPRXhuI0o",
    "outputId": "998a9264-53bc-4b1a-828f-e2fead705e18"
   },
   "outputs": [
    {
     "data": {
      "text/plain": [
       "brand\n",
       "ALFA ROMEO      3.555000e+05\n",
       "ASTON MARTIN    6.900000e+06\n",
       "AUDI            1.594739e+06\n",
       "BENTLEY         9.100000e+06\n",
       "BENZ            1.295657e+06\n",
       "Name: sales_price, dtype: float64"
      ]
     },
     "execution_count": 79,
     "metadata": {
      "tags": []
     },
     "output_type": "execute_result"
    }
   ],
   "source": [
    "df2.groupby(['brand'])['sales_price'].mean().head()"
   ]
  },
  {
   "cell_type": "code",
   "execution_count": 80,
   "metadata": {
    "colab": {
     "base_uri": "https://localhost:8080/"
    },
    "id": "g4q541eDYBk-",
    "outputId": "5a69363e-2f65-4cb3-9735-9ad9ca87868b"
   },
   "outputs": [
    {
     "name": "stdout",
     "output_type": "stream",
     "text": [
      "<class 'pandas.core.series.Series'>\n",
      "(49,)\n"
     ]
    },
    {
     "data": {
      "text/plain": [
       "brand\n",
       "ALFA ROMEO        455000\n",
       "ASTON MARTIN     6900000\n",
       "AUDI             8390000\n",
       "BENTLEY         13800000\n",
       "BENZ            12800000\n",
       "Name: sales_price, dtype: int64"
      ]
     },
     "execution_count": 80,
     "metadata": {
      "tags": []
     },
     "output_type": "execute_result"
    }
   ],
   "source": [
    "price_max = df2.groupby(['brand'])['sales_price'].max()\n",
    "print(type(price_max))\n",
    "print(price_max.shape)\n",
    "price_max.head()"
   ]
  },
  {
   "cell_type": "code",
   "execution_count": 81,
   "metadata": {
    "colab": {
     "base_uri": "https://localhost:8080/",
     "height": 238
    },
    "id": "zHNj4knkYLWE",
    "outputId": "714056de-093d-411f-bf53-dcf8148a94be"
   },
   "outputs": [
    {
     "name": "stdout",
     "output_type": "stream",
     "text": [
      "<class 'pandas.core.frame.DataFrame'>\n",
      "(49, 2)\n"
     ]
    },
    {
     "data": {
      "text/html": [
       "<div>\n",
       "<style scoped>\n",
       "    .dataframe tbody tr th:only-of-type {\n",
       "        vertical-align: middle;\n",
       "    }\n",
       "\n",
       "    .dataframe tbody tr th {\n",
       "        vertical-align: top;\n",
       "    }\n",
       "\n",
       "    .dataframe thead th {\n",
       "        text-align: right;\n",
       "    }\n",
       "</style>\n",
       "<table border=\"1\" class=\"dataframe\">\n",
       "  <thead>\n",
       "    <tr style=\"text-align: right;\">\n",
       "      <th></th>\n",
       "      <th>brand</th>\n",
       "      <th>sales_price</th>\n",
       "    </tr>\n",
       "  </thead>\n",
       "  <tbody>\n",
       "    <tr>\n",
       "      <th>0</th>\n",
       "      <td>ALFA ROMEO</td>\n",
       "      <td>455000</td>\n",
       "    </tr>\n",
       "    <tr>\n",
       "      <th>1</th>\n",
       "      <td>ASTON MARTIN</td>\n",
       "      <td>6900000</td>\n",
       "    </tr>\n",
       "    <tr>\n",
       "      <th>2</th>\n",
       "      <td>AUDI</td>\n",
       "      <td>8390000</td>\n",
       "    </tr>\n",
       "    <tr>\n",
       "      <th>3</th>\n",
       "      <td>BENTLEY</td>\n",
       "      <td>13800000</td>\n",
       "    </tr>\n",
       "    <tr>\n",
       "      <th>4</th>\n",
       "      <td>BENZ</td>\n",
       "      <td>12800000</td>\n",
       "    </tr>\n",
       "  </tbody>\n",
       "</table>\n",
       "</div>"
      ],
      "text/plain": [
       "          brand  sales_price\n",
       "0    ALFA ROMEO       455000\n",
       "1  ASTON MARTIN      6900000\n",
       "2          AUDI      8390000\n",
       "3       BENTLEY     13800000\n",
       "4          BENZ     12800000"
      ]
     },
     "execution_count": 81,
     "metadata": {
      "tags": []
     },
     "output_type": "execute_result"
    }
   ],
   "source": [
    "price_max = price_max.reset_index()\n",
    "print(type(price_max))\n",
    "print(price_max.shape)\n",
    "price_max.head()"
   ]
  },
  {
   "cell_type": "code",
   "execution_count": 82,
   "metadata": {
    "colab": {
     "base_uri": "https://localhost:8080/",
     "height": 204
    },
    "id": "GU1kuFB2Ypd7",
    "outputId": "419bf730-385a-4e7c-cff8-fd6feb329c99"
   },
   "outputs": [
    {
     "data": {
      "text/html": [
       "<div>\n",
       "<style scoped>\n",
       "    .dataframe tbody tr th:only-of-type {\n",
       "        vertical-align: middle;\n",
       "    }\n",
       "\n",
       "    .dataframe tbody tr th {\n",
       "        vertical-align: top;\n",
       "    }\n",
       "\n",
       "    .dataframe thead th {\n",
       "        text-align: right;\n",
       "    }\n",
       "</style>\n",
       "<table border=\"1\" class=\"dataframe\">\n",
       "  <thead>\n",
       "    <tr style=\"text-align: right;\">\n",
       "      <th></th>\n",
       "      <th>brand</th>\n",
       "      <th>sales_price</th>\n",
       "    </tr>\n",
       "  </thead>\n",
       "  <tbody>\n",
       "    <tr>\n",
       "      <th>40</th>\n",
       "      <td>SKODA</td>\n",
       "      <td>89000</td>\n",
       "    </tr>\n",
       "    <tr>\n",
       "      <th>10</th>\n",
       "      <td>DFSK</td>\n",
       "      <td>89000</td>\n",
       "    </tr>\n",
       "    <tr>\n",
       "      <th>39</th>\n",
       "      <td>SEAT</td>\n",
       "      <td>135000</td>\n",
       "    </tr>\n",
       "    <tr>\n",
       "      <th>6</th>\n",
       "      <td>CHERY</td>\n",
       "      <td>139000</td>\n",
       "    </tr>\n",
       "    <tr>\n",
       "      <th>38</th>\n",
       "      <td>SAAB</td>\n",
       "      <td>245000</td>\n",
       "    </tr>\n",
       "  </tbody>\n",
       "</table>\n",
       "</div>"
      ],
      "text/plain": [
       "    brand  sales_price\n",
       "40  SKODA        89000\n",
       "10   DFSK        89000\n",
       "39   SEAT       135000\n",
       "6   CHERY       139000\n",
       "38   SAAB       245000"
      ]
     },
     "execution_count": 82,
     "metadata": {
      "tags": []
     },
     "output_type": "execute_result"
    }
   ],
   "source": [
    "price_max.sort_values(['sales_price']).head()"
   ]
  },
  {
   "cell_type": "code",
   "execution_count": 83,
   "metadata": {
    "colab": {
     "base_uri": "https://localhost:8080/",
     "height": 204
    },
    "id": "rJxBs75-Y5-q",
    "outputId": "c2b7dafe-ec21-4e74-90b0-069ffccc109d"
   },
   "outputs": [
    {
     "data": {
      "text/html": [
       "<div>\n",
       "<style scoped>\n",
       "    .dataframe tbody tr th:only-of-type {\n",
       "        vertical-align: middle;\n",
       "    }\n",
       "\n",
       "    .dataframe tbody tr th {\n",
       "        vertical-align: top;\n",
       "    }\n",
       "\n",
       "    .dataframe thead th {\n",
       "        text-align: right;\n",
       "    }\n",
       "</style>\n",
       "<table border=\"1\" class=\"dataframe\">\n",
       "  <thead>\n",
       "    <tr style=\"text-align: right;\">\n",
       "      <th></th>\n",
       "      <th>brand</th>\n",
       "      <th>sales_price</th>\n",
       "    </tr>\n",
       "  </thead>\n",
       "  <tbody>\n",
       "    <tr>\n",
       "      <th>35</th>\n",
       "      <td>PORSCHE</td>\n",
       "      <td>55000000</td>\n",
       "    </tr>\n",
       "    <tr>\n",
       "      <th>11</th>\n",
       "      <td>FERRARI</td>\n",
       "      <td>22000000</td>\n",
       "    </tr>\n",
       "    <tr>\n",
       "      <th>3</th>\n",
       "      <td>BENTLEY</td>\n",
       "      <td>13800000</td>\n",
       "    </tr>\n",
       "    <tr>\n",
       "      <th>4</th>\n",
       "      <td>BENZ</td>\n",
       "      <td>12800000</td>\n",
       "    </tr>\n",
       "    <tr>\n",
       "      <th>46</th>\n",
       "      <td>TOYOTA</td>\n",
       "      <td>11900000</td>\n",
       "    </tr>\n",
       "  </tbody>\n",
       "</table>\n",
       "</div>"
      ],
      "text/plain": [
       "      brand  sales_price\n",
       "35  PORSCHE     55000000\n",
       "11  FERRARI     22000000\n",
       "3   BENTLEY     13800000\n",
       "4      BENZ     12800000\n",
       "46   TOYOTA     11900000"
      ]
     },
     "execution_count": 83,
     "metadata": {
      "tags": []
     },
     "output_type": "execute_result"
    }
   ],
   "source": [
    "price_max.sort_values(['sales_price'], ascending=False).head()"
   ]
  },
  {
   "cell_type": "code",
   "execution_count": 86,
   "metadata": {
    "colab": {
     "base_uri": "https://localhost:8080/"
    },
    "id": "Jv8iM7KEZJPC",
    "outputId": "e2767498-14e8-4c7a-d456-96ca0d3cb719"
   },
   "outputs": [
    {
     "name": "stdout",
     "output_type": "stream",
     "text": [
      "<class 'pandas.core.frame.DataFrame'>\n",
      "RangeIndex: 14037 entries, 0 to 14036\n",
      "Data columns (total 3 columns):\n",
      " #   Column        Non-Null Count  Dtype \n",
      "---  ------        --------------  ----- \n",
      " 0   sales_price   14037 non-null  int64 \n",
      " 1   brand         14037 non-null  object\n",
      " 2   market_price  6153 non-null   object\n",
      "dtypes: int64(1), object(2)\n",
      "memory usage: 329.1+ KB\n"
     ]
    }
   ],
   "source": [
    "df2.info()"
   ]
  },
  {
   "cell_type": "code",
   "execution_count": 102,
   "metadata": {
    "colab": {
     "base_uri": "https://localhost:8080/",
     "height": 419
    },
    "id": "Zc76ziGfaTka",
    "outputId": "8e5988e8-dbe8-4bfd-c28d-9c793fa57973"
   },
   "outputs": [
    {
     "data": {
      "text/html": [
       "<div>\n",
       "<style scoped>\n",
       "    .dataframe tbody tr th:only-of-type {\n",
       "        vertical-align: middle;\n",
       "    }\n",
       "\n",
       "    .dataframe tbody tr th {\n",
       "        vertical-align: top;\n",
       "    }\n",
       "\n",
       "    .dataframe thead th {\n",
       "        text-align: right;\n",
       "    }\n",
       "</style>\n",
       "<table border=\"1\" class=\"dataframe\">\n",
       "  <thead>\n",
       "    <tr style=\"text-align: right;\">\n",
       "      <th></th>\n",
       "      <th>sales_price</th>\n",
       "      <th>market_price</th>\n",
       "    </tr>\n",
       "  </thead>\n",
       "  <tbody>\n",
       "    <tr>\n",
       "      <th>1</th>\n",
       "      <td>1677000</td>\n",
       "      <td>3,050,000</td>\n",
       "    </tr>\n",
       "    <tr>\n",
       "      <th>3</th>\n",
       "      <td>689000</td>\n",
       "      <td>849,000</td>\n",
       "    </tr>\n",
       "    <tr>\n",
       "      <th>4</th>\n",
       "      <td>359000</td>\n",
       "      <td>649,000</td>\n",
       "    </tr>\n",
       "    <tr>\n",
       "      <th>6</th>\n",
       "      <td>459000</td>\n",
       "      <td>829,000</td>\n",
       "    </tr>\n",
       "    <tr>\n",
       "      <th>10</th>\n",
       "      <td>388000</td>\n",
       "      <td>699,000</td>\n",
       "    </tr>\n",
       "    <tr>\n",
       "      <th>...</th>\n",
       "      <td>...</td>\n",
       "      <td>...</td>\n",
       "    </tr>\n",
       "    <tr>\n",
       "      <th>14022</th>\n",
       "      <td>389000</td>\n",
       "      <td>682,000</td>\n",
       "    </tr>\n",
       "    <tr>\n",
       "      <th>14023</th>\n",
       "      <td>899000</td>\n",
       "      <td>1,541,000</td>\n",
       "    </tr>\n",
       "    <tr>\n",
       "      <th>14030</th>\n",
       "      <td>2590000</td>\n",
       "      <td>6,650,000</td>\n",
       "    </tr>\n",
       "    <tr>\n",
       "      <th>14033</th>\n",
       "      <td>530000</td>\n",
       "      <td>1,299,000</td>\n",
       "    </tr>\n",
       "    <tr>\n",
       "      <th>14036</th>\n",
       "      <td>976000</td>\n",
       "      <td>1,190,000</td>\n",
       "    </tr>\n",
       "  </tbody>\n",
       "</table>\n",
       "<p>6153 rows × 2 columns</p>\n",
       "</div>"
      ],
      "text/plain": [
       "       sales_price market_price\n",
       "1          1677000    3,050,000\n",
       "3           689000      849,000\n",
       "4           359000      649,000\n",
       "6           459000      829,000\n",
       "10          388000      699,000\n",
       "...            ...          ...\n",
       "14022       389000      682,000\n",
       "14023       899000    1,541,000\n",
       "14030      2590000    6,650,000\n",
       "14033       530000    1,299,000\n",
       "14036       976000    1,190,000\n",
       "\n",
       "[6153 rows x 2 columns]"
      ]
     },
     "execution_count": 102,
     "metadata": {
      "tags": []
     },
     "output_type": "execute_result"
    }
   ],
   "source": [
    "price_df = df2[['sales_price', 'market_price']].dropna()\n",
    "price_df"
   ]
  },
  {
   "cell_type": "code",
   "execution_count": 103,
   "metadata": {
    "colab": {
     "base_uri": "https://localhost:8080/",
     "height": 419
    },
    "id": "Hs_-WKWYae5f",
    "outputId": "999bab18-19f1-4883-f87d-63cc76039d21"
   },
   "outputs": [
    {
     "data": {
      "text/html": [
       "<div>\n",
       "<style scoped>\n",
       "    .dataframe tbody tr th:only-of-type {\n",
       "        vertical-align: middle;\n",
       "    }\n",
       "\n",
       "    .dataframe tbody tr th {\n",
       "        vertical-align: top;\n",
       "    }\n",
       "\n",
       "    .dataframe thead th {\n",
       "        text-align: right;\n",
       "    }\n",
       "</style>\n",
       "<table border=\"1\" class=\"dataframe\">\n",
       "  <thead>\n",
       "    <tr style=\"text-align: right;\">\n",
       "      <th></th>\n",
       "      <th>index</th>\n",
       "      <th>sales_price</th>\n",
       "      <th>market_price</th>\n",
       "    </tr>\n",
       "  </thead>\n",
       "  <tbody>\n",
       "    <tr>\n",
       "      <th>0</th>\n",
       "      <td>1</td>\n",
       "      <td>1677000</td>\n",
       "      <td>3,050,000</td>\n",
       "    </tr>\n",
       "    <tr>\n",
       "      <th>1</th>\n",
       "      <td>3</td>\n",
       "      <td>689000</td>\n",
       "      <td>849,000</td>\n",
       "    </tr>\n",
       "    <tr>\n",
       "      <th>2</th>\n",
       "      <td>4</td>\n",
       "      <td>359000</td>\n",
       "      <td>649,000</td>\n",
       "    </tr>\n",
       "    <tr>\n",
       "      <th>3</th>\n",
       "      <td>6</td>\n",
       "      <td>459000</td>\n",
       "      <td>829,000</td>\n",
       "    </tr>\n",
       "    <tr>\n",
       "      <th>4</th>\n",
       "      <td>10</td>\n",
       "      <td>388000</td>\n",
       "      <td>699,000</td>\n",
       "    </tr>\n",
       "    <tr>\n",
       "      <th>...</th>\n",
       "      <td>...</td>\n",
       "      <td>...</td>\n",
       "      <td>...</td>\n",
       "    </tr>\n",
       "    <tr>\n",
       "      <th>6148</th>\n",
       "      <td>14022</td>\n",
       "      <td>389000</td>\n",
       "      <td>682,000</td>\n",
       "    </tr>\n",
       "    <tr>\n",
       "      <th>6149</th>\n",
       "      <td>14023</td>\n",
       "      <td>899000</td>\n",
       "      <td>1,541,000</td>\n",
       "    </tr>\n",
       "    <tr>\n",
       "      <th>6150</th>\n",
       "      <td>14030</td>\n",
       "      <td>2590000</td>\n",
       "      <td>6,650,000</td>\n",
       "    </tr>\n",
       "    <tr>\n",
       "      <th>6151</th>\n",
       "      <td>14033</td>\n",
       "      <td>530000</td>\n",
       "      <td>1,299,000</td>\n",
       "    </tr>\n",
       "    <tr>\n",
       "      <th>6152</th>\n",
       "      <td>14036</td>\n",
       "      <td>976000</td>\n",
       "      <td>1,190,000</td>\n",
       "    </tr>\n",
       "  </tbody>\n",
       "</table>\n",
       "<p>6153 rows × 3 columns</p>\n",
       "</div>"
      ],
      "text/plain": [
       "      index  sales_price market_price\n",
       "0         1      1677000    3,050,000\n",
       "1         3       689000      849,000\n",
       "2         4       359000      649,000\n",
       "3         6       459000      829,000\n",
       "4        10       388000      699,000\n",
       "...     ...          ...          ...\n",
       "6148  14022       389000      682,000\n",
       "6149  14023       899000    1,541,000\n",
       "6150  14030      2590000    6,650,000\n",
       "6151  14033       530000    1,299,000\n",
       "6152  14036       976000    1,190,000\n",
       "\n",
       "[6153 rows x 3 columns]"
      ]
     },
     "execution_count": 103,
     "metadata": {
      "tags": []
     },
     "output_type": "execute_result"
    }
   ],
   "source": [
    "price_df.reset_index()"
   ]
  },
  {
   "cell_type": "code",
   "execution_count": 104,
   "metadata": {
    "colab": {
     "base_uri": "https://localhost:8080/",
     "height": 419
    },
    "id": "uKpnvvBuaou_",
    "outputId": "6fd70026-04f4-4a01-c80c-f9a9b4325472"
   },
   "outputs": [
    {
     "data": {
      "text/html": [
       "<div>\n",
       "<style scoped>\n",
       "    .dataframe tbody tr th:only-of-type {\n",
       "        vertical-align: middle;\n",
       "    }\n",
       "\n",
       "    .dataframe tbody tr th {\n",
       "        vertical-align: top;\n",
       "    }\n",
       "\n",
       "    .dataframe thead th {\n",
       "        text-align: right;\n",
       "    }\n",
       "</style>\n",
       "<table border=\"1\" class=\"dataframe\">\n",
       "  <thead>\n",
       "    <tr style=\"text-align: right;\">\n",
       "      <th></th>\n",
       "      <th>sales_price</th>\n",
       "      <th>market_price</th>\n",
       "    </tr>\n",
       "  </thead>\n",
       "  <tbody>\n",
       "    <tr>\n",
       "      <th>0</th>\n",
       "      <td>1677000</td>\n",
       "      <td>3,050,000</td>\n",
       "    </tr>\n",
       "    <tr>\n",
       "      <th>1</th>\n",
       "      <td>689000</td>\n",
       "      <td>849,000</td>\n",
       "    </tr>\n",
       "    <tr>\n",
       "      <th>2</th>\n",
       "      <td>359000</td>\n",
       "      <td>649,000</td>\n",
       "    </tr>\n",
       "    <tr>\n",
       "      <th>3</th>\n",
       "      <td>459000</td>\n",
       "      <td>829,000</td>\n",
       "    </tr>\n",
       "    <tr>\n",
       "      <th>4</th>\n",
       "      <td>388000</td>\n",
       "      <td>699,000</td>\n",
       "    </tr>\n",
       "    <tr>\n",
       "      <th>...</th>\n",
       "      <td>...</td>\n",
       "      <td>...</td>\n",
       "    </tr>\n",
       "    <tr>\n",
       "      <th>6148</th>\n",
       "      <td>389000</td>\n",
       "      <td>682,000</td>\n",
       "    </tr>\n",
       "    <tr>\n",
       "      <th>6149</th>\n",
       "      <td>899000</td>\n",
       "      <td>1,541,000</td>\n",
       "    </tr>\n",
       "    <tr>\n",
       "      <th>6150</th>\n",
       "      <td>2590000</td>\n",
       "      <td>6,650,000</td>\n",
       "    </tr>\n",
       "    <tr>\n",
       "      <th>6151</th>\n",
       "      <td>530000</td>\n",
       "      <td>1,299,000</td>\n",
       "    </tr>\n",
       "    <tr>\n",
       "      <th>6152</th>\n",
       "      <td>976000</td>\n",
       "      <td>1,190,000</td>\n",
       "    </tr>\n",
       "  </tbody>\n",
       "</table>\n",
       "<p>6153 rows × 2 columns</p>\n",
       "</div>"
      ],
      "text/plain": [
       "      sales_price market_price\n",
       "0         1677000    3,050,000\n",
       "1          689000      849,000\n",
       "2          359000      649,000\n",
       "3          459000      829,000\n",
       "4          388000      699,000\n",
       "...           ...          ...\n",
       "6148       389000      682,000\n",
       "6149       899000    1,541,000\n",
       "6150      2590000    6,650,000\n",
       "6151       530000    1,299,000\n",
       "6152       976000    1,190,000\n",
       "\n",
       "[6153 rows x 2 columns]"
      ]
     },
     "execution_count": 104,
     "metadata": {
      "tags": []
     },
     "output_type": "execute_result"
    }
   ],
   "source": [
    "price_df = price_df.reset_index(drop=True)\n",
    "price_df"
   ]
  },
  {
   "cell_type": "code",
   "execution_count": 105,
   "metadata": {
    "colab": {
     "base_uri": "https://localhost:8080/",
     "height": 255
    },
    "id": "yIjRsZzKatKD",
    "outputId": "81070a19-9913-4f99-e065-8fbca98c7c1c"
   },
   "outputs": [
    {
     "name": "stdout",
     "output_type": "stream",
     "text": [
      "sales_price     int64\n",
      "market_price    int64\n",
      "dtype: object\n"
     ]
    },
    {
     "data": {
      "text/html": [
       "<div>\n",
       "<style scoped>\n",
       "    .dataframe tbody tr th:only-of-type {\n",
       "        vertical-align: middle;\n",
       "    }\n",
       "\n",
       "    .dataframe tbody tr th {\n",
       "        vertical-align: top;\n",
       "    }\n",
       "\n",
       "    .dataframe thead th {\n",
       "        text-align: right;\n",
       "    }\n",
       "</style>\n",
       "<table border=\"1\" class=\"dataframe\">\n",
       "  <thead>\n",
       "    <tr style=\"text-align: right;\">\n",
       "      <th></th>\n",
       "      <th>sales_price</th>\n",
       "      <th>market_price</th>\n",
       "    </tr>\n",
       "  </thead>\n",
       "  <tbody>\n",
       "    <tr>\n",
       "      <th>0</th>\n",
       "      <td>1677000</td>\n",
       "      <td>3050000</td>\n",
       "    </tr>\n",
       "    <tr>\n",
       "      <th>1</th>\n",
       "      <td>689000</td>\n",
       "      <td>849000</td>\n",
       "    </tr>\n",
       "    <tr>\n",
       "      <th>2</th>\n",
       "      <td>359000</td>\n",
       "      <td>649000</td>\n",
       "    </tr>\n",
       "    <tr>\n",
       "      <th>3</th>\n",
       "      <td>459000</td>\n",
       "      <td>829000</td>\n",
       "    </tr>\n",
       "    <tr>\n",
       "      <th>4</th>\n",
       "      <td>388000</td>\n",
       "      <td>699000</td>\n",
       "    </tr>\n",
       "  </tbody>\n",
       "</table>\n",
       "</div>"
      ],
      "text/plain": [
       "   sales_price  market_price\n",
       "0      1677000       3050000\n",
       "1       689000        849000\n",
       "2       359000        649000\n",
       "3       459000        829000\n",
       "4       388000        699000"
      ]
     },
     "execution_count": 105,
     "metadata": {
      "tags": []
     },
     "output_type": "execute_result"
    }
   ],
   "source": [
    "price_df['market_price'] = price_df['market_price'].str.replace(',', '').astype(int)\n",
    "print(price_df.dtypes)\n",
    "price_df.head()"
   ]
  },
  {
   "cell_type": "code",
   "execution_count": 106,
   "metadata": {
    "id": "hKqqjvecbE6h"
   },
   "outputs": [],
   "source": [
    "def thb_to_usd(thb):\n",
    "  usd = thb / 30\n",
    "  return usd"
   ]
  },
  {
   "cell_type": "code",
   "execution_count": 107,
   "metadata": {
    "colab": {
     "base_uri": "https://localhost:8080/"
    },
    "id": "C1JCWBXUa8er",
    "outputId": "ef243bc4-21f5-407a-9136-54f49d86f63d"
   },
   "outputs": [
    {
     "data": {
      "text/plain": [
       "0       55900.000000\n",
       "1       22966.666667\n",
       "2       11966.666667\n",
       "3       15300.000000\n",
       "4       12933.333333\n",
       "            ...     \n",
       "6148    12966.666667\n",
       "6149    29966.666667\n",
       "6150    86333.333333\n",
       "6151    17666.666667\n",
       "6152    32533.333333\n",
       "Name: sales_price, Length: 6153, dtype: float64"
      ]
     },
     "execution_count": 107,
     "metadata": {
      "tags": []
     },
     "output_type": "execute_result"
    }
   ],
   "source": [
    "price_df['sales_price'].map(thb_to_usd)"
   ]
  },
  {
   "cell_type": "code",
   "execution_count": 108,
   "metadata": {
    "colab": {
     "base_uri": "https://localhost:8080/"
    },
    "id": "9uclAiG8bXcU",
    "outputId": "0e773596-0e13-4598-93bb-e074b05e8528"
   },
   "outputs": [
    {
     "data": {
      "text/plain": [
       "0       101666.666667\n",
       "1        28300.000000\n",
       "2        21633.333333\n",
       "3        27633.333333\n",
       "4        23300.000000\n",
       "            ...      \n",
       "6148     22733.333333\n",
       "6149     51366.666667\n",
       "6150    221666.666667\n",
       "6151     43300.000000\n",
       "6152     39666.666667\n",
       "Name: market_price, Length: 6153, dtype: float64"
      ]
     },
     "execution_count": 108,
     "metadata": {
      "tags": []
     },
     "output_type": "execute_result"
    }
   ],
   "source": [
    "price_df['market_price'].map(thb_to_usd)"
   ]
  },
  {
   "cell_type": "code",
   "execution_count": 109,
   "metadata": {
    "colab": {
     "base_uri": "https://localhost:8080/",
     "height": 283
    },
    "id": "_qm7Jog2bcUX",
    "outputId": "fe721e38-784c-42b7-9f4d-80ee9080f2b6"
   },
   "outputs": [
    {
     "ename": "AttributeError",
     "evalue": "ignored",
     "output_type": "error",
     "traceback": [
      "\u001b[0;31m---------------------------------------------------------------------------\u001b[0m",
      "\u001b[0;31mAttributeError\u001b[0m                            Traceback (most recent call last)",
      "\u001b[0;32m<ipython-input-109-20af9c5a39a4>\u001b[0m in \u001b[0;36m<module>\u001b[0;34m()\u001b[0m\n\u001b[0;32m----> 1\u001b[0;31m \u001b[0mprice_df\u001b[0m\u001b[0;34m.\u001b[0m\u001b[0mmap\u001b[0m\u001b[0;34m(\u001b[0m\u001b[0mthb_to_usd\u001b[0m\u001b[0;34m)\u001b[0m\u001b[0;34m\u001b[0m\u001b[0;34m\u001b[0m\u001b[0m\n\u001b[0m",
      "\u001b[0;32m/usr/local/lib/python3.7/dist-packages/pandas/core/generic.py\u001b[0m in \u001b[0;36m__getattr__\u001b[0;34m(self, name)\u001b[0m\n\u001b[1;32m   5139\u001b[0m             \u001b[0;32mif\u001b[0m \u001b[0mself\u001b[0m\u001b[0;34m.\u001b[0m\u001b[0m_info_axis\u001b[0m\u001b[0;34m.\u001b[0m\u001b[0m_can_hold_identifiers_and_holds_name\u001b[0m\u001b[0;34m(\u001b[0m\u001b[0mname\u001b[0m\u001b[0;34m)\u001b[0m\u001b[0;34m:\u001b[0m\u001b[0;34m\u001b[0m\u001b[0;34m\u001b[0m\u001b[0m\n\u001b[1;32m   5140\u001b[0m                 \u001b[0;32mreturn\u001b[0m \u001b[0mself\u001b[0m\u001b[0;34m[\u001b[0m\u001b[0mname\u001b[0m\u001b[0;34m]\u001b[0m\u001b[0;34m\u001b[0m\u001b[0;34m\u001b[0m\u001b[0m\n\u001b[0;32m-> 5141\u001b[0;31m             \u001b[0;32mreturn\u001b[0m \u001b[0mobject\u001b[0m\u001b[0;34m.\u001b[0m\u001b[0m__getattribute__\u001b[0m\u001b[0;34m(\u001b[0m\u001b[0mself\u001b[0m\u001b[0;34m,\u001b[0m \u001b[0mname\u001b[0m\u001b[0;34m)\u001b[0m\u001b[0;34m\u001b[0m\u001b[0;34m\u001b[0m\u001b[0m\n\u001b[0m\u001b[1;32m   5142\u001b[0m \u001b[0;34m\u001b[0m\u001b[0m\n\u001b[1;32m   5143\u001b[0m     \u001b[0;32mdef\u001b[0m \u001b[0m__setattr__\u001b[0m\u001b[0;34m(\u001b[0m\u001b[0mself\u001b[0m\u001b[0;34m,\u001b[0m \u001b[0mname\u001b[0m\u001b[0;34m:\u001b[0m \u001b[0mstr\u001b[0m\u001b[0;34m,\u001b[0m \u001b[0mvalue\u001b[0m\u001b[0;34m)\u001b[0m \u001b[0;34m->\u001b[0m \u001b[0;32mNone\u001b[0m\u001b[0;34m:\u001b[0m\u001b[0;34m\u001b[0m\u001b[0;34m\u001b[0m\u001b[0m\n",
      "\u001b[0;31mAttributeError\u001b[0m: 'DataFrame' object has no attribute 'map'"
     ]
    }
   ],
   "source": [
    "price_df.map(thb_to_usd)"
   ]
  },
  {
   "cell_type": "code",
   "execution_count": 110,
   "metadata": {
    "colab": {
     "base_uri": "https://localhost:8080/",
     "height": 419
    },
    "id": "mFx5S9Y6bf9e",
    "outputId": "f6e80225-52ae-4a73-b1a3-22039e8c3a99"
   },
   "outputs": [
    {
     "data": {
      "text/html": [
       "<div>\n",
       "<style scoped>\n",
       "    .dataframe tbody tr th:only-of-type {\n",
       "        vertical-align: middle;\n",
       "    }\n",
       "\n",
       "    .dataframe tbody tr th {\n",
       "        vertical-align: top;\n",
       "    }\n",
       "\n",
       "    .dataframe thead th {\n",
       "        text-align: right;\n",
       "    }\n",
       "</style>\n",
       "<table border=\"1\" class=\"dataframe\">\n",
       "  <thead>\n",
       "    <tr style=\"text-align: right;\">\n",
       "      <th></th>\n",
       "      <th>sales_price</th>\n",
       "      <th>market_price</th>\n",
       "    </tr>\n",
       "  </thead>\n",
       "  <tbody>\n",
       "    <tr>\n",
       "      <th>0</th>\n",
       "      <td>55900.000000</td>\n",
       "      <td>101666.666667</td>\n",
       "    </tr>\n",
       "    <tr>\n",
       "      <th>1</th>\n",
       "      <td>22966.666667</td>\n",
       "      <td>28300.000000</td>\n",
       "    </tr>\n",
       "    <tr>\n",
       "      <th>2</th>\n",
       "      <td>11966.666667</td>\n",
       "      <td>21633.333333</td>\n",
       "    </tr>\n",
       "    <tr>\n",
       "      <th>3</th>\n",
       "      <td>15300.000000</td>\n",
       "      <td>27633.333333</td>\n",
       "    </tr>\n",
       "    <tr>\n",
       "      <th>4</th>\n",
       "      <td>12933.333333</td>\n",
       "      <td>23300.000000</td>\n",
       "    </tr>\n",
       "    <tr>\n",
       "      <th>...</th>\n",
       "      <td>...</td>\n",
       "      <td>...</td>\n",
       "    </tr>\n",
       "    <tr>\n",
       "      <th>6148</th>\n",
       "      <td>12966.666667</td>\n",
       "      <td>22733.333333</td>\n",
       "    </tr>\n",
       "    <tr>\n",
       "      <th>6149</th>\n",
       "      <td>29966.666667</td>\n",
       "      <td>51366.666667</td>\n",
       "    </tr>\n",
       "    <tr>\n",
       "      <th>6150</th>\n",
       "      <td>86333.333333</td>\n",
       "      <td>221666.666667</td>\n",
       "    </tr>\n",
       "    <tr>\n",
       "      <th>6151</th>\n",
       "      <td>17666.666667</td>\n",
       "      <td>43300.000000</td>\n",
       "    </tr>\n",
       "    <tr>\n",
       "      <th>6152</th>\n",
       "      <td>32533.333333</td>\n",
       "      <td>39666.666667</td>\n",
       "    </tr>\n",
       "  </tbody>\n",
       "</table>\n",
       "<p>6153 rows × 2 columns</p>\n",
       "</div>"
      ],
      "text/plain": [
       "       sales_price   market_price\n",
       "0     55900.000000  101666.666667\n",
       "1     22966.666667   28300.000000\n",
       "2     11966.666667   21633.333333\n",
       "3     15300.000000   27633.333333\n",
       "4     12933.333333   23300.000000\n",
       "...            ...            ...\n",
       "6148  12966.666667   22733.333333\n",
       "6149  29966.666667   51366.666667\n",
       "6150  86333.333333  221666.666667\n",
       "6151  17666.666667   43300.000000\n",
       "6152  32533.333333   39666.666667\n",
       "\n",
       "[6153 rows x 2 columns]"
      ]
     },
     "execution_count": 110,
     "metadata": {
      "tags": []
     },
     "output_type": "execute_result"
    }
   ],
   "source": [
    "price_df.apply(thb_to_usd)"
   ]
  },
  {
   "cell_type": "code",
   "execution_count": 112,
   "metadata": {
    "colab": {
     "base_uri": "https://localhost:8080/"
    },
    "id": "8SyAditbb3bs",
    "outputId": "5060c975-9291-4d61-968e-94a7d8f2b8d2"
   },
   "outputs": [
    {
     "data": {
      "text/plain": [
       "0       1373000\n",
       "1        160000\n",
       "2        290000\n",
       "3        370000\n",
       "4        311000\n",
       "         ...   \n",
       "6148     293000\n",
       "6149     642000\n",
       "6150    4060000\n",
       "6151     769000\n",
       "6152     214000\n",
       "Length: 6153, dtype: int64"
      ]
     },
     "execution_count": 112,
     "metadata": {
      "tags": []
     },
     "output_type": "execute_result"
    }
   ],
   "source": [
    "price_df.apply(lambda x: x['market_price'] - x['sales_price'], axis=1)"
   ]
  },
  {
   "cell_type": "markdown",
   "metadata": {
    "id": "Rjfc5D7EUPyx"
   },
   "source": [
    "## 7. Analyze data"
   ]
  },
  {
   "cell_type": "code",
   "execution_count": null,
   "metadata": {
    "id": "LbZA9yoeUcoY"
   },
   "outputs": [],
   "source": [
    "iris = pd.read_csv('https://gist.githubusercontent.com/curran/a08a1080b88344b0c8a7/raw/0e7a9b0a5d22642a06d3d5b9bcbad9890c8ee534/iris.csv')"
   ]
  },
  {
   "cell_type": "code",
   "execution_count": null,
   "metadata": {
    "colab": {
     "base_uri": "https://localhost:8080/",
     "height": 204
    },
    "id": "Ojq9oCM5bKv_",
    "outputId": "d101f81f-f46b-43f5-f286-ca3bc1ae6f1e"
   },
   "outputs": [
    {
     "data": {
      "text/html": [
       "<div>\n",
       "<style scoped>\n",
       "    .dataframe tbody tr th:only-of-type {\n",
       "        vertical-align: middle;\n",
       "    }\n",
       "\n",
       "    .dataframe tbody tr th {\n",
       "        vertical-align: top;\n",
       "    }\n",
       "\n",
       "    .dataframe thead th {\n",
       "        text-align: right;\n",
       "    }\n",
       "</style>\n",
       "<table border=\"1\" class=\"dataframe\">\n",
       "  <thead>\n",
       "    <tr style=\"text-align: right;\">\n",
       "      <th></th>\n",
       "      <th>sepal_length</th>\n",
       "      <th>sepal_width</th>\n",
       "      <th>petal_length</th>\n",
       "      <th>petal_width</th>\n",
       "      <th>species</th>\n",
       "    </tr>\n",
       "  </thead>\n",
       "  <tbody>\n",
       "    <tr>\n",
       "      <th>0</th>\n",
       "      <td>5.1</td>\n",
       "      <td>3.5</td>\n",
       "      <td>1.4</td>\n",
       "      <td>0.2</td>\n",
       "      <td>setosa</td>\n",
       "    </tr>\n",
       "    <tr>\n",
       "      <th>1</th>\n",
       "      <td>4.9</td>\n",
       "      <td>3.0</td>\n",
       "      <td>1.4</td>\n",
       "      <td>0.2</td>\n",
       "      <td>setosa</td>\n",
       "    </tr>\n",
       "    <tr>\n",
       "      <th>2</th>\n",
       "      <td>4.7</td>\n",
       "      <td>3.2</td>\n",
       "      <td>1.3</td>\n",
       "      <td>0.2</td>\n",
       "      <td>setosa</td>\n",
       "    </tr>\n",
       "    <tr>\n",
       "      <th>3</th>\n",
       "      <td>4.6</td>\n",
       "      <td>3.1</td>\n",
       "      <td>1.5</td>\n",
       "      <td>0.2</td>\n",
       "      <td>setosa</td>\n",
       "    </tr>\n",
       "    <tr>\n",
       "      <th>4</th>\n",
       "      <td>5.0</td>\n",
       "      <td>3.6</td>\n",
       "      <td>1.4</td>\n",
       "      <td>0.2</td>\n",
       "      <td>setosa</td>\n",
       "    </tr>\n",
       "  </tbody>\n",
       "</table>\n",
       "</div>"
      ],
      "text/plain": [
       "   sepal_length  sepal_width  petal_length  petal_width species\n",
       "0           5.1          3.5           1.4          0.2  setosa\n",
       "1           4.9          3.0           1.4          0.2  setosa\n",
       "2           4.7          3.2           1.3          0.2  setosa\n",
       "3           4.6          3.1           1.5          0.2  setosa\n",
       "4           5.0          3.6           1.4          0.2  setosa"
      ]
     },
     "execution_count": 76,
     "metadata": {
      "tags": []
     },
     "output_type": "execute_result"
    }
   ],
   "source": [
    "iris.head()"
   ]
  },
  {
   "cell_type": "markdown",
   "metadata": {
    "id": "-oG5_S6quhVk"
   },
   "source": [
    "Question:\n",
    "1. ค่าเฉลี่ยของความยาวและความกว้างของกลีบเลี้ยงคือเท่าไหร่ ?\n",
    "2. กลีบดอกมีความยาวและความกว้่างมากที่สุดเท่าไหร่ ?\n",
    "3. ดอกไม้ species ไหน มีจำนวนเยอะที่สุด ?\n",
    "4. แต่ละ species มีค่าเฉลี่ยความยาวและความกว้างของกลีบเลี้ยงคือเท่าไหร่ ?"
   ]
  },
  {
   "cell_type": "code",
   "execution_count": null,
   "metadata": {
    "id": "xAW4UYZCvRn2"
   },
   "outputs": [],
   "source": []
  }
 ],
 "metadata": {
  "colab": {
   "collapsed_sections": [],
   "name": "ai_builder_pandas.ipynb",
   "provenance": [],
   "toc_visible": true
  },
  "kernelspec": {
   "display_name": "Python 3",
   "language": "python",
   "name": "python3"
  },
  "language_info": {
   "codemirror_mode": {
    "name": "ipython",
    "version": 3
   },
   "file_extension": ".py",
   "mimetype": "text/x-python",
   "name": "python",
   "nbconvert_exporter": "python",
   "pygments_lexer": "ipython3",
   "version": "3.6.7"
  }
 },
 "nbformat": 4,
 "nbformat_minor": 4
}
