{
 "cells": [
  {
   "cell_type": "markdown",
   "metadata": {
    "id": "4Y1vJWx4Ntyv"
   },
   "source": [
    "# Introduction to Pandas"
   ]
  },
  {
   "cell_type": "markdown",
   "metadata": {},
   "source": [
    "[![](https://colab.research.google.com/assets/colab-badge.svg)](https://colab.research.google.com/drive/1FpWjpPEvJgCfo3XmkY-NPfRSNcmjDHrn?usp=sharing)"
   ]
  },
  {
   "cell_type": "code",
   "execution_count": null,
   "metadata": {
    "id": "pi3RJlBrOhrf"
   },
   "outputs": [],
   "source": [
    "import pandas as pd"
   ]
  },
  {
   "cell_type": "markdown",
   "metadata": {
    "id": "zHliYFRBNxf4"
   },
   "source": [
    "## 1. Read data"
   ]
  },
  {
   "cell_type": "code",
   "execution_count": null,
   "metadata": {
    "id": "uxE-qQHnM7qx"
   },
   "outputs": [],
   "source": [
    "# show read big dataset"
   ]
  },
  {
   "cell_type": "code",
   "execution_count": null,
   "metadata": {
    "id": "pctTMUE3QZGQ"
   },
   "outputs": [],
   "source": [
    "df = pd.read_csv('https://raw.githubusercontent.com/cstorm125/viztech/master/data/taladrod.csv')"
   ]
  },
  {
   "cell_type": "markdown",
   "metadata": {
    "id": "mntApgBFQvpZ"
   },
   "source": [
    "## 2. Series"
   ]
  },
  {
   "cell_type": "code",
   "execution_count": null,
   "metadata": {
    "colab": {
     "base_uri": "https://localhost:8080/"
    },
    "id": "i-7sI2XFQbI4",
    "outputId": "fdc29be5-bd74-4492-a5a8-d41e2f51796b"
   },
   "outputs": [
    {
     "data": {
      "text/plain": [
       "0         HONDA\n",
       "1        TOYOTA\n",
       "2         HONDA\n",
       "3          FORD\n",
       "4        TOYOTA\n",
       "          ...  \n",
       "14032     HONDA\n",
       "14033    TOYOTA\n",
       "14034    TOYOTA\n",
       "14035     HONDA\n",
       "14036     HONDA\n",
       "Name: brand, Length: 14037, dtype: object"
      ]
     },
     "execution_count": 7,
     "metadata": {
      "tags": []
     },
     "output_type": "execute_result"
    }
   ],
   "source": [
    "ser = df['brand']\n",
    "ser"
   ]
  },
  {
   "cell_type": "code",
   "execution_count": null,
   "metadata": {
    "colab": {
     "base_uri": "https://localhost:8080/"
    },
    "id": "CNZNDPO5Q0vM",
    "outputId": "22f26b9b-e384-4650-a247-24dff4882985"
   },
   "outputs": [
    {
     "data": {
      "text/plain": [
       "(14037,)"
      ]
     },
     "execution_count": 8,
     "metadata": {
      "tags": []
     },
     "output_type": "execute_result"
    }
   ],
   "source": [
    "ser.shape"
   ]
  },
  {
   "cell_type": "markdown",
   "metadata": {
    "id": "m1uj0RjhQ-6v"
   },
   "source": [
    "## 3. Dataframe"
   ]
  },
  {
   "cell_type": "code",
   "execution_count": null,
   "metadata": {
    "colab": {
     "base_uri": "https://localhost:8080/",
     "height": 932
    },
    "id": "mqF8yjuWQ3wV",
    "outputId": "db2626e3-d42d-411b-b058-43d3126591fd"
   },
   "outputs": [
    {
     "data": {
      "text/html": [
       "<div>\n",
       "<style scoped>\n",
       "    .dataframe tbody tr th:only-of-type {\n",
       "        vertical-align: middle;\n",
       "    }\n",
       "\n",
       "    .dataframe tbody tr th {\n",
       "        vertical-align: top;\n",
       "    }\n",
       "\n",
       "    .dataframe thead th {\n",
       "        text-align: right;\n",
       "    }\n",
       "</style>\n",
       "<table border=\"1\" class=\"dataframe\">\n",
       "  <thead>\n",
       "    <tr style=\"text-align: right;\">\n",
       "      <th></th>\n",
       "      <th>id</th>\n",
       "      <th>brand</th>\n",
       "      <th>series</th>\n",
       "      <th>model</th>\n",
       "      <th>gen</th>\n",
       "      <th>year</th>\n",
       "      <th>color</th>\n",
       "      <th>gear</th>\n",
       "      <th>gas</th>\n",
       "      <th>sales_price</th>\n",
       "      <th>original_price</th>\n",
       "      <th>market_price</th>\n",
       "      <th>description</th>\n",
       "      <th>contact_location</th>\n",
       "      <th>subscribers</th>\n",
       "      <th>scraped_date</th>\n",
       "      <th>removed_date</th>\n",
       "    </tr>\n",
       "  </thead>\n",
       "  <tbody>\n",
       "    <tr>\n",
       "      <th>0</th>\n",
       "      <td>2210000</td>\n",
       "      <td>HONDA</td>\n",
       "      <td>JAZZ</td>\n",
       "      <td>1.5 i-VTEC SV (AS)</td>\n",
       "      <td>ปี08-13</td>\n",
       "      <td>2014.0</td>\n",
       "      <td>สีขาว</td>\n",
       "      <td>เกียร์ออโต้</td>\n",
       "      <td>NaN</td>\n",
       "      <td>488,000</td>\n",
       "      <td>NaN</td>\n",
       "      <td>NaN</td>\n",
       "      <td>เครดิตดีออกรถ10,000จบครับ\\nรับประกันเครื่องเกี...</td>\n",
       "      <td>กรุงเทพฯ</td>\n",
       "      <td>1047.0</td>\n",
       "      <td>2019-05-22</td>\n",
       "      <td>NaN</td>\n",
       "    </tr>\n",
       "    <tr>\n",
       "      <th>1</th>\n",
       "      <td>2210001</td>\n",
       "      <td>TOYOTA</td>\n",
       "      <td>ESTIMA</td>\n",
       "      <td>2.4 G HYBRID</td>\n",
       "      <td>ปี10-ปัจจุบัน</td>\n",
       "      <td>2013.0</td>\n",
       "      <td>สีขาว</td>\n",
       "      <td>เกียร์ออโต้</td>\n",
       "      <td>NaN</td>\n",
       "      <td>1,677,000</td>\n",
       "      <td>NaN</td>\n",
       "      <td>3,050,000</td>\n",
       "      <td>TOPสุด Estima Aeras Hybrid รถเข้าเซอร์วิส TOYO...</td>\n",
       "      <td>กรุงเทพฯ</td>\n",
       "      <td>182.0</td>\n",
       "      <td>2019-05-22</td>\n",
       "      <td>NaN</td>\n",
       "    </tr>\n",
       "    <tr>\n",
       "      <th>2</th>\n",
       "      <td>2210009</td>\n",
       "      <td>HONDA</td>\n",
       "      <td>JAZZ</td>\n",
       "      <td>1.5 i-VTEC V (AS)</td>\n",
       "      <td>ปี08-13</td>\n",
       "      <td>2008.0</td>\n",
       "      <td>สีน้ำเงิน</td>\n",
       "      <td>เกียร์ออโต้</td>\n",
       "      <td>NaN</td>\n",
       "      <td>338,000</td>\n",
       "      <td>NaN</td>\n",
       "      <td>NaN</td>\n",
       "      <td>เครดิดีออกรถ10,000จบครับ\\nรับประกันเครื่องเกีย...</td>\n",
       "      <td>กรุงเทพฯ</td>\n",
       "      <td>1047.0</td>\n",
       "      <td>2019-05-22</td>\n",
       "      <td>NaN</td>\n",
       "    </tr>\n",
       "    <tr>\n",
       "      <th>3</th>\n",
       "      <td>2210012</td>\n",
       "      <td>FORD</td>\n",
       "      <td>RANGER</td>\n",
       "      <td>2.2 WILDTRAK DBL CAB HI-RIDER</td>\n",
       "      <td>DOUBLECAB</td>\n",
       "      <td>2016.0</td>\n",
       "      <td>สีขาว</td>\n",
       "      <td>เกียร์ออโต้</td>\n",
       "      <td>NaN</td>\n",
       "      <td>689,000</td>\n",
       "      <td>NaN</td>\n",
       "      <td>849,000</td>\n",
       "      <td>รับรองสภาพ ไม่มีชน มือเดียว พาช่างมาตรวจสภาพรถ...</td>\n",
       "      <td>กรุงเทพฯ</td>\n",
       "      <td>760.0</td>\n",
       "      <td>2019-05-22</td>\n",
       "      <td>NaN</td>\n",
       "    </tr>\n",
       "    <tr>\n",
       "      <th>4</th>\n",
       "      <td>2210016</td>\n",
       "      <td>TOYOTA</td>\n",
       "      <td>SOLUNA</td>\n",
       "      <td>VIOS 1.5 E (ABS+AB)</td>\n",
       "      <td>VIOS ปี13-ปัจจุบัน</td>\n",
       "      <td>2015.0</td>\n",
       "      <td>สีบรอนซ์เงิน</td>\n",
       "      <td>เกียร์ออโต้</td>\n",
       "      <td>NaN</td>\n",
       "      <td>359,000</td>\n",
       "      <td>NaN</td>\n",
       "      <td>649,000</td>\n",
       "      <td>ไมล์แท้ 99,xxx TOYOTA SOLUNA VIOS 1.5E\\nTOYOTA...</td>\n",
       "      <td>กรุงเทพฯ</td>\n",
       "      <td>699.0</td>\n",
       "      <td>2019-05-22</td>\n",
       "      <td>NaN</td>\n",
       "    </tr>\n",
       "    <tr>\n",
       "      <th>...</th>\n",
       "      <td>...</td>\n",
       "      <td>...</td>\n",
       "      <td>...</td>\n",
       "      <td>...</td>\n",
       "      <td>...</td>\n",
       "      <td>...</td>\n",
       "      <td>...</td>\n",
       "      <td>...</td>\n",
       "      <td>...</td>\n",
       "      <td>...</td>\n",
       "      <td>...</td>\n",
       "      <td>...</td>\n",
       "      <td>...</td>\n",
       "      <td>...</td>\n",
       "      <td>...</td>\n",
       "      <td>...</td>\n",
       "      <td>...</td>\n",
       "    </tr>\n",
       "    <tr>\n",
       "      <th>14032</th>\n",
       "      <td>2232877</td>\n",
       "      <td>HONDA</td>\n",
       "      <td>CIVIC</td>\n",
       "      <td>1.8 E</td>\n",
       "      <td>FB ปี12-15</td>\n",
       "      <td>2012.0</td>\n",
       "      <td>สีบรอนซ์เงิน</td>\n",
       "      <td>เกียร์ออโต้</td>\n",
       "      <td>NaN</td>\n",
       "      <td>428,000</td>\n",
       "      <td>NaN</td>\n",
       "      <td>NaN</td>\n",
       "      <td>2012 Honda civic FB 1.8E auto เบาะไฟฟ้า สภาพสว...</td>\n",
       "      <td>กรุงเทพฯ</td>\n",
       "      <td>1614.0</td>\n",
       "      <td>2019-05-28</td>\n",
       "      <td>NaN</td>\n",
       "    </tr>\n",
       "    <tr>\n",
       "      <th>14033</th>\n",
       "      <td>2232878</td>\n",
       "      <td>TOYOTA</td>\n",
       "      <td>CAMRY</td>\n",
       "      <td>2.0 G</td>\n",
       "      <td>ปี06-12</td>\n",
       "      <td>2011.0</td>\n",
       "      <td>สีเทา</td>\n",
       "      <td>เกียร์ออโต้</td>\n",
       "      <td>NaN</td>\n",
       "      <td>530,000</td>\n",
       "      <td>NaN</td>\n",
       "      <td>1,299,000</td>\n",
       "      <td>รถศูนย์ TOYOTA CAMRY 2.0 G ปี 2011\\nรถศูนย์ สภ...</td>\n",
       "      <td>ปทุมธานี</td>\n",
       "      <td>1469.0</td>\n",
       "      <td>2019-05-28</td>\n",
       "      <td>NaN</td>\n",
       "    </tr>\n",
       "    <tr>\n",
       "      <th>14034</th>\n",
       "      <td>2232879</td>\n",
       "      <td>TOYOTA</td>\n",
       "      <td>CAMRY</td>\n",
       "      <td>2.4 HYBRID</td>\n",
       "      <td>ปี06-12</td>\n",
       "      <td>2010.0</td>\n",
       "      <td>สีขาว</td>\n",
       "      <td>เกียร์ออโต้</td>\n",
       "      <td>NaN</td>\n",
       "      <td>435,000</td>\n",
       "      <td>NaN</td>\n",
       "      <td>NaN</td>\n",
       "      <td>Camry Hybrid วิ่งน้อย เช็ค0ทุกระยะ สภาพใหม่กิ๊...</td>\n",
       "      <td>กรุงเทพฯ</td>\n",
       "      <td>1469.0</td>\n",
       "      <td>2019-05-28</td>\n",
       "      <td>NaN</td>\n",
       "    </tr>\n",
       "    <tr>\n",
       "      <th>14035</th>\n",
       "      <td>2232880</td>\n",
       "      <td>HONDA</td>\n",
       "      <td>JAZZ</td>\n",
       "      <td>1.5 S</td>\n",
       "      <td>แรก</td>\n",
       "      <td>2006.0</td>\n",
       "      <td>สีขาว</td>\n",
       "      <td>เกียร์ออโต้</td>\n",
       "      <td>NaN</td>\n",
       "      <td>168,000</td>\n",
       "      <td>NaN</td>\n",
       "      <td>NaN</td>\n",
       "      <td>Honda Jazz ปี2006  เกียร์auto  ขาย 168000 บ.\\n...</td>\n",
       "      <td>กรุงเทพฯ</td>\n",
       "      <td>825.0</td>\n",
       "      <td>2019-05-28</td>\n",
       "      <td>NaN</td>\n",
       "    </tr>\n",
       "    <tr>\n",
       "      <th>14036</th>\n",
       "      <td>2232881</td>\n",
       "      <td>HONDA</td>\n",
       "      <td>CIVIC</td>\n",
       "      <td>1.5 TURBO RS</td>\n",
       "      <td>FC ปี16-ปัจจุบัน</td>\n",
       "      <td>2016.0</td>\n",
       "      <td>สีเทา</td>\n",
       "      <td>เกียร์ออโต้</td>\n",
       "      <td>NaN</td>\n",
       "      <td>976,000</td>\n",
       "      <td>NaN</td>\n",
       "      <td>1,190,000</td>\n",
       "      <td>1.5 Turbo RS Topสุด โฉม FC ยังมีวารันตีศูนย์ ไ...</td>\n",
       "      <td>กรุงเทพฯ</td>\n",
       "      <td>1147.0</td>\n",
       "      <td>2019-05-28</td>\n",
       "      <td>NaN</td>\n",
       "    </tr>\n",
       "  </tbody>\n",
       "</table>\n",
       "<p>14037 rows × 17 columns</p>\n",
       "</div>"
      ],
      "text/plain": [
       "            id   brand  series  ... subscribers scraped_date  removed_date\n",
       "0      2210000   HONDA    JAZZ  ...      1047.0   2019-05-22           NaN\n",
       "1      2210001  TOYOTA  ESTIMA  ...       182.0   2019-05-22           NaN\n",
       "2      2210009   HONDA    JAZZ  ...      1047.0   2019-05-22           NaN\n",
       "3      2210012    FORD  RANGER  ...       760.0   2019-05-22           NaN\n",
       "4      2210016  TOYOTA  SOLUNA  ...       699.0   2019-05-22           NaN\n",
       "...        ...     ...     ...  ...         ...          ...           ...\n",
       "14032  2232877   HONDA   CIVIC  ...      1614.0   2019-05-28           NaN\n",
       "14033  2232878  TOYOTA   CAMRY  ...      1469.0   2019-05-28           NaN\n",
       "14034  2232879  TOYOTA   CAMRY  ...      1469.0   2019-05-28           NaN\n",
       "14035  2232880   HONDA    JAZZ  ...       825.0   2019-05-28           NaN\n",
       "14036  2232881   HONDA   CIVIC  ...      1147.0   2019-05-28           NaN\n",
       "\n",
       "[14037 rows x 17 columns]"
      ]
     },
     "execution_count": 9,
     "metadata": {
      "tags": []
     },
     "output_type": "execute_result"
    }
   ],
   "source": [
    "df"
   ]
  },
  {
   "cell_type": "code",
   "execution_count": null,
   "metadata": {
    "colab": {
     "base_uri": "https://localhost:8080/"
    },
    "id": "PRV5oRBZRFNa",
    "outputId": "08d0bdf7-5076-44e5-9f7c-b5bb99609e3b"
   },
   "outputs": [
    {
     "data": {
      "text/plain": [
       "(14037, 17)"
      ]
     },
     "execution_count": 11,
     "metadata": {
      "tags": []
     },
     "output_type": "execute_result"
    }
   ],
   "source": [
    "df.shape"
   ]
  },
  {
   "cell_type": "markdown",
   "metadata": {
    "id": "dBTbbUx7SJHY"
   },
   "source": [
    "## 4. Indexing"
   ]
  },
  {
   "cell_type": "markdown",
   "metadata": {
    "id": "l_hDtQawSi7x"
   },
   "source": [
    "Position"
   ]
  },
  {
   "cell_type": "code",
   "execution_count": null,
   "metadata": {
    "colab": {
     "base_uri": "https://localhost:8080/"
    },
    "id": "gnVBrsVbRJpj",
    "outputId": "fe4bdfd6-f3a8-4763-c75e-2f2ca32d52b4"
   },
   "outputs": [
    {
     "data": {
      "text/plain": [
       "id                                                            2210012\n",
       "brand                                                            FORD\n",
       "series                                                         RANGER\n",
       "model                                   2.2 WILDTRAK DBL CAB HI-RIDER\n",
       "gen                                                         DOUBLECAB\n",
       "year                                                             2016\n",
       "color                                                           สีขาว\n",
       "gear                                                      เกียร์ออโต้\n",
       "gas                                                               NaN\n",
       "sales_price                                                   689,000\n",
       "original_price                                                    NaN\n",
       "market_price                                                  849,000\n",
       "description         รับรองสภาพ ไม่มีชน มือเดียว พาช่างมาตรวจสภาพรถ...\n",
       "contact_location                                             กรุงเทพฯ\n",
       "subscribers                                                       760\n",
       "scraped_date                                               2019-05-22\n",
       "removed_date                                                      NaN\n",
       "Name: 3, dtype: object"
      ]
     },
     "execution_count": 12,
     "metadata": {
      "tags": []
     },
     "output_type": "execute_result"
    }
   ],
   "source": [
    "df.iloc[3]"
   ]
  },
  {
   "cell_type": "code",
   "execution_count": null,
   "metadata": {
    "colab": {
     "base_uri": "https://localhost:8080/",
     "height": 111
    },
    "id": "iAixTmE4SUQ3",
    "outputId": "03c73ed4-417c-43bf-8e10-5d07cd56e466"
   },
   "outputs": [
    {
     "data": {
      "text/html": [
       "<div>\n",
       "<style scoped>\n",
       "    .dataframe tbody tr th:only-of-type {\n",
       "        vertical-align: middle;\n",
       "    }\n",
       "\n",
       "    .dataframe tbody tr th {\n",
       "        vertical-align: top;\n",
       "    }\n",
       "\n",
       "    .dataframe thead th {\n",
       "        text-align: right;\n",
       "    }\n",
       "</style>\n",
       "<table border=\"1\" class=\"dataframe\">\n",
       "  <thead>\n",
       "    <tr style=\"text-align: right;\">\n",
       "      <th></th>\n",
       "      <th>id</th>\n",
       "      <th>brand</th>\n",
       "    </tr>\n",
       "  </thead>\n",
       "  <tbody>\n",
       "    <tr>\n",
       "      <th>3</th>\n",
       "      <td>2210012</td>\n",
       "      <td>FORD</td>\n",
       "    </tr>\n",
       "    <tr>\n",
       "      <th>4</th>\n",
       "      <td>2210016</td>\n",
       "      <td>TOYOTA</td>\n",
       "    </tr>\n",
       "  </tbody>\n",
       "</table>\n",
       "</div>"
      ],
      "text/plain": [
       "        id   brand\n",
       "3  2210012    FORD\n",
       "4  2210016  TOYOTA"
      ]
     },
     "execution_count": 13,
     "metadata": {
      "tags": []
     },
     "output_type": "execute_result"
    }
   ],
   "source": [
    "df.iloc[3:5, 0:2]"
   ]
  },
  {
   "cell_type": "code",
   "execution_count": null,
   "metadata": {
    "colab": {
     "base_uri": "https://localhost:8080/",
     "height": 142
    },
    "id": "sgf1dURmSSay",
    "outputId": "4e9c2548-9c37-4e44-a0af-d630dfcbc7e0"
   },
   "outputs": [
    {
     "data": {
      "text/html": [
       "<div>\n",
       "<style scoped>\n",
       "    .dataframe tbody tr th:only-of-type {\n",
       "        vertical-align: middle;\n",
       "    }\n",
       "\n",
       "    .dataframe tbody tr th {\n",
       "        vertical-align: top;\n",
       "    }\n",
       "\n",
       "    .dataframe thead th {\n",
       "        text-align: right;\n",
       "    }\n",
       "</style>\n",
       "<table border=\"1\" class=\"dataframe\">\n",
       "  <thead>\n",
       "    <tr style=\"text-align: right;\">\n",
       "      <th></th>\n",
       "      <th>id</th>\n",
       "      <th>series</th>\n",
       "    </tr>\n",
       "  </thead>\n",
       "  <tbody>\n",
       "    <tr>\n",
       "      <th>1</th>\n",
       "      <td>2210001</td>\n",
       "      <td>ESTIMA</td>\n",
       "    </tr>\n",
       "    <tr>\n",
       "      <th>2</th>\n",
       "      <td>2210009</td>\n",
       "      <td>JAZZ</td>\n",
       "    </tr>\n",
       "    <tr>\n",
       "      <th>4</th>\n",
       "      <td>2210016</td>\n",
       "      <td>SOLUNA</td>\n",
       "    </tr>\n",
       "  </tbody>\n",
       "</table>\n",
       "</div>"
      ],
      "text/plain": [
       "        id  series\n",
       "1  2210001  ESTIMA\n",
       "2  2210009    JAZZ\n",
       "4  2210016  SOLUNA"
      ]
     },
     "execution_count": 14,
     "metadata": {
      "tags": []
     },
     "output_type": "execute_result"
    }
   ],
   "source": [
    "df.iloc[[1, 2, 4], [0, 2]]"
   ]
  },
  {
   "cell_type": "code",
   "execution_count": null,
   "metadata": {
    "colab": {
     "base_uri": "https://localhost:8080/",
     "height": 233
    },
    "id": "MPOMJN3xSYOt",
    "outputId": "9bc4a0f3-936d-4488-d656-8cc29df71788"
   },
   "outputs": [
    {
     "data": {
      "text/html": [
       "<div>\n",
       "<style scoped>\n",
       "    .dataframe tbody tr th:only-of-type {\n",
       "        vertical-align: middle;\n",
       "    }\n",
       "\n",
       "    .dataframe tbody tr th {\n",
       "        vertical-align: top;\n",
       "    }\n",
       "\n",
       "    .dataframe thead th {\n",
       "        text-align: right;\n",
       "    }\n",
       "</style>\n",
       "<table border=\"1\" class=\"dataframe\">\n",
       "  <thead>\n",
       "    <tr style=\"text-align: right;\">\n",
       "      <th></th>\n",
       "      <th>id</th>\n",
       "      <th>brand</th>\n",
       "      <th>series</th>\n",
       "      <th>model</th>\n",
       "      <th>gen</th>\n",
       "      <th>year</th>\n",
       "      <th>color</th>\n",
       "      <th>gear</th>\n",
       "      <th>gas</th>\n",
       "      <th>sales_price</th>\n",
       "      <th>original_price</th>\n",
       "      <th>market_price</th>\n",
       "      <th>description</th>\n",
       "      <th>contact_location</th>\n",
       "      <th>subscribers</th>\n",
       "      <th>scraped_date</th>\n",
       "      <th>removed_date</th>\n",
       "    </tr>\n",
       "  </thead>\n",
       "  <tbody>\n",
       "    <tr>\n",
       "      <th>1</th>\n",
       "      <td>2210001</td>\n",
       "      <td>TOYOTA</td>\n",
       "      <td>ESTIMA</td>\n",
       "      <td>2.4 G HYBRID</td>\n",
       "      <td>ปี10-ปัจจุบัน</td>\n",
       "      <td>2013.0</td>\n",
       "      <td>สีขาว</td>\n",
       "      <td>เกียร์ออโต้</td>\n",
       "      <td>NaN</td>\n",
       "      <td>1,677,000</td>\n",
       "      <td>NaN</td>\n",
       "      <td>3,050,000</td>\n",
       "      <td>TOPสุด Estima Aeras Hybrid รถเข้าเซอร์วิส TOYO...</td>\n",
       "      <td>กรุงเทพฯ</td>\n",
       "      <td>182.0</td>\n",
       "      <td>2019-05-22</td>\n",
       "      <td>NaN</td>\n",
       "    </tr>\n",
       "    <tr>\n",
       "      <th>2</th>\n",
       "      <td>2210009</td>\n",
       "      <td>HONDA</td>\n",
       "      <td>JAZZ</td>\n",
       "      <td>1.5 i-VTEC V (AS)</td>\n",
       "      <td>ปี08-13</td>\n",
       "      <td>2008.0</td>\n",
       "      <td>สีน้ำเงิน</td>\n",
       "      <td>เกียร์ออโต้</td>\n",
       "      <td>NaN</td>\n",
       "      <td>338,000</td>\n",
       "      <td>NaN</td>\n",
       "      <td>NaN</td>\n",
       "      <td>เครดิดีออกรถ10,000จบครับ\\nรับประกันเครื่องเกีย...</td>\n",
       "      <td>กรุงเทพฯ</td>\n",
       "      <td>1047.0</td>\n",
       "      <td>2019-05-22</td>\n",
       "      <td>NaN</td>\n",
       "    </tr>\n",
       "  </tbody>\n",
       "</table>\n",
       "</div>"
      ],
      "text/plain": [
       "        id   brand  series  ... subscribers scraped_date  removed_date\n",
       "1  2210001  TOYOTA  ESTIMA  ...       182.0   2019-05-22           NaN\n",
       "2  2210009   HONDA    JAZZ  ...      1047.0   2019-05-22           NaN\n",
       "\n",
       "[2 rows x 17 columns]"
      ]
     },
     "execution_count": 15,
     "metadata": {
      "tags": []
     },
     "output_type": "execute_result"
    }
   ],
   "source": [
    "df.iloc[1:3, :]"
   ]
  },
  {
   "cell_type": "code",
   "execution_count": null,
   "metadata": {
    "colab": {
     "base_uri": "https://localhost:8080/",
     "height": 419
    },
    "id": "7GKVoG6zSZrl",
    "outputId": "5fe36de1-6538-481f-fa71-dfba72ac528e"
   },
   "outputs": [
    {
     "data": {
      "text/html": [
       "<div>\n",
       "<style scoped>\n",
       "    .dataframe tbody tr th:only-of-type {\n",
       "        vertical-align: middle;\n",
       "    }\n",
       "\n",
       "    .dataframe tbody tr th {\n",
       "        vertical-align: top;\n",
       "    }\n",
       "\n",
       "    .dataframe thead th {\n",
       "        text-align: right;\n",
       "    }\n",
       "</style>\n",
       "<table border=\"1\" class=\"dataframe\">\n",
       "  <thead>\n",
       "    <tr style=\"text-align: right;\">\n",
       "      <th></th>\n",
       "      <th>brand</th>\n",
       "      <th>series</th>\n",
       "    </tr>\n",
       "  </thead>\n",
       "  <tbody>\n",
       "    <tr>\n",
       "      <th>0</th>\n",
       "      <td>HONDA</td>\n",
       "      <td>JAZZ</td>\n",
       "    </tr>\n",
       "    <tr>\n",
       "      <th>1</th>\n",
       "      <td>TOYOTA</td>\n",
       "      <td>ESTIMA</td>\n",
       "    </tr>\n",
       "    <tr>\n",
       "      <th>2</th>\n",
       "      <td>HONDA</td>\n",
       "      <td>JAZZ</td>\n",
       "    </tr>\n",
       "    <tr>\n",
       "      <th>3</th>\n",
       "      <td>FORD</td>\n",
       "      <td>RANGER</td>\n",
       "    </tr>\n",
       "    <tr>\n",
       "      <th>4</th>\n",
       "      <td>TOYOTA</td>\n",
       "      <td>SOLUNA</td>\n",
       "    </tr>\n",
       "    <tr>\n",
       "      <th>...</th>\n",
       "      <td>...</td>\n",
       "      <td>...</td>\n",
       "    </tr>\n",
       "    <tr>\n",
       "      <th>14032</th>\n",
       "      <td>HONDA</td>\n",
       "      <td>CIVIC</td>\n",
       "    </tr>\n",
       "    <tr>\n",
       "      <th>14033</th>\n",
       "      <td>TOYOTA</td>\n",
       "      <td>CAMRY</td>\n",
       "    </tr>\n",
       "    <tr>\n",
       "      <th>14034</th>\n",
       "      <td>TOYOTA</td>\n",
       "      <td>CAMRY</td>\n",
       "    </tr>\n",
       "    <tr>\n",
       "      <th>14035</th>\n",
       "      <td>HONDA</td>\n",
       "      <td>JAZZ</td>\n",
       "    </tr>\n",
       "    <tr>\n",
       "      <th>14036</th>\n",
       "      <td>HONDA</td>\n",
       "      <td>CIVIC</td>\n",
       "    </tr>\n",
       "  </tbody>\n",
       "</table>\n",
       "<p>14037 rows × 2 columns</p>\n",
       "</div>"
      ],
      "text/plain": [
       "        brand  series\n",
       "0       HONDA    JAZZ\n",
       "1      TOYOTA  ESTIMA\n",
       "2       HONDA    JAZZ\n",
       "3        FORD  RANGER\n",
       "4      TOYOTA  SOLUNA\n",
       "...       ...     ...\n",
       "14032   HONDA   CIVIC\n",
       "14033  TOYOTA   CAMRY\n",
       "14034  TOYOTA   CAMRY\n",
       "14035   HONDA    JAZZ\n",
       "14036   HONDA   CIVIC\n",
       "\n",
       "[14037 rows x 2 columns]"
      ]
     },
     "execution_count": 16,
     "metadata": {
      "tags": []
     },
     "output_type": "execute_result"
    }
   ],
   "source": [
    "df.iloc[:, 1:3]"
   ]
  },
  {
   "cell_type": "code",
   "execution_count": null,
   "metadata": {
    "colab": {
     "base_uri": "https://localhost:8080/",
     "height": 35
    },
    "id": "w6jFJnPqSdKO",
    "outputId": "3a12f2e7-5fce-4434-d825-b3bfb0a5a47c"
   },
   "outputs": [
    {
     "data": {
      "application/vnd.google.colaboratory.intrinsic+json": {
       "type": "string"
      },
      "text/plain": [
       "'TOYOTA'"
      ]
     },
     "execution_count": 17,
     "metadata": {
      "tags": []
     },
     "output_type": "execute_result"
    }
   ],
   "source": [
    "df.iloc[1, 1]"
   ]
  },
  {
   "cell_type": "code",
   "execution_count": null,
   "metadata": {
    "colab": {
     "base_uri": "https://localhost:8080/",
     "height": 35
    },
    "id": "sAtaIErxSeya",
    "outputId": "6131ef80-bebc-419a-891d-7f486da7ffdf"
   },
   "outputs": [
    {
     "data": {
      "application/vnd.google.colaboratory.intrinsic+json": {
       "type": "string"
      },
      "text/plain": [
       "'TOYOTA'"
      ]
     },
     "execution_count": 18,
     "metadata": {
      "tags": []
     },
     "output_type": "execute_result"
    }
   ],
   "source": [
    "df.iat[1, 1]"
   ]
  },
  {
   "cell_type": "markdown",
   "metadata": {
    "id": "LT_lCb9jSnCn"
   },
   "source": [
    "Label"
   ]
  },
  {
   "cell_type": "code",
   "execution_count": null,
   "metadata": {
    "colab": {
     "base_uri": "https://localhost:8080/"
    },
    "id": "Ba3rx6omSghi",
    "outputId": "c878b1ce-b4aa-48a8-9999-cc1954a977cd"
   },
   "outputs": [
    {
     "data": {
      "text/plain": [
       "id                                                            2210000\n",
       "brand                                                           HONDA\n",
       "series                                                           JAZZ\n",
       "model                                              1.5 i-VTEC SV (AS)\n",
       "gen                                                           ปี08-13\n",
       "year                                                             2014\n",
       "color                                                           สีขาว\n",
       "gear                                                      เกียร์ออโต้\n",
       "gas                                                               NaN\n",
       "sales_price                                                   488,000\n",
       "original_price                                                    NaN\n",
       "market_price                                                      NaN\n",
       "description         เครดิตดีออกรถ10,000จบครับ\\nรับประกันเครื่องเกี...\n",
       "contact_location                                             กรุงเทพฯ\n",
       "subscribers                                                      1047\n",
       "scraped_date                                               2019-05-22\n",
       "removed_date                                                      NaN\n",
       "Name: 0, dtype: object"
      ]
     },
     "execution_count": 20,
     "metadata": {
      "tags": []
     },
     "output_type": "execute_result"
    }
   ],
   "source": [
    "df.loc[0]"
   ]
  },
  {
   "cell_type": "code",
   "execution_count": null,
   "metadata": {
    "colab": {
     "base_uri": "https://localhost:8080/",
     "height": 35
    },
    "id": "dHGp55C2TBVr",
    "outputId": "4178c230-f6a0-4194-e564-102626509284"
   },
   "outputs": [
    {
     "data": {
      "application/vnd.google.colaboratory.intrinsic+json": {
       "type": "string"
      },
      "text/plain": [
       "'HONDA'"
      ]
     },
     "execution_count": 23,
     "metadata": {
      "tags": []
     },
     "output_type": "execute_result"
    }
   ],
   "source": [
    "df.loc[0, \"brand\"]"
   ]
  },
  {
   "cell_type": "code",
   "execution_count": null,
   "metadata": {
    "colab": {
     "base_uri": "https://localhost:8080/"
    },
    "id": "a8wOFikOStZ9",
    "outputId": "d99cd0ab-7792-4ca5-db7a-f17265fc99a0"
   },
   "outputs": [
    {
     "data": {
      "text/plain": [
       "0     HONDA\n",
       "1    TOYOTA\n",
       "Name: brand, dtype: object"
      ]
     },
     "execution_count": 25,
     "metadata": {
      "tags": []
     },
     "output_type": "execute_result"
    }
   ],
   "source": [
    "df.loc[[0, 1], \"brand\"]"
   ]
  },
  {
   "cell_type": "code",
   "execution_count": null,
   "metadata": {
    "colab": {
     "base_uri": "https://localhost:8080/"
    },
    "id": "wxBOJdKITHdq",
    "outputId": "27a80e15-67a6-49da-956f-aa5155dfdca2"
   },
   "outputs": [
    {
     "data": {
      "text/plain": [
       "0         HONDA\n",
       "5    VOLKSWAGEN\n",
       "Name: brand, dtype: object"
      ]
     },
     "execution_count": 26,
     "metadata": {
      "tags": []
     },
     "output_type": "execute_result"
    }
   ],
   "source": [
    "df.loc[[0, 5], \"brand\"]"
   ]
  },
  {
   "cell_type": "code",
   "execution_count": null,
   "metadata": {
    "colab": {
     "base_uri": "https://localhost:8080/",
     "height": 111
    },
    "id": "MPdV_ZgtTIso",
    "outputId": "785129ef-e555-4def-c285-ee42bd5a72fc"
   },
   "outputs": [
    {
     "data": {
      "text/html": [
       "<div>\n",
       "<style scoped>\n",
       "    .dataframe tbody tr th:only-of-type {\n",
       "        vertical-align: middle;\n",
       "    }\n",
       "\n",
       "    .dataframe tbody tr th {\n",
       "        vertical-align: top;\n",
       "    }\n",
       "\n",
       "    .dataframe thead th {\n",
       "        text-align: right;\n",
       "    }\n",
       "</style>\n",
       "<table border=\"1\" class=\"dataframe\">\n",
       "  <thead>\n",
       "    <tr style=\"text-align: right;\">\n",
       "      <th></th>\n",
       "      <th>brand</th>\n",
       "      <th>series</th>\n",
       "    </tr>\n",
       "  </thead>\n",
       "  <tbody>\n",
       "    <tr>\n",
       "      <th>0</th>\n",
       "      <td>HONDA</td>\n",
       "      <td>JAZZ</td>\n",
       "    </tr>\n",
       "    <tr>\n",
       "      <th>1</th>\n",
       "      <td>TOYOTA</td>\n",
       "      <td>ESTIMA</td>\n",
       "    </tr>\n",
       "  </tbody>\n",
       "</table>\n",
       "</div>"
      ],
      "text/plain": [
       "    brand  series\n",
       "0   HONDA    JAZZ\n",
       "1  TOYOTA  ESTIMA"
      ]
     },
     "execution_count": 27,
     "metadata": {
      "tags": []
     },
     "output_type": "execute_result"
    }
   ],
   "source": [
    "df.loc[[0, 1], [\"brand\", \"series\"]]"
   ]
  },
  {
   "cell_type": "markdown",
   "metadata": {
    "id": "DgBl5PAMTNzV"
   },
   "source": [
    "## 5. Slicing"
   ]
  },
  {
   "cell_type": "code",
   "execution_count": null,
   "metadata": {
    "colab": {
     "base_uri": "https://localhost:8080/",
     "height": 544
    },
    "id": "p0zdYk3NS1Yv",
    "outputId": "392614ab-45d8-4fc8-d009-a87371a09143"
   },
   "outputs": [
    {
     "data": {
      "text/html": [
       "<div>\n",
       "<style scoped>\n",
       "    .dataframe tbody tr th:only-of-type {\n",
       "        vertical-align: middle;\n",
       "    }\n",
       "\n",
       "    .dataframe tbody tr th {\n",
       "        vertical-align: top;\n",
       "    }\n",
       "\n",
       "    .dataframe thead th {\n",
       "        text-align: right;\n",
       "    }\n",
       "</style>\n",
       "<table border=\"1\" class=\"dataframe\">\n",
       "  <thead>\n",
       "    <tr style=\"text-align: right;\">\n",
       "      <th></th>\n",
       "      <th>id</th>\n",
       "      <th>brand</th>\n",
       "      <th>series</th>\n",
       "      <th>model</th>\n",
       "      <th>gen</th>\n",
       "      <th>year</th>\n",
       "      <th>color</th>\n",
       "      <th>gear</th>\n",
       "      <th>gas</th>\n",
       "      <th>sales_price</th>\n",
       "      <th>original_price</th>\n",
       "      <th>market_price</th>\n",
       "      <th>description</th>\n",
       "      <th>contact_location</th>\n",
       "      <th>subscribers</th>\n",
       "      <th>scraped_date</th>\n",
       "      <th>removed_date</th>\n",
       "    </tr>\n",
       "  </thead>\n",
       "  <tbody>\n",
       "    <tr>\n",
       "      <th>0</th>\n",
       "      <td>2210000</td>\n",
       "      <td>HONDA</td>\n",
       "      <td>JAZZ</td>\n",
       "      <td>1.5 i-VTEC SV (AS)</td>\n",
       "      <td>ปี08-13</td>\n",
       "      <td>2014.0</td>\n",
       "      <td>สีขาว</td>\n",
       "      <td>เกียร์ออโต้</td>\n",
       "      <td>NaN</td>\n",
       "      <td>488,000</td>\n",
       "      <td>NaN</td>\n",
       "      <td>NaN</td>\n",
       "      <td>เครดิตดีออกรถ10,000จบครับ\\nรับประกันเครื่องเกี...</td>\n",
       "      <td>กรุงเทพฯ</td>\n",
       "      <td>1047.0</td>\n",
       "      <td>2019-05-22</td>\n",
       "      <td>NaN</td>\n",
       "    </tr>\n",
       "    <tr>\n",
       "      <th>1</th>\n",
       "      <td>2210001</td>\n",
       "      <td>TOYOTA</td>\n",
       "      <td>ESTIMA</td>\n",
       "      <td>2.4 G HYBRID</td>\n",
       "      <td>ปี10-ปัจจุบัน</td>\n",
       "      <td>2013.0</td>\n",
       "      <td>สีขาว</td>\n",
       "      <td>เกียร์ออโต้</td>\n",
       "      <td>NaN</td>\n",
       "      <td>1,677,000</td>\n",
       "      <td>NaN</td>\n",
       "      <td>3,050,000</td>\n",
       "      <td>TOPสุด Estima Aeras Hybrid รถเข้าเซอร์วิส TOYO...</td>\n",
       "      <td>กรุงเทพฯ</td>\n",
       "      <td>182.0</td>\n",
       "      <td>2019-05-22</td>\n",
       "      <td>NaN</td>\n",
       "    </tr>\n",
       "    <tr>\n",
       "      <th>2</th>\n",
       "      <td>2210009</td>\n",
       "      <td>HONDA</td>\n",
       "      <td>JAZZ</td>\n",
       "      <td>1.5 i-VTEC V (AS)</td>\n",
       "      <td>ปี08-13</td>\n",
       "      <td>2008.0</td>\n",
       "      <td>สีน้ำเงิน</td>\n",
       "      <td>เกียร์ออโต้</td>\n",
       "      <td>NaN</td>\n",
       "      <td>338,000</td>\n",
       "      <td>NaN</td>\n",
       "      <td>NaN</td>\n",
       "      <td>เครดิดีออกรถ10,000จบครับ\\nรับประกันเครื่องเกีย...</td>\n",
       "      <td>กรุงเทพฯ</td>\n",
       "      <td>1047.0</td>\n",
       "      <td>2019-05-22</td>\n",
       "      <td>NaN</td>\n",
       "    </tr>\n",
       "    <tr>\n",
       "      <th>3</th>\n",
       "      <td>2210012</td>\n",
       "      <td>FORD</td>\n",
       "      <td>RANGER</td>\n",
       "      <td>2.2 WILDTRAK DBL CAB HI-RIDER</td>\n",
       "      <td>DOUBLECAB</td>\n",
       "      <td>2016.0</td>\n",
       "      <td>สีขาว</td>\n",
       "      <td>เกียร์ออโต้</td>\n",
       "      <td>NaN</td>\n",
       "      <td>689,000</td>\n",
       "      <td>NaN</td>\n",
       "      <td>849,000</td>\n",
       "      <td>รับรองสภาพ ไม่มีชน มือเดียว พาช่างมาตรวจสภาพรถ...</td>\n",
       "      <td>กรุงเทพฯ</td>\n",
       "      <td>760.0</td>\n",
       "      <td>2019-05-22</td>\n",
       "      <td>NaN</td>\n",
       "    </tr>\n",
       "    <tr>\n",
       "      <th>4</th>\n",
       "      <td>2210016</td>\n",
       "      <td>TOYOTA</td>\n",
       "      <td>SOLUNA</td>\n",
       "      <td>VIOS 1.5 E (ABS+AB)</td>\n",
       "      <td>VIOS ปี13-ปัจจุบัน</td>\n",
       "      <td>2015.0</td>\n",
       "      <td>สีบรอนซ์เงิน</td>\n",
       "      <td>เกียร์ออโต้</td>\n",
       "      <td>NaN</td>\n",
       "      <td>359,000</td>\n",
       "      <td>NaN</td>\n",
       "      <td>649,000</td>\n",
       "      <td>ไมล์แท้ 99,xxx TOYOTA SOLUNA VIOS 1.5E\\nTOYOTA...</td>\n",
       "      <td>กรุงเทพฯ</td>\n",
       "      <td>699.0</td>\n",
       "      <td>2019-05-22</td>\n",
       "      <td>NaN</td>\n",
       "    </tr>\n",
       "    <tr>\n",
       "      <th>5</th>\n",
       "      <td>2210017</td>\n",
       "      <td>VOLKSWAGEN</td>\n",
       "      <td>GOLF</td>\n",
       "      <td>2.0 GTI</td>\n",
       "      <td>ปี13-15</td>\n",
       "      <td>2013.0</td>\n",
       "      <td>สีขาว</td>\n",
       "      <td>เกียร์ออโต้</td>\n",
       "      <td>NaN</td>\n",
       "      <td>1,190,000</td>\n",
       "      <td>NaN</td>\n",
       "      <td>NaN</td>\n",
       "      <td>แต่งไปครึ่งล้าน !!!\\nVw golf gti mk6 2013(7xxx...</td>\n",
       "      <td>กรุงเทพฯ</td>\n",
       "      <td>57.0</td>\n",
       "      <td>2019-05-22</td>\n",
       "      <td>NaN</td>\n",
       "    </tr>\n",
       "  </tbody>\n",
       "</table>\n",
       "</div>"
      ],
      "text/plain": [
       "        id       brand  series  ... subscribers scraped_date  removed_date\n",
       "0  2210000       HONDA    JAZZ  ...      1047.0   2019-05-22           NaN\n",
       "1  2210001      TOYOTA  ESTIMA  ...       182.0   2019-05-22           NaN\n",
       "2  2210009       HONDA    JAZZ  ...      1047.0   2019-05-22           NaN\n",
       "3  2210012        FORD  RANGER  ...       760.0   2019-05-22           NaN\n",
       "4  2210016      TOYOTA  SOLUNA  ...       699.0   2019-05-22           NaN\n",
       "5  2210017  VOLKSWAGEN    GOLF  ...        57.0   2019-05-22           NaN\n",
       "\n",
       "[6 rows x 17 columns]"
      ]
     },
     "execution_count": 28,
     "metadata": {
      "tags": []
     },
     "output_type": "execute_result"
    }
   ],
   "source": [
    "df.loc[0:5]"
   ]
  },
  {
   "cell_type": "code",
   "execution_count": null,
   "metadata": {
    "colab": {
     "base_uri": "https://localhost:8080/",
     "height": 235
    },
    "id": "fePQBfJnS4Kh",
    "outputId": "50c2f792-32a2-430a-ba70-25985cec8d4f"
   },
   "outputs": [
    {
     "data": {
      "text/html": [
       "<div>\n",
       "<style scoped>\n",
       "    .dataframe tbody tr th:only-of-type {\n",
       "        vertical-align: middle;\n",
       "    }\n",
       "\n",
       "    .dataframe tbody tr th {\n",
       "        vertical-align: top;\n",
       "    }\n",
       "\n",
       "    .dataframe thead th {\n",
       "        text-align: right;\n",
       "    }\n",
       "</style>\n",
       "<table border=\"1\" class=\"dataframe\">\n",
       "  <thead>\n",
       "    <tr style=\"text-align: right;\">\n",
       "      <th></th>\n",
       "      <th>model</th>\n",
       "    </tr>\n",
       "  </thead>\n",
       "  <tbody>\n",
       "    <tr>\n",
       "      <th>0</th>\n",
       "      <td>1.5 i-VTEC SV (AS)</td>\n",
       "    </tr>\n",
       "    <tr>\n",
       "      <th>1</th>\n",
       "      <td>2.4 G HYBRID</td>\n",
       "    </tr>\n",
       "    <tr>\n",
       "      <th>2</th>\n",
       "      <td>1.5 i-VTEC V (AS)</td>\n",
       "    </tr>\n",
       "    <tr>\n",
       "      <th>3</th>\n",
       "      <td>2.2 WILDTRAK DBL CAB HI-RIDER</td>\n",
       "    </tr>\n",
       "    <tr>\n",
       "      <th>4</th>\n",
       "      <td>VIOS 1.5 E (ABS+AB)</td>\n",
       "    </tr>\n",
       "    <tr>\n",
       "      <th>5</th>\n",
       "      <td>2.0 GTI</td>\n",
       "    </tr>\n",
       "  </tbody>\n",
       "</table>\n",
       "</div>"
      ],
      "text/plain": [
       "                           model\n",
       "0             1.5 i-VTEC SV (AS)\n",
       "1                   2.4 G HYBRID\n",
       "2              1.5 i-VTEC V (AS)\n",
       "3  2.2 WILDTRAK DBL CAB HI-RIDER\n",
       "4            VIOS 1.5 E (ABS+AB)\n",
       "5                        2.0 GTI"
      ]
     },
     "execution_count": 29,
     "metadata": {
      "tags": []
     },
     "output_type": "execute_result"
    }
   ],
   "source": [
    "df.loc[0:5, ['model']]"
   ]
  },
  {
   "cell_type": "code",
   "execution_count": null,
   "metadata": {
    "colab": {
     "base_uri": "https://localhost:8080/",
     "height": 235
    },
    "id": "IPi6AFeKTUiH",
    "outputId": "96214c7c-14bf-4ea3-8be7-8b9cd5c22b56"
   },
   "outputs": [
    {
     "data": {
      "text/html": [
       "<div>\n",
       "<style scoped>\n",
       "    .dataframe tbody tr th:only-of-type {\n",
       "        vertical-align: middle;\n",
       "    }\n",
       "\n",
       "    .dataframe tbody tr th {\n",
       "        vertical-align: top;\n",
       "    }\n",
       "\n",
       "    .dataframe thead th {\n",
       "        text-align: right;\n",
       "    }\n",
       "</style>\n",
       "<table border=\"1\" class=\"dataframe\">\n",
       "  <thead>\n",
       "    <tr style=\"text-align: right;\">\n",
       "      <th></th>\n",
       "      <th>brand</th>\n",
       "      <th>series</th>\n",
       "      <th>model</th>\n",
       "    </tr>\n",
       "  </thead>\n",
       "  <tbody>\n",
       "    <tr>\n",
       "      <th>0</th>\n",
       "      <td>HONDA</td>\n",
       "      <td>JAZZ</td>\n",
       "      <td>1.5 i-VTEC SV (AS)</td>\n",
       "    </tr>\n",
       "    <tr>\n",
       "      <th>1</th>\n",
       "      <td>TOYOTA</td>\n",
       "      <td>ESTIMA</td>\n",
       "      <td>2.4 G HYBRID</td>\n",
       "    </tr>\n",
       "    <tr>\n",
       "      <th>2</th>\n",
       "      <td>HONDA</td>\n",
       "      <td>JAZZ</td>\n",
       "      <td>1.5 i-VTEC V (AS)</td>\n",
       "    </tr>\n",
       "    <tr>\n",
       "      <th>3</th>\n",
       "      <td>FORD</td>\n",
       "      <td>RANGER</td>\n",
       "      <td>2.2 WILDTRAK DBL CAB HI-RIDER</td>\n",
       "    </tr>\n",
       "    <tr>\n",
       "      <th>4</th>\n",
       "      <td>TOYOTA</td>\n",
       "      <td>SOLUNA</td>\n",
       "      <td>VIOS 1.5 E (ABS+AB)</td>\n",
       "    </tr>\n",
       "    <tr>\n",
       "      <th>5</th>\n",
       "      <td>VOLKSWAGEN</td>\n",
       "      <td>GOLF</td>\n",
       "      <td>2.0 GTI</td>\n",
       "    </tr>\n",
       "  </tbody>\n",
       "</table>\n",
       "</div>"
      ],
      "text/plain": [
       "        brand  series                          model\n",
       "0       HONDA    JAZZ             1.5 i-VTEC SV (AS)\n",
       "1      TOYOTA  ESTIMA                   2.4 G HYBRID\n",
       "2       HONDA    JAZZ              1.5 i-VTEC V (AS)\n",
       "3        FORD  RANGER  2.2 WILDTRAK DBL CAB HI-RIDER\n",
       "4      TOYOTA  SOLUNA            VIOS 1.5 E (ABS+AB)\n",
       "5  VOLKSWAGEN    GOLF                        2.0 GTI"
      ]
     },
     "execution_count": 30,
     "metadata": {
      "tags": []
     },
     "output_type": "execute_result"
    }
   ],
   "source": [
    "df.loc[0:5, 'brand':'model']"
   ]
  },
  {
   "cell_type": "code",
   "execution_count": null,
   "metadata": {
    "colab": {
     "base_uri": "https://localhost:8080/",
     "height": 307
    },
    "id": "4Bs3Z2R8TYkm",
    "outputId": "9ee49f62-6429-4900-ab25-aaea9d7f1dd2"
   },
   "outputs": [
    {
     "ename": "TypeError",
     "evalue": "ignored",
     "output_type": "error",
     "traceback": [
      "\u001b[0;31m---------------------------------------------------------------------------\u001b[0m",
      "\u001b[0;31mTypeError\u001b[0m                                 Traceback (most recent call last)",
      "\u001b[0;32m<ipython-input-31-843a684d5a93>\u001b[0m in \u001b[0;36m<module>\u001b[0;34m()\u001b[0m\n\u001b[0;32m----> 1\u001b[0;31m \u001b[0mdf\u001b[0m\u001b[0;34m.\u001b[0m\u001b[0miloc\u001b[0m\u001b[0;34m[\u001b[0m\u001b[0;36m0\u001b[0m\u001b[0;34m:\u001b[0m\u001b[0;36m5\u001b[0m\u001b[0;34m,\u001b[0m \u001b[0;34m'brand'\u001b[0m\u001b[0;34m:\u001b[0m\u001b[0;34m'model'\u001b[0m\u001b[0;34m]\u001b[0m\u001b[0;34m\u001b[0m\u001b[0;34m\u001b[0m\u001b[0m\n\u001b[0m",
      "\u001b[0;32m/usr/local/lib/python3.7/dist-packages/pandas/core/indexing.py\u001b[0m in \u001b[0;36m__getitem__\u001b[0;34m(self, key)\u001b[0m\n\u001b[1;32m    871\u001b[0m                     \u001b[0;31m# AttributeError for IntervalTree get_value\u001b[0m\u001b[0;34m\u001b[0m\u001b[0;34m\u001b[0m\u001b[0;34m\u001b[0m\u001b[0m\n\u001b[1;32m    872\u001b[0m                     \u001b[0;32mpass\u001b[0m\u001b[0;34m\u001b[0m\u001b[0;34m\u001b[0m\u001b[0m\n\u001b[0;32m--> 873\u001b[0;31m             \u001b[0;32mreturn\u001b[0m \u001b[0mself\u001b[0m\u001b[0;34m.\u001b[0m\u001b[0m_getitem_tuple\u001b[0m\u001b[0;34m(\u001b[0m\u001b[0mkey\u001b[0m\u001b[0;34m)\u001b[0m\u001b[0;34m\u001b[0m\u001b[0;34m\u001b[0m\u001b[0m\n\u001b[0m\u001b[1;32m    874\u001b[0m         \u001b[0;32melse\u001b[0m\u001b[0;34m:\u001b[0m\u001b[0;34m\u001b[0m\u001b[0;34m\u001b[0m\u001b[0m\n\u001b[1;32m    875\u001b[0m             \u001b[0;31m# we by definition only have the 0th axis\u001b[0m\u001b[0;34m\u001b[0m\u001b[0;34m\u001b[0m\u001b[0;34m\u001b[0m\u001b[0m\n",
      "\u001b[0;32m/usr/local/lib/python3.7/dist-packages/pandas/core/indexing.py\u001b[0m in \u001b[0;36m_getitem_tuple\u001b[0;34m(self, tup)\u001b[0m\n\u001b[1;32m   1447\u001b[0m             \u001b[0;32mpass\u001b[0m\u001b[0;34m\u001b[0m\u001b[0;34m\u001b[0m\u001b[0m\n\u001b[1;32m   1448\u001b[0m \u001b[0;34m\u001b[0m\u001b[0m\n\u001b[0;32m-> 1449\u001b[0;31m         \u001b[0;32mreturn\u001b[0m \u001b[0mself\u001b[0m\u001b[0;34m.\u001b[0m\u001b[0m_getitem_tuple_same_dim\u001b[0m\u001b[0;34m(\u001b[0m\u001b[0mtup\u001b[0m\u001b[0;34m)\u001b[0m\u001b[0;34m\u001b[0m\u001b[0;34m\u001b[0m\u001b[0m\n\u001b[0m\u001b[1;32m   1450\u001b[0m \u001b[0;34m\u001b[0m\u001b[0m\n\u001b[1;32m   1451\u001b[0m     \u001b[0;32mdef\u001b[0m \u001b[0m_get_list_axis\u001b[0m\u001b[0;34m(\u001b[0m\u001b[0mself\u001b[0m\u001b[0;34m,\u001b[0m \u001b[0mkey\u001b[0m\u001b[0;34m,\u001b[0m \u001b[0maxis\u001b[0m\u001b[0;34m:\u001b[0m \u001b[0mint\u001b[0m\u001b[0;34m)\u001b[0m\u001b[0;34m:\u001b[0m\u001b[0;34m\u001b[0m\u001b[0;34m\u001b[0m\u001b[0m\n",
      "\u001b[0;32m/usr/local/lib/python3.7/dist-packages/pandas/core/indexing.py\u001b[0m in \u001b[0;36m_getitem_tuple_same_dim\u001b[0;34m(self, tup)\u001b[0m\n\u001b[1;32m    748\u001b[0m                 \u001b[0;32mcontinue\u001b[0m\u001b[0;34m\u001b[0m\u001b[0;34m\u001b[0m\u001b[0m\n\u001b[1;32m    749\u001b[0m \u001b[0;34m\u001b[0m\u001b[0m\n\u001b[0;32m--> 750\u001b[0;31m             \u001b[0mretval\u001b[0m \u001b[0;34m=\u001b[0m \u001b[0mgetattr\u001b[0m\u001b[0;34m(\u001b[0m\u001b[0mretval\u001b[0m\u001b[0;34m,\u001b[0m \u001b[0mself\u001b[0m\u001b[0;34m.\u001b[0m\u001b[0mname\u001b[0m\u001b[0;34m)\u001b[0m\u001b[0;34m.\u001b[0m\u001b[0m_getitem_axis\u001b[0m\u001b[0;34m(\u001b[0m\u001b[0mkey\u001b[0m\u001b[0;34m,\u001b[0m \u001b[0maxis\u001b[0m\u001b[0;34m=\u001b[0m\u001b[0mi\u001b[0m\u001b[0;34m)\u001b[0m\u001b[0;34m\u001b[0m\u001b[0;34m\u001b[0m\u001b[0m\n\u001b[0m\u001b[1;32m    751\u001b[0m             \u001b[0;31m# We should never have retval.ndim < self.ndim, as that should\u001b[0m\u001b[0;34m\u001b[0m\u001b[0;34m\u001b[0m\u001b[0;34m\u001b[0m\u001b[0m\n\u001b[1;32m    752\u001b[0m             \u001b[0;31m#  be handled by the _getitem_lowerdim call above.\u001b[0m\u001b[0;34m\u001b[0m\u001b[0;34m\u001b[0m\u001b[0;34m\u001b[0m\u001b[0m\n",
      "\u001b[0;32m/usr/local/lib/python3.7/dist-packages/pandas/core/indexing.py\u001b[0m in \u001b[0;36m_getitem_axis\u001b[0;34m(self, key, axis)\u001b[0m\n\u001b[1;32m   1474\u001b[0m     \u001b[0;32mdef\u001b[0m \u001b[0m_getitem_axis\u001b[0m\u001b[0;34m(\u001b[0m\u001b[0mself\u001b[0m\u001b[0;34m,\u001b[0m \u001b[0mkey\u001b[0m\u001b[0;34m,\u001b[0m \u001b[0maxis\u001b[0m\u001b[0;34m:\u001b[0m \u001b[0mint\u001b[0m\u001b[0;34m)\u001b[0m\u001b[0;34m:\u001b[0m\u001b[0;34m\u001b[0m\u001b[0;34m\u001b[0m\u001b[0m\n\u001b[1;32m   1475\u001b[0m         \u001b[0;32mif\u001b[0m \u001b[0misinstance\u001b[0m\u001b[0;34m(\u001b[0m\u001b[0mkey\u001b[0m\u001b[0;34m,\u001b[0m \u001b[0mslice\u001b[0m\u001b[0;34m)\u001b[0m\u001b[0;34m:\u001b[0m\u001b[0;34m\u001b[0m\u001b[0;34m\u001b[0m\u001b[0m\n\u001b[0;32m-> 1476\u001b[0;31m             \u001b[0;32mreturn\u001b[0m \u001b[0mself\u001b[0m\u001b[0;34m.\u001b[0m\u001b[0m_get_slice_axis\u001b[0m\u001b[0;34m(\u001b[0m\u001b[0mkey\u001b[0m\u001b[0;34m,\u001b[0m \u001b[0maxis\u001b[0m\u001b[0;34m=\u001b[0m\u001b[0maxis\u001b[0m\u001b[0;34m)\u001b[0m\u001b[0;34m\u001b[0m\u001b[0;34m\u001b[0m\u001b[0m\n\u001b[0m\u001b[1;32m   1477\u001b[0m \u001b[0;34m\u001b[0m\u001b[0m\n\u001b[1;32m   1478\u001b[0m         \u001b[0;32mif\u001b[0m \u001b[0misinstance\u001b[0m\u001b[0;34m(\u001b[0m\u001b[0mkey\u001b[0m\u001b[0;34m,\u001b[0m \u001b[0mlist\u001b[0m\u001b[0;34m)\u001b[0m\u001b[0;34m:\u001b[0m\u001b[0;34m\u001b[0m\u001b[0;34m\u001b[0m\u001b[0m\n",
      "\u001b[0;32m/usr/local/lib/python3.7/dist-packages/pandas/core/indexing.py\u001b[0m in \u001b[0;36m_get_slice_axis\u001b[0;34m(self, slice_obj, axis)\u001b[0m\n\u001b[1;32m   1506\u001b[0m \u001b[0;34m\u001b[0m\u001b[0m\n\u001b[1;32m   1507\u001b[0m         \u001b[0mlabels\u001b[0m \u001b[0;34m=\u001b[0m \u001b[0mobj\u001b[0m\u001b[0;34m.\u001b[0m\u001b[0m_get_axis\u001b[0m\u001b[0;34m(\u001b[0m\u001b[0maxis\u001b[0m\u001b[0;34m)\u001b[0m\u001b[0;34m\u001b[0m\u001b[0;34m\u001b[0m\u001b[0m\n\u001b[0;32m-> 1508\u001b[0;31m         \u001b[0mlabels\u001b[0m\u001b[0;34m.\u001b[0m\u001b[0m_validate_positional_slice\u001b[0m\u001b[0;34m(\u001b[0m\u001b[0mslice_obj\u001b[0m\u001b[0;34m)\u001b[0m\u001b[0;34m\u001b[0m\u001b[0;34m\u001b[0m\u001b[0m\n\u001b[0m\u001b[1;32m   1509\u001b[0m         \u001b[0;32mreturn\u001b[0m \u001b[0mself\u001b[0m\u001b[0;34m.\u001b[0m\u001b[0mobj\u001b[0m\u001b[0;34m.\u001b[0m\u001b[0m_slice\u001b[0m\u001b[0;34m(\u001b[0m\u001b[0mslice_obj\u001b[0m\u001b[0;34m,\u001b[0m \u001b[0maxis\u001b[0m\u001b[0;34m=\u001b[0m\u001b[0maxis\u001b[0m\u001b[0;34m)\u001b[0m\u001b[0;34m\u001b[0m\u001b[0;34m\u001b[0m\u001b[0m\n\u001b[1;32m   1510\u001b[0m \u001b[0;34m\u001b[0m\u001b[0m\n",
      "\u001b[0;32m/usr/local/lib/python3.7/dist-packages/pandas/core/indexes/base.py\u001b[0m in \u001b[0;36m_validate_positional_slice\u001b[0;34m(self, key)\u001b[0m\n\u001b[1;32m   3121\u001b[0m         \u001b[0;32mfor\u001b[0m \u001b[0meach\u001b[0m \u001b[0mof\u001b[0m \u001b[0mstart\u001b[0m\u001b[0;34m,\u001b[0m \u001b[0mstop\u001b[0m\u001b[0;34m,\u001b[0m \u001b[0;32mand\u001b[0m \u001b[0mstep\u001b[0m\u001b[0;34m.\u001b[0m\u001b[0;34m\u001b[0m\u001b[0;34m\u001b[0m\u001b[0m\n\u001b[1;32m   3122\u001b[0m         \"\"\"\n\u001b[0;32m-> 3123\u001b[0;31m         \u001b[0mself\u001b[0m\u001b[0;34m.\u001b[0m\u001b[0m_validate_indexer\u001b[0m\u001b[0;34m(\u001b[0m\u001b[0;34m\"positional\"\u001b[0m\u001b[0;34m,\u001b[0m \u001b[0mkey\u001b[0m\u001b[0;34m.\u001b[0m\u001b[0mstart\u001b[0m\u001b[0;34m,\u001b[0m \u001b[0;34m\"iloc\"\u001b[0m\u001b[0;34m)\u001b[0m\u001b[0;34m\u001b[0m\u001b[0;34m\u001b[0m\u001b[0m\n\u001b[0m\u001b[1;32m   3124\u001b[0m         \u001b[0mself\u001b[0m\u001b[0;34m.\u001b[0m\u001b[0m_validate_indexer\u001b[0m\u001b[0;34m(\u001b[0m\u001b[0;34m\"positional\"\u001b[0m\u001b[0;34m,\u001b[0m \u001b[0mkey\u001b[0m\u001b[0;34m.\u001b[0m\u001b[0mstop\u001b[0m\u001b[0;34m,\u001b[0m \u001b[0;34m\"iloc\"\u001b[0m\u001b[0;34m)\u001b[0m\u001b[0;34m\u001b[0m\u001b[0;34m\u001b[0m\u001b[0m\n\u001b[1;32m   3125\u001b[0m         \u001b[0mself\u001b[0m\u001b[0;34m.\u001b[0m\u001b[0m_validate_indexer\u001b[0m\u001b[0;34m(\u001b[0m\u001b[0;34m\"positional\"\u001b[0m\u001b[0;34m,\u001b[0m \u001b[0mkey\u001b[0m\u001b[0;34m.\u001b[0m\u001b[0mstep\u001b[0m\u001b[0;34m,\u001b[0m \u001b[0;34m\"iloc\"\u001b[0m\u001b[0;34m)\u001b[0m\u001b[0;34m\u001b[0m\u001b[0;34m\u001b[0m\u001b[0m\n",
      "\u001b[0;32m/usr/local/lib/python3.7/dist-packages/pandas/core/indexes/base.py\u001b[0m in \u001b[0;36m_validate_indexer\u001b[0;34m(self, form, key, kind)\u001b[0m\n\u001b[1;32m   4998\u001b[0m             \u001b[0;32mpass\u001b[0m\u001b[0;34m\u001b[0m\u001b[0;34m\u001b[0m\u001b[0m\n\u001b[1;32m   4999\u001b[0m         \u001b[0;32melse\u001b[0m\u001b[0;34m:\u001b[0m\u001b[0;34m\u001b[0m\u001b[0;34m\u001b[0m\u001b[0m\n\u001b[0;32m-> 5000\u001b[0;31m             \u001b[0mself\u001b[0m\u001b[0;34m.\u001b[0m\u001b[0m_invalid_indexer\u001b[0m\u001b[0;34m(\u001b[0m\u001b[0mform\u001b[0m\u001b[0;34m,\u001b[0m \u001b[0mkey\u001b[0m\u001b[0;34m)\u001b[0m\u001b[0;34m\u001b[0m\u001b[0;34m\u001b[0m\u001b[0m\n\u001b[0m\u001b[1;32m   5001\u001b[0m \u001b[0;34m\u001b[0m\u001b[0m\n\u001b[1;32m   5002\u001b[0m     \u001b[0;32mdef\u001b[0m \u001b[0m_maybe_cast_slice_bound\u001b[0m\u001b[0;34m(\u001b[0m\u001b[0mself\u001b[0m\u001b[0;34m,\u001b[0m \u001b[0mlabel\u001b[0m\u001b[0;34m,\u001b[0m \u001b[0mside\u001b[0m\u001b[0;34m:\u001b[0m \u001b[0mstr_t\u001b[0m\u001b[0;34m,\u001b[0m \u001b[0mkind\u001b[0m\u001b[0;34m)\u001b[0m\u001b[0;34m:\u001b[0m\u001b[0;34m\u001b[0m\u001b[0;34m\u001b[0m\u001b[0m\n",
      "\u001b[0;32m/usr/local/lib/python3.7/dist-packages/pandas/core/indexes/base.py\u001b[0m in \u001b[0;36m_invalid_indexer\u001b[0;34m(self, form, key)\u001b[0m\n\u001b[1;32m   3269\u001b[0m         \"\"\"\n\u001b[1;32m   3270\u001b[0m         raise TypeError(\n\u001b[0;32m-> 3271\u001b[0;31m             \u001b[0;34mf\"cannot do {form} indexing on {type(self).__name__} with these \"\u001b[0m\u001b[0;34m\u001b[0m\u001b[0;34m\u001b[0m\u001b[0m\n\u001b[0m\u001b[1;32m   3272\u001b[0m             \u001b[0;34mf\"indexers [{key}] of type {type(key).__name__}\"\u001b[0m\u001b[0;34m\u001b[0m\u001b[0;34m\u001b[0m\u001b[0m\n\u001b[1;32m   3273\u001b[0m         )\n",
      "\u001b[0;31mTypeError\u001b[0m: cannot do positional indexing on Index with these indexers [brand] of type str"
     ]
    }
   ],
   "source": [
    "df.iloc[0:5, 'brand':'model']"
   ]
  },
  {
   "cell_type": "code",
   "execution_count": null,
   "metadata": {
    "colab": {
     "base_uri": "https://localhost:8080/",
     "height": 204
    },
    "id": "KpPZUjsuTbZ8",
    "outputId": "b766f04d-a0b1-4b00-cbde-f1f2bbb6be2a"
   },
   "outputs": [
    {
     "data": {
      "text/html": [
       "<div>\n",
       "<style scoped>\n",
       "    .dataframe tbody tr th:only-of-type {\n",
       "        vertical-align: middle;\n",
       "    }\n",
       "\n",
       "    .dataframe tbody tr th {\n",
       "        vertical-align: top;\n",
       "    }\n",
       "\n",
       "    .dataframe thead th {\n",
       "        text-align: right;\n",
       "    }\n",
       "</style>\n",
       "<table border=\"1\" class=\"dataframe\">\n",
       "  <thead>\n",
       "    <tr style=\"text-align: right;\">\n",
       "      <th></th>\n",
       "      <th>brand</th>\n",
       "      <th>series</th>\n",
       "      <th>model</th>\n",
       "    </tr>\n",
       "  </thead>\n",
       "  <tbody>\n",
       "    <tr>\n",
       "      <th>0</th>\n",
       "      <td>HONDA</td>\n",
       "      <td>JAZZ</td>\n",
       "      <td>1.5 i-VTEC SV (AS)</td>\n",
       "    </tr>\n",
       "    <tr>\n",
       "      <th>1</th>\n",
       "      <td>TOYOTA</td>\n",
       "      <td>ESTIMA</td>\n",
       "      <td>2.4 G HYBRID</td>\n",
       "    </tr>\n",
       "    <tr>\n",
       "      <th>2</th>\n",
       "      <td>HONDA</td>\n",
       "      <td>JAZZ</td>\n",
       "      <td>1.5 i-VTEC V (AS)</td>\n",
       "    </tr>\n",
       "    <tr>\n",
       "      <th>3</th>\n",
       "      <td>FORD</td>\n",
       "      <td>RANGER</td>\n",
       "      <td>2.2 WILDTRAK DBL CAB HI-RIDER</td>\n",
       "    </tr>\n",
       "    <tr>\n",
       "      <th>4</th>\n",
       "      <td>TOYOTA</td>\n",
       "      <td>SOLUNA</td>\n",
       "      <td>VIOS 1.5 E (ABS+AB)</td>\n",
       "    </tr>\n",
       "  </tbody>\n",
       "</table>\n",
       "</div>"
      ],
      "text/plain": [
       "    brand  series                          model\n",
       "0   HONDA    JAZZ             1.5 i-VTEC SV (AS)\n",
       "1  TOYOTA  ESTIMA                   2.4 G HYBRID\n",
       "2   HONDA    JAZZ              1.5 i-VTEC V (AS)\n",
       "3    FORD  RANGER  2.2 WILDTRAK DBL CAB HI-RIDER\n",
       "4  TOYOTA  SOLUNA            VIOS 1.5 E (ABS+AB)"
      ]
     },
     "execution_count": 32,
     "metadata": {
      "tags": []
     },
     "output_type": "execute_result"
    }
   ],
   "source": [
    "df.iloc[0:5, 1:4]"
   ]
  },
  {
   "cell_type": "markdown",
   "metadata": {
    "id": "Rjfc5D7EUPyx"
   },
   "source": [
    "## 6. Analyze data"
   ]
  },
  {
   "cell_type": "code",
   "execution_count": null,
   "metadata": {
    "id": "LbZA9yoeUcoY"
   },
   "outputs": [],
   "source": [
    "iris = pd.read_csv('https://gist.githubusercontent.com/curran/a08a1080b88344b0c8a7/raw/0e7a9b0a5d22642a06d3d5b9bcbad9890c8ee534/iris.csv')"
   ]
  },
  {
   "cell_type": "code",
   "execution_count": null,
   "metadata": {
    "colab": {
     "base_uri": "https://localhost:8080/",
     "height": 204
    },
    "id": "Ojq9oCM5bKv_",
    "outputId": "d1ed6e8b-6aed-447b-b8bd-7cc9becb5266"
   },
   "outputs": [
    {
     "data": {
      "text/html": [
       "<div>\n",
       "<style scoped>\n",
       "    .dataframe tbody tr th:only-of-type {\n",
       "        vertical-align: middle;\n",
       "    }\n",
       "\n",
       "    .dataframe tbody tr th {\n",
       "        vertical-align: top;\n",
       "    }\n",
       "\n",
       "    .dataframe thead th {\n",
       "        text-align: right;\n",
       "    }\n",
       "</style>\n",
       "<table border=\"1\" class=\"dataframe\">\n",
       "  <thead>\n",
       "    <tr style=\"text-align: right;\">\n",
       "      <th></th>\n",
       "      <th>sepal_length</th>\n",
       "      <th>sepal_width</th>\n",
       "      <th>petal_length</th>\n",
       "      <th>petal_width</th>\n",
       "      <th>species</th>\n",
       "    </tr>\n",
       "  </thead>\n",
       "  <tbody>\n",
       "    <tr>\n",
       "      <th>0</th>\n",
       "      <td>5.1</td>\n",
       "      <td>3.5</td>\n",
       "      <td>1.4</td>\n",
       "      <td>0.2</td>\n",
       "      <td>setosa</td>\n",
       "    </tr>\n",
       "    <tr>\n",
       "      <th>1</th>\n",
       "      <td>4.9</td>\n",
       "      <td>3.0</td>\n",
       "      <td>1.4</td>\n",
       "      <td>0.2</td>\n",
       "      <td>setosa</td>\n",
       "    </tr>\n",
       "    <tr>\n",
       "      <th>2</th>\n",
       "      <td>4.7</td>\n",
       "      <td>3.2</td>\n",
       "      <td>1.3</td>\n",
       "      <td>0.2</td>\n",
       "      <td>setosa</td>\n",
       "    </tr>\n",
       "    <tr>\n",
       "      <th>3</th>\n",
       "      <td>4.6</td>\n",
       "      <td>3.1</td>\n",
       "      <td>1.5</td>\n",
       "      <td>0.2</td>\n",
       "      <td>setosa</td>\n",
       "    </tr>\n",
       "    <tr>\n",
       "      <th>4</th>\n",
       "      <td>5.0</td>\n",
       "      <td>3.6</td>\n",
       "      <td>1.4</td>\n",
       "      <td>0.2</td>\n",
       "      <td>setosa</td>\n",
       "    </tr>\n",
       "  </tbody>\n",
       "</table>\n",
       "</div>"
      ],
      "text/plain": [
       "   sepal_length  sepal_width  petal_length  petal_width species\n",
       "0           5.1          3.5           1.4          0.2  setosa\n",
       "1           4.9          3.0           1.4          0.2  setosa\n",
       "2           4.7          3.2           1.3          0.2  setosa\n",
       "3           4.6          3.1           1.5          0.2  setosa\n",
       "4           5.0          3.6           1.4          0.2  setosa"
      ]
     },
     "execution_count": 40,
     "metadata": {
      "tags": []
     },
     "output_type": "execute_result"
    }
   ],
   "source": [
    "iris.head()"
   ]
  },
  {
   "cell_type": "code",
   "execution_count": null,
   "metadata": {
    "colab": {
     "base_uri": "https://localhost:8080/"
    },
    "id": "BnwV8dxFbL3U",
    "outputId": "6a5673cb-4f5f-4c85-bbbe-6ae97159dc13"
   },
   "outputs": [
    {
     "name": "stdout",
     "output_type": "stream",
     "text": [
      "<class 'pandas.core.frame.DataFrame'>\n",
      "RangeIndex: 150 entries, 0 to 149\n",
      "Data columns (total 5 columns):\n",
      " #   Column        Non-Null Count  Dtype  \n",
      "---  ------        --------------  -----  \n",
      " 0   sepal_length  150 non-null    float64\n",
      " 1   sepal_width   150 non-null    float64\n",
      " 2   petal_length  150 non-null    float64\n",
      " 3   petal_width   150 non-null    float64\n",
      " 4   species       150 non-null    object \n",
      "dtypes: float64(4), object(1)\n",
      "memory usage: 6.0+ KB\n"
     ]
    }
   ],
   "source": [
    "iris.info()"
   ]
  },
  {
   "cell_type": "code",
   "execution_count": null,
   "metadata": {
    "colab": {
     "base_uri": "https://localhost:8080/",
     "height": 297
    },
    "id": "NeHzIGBqbNGX",
    "outputId": "01420c81-3899-41d1-8165-7a0d07be5fe2"
   },
   "outputs": [
    {
     "data": {
      "text/html": [
       "<div>\n",
       "<style scoped>\n",
       "    .dataframe tbody tr th:only-of-type {\n",
       "        vertical-align: middle;\n",
       "    }\n",
       "\n",
       "    .dataframe tbody tr th {\n",
       "        vertical-align: top;\n",
       "    }\n",
       "\n",
       "    .dataframe thead th {\n",
       "        text-align: right;\n",
       "    }\n",
       "</style>\n",
       "<table border=\"1\" class=\"dataframe\">\n",
       "  <thead>\n",
       "    <tr style=\"text-align: right;\">\n",
       "      <th></th>\n",
       "      <th>sepal_length</th>\n",
       "      <th>sepal_width</th>\n",
       "      <th>petal_length</th>\n",
       "      <th>petal_width</th>\n",
       "    </tr>\n",
       "  </thead>\n",
       "  <tbody>\n",
       "    <tr>\n",
       "      <th>count</th>\n",
       "      <td>150.000000</td>\n",
       "      <td>150.000000</td>\n",
       "      <td>150.000000</td>\n",
       "      <td>150.000000</td>\n",
       "    </tr>\n",
       "    <tr>\n",
       "      <th>mean</th>\n",
       "      <td>5.843333</td>\n",
       "      <td>3.054000</td>\n",
       "      <td>3.758667</td>\n",
       "      <td>1.198667</td>\n",
       "    </tr>\n",
       "    <tr>\n",
       "      <th>std</th>\n",
       "      <td>0.828066</td>\n",
       "      <td>0.433594</td>\n",
       "      <td>1.764420</td>\n",
       "      <td>0.763161</td>\n",
       "    </tr>\n",
       "    <tr>\n",
       "      <th>min</th>\n",
       "      <td>4.300000</td>\n",
       "      <td>2.000000</td>\n",
       "      <td>1.000000</td>\n",
       "      <td>0.100000</td>\n",
       "    </tr>\n",
       "    <tr>\n",
       "      <th>25%</th>\n",
       "      <td>5.100000</td>\n",
       "      <td>2.800000</td>\n",
       "      <td>1.600000</td>\n",
       "      <td>0.300000</td>\n",
       "    </tr>\n",
       "    <tr>\n",
       "      <th>50%</th>\n",
       "      <td>5.800000</td>\n",
       "      <td>3.000000</td>\n",
       "      <td>4.350000</td>\n",
       "      <td>1.300000</td>\n",
       "    </tr>\n",
       "    <tr>\n",
       "      <th>75%</th>\n",
       "      <td>6.400000</td>\n",
       "      <td>3.300000</td>\n",
       "      <td>5.100000</td>\n",
       "      <td>1.800000</td>\n",
       "    </tr>\n",
       "    <tr>\n",
       "      <th>max</th>\n",
       "      <td>7.900000</td>\n",
       "      <td>4.400000</td>\n",
       "      <td>6.900000</td>\n",
       "      <td>2.500000</td>\n",
       "    </tr>\n",
       "  </tbody>\n",
       "</table>\n",
       "</div>"
      ],
      "text/plain": [
       "       sepal_length  sepal_width  petal_length  petal_width\n",
       "count    150.000000   150.000000    150.000000   150.000000\n",
       "mean       5.843333     3.054000      3.758667     1.198667\n",
       "std        0.828066     0.433594      1.764420     0.763161\n",
       "min        4.300000     2.000000      1.000000     0.100000\n",
       "25%        5.100000     2.800000      1.600000     0.300000\n",
       "50%        5.800000     3.000000      4.350000     1.300000\n",
       "75%        6.400000     3.300000      5.100000     1.800000\n",
       "max        7.900000     4.400000      6.900000     2.500000"
      ]
     },
     "execution_count": 42,
     "metadata": {
      "tags": []
     },
     "output_type": "execute_result"
    }
   ],
   "source": [
    "iris.describe()"
   ]
  },
  {
   "cell_type": "code",
   "execution_count": null,
   "metadata": {
    "colab": {
     "base_uri": "https://localhost:8080/",
     "height": 173
    },
    "id": "72bvUY9xbSXj",
    "outputId": "f6016a51-bef7-408c-c2fb-6072c777363d"
   },
   "outputs": [
    {
     "data": {
      "text/html": [
       "<div>\n",
       "<style scoped>\n",
       "    .dataframe tbody tr th:only-of-type {\n",
       "        vertical-align: middle;\n",
       "    }\n",
       "\n",
       "    .dataframe tbody tr th {\n",
       "        vertical-align: top;\n",
       "    }\n",
       "\n",
       "    .dataframe thead th {\n",
       "        text-align: right;\n",
       "    }\n",
       "</style>\n",
       "<table border=\"1\" class=\"dataframe\">\n",
       "  <thead>\n",
       "    <tr style=\"text-align: right;\">\n",
       "      <th></th>\n",
       "      <th>sepal_length</th>\n",
       "      <th>sepal_width</th>\n",
       "      <th>petal_length</th>\n",
       "      <th>petal_width</th>\n",
       "    </tr>\n",
       "  </thead>\n",
       "  <tbody>\n",
       "    <tr>\n",
       "      <th>sepal_length</th>\n",
       "      <td>1.000000</td>\n",
       "      <td>-0.109369</td>\n",
       "      <td>0.871754</td>\n",
       "      <td>0.817954</td>\n",
       "    </tr>\n",
       "    <tr>\n",
       "      <th>sepal_width</th>\n",
       "      <td>-0.109369</td>\n",
       "      <td>1.000000</td>\n",
       "      <td>-0.420516</td>\n",
       "      <td>-0.356544</td>\n",
       "    </tr>\n",
       "    <tr>\n",
       "      <th>petal_length</th>\n",
       "      <td>0.871754</td>\n",
       "      <td>-0.420516</td>\n",
       "      <td>1.000000</td>\n",
       "      <td>0.962757</td>\n",
       "    </tr>\n",
       "    <tr>\n",
       "      <th>petal_width</th>\n",
       "      <td>0.817954</td>\n",
       "      <td>-0.356544</td>\n",
       "      <td>0.962757</td>\n",
       "      <td>1.000000</td>\n",
       "    </tr>\n",
       "  </tbody>\n",
       "</table>\n",
       "</div>"
      ],
      "text/plain": [
       "              sepal_length  sepal_width  petal_length  petal_width\n",
       "sepal_length      1.000000    -0.109369      0.871754     0.817954\n",
       "sepal_width      -0.109369     1.000000     -0.420516    -0.356544\n",
       "petal_length      0.871754    -0.420516      1.000000     0.962757\n",
       "petal_width       0.817954    -0.356544      0.962757     1.000000"
      ]
     },
     "execution_count": 44,
     "metadata": {
      "tags": []
     },
     "output_type": "execute_result"
    }
   ],
   "source": [
    "iris.corr()"
   ]
  },
  {
   "cell_type": "code",
   "execution_count": null,
   "metadata": {
    "colab": {
     "base_uri": "https://localhost:8080/"
    },
    "id": "e9tefWrubOkH",
    "outputId": "a4080935-c627-45b3-c824-b4384038aca2"
   },
   "outputs": [
    {
     "data": {
      "text/plain": [
       "setosa        50\n",
       "versicolor    50\n",
       "virginica     50\n",
       "Name: species, dtype: int64"
      ]
     },
     "execution_count": 43,
     "metadata": {
      "tags": []
     },
     "output_type": "execute_result"
    }
   ],
   "source": [
    "iris['species'].value_counts()"
   ]
  },
  {
   "cell_type": "code",
   "execution_count": null,
   "metadata": {
    "id": "0DnqBpDcbWEH"
   },
   "outputs": [],
   "source": []
  }
 ],
 "metadata": {
  "colab": {
   "name": "ai_builder_pandas.ipynb",
   "provenance": [],
   "toc_visible": true
  },
  "kernelspec": {
   "display_name": "Python 3",
   "language": "python",
   "name": "python3"
  },
  "language_info": {
   "codemirror_mode": {
    "name": "ipython",
    "version": 3
   },
   "file_extension": ".py",
   "mimetype": "text/x-python",
   "name": "python",
   "nbconvert_exporter": "python",
   "pygments_lexer": "ipython3",
   "version": "3.6.7"
  }
 },
 "nbformat": 4,
 "nbformat_minor": 4
}
