{
 "cells": [
  {
   "cell_type": "code",
   "execution_count": null,
   "metadata": {},
   "outputs": [],
   "source": [
    "import torch\n",
    "from tqdm.notebook import tqdm"
   ]
  },
  {
   "cell_type": "markdown",
   "metadata": {},
   "source": [
    "## **Finding Derivative**\n",
    "\n",
    "สมมติเรามีสมการพาราโบลาตามด้านล่าง เราจะสามารถหาความชันของกราฟ (slope/gradient/derivative) ได้ด้วยการใช้ Calculus ได้ดังต่อไปนี้\n",
    "\n",
    "$$ f(x) = x^2 - 4x + 5 $$\n",
    "$$ f'(x) = 2 x - 4 $$\n",
    "\n",
    "โดยโค้ดด้านล่าง เราจะแสดงให้ดูว่าเราสามารถหาความชันของกราฟด้วย pytorch ได้เช่นกัน"
   ]
  },
  {
   "cell_type": "code",
   "execution_count": null,
   "metadata": {},
   "outputs": [],
   "source": [
    "def f(x):\n",
    "    return x ** 2 - 4 * x + 5"
   ]
  },
  {
   "cell_type": "code",
   "execution_count": null,
   "metadata": {},
   "outputs": [],
   "source": [
    "x = torch.arange(-4, 10, 0.1)\n",
    "y = f(x)"
   ]
  },
  {
   "cell_type": "code",
   "execution_count": null,
   "metadata": {},
   "outputs": [],
   "source": [
    "import matplotlib.pyplot as plt"
   ]
  },
  {
   "cell_type": "code",
   "execution_count": null,
   "metadata": {},
   "outputs": [],
   "source": [
    "plt.plot(x, y)"
   ]
  },
  {
   "cell_type": "code",
   "execution_count": null,
   "metadata": {},
   "outputs": [],
   "source": [
    "x = torch.tensor(5.).requires_grad_()"
   ]
  },
  {
   "cell_type": "code",
   "execution_count": null,
   "metadata": {},
   "outputs": [],
   "source": [
    "y = f(x)"
   ]
  },
  {
   "cell_type": "code",
   "execution_count": null,
   "metadata": {},
   "outputs": [],
   "source": [
    "y"
   ]
  },
  {
   "cell_type": "code",
   "execution_count": null,
   "metadata": {},
   "outputs": [],
   "source": [
    "y.backward()"
   ]
  },
  {
   "cell_type": "code",
   "execution_count": null,
   "metadata": {},
   "outputs": [],
   "source": [
    "x.grad"
   ]
  },
  {
   "cell_type": "markdown",
   "metadata": {},
   "source": [
    "## **Other derivative**\n",
    "\n",
    "นอกจากสมการ 1 ตัวแปร เราสามารถหา gradient สำหรับสมการหลายตัวแปรได้เช่นกัน ลองดูสมการด้านล่าง\n",
    "\n",
    "$$y(x) = sin(x) $$\n",
    "$$z(x, y) = y ^ 2 + 3 * x$$\n",
    "\n",
    "$$\\frac{dz}{dx} = 2 y \\frac{dy}{dx} + 3 = 2 sin(x) cos(x) + 3 $$\n",
    "\n",
    "โดยถ้าเราใช้ pytorch ในการหา gradient ก็สามารถทำได้เช่นกัน"
   ]
  },
  {
   "cell_type": "code",
   "execution_count": null,
   "metadata": {},
   "outputs": [],
   "source": [
    "import math\n",
    "\n",
    "def f(x):\n",
    "    y = torch.sin(x)\n",
    "    z = y ** 2 + 3 * x\n",
    "    return z"
   ]
  },
  {
   "cell_type": "code",
   "execution_count": null,
   "metadata": {},
   "outputs": [],
   "source": [
    "x = torch.tensor(math.pi / 4).requires_grad_()\n",
    "z = f(x)"
   ]
  },
  {
   "cell_type": "code",
   "execution_count": null,
   "metadata": {},
   "outputs": [],
   "source": [
    "z.backward()"
   ]
  },
  {
   "cell_type": "code",
   "execution_count": null,
   "metadata": {},
   "outputs": [],
   "source": [
    "x.grad"
   ]
  },
  {
   "cell_type": "code",
   "execution_count": null,
   "metadata": {},
   "outputs": [],
   "source": [
    "2 * math.sin(math.pi / 4) * math.cos(math.pi / 4) + 3"
   ]
  },
  {
   "cell_type": "markdown",
   "metadata": {},
   "source": [
    "## **Gradient descent**\n",
    "\n",
    "ถ้าเราอยากหาจุดต่ำสุดของกราฟพาราโบลา ตอนเรียนแคลคูลัสเราสามารถหาได้โดยการจับความชันเท่ากับ 0\n",
    "\n",
    "$$ f(x) = x^2 - 4x + 5 $$\n",
    "\n",
    "Minimum: $f'(x) = 2 x - 4 = 0$ -> $x = 2$\n",
    "\n",
    "แต่ในกรณีของคอมพิวเตอร์การแก้สมการแบบนี้อาจต้องใช้ symbolic อาจจะที่กินเวลา gradient descent เป็นวิธีนึงที่เราสามารถหาจุดต่ำสุดของกราฟได้ (หรือ loss function/ cost function) โดยการให้พารามิเตอร์ของเรา ($x$) เดินไปในทิศตรงกันข้ามกับ gradient นั่นเอง"
   ]
  },
  {
   "cell_type": "code",
   "execution_count": null,
   "metadata": {},
   "outputs": [],
   "source": [
    "x = torch.tensor(5.).requires_grad_()\n",
    "def f(x):\n",
    "    return x ** 2 - 4 * x + 5\n",
    "y = f(x)\n",
    "print(x, y)\n",
    "y.backward()\n",
    "print(x.grad.data)"
   ]
  },
  {
   "cell_type": "code",
   "execution_count": null,
   "metadata": {},
   "outputs": [],
   "source": [
    "print(x.data)\n",
    "alpha = 0.001\n",
    "print(x.data - alpha * x.grad.data)"
   ]
  },
  {
   "cell_type": "code",
   "execution_count": null,
   "metadata": {},
   "outputs": [],
   "source": [
    "x_opt = torch.tensor(5.).requires_grad_()\n",
    "\n",
    "for i in tqdm(range(3000)): # loop\n",
    "    loss = f(x_opt) # คำนวณ loss\n",
    "    loss.backward() # คำนวณ gradient\n",
    "    x_opt.data -= x_opt.grad.data * alpha # gradient decent\n",
    "    x_opt.grad.zero_()"
   ]
  },
  {
   "cell_type": "code",
   "execution_count": null,
   "metadata": {},
   "outputs": [],
   "source": [
    "x_opt"
   ]
  }
 ],
 "metadata": {
  "kernelspec": {
   "display_name": "Python 3",
   "language": "python",
   "name": "python3"
  },
  "language_info": {
   "codemirror_mode": {
    "name": "ipython",
    "version": 3
   },
   "file_extension": ".py",
   "mimetype": "text/x-python",
   "name": "python",
   "nbconvert_exporter": "python",
   "pygments_lexer": "ipython3",
   "version": "3.7.4"
  }
 },
 "nbformat": 4,
 "nbformat_minor": 4
}
