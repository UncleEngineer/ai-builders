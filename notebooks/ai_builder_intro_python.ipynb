{
 "nbformat": 4,
 "nbformat_minor": 0,
 "metadata": {
  "colab": {
   "name": "ai_builder_intro_python.ipynb",
   "provenance": [],
   "collapsed_sections": [
    "Jaqy2MI_urJN",
    "zJrTqwCzurJN",
    "b3JCPyU0urJO",
    "-UPZnbseFIFY",
    "rW7cBFmduFB9"
   ]
  },
  "kernelspec": {
   "display_name": "Python 3",
   "language": "python",
   "name": "python3"
  },
  "language_info": {
   "codemirror_mode": {
    "name": "ipython",
    "version": 3
   },
   "file_extension": ".py",
   "mimetype": "text/x-python",
   "name": "python",
   "nbconvert_exporter": "python",
   "pygments_lexer": "ipython3",
   "version": "3.7.9"
  }
 },
 "cells": [
  {
   "cell_type": "markdown",
   "metadata": {
    "id": "a1B0Yys3BXjs"
   },
   "source": [
    "# Introduction to Python\n",
    "\n",
    "### But First, Learning Tips!\n",
    "\n",
    "1. Before clicking \\[ ▶ Run \\] to see the result from running the code, **make a guess of what the final result would be** before actually running it.\n",
    "2. **Do not be afraid to play around with code**: change them, re-run the code, and see if the new result meets your expectation.\n",
    "3. Got error messages? Relax. Even experienced programmers got these so-called bugs! **Pause for a few seconds and see why the code produces such error.**"
   ]
  },
  {
   "cell_type": "markdown",
   "metadata": {
    "id": "HIUBOrQTurJK"
   },
   "source": [
    "Open this in Colab. [![](https://colab.research.google.com/assets/colab-badge.svg)](https://colab.research.google.com/drive/1CO_Qlprw8NkQryk_gUdtNjMoGNsE3PWA?usp=sharing)\n",
    "\n",
    "**Developer Note:** copy this colab into GitHub Gist and create a link from it."
   ]
  },
  {
   "cell_type": "markdown",
   "metadata": {
    "id": "EUysvkwFAE4Y"
   },
   "source": [
    "## 1. Basic Arithmetics\n",
    "\n",
    "Python can run simple math expressions out of the box.\n",
    "So expressions like `2 + 2` will produce the final result 4.\n",
    "\n",
    "Try running the code below by hitting \\[ ▶ Run \\] button."
   ]
  },
  {
   "cell_type": "code",
   "metadata": {
    "id": "49uHsFau_6EV"
   },
   "source": [
    "2 + 2"
   ],
   "execution_count": null,
   "outputs": []
  },
  {
   "cell_type": "markdown",
   "metadata": {
    "id": "J4VZisvrvZus"
   },
   "source": [
    "Since there is no $\\times$ (times) and $\\div$ (divide) symbol on the keyword, we instead use symbols `*` and `/` instead."
   ]
  },
  {
   "cell_type": "code",
   "metadata": {
    "id": "H4rQ0UGeurJM"
   },
   "source": [
    "17 / 3"
   ],
   "execution_count": null,
   "outputs": []
  },
  {
   "cell_type": "code",
   "metadata": {
    "id": "RcdY6ZsUAIDt",
    "scrolled": false
   },
   "source": [
    "50 - 5 * 6"
   ],
   "execution_count": null,
   "outputs": []
  },
  {
   "cell_type": "markdown",
   "metadata": {
    "id": "_mPi0m45urJM"
   },
   "source": [
    "Notice that in the above code, multiplication `*` is evaluated before subtraction `-`. This is due to what is called the **order of precedence**.\n",
    "\n",
    "\n",
    "So if we want to do subtraction first, we need a pair of parentheses, `(` and `)`, just like in math!"
   ]
  },
  {
   "cell_type": "code",
   "metadata": {
    "id": "BgUOcTAturJM"
   },
   "source": [
    "(50 - 5) * 6"
   ],
   "execution_count": null,
   "outputs": []
  },
  {
   "cell_type": "markdown",
   "metadata": {
    "id": "Jaqy2MI_urJN"
   },
   "source": [
    "### Example: Temperature Conversion\n",
    "\n",
    "Now for our very first application! Let’s say that a weather app tell us that the current weather in Galapagos Island is **100°F** (Farenheit). We want to know what is this temperature value in Celcius.\n",
    "\n",
    "We will use the following identity to help us with unit conversion:\n",
    "\n",
    "> $\\dfrac{C}{5} = \\dfrac{F - 32}{9} \\quad\\Longleftrightarrow\\quad C = \\dfrac{F - 32}{9} \\times 5$\n",
    "\n",
    "And below is the code to convert 100°F into °C."
   ]
  },
  {
   "cell_type": "code",
   "metadata": {
    "id": "3ibrAGDJurJN"
   },
   "source": [
    "((100 - 32) / 9) * 5"
   ],
   "execution_count": null,
   "outputs": []
  },
  {
   "cell_type": "markdown",
   "metadata": {
    "id": "Z0Rx4B6DurJN"
   },
   "source": [
    "Once you have got familiarity with the **order of precedence**, then you will notice that we can remove the redundant pair of parentheses:"
   ]
  },
  {
   "cell_type": "code",
   "metadata": {
    "id": "-eL8CGSSurJN"
   },
   "source": [
    "(100 - 32) / 9 * 5"
   ],
   "execution_count": null,
   "outputs": []
  },
  {
   "cell_type": "markdown",
   "metadata": {
    "id": "zJrTqwCzurJN"
   },
   "source": [
    "### Example: Compound Interest (Exponentiation)\n",
    "\n",
    "Suppose that we have **THB 10,000** (Thai Baht) in a savings account. Every year we receive **3% interest**, which is then compounded into your account for the subsequent year. If we leave our account alone for **12 years**, how much total money would we have at the end?\n",
    "\n",
    "The answer is THB $10000 \\times 1.03^{12}$ (with some rounding errors). Translating this into the Python code as follows."
   ]
  },
  {
   "cell_type": "code",
   "metadata": {
    "id": "N14F6eXnurJO"
   },
   "source": [
    "10_000 * 1.03 * 1.03 * 1.03 * 1.03 * 1.03 * 1.03 * 1.03 * 1.03 * 1.03 * 1.03 * 1.03"
   ],
   "execution_count": null,
   "outputs": []
  },
  {
   "cell_type": "markdown",
   "metadata": {
    "id": "PxN5l_E1urJO"
   },
   "source": [
    "You should have got approximately 14257.61 THB as the result (if not, check the work again).\n",
    "\n",
    "Yes, the above code looks very tiring. Luckily, we can use the `**` operator to perform exponentiation for us."
   ]
  },
  {
   "cell_type": "code",
   "metadata": {
    "id": "XmNV2KZburJO"
   },
   "source": [
    "10_000 * 1.03 ** 12"
   ],
   "execution_count": null,
   "outputs": []
  },
  {
   "cell_type": "markdown",
   "metadata": {
    "id": "9NRe0EkMqhDE"
   },
   "source": [
    "**Tips:** The exponentiation also works for negative numbers. Do the results below surprise you?"
   ]
  },
  {
   "cell_type": "code",
   "metadata": {
    "id": "ZrN1YVt4urJO"
   },
   "source": [
    "5 ** -1"
   ],
   "execution_count": null,
   "outputs": []
  },
  {
   "cell_type": "code",
   "metadata": {
    "id": "lMqlsNQ7qoM4"
   },
   "source": [
    "(-2) ** 0.5"
   ],
   "execution_count": null,
   "outputs": []
  },
  {
   "cell_type": "markdown",
   "metadata": {
    "id": "b3JCPyU0urJO"
   },
   "source": [
    "### Aside: Real Division vs Integer Division\n",
    "\n",
    "Recall that the result of `17 / 3` from above produces a real number result.  \n",
    "But what if you want the final _without the fractional part_ (also called a **quotient**)?\n",
    "\n",
    "The answer is to use the `//` operator."
   ]
  },
  {
   "cell_type": "code",
   "metadata": {
    "id": "8V-FeZGlurJP"
   },
   "source": [
    "17 // 3"
   ],
   "execution_count": null,
   "outputs": []
  },
  {
   "cell_type": "markdown",
   "metadata": {
    "id": "GTBwqOJAurJP"
   },
   "source": [
    "What about the **remainder** of the above division? Can we compute this value?\n",
    "\n",
    "One way to look at this is to consider the equation $17 = 5 \\times 3 + 2$, which gives us the remainder value 2.\n",
    "\n",
    "Let’s work backward in order to obtain the formula that we can use in our code. Suppose that $A$ divided by $B$ produces the **quotient** $Q$ and the **remainder** $R$. So we have the follow equation.\n",
    "\n",
    "> $A = Q \\times B + R \\quad \\Longleftrightarrow \\quad R = A - Q \\times B$\n",
    "\n",
    "And here is the Python code to compute the remainder from dividing 17 by 3."
   ]
  },
  {
   "cell_type": "code",
   "metadata": {
    "id": "R0MVhYoNurJP"
   },
   "source": [
    "17 - (17 // 3) * 3"
   ],
   "execution_count": null,
   "outputs": []
  },
  {
   "cell_type": "markdown",
   "metadata": {
    "id": "MsmkDOZAurJP"
   },
   "source": [
    "Whew, that was a lot of work! Luckily, we can achieve the same result simply by using the **modulo** operator: `%`."
   ]
  },
  {
   "cell_type": "code",
   "metadata": {
    "id": "iPH5Hz00urJP"
   },
   "source": [
    "17 % 3"
   ],
   "execution_count": null,
   "outputs": []
  },
  {
   "cell_type": "markdown",
   "metadata": {
    "id": "yxkpykG81ZNT"
   },
   "source": [
    "_Did you notice a recurring theme?_ In Python (as well as other programming languages), we have all these handy operations at our disposal which helps us shorten our workload. Later in this session, we will also learn how to create one ourselves, with functions.\n",
    "\n",
    "Lastly, before we move on, what is the result of diving -17 by 3? Make a guess before running the code."
   ]
  },
  {
   "cell_type": "code",
   "metadata": {
    "id": "60USCoJfurJQ"
   },
   "source": [
    "-17 // 3"
   ],
   "execution_count": null,
   "outputs": []
  },
  {
   "cell_type": "code",
   "metadata": {
    "id": "37MwRysIurJQ"
   },
   "source": [
    "-17 % 3"
   ],
   "execution_count": null,
   "outputs": []
  },
  {
   "cell_type": "markdown",
   "metadata": {
    "id": "3h4HJCRz9UQT"
   },
   "source": [
    "## 2. Variables\n",
    "\n",
    "### Example: Quadratic Equation\n",
    "\n",
    "Let’s consider a high school math problem. How do we solve for $x$ in the following quadratic equation.\n",
    "\n",
    "> $ax^2 + bx + c = 0$\n",
    "\n",
    "According to high school math, there are two solutions according to this formula:\n",
    "\n",
    "> $x = \\dfrac{-b \\pm \\sqrt{b^2 - 4ac}}{2a}$\n",
    "\n",
    "**Question:** What are the solutions to the equation $2x^2 + 7x + 3 = 0$ \n",
    "\n",
    "We need two separate pieces of codes, one for $+\\sqrt{b^2 - 4ac}$ and another for $-\\sqrt{b^2 - 4ac}$."
   ]
  },
  {
   "cell_type": "code",
   "metadata": {
    "id": "yDemLQFq9ZFQ"
   },
   "source": [
    "(-7 + (7**2 - 4*2*3) ** 0.5) / (2*2)"
   ],
   "execution_count": null,
   "outputs": []
  },
  {
   "cell_type": "code",
   "metadata": {
    "id": "sLMAgIHb_Jx8"
   },
   "source": [
    "(-7 - (7**2 - 4*2*3) ** 0.5) / (2*2)"
   ],
   "execution_count": null,
   "outputs": []
  },
  {
   "cell_type": "markdown",
   "metadata": {
    "id": "MUhKMQ65_l_f"
   },
   "source": [
    "Did you see that we have to type almost the exact same code twice? If you think that this is troublesome, you are not alone. Programmers hate repeating themselves as much as you do.\n",
    "\n",
    "We will divide our workload into smaller steps and avoid recomputing the same values as much as possible.\n",
    "\n",
    "> $r = \\sqrt{b^2 - 4ac}$  \n",
    "> $x_1 = \\dfrac{-b + r}{2a}$  \n",
    "> $x_2 = \\dfrac{-b - r}{2a}$  \n",
    "\n",
    "In order to reuse intermediate result $k$ for subsequent computations, we need to use **variables**. The above steps can be translated into the following code."
   ]
  },
  {
   "cell_type": "code",
   "metadata": {
    "id": "shkR45GCAxcg"
   },
   "source": [
    "a = 2\n",
    "b = 7\n",
    "c = 3\n",
    "\n",
    "r = (b**2 - 4*a*c) ** 0.5\n",
    "x1 = (-b + r) / (2*a)\n",
    "x2 = (-b - r) / (2*a)\n",
    "\n",
    "print(x1, x2)"
   ],
   "execution_count": null,
   "outputs": []
  },
  {
   "cell_type": "markdown",
   "metadata": {
    "id": "2dRv5OWUCDUF"
   },
   "source": [
    "Not only we did introduce a variable for intermediate result `k`, we introduce a whole lot of variables for coefficients `a`, `b`, `c`, as well as for solutions `x1` and `x2`. What is nice about this approach is that, if you want to solve other quadratic equations of the same form, you can just simply change values for `a`, `b`, and `c`, and rerun the code.\n",
    "\n",
    "Try playing around, changing values for `a`, `b`, and `c`.\n",
    "\n",
    "---\n",
    "\n",
    "There are a few things you must know.\n",
    "\n",
    "- Python code generally runs from top to bottom. So shuffling lines of code may produce unintended consequences.\n",
    "- The code `<variable> = <expression>` represents an assignment of values to the right of `=` symbol into a **variable** whose name is shown on the left. Swapping the location of these two things will produce an error (try for yourself).\n",
    "- Expressions may refer to variables which have been assigned previously. For example, see how the assignment of `k` refers to `a`, `b`, `c` above it. Then, `x1` and `x2` both take turn to refer to `k`. As mentioned earlier, swapping these lines make break things.\n",
    "\n",
    "Try executing the following code and see what kind of error it produces.\n",
    "\n",
    "```python\n",
    "area = width * height\n",
    "height = 1080\n",
    "width = 1080 * 16 / 9\n",
    "print(area)\n",
    "```"
   ]
  },
  {
   "cell_type": "code",
   "metadata": {
    "id": "5Ts8A0Q5AyEw"
   },
   "source": [
    "area = width * height\n",
    "height = 1080\n",
    "width = 1080 * 16 / 9\n",
    "print(area)"
   ],
   "execution_count": null,
   "outputs": []
  },
  {
   "cell_type": "markdown",
   "metadata": {
    "id": "iyep_gu-_uR4"
   },
   "source": [
    "Fix the code above so that it runs correctly. In the end you should get the area of 2,073,600."
   ]
  },
  {
   "cell_type": "markdown",
   "metadata": {
    "id": "-UPZnbseFIFY"
   },
   "source": [
    "### Aside: Statements By Themselves Do Not Produce Value\n",
    "\n",
    "We have already seen the assignment statements (of the form `<variable> = <expression>`). In the code above, if we remove the line `print(area)`, we will see no output. In Python specifically, there is a distinction between an **expression** and a **statement**. Expressions always produces value, but statements do not.\n",
    "\n",
    "However, statements may partially contain expressions, just like what we have seen with assignment statements, but in this case, the value is stored into a variable and is not shown to us. _That_ is the reason why the code to compute `area` from multiplying `width` and `height` does not display any result if `print(area)` is absent; `print` tells python to display the content of `area`.\n",
    "\n",
    "To be precise, `print(...)` will _print_ out anything it receives; whatever we put between the pair of parentheses is called **input arguments** to a function. So you can also print the following."
   ]
  },
  {
   "cell_type": "code",
   "metadata": {
    "id": "l6JqB0ZHHIwq"
   },
   "source": [
    "print(1 + 2 + 3 + 4 + 5)"
   ],
   "execution_count": null,
   "outputs": []
  },
  {
   "cell_type": "markdown",
   "metadata": {
    "id": "IZH4RkmnHNh2"
   },
   "source": [
    "As a special case for Python Notebook (this piece of web application software we are currently using), an expression by itself will have its result be printed out as well. **Warning:** This is not true for general Python code."
   ]
  },
  {
   "cell_type": "code",
   "metadata": {
    "id": "wmc9OBclHkRG"
   },
   "source": [
    "1 + 2 + 3 + 4 + 5"
   ],
   "execution_count": null,
   "outputs": []
  },
  {
   "cell_type": "code",
   "metadata": {
    "id": "Y0o6gG5LHua2"
   },
   "source": [
    "area"
   ],
   "execution_count": null,
   "outputs": []
  },
  {
   "cell_type": "markdown",
   "metadata": {
    "id": "rW7cBFmduFB9"
   },
   "source": [
    "### Aside: Code Comments\n",
    "\n",
    "We can provide additional notes to our code using what are called **comments**. In Python, a comment begins with `#` and the rest of the line will not be interpreted by Python. For example,"
   ]
  },
  {
   "cell_type": "code",
   "metadata": {
    "id": "zOB-7TxKua7v"
   },
   "source": [
    "# Computing the distance from the origin (0, 0) to (x, y)\n",
    "x = 4\n",
    "y = -3\n",
    "distance_from_origin = ((x ** 2) + (y ** 2)) ** 0.5  # Pythagorean Theorem\n",
    "print(distance_from_origin)"
   ],
   "execution_count": null,
   "outputs": []
  },
  {
   "cell_type": "markdown",
   "metadata": {
    "id": "sp-RXeOLvnI5"
   },
   "source": [
    "It is best to add comments to explain the logic behind the code if it would not be obvious by itself. You will thank yourself later."
   ]
  },
  {
   "cell_type": "markdown",
   "metadata": {
    "id": "HEGSm9bJt2UW"
   },
   "source": [
    "## 3. Functions\n",
    "\n",
    "### Example: Games With Random Loot\n",
    "\n",
    "Now it’s time to talk about games with Random Number Generators (RNG). Let’s say that a certain rare item has a drop rate of 0.3% from a loot box (that is one in a thousand chance). What is the chance that we win at least one such item within 10 loot boxes?\n",
    "\n",
    "Let’s write some code to find out.  \n",
    "**Note:** `format` function turns numbers into percentage form. "
   ]
  },
  {
   "cell_type": "code",
   "metadata": {
    "id": "O4KUfvwmt2zz"
   },
   "source": [
    "drop_rate = 0.003\n",
    "n_attempts = 10\n",
    "\n",
    "fail_once_prob = 1 - drop_rate\n",
    "fail_all_prob = fail_once_prob ** n_attempts\n",
    "winning_prob = 1 - fail_all_prob\n",
    "\n",
    "print(format(winning_prob, \"%\"))"
   ],
   "execution_count": null,
   "outputs": []
  },
  {
   "cell_type": "markdown",
   "metadata": {
    "id": "uoN2r3uty4Kv"
   },
   "source": [
    "Not bad. The probability jumps to almost around 3%. Well, how about 100 loot boxes?\n",
    "\n",
    "We can just modify the previous code and set `n_attempts` to `100`, but then we will lose track of history of all previous computations. It would be nice to keep some previous results available for inspection.\n",
    "\n",
    "**Did you know?** In scientific community, scientists maintain what is called a lab notebook, and it is considered unethical to make something disappear from lab notebooks. Do not worry, we are not doing something that serious here.\n",
    "\n",
    "We instead will duplicate the code from above and modify the number to `n_attempts = 100`."
   ]
  },
  {
   "cell_type": "code",
   "metadata": {
    "id": "CIAYrYKf1nlJ"
   },
   "source": [
    "drop_rate = 0.003\n",
    "n_attempts = 100\n",
    "\n",
    "fail_once_prob = 1 - drop_rate\n",
    "fail_all_prob = fail_once_prob ** n_attempts\n",
    "winning_prob = 1 - fail_all_prob\n",
    "\n",
    "print(format(winning_prob, \"%\"))"
   ],
   "execution_count": null,
   "outputs": []
  },
  {
   "cell_type": "markdown",
   "metadata": {
    "id": "C3PjJzqi1rPi"
   },
   "source": [
    "What if we want to perform this computation again for other number of attemps? Are we _really_ going to copy this chuck of code again? One philosophy of programmers (or for any people who are sufficiently lazy) is to avoid repeating ourselves.\n",
    "\n",
    "We will combine the entire chunk our code into a single unit of workload, by defining a **function**.\n",
    "\n",
    "We begin first with our code:"
   ]
  },
  {
   "cell_type": "code",
   "metadata": {
    "id": "syJn2DcA3Yn_"
   },
   "source": [
    "def compute_winning_prob(drop_rate, n_attempts):\n",
    "    fail_once_prob = 1 - drop_rate\n",
    "    fail_all_prob = fail_once_prob ** n_attempts\n",
    "    winning_prob = 1 - fail_all_prob\n",
    "    return winning_prob\n",
    "\n",
    "\n",
    "# Making calls to the above function\n",
    "winning_prob_10_boxes = compute_winning_prob(0.003, 10)\n",
    "print(format(winning_prob_10_boxes, \"%\"))\n",
    "\n",
    "# For better readability, input argument names can be specified too\n",
    "winning_prob_100_boxes = compute_winning_prob(drop_rate=0.003, n_attempts=100)\n",
    "print(format(winning_prob_100_boxes, \"%\"))\n",
    "\n",
    "# The result of calling a function can be input to another function\n",
    "print(format(compute_winning_prob(0.003, 1000), \"%\"))"
   ],
   "execution_count": null,
   "outputs": []
  },
  {
   "cell_type": "markdown",
   "metadata": {
    "id": "px5xAjUULBmU"
   },
   "source": [
    "Let’s look at the function definition:\n",
    "\n",
    "```python\n",
    "def compute_winning_prob(drop_rate, n_boxes):\n",
    "    single_fail_prob = 1 - drop_rate\n",
    "    total_fail_prob = single_fail_prob ** n_boxes\n",
    "    winning_prob = 1 - total_fail_prob\n",
    "    return winning_prob\n",
    "```\n",
    "\n",
    "It consists of the following:\n",
    "\n",
    "- Function name, `compute_winning_prob`\n",
    "- Input arguments, `drop_rate` and `n_attempts`\n",
    "- Function body. In this case, they are all four lines of indented code.\n",
    "- Output of the function is signified by the expression following the `return` keyword. (In cases where this return statement is missing from the function, `None` will be returned implicitly, a special constant value to indicate an absence of data.)\n",
    "\n",
    "Here is the fundamental concepts of computation: a function consists of **inputs** and **outputs**  (it may also sometimes has side-effects, but let’s ignore this fact for the moment). The above function receives two inputs, `drop_rate` and `n_attempts`, and produce the winning probability as the output. The order of input arguments do matter. Make sure that the function call specifies these inputs in the same order as well.\n",
    "\n",
    "**N.B.** Notice that the first line of function definition and the function call pattern looks similar. This is a conscious design decision intended by Python core developers.\n",
    "\n",
    "```python\n",
    "def compute_winning_prob(drop_rate, n_boxes):\n",
    "```\n",
    "```python\n",
    "winning_prob = compute_winning_prob(drop_rate, n_boxes)\n",
    "```"
   ]
  },
  {
   "cell_type": "markdown",
   "metadata": {
    "id": "lF4eB64in3LV"
   },
   "source": [
    "### Exercise: Area of Triangle\n",
    "\n",
    "Write a function that computes the area of a triangle from lengths of its three sides ($A$, $B$, and $C$). Here is the Heron’s formula to implement in code.\n",
    "\n",
    "> $\\mathrm{Area} = \\sqrt{S(S-A)(S-B)(S-C)}$\n",
    "> \n",
    "> $S = \\dfrac{A + B + C}{2}$"
   ]
  },
  {
   "cell_type": "code",
   "metadata": {
    "id": "p0Z2F9cLqHJ1"
   },
   "source": [
    "def area_of_triangle(a, b, c):\n",
    "    ... # your code here\n",
    "\n",
    "print(area_of_triangle(3, 4, 5))  # expected 6\n",
    "print(area_of_triangle(3, 3, 3))  # expected 3.8971\n",
    "print(area_of_triangle(2, 3, 8))  # expected ?????? "
   ],
   "execution_count": null,
   "outputs": []
  },
  {
   "cell_type": "markdown",
   "metadata": {
    "id": "46QhaxTwZW9m"
   },
   "source": [
    "## 4. Conditionals\n",
    "\n",
    "### Example: Phases of H₂O\n",
    "\n",
    "We will write a function to determine the phase of H₂O at different temperatures. In a simplified model, at sea-level, water freezes (or ice melts) at 0°C whereas water evaporates (or steam condenses) at 100°C.\n",
    "\n",
    "Our function should receive a single number, which is the temperature of H₂O at sea-level. It should return the phase of H₂0, `\"ice\"`, `\"water\"`, or `\"steam\"`."
   ]
  },
  {
   "cell_type": "code",
   "metadata": {
    "id": "G_twmikLcHGN"
   },
   "source": [
    "def phase_h2o(celcius):\n",
    "    print(\"input temperature is\", celcius)\n",
    "    if celcius <= 0:\n",
    "        print(\"ice\")\n",
    "    if 0 <= celcius <= 100:\n",
    "        print(\"water\")\n",
    "    if celcius >= 100:\n",
    "        print(\"steam\")\n",
    "\n",
    "\n",
    "phase_h2o(25)\n",
    "phase_h2o(-273.15)\n",
    "phase_h2o(1948)\n",
    "phase_h2o(100)\n",
    "phase_h2o(0)"
   ],
   "execution_count": null,
   "outputs": []
  },
  {
   "cell_type": "markdown",
   "metadata": {
    "id": "QqaPJwKHheeb"
   },
   "source": [
    "When did the message `\"ice\"` get printed? Answer: when inputs were `-273.15` and `0` (both are 0°C or lower). Likewise, `\"water\"` got printed when inputs were `25`, `100`, and `0` (all are within range from 0°C to 100°C). The same goes for `\"steam\"`.\n",
    "\n",
    "You have probably noticed that the **if clause** the **condition** whether the body of the statement (the indented part under the if clause) should be executed."
   ]
  },
  {
   "cell_type": "markdown",
   "metadata": {
    "id": "InkTz1CPdZJq"
   },
   "source": [
    "### Aside: Strings\n",
    "\n",
    "Strings are jsut textual data. In Python code, they mostly are written between a pair of **double quotes** `\"`:\n",
    "\n",
    "> e.g. `\"hello\"`, `\"Humuhumunukunukuapua'a is a type of fish.\"`, and `\"\"` (empty string)\n",
    "\n",
    "or between a pair of **single quotes** `'`:\n",
    "\n",
    "> e.g. `'กขคง'`, `'people say they know \"blockchain\"'`, and `'さよなら means goodbye'`"
   ]
  },
  {
   "cell_type": "code",
   "metadata": {
    "id": "l_aAhNyLgoYY"
   },
   "source": [
    "print(\"hello\")\n",
    "print(\"Humuhumunukunukuapua'a is a type of fish.\")\n",
    "print(\"\")\n",
    "print('กขคง')\n",
    "print('people say they know \"blockchain\"')\n",
    "print('さよなら means goodbye')"
   ],
   "execution_count": null,
   "outputs": []
  },
  {
   "cell_type": "markdown",
   "metadata": {
    "id": "YOxMMcEwgo6a"
   },
   "source": [
    "Both double quotes and single quotes work fine, but we have to be consistent: the string must start and end with the same type of quotation characters.\n",
    "\n",
    "Also, it is tricky for a text to include a double quote inside a string which begins and ends with double quotes (same goes for single quotes). To do so, we need what is called **character escaping**. Specifically, we will need to prepend the double quote with a backslash inside a string:"
   ]
  },
  {
   "cell_type": "code",
   "metadata": {
    "id": "A-EScbS5hFI4"
   },
   "source": [
    "print('Humuhumunukunukuapua\\'a is a type of fish.')\n",
    "print(\"people say they know \\\"blockchain\\\"\")"
   ],
   "execution_count": null,
   "outputs": []
  },
  {
   "cell_type": "markdown",
   "metadata": {
    "id": "T8jWStuahZQQ"
   },
   "source": [
    "### Example: Air Quality Index\n",
    "\n",
    "For the past few years, we have experienced increasing air pollution. For this task, we will write a function to translate AQI values (input) into category colors (output). Here is the summary:\n",
    "\n",
    "| AQI Values | Category | Colors |\n",
    "|------------|----------|--------|\n",
    "| 0 - 50 | Good | Green |\n",
    "| 51 - 100 | Moderate | Yellow |\n",
    "| 100 - 150 | Unhealthy For Sensitive Groups | Orange |\n",
    "| 151 - 200 | Unhealthy | Red |\n",
    "| 201 - 300 | Very Unhealthy | Purple |\n",
    "| 301 - 500 | Hazardous | Maroon |\n",
    "\n",
    "And here is how we could implement this function:"
   ]
  },
  {
   "cell_type": "code",
   "metadata": {
    "id": "Tkr_ci2_mjZF"
   },
   "source": [
    "def aqi_category_color(aqi_value):\n",
    "    if aqi_value <= 50:\n",
    "        return 'green'\n",
    "    elif aqi_value <= 100:\n",
    "        return 'yellow'\n",
    "    elif aqi_value <= 150:\n",
    "        return 'orange'\n",
    "    elif aqi_value <= 200:\n",
    "        return 'red'\n",
    "    elif aqi_value <= 300:\n",
    "        return 'purple'\n",
    "    else:\n",
    "        return 'maroon'\n",
    "\n",
    "\n",
    "print('Color status of AQI 25 is', aqi_category_color(25))\n",
    "print('Color status of AQI 125 is', aqi_category_color(125))\n",
    "print('Color status of AQI 225 is', aqi_category_color(225))\n",
    "print('Color status of AQI 325 is', aqi_category_color(325))"
   ],
   "execution_count": null,
   "outputs": []
  },
  {
   "cell_type": "markdown",
   "metadata": {
    "id": "5Se1GPJVnYvY"
   },
   "source": [
    "This function differs from `phase_h2o` in a couple of ways:\n",
    "\n",
    "- Function `aqi_category_color` itself does _not_ `print` any strings. It instead returns a string as output, which then got feeded into `print` function outside. This approach is generally preferable because the computational logic is separated from the presentation.\n",
    "- Function `aqi_category_color` introduces sibling clauses `elif` and `else` to if statements. As you may have guessed, `elif` and `else` clauses are even considered at all when the previous clauses are false.\n",
    "\n",
    "Let’s break down the code a bit further.\n",
    "- AQI value 125 converts to `\"yellow\"` because `aqi_value <= 50` was false, but `aqi_value <= 100` was true.\n",
    "- AQI value 325 converts to `\"maroon\"` because all previous `if` and `elif` clauses were false.\n"
   ]
  },
  {
   "cell_type": "markdown",
   "metadata": {
    "id": "KG6vIgcwqLr-"
   },
   "source": [
    "## 5. Lists and For Loops\n",
    "\n",
    "Imagine that we are given a sequence of values (e.g. numbers, strings, or even more complex data) and we want to learn something about this sequence. Tasks like this include:\n",
    "\n",
    "- **Aggregations:** for the given list of values, computes their sum (or the maximum value, or count the number of unique values, or their average, etc.)\n",
    "- **Sorting:** order the list according to its value (or based on its derivatives)\n",
    "- **Filtering:** find which values in the list satisfies a given condition (usually called a predicate)\n",
    "- and a whole lot others!"
   ]
  },
  {
   "cell_type": "markdown",
   "metadata": {
    "id": "SKmfMYhs0eya"
   },
   "source": [
    "### Example: Computing Average\n",
    "\n",
    "We begin with a list of `numbers` and we will compute their average (arithmetic mean)."
   ]
  },
  {
   "cell_type": "code",
   "metadata": {
    "id": "JUcxyyNysxXT"
   },
   "source": [
    "numbers = [34, 13, 62, 91, 87, 66, 29, 17, 83, 55, 44]\n",
    "\n",
    "# Computes the average\n",
    "total = 0\n",
    "count = 0\n",
    "for n in numbers:\n",
    "    total = total + n\n",
    "    count = count + 1\n",
    "\n",
    "average = total / count\n",
    "print(\"The average number is\", format(average, '.3f'))"
   ],
   "execution_count": null,
   "outputs": []
  },
  {
   "cell_type": "markdown",
   "metadata": {
    "id": "x9I9szHot_BQ"
   },
   "source": [
    "Let’s walk through this code together.\n",
    "\n",
    "First of all, look at the first line of code. It declares a list of 11 integers, and stores into a variable called `numbers`.\n",
    "```python\n",
    "numbers = [34, 13, 62, 91, 87, 66, 29, 17, 83, 55, 44]\n",
    "```\n",
    "\n",
    "Next, skip the for clause for a moment and look at its **body** (the indented part of the for statement). Look at the assignment statements below.\n",
    "```python\n",
    "    total = total + value\n",
    "    count = count + 1\n",
    "```\n",
    "What essentially happens here is that, variable `total` updates its value by an increment of `n`, whereas variable `count` bumps up its own value by `1`.\n",
    "\n",
    "Now for the interpretation of the main **for clause**,\n",
    "```python\n",
    "for n in numbers:\n",
    "```\n",
    "It means that the body of the for statement has to be executed **once for each value** (called `n`) in the list of values (called `numbers`).\n",
    "\n",
    "With `total` and `count` being initialized at 0, at the end,\n",
    "\n",
    "- `total` will have accumulated the _total_ of numbers in the list, and \n",
    "- `count` will be the _count_ of numbers in the list (sometimes called the _length_).\n",
    "\n",
    "And thus, we have all necessary data to compute the average as the final result.\n",
    "\n",
    "---\n",
    "\n",
    "By the way, there is a Python built-in functions `sum` and `len` that would compute the total and the count of values in the list for us. In the future, there will also be other ways to compute the mean of a sequence of values in a single function."
   ]
  },
  {
   "cell_type": "code",
   "metadata": {
    "id": "1yS6WCko5PY2"
   },
   "source": [
    "numbers = [34, 13, 62, 91, 87, 66, 29, 17, 83, 55, 44]\n",
    "average = sum(numbers) / len(numbers)\n",
    "print(\"The average number is\", format(average, '.3f'))"
   ],
   "execution_count": null,
   "outputs": []
  },
  {
   "cell_type": "markdown",
   "metadata": {
    "id": "r1mj13x70lPL"
   },
   "source": [
    "### Minigame\n",
    "\n",
    "More guessing game! Look at each of the following code and guess what would happen once they are run."
   ]
  },
  {
   "cell_type": "code",
   "metadata": {
    "id": "p0H_01vbypXi"
   },
   "source": [
    "fruits = [\"apple\", \"banana\", \"cherry\", \"orange\"]\n",
    "for f in fruits:\n",
    "    print(f)"
   ],
   "execution_count": null,
   "outputs": []
  },
  {
   "cell_type": "code",
   "metadata": {
    "id": "T6CDDNQTKtaW"
   },
   "source": [
    "for char in \"banana\":\n",
    "    print(char)"
   ],
   "execution_count": null,
   "outputs": []
  },
  {
   "cell_type": "code",
   "metadata": {
    "id": "t4OcsbryK9Jr"
   },
   "source": [
    "adjectives = [\"red\", \"big\", \"tasty\"]\n",
    "fruits = [\"apple\", \"banana\", \"cherry\", \"orange\"]\n",
    "\n",
    "for a in adjectives:\n",
    "    for f in fruits:\n",
    "        print(a, f)"
   ],
   "execution_count": null,
   "outputs": []
  },
  {
   "cell_type": "code",
   "metadata": {
    "id": "-jIHorl1zUf5"
   },
   "source": [
    "digits = [0, 1, 2, 3, 4, 5, 6, 7, 8, 9]\n",
    "\n",
    "for d in digits:\n",
    "    if 3 < d < 7:\n",
    "        print(d)\n",
    "\n",
    "for d in digits:\n",
    "    if d % 2 == 0:\n",
    "        print(d)"
   ],
   "execution_count": null,
   "outputs": []
  },
  {
   "cell_type": "markdown",
   "metadata": {
    "id": "QVO7cqxI0wpJ"
   },
   "source": [
    "### More List Operations\n",
    "\n",
    "Apart of iterating through each element in the list, we can operate on lists in a few diferent ways:\n",
    "\n",
    "[Python Documentation on List](https://docs.python.org/3/tutorial/datastructures.html#more-on-lists)"
   ]
  },
  {
   "cell_type": "markdown",
   "metadata": {
    "id": "3QlYEpi42kZ6"
   },
   "source": [
    "##### i. List Appending and Insertion"
   ]
  },
  {
   "cell_type": "code",
   "metadata": {
    "id": "m799j6Zq1Kly"
   },
   "source": [
    "selected_letters = []\n",
    "for char in \"mississippi\":\n",
    "    if char in 'pie':  # char must 'p', 'i', or 'e'\n",
    "      selected_letters.append(char)\n",
    "print(selected_letters)"
   ],
   "execution_count": null,
   "outputs": []
  },
  {
   "cell_type": "code",
   "metadata": {
    "id": "CXo6FQwv1q9I"
   },
   "source": [
    "selected_letters = []\n",
    "for char in \"supercalifragilisticexpialidocious\":\n",
    "    if char < 'e' or char > 's':\n",
    "        selected_letters.insert(0, char)  # insert at the beginning\n",
    "print(selected_letters)"
   ],
   "execution_count": null,
   "outputs": []
  },
  {
   "cell_type": "code",
   "metadata": {
    "id": "yJrT1fM02ruX"
   },
   "source": [
    "fruits = [\"apple\", \"banana\", \"cherry\", \"orange\"]\n",
    "selected_fruits = []\n",
    "for f in fruits:\n",
    "    if 'e' in f:  # fruit (f) must contain letter 'e'\n",
    "        selected_fruits.append(f)\n",
    "print(selected_fruits)"
   ],
   "execution_count": null,
   "outputs": []
  },
  {
   "cell_type": "markdown",
   "metadata": {
    "id": "2sw1gBiO4fr7"
   },
   "source": [
    "##### ii. List Concatenation and Multiplication"
   ]
  },
  {
   "cell_type": "code",
   "metadata": {
    "id": "b9GugLUh45Ua"
   },
   "source": [
    "a = [1, 2, 3]\n",
    "b = [4, 6, 8, 10]\n",
    "print(a + b)\n",
    "print(4 * a)"
   ],
   "execution_count": null,
   "outputs": []
  },
  {
   "cell_type": "markdown",
   "metadata": {
    "id": "Owxi7uaN504k"
   },
   "source": [
    "##### iii. Accessing and Modifying List Elements"
   ]
  },
  {
   "cell_type": "code",
   "metadata": {
    "id": "W8odMPzR50VB"
   },
   "source": [
    "numbers = [34, 13, 62, 91, 87, 66, 29, 17, 83, 55, 44]\n",
    "\n",
    "print(numbers[0])\n",
    "print(numbers[1])\n",
    "print(numbers[7])\n",
    "print(numbers[-1])\n",
    "print(numbers[-6])\n",
    "print()\n",
    "\n",
    "print(numbers[1:4])\n",
    "print(numbers[2:-2])\n",
    "print(numbers[8:])\n",
    "print(numbers[0:11])\n",
    "print(numbers[2:] + numbers[:2])\n",
    "print(numbers[::2])\n",
    "print()\n",
    "\n",
    "numbers[5] = 0\n",
    "numbers[0] = numbers[0] ** 2\n",
    "numbers[10] = -numbers[0]\n",
    "print(numbers)"
   ],
   "execution_count": null,
   "outputs": []
  },
  {
   "cell_type": "markdown",
   "metadata": {
    "id": "p8UlFJoe9GC-"
   },
   "source": [
    "Some cheatsheets:\n",
    "\n",
    "**Indexing a single element**\n",
    "```\n",
    "       0    1    2    3    4    5    6    7    8    9   10\n",
    "L = | 34 | 13 | 62 | 91 | 87 | 66 | 29 | 17 | 83 | 55 | 44 |\n",
    "     -11  -10   -9   -8   -7   -6   -5   -4   -3   -2   -1\n",
    "```\n",
    "\n",
    "**Indexing a slice of elements**\n",
    "```\n",
    "    0    1    2    3    4    5    6    7    8    9   10   11\n",
    "L = | 34 | 13 | 62 | 91 | 87 | 66 | 29 | 17 | 83 | 55 | 44 | \n",
    "  -11  -10   -9   -8   -7   -6   -5   -4   -3   -2   -1\n",
    "```"
   ]
  },
  {
   "cell_type": "markdown",
   "metadata": {
    "id": "qaThm0M89iQ6"
   },
   "source": [
    "By the way, indexing, slicings, and concatenation works on strings too."
   ]
  },
  {
   "cell_type": "code",
   "metadata": {
    "id": "OwXZnuNT9Sws"
   },
   "source": [
    "disease = \"pneumonoultramicroscopicsilicovolcanoconiosis\"\n",
    "\n",
    "print(disease[0] + disease[-1])\n",
    "print(disease[14])\n",
    "print(disease[8:8+5])  # what is the word length?\n",
    "print(disease[32:29:-1] + disease[2])\n",
    "print(disease[-15:-15+7])  # what is the word length?\n",
    "\n",
    "print(\"oh\" + 3 * \" no\")"
   ],
   "execution_count": null,
   "outputs": []
  },
  {
   "cell_type": "markdown",
   "metadata": {
    "id": "HKDONwNKAXmc"
   },
   "source": [
    "---\n",
    "\n",
    "## Old Stuff Below"
   ]
  },
  {
   "cell_type": "markdown",
   "metadata": {
    "id": "u1YpN4QgLFrR"
   },
   "source": [
    "range"
   ]
  },
  {
   "cell_type": "code",
   "metadata": {
    "id": "Lpo8vLO8K0jh"
   },
   "source": [
    "for x in range(6):\n",
    "  print(x)"
   ],
   "execution_count": null,
   "outputs": []
  },
  {
   "cell_type": "code",
   "metadata": {
    "id": "1K51Z6jWK20a"
   },
   "source": [
    "for x in range(2, 6):\n",
    "  print(x)"
   ],
   "execution_count": null,
   "outputs": []
  },
  {
   "cell_type": "code",
   "metadata": {
    "id": "aufeXuFnK5e7"
   },
   "source": [
    "for x in range(2, 30, 3):\n",
    "  print(x)"
   ],
   "execution_count": null,
   "outputs": []
  },
  {
   "cell_type": "markdown",
   "metadata": {
    "id": "5mJnmEBFLAhz"
   },
   "source": [
    "while loop"
   ]
  },
  {
   "cell_type": "code",
   "metadata": {
    "id": "rq8jWEQmLSS1"
   },
   "source": [
    "i = 1\n",
    "while i < 6:\n",
    "  print(i)\n",
    "  i += 1"
   ],
   "execution_count": null,
   "outputs": []
  },
  {
   "cell_type": "code",
   "metadata": {
    "id": "BIOrDmP9LTID"
   },
   "source": [
    "i = 1\n",
    "while i < 6:\n",
    "  print(i)\n",
    "  if i == 3:\n",
    "    break\n",
    "  i += 1"
   ],
   "execution_count": null,
   "outputs": []
  },
  {
   "cell_type": "code",
   "metadata": {
    "id": "f4AyhvCkLXPl"
   },
   "source": [
    "i = 0\n",
    "while i < 6:\n",
    "  i += 1\n",
    "  if i == 3:\n",
    "    continue\n",
    "  print(i)"
   ],
   "execution_count": null,
   "outputs": []
  },
  {
   "cell_type": "markdown",
   "metadata": {
    "id": "WiF5gTrHD1cJ"
   },
   "source": [
    "## 3. Strings"
   ]
  },
  {
   "cell_type": "code",
   "metadata": {
    "id": "KauhD_W6DrUm"
   },
   "source": [
    "'spam eggs'  # single quotes"
   ],
   "execution_count": null,
   "outputs": []
  },
  {
   "cell_type": "code",
   "metadata": {
    "id": "Tss5nEAQEAN6"
   },
   "source": [
    "'doesn't'"
   ],
   "execution_count": null,
   "outputs": []
  },
  {
   "cell_type": "code",
   "metadata": {
    "id": "Aohie2VzD7nv"
   },
   "source": [
    "'doesn\\'t'  # use \\' to escape the single quote..."
   ],
   "execution_count": null,
   "outputs": []
  },
  {
   "cell_type": "code",
   "metadata": {
    "id": "JlOE1x-pD9xu"
   },
   "source": [
    "\"doesn't\"  # ...or use double quotes instead"
   ],
   "execution_count": null,
   "outputs": []
  },
  {
   "cell_type": "code",
   "metadata": {
    "id": "BfJjc1weEE0g"
   },
   "source": [
    "'\"Yes,\" they said.'"
   ],
   "execution_count": null,
   "outputs": []
  },
  {
   "cell_type": "code",
   "metadata": {
    "id": "V_TqKXF_EI3W"
   },
   "source": [
    "\"\\\"Yes,\\\" they said.\""
   ],
   "execution_count": null,
   "outputs": []
  },
  {
   "cell_type": "code",
   "metadata": {
    "id": "MoY035XIEJ_B"
   },
   "source": [
    "'\"Isn\\'t,\" they said.'"
   ],
   "execution_count": null,
   "outputs": []
  },
  {
   "cell_type": "markdown",
   "metadata": {
    "id": "x_Dxdi25EU11"
   },
   "source": [
    "print( ) function"
   ]
  },
  {
   "cell_type": "code",
   "metadata": {
    "id": "h1OkHNCYEbrp"
   },
   "source": [
    "'\"Isn\\'t,\" they said.'"
   ],
   "execution_count": null,
   "outputs": []
  },
  {
   "cell_type": "code",
   "metadata": {
    "id": "834WDagsEexd"
   },
   "source": [
    "print('\"Isn\\'t,\" they said.')"
   ],
   "execution_count": null,
   "outputs": []
  },
  {
   "cell_type": "code",
   "metadata": {
    "id": "HHVGHXnUEmAN"
   },
   "source": [
    "s = 'First line.\\nSecond line.'  # \\n means newline"
   ],
   "execution_count": null,
   "outputs": []
  },
  {
   "cell_type": "code",
   "metadata": {
    "id": "wVDx0KsGEoMo"
   },
   "source": [
    "s  # without print(), \\n is included in the output"
   ],
   "execution_count": null,
   "outputs": []
  },
  {
   "cell_type": "code",
   "metadata": {
    "id": "PdwQGJPmErEp"
   },
   "source": [
    "print(s)  # with print(), \\n produces a new line"
   ],
   "execution_count": null,
   "outputs": []
  },
  {
   "cell_type": "markdown",
   "metadata": {
    "id": "7gh3PqlSEwSo"
   },
   "source": [
    "raw strings"
   ]
  },
  {
   "cell_type": "code",
   "metadata": {
    "id": "HKPjEMV0EsAw"
   },
   "source": [
    "print('C:\\some\\name')  # here \\n means newline!"
   ],
   "execution_count": null,
   "outputs": []
  },
  {
   "cell_type": "code",
   "metadata": {
    "id": "qYmAKKZFE1G6"
   },
   "source": [
    "print(r'C:\\some\\name')  # note the r before the quote"
   ],
   "execution_count": null,
   "outputs": []
  },
  {
   "cell_type": "markdown",
   "metadata": {
    "id": "96vuFyGUE_9Z"
   },
   "source": [
    "Using triple-quotes to span multiple lines"
   ]
  },
  {
   "cell_type": "code",
   "metadata": {
    "id": "AHEXWFfLE6MO"
   },
   "source": [
    "print(\"\"\"\\\n",
    "Usage: thingy [OPTIONS]\n",
    "     -h                        Display this usage message\n",
    "     -H hostname               Hostname to connect to\n",
    "\"\"\")"
   ],
   "execution_count": null,
   "outputs": []
  },
  {
   "cell_type": "markdown",
   "metadata": {
    "id": "ZiNSlLhrFKxa"
   },
   "source": [
    "string concatenated and repeated"
   ]
  },
  {
   "cell_type": "code",
   "metadata": {
    "id": "PjPrgFeQFHWR"
   },
   "source": [
    "3 * 'un' + 'ium'"
   ],
   "execution_count": null,
   "outputs": []
  },
  {
   "cell_type": "code",
   "metadata": {
    "id": "KY8qktFGFVpg"
   },
   "source": [
    "'Py' 'thon'"
   ],
   "execution_count": null,
   "outputs": []
  },
  {
   "cell_type": "code",
   "metadata": {
    "id": "bwcLall0FeFH"
   },
   "source": [
    "text = ('Put several strings within parentheses '\n",
    "         'to have them joined together.')"
   ],
   "execution_count": null,
   "outputs": []
  },
  {
   "cell_type": "code",
   "metadata": {
    "id": "eFNlo4SbFmRM"
   },
   "source": [
    "text"
   ],
   "execution_count": null,
   "outputs": []
  },
  {
   "cell_type": "code",
   "metadata": {
    "id": "GO-DFdU_GTGW"
   },
   "source": [
    "prefix = 'Py'"
   ],
   "execution_count": null,
   "outputs": []
  },
  {
   "cell_type": "code",
   "metadata": {
    "id": "0Oj8uUieGXQ3"
   },
   "source": [
    "prefix 'thon'  # can't concatenate a variable and a string literal"
   ],
   "execution_count": null,
   "outputs": []
  },
  {
   "cell_type": "code",
   "metadata": {
    "id": "hoiDzWWAGlJe",
    "colab": {
     "base_uri": "https://localhost:8080/",
     "height": 130
    },
    "outputId": "7b891a6c-4639-445c-c76c-76d146840a80"
   },
   "source": [
    "('un' * 3) 'ium'"
   ],
   "execution_count": 7,
   "outputs": [
    {
     "output_type": "error",
     "ename": "SyntaxError",
     "evalue": "ignored",
     "traceback": [
      "\u001B[0;36m  File \u001B[0;32m\"<ipython-input-7-f4764cbe42a8>\"\u001B[0;36m, line \u001B[0;32m1\u001B[0m\n\u001B[0;31m    ('un' * 3) 'ium'\u001B[0m\n\u001B[0m                   ^\u001B[0m\n\u001B[0;31mSyntaxError\u001B[0m\u001B[0;31m:\u001B[0m invalid syntax\n"
     ]
    }
   ]
  },
  {
   "cell_type": "markdown",
   "metadata": {
    "id": "DgFvu1HqGsFM"
   },
   "source": [
    "concatenate variables with string use +"
   ]
  },
  {
   "cell_type": "code",
   "metadata": {
    "id": "U8icBZntGnsG"
   },
   "source": [
    "prefix + 'thon'"
   ],
   "execution_count": null,
   "outputs": []
  },
  {
   "cell_type": "markdown",
   "metadata": {
    "id": "0Fddw69WGxvC"
   },
   "source": [
    "string indexed"
   ]
  },
  {
   "cell_type": "code",
   "metadata": {
    "id": "huMWrPd6GxZY"
   },
   "source": [
    "word = 'Python'"
   ],
   "execution_count": null,
   "outputs": []
  },
  {
   "cell_type": "code",
   "metadata": {
    "id": "Hac5uSF3G1AA"
   },
   "source": [
    "word[0]  # character in position 0"
   ],
   "execution_count": null,
   "outputs": []
  },
  {
   "cell_type": "code",
   "metadata": {
    "id": "oQjp2-STG3yN"
   },
   "source": [
    "word[5]  # character in position 5"
   ],
   "execution_count": null,
   "outputs": []
  },
  {
   "cell_type": "markdown",
   "metadata": {
    "id": "QWyliW0FG69p"
   },
   "source": [
    "negative numbers index"
   ]
  },
  {
   "cell_type": "code",
   "metadata": {
    "id": "BVckGCNjHAz5"
   },
   "source": [
    "word[-1]  # last character"
   ],
   "execution_count": null,
   "outputs": []
  },
  {
   "cell_type": "code",
   "metadata": {
    "id": "ll6LjejNHCYJ"
   },
   "source": [
    "word[-2]  # second-last character"
   ],
   "execution_count": null,
   "outputs": []
  },
  {
   "cell_type": "code",
   "metadata": {
    "id": "b_FlaYi9HEOH"
   },
   "source": [
    "word[-6]"
   ],
   "execution_count": null,
   "outputs": []
  },
  {
   "cell_type": "markdown",
   "metadata": {
    "id": "6Zx6aoHVHHn2"
   },
   "source": [
    "Slicing"
   ]
  },
  {
   "cell_type": "code",
   "metadata": {
    "id": "zimBWkhjHKBs"
   },
   "source": [
    "word[0:2]  # characters from position 0 (included) to 2 (excluded)"
   ],
   "execution_count": null,
   "outputs": []
  },
  {
   "cell_type": "code",
   "metadata": {
    "id": "6dxzgN0hHMJl"
   },
   "source": [
    "word[2:5]  # characters from position 2 (included) to 5 (excluded)"
   ],
   "execution_count": null,
   "outputs": []
  },
  {
   "cell_type": "markdown",
   "metadata": {
    "id": "uHToqbLcHT5v"
   },
   "source": [
    "s[:i] + s[i:] is always equal to s"
   ]
  },
  {
   "cell_type": "code",
   "metadata": {
    "id": "-keTwQGSHY9g"
   },
   "source": [
    "word[:2] + word[2:]"
   ],
   "execution_count": null,
   "outputs": []
  },
  {
   "cell_type": "code",
   "metadata": {
    "id": "LMdum8PeHaxt"
   },
   "source": [
    "word[:4] + word[4:]"
   ],
   "execution_count": null,
   "outputs": []
  },
  {
   "cell_type": "code",
   "metadata": {
    "id": "YJ5dLjYrHhq2"
   },
   "source": [
    "word[:2]   # character from the beginning to position 2 (excluded)"
   ],
   "execution_count": null,
   "outputs": []
  },
  {
   "cell_type": "code",
   "metadata": {
    "id": "HTbhURZgHjWH"
   },
   "source": [
    "word[4:]   # characters from position 4 (included) to the end"
   ],
   "execution_count": null,
   "outputs": []
  },
  {
   "cell_type": "code",
   "metadata": {
    "id": "XlRR5i5IHlM3"
   },
   "source": [
    "word[-2:]  # characters from the second-last (included) to the end"
   ],
   "execution_count": null,
   "outputs": []
  },
  {
   "cell_type": "code",
   "metadata": {
    "id": "AMR0Gr91Hnt4"
   },
   "source": [
    "#  +---+---+---+---+---+---+\n",
    "#  | P | y | t | h | o | n |\n",
    "#  +---+---+---+---+---+---+\n",
    "#  0   1   2   3   4   5   6\n",
    "# -6  -5  -4  -3  -2  -1"
   ],
   "execution_count": null,
   "outputs": []
  },
  {
   "cell_type": "code",
   "metadata": {
    "id": "Tc6YkbV-H2cH"
   },
   "source": [
    "word[42]  # the word only has 6 characters"
   ],
   "execution_count": null,
   "outputs": []
  },
  {
   "cell_type": "markdown",
   "metadata": {
    "id": "LFEun-TkH-kT"
   },
   "source": [
    "out of range slice indexes"
   ]
  },
  {
   "cell_type": "code",
   "metadata": {
    "id": "zEUNiQsxH5rJ"
   },
   "source": [
    "word[4:42]"
   ],
   "execution_count": null,
   "outputs": []
  },
  {
   "cell_type": "code",
   "metadata": {
    "id": "qCwSdRFtH_ri"
   },
   "source": [
    "word[42:]"
   ],
   "execution_count": null,
   "outputs": []
  },
  {
   "cell_type": "markdown",
   "metadata": {
    "id": "sn1LgBGrIG-f"
   },
   "source": [
    "Python strings are immutable"
   ]
  },
  {
   "cell_type": "code",
   "metadata": {
    "id": "SApDaw5DIJkv"
   },
   "source": [
    "word[0] = 'J'"
   ],
   "execution_count": null,
   "outputs": []
  },
  {
   "cell_type": "code",
   "metadata": {
    "id": "Qs20wQRGILrc"
   },
   "source": [
    "word[2:] = 'py'"
   ],
   "execution_count": null,
   "outputs": []
  },
  {
   "cell_type": "markdown",
   "metadata": {
    "id": "hAKZ2rI_Ifna"
   },
   "source": [
    "len( ) function"
   ]
  },
  {
   "cell_type": "code",
   "metadata": {
    "id": "WRCrvFvKIQIP"
   },
   "source": [
    "s = 'supercalifragilisticexpialidocious'\n",
    "len(s)"
   ],
   "execution_count": null,
   "outputs": []
  },
  {
   "cell_type": "markdown",
   "metadata": {
    "id": "MSJoCwtuLcFM"
   },
   "source": [
    "## 6. Functions and Arguments"
   ]
  },
  {
   "cell_type": "markdown",
   "metadata": {
    "id": "mZEa7RjXLqXS"
   },
   "source": [
    "create function"
   ]
  },
  {
   "cell_type": "code",
   "metadata": {
    "id": "PEK0dnOPLrqC"
   },
   "source": [
    "def my_function():\n",
    "  print(\"Hello from a function\")"
   ],
   "execution_count": null,
   "outputs": []
  },
  {
   "cell_type": "markdown",
   "metadata": {
    "id": "LqTkBXjcLtaO"
   },
   "source": [
    "call function"
   ]
  },
  {
   "cell_type": "code",
   "metadata": {
    "id": "9gpT-8fJLvBz"
   },
   "source": [
    "def my_function():\n",
    "  print(\"Hello from a function\")\n",
    "\n",
    "my_function()"
   ],
   "execution_count": null,
   "outputs": []
  },
  {
   "cell_type": "markdown",
   "metadata": {
    "id": "KZhDU4ZULyWE"
   },
   "source": [
    "arguments"
   ]
  },
  {
   "cell_type": "code",
   "metadata": {
    "id": "idE2s0b3L2DW"
   },
   "source": [
    "def my_function(fname):\n",
    "  print(fname + \" Refsnes\")\n",
    "\n",
    "my_function(\"Emil\")\n",
    "my_function(\"Tobias\")\n",
    "my_function(\"Linus\")"
   ],
   "execution_count": null,
   "outputs": []
  },
  {
   "cell_type": "code",
   "metadata": {
    "id": "n4SQD5IpL7fS"
   },
   "source": [
    "def my_function(fname, lname):\n",
    "  print(fname + \" \" + lname)\n",
    "\n",
    "my_function(\"Emil\", \"Refsnes\")"
   ],
   "execution_count": null,
   "outputs": []
  },
  {
   "cell_type": "code",
   "metadata": {
    "id": "hMuP_HoXL8SY"
   },
   "source": [
    "def my_function(fname, lname):\n",
    "  print(fname + \" \" + lname)\n",
    "\n",
    "my_function(\"Emil\")"
   ],
   "execution_count": null,
   "outputs": []
  },
  {
   "cell_type": "code",
   "metadata": {
    "id": "QjC2H8YKMD6W"
   },
   "source": [
    "def my_function(country = \"Norway\"):\n",
    "  print(\"I am from \" + country)\n",
    "\n",
    "my_function(\"Sweden\")\n",
    "my_function(\"India\")\n",
    "my_function()\n",
    "my_function(\"Brazil\")"
   ],
   "execution_count": null,
   "outputs": []
  },
  {
   "cell_type": "code",
   "metadata": {
    "id": "drCA51VCMIBd"
   },
   "source": [
    "# return value\n",
    "def my_function(x):\n",
    "  return 5 * x\n",
    "\n",
    "print(my_function(3))\n",
    "print(my_function(5))\n",
    "print(my_function(9))"
   ],
   "execution_count": null,
   "outputs": []
  },
  {
   "cell_type": "markdown",
   "metadata": {
    "id": "aTntXMgiMMAp"
   },
   "source": [
    "## 7. How to make a QR code with Python"
   ]
  },
  {
   "cell_type": "code",
   "metadata": {
    "id": "Kqu4gzGbCGJa"
   },
   "source": [
    "import qrcode\n",
    "img = qrcode.make('Some data here')"
   ],
   "execution_count": null,
   "outputs": []
  },
  {
   "cell_type": "code",
   "metadata": {
    "id": "6LGWGiHfCRHW"
   },
   "source": [
    "img.get_image()"
   ],
   "execution_count": null,
   "outputs": []
  },
  {
   "cell_type": "code",
   "metadata": {
    "id": "PY19HCwXCZRm"
   },
   "source": [
    ""
   ],
   "execution_count": null,
   "outputs": []
  }
 ]
}