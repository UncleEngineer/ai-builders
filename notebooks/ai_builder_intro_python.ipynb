{
 "cells": [
  {
   "cell_type": "markdown",
   "metadata": {
    "id": "a1B0Yys3BXjs"
   },
   "source": [
    "# Introduction to Python\n",
    "\n",
    "### But First, Learning Tips!\n",
    "\n",
    "1. Before clicking \\[▶ Run\\] to see the result from running the code, **make a guess of what the final result would be** before actually running it.\n",
    "2. **Do not be afraid to play around with code**: change them, re-run the code, and see if the new result meets your expectation.\n",
    "3. Got error messages? Relax. Even experienced programmers got these so-called bugs! **Pause for a few seconds and see why the code produces such error.**"
   ]
  },
  {
   "cell_type": "markdown",
   "metadata": {},
   "source": [
    "Open this in Colab. [![](https://colab.research.google.com/assets/colab-badge.svg)](https://colab.research.google.com/drive/1CO_Qlprw8NkQryk_gUdtNjMoGNsE3PWA?usp=sharing)\n",
    "\n",
    "**Developer Note:** copy this colab into GitHub Gist and create a link from it."
   ]
  },
  {
   "cell_type": "markdown",
   "metadata": {
    "id": "EUysvkwFAE4Y"
   },
   "source": [
    "## 1. Numbers\n",
    "\n",
    "Simple math expressions works out of the box.\n",
    "Though, we use `*` and `/` symbols to represent multiplication ($\\times$) and division ($\\div$), respectively."
   ]
  },
  {
   "cell_type": "code",
   "execution_count": null,
   "metadata": {
    "colab": {
     "base_uri": "https://localhost:8080/"
    },
    "id": "49uHsFau_6EV",
    "outputId": "5b21299a-6b0e-4bbe-c06b-1a82b69df1fa"
   },
   "outputs": [],
   "source": [
    "2 + 2"
   ]
  },
  {
   "cell_type": "code",
   "execution_count": null,
   "metadata": {},
   "outputs": [],
   "source": [
    "17 / 3"
   ]
  },
  {
   "cell_type": "code",
   "execution_count": null,
   "metadata": {
    "colab": {
     "base_uri": "https://localhost:8080/"
    },
    "id": "RcdY6ZsUAIDt",
    "outputId": "99e38204-4c13-491b-9a6a-3705ff931e48",
    "scrolled": false
   },
   "outputs": [],
   "source": [
    "50 - 5 * 6"
   ]
  },
  {
   "cell_type": "markdown",
   "metadata": {},
   "source": [
    "Notice the **order of precedence** in the above expression: multiplication `*` is evaluated before subtraction `-`.\n",
    "So if we want to do subtraction first, we need a pair of parentheses, `(` and `)`, just like in math!"
   ]
  },
  {
   "cell_type": "code",
   "execution_count": null,
   "metadata": {},
   "outputs": [],
   "source": [
    "(50 - 5) * 6"
   ]
  },
  {
   "cell_type": "markdown",
   "metadata": {},
   "source": [
    "Expressions can also be much more complicated.\n",
    "Below is the code to convert temperature value from 100°F (Farenheit) into °C (Celcius) according to $\\dfrac{C}{5} = \\dfrac{F - 32}{9}$."
   ]
  },
  {
   "cell_type": "code",
   "execution_count": null,
   "metadata": {},
   "outputs": [],
   "source": [
    "((100 - 32) / 9) * 5"
   ]
  },
  {
   "cell_type": "markdown",
   "metadata": {},
   "source": [
    "Once you have got familiarity with the **order of precedence**, then you will notice that we can remove the redundant pair of parentheses:"
   ]
  },
  {
   "cell_type": "code",
   "execution_count": null,
   "metadata": {},
   "outputs": [],
   "source": [
    "(100 - 32) / 9 * 5"
   ]
  },
  {
   "cell_type": "markdown",
   "metadata": {},
   "source": [
    "By the way, how can we compute $5^{12}$?"
   ]
  },
  {
   "cell_type": "code",
   "execution_count": null,
   "metadata": {},
   "outputs": [],
   "source": [
    "5 * 5 * 5 * 5 * 5 * 5 * 5 * 5 * 5 * 5 * 5 * 5 * 5"
   ]
  },
  {
   "cell_type": "markdown",
   "metadata": {},
   "source": [
    "You should have got 244140625.\n",
    "Since this kind of exponentiation is very common, we can use the `**` operator to do this.\n",
    "It also works for negative exponents."
   ]
  },
  {
   "cell_type": "code",
   "execution_count": null,
   "metadata": {},
   "outputs": [],
   "source": [
    "5 ** 12"
   ]
  },
  {
   "cell_type": "code",
   "execution_count": null,
   "metadata": {},
   "outputs": [],
   "source": [
    "5 ** -1"
   ]
  },
  {
   "cell_type": "markdown",
   "metadata": {},
   "source": [
    "### Aside: Real Division vs Integer Division\n",
    "\n",
    "Recall that the result of `17 / 3` from above produces a real number result.\n",
    "But what if you want the final without the fractional part (also called a “quotient”)?\n",
    "**Answer:** use the operator `//` (double slashes)."
   ]
  },
  {
   "cell_type": "code",
   "execution_count": null,
   "metadata": {},
   "outputs": [],
   "source": [
    "17 // 3"
   ]
  },
  {
   "cell_type": "markdown",
   "metadata": {},
   "source": [
    "What about the “remainder” of dividing 17 by 3?\n",
    "We know that the result is $2$ from the equation $17 = 5 \\times 3 + 2$.\n",
    "\n",
    "However, to achieve this with computation, we need to know a little math. Assume that $A$ divided by $B$ produces the quotient $Q$ with the remainder $R$. Then we have this equation.\n",
    "\n",
    "> $A = Q \\times B + R$\n",
    "\n",
    "Solving for $R$, we get\n",
    "\n",
    "> $R = A - Q \\times B$\n",
    "\n",
    "And thus we find a way to compute the remainder, like so."
   ]
  },
  {
   "cell_type": "code",
   "execution_count": null,
   "metadata": {},
   "outputs": [],
   "source": [
    "17 - (17 // 3) * 3"
   ]
  },
  {
   "cell_type": "markdown",
   "metadata": {},
   "source": [
    "Whew, that was tedious!\n",
    "Luckily, we can achieve the same result simply by using the “modulo” operator: `%`."
   ]
  },
  {
   "cell_type": "code",
   "execution_count": null,
   "metadata": {},
   "outputs": [],
   "source": [
    "17 % 3"
   ]
  },
  {
   "cell_type": "markdown",
   "metadata": {},
   "source": [
    "Before moving on, what is the result of dividing -17 by 3?\n",
    "Does it follow the equation $A = Q \\times B + R$?"
   ]
  },
  {
   "cell_type": "code",
   "execution_count": null,
   "metadata": {},
   "outputs": [],
   "source": [
    "-17 // 3"
   ]
  },
  {
   "cell_type": "code",
   "execution_count": null,
   "metadata": {},
   "outputs": [],
   "source": [
    "-17 % 3"
   ]
  },
  {
   "cell_type": "markdown",
   "metadata": {
    "id": "-bGUAlIAA668"
   },
   "source": [
    "## 2. Variable"
   ]
  },
  {
   "cell_type": "code",
   "execution_count": null,
   "metadata": {
    "id": "5Ts8A0Q5AyEw"
   },
   "outputs": [],
   "source": [
    "width = 20"
   ]
  },
  {
   "cell_type": "code",
   "execution_count": null,
   "metadata": {
    "id": "l8TQTQXFBNfM"
   },
   "outputs": [],
   "source": [
    "height = 5 * 9"
   ]
  },
  {
   "cell_type": "code",
   "execution_count": null,
   "metadata": {
    "colab": {
     "base_uri": "https://localhost:8080/"
    },
    "id": "0FUXOsOEBOvt",
    "outputId": "9f3a20f2-34a3-4fee-a0d5-8a34e923f4f8"
   },
   "outputs": [],
   "source": [
    "width * height"
   ]
  },
  {
   "cell_type": "code",
   "execution_count": null,
   "metadata": {
    "colab": {
     "base_uri": "https://localhost:8080/",
     "height": 164
    },
    "id": "VTAf5CefBQoG",
    "outputId": "345a228d-68d9-46e7-ffa2-75f9993afba8"
   },
   "outputs": [],
   "source": [
    "n  # try to access an undefined variable"
   ]
  },
  {
   "cell_type": "markdown",
   "metadata": {
    "id": "oSI1QYoNDwVK"
   },
   "source": [
    "Desk calculator"
   ]
  },
  {
   "cell_type": "code",
   "execution_count": null,
   "metadata": {
    "id": "RgarytPoDdxk"
   },
   "outputs": [],
   "source": [
    "tax = 12.5 / 100"
   ]
  },
  {
   "cell_type": "code",
   "execution_count": null,
   "metadata": {
    "id": "mpmepntlDjjV"
   },
   "outputs": [],
   "source": [
    "price = 100.50"
   ]
  },
  {
   "cell_type": "code",
   "execution_count": null,
   "metadata": {
    "colab": {
     "base_uri": "https://localhost:8080/"
    },
    "id": "05Dz2p1IDlb0",
    "outputId": "9a95f542-c1cd-4362-8809-b3c408a2b918"
   },
   "outputs": [],
   "source": [
    "price * tax"
   ]
  },
  {
   "cell_type": "code",
   "execution_count": null,
   "metadata": {
    "colab": {
     "base_uri": "https://localhost:8080/"
    },
    "id": "XIsU89FBDoGU",
    "outputId": "415b2aea-d036-412a-f38d-2ef2189b1f68"
   },
   "outputs": [],
   "source": [
    "price + _"
   ]
  },
  {
   "cell_type": "code",
   "execution_count": null,
   "metadata": {
    "colab": {
     "base_uri": "https://localhost:8080/"
    },
    "id": "7HuArp85DpqJ",
    "outputId": "5eae4162-ee48-4325-da45-fd24e86f6a0f"
   },
   "outputs": [],
   "source": [
    "round(_, 2)"
   ]
  },
  {
   "cell_type": "markdown",
   "metadata": {
    "id": "WiF5gTrHD1cJ"
   },
   "source": [
    "## 3. Strings"
   ]
  },
  {
   "cell_type": "code",
   "execution_count": null,
   "metadata": {
    "colab": {
     "base_uri": "https://localhost:8080/",
     "height": 35
    },
    "id": "KauhD_W6DrUm",
    "outputId": "d88ab8cf-5748-4043-c8d9-d650fc5f430a"
   },
   "outputs": [],
   "source": [
    "'spam eggs'  # single quotes"
   ]
  },
  {
   "cell_type": "code",
   "execution_count": null,
   "metadata": {
    "colab": {
     "base_uri": "https://localhost:8080/",
     "height": 130
    },
    "id": "Tss5nEAQEAN6",
    "outputId": "10acea22-4b65-415d-e78f-3305d8e2cca8"
   },
   "outputs": [],
   "source": [
    "'doesn't'"
   ]
  },
  {
   "cell_type": "code",
   "execution_count": null,
   "metadata": {
    "colab": {
     "base_uri": "https://localhost:8080/",
     "height": 35
    },
    "id": "Aohie2VzD7nv",
    "outputId": "5cf9387f-97ca-4e63-92a1-466cece50817"
   },
   "outputs": [],
   "source": [
    "'doesn\\'t'  # use \\' to escape the single quote..."
   ]
  },
  {
   "cell_type": "code",
   "execution_count": null,
   "metadata": {
    "colab": {
     "base_uri": "https://localhost:8080/",
     "height": 35
    },
    "id": "JlOE1x-pD9xu",
    "outputId": "ce4447e2-a299-4ed9-c7fa-1b3f636ac325"
   },
   "outputs": [],
   "source": [
    "\"doesn't\"  # ...or use double quotes instead"
   ]
  },
  {
   "cell_type": "code",
   "execution_count": null,
   "metadata": {
    "colab": {
     "base_uri": "https://localhost:8080/",
     "height": 35
    },
    "id": "BfJjc1weEE0g",
    "outputId": "5bfedc7e-7009-4a54-d3a4-b84ea0811e97"
   },
   "outputs": [],
   "source": [
    "'\"Yes,\" they said.'"
   ]
  },
  {
   "cell_type": "code",
   "execution_count": null,
   "metadata": {
    "colab": {
     "base_uri": "https://localhost:8080/",
     "height": 35
    },
    "id": "V_TqKXF_EI3W",
    "outputId": "589e1c01-8229-439c-9818-1191bc4aa17e"
   },
   "outputs": [],
   "source": [
    "\"\\\"Yes,\\\" they said.\""
   ]
  },
  {
   "cell_type": "code",
   "execution_count": null,
   "metadata": {
    "colab": {
     "base_uri": "https://localhost:8080/",
     "height": 35
    },
    "id": "MoY035XIEJ_B",
    "outputId": "cfc9a853-d0cd-4f81-887d-b3553aa9da89"
   },
   "outputs": [],
   "source": [
    "'\"Isn\\'t,\" they said.'"
   ]
  },
  {
   "cell_type": "markdown",
   "metadata": {
    "id": "x_Dxdi25EU11"
   },
   "source": [
    "print( ) function"
   ]
  },
  {
   "cell_type": "code",
   "execution_count": null,
   "metadata": {
    "colab": {
     "base_uri": "https://localhost:8080/",
     "height": 35
    },
    "id": "h1OkHNCYEbrp",
    "outputId": "ddb18d6f-dc3c-40e0-b188-184bb4591fcd"
   },
   "outputs": [],
   "source": [
    "'\"Isn\\'t,\" they said.'"
   ]
  },
  {
   "cell_type": "code",
   "execution_count": null,
   "metadata": {
    "colab": {
     "base_uri": "https://localhost:8080/"
    },
    "id": "834WDagsEexd",
    "outputId": "13473982-cd80-46f5-ade4-d1a32bce6bfa"
   },
   "outputs": [],
   "source": [
    "print('\"Isn\\'t,\" they said.')"
   ]
  },
  {
   "cell_type": "code",
   "execution_count": null,
   "metadata": {
    "id": "HHVGHXnUEmAN"
   },
   "outputs": [],
   "source": [
    "s = 'First line.\\nSecond line.'  # \\n means newline"
   ]
  },
  {
   "cell_type": "code",
   "execution_count": null,
   "metadata": {
    "colab": {
     "base_uri": "https://localhost:8080/",
     "height": 35
    },
    "id": "wVDx0KsGEoMo",
    "outputId": "ed7335b9-3a24-46bc-c7ea-3bc076bd5419"
   },
   "outputs": [],
   "source": [
    "s  # without print(), \\n is included in the output"
   ]
  },
  {
   "cell_type": "code",
   "execution_count": null,
   "metadata": {
    "colab": {
     "base_uri": "https://localhost:8080/"
    },
    "id": "PdwQGJPmErEp",
    "outputId": "f82e9b15-0766-45bd-b651-2d5148515885"
   },
   "outputs": [],
   "source": [
    "print(s)  # with print(), \\n produces a new line"
   ]
  },
  {
   "cell_type": "markdown",
   "metadata": {
    "id": "7gh3PqlSEwSo"
   },
   "source": [
    "raw strings"
   ]
  },
  {
   "cell_type": "code",
   "execution_count": null,
   "metadata": {
    "colab": {
     "base_uri": "https://localhost:8080/"
    },
    "id": "HKPjEMV0EsAw",
    "outputId": "26746901-89d5-4624-e455-c79561e0c828"
   },
   "outputs": [],
   "source": [
    "print('C:\\some\\name')  # here \\n means newline!"
   ]
  },
  {
   "cell_type": "code",
   "execution_count": null,
   "metadata": {
    "colab": {
     "base_uri": "https://localhost:8080/"
    },
    "id": "qYmAKKZFE1G6",
    "outputId": "344b3a9b-8d6c-4232-b035-8d4b8d0ad6eb"
   },
   "outputs": [],
   "source": [
    "print(r'C:\\some\\name')  # note the r before the quote"
   ]
  },
  {
   "cell_type": "markdown",
   "metadata": {
    "id": "96vuFyGUE_9Z"
   },
   "source": [
    "Using triple-quotes to span multiple lines"
   ]
  },
  {
   "cell_type": "code",
   "execution_count": null,
   "metadata": {
    "colab": {
     "base_uri": "https://localhost:8080/"
    },
    "id": "AHEXWFfLE6MO",
    "outputId": "537f69ac-81c1-4764-8a83-0fbc6d14a4b6"
   },
   "outputs": [],
   "source": [
    "print(\"\"\"\\\n",
    "Usage: thingy [OPTIONS]\n",
    "     -h                        Display this usage message\n",
    "     -H hostname               Hostname to connect to\n",
    "\"\"\")"
   ]
  },
  {
   "cell_type": "markdown",
   "metadata": {
    "id": "ZiNSlLhrFKxa"
   },
   "source": [
    "string concatenated and repeated"
   ]
  },
  {
   "cell_type": "code",
   "execution_count": null,
   "metadata": {
    "colab": {
     "base_uri": "https://localhost:8080/",
     "height": 35
    },
    "id": "PjPrgFeQFHWR",
    "outputId": "cb53ee09-3f47-4515-c1f9-7bb4ccf18e39"
   },
   "outputs": [],
   "source": [
    "3 * 'un' + 'ium'"
   ]
  },
  {
   "cell_type": "code",
   "execution_count": null,
   "metadata": {
    "colab": {
     "base_uri": "https://localhost:8080/",
     "height": 35
    },
    "id": "KY8qktFGFVpg",
    "outputId": "dac34569-ca2e-4e98-ed4e-c5f5c628245e"
   },
   "outputs": [],
   "source": [
    "'Py' 'thon'"
   ]
  },
  {
   "cell_type": "code",
   "execution_count": null,
   "metadata": {
    "id": "bwcLall0FeFH"
   },
   "outputs": [],
   "source": [
    "text = ('Put several strings within parentheses '\n",
    "         'to have them joined together.')"
   ]
  },
  {
   "cell_type": "code",
   "execution_count": null,
   "metadata": {
    "colab": {
     "base_uri": "https://localhost:8080/",
     "height": 35
    },
    "id": "eFNlo4SbFmRM",
    "outputId": "97318c5d-f348-494d-b9d4-31e9fcf9ac17"
   },
   "outputs": [],
   "source": [
    "text"
   ]
  },
  {
   "cell_type": "code",
   "execution_count": null,
   "metadata": {
    "id": "GO-DFdU_GTGW"
   },
   "outputs": [],
   "source": [
    "prefix = 'Py'"
   ]
  },
  {
   "cell_type": "code",
   "execution_count": null,
   "metadata": {
    "colab": {
     "base_uri": "https://localhost:8080/",
     "height": 130
    },
    "id": "0Oj8uUieGXQ3",
    "outputId": "22d9a339-c0de-49b0-80ac-d2e4badad497"
   },
   "outputs": [],
   "source": [
    "prefix 'thon'  # can't concatenate a variable and a string literal"
   ]
  },
  {
   "cell_type": "code",
   "execution_count": null,
   "metadata": {
    "colab": {
     "base_uri": "https://localhost:8080/",
     "height": 130
    },
    "id": "hoiDzWWAGlJe",
    "outputId": "d0d5b18f-013c-4db3-ad3f-ba0239eda34a"
   },
   "outputs": [],
   "source": [
    "('un' * 3) 'ium'"
   ]
  },
  {
   "cell_type": "markdown",
   "metadata": {
    "id": "DgFvu1HqGsFM"
   },
   "source": [
    "concatenate variables with string use +"
   ]
  },
  {
   "cell_type": "code",
   "execution_count": null,
   "metadata": {
    "colab": {
     "base_uri": "https://localhost:8080/",
     "height": 35
    },
    "id": "U8icBZntGnsG",
    "outputId": "5b916183-754f-4689-942a-5baeefb59e7a"
   },
   "outputs": [],
   "source": [
    "prefix + 'thon'"
   ]
  },
  {
   "cell_type": "markdown",
   "metadata": {
    "id": "0Fddw69WGxvC"
   },
   "source": [
    "string indexed"
   ]
  },
  {
   "cell_type": "code",
   "execution_count": null,
   "metadata": {
    "id": "huMWrPd6GxZY"
   },
   "outputs": [],
   "source": [
    "word = 'Python'"
   ]
  },
  {
   "cell_type": "code",
   "execution_count": null,
   "metadata": {
    "colab": {
     "base_uri": "https://localhost:8080/",
     "height": 35
    },
    "id": "Hac5uSF3G1AA",
    "outputId": "6d4e1637-f805-419a-bd20-f07b5185c641"
   },
   "outputs": [],
   "source": [
    "word[0]  # character in position 0"
   ]
  },
  {
   "cell_type": "code",
   "execution_count": null,
   "metadata": {
    "colab": {
     "base_uri": "https://localhost:8080/",
     "height": 35
    },
    "id": "oQjp2-STG3yN",
    "outputId": "41f9955b-4b95-46a0-add9-fa5ef3a28522"
   },
   "outputs": [],
   "source": [
    "word[5]  # character in position 5"
   ]
  },
  {
   "cell_type": "markdown",
   "metadata": {
    "id": "QWyliW0FG69p"
   },
   "source": [
    "negative numbers index"
   ]
  },
  {
   "cell_type": "code",
   "execution_count": null,
   "metadata": {
    "colab": {
     "base_uri": "https://localhost:8080/",
     "height": 35
    },
    "id": "BVckGCNjHAz5",
    "outputId": "e4fa709c-26b3-48aa-b23d-d12d4fcc61db"
   },
   "outputs": [],
   "source": [
    "word[-1]  # last character"
   ]
  },
  {
   "cell_type": "code",
   "execution_count": null,
   "metadata": {
    "colab": {
     "base_uri": "https://localhost:8080/",
     "height": 35
    },
    "id": "ll6LjejNHCYJ",
    "outputId": "d5886743-be10-4efa-e4dd-7697e64a2451"
   },
   "outputs": [],
   "source": [
    "word[-2]  # second-last character"
   ]
  },
  {
   "cell_type": "code",
   "execution_count": null,
   "metadata": {
    "colab": {
     "base_uri": "https://localhost:8080/",
     "height": 35
    },
    "id": "b_FlaYi9HEOH",
    "outputId": "a883630f-c5f3-4b3b-9091-6fc9923ff99f"
   },
   "outputs": [],
   "source": [
    "word[-6]"
   ]
  },
  {
   "cell_type": "markdown",
   "metadata": {
    "id": "6Zx6aoHVHHn2"
   },
   "source": [
    "Slicing"
   ]
  },
  {
   "cell_type": "code",
   "execution_count": null,
   "metadata": {
    "colab": {
     "base_uri": "https://localhost:8080/",
     "height": 35
    },
    "id": "zimBWkhjHKBs",
    "outputId": "82737048-75e8-4c9e-d3fe-b0e13991884e"
   },
   "outputs": [],
   "source": [
    "word[0:2]  # characters from position 0 (included) to 2 (excluded)"
   ]
  },
  {
   "cell_type": "code",
   "execution_count": null,
   "metadata": {
    "colab": {
     "base_uri": "https://localhost:8080/",
     "height": 35
    },
    "id": "6dxzgN0hHMJl",
    "outputId": "40a8981f-e58a-4634-b0d7-99cf0af1edf9"
   },
   "outputs": [],
   "source": [
    "word[2:5]  # characters from position 2 (included) to 5 (excluded)"
   ]
  },
  {
   "cell_type": "markdown",
   "metadata": {
    "id": "uHToqbLcHT5v"
   },
   "source": [
    "s[:i] + s[i:] is always equal to s"
   ]
  },
  {
   "cell_type": "code",
   "execution_count": null,
   "metadata": {
    "colab": {
     "base_uri": "https://localhost:8080/",
     "height": 35
    },
    "id": "-keTwQGSHY9g",
    "outputId": "83e88689-d8c0-4171-a2c8-0b503296f798"
   },
   "outputs": [],
   "source": [
    "word[:2] + word[2:]"
   ]
  },
  {
   "cell_type": "code",
   "execution_count": null,
   "metadata": {
    "colab": {
     "base_uri": "https://localhost:8080/",
     "height": 35
    },
    "id": "LMdum8PeHaxt",
    "outputId": "055f2684-590a-4ba5-8d04-d6821b2490f2"
   },
   "outputs": [],
   "source": [
    "word[:4] + word[4:]"
   ]
  },
  {
   "cell_type": "code",
   "execution_count": null,
   "metadata": {
    "colab": {
     "base_uri": "https://localhost:8080/",
     "height": 35
    },
    "id": "YJ5dLjYrHhq2",
    "outputId": "04f46afd-22d3-4815-efa1-2e0a2104bbe7"
   },
   "outputs": [],
   "source": [
    "word[:2]   # character from the beginning to position 2 (excluded)"
   ]
  },
  {
   "cell_type": "code",
   "execution_count": null,
   "metadata": {
    "colab": {
     "base_uri": "https://localhost:8080/",
     "height": 35
    },
    "id": "HTbhURZgHjWH",
    "outputId": "14942e57-a28e-4efc-e8b2-89abff86a65e"
   },
   "outputs": [],
   "source": [
    "word[4:]   # characters from position 4 (included) to the end"
   ]
  },
  {
   "cell_type": "code",
   "execution_count": null,
   "metadata": {
    "colab": {
     "base_uri": "https://localhost:8080/",
     "height": 35
    },
    "id": "XlRR5i5IHlM3",
    "outputId": "bb8e0733-7944-4738-c08e-d151be8dab4c"
   },
   "outputs": [],
   "source": [
    "word[-2:]  # characters from the second-last (included) to the end"
   ]
  },
  {
   "cell_type": "code",
   "execution_count": null,
   "metadata": {
    "id": "AMR0Gr91Hnt4"
   },
   "outputs": [],
   "source": [
    "#  +---+---+---+---+---+---+\n",
    "#  | P | y | t | h | o | n |\n",
    "#  +---+---+---+---+---+---+\n",
    "#  0   1   2   3   4   5   6\n",
    "# -6  -5  -4  -3  -2  -1"
   ]
  },
  {
   "cell_type": "code",
   "execution_count": null,
   "metadata": {
    "colab": {
     "base_uri": "https://localhost:8080/",
     "height": 164
    },
    "id": "Tc6YkbV-H2cH",
    "outputId": "b94709df-0811-4b99-9178-126102d1826b"
   },
   "outputs": [],
   "source": [
    "word[42]  # the word only has 6 characters"
   ]
  },
  {
   "cell_type": "markdown",
   "metadata": {
    "id": "LFEun-TkH-kT"
   },
   "source": [
    "out of range slice indexes"
   ]
  },
  {
   "cell_type": "code",
   "execution_count": null,
   "metadata": {
    "colab": {
     "base_uri": "https://localhost:8080/",
     "height": 35
    },
    "id": "zEUNiQsxH5rJ",
    "outputId": "2632d5cb-6e25-4eb0-b625-2610d7c1ffc3"
   },
   "outputs": [],
   "source": [
    "word[4:42]"
   ]
  },
  {
   "cell_type": "code",
   "execution_count": null,
   "metadata": {
    "colab": {
     "base_uri": "https://localhost:8080/",
     "height": 35
    },
    "id": "qCwSdRFtH_ri",
    "outputId": "84245050-99a3-45cf-b8d7-dd4cde0e5fd9"
   },
   "outputs": [],
   "source": [
    "word[42:]"
   ]
  },
  {
   "cell_type": "markdown",
   "metadata": {
    "id": "sn1LgBGrIG-f"
   },
   "source": [
    "Python strings are immutable"
   ]
  },
  {
   "cell_type": "code",
   "execution_count": null,
   "metadata": {
    "colab": {
     "base_uri": "https://localhost:8080/",
     "height": 164
    },
    "id": "SApDaw5DIJkv",
    "outputId": "4f77a314-2237-4119-c353-e9517d13f0fd"
   },
   "outputs": [],
   "source": [
    "word[0] = 'J'"
   ]
  },
  {
   "cell_type": "code",
   "execution_count": null,
   "metadata": {
    "colab": {
     "base_uri": "https://localhost:8080/",
     "height": 164
    },
    "id": "Qs20wQRGILrc",
    "outputId": "ba4282e3-e422-496a-89ad-8b399faf0efc"
   },
   "outputs": [],
   "source": [
    "word[2:] = 'py'"
   ]
  },
  {
   "cell_type": "markdown",
   "metadata": {
    "id": "hAKZ2rI_Ifna"
   },
   "source": [
    "len( ) function"
   ]
  },
  {
   "cell_type": "code",
   "execution_count": null,
   "metadata": {
    "colab": {
     "base_uri": "https://localhost:8080/"
    },
    "id": "WRCrvFvKIQIP",
    "outputId": "21a8b32f-5ae5-4958-822c-61d909f03185"
   },
   "outputs": [],
   "source": [
    "s = 'supercalifragilisticexpialidocious'\n",
    "len(s)"
   ]
  },
  {
   "cell_type": "markdown",
   "metadata": {
    "id": "ryCh5csUIo7q"
   },
   "source": [
    "## 4. Lists"
   ]
  },
  {
   "cell_type": "code",
   "execution_count": null,
   "metadata": {
    "colab": {
     "base_uri": "https://localhost:8080/"
    },
    "id": "lxR6y6VsIkSf",
    "outputId": "2f7867c2-8031-4e0f-be40-68d6e1011079"
   },
   "outputs": [],
   "source": [
    "squares = [1, 4, 9, 16, 25]\n",
    "squares"
   ]
  },
  {
   "cell_type": "code",
   "execution_count": null,
   "metadata": {
    "colab": {
     "base_uri": "https://localhost:8080/"
    },
    "id": "Ilb9nJKRItXF",
    "outputId": "6c56aba7-610f-4e5d-d2d6-222039b21a79"
   },
   "outputs": [],
   "source": [
    "squares[0]  # indexing returns the item"
   ]
  },
  {
   "cell_type": "code",
   "execution_count": null,
   "metadata": {
    "colab": {
     "base_uri": "https://localhost:8080/"
    },
    "id": "6QyenwA4Iwzo",
    "outputId": "15684af7-d5d2-4363-ff40-0ec8544c72aa"
   },
   "outputs": [],
   "source": [
    "squares[-1]"
   ]
  },
  {
   "cell_type": "code",
   "execution_count": null,
   "metadata": {
    "colab": {
     "base_uri": "https://localhost:8080/"
    },
    "id": "QsGFgKCcIzQ0",
    "outputId": "4618fea0-6d51-413c-de54-40d36e607af2"
   },
   "outputs": [],
   "source": [
    "squares[-3:]  # slicing returns a new list"
   ]
  },
  {
   "cell_type": "code",
   "execution_count": null,
   "metadata": {
    "colab": {
     "base_uri": "https://localhost:8080/"
    },
    "id": "WYedBUgYI2H2",
    "outputId": "aa30ee34-57cf-410f-ddb9-9e17697a78ee"
   },
   "outputs": [],
   "source": [
    "squares[:]"
   ]
  },
  {
   "cell_type": "markdown",
   "metadata": {
    "id": "_rQY_shaI4c0"
   },
   "source": [
    "List concatenation"
   ]
  },
  {
   "cell_type": "code",
   "execution_count": null,
   "metadata": {
    "colab": {
     "base_uri": "https://localhost:8080/"
    },
    "id": "xXrSaHjgI2_b",
    "outputId": "2d64f374-0ea8-4fa8-870a-5685a9c64a40"
   },
   "outputs": [],
   "source": [
    "squares + [36, 49, 64, 81, 100]"
   ]
  },
  {
   "cell_type": "markdown",
   "metadata": {
    "id": "1qAHU7DVJANN"
   },
   "source": [
    "Lists are mutable"
   ]
  },
  {
   "cell_type": "code",
   "execution_count": null,
   "metadata": {
    "colab": {
     "base_uri": "https://localhost:8080/"
    },
    "id": "2xlUzTCQI7nB",
    "outputId": "ad2f0aeb-9ed9-4ca0-cf06-a963c6bcacba"
   },
   "outputs": [],
   "source": [
    "cubes = [1, 8, 27, 65, 125]  # something's wrong here\n",
    "4 ** 3  # the cube of 4 is 64, not 65!"
   ]
  },
  {
   "cell_type": "code",
   "execution_count": null,
   "metadata": {
    "colab": {
     "base_uri": "https://localhost:8080/"
    },
    "id": "RIXJNV2vJFUO",
    "outputId": "6c984e10-0c58-4a45-f6aa-b680cb983431"
   },
   "outputs": [],
   "source": [
    "cubes[3] = 64  # replace the wrong value\n",
    "cubes"
   ]
  },
  {
   "cell_type": "markdown",
   "metadata": {
    "id": "a_jfKZrBJJ57"
   },
   "source": [
    "append( ) method"
   ]
  },
  {
   "cell_type": "code",
   "execution_count": null,
   "metadata": {
    "colab": {
     "base_uri": "https://localhost:8080/"
    },
    "id": "O01bazX7JMeD",
    "outputId": "76ce96d6-c8b5-4b5b-ca26-1814c5861673"
   },
   "outputs": [],
   "source": [
    "cubes.append(216)  # add the cube of 6\n",
    "cubes.append(7 ** 3)  # and the cube of 7\n",
    "cubes"
   ]
  },
  {
   "cell_type": "markdown",
   "metadata": {
    "id": "gBYU6QGMJUpf"
   },
   "source": [
    "Assignment to slices"
   ]
  },
  {
   "cell_type": "code",
   "execution_count": null,
   "metadata": {
    "colab": {
     "base_uri": "https://localhost:8080/"
    },
    "id": "JWDPuoDYJVZW",
    "outputId": "813bed73-4170-4ab8-f8cf-8001ce12660e"
   },
   "outputs": [],
   "source": [
    "letters = ['a', 'b', 'c', 'd', 'e', 'f', 'g']\n",
    "letters"
   ]
  },
  {
   "cell_type": "code",
   "execution_count": null,
   "metadata": {
    "colab": {
     "base_uri": "https://localhost:8080/"
    },
    "id": "t9j8zc2PJY9m",
    "outputId": "2416e45e-8397-470f-e900-8d7bc5aed8f0"
   },
   "outputs": [],
   "source": [
    "# replace some values\n",
    "letters[2:5] = ['C', 'D', 'E']\n",
    "letters"
   ]
  },
  {
   "cell_type": "code",
   "execution_count": null,
   "metadata": {
    "colab": {
     "base_uri": "https://localhost:8080/"
    },
    "id": "LnCK1xSUJeWu",
    "outputId": "354b1cd0-9aa4-4b23-e754-bd2dbea59de0"
   },
   "outputs": [],
   "source": [
    "# now remove them\n",
    "letters[2:5] = []\n",
    "letters"
   ]
  },
  {
   "cell_type": "code",
   "execution_count": null,
   "metadata": {
    "colab": {
     "base_uri": "https://localhost:8080/"
    },
    "id": "Z7Y6BVQSJiQs",
    "outputId": "1abb8d94-89d7-4fff-fc5f-a6e13e52800f"
   },
   "outputs": [],
   "source": [
    "# clear the list by replacing all the elements with an empty list\n",
    "letters[:] = []\n",
    "letters"
   ]
  },
  {
   "cell_type": "code",
   "execution_count": null,
   "metadata": {
    "colab": {
     "base_uri": "https://localhost:8080/"
    },
    "id": "X1XGNZ-tJmhw",
    "outputId": "e207486d-2f74-4ca4-d751-81eefad09e7a"
   },
   "outputs": [],
   "source": [
    "letters = ['a', 'b', 'c', 'd']\n",
    "len(letters)"
   ]
  },
  {
   "cell_type": "markdown",
   "metadata": {
    "id": "EFOcTMv_JxeD"
   },
   "source": [
    "Nested list"
   ]
  },
  {
   "cell_type": "code",
   "execution_count": null,
   "metadata": {
    "colab": {
     "base_uri": "https://localhost:8080/"
    },
    "id": "T8HB4fGiJyq7",
    "outputId": "e1f47524-6bb2-4891-a445-c562e77ffbd6"
   },
   "outputs": [],
   "source": [
    "a = ['a', 'b', 'c']\n",
    "n = [1, 2, 3]\n",
    "x = [a, n]\n",
    "x"
   ]
  },
  {
   "cell_type": "code",
   "execution_count": null,
   "metadata": {
    "colab": {
     "base_uri": "https://localhost:8080/"
    },
    "id": "7ebdiEQ-J9xB",
    "outputId": "3055ae6f-8d5c-47a6-de06-0f2195df3464"
   },
   "outputs": [],
   "source": [
    "x[0]"
   ]
  },
  {
   "cell_type": "code",
   "execution_count": null,
   "metadata": {
    "colab": {
     "base_uri": "https://localhost:8080/",
     "height": 35
    },
    "id": "fiQ2Zv1AJ_TV",
    "outputId": "1a109453-0be5-4465-864c-02698c2f5ed8"
   },
   "outputs": [],
   "source": [
    "x[0][1]"
   ]
  },
  {
   "cell_type": "markdown",
   "metadata": {
    "id": "M9ZSBSN_KJx4"
   },
   "source": [
    "## 5. Statement"
   ]
  },
  {
   "cell_type": "markdown",
   "metadata": {
    "id": "BV4gbLf2KOxb"
   },
   "source": [
    "if-else"
   ]
  },
  {
   "cell_type": "code",
   "execution_count": null,
   "metadata": {
    "colab": {
     "base_uri": "https://localhost:8080/"
    },
    "id": "_BMT5WgrKMT3",
    "outputId": "e0540b12-4778-4dcd-e09f-9004bc2fcd95"
   },
   "outputs": [],
   "source": [
    "a = 33\n",
    "b = 200\n",
    "if b > a:\n",
    "  print(\"b is greater than a\")"
   ]
  },
  {
   "cell_type": "code",
   "execution_count": null,
   "metadata": {
    "colab": {
     "base_uri": "https://localhost:8080/",
     "height": 130
    },
    "id": "k8YffKqfKScY",
    "outputId": "4767454b-b922-4e33-db2e-0b52c5a9d690"
   },
   "outputs": [],
   "source": [
    "a = 33\n",
    "b = 200\n",
    "if b > a:\n",
    "print(\"b is greater than a\") # no indentation"
   ]
  },
  {
   "cell_type": "code",
   "execution_count": null,
   "metadata": {
    "colab": {
     "base_uri": "https://localhost:8080/"
    },
    "id": "Cxc4DLqmKZPR",
    "outputId": "318a2d1e-14a3-490e-a5f3-3a3bd5ffcc18"
   },
   "outputs": [],
   "source": [
    "# elif\n",
    "a = 33\n",
    "b = 33\n",
    "if b > a:\n",
    "  print(\"b is greater than a\")\n",
    "elif a == b:\n",
    "  print(\"a and b are equal\")"
   ]
  },
  {
   "cell_type": "code",
   "execution_count": null,
   "metadata": {
    "colab": {
     "base_uri": "https://localhost:8080/"
    },
    "id": "knG0YOmhKeV5",
    "outputId": "520f6d8a-45e5-4dbc-d623-891e1274d934"
   },
   "outputs": [],
   "source": [
    "# else\n",
    "a = 200\n",
    "b = 33\n",
    "if b > a:\n",
    "  print(\"b is greater than a\")\n",
    "elif a == b:\n",
    "  print(\"a and b are equal\")\n",
    "else:\n",
    "  print(\"a is greater than b\")"
   ]
  },
  {
   "cell_type": "markdown",
   "metadata": {
    "id": "UYyE6cW_KoDD"
   },
   "source": [
    "for loop"
   ]
  },
  {
   "cell_type": "code",
   "execution_count": null,
   "metadata": {
    "colab": {
     "base_uri": "https://localhost:8080/"
    },
    "id": "H0MJwsgeKqYu",
    "outputId": "d060453b-989f-477c-cca5-9595a3bd16eb"
   },
   "outputs": [],
   "source": [
    "fruits = [\"apple\", \"banana\", \"cherry\"]\n",
    "for x in fruits:\n",
    "  print(x)"
   ]
  },
  {
   "cell_type": "code",
   "execution_count": null,
   "metadata": {
    "colab": {
     "base_uri": "https://localhost:8080/"
    },
    "id": "T6CDDNQTKtaW",
    "outputId": "0448038c-a90f-4343-97a2-b4ef12d78e95"
   },
   "outputs": [],
   "source": [
    "for x in \"banana\":\n",
    "  print(x)"
   ]
  },
  {
   "cell_type": "code",
   "execution_count": null,
   "metadata": {
    "colab": {
     "base_uri": "https://localhost:8080/"
    },
    "id": "t4OcsbryK9Jr",
    "outputId": "9c73a375-4cca-49d4-a619-2e972d40c2c3"
   },
   "outputs": [],
   "source": [
    "adj = [\"red\", \"big\", \"tasty\"]\n",
    "fruits = [\"apple\", \"banana\", \"cherry\"]\n",
    "\n",
    "for x in adj:\n",
    "  for y in fruits:\n",
    "    print(x, y)"
   ]
  },
  {
   "cell_type": "markdown",
   "metadata": {
    "id": "u1YpN4QgLFrR"
   },
   "source": [
    "range"
   ]
  },
  {
   "cell_type": "code",
   "execution_count": null,
   "metadata": {
    "colab": {
     "base_uri": "https://localhost:8080/"
    },
    "id": "Lpo8vLO8K0jh",
    "outputId": "47d413b0-2942-486c-cd36-aafe7afb0355"
   },
   "outputs": [],
   "source": [
    "for x in range(6):\n",
    "  print(x)"
   ]
  },
  {
   "cell_type": "code",
   "execution_count": null,
   "metadata": {
    "colab": {
     "base_uri": "https://localhost:8080/"
    },
    "id": "1K51Z6jWK20a",
    "outputId": "d7050acb-b1e9-4e42-c453-d05e29645c5d"
   },
   "outputs": [],
   "source": [
    "for x in range(2, 6):\n",
    "  print(x)"
   ]
  },
  {
   "cell_type": "code",
   "execution_count": null,
   "metadata": {
    "colab": {
     "base_uri": "https://localhost:8080/"
    },
    "id": "aufeXuFnK5e7",
    "outputId": "dc1de01f-b150-4f45-c3c4-af1ee7768a59"
   },
   "outputs": [],
   "source": [
    "for x in range(2, 30, 3):\n",
    "  print(x)"
   ]
  },
  {
   "cell_type": "markdown",
   "metadata": {
    "id": "5mJnmEBFLAhz"
   },
   "source": [
    "while loop"
   ]
  },
  {
   "cell_type": "code",
   "execution_count": null,
   "metadata": {
    "colab": {
     "base_uri": "https://localhost:8080/"
    },
    "id": "rq8jWEQmLSS1",
    "outputId": "8b63ef5e-abcf-4719-ca2b-d6d8b174edeb"
   },
   "outputs": [],
   "source": [
    "i = 1\n",
    "while i < 6:\n",
    "  print(i)\n",
    "  i += 1"
   ]
  },
  {
   "cell_type": "code",
   "execution_count": null,
   "metadata": {
    "colab": {
     "base_uri": "https://localhost:8080/"
    },
    "id": "BIOrDmP9LTID",
    "outputId": "5c8a76d7-a192-4b01-a748-fee107b604c2"
   },
   "outputs": [],
   "source": [
    "i = 1\n",
    "while i < 6:\n",
    "  print(i)\n",
    "  if i == 3:\n",
    "    break\n",
    "  i += 1"
   ]
  },
  {
   "cell_type": "code",
   "execution_count": null,
   "metadata": {
    "colab": {
     "base_uri": "https://localhost:8080/"
    },
    "id": "f4AyhvCkLXPl",
    "outputId": "02545cea-03fe-404d-817c-81a442868fe5"
   },
   "outputs": [],
   "source": [
    "i = 0\n",
    "while i < 6:\n",
    "  i += 1\n",
    "  if i == 3:\n",
    "    continue\n",
    "  print(i)"
   ]
  },
  {
   "cell_type": "markdown",
   "metadata": {
    "id": "MSJoCwtuLcFM"
   },
   "source": [
    "## 6. Functions and Arguments"
   ]
  },
  {
   "cell_type": "markdown",
   "metadata": {
    "id": "mZEa7RjXLqXS"
   },
   "source": [
    "create function"
   ]
  },
  {
   "cell_type": "code",
   "execution_count": null,
   "metadata": {
    "id": "PEK0dnOPLrqC"
   },
   "outputs": [],
   "source": [
    "def my_function():\n",
    "  print(\"Hello from a function\")"
   ]
  },
  {
   "cell_type": "markdown",
   "metadata": {
    "id": "LqTkBXjcLtaO"
   },
   "source": [
    "call function"
   ]
  },
  {
   "cell_type": "code",
   "execution_count": null,
   "metadata": {
    "colab": {
     "base_uri": "https://localhost:8080/"
    },
    "id": "9gpT-8fJLvBz",
    "outputId": "3aba6056-7aae-4ae1-e657-865cac6b8e90"
   },
   "outputs": [],
   "source": [
    "def my_function():\n",
    "  print(\"Hello from a function\")\n",
    "\n",
    "my_function()"
   ]
  },
  {
   "cell_type": "markdown",
   "metadata": {
    "id": "KZhDU4ZULyWE"
   },
   "source": [
    "arguments"
   ]
  },
  {
   "cell_type": "code",
   "execution_count": null,
   "metadata": {
    "colab": {
     "base_uri": "https://localhost:8080/"
    },
    "id": "idE2s0b3L2DW",
    "outputId": "6509f54d-565b-4ef8-9460-5c133ea68a61"
   },
   "outputs": [],
   "source": [
    "def my_function(fname):\n",
    "  print(fname + \" Refsnes\")\n",
    "\n",
    "my_function(\"Emil\")\n",
    "my_function(\"Tobias\")\n",
    "my_function(\"Linus\")"
   ]
  },
  {
   "cell_type": "code",
   "execution_count": null,
   "metadata": {
    "colab": {
     "base_uri": "https://localhost:8080/"
    },
    "id": "n4SQD5IpL7fS",
    "outputId": "78aa07b0-b9dd-4443-9bbc-eae90b987e1f"
   },
   "outputs": [],
   "source": [
    "def my_function(fname, lname):\n",
    "  print(fname + \" \" + lname)\n",
    "\n",
    "my_function(\"Emil\", \"Refsnes\")"
   ]
  },
  {
   "cell_type": "code",
   "execution_count": null,
   "metadata": {
    "colab": {
     "base_uri": "https://localhost:8080/",
     "height": 198
    },
    "id": "hMuP_HoXL8SY",
    "outputId": "5b00a78b-2345-4d7b-bcb4-e48db73c8b11"
   },
   "outputs": [],
   "source": [
    "def my_function(fname, lname):\n",
    "  print(fname + \" \" + lname)\n",
    "\n",
    "my_function(\"Emil\")"
   ]
  },
  {
   "cell_type": "code",
   "execution_count": null,
   "metadata": {
    "colab": {
     "base_uri": "https://localhost:8080/"
    },
    "id": "QjC2H8YKMD6W",
    "outputId": "c9984d07-e827-4e92-9bbe-771d954847d4"
   },
   "outputs": [],
   "source": [
    "def my_function(country = \"Norway\"):\n",
    "  print(\"I am from \" + country)\n",
    "\n",
    "my_function(\"Sweden\")\n",
    "my_function(\"India\")\n",
    "my_function()\n",
    "my_function(\"Brazil\")"
   ]
  },
  {
   "cell_type": "code",
   "execution_count": null,
   "metadata": {
    "colab": {
     "base_uri": "https://localhost:8080/"
    },
    "id": "drCA51VCMIBd",
    "outputId": "9967872b-a8a4-4db4-a1ad-d98c56d842f5"
   },
   "outputs": [],
   "source": [
    "# return value\n",
    "def my_function(x):\n",
    "  return 5 * x\n",
    "\n",
    "print(my_function(3))\n",
    "print(my_function(5))\n",
    "print(my_function(9))"
   ]
  },
  {
   "cell_type": "markdown",
   "metadata": {
    "id": "aTntXMgiMMAp"
   },
   "source": [
    "## 7. How to make a QR code with Python"
   ]
  },
  {
   "cell_type": "code",
   "execution_count": null,
   "metadata": {
    "id": "Kqu4gzGbCGJa"
   },
   "outputs": [],
   "source": [
    "import qrcode\n",
    "img = qrcode.make('Some data here')"
   ]
  },
  {
   "cell_type": "code",
   "execution_count": null,
   "metadata": {
    "colab": {
     "base_uri": "https://localhost:8080/",
     "height": 307
    },
    "id": "6LGWGiHfCRHW",
    "outputId": "3ad84d10-1ee0-4eba-b29c-1d6759d15a89"
   },
   "outputs": [],
   "source": [
    "img.get_image()"
   ]
  },
  {
   "cell_type": "code",
   "execution_count": null,
   "metadata": {
    "id": "PY19HCwXCZRm"
   },
   "outputs": [],
   "source": []
  }
 ],
 "metadata": {
  "colab": {
   "collapsed_sections": [],
   "name": "ai_builder_intro_python.ipynb",
   "provenance": [],
   "toc_visible": true
  },
  "kernelspec": {
   "display_name": "Python 3",
   "language": "python",
   "name": "python3"
  },
  "language_info": {
   "codemirror_mode": {
    "name": "ipython",
    "version": 3
   },
   "file_extension": ".py",
   "mimetype": "text/x-python",
   "name": "python",
   "nbconvert_exporter": "python",
   "pygments_lexer": "ipython3",
   "version": "3.7.9"
  }
 },
 "nbformat": 4,
 "nbformat_minor": 4
}
