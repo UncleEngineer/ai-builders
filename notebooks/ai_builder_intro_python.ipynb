{
  "nbformat": 4,
  "nbformat_minor": 0,
  "metadata": {
    "colab": {
      "name": "ai_builder_intro_python.ipynb",
      "provenance": [],
      "collapsed_sections": []
    },
    "kernelspec": {
      "display_name": "Python 3",
      "language": "python",
      "name": "python3"
    },
    "language_info": {
      "codemirror_mode": {
        "name": "ipython",
        "version": 3
      },
      "file_extension": ".py",
      "mimetype": "text/x-python",
      "name": "python",
      "nbconvert_exporter": "python",
      "pygments_lexer": "ipython3",
      "version": "3.7.9"
    }
  },
  "cells": [
    {
      "cell_type": "markdown",
      "metadata": {
        "id": "a1B0Yys3BXjs"
      },
      "source": [
        "# Introduction to Python\n",
        "\n",
        "### But First, Learning Tips!\n",
        "\n",
        "1. Before clicking \\[ ▶ Run \\] to see the result from running the code, **make a guess of what the final result would be** before actually running it.\n",
        "2. **Do not be afraid to play around with code**: change them, re-run the code, and see if the new result meets your expectation.\n",
        "3. Got error messages? Relax. Even experienced programmers got these so-called bugs! **Pause for a few seconds and see why the code produces such error.**"
      ]
    },
    {
      "cell_type": "markdown",
      "metadata": {
        "id": "HIUBOrQTurJK"
      },
      "source": [
        "Open this in Colab. [![](https://colab.research.google.com/assets/colab-badge.svg)](https://colab.research.google.com/drive/1CO_Qlprw8NkQryk_gUdtNjMoGNsE3PWA?usp=sharing)\n",
        "\n",
        "**Developer Note:** copy this colab into GitHub Gist and create a link from it."
      ]
    },
    {
      "cell_type": "markdown",
      "metadata": {
        "id": "EUysvkwFAE4Y"
      },
      "source": [
        "## 1. Basic Arithmetics\n",
        "\n",
        "Python can run simple math expressions out of the box.\n",
        "So expressions like `2 + 2` will produce the result 4.\n",
        "\n",
        "Try running the code below by hitting \\[ ▶ Run \\] button."
      ]
    },
    {
      "cell_type": "code",
      "metadata": {
        "colab": {
          "base_uri": "https://localhost:8080/"
        },
        "id": "49uHsFau_6EV",
        "outputId": "c955a955-18c4-4aba-a93d-1983d0fc1fe0"
      },
      "source": [
        "2 + 2"
      ],
      "execution_count": 1,
      "outputs": [
        {
          "output_type": "execute_result",
          "data": {
            "text/plain": [
              "4"
            ]
          },
          "metadata": {
            "tags": []
          },
          "execution_count": 1
        }
      ]
    },
    {
      "cell_type": "markdown",
      "metadata": {
        "id": "J4VZisvrvZus"
      },
      "source": [
        "Since there is no $\\times$ (times) and $\\div$ (divide) symbol on the keyword, we instead use symbols `*` and `/` instead."
      ]
    },
    {
      "cell_type": "code",
      "metadata": {
        "colab": {
          "base_uri": "https://localhost:8080/"
        },
        "id": "H4rQ0UGeurJM",
        "outputId": "456e8cb8-adbc-4694-af41-0a4d36144456"
      },
      "source": [
        "17 / 3"
      ],
      "execution_count": 2,
      "outputs": [
        {
          "output_type": "execute_result",
          "data": {
            "text/plain": [
              "5.666666666666667"
            ]
          },
          "metadata": {
            "tags": []
          },
          "execution_count": 2
        }
      ]
    },
    {
      "cell_type": "code",
      "metadata": {
        "colab": {
          "base_uri": "https://localhost:8080/"
        },
        "id": "RcdY6ZsUAIDt",
        "scrolled": false,
        "outputId": "96891e26-1868-4d9c-d076-0a2c002e7603"
      },
      "source": [
        "50 - 5 * 6"
      ],
      "execution_count": 3,
      "outputs": [
        {
          "output_type": "execute_result",
          "data": {
            "text/plain": [
              "20"
            ]
          },
          "metadata": {
            "tags": []
          },
          "execution_count": 3
        }
      ]
    },
    {
      "cell_type": "markdown",
      "metadata": {
        "id": "_mPi0m45urJM"
      },
      "source": [
        "Notice that in the above code, multiplication `*` is evaluated before subtraction `-`. This is due to what is called the **order of precedence**.\n",
        "\n",
        "So if we want to do subtraction first, we need a pair of parentheses, `(` and `)`, just like in math!"
      ]
    },
    {
      "cell_type": "code",
      "metadata": {
        "colab": {
          "base_uri": "https://localhost:8080/"
        },
        "id": "BgUOcTAturJM",
        "outputId": "ff3a0488-a3aa-43de-da75-684919d2d65f"
      },
      "source": [
        "(50 - 5) * 6"
      ],
      "execution_count": 4,
      "outputs": [
        {
          "output_type": "execute_result",
          "data": {
            "text/plain": [
              "270"
            ]
          },
          "metadata": {
            "tags": []
          },
          "execution_count": 4
        }
      ]
    },
    {
      "cell_type": "markdown",
      "metadata": {
        "id": "Jaqy2MI_urJN"
      },
      "source": [
        "### Example: Temperature Conversion\n",
        "\n",
        "Now for our very first application! Let's say that a weather app tell us that the current weather in Galapagos Island is 100°F (Farenheit). We want to know what is this temperature value in Celcius. We will use the following identity to help us with unit conversion:\n",
        "\n",
        "> $\\dfrac{C}{5} = \\dfrac{F - 32}{9} \\quad\\Longleftrightarrow\\quad C = \\dfrac{F - 32}{9} \\times 5$\n",
        "\n",
        "And below is the code to convert 100°F into °C."
      ]
    },
    {
      "cell_type": "code",
      "metadata": {
        "colab": {
          "base_uri": "https://localhost:8080/"
        },
        "id": "3ibrAGDJurJN",
        "outputId": "90b7f99e-3696-4304-a7a8-e2a619bec631"
      },
      "source": [
        "((100 - 32) / 9) * 5"
      ],
      "execution_count": 5,
      "outputs": [
        {
          "output_type": "execute_result",
          "data": {
            "text/plain": [
              "37.77777777777778"
            ]
          },
          "metadata": {
            "tags": []
          },
          "execution_count": 5
        }
      ]
    },
    {
      "cell_type": "markdown",
      "metadata": {
        "id": "Z0Rx4B6DurJN"
      },
      "source": [
        "Once you have got familiarity with the **order of precedence**, then you will notice that we can remove the redundant pair of parentheses:"
      ]
    },
    {
      "cell_type": "code",
      "metadata": {
        "colab": {
          "base_uri": "https://localhost:8080/"
        },
        "id": "-eL8CGSSurJN",
        "outputId": "ed41d30c-abbb-48c6-ad8e-30b85eea466d"
      },
      "source": [
        "(100 - 32) / 9 * 5"
      ],
      "execution_count": 6,
      "outputs": [
        {
          "output_type": "execute_result",
          "data": {
            "text/plain": [
              "37.77777777777778"
            ]
          },
          "metadata": {
            "tags": []
          },
          "execution_count": 6
        }
      ]
    },
    {
      "cell_type": "markdown",
      "metadata": {
        "id": "zJrTqwCzurJN"
      },
      "source": [
        "### Example: Compound Interest (Exponentiation)\n",
        "\n",
        "Suppose that we have 10,000 THB (Thai Baht) in a savings account. Every year we receive 3% interest, which is then compounded into your account for the subsequent year. If we leave our account alone for 12 years, how much total money would we have at the end?\n",
        "\n",
        "The answer is (approximately) $10000 \\times 1.03^{12}$ THB. We can compute the final result with the following Python code."
      ]
    },
    {
      "cell_type": "code",
      "metadata": {
        "colab": {
          "base_uri": "https://localhost:8080/"
        },
        "id": "N14F6eXnurJO",
        "outputId": "33a6bca6-335d-4b3a-8f43-ea50ea8a4474"
      },
      "source": [
        "10_000 * 1.03 * 1.03 * 1.03 * 1.03 * 1.03 * 1.03 * 1.03 * 1.03 * 1.03 * 1.03 * 1.03 * 1.03 * 1.03"
      ],
      "execution_count": 7,
      "outputs": [
        {
          "output_type": "execute_result",
          "data": {
            "text/plain": [
              "14685.337134515645"
            ]
          },
          "metadata": {
            "tags": []
          },
          "execution_count": 7
        }
      ]
    },
    {
      "cell_type": "markdown",
      "metadata": {
        "id": "PxN5l_E1urJO"
      },
      "source": [
        "You should have got approximately 14257.61 THB as the result.\n",
        "\n",
        "Yes, the above code looks very tiring. Luckily, we can use the `**` operator to perform exponentiation for us. (**Tip:** It also works for negative exponents.)"
      ]
    },
    {
      "cell_type": "code",
      "metadata": {
        "colab": {
          "base_uri": "https://localhost:8080/"
        },
        "id": "XmNV2KZburJO",
        "outputId": "6378523b-6759-4a85-eacd-fe7e6a08253f"
      },
      "source": [
        "10_000 * 1.03 ** 12"
      ],
      "execution_count": 8,
      "outputs": [
        {
          "output_type": "execute_result",
          "data": {
            "text/plain": [
              "14257.608868461793"
            ]
          },
          "metadata": {
            "tags": []
          },
          "execution_count": 8
        }
      ]
    },
    {
      "cell_type": "code",
      "metadata": {
        "colab": {
          "base_uri": "https://localhost:8080/"
        },
        "id": "ZrN1YVt4urJO",
        "outputId": "696b7ab6-c5da-45d6-ba52-8068ec667b79"
      },
      "source": [
        "5 ** -1"
      ],
      "execution_count": 9,
      "outputs": [
        {
          "output_type": "execute_result",
          "data": {
            "text/plain": [
              "0.2"
            ]
          },
          "metadata": {
            "tags": []
          },
          "execution_count": 9
        }
      ]
    },
    {
      "cell_type": "markdown",
      "metadata": {
        "id": "b3JCPyU0urJO"
      },
      "source": [
        "### Aside: Real Division vs Integer Division\n",
        "\n",
        "Recall that the result of `17 / 3` from above produces a real number result. But what if you want the final _without the fractional part_ (also called a **quotient**)?\n",
        "\n",
        "The answer is to use the `//` operator."
      ]
    },
    {
      "cell_type": "code",
      "metadata": {
        "colab": {
          "base_uri": "https://localhost:8080/"
        },
        "id": "8V-FeZGlurJP",
        "outputId": "6fc73652-cc79-414a-ee9b-d5a3739d7395"
      },
      "source": [
        "17 // 3"
      ],
      "execution_count": 10,
      "outputs": [
        {
          "output_type": "execute_result",
          "data": {
            "text/plain": [
              "5"
            ]
          },
          "metadata": {
            "tags": []
          },
          "execution_count": 10
        }
      ]
    },
    {
      "cell_type": "markdown",
      "metadata": {
        "id": "GTBwqOJAurJP"
      },
      "source": [
        "What about the **remainder** of the above division? Can we compute this value?\n",
        "\n",
        "One way to look at this is to consider the equation $17 = 5 \\times 3 + 2$, which gives us the remainder value 2.\n",
        "\n",
        "Let's work backward in order to obtain the formula that we can use in our code. Suppose that $A$ divided by $B$ produces the **quotient** $Q$ and the **remainder** $R$. So we have the follow equation.\n",
        "\n",
        "> $A = Q \\times B + R \\quad \\Longleftrightarrow \\quad R = A - Q \\times B$\n",
        "\n",
        "And here is the Python code to compute the remainder from dividing 17 by 3."
      ]
    },
    {
      "cell_type": "code",
      "metadata": {
        "colab": {
          "base_uri": "https://localhost:8080/"
        },
        "id": "R0MVhYoNurJP",
        "outputId": "676bed89-bb93-4e3c-cf64-6e18b55cbaa6"
      },
      "source": [
        "17 - (17 // 3) * 3"
      ],
      "execution_count": 16,
      "outputs": [
        {
          "output_type": "execute_result",
          "data": {
            "text/plain": [
              "2"
            ]
          },
          "metadata": {
            "tags": []
          },
          "execution_count": 16
        }
      ]
    },
    {
      "cell_type": "markdown",
      "metadata": {
        "id": "MsmkDOZAurJP"
      },
      "source": [
        "Whew, that was a lot of work! Luckily, we can achieve the same result simply by using the **modulo** operator: `%`."
      ]
    },
    {
      "cell_type": "code",
      "metadata": {
        "colab": {
          "base_uri": "https://localhost:8080/"
        },
        "id": "iPH5Hz00urJP",
        "outputId": "cc04ac7b-77f5-4f0d-8372-d65631521d77"
      },
      "source": [
        "17 % 3"
      ],
      "execution_count": 19,
      "outputs": [
        {
          "output_type": "execute_result",
          "data": {
            "text/plain": [
              "2"
            ]
          },
          "metadata": {
            "tags": []
          },
          "execution_count": 19
        }
      ]
    },
    {
      "cell_type": "markdown",
      "metadata": {
        "id": "yxkpykG81ZNT"
      },
      "source": [
        "Notice a recurrent theme? In various programming languages, especially Python, we usually have lots of handy operations built into the language. Later we will also learn how to create one ourselves in the next section.\n",
        "\n",
        "Lastly, before we move on, what is the result of diving -17 by 3? Make a guess before running the code."
      ]
    },
    {
      "cell_type": "code",
      "metadata": {
        "colab": {
          "base_uri": "https://localhost:8080/"
        },
        "id": "60USCoJfurJQ",
        "outputId": "a0b6fab2-8c9a-4cd3-dfcc-024b224540a6"
      },
      "source": [
        "-17 // 3"
      ],
      "execution_count": 17,
      "outputs": [
        {
          "output_type": "execute_result",
          "data": {
            "text/plain": [
              "-6"
            ]
          },
          "metadata": {
            "tags": []
          },
          "execution_count": 17
        }
      ]
    },
    {
      "cell_type": "code",
      "metadata": {
        "colab": {
          "base_uri": "https://localhost:8080/"
        },
        "id": "37MwRysIurJQ",
        "outputId": "435e5f54-79db-44d7-9f83-64f5c6c0108c"
      },
      "source": [
        "-17 % 3"
      ],
      "execution_count": 18,
      "outputs": [
        {
          "output_type": "execute_result",
          "data": {
            "text/plain": [
              "1"
            ]
          },
          "metadata": {
            "tags": []
          },
          "execution_count": 18
        }
      ]
    },
    {
      "cell_type": "markdown",
      "metadata": {
        "id": "-bGUAlIAA668"
      },
      "source": [
        "## 2. Variables\n",
        "\n",
        "Let's consider the **Compound Interest** problem once again. Suppose that we have some `initial_balance_thb` in our bank account. Our account yields some `interest_rate_percent` per year, but there is some `tax_rate_percent` deducted from the interest earned. How much will we end up with after one year has passed?\n",
        "\n",
        "Here is the a set of equations which describes the above process:\n",
        "> $\\mathrm{interest\\_thb} = \\mathrm{initial\\_balance\\_thb} \\times \\dfrac{\\mathrm{interest\\_rate\\_percent}}{100}$\n",
        ">\n",
        "> $\\mathrm{tax\\_on\\_interest\\_thb} = \\mathrm{interest\\_thb} \\times \\dfrac{\\mathrm{tax\\_percent\\_rate}}{100}$\n",
        ">\n",
        "> $\\mathrm{final\\_balance\\_thb} = \\mathrm{initial\\_balance\\_thb} + \\mathrm{interest\\_thb} - \\mathrm{tax\\_on\\_interest\\_thb}$\n",
        "\n",
        "We can convert all of the above into a giant mathmatical expression as shown here (assuming that the initial balance is 10,000; the interest rate is 3%; and the tax rate is 15%)."
      ]
    },
    {
      "cell_type": "code",
      "metadata": {
        "colab": {
          "base_uri": "https://localhost:8080/"
        },
        "id": "QiVhY9OB8Ds5",
        "outputId": "27b82cc7-739c-4e71-c5f6-45b0925340ec"
      },
      "source": [
        "10_000 + (10_000 * 0.03) - ((10_000 * 0.03) * 0.15)"
      ],
      "execution_count": 20,
      "outputs": [
        {
          "output_type": "execute_result",
          "data": {
            "text/plain": [
              "10255.0"
            ]
          },
          "metadata": {
            "tags": []
          },
          "execution_count": 20
        }
      ]
    },
    {
      "cell_type": "markdown",
      "metadata": {
        "id": "oBHuvgH58Ta1"
      },
      "source": [
        "It takes a lot to comprehend the code shown above. Also, we needed to duplicate part of the code `10_000 * 0.03` twice. If you feel annoyed by this, then you are on the right track!\n",
        "\n",
        "In almost all programming languages (Python included), there is a concept of variable which can store (intermediate) results for later use. Below is the code which achieves the same result as above but is much easier to understand."
      ]
    },
    {
      "cell_type": "code",
      "metadata": {
        "colab": {
          "base_uri": "https://localhost:8080/"
        },
        "id": "q2BEHwzA7cux",
        "outputId": "7e848420-c8be-4ba2-8064-db2137c5ea7d"
      },
      "source": [
        "initial_balance_thb = 10_000\n",
        "interest_rate_percent = 3\n",
        "tax_rate_percent = 15\n",
        "\n",
        "interest_thb = initial_balance_thb * interest_rate_percent / 100\n",
        "tax_on_interest_thb = interest_thb * tax_rate_percent / 100\n",
        "final_balance_thb = initial_balance_thb + interest_thb - tax_on_interest_thb\n",
        "\n",
        "print(final_balance_thb)"
      ],
      "execution_count": 21,
      "outputs": [
        {
          "output_type": "stream",
          "text": [
            "10255.0\n"
          ],
          "name": "stdout"
        }
      ]
    },
    {
      "cell_type": "markdown",
      "metadata": {
        "id": "Fv8iHq3D9acy"
      },
      "source": [
        "Please ignore `print(...)` for now. There are a few things that you must know:\n",
        "\n",
        "- Python code generally runs from top to bottom.\n",
        "-`<variable> = <expression>` represents an assignment of values to the right of the `=' symbol into a **variable** whose name on the left. Swapping left and right parts will produce error. (Try it for yourself now!)\n",
        "- Expressions may refer to **variables** which only have been assigned previously.\n",
        "\n",
        "This will mean that the code below to compute an area from a given width and height will cause an error.\n",
        "\n",
        "```python\n",
        "area = width * height\n",
        "height = 1080\n",
        "width = 1080 * 16 / 9\n",
        "```"
      ]
    },
    {
      "cell_type": "code",
      "metadata": {
        "id": "5Ts8A0Q5AyEw",
        "colab": {
          "base_uri": "https://localhost:8080/",
          "height": 196
        },
        "outputId": "dc11a640-3e58-459e-ed0b-38ea7eb01ee0"
      },
      "source": [
        "area = width * height\n",
        "height = 1080\n",
        "width = 1080 * 16 / 9"
      ],
      "execution_count": 22,
      "outputs": [
        {
          "output_type": "error",
          "ename": "NameError",
          "evalue": "ignored",
          "traceback": [
            "\u001b[0;31m---------------------------------------------------------------------------\u001b[0m",
            "\u001b[0;31mNameError\u001b[0m                                 Traceback (most recent call last)",
            "\u001b[0;32m<ipython-input-22-b02056774989>\u001b[0m in \u001b[0;36m<module>\u001b[0;34m()\u001b[0m\n\u001b[0;32m----> 1\u001b[0;31m \u001b[0marea\u001b[0m \u001b[0;34m=\u001b[0m \u001b[0mwidth\u001b[0m \u001b[0;34m*\u001b[0m \u001b[0mheight\u001b[0m\u001b[0;34m\u001b[0m\u001b[0;34m\u001b[0m\u001b[0m\n\u001b[0m\u001b[1;32m      2\u001b[0m \u001b[0mheight\u001b[0m \u001b[0;34m=\u001b[0m \u001b[0;36m1080\u001b[0m\u001b[0;34m\u001b[0m\u001b[0;34m\u001b[0m\u001b[0m\n\u001b[1;32m      3\u001b[0m \u001b[0mwidth\u001b[0m \u001b[0;34m=\u001b[0m \u001b[0;36m1080\u001b[0m \u001b[0;34m*\u001b[0m \u001b[0;36m16\u001b[0m \u001b[0;34m/\u001b[0m \u001b[0;36m9\u001b[0m\u001b[0;34m\u001b[0m\u001b[0;34m\u001b[0m\u001b[0m\n",
            "\u001b[0;31mNameError\u001b[0m: name 'width' is not defined"
          ]
        }
      ]
    },
    {
      "cell_type": "markdown",
      "metadata": {
        "id": "iyep_gu-_uR4"
      },
      "source": [
        "Fix the code above so that it runs correctly. Now let's confirm that `area` is now computed correctly."
      ]
    },
    {
      "cell_type": "code",
      "metadata": {
        "id": "l8TQTQXFBNfM",
        "colab": {
          "base_uri": "https://localhost:8080/",
          "height": 162
        },
        "outputId": "374c326c-65a8-43d9-bf32-17f2df2b21d8"
      },
      "source": [
        "area"
      ],
      "execution_count": 23,
      "outputs": [
        {
          "output_type": "error",
          "ename": "NameError",
          "evalue": "ignored",
          "traceback": [
            "\u001b[0;31m---------------------------------------------------------------------------\u001b[0m",
            "\u001b[0;31mNameError\u001b[0m                                 Traceback (most recent call last)",
            "\u001b[0;32m<ipython-input-23-cb240d40b889>\u001b[0m in \u001b[0;36m<module>\u001b[0;34m()\u001b[0m\n\u001b[0;32m----> 1\u001b[0;31m \u001b[0marea\u001b[0m\u001b[0;34m\u001b[0m\u001b[0;34m\u001b[0m\u001b[0m\n\u001b[0m",
            "\u001b[0;31mNameError\u001b[0m: name 'area' is not defined"
          ]
        }
      ]
    },
    {
      "cell_type": "markdown",
      "metadata": {
        "id": "XceamuiHAlus"
      },
      "source": [
        "### Aside: Statements Themselves Do Not Produce Value\n",
        "\n",
        "Assignment statements (`<variable> = <expression>`) by _itself_ does to produce value. However, the expression to the right of the `=` symbol does indeed produce value, but it is then stored into the variable shown on the left, and thus is the reason why the value is not shown to us.\n",
        "\n",
        "_That_ is the reason why the code to compute `area` from multiplying `width` and `height` (from the above) does not display any results. It is also the reason why we need `print(final_balance_thb)` in order to tell Python to explicitly display the content of `final_balance_thb`.\n",
        "\n",
        "`print(...)` is a function call that will _print_ out anything it receives. Whatever we put between the pair of parentheses is called **inputs** (or **arguments**, or **parameters**) to a function."
      ]
    },
    {
      "cell_type": "code",
      "metadata": {
        "colab": {
          "base_uri": "https://localhost:8080/"
        },
        "id": "0FUXOsOEBOvt",
        "outputId": "7a330592-ec8e-41d9-e240-1bcfd2167d89"
      },
      "source": [
        "print(1 + 2 + 3 + 4 + 5)"
      ],
      "execution_count": 24,
      "outputs": [
        {
          "output_type": "stream",
          "text": [
            "15\n"
          ],
          "name": "stdout"
        }
      ]
    },
    {
      "cell_type": "code",
      "metadata": {
        "colab": {
          "base_uri": "https://localhost:8080/",
          "height": 162
        },
        "id": "VTAf5CefBQoG",
        "outputId": "27ab62db-74b2-41ac-fe93-8cfd61e72037"
      },
      "source": [
        "print(name_of_city)"
      ],
      "execution_count": 25,
      "outputs": [
        {
          "output_type": "error",
          "ename": "NameError",
          "evalue": "ignored",
          "traceback": [
            "\u001b[0;31m---------------------------------------------------------------------------\u001b[0m",
            "\u001b[0;31mNameError\u001b[0m                                 Traceback (most recent call last)",
            "\u001b[0;32m<ipython-input-25-d3114f38e19c>\u001b[0m in \u001b[0;36m<module>\u001b[0;34m()\u001b[0m\n\u001b[0;32m----> 1\u001b[0;31m \u001b[0mprint\u001b[0m\u001b[0;34m(\u001b[0m\u001b[0mname_of_city\u001b[0m\u001b[0;34m)\u001b[0m\u001b[0;34m\u001b[0m\u001b[0;34m\u001b[0m\u001b[0m\n\u001b[0m",
            "\u001b[0;31mNameError\u001b[0m: name 'name_of_city' is not defined"
          ]
        }
      ]
    },
    {
      "cell_type": "markdown",
      "metadata": {
        "id": "rW7cBFmduFB9"
      },
      "source": [
        "### Aside: Code Comments\n",
        "\n",
        "We can provide additional notes to our code using what are called **comments**. In Python, a comment begins with `#` and the rest of the line will not be interpreted by Python. For example,"
      ]
    },
    {
      "cell_type": "code",
      "metadata": {
        "colab": {
          "base_uri": "https://localhost:8080/"
        },
        "id": "zOB-7TxKua7v",
        "outputId": "e87b2fe7-2a32-44f6-8074-d5a74f1cc8fc"
      },
      "source": [
        "# Computing the distance from the origin (0, 0) to (x, y)\n",
        "x = 4\n",
        "y = -3\n",
        "distance_from_origin = ((x ** 2) + (y ** 2)) ** 0.5  # Pythagorean Theorem\n",
        "print(distance_from_origin)"
      ],
      "execution_count": 12,
      "outputs": [
        {
          "output_type": "stream",
          "text": [
            "5.0\n"
          ],
          "name": "stdout"
        }
      ]
    },
    {
      "cell_type": "markdown",
      "metadata": {
        "id": "sp-RXeOLvnI5"
      },
      "source": [
        "It is best to add comments to explain the logic behind the code if it would not be obvious by itself. You will thank yourself later."
      ]
    },
    {
      "cell_type": "markdown",
      "metadata": {
        "id": "HEGSm9bJt2UW"
      },
      "source": [
        "## 3. Functions\n",
        "\n",
        "Time to talk about games with RNG (Random Number Generators). Let's say that a certain rare item has a drop rate of 0.3% from a loot box (that is one in a thousand chance). What is the chance that we win at least one such item within 10 loot boxes?\n",
        "\n",
        "Let's write some code to find out."
      ]
    },
    {
      "cell_type": "code",
      "metadata": {
        "colab": {
          "base_uri": "https://localhost:8080/"
        },
        "id": "O4KUfvwmt2zz",
        "outputId": "19d9ec1d-a67d-4e1a-de50-c21d32efe911"
      },
      "source": [
        "drop_rate = 0.003\n",
        "n_boxes = 10\n",
        "single_fail_prob = 1 - drop_rate\n",
        "total_fail_prob = single_fail_prob ** n_boxes\n",
        "winning_prob = 1 - total_fail_prob\n",
        "print(format(winning_prob, \"%\"))"
      ],
      "execution_count": 29,
      "outputs": [
        {
          "output_type": "stream",
          "text": [
            "2.959822%\n"
          ],
          "name": "stdout"
        }
      ]
    },
    {
      "cell_type": "markdown",
      "metadata": {
        "id": "uoN2r3uty4Kv"
      },
      "source": [
        "Well,  how about the winning chance for opening 100 loot boxes? We can just modify the previous code and set `n_boxes` to `100`, but then we will lose track of history of previous computations. It is usually nice to have some previous results available for inspection. **Did you know?** In scientific community, it is even considered ethically wrong to make something disappear from lab notebooks. Do not worry, we are doing something that serious here :).\n",
        "\n",
        "So instead we will copy the above code and replace the number to `n_boxes = 100`."
      ]
    },
    {
      "cell_type": "code",
      "metadata": {
        "colab": {
          "base_uri": "https://localhost:8080/"
        },
        "id": "CIAYrYKf1nlJ",
        "outputId": "9d847a0a-331f-4c9a-989a-6cab7ca1b6f1"
      },
      "source": [
        "drop_rate = 0.003\n",
        "n_boxes = 100\n",
        "single_fail_prob = 1 - drop_rate\n",
        "total_fail_prob = single_fail_prob ** n_boxes\n",
        "winning_prob = 1 - total_fail_prob\n",
        "print(format(winning_prob, \"%\"))"
      ],
      "execution_count": 31,
      "outputs": [
        {
          "output_type": "stream",
          "text": [
            "25.951574%\n"
          ],
          "name": "stdout"
        }
      ]
    },
    {
      "cell_type": "markdown",
      "metadata": {
        "id": "C3PjJzqi1rPi"
      },
      "source": [
        "What if we want to try this computation for other numbers of loot boxes? Are we going to copy this chunk of code again? One crucial mantra of programming is to avoid repeating ourselves. We will combine the entire chunk of code into a single computation unit, by defining **functions**.\n",
        "\n",
        "A function consists of **inputs** and **outputs**. It also sometimes has side-effects (such as when `print` displays text for us to read). We will create a new function to compute the winning probability (the **output**) from three **inputs**: the `drop_rate` and the number of boxes (denoted `n_boxes`)."
      ]
    },
    {
      "cell_type": "code",
      "metadata": {
        "colab": {
          "base_uri": "https://localhost:8080/"
        },
        "id": "syJn2DcA3Yn_",
        "outputId": "af574ea8-f68f-4e6d-99fc-91474a15a5bf"
      },
      "source": [
        "# Here we define our function\n",
        "def compute_winning_prob(drop_rate, n_boxes):\n",
        "    single_fail_prob = 1 - drop_rate\n",
        "    total_fail_prob = single_fail_prob ** n_boxes\n",
        "    winning_prob = 1 - total_fail_prob\n",
        "    return winning_prob\n",
        "\n",
        "# Then we can make calls to the function we just defined \n",
        "winning_prob_10_boxes = compute_winning_prob(0.003, 10)\n",
        "print(\"10 boxes\", format(winning_prob_10_boxes, \"%\"))\n",
        "\n",
        "# You can also specify input argument names for better readability\n",
        "winning_prob_100_boxes = compute_winning_prob(drop_rate=0.003, n_boxes=100)\n",
        "print(\"100 boxes\", format(winning_prob_100_boxes, \"%\"))\n",
        "\n",
        "# You can also specify the result of calling of one function as input to another function\n",
        "print(\"1000 boxes\", format(compute_winning_prob(0.003, 1000), \"%\"))"
      ],
      "execution_count": 40,
      "outputs": [
        {
          "output_type": "stream",
          "text": [
            "10 boxes 2.959822%\n",
            "100 boxes 25.951574%\n",
            "1000 boxes 95.043692%\n"
          ],
          "name": "stdout"
        }
      ]
    },
    {
      "cell_type": "markdown",
      "metadata": {
        "id": "4Gie0SKI4g7i"
      },
      "source": [
        "The first line of function definition reads as\n",
        "\n",
        "```python\n",
        "def compute_winning_prob(drop_rate, n_boxes):\n",
        "```\n",
        "\n",
        "Here, our function has the name `compute_winning_prob`, and it accepts two inputs, `drop_rate` and `n_boxes`. Please note that the order of input arguments do matter. Make sure that the function call specifies the input arguments in the same order as well.\n",
        "\n",
        "The function body are those 4 indented lines. Python uses indentation to identify blocks of code (e.g. telling which part of code is part of a function definition). Although it is visually pleasing, Python code generally suffers from copy-and-paste error unlike other programming languages. So please be careful when copying Python code from other sources.\n",
        "\n",
        "```python\n",
        "    single_fail_prob = 1 - drop_rate\n",
        "    total_fail_prob = single_fail_prob ** n_boxes\n",
        "    winning_prob = 1 - total_fail_prob\n",
        "    return winning_prob\n",
        "```\n",
        "\n",
        "Finally, the output of the function is the the result of the expression following the `return` keyword. If there is no such keyword in the body of a function definition, then it will implicitly return the value `None`, a special constant value in Python to signify an absence of data."
      ]
    },
    {
      "cell_type": "markdown",
      "metadata": {
        "id": "WiF5gTrHD1cJ"
      },
      "source": [
        "## 3. Strings"
      ]
    },
    {
      "cell_type": "code",
      "metadata": {
        "id": "KauhD_W6DrUm"
      },
      "source": [
        "'spam eggs'  # single quotes"
      ],
      "execution_count": null,
      "outputs": []
    },
    {
      "cell_type": "code",
      "metadata": {
        "id": "Tss5nEAQEAN6"
      },
      "source": [
        "'doesn't'"
      ],
      "execution_count": null,
      "outputs": []
    },
    {
      "cell_type": "code",
      "metadata": {
        "id": "Aohie2VzD7nv"
      },
      "source": [
        "'doesn\\'t'  # use \\' to escape the single quote..."
      ],
      "execution_count": null,
      "outputs": []
    },
    {
      "cell_type": "code",
      "metadata": {
        "id": "JlOE1x-pD9xu"
      },
      "source": [
        "\"doesn't\"  # ...or use double quotes instead"
      ],
      "execution_count": null,
      "outputs": []
    },
    {
      "cell_type": "code",
      "metadata": {
        "id": "BfJjc1weEE0g"
      },
      "source": [
        "'\"Yes,\" they said.'"
      ],
      "execution_count": null,
      "outputs": []
    },
    {
      "cell_type": "code",
      "metadata": {
        "id": "V_TqKXF_EI3W"
      },
      "source": [
        "\"\\\"Yes,\\\" they said.\""
      ],
      "execution_count": null,
      "outputs": []
    },
    {
      "cell_type": "code",
      "metadata": {
        "id": "MoY035XIEJ_B"
      },
      "source": [
        "'\"Isn\\'t,\" they said.'"
      ],
      "execution_count": null,
      "outputs": []
    },
    {
      "cell_type": "markdown",
      "metadata": {
        "id": "x_Dxdi25EU11"
      },
      "source": [
        "print( ) function"
      ]
    },
    {
      "cell_type": "code",
      "metadata": {
        "id": "h1OkHNCYEbrp"
      },
      "source": [
        "'\"Isn\\'t,\" they said.'"
      ],
      "execution_count": null,
      "outputs": []
    },
    {
      "cell_type": "code",
      "metadata": {
        "id": "834WDagsEexd"
      },
      "source": [
        "print('\"Isn\\'t,\" they said.')"
      ],
      "execution_count": null,
      "outputs": []
    },
    {
      "cell_type": "code",
      "metadata": {
        "id": "HHVGHXnUEmAN"
      },
      "source": [
        "s = 'First line.\\nSecond line.'  # \\n means newline"
      ],
      "execution_count": null,
      "outputs": []
    },
    {
      "cell_type": "code",
      "metadata": {
        "id": "wVDx0KsGEoMo"
      },
      "source": [
        "s  # without print(), \\n is included in the output"
      ],
      "execution_count": null,
      "outputs": []
    },
    {
      "cell_type": "code",
      "metadata": {
        "id": "PdwQGJPmErEp"
      },
      "source": [
        "print(s)  # with print(), \\n produces a new line"
      ],
      "execution_count": null,
      "outputs": []
    },
    {
      "cell_type": "markdown",
      "metadata": {
        "id": "7gh3PqlSEwSo"
      },
      "source": [
        "raw strings"
      ]
    },
    {
      "cell_type": "code",
      "metadata": {
        "id": "HKPjEMV0EsAw"
      },
      "source": [
        "print('C:\\some\\name')  # here \\n means newline!"
      ],
      "execution_count": null,
      "outputs": []
    },
    {
      "cell_type": "code",
      "metadata": {
        "id": "qYmAKKZFE1G6"
      },
      "source": [
        "print(r'C:\\some\\name')  # note the r before the quote"
      ],
      "execution_count": null,
      "outputs": []
    },
    {
      "cell_type": "markdown",
      "metadata": {
        "id": "96vuFyGUE_9Z"
      },
      "source": [
        "Using triple-quotes to span multiple lines"
      ]
    },
    {
      "cell_type": "code",
      "metadata": {
        "id": "AHEXWFfLE6MO"
      },
      "source": [
        "print(\"\"\"\\\n",
        "Usage: thingy [OPTIONS]\n",
        "     -h                        Display this usage message\n",
        "     -H hostname               Hostname to connect to\n",
        "\"\"\")"
      ],
      "execution_count": null,
      "outputs": []
    },
    {
      "cell_type": "markdown",
      "metadata": {
        "id": "ZiNSlLhrFKxa"
      },
      "source": [
        "string concatenated and repeated"
      ]
    },
    {
      "cell_type": "code",
      "metadata": {
        "id": "PjPrgFeQFHWR"
      },
      "source": [
        "3 * 'un' + 'ium'"
      ],
      "execution_count": null,
      "outputs": []
    },
    {
      "cell_type": "code",
      "metadata": {
        "id": "KY8qktFGFVpg"
      },
      "source": [
        "'Py' 'thon'"
      ],
      "execution_count": null,
      "outputs": []
    },
    {
      "cell_type": "code",
      "metadata": {
        "id": "bwcLall0FeFH"
      },
      "source": [
        "text = ('Put several strings within parentheses '\n",
        "         'to have them joined together.')"
      ],
      "execution_count": null,
      "outputs": []
    },
    {
      "cell_type": "code",
      "metadata": {
        "id": "eFNlo4SbFmRM"
      },
      "source": [
        "text"
      ],
      "execution_count": null,
      "outputs": []
    },
    {
      "cell_type": "code",
      "metadata": {
        "id": "GO-DFdU_GTGW"
      },
      "source": [
        "prefix = 'Py'"
      ],
      "execution_count": null,
      "outputs": []
    },
    {
      "cell_type": "code",
      "metadata": {
        "id": "0Oj8uUieGXQ3"
      },
      "source": [
        "prefix 'thon'  # can't concatenate a variable and a string literal"
      ],
      "execution_count": null,
      "outputs": []
    },
    {
      "cell_type": "code",
      "metadata": {
        "id": "hoiDzWWAGlJe"
      },
      "source": [
        "('un' * 3) 'ium'"
      ],
      "execution_count": null,
      "outputs": []
    },
    {
      "cell_type": "markdown",
      "metadata": {
        "id": "DgFvu1HqGsFM"
      },
      "source": [
        "concatenate variables with string use +"
      ]
    },
    {
      "cell_type": "code",
      "metadata": {
        "id": "U8icBZntGnsG"
      },
      "source": [
        "prefix + 'thon'"
      ],
      "execution_count": null,
      "outputs": []
    },
    {
      "cell_type": "markdown",
      "metadata": {
        "id": "0Fddw69WGxvC"
      },
      "source": [
        "string indexed"
      ]
    },
    {
      "cell_type": "code",
      "metadata": {
        "id": "huMWrPd6GxZY"
      },
      "source": [
        "word = 'Python'"
      ],
      "execution_count": null,
      "outputs": []
    },
    {
      "cell_type": "code",
      "metadata": {
        "id": "Hac5uSF3G1AA"
      },
      "source": [
        "word[0]  # character in position 0"
      ],
      "execution_count": null,
      "outputs": []
    },
    {
      "cell_type": "code",
      "metadata": {
        "id": "oQjp2-STG3yN"
      },
      "source": [
        "word[5]  # character in position 5"
      ],
      "execution_count": null,
      "outputs": []
    },
    {
      "cell_type": "markdown",
      "metadata": {
        "id": "QWyliW0FG69p"
      },
      "source": [
        "negative numbers index"
      ]
    },
    {
      "cell_type": "code",
      "metadata": {
        "id": "BVckGCNjHAz5"
      },
      "source": [
        "word[-1]  # last character"
      ],
      "execution_count": null,
      "outputs": []
    },
    {
      "cell_type": "code",
      "metadata": {
        "id": "ll6LjejNHCYJ"
      },
      "source": [
        "word[-2]  # second-last character"
      ],
      "execution_count": null,
      "outputs": []
    },
    {
      "cell_type": "code",
      "metadata": {
        "id": "b_FlaYi9HEOH"
      },
      "source": [
        "word[-6]"
      ],
      "execution_count": null,
      "outputs": []
    },
    {
      "cell_type": "markdown",
      "metadata": {
        "id": "6Zx6aoHVHHn2"
      },
      "source": [
        "Slicing"
      ]
    },
    {
      "cell_type": "code",
      "metadata": {
        "id": "zimBWkhjHKBs"
      },
      "source": [
        "word[0:2]  # characters from position 0 (included) to 2 (excluded)"
      ],
      "execution_count": null,
      "outputs": []
    },
    {
      "cell_type": "code",
      "metadata": {
        "id": "6dxzgN0hHMJl"
      },
      "source": [
        "word[2:5]  # characters from position 2 (included) to 5 (excluded)"
      ],
      "execution_count": null,
      "outputs": []
    },
    {
      "cell_type": "markdown",
      "metadata": {
        "id": "uHToqbLcHT5v"
      },
      "source": [
        "s[:i] + s[i:] is always equal to s"
      ]
    },
    {
      "cell_type": "code",
      "metadata": {
        "id": "-keTwQGSHY9g"
      },
      "source": [
        "word[:2] + word[2:]"
      ],
      "execution_count": null,
      "outputs": []
    },
    {
      "cell_type": "code",
      "metadata": {
        "id": "LMdum8PeHaxt"
      },
      "source": [
        "word[:4] + word[4:]"
      ],
      "execution_count": null,
      "outputs": []
    },
    {
      "cell_type": "code",
      "metadata": {
        "id": "YJ5dLjYrHhq2"
      },
      "source": [
        "word[:2]   # character from the beginning to position 2 (excluded)"
      ],
      "execution_count": null,
      "outputs": []
    },
    {
      "cell_type": "code",
      "metadata": {
        "id": "HTbhURZgHjWH"
      },
      "source": [
        "word[4:]   # characters from position 4 (included) to the end"
      ],
      "execution_count": null,
      "outputs": []
    },
    {
      "cell_type": "code",
      "metadata": {
        "id": "XlRR5i5IHlM3"
      },
      "source": [
        "word[-2:]  # characters from the second-last (included) to the end"
      ],
      "execution_count": null,
      "outputs": []
    },
    {
      "cell_type": "code",
      "metadata": {
        "id": "AMR0Gr91Hnt4"
      },
      "source": [
        "#  +---+---+---+---+---+---+\n",
        "#  | P | y | t | h | o | n |\n",
        "#  +---+---+---+---+---+---+\n",
        "#  0   1   2   3   4   5   6\n",
        "# -6  -5  -4  -3  -2  -1"
      ],
      "execution_count": null,
      "outputs": []
    },
    {
      "cell_type": "code",
      "metadata": {
        "id": "Tc6YkbV-H2cH"
      },
      "source": [
        "word[42]  # the word only has 6 characters"
      ],
      "execution_count": null,
      "outputs": []
    },
    {
      "cell_type": "markdown",
      "metadata": {
        "id": "LFEun-TkH-kT"
      },
      "source": [
        "out of range slice indexes"
      ]
    },
    {
      "cell_type": "code",
      "metadata": {
        "id": "zEUNiQsxH5rJ"
      },
      "source": [
        "word[4:42]"
      ],
      "execution_count": null,
      "outputs": []
    },
    {
      "cell_type": "code",
      "metadata": {
        "id": "qCwSdRFtH_ri"
      },
      "source": [
        "word[42:]"
      ],
      "execution_count": null,
      "outputs": []
    },
    {
      "cell_type": "markdown",
      "metadata": {
        "id": "sn1LgBGrIG-f"
      },
      "source": [
        "Python strings are immutable"
      ]
    },
    {
      "cell_type": "code",
      "metadata": {
        "id": "SApDaw5DIJkv"
      },
      "source": [
        "word[0] = 'J'"
      ],
      "execution_count": null,
      "outputs": []
    },
    {
      "cell_type": "code",
      "metadata": {
        "id": "Qs20wQRGILrc"
      },
      "source": [
        "word[2:] = 'py'"
      ],
      "execution_count": null,
      "outputs": []
    },
    {
      "cell_type": "markdown",
      "metadata": {
        "id": "hAKZ2rI_Ifna"
      },
      "source": [
        "len( ) function"
      ]
    },
    {
      "cell_type": "code",
      "metadata": {
        "id": "WRCrvFvKIQIP"
      },
      "source": [
        "s = 'supercalifragilisticexpialidocious'\n",
        "len(s)"
      ],
      "execution_count": null,
      "outputs": []
    },
    {
      "cell_type": "markdown",
      "metadata": {
        "id": "ryCh5csUIo7q"
      },
      "source": [
        "## 4. Lists"
      ]
    },
    {
      "cell_type": "code",
      "metadata": {
        "id": "lxR6y6VsIkSf"
      },
      "source": [
        "squares = [1, 4, 9, 16, 25]\n",
        "squares"
      ],
      "execution_count": null,
      "outputs": []
    },
    {
      "cell_type": "code",
      "metadata": {
        "id": "Ilb9nJKRItXF"
      },
      "source": [
        "squares[0]  # indexing returns the item"
      ],
      "execution_count": null,
      "outputs": []
    },
    {
      "cell_type": "code",
      "metadata": {
        "id": "6QyenwA4Iwzo"
      },
      "source": [
        "squares[-1]"
      ],
      "execution_count": null,
      "outputs": []
    },
    {
      "cell_type": "code",
      "metadata": {
        "id": "QsGFgKCcIzQ0"
      },
      "source": [
        "squares[-3:]  # slicing returns a new list"
      ],
      "execution_count": null,
      "outputs": []
    },
    {
      "cell_type": "code",
      "metadata": {
        "id": "WYedBUgYI2H2"
      },
      "source": [
        "squares[:]"
      ],
      "execution_count": null,
      "outputs": []
    },
    {
      "cell_type": "markdown",
      "metadata": {
        "id": "_rQY_shaI4c0"
      },
      "source": [
        "List concatenation"
      ]
    },
    {
      "cell_type": "code",
      "metadata": {
        "id": "xXrSaHjgI2_b"
      },
      "source": [
        "squares + [36, 49, 64, 81, 100]"
      ],
      "execution_count": null,
      "outputs": []
    },
    {
      "cell_type": "markdown",
      "metadata": {
        "id": "1qAHU7DVJANN"
      },
      "source": [
        "Lists are mutable"
      ]
    },
    {
      "cell_type": "code",
      "metadata": {
        "id": "2xlUzTCQI7nB"
      },
      "source": [
        "cubes = [1, 8, 27, 65, 125]  # something's wrong here\n",
        "4 ** 3  # the cube of 4 is 64, not 65!"
      ],
      "execution_count": null,
      "outputs": []
    },
    {
      "cell_type": "code",
      "metadata": {
        "id": "RIXJNV2vJFUO"
      },
      "source": [
        "cubes[3] = 64  # replace the wrong value\n",
        "cubes"
      ],
      "execution_count": null,
      "outputs": []
    },
    {
      "cell_type": "markdown",
      "metadata": {
        "id": "a_jfKZrBJJ57"
      },
      "source": [
        "append( ) method"
      ]
    },
    {
      "cell_type": "code",
      "metadata": {
        "id": "O01bazX7JMeD"
      },
      "source": [
        "cubes.append(216)  # add the cube of 6\n",
        "cubes.append(7 ** 3)  # and the cube of 7\n",
        "cubes"
      ],
      "execution_count": null,
      "outputs": []
    },
    {
      "cell_type": "markdown",
      "metadata": {
        "id": "gBYU6QGMJUpf"
      },
      "source": [
        "Assignment to slices"
      ]
    },
    {
      "cell_type": "code",
      "metadata": {
        "id": "JWDPuoDYJVZW"
      },
      "source": [
        "letters = ['a', 'b', 'c', 'd', 'e', 'f', 'g']\n",
        "letters"
      ],
      "execution_count": null,
      "outputs": []
    },
    {
      "cell_type": "code",
      "metadata": {
        "id": "t9j8zc2PJY9m"
      },
      "source": [
        "# replace some values\n",
        "letters[2:5] = ['C', 'D', 'E']\n",
        "letters"
      ],
      "execution_count": null,
      "outputs": []
    },
    {
      "cell_type": "code",
      "metadata": {
        "id": "LnCK1xSUJeWu"
      },
      "source": [
        "# now remove them\n",
        "letters[2:5] = []\n",
        "letters"
      ],
      "execution_count": null,
      "outputs": []
    },
    {
      "cell_type": "code",
      "metadata": {
        "id": "Z7Y6BVQSJiQs"
      },
      "source": [
        "# clear the list by replacing all the elements with an empty list\n",
        "letters[:] = []\n",
        "letters"
      ],
      "execution_count": null,
      "outputs": []
    },
    {
      "cell_type": "code",
      "metadata": {
        "id": "X1XGNZ-tJmhw"
      },
      "source": [
        "letters = ['a', 'b', 'c', 'd']\n",
        "len(letters)"
      ],
      "execution_count": null,
      "outputs": []
    },
    {
      "cell_type": "markdown",
      "metadata": {
        "id": "EFOcTMv_JxeD"
      },
      "source": [
        "Nested list"
      ]
    },
    {
      "cell_type": "code",
      "metadata": {
        "id": "T8HB4fGiJyq7"
      },
      "source": [
        "a = ['a', 'b', 'c']\n",
        "n = [1, 2, 3]\n",
        "x = [a, n]\n",
        "x"
      ],
      "execution_count": null,
      "outputs": []
    },
    {
      "cell_type": "code",
      "metadata": {
        "id": "7ebdiEQ-J9xB"
      },
      "source": [
        "x[0]"
      ],
      "execution_count": null,
      "outputs": []
    },
    {
      "cell_type": "code",
      "metadata": {
        "id": "fiQ2Zv1AJ_TV"
      },
      "source": [
        "x[0][1]"
      ],
      "execution_count": null,
      "outputs": []
    },
    {
      "cell_type": "markdown",
      "metadata": {
        "id": "M9ZSBSN_KJx4"
      },
      "source": [
        "## 5. Statement"
      ]
    },
    {
      "cell_type": "markdown",
      "metadata": {
        "id": "BV4gbLf2KOxb"
      },
      "source": [
        "if-else"
      ]
    },
    {
      "cell_type": "code",
      "metadata": {
        "id": "_BMT5WgrKMT3"
      },
      "source": [
        "a = 33\n",
        "b = 200\n",
        "if b > a:\n",
        "  print(\"b is greater than a\")"
      ],
      "execution_count": null,
      "outputs": []
    },
    {
      "cell_type": "code",
      "metadata": {
        "id": "k8YffKqfKScY"
      },
      "source": [
        "a = 33\n",
        "b = 200\n",
        "if b > a:\n",
        "print(\"b is greater than a\") # no indentation"
      ],
      "execution_count": null,
      "outputs": []
    },
    {
      "cell_type": "code",
      "metadata": {
        "id": "Cxc4DLqmKZPR"
      },
      "source": [
        "# elif\n",
        "a = 33\n",
        "b = 33\n",
        "if b > a:\n",
        "  print(\"b is greater than a\")\n",
        "elif a == b:\n",
        "  print(\"a and b are equal\")"
      ],
      "execution_count": null,
      "outputs": []
    },
    {
      "cell_type": "code",
      "metadata": {
        "id": "knG0YOmhKeV5"
      },
      "source": [
        "# else\n",
        "a = 200\n",
        "b = 33\n",
        "if b > a:\n",
        "  print(\"b is greater than a\")\n",
        "elif a == b:\n",
        "  print(\"a and b are equal\")\n",
        "else:\n",
        "  print(\"a is greater than b\")"
      ],
      "execution_count": null,
      "outputs": []
    },
    {
      "cell_type": "markdown",
      "metadata": {
        "id": "UYyE6cW_KoDD"
      },
      "source": [
        "for loop"
      ]
    },
    {
      "cell_type": "code",
      "metadata": {
        "id": "H0MJwsgeKqYu"
      },
      "source": [
        "fruits = [\"apple\", \"banana\", \"cherry\"]\n",
        "for x in fruits:\n",
        "  print(x)"
      ],
      "execution_count": null,
      "outputs": []
    },
    {
      "cell_type": "code",
      "metadata": {
        "id": "T6CDDNQTKtaW"
      },
      "source": [
        "for x in \"banana\":\n",
        "  print(x)"
      ],
      "execution_count": null,
      "outputs": []
    },
    {
      "cell_type": "code",
      "metadata": {
        "id": "t4OcsbryK9Jr"
      },
      "source": [
        "adj = [\"red\", \"big\", \"tasty\"]\n",
        "fruits = [\"apple\", \"banana\", \"cherry\"]\n",
        "\n",
        "for x in adj:\n",
        "  for y in fruits:\n",
        "    print(x, y)"
      ],
      "execution_count": null,
      "outputs": []
    },
    {
      "cell_type": "markdown",
      "metadata": {
        "id": "u1YpN4QgLFrR"
      },
      "source": [
        "range"
      ]
    },
    {
      "cell_type": "code",
      "metadata": {
        "id": "Lpo8vLO8K0jh"
      },
      "source": [
        "for x in range(6):\n",
        "  print(x)"
      ],
      "execution_count": null,
      "outputs": []
    },
    {
      "cell_type": "code",
      "metadata": {
        "id": "1K51Z6jWK20a"
      },
      "source": [
        "for x in range(2, 6):\n",
        "  print(x)"
      ],
      "execution_count": null,
      "outputs": []
    },
    {
      "cell_type": "code",
      "metadata": {
        "id": "aufeXuFnK5e7"
      },
      "source": [
        "for x in range(2, 30, 3):\n",
        "  print(x)"
      ],
      "execution_count": null,
      "outputs": []
    },
    {
      "cell_type": "markdown",
      "metadata": {
        "id": "5mJnmEBFLAhz"
      },
      "source": [
        "while loop"
      ]
    },
    {
      "cell_type": "code",
      "metadata": {
        "id": "rq8jWEQmLSS1"
      },
      "source": [
        "i = 1\n",
        "while i < 6:\n",
        "  print(i)\n",
        "  i += 1"
      ],
      "execution_count": null,
      "outputs": []
    },
    {
      "cell_type": "code",
      "metadata": {
        "id": "BIOrDmP9LTID"
      },
      "source": [
        "i = 1\n",
        "while i < 6:\n",
        "  print(i)\n",
        "  if i == 3:\n",
        "    break\n",
        "  i += 1"
      ],
      "execution_count": null,
      "outputs": []
    },
    {
      "cell_type": "code",
      "metadata": {
        "id": "f4AyhvCkLXPl"
      },
      "source": [
        "i = 0\n",
        "while i < 6:\n",
        "  i += 1\n",
        "  if i == 3:\n",
        "    continue\n",
        "  print(i)"
      ],
      "execution_count": null,
      "outputs": []
    },
    {
      "cell_type": "markdown",
      "metadata": {
        "id": "MSJoCwtuLcFM"
      },
      "source": [
        "## 6. Functions and Arguments"
      ]
    },
    {
      "cell_type": "markdown",
      "metadata": {
        "id": "mZEa7RjXLqXS"
      },
      "source": [
        "create function"
      ]
    },
    {
      "cell_type": "code",
      "metadata": {
        "id": "PEK0dnOPLrqC"
      },
      "source": [
        "def my_function():\n",
        "  print(\"Hello from a function\")"
      ],
      "execution_count": null,
      "outputs": []
    },
    {
      "cell_type": "markdown",
      "metadata": {
        "id": "LqTkBXjcLtaO"
      },
      "source": [
        "call function"
      ]
    },
    {
      "cell_type": "code",
      "metadata": {
        "id": "9gpT-8fJLvBz"
      },
      "source": [
        "def my_function():\n",
        "  print(\"Hello from a function\")\n",
        "\n",
        "my_function()"
      ],
      "execution_count": null,
      "outputs": []
    },
    {
      "cell_type": "markdown",
      "metadata": {
        "id": "KZhDU4ZULyWE"
      },
      "source": [
        "arguments"
      ]
    },
    {
      "cell_type": "code",
      "metadata": {
        "id": "idE2s0b3L2DW"
      },
      "source": [
        "def my_function(fname):\n",
        "  print(fname + \" Refsnes\")\n",
        "\n",
        "my_function(\"Emil\")\n",
        "my_function(\"Tobias\")\n",
        "my_function(\"Linus\")"
      ],
      "execution_count": null,
      "outputs": []
    },
    {
      "cell_type": "code",
      "metadata": {
        "id": "n4SQD5IpL7fS"
      },
      "source": [
        "def my_function(fname, lname):\n",
        "  print(fname + \" \" + lname)\n",
        "\n",
        "my_function(\"Emil\", \"Refsnes\")"
      ],
      "execution_count": null,
      "outputs": []
    },
    {
      "cell_type": "code",
      "metadata": {
        "id": "hMuP_HoXL8SY"
      },
      "source": [
        "def my_function(fname, lname):\n",
        "  print(fname + \" \" + lname)\n",
        "\n",
        "my_function(\"Emil\")"
      ],
      "execution_count": null,
      "outputs": []
    },
    {
      "cell_type": "code",
      "metadata": {
        "id": "QjC2H8YKMD6W"
      },
      "source": [
        "def my_function(country = \"Norway\"):\n",
        "  print(\"I am from \" + country)\n",
        "\n",
        "my_function(\"Sweden\")\n",
        "my_function(\"India\")\n",
        "my_function()\n",
        "my_function(\"Brazil\")"
      ],
      "execution_count": null,
      "outputs": []
    },
    {
      "cell_type": "code",
      "metadata": {
        "id": "drCA51VCMIBd"
      },
      "source": [
        "# return value\n",
        "def my_function(x):\n",
        "  return 5 * x\n",
        "\n",
        "print(my_function(3))\n",
        "print(my_function(5))\n",
        "print(my_function(9))"
      ],
      "execution_count": null,
      "outputs": []
    },
    {
      "cell_type": "markdown",
      "metadata": {
        "id": "aTntXMgiMMAp"
      },
      "source": [
        "## 7. How to make a QR code with Python"
      ]
    },
    {
      "cell_type": "code",
      "metadata": {
        "id": "Kqu4gzGbCGJa"
      },
      "source": [
        "import qrcode\n",
        "img = qrcode.make('Some data here')"
      ],
      "execution_count": null,
      "outputs": []
    },
    {
      "cell_type": "code",
      "metadata": {
        "id": "6LGWGiHfCRHW"
      },
      "source": [
        "img.get_image()"
      ],
      "execution_count": null,
      "outputs": []
    },
    {
      "cell_type": "code",
      "metadata": {
        "id": "PY19HCwXCZRm"
      },
      "source": [
        ""
      ],
      "execution_count": null,
      "outputs": []
    }
  ]
}