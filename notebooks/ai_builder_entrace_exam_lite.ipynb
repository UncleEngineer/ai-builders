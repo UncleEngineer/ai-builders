{
 "cells": [
  {
   "cell_type": "markdown",
   "metadata": {},
   "source": [
    "# Entrace Example for AI Builders"
   ]
  },
  {
   "cell_type": "markdown",
   "metadata": {},
   "source": [
    "จุดมุ่งหมายคือการทดสอบความรู้ปรับพื้นฐานสำหรับ AI Builders ทุกคำตอบสามารถหาได้จาก notebook ปรับพื้นฐาน `ai_builder_intro_python.ipynb`, `ai_builder_numpy.ipynb` และ `ai_builder_pandas.ipynb` \n",
    "\n",
    "เราหวังให้คุณพยามสุดความสามารถที่จะตอบ แต่ไม่จำเป็นต้องตอบได้ครบทุกข้อเพื่อที่จะได้รับการคัดเลือกเข้าโครงการ"
   ]
  },
  {
   "cell_type": "markdown",
   "metadata": {},
   "source": [
    "## Python"
   ]
  },
  {
   "cell_type": "markdown",
   "metadata": {},
   "source": [
    "1. หาก `a=1` และ `b=2.5` แล้ว, `c` = $0.5(a+2b^5)$, `c` มีค่าเท่าไหร่? $b^x$ เขียนใน Python ได้แบบนี้ `b**x`"
   ]
  },
  {
   "cell_type": "code",
   "execution_count": 4,
   "metadata": {},
   "outputs": [],
   "source": [
    "a=1\n",
    "b=2.5\n",
    "c = #ใส่คำตอบตรงนี้\n",
    "c"
   ]
  },
  {
   "cell_type": "markdown",
   "metadata": {},
   "source": [
    "2. `a`, `b`, และ `c` เป็นตัวแปรชนิดอะไรบ้าง? (ลองใช้ `type(a)`)"
   ]
  },
  {
   "cell_type": "code",
   "execution_count": null,
   "metadata": {},
   "outputs": [],
   "source": []
  },
  {
   "cell_type": "markdown",
   "metadata": {},
   "source": [
    "3. จากตัวแปร `s = 'AI Builders - A Program For Kids Who Wants to AI Good Good'`, เราจะดึงคำว่า `AI Good` ออกมาได้อย่างไร?"
   ]
  },
  {
   "cell_type": "code",
   "execution_count": 15,
   "metadata": {},
   "outputs": [
    {
     "data": {
      "text/plain": [
       "'AI Good'"
      ]
     },
     "execution_count": 15,
     "metadata": {},
     "output_type": "execute_result"
    }
   ],
   "source": [
    "s = 'AI Builders - A Program For Kids Who Wants to AI Good Good'\n",
    "\n",
    "#ใส่คำตอบตรงนี้\n"
   ]
  },
  {
   "cell_type": "markdown",
   "metadata": {},
   "source": [
    "4. ใช้ loop `print` ทุก element ใน `l` ยกเว้น element ที่เขียนว่า `AI`\n",
    "\n",
    "`l = ['AI','Builders','-','A','Program','For','Kids','Who','Wants','to','AI','Good','Good']`\n",
    "\n",
    "ลองใช้ `for` และ `if` เพื่อกรอง element ที่มีค่าเป็น `AI` ออก"
   ]
  },
  {
   "cell_type": "code",
   "execution_count": 17,
   "metadata": {},
   "outputs": [
    {
     "name": "stdout",
     "output_type": "stream",
     "text": [
      "Builders\n",
      "-\n",
      "A\n",
      "Program\n",
      "For\n",
      "Kids\n",
      "Who\n",
      "Wants\n",
      "to\n",
      "Good\n",
      "Good\n"
     ]
    }
   ],
   "source": [
    "l = ['AI','Builders','-','A','Program','For','Kids','Who','Wants','to','AI','Good','Good']\n",
    "\n",
    "#เขียน loop ตรงนี้\n"
   ]
  },
  {
   "cell_type": "markdown",
   "metadata": {},
   "source": [
    "5. เขียนฟังชั่น `midpoint` ที่หาจุดกึ่งกลางระหว่างตัวเลข `a` และ `b` "
   ]
  },
  {
   "cell_type": "code",
   "execution_count": 18,
   "metadata": {},
   "outputs": [
    {
     "name": "stdout",
     "output_type": "stream",
     "text": [
      "2.5\n",
      "3.0\n",
      "0.0\n"
     ]
    }
   ],
   "source": [
    "def midpoint(a, b):\n",
    "    \"\"\"\n",
    "    Computes a midpoint between a and b.\n",
    "    Hint: midpoint of a and b is (a+b)/2\n",
    "    \"\"\"\n",
    "    ... #ใส่คำตอบตรงนี้\n",
    "\n",
    "print(midpoint(1, 4))  # expected 2.5\n",
    "print(midpoint(3, 3))  # expected 3\n",
    "print(midpoint(-2, 2))  # expected 0"
   ]
  },
  {
   "cell_type": "markdown",
   "metadata": {},
   "source": [
    "6. เขียนฟังชั่น `fizzbuzz` ที่รับตัวเลข `x`\n",
    "\n",
    "\n",
    "- ถ้า `x` หารด้วย 2 ลงให้คืน string ว่า `fizz`\n",
    "- ถ้า `x` หารด้วย 3 ลงให้คืน string ว่า `buzz`\n",
    "- ถ้า `x` หารด้วยทั้ง 2 และ 3 ลงให้คืน string ว่า `fizzbuzz`\n",
    "- นอกนั้นให้คืน `None`\n",
    "\n",
    "ลองใช้ `if`, `elif` และ `else` ในฟังชั่น `fizzbuzz`"
   ]
  },
  {
   "cell_type": "code",
   "execution_count": 19,
   "metadata": {},
   "outputs": [
    {
     "name": "stdout",
     "output_type": "stream",
     "text": [
      "0 fizzbuzz\n",
      "1 None\n",
      "2 fizz\n",
      "3 buzz\n",
      "4 fizz\n",
      "5 None\n",
      "6 fizzbuzz\n",
      "7 None\n",
      "8 fizz\n",
      "9 buzz\n",
      "10 fizz\n",
      "11 None\n",
      "12 fizzbuzz\n",
      "13 None\n",
      "14 fizz\n",
      "15 buzz\n",
      "16 fizz\n",
      "17 None\n",
      "18 fizzbuzz\n",
      "19 None\n"
     ]
    }
   ],
   "source": [
    "def fizzbuzz(x):\n",
    "    ... #ใส่คำตอบตรงนี้\n",
    "\n",
    "for i in range(20):\n",
    "    print(i,fizzbuzz(i))"
   ]
  },
  {
   "cell_type": "markdown",
   "metadata": {},
   "source": [
    "## Numpy and Linear Algebra"
   ]
  },
  {
   "cell_type": "code",
   "execution_count": 20,
   "metadata": {},
   "outputs": [],
   "source": [
    "import numpy as np"
   ]
  },
  {
   "cell_type": "markdown",
   "metadata": {},
   "source": [
    "1. สร้าง numpy array `a` ที่มีมิติ `3*3` โดยมีค่าเป็นตัวเลขจาก 1 ถึง 9 (ลองใช้ `np.arange` และ `np.reshape`)"
   ]
  },
  {
   "cell_type": "code",
   "execution_count": 21,
   "metadata": {},
   "outputs": [
    {
     "data": {
      "text/plain": [
       "array([[1, 2, 3],\n",
       "       [4, 5, 6],\n",
       "       [7, 8, 9]])"
      ]
     },
     "execution_count": 21,
     "metadata": {},
     "output_type": "execute_result"
    }
   ],
   "source": [
    "a = #ใส่คำตอบตรงนี้\n",
    "a"
   ]
  },
  {
   "cell_type": "markdown",
   "metadata": {},
   "source": [
    "2. สร้าง numpy array `b` ที่มีมิติ `4*3` โดยมีค่าเป็นตัวเลขจาก 1 ถึง 12 (ลองใช้ `np.arange` และ `np.reshape`)"
   ]
  },
  {
   "cell_type": "code",
   "execution_count": 22,
   "metadata": {},
   "outputs": [
    {
     "data": {
      "text/plain": [
       "array([[ 1,  2,  3],\n",
       "       [ 4,  5,  6],\n",
       "       [ 7,  8,  9],\n",
       "       [10, 11, 12]])"
      ]
     },
     "execution_count": 22,
     "metadata": {},
     "output_type": "execute_result"
    }
   ],
   "source": [
    "b = #ใส่คำตอบตรงนี้\n",
    "b"
   ]
  },
  {
   "cell_type": "markdown",
   "metadata": {},
   "source": [
    "3. เราสามารถหาค่า `a` dot product `b` ได้หรือไม่-เพราะอะไร (ลองใช้ `a.dot(b)` หรือ `a@b`)"
   ]
  },
  {
   "cell_type": "code",
   "execution_count": 23,
   "metadata": {},
   "outputs": [
    {
     "ename": "ValueError",
     "evalue": "matmul: Input operand 1 has a mismatch in its core dimension 0, with gufunc signature (n?,k),(k,m?)->(n?,m?) (size 4 is different from 3)",
     "output_type": "error",
     "traceback": [
      "\u001b[0;31m---------------------------------------------------------------------------\u001b[0m",
      "\u001b[0;31mValueError\u001b[0m                                Traceback (most recent call last)",
      "\u001b[0;32m<ipython-input-23-a832bb91e25d>\u001b[0m in \u001b[0;36m<module>\u001b[0;34m\u001b[0m\n\u001b[0;32m----> 1\u001b[0;31m \u001b[0ma\u001b[0m\u001b[0;34m@\u001b[0m\u001b[0mb\u001b[0m\u001b[0;34m\u001b[0m\u001b[0;34m\u001b[0m\u001b[0m\n\u001b[0m",
      "\u001b[0;31mValueError\u001b[0m: matmul: Input operand 1 has a mismatch in its core dimension 0, with gufunc signature (n?,k),(k,m?)->(n?,m?) (size 4 is different from 3)"
     ]
    }
   ],
   "source": [
    "#ใส่คำตอบตรงนี้\n"
   ]
  },
  {
   "cell_type": "markdown",
   "metadata": {},
   "source": [
    "4. หาค่า `a` dot product (`b` transposed) (tranpose `b` ได้ด้วยคำสั่ง `b.T`)"
   ]
  },
  {
   "cell_type": "code",
   "execution_count": 24,
   "metadata": {},
   "outputs": [
    {
     "data": {
      "text/plain": [
       "array([[ 14,  32,  50,  68],\n",
       "       [ 32,  77, 122, 167],\n",
       "       [ 50, 122, 194, 266]])"
      ]
     },
     "execution_count": 24,
     "metadata": {},
     "output_type": "execute_result"
    }
   ],
   "source": [
    "#ใส่คำตอบตรงนี้\n"
   ]
  },
  {
   "cell_type": "markdown",
   "metadata": {},
   "source": [
    "5. มิติ (แถวและคอลัมน์) ของ `a` และ `b` คืออะไร (ลองใช้ `a.shape`)"
   ]
  },
  {
   "cell_type": "code",
   "execution_count": 110,
   "metadata": {},
   "outputs": [
    {
     "data": {
      "text/plain": [
       "((3, 3), (4, 3))"
      ]
     },
     "execution_count": 110,
     "metadata": {},
     "output_type": "execute_result"
    }
   ],
   "source": [
    "#ใส่คำตอบตรงนี้\n"
   ]
  },
  {
   "cell_type": "markdown",
   "metadata": {},
   "source": [
    "6. คูณทุก element ของ `a` ด้วย -1"
   ]
  },
  {
   "cell_type": "code",
   "execution_count": 111,
   "metadata": {},
   "outputs": [
    {
     "data": {
      "text/plain": [
       "array([[-1, -2, -3],\n",
       "       [-4, -5, -6],\n",
       "       [-7, -8, -9]])"
      ]
     },
     "execution_count": 111,
     "metadata": {},
     "output_type": "execute_result"
    }
   ],
   "source": [
    "#ใส่คำตอบตรงนี้\n"
   ]
  },
  {
   "cell_type": "markdown",
   "metadata": {},
   "source": [
    "7. เปลี่ยนมิติของ `b` ให้เป็น `2*2*3` (ลองใช้ `np.reshape`)"
   ]
  },
  {
   "cell_type": "code",
   "execution_count": 113,
   "metadata": {},
   "outputs": [
    {
     "data": {
      "text/plain": [
       "array([[[ 1,  2,  3],\n",
       "        [ 4,  5,  6]],\n",
       "\n",
       "       [[ 7,  8,  9],\n",
       "        [10, 11, 12]]])"
      ]
     },
     "execution_count": 113,
     "metadata": {},
     "output_type": "execute_result"
    }
   ],
   "source": [
    "#ใส่คำตอบตรงนี้\n"
   ]
  },
  {
   "cell_type": "markdown",
   "metadata": {},
   "source": [
    "8. ค่าเฉลี่ยของแต่ละแถวของ `a` (`3*3`) คืออะไร (ลองใช้ `np.mean` สังเกตว่าควรใช้ `axis=1` หรือ `axis=0`)"
   ]
  },
  {
   "cell_type": "code",
   "execution_count": 115,
   "metadata": {},
   "outputs": [
    {
     "data": {
      "text/plain": [
       "array([2., 5., 8.])"
      ]
     },
     "execution_count": 115,
     "metadata": {},
     "output_type": "execute_result"
    }
   ],
   "source": [
    "#ใส่คำตอบตรงนี้\n"
   ]
  },
  {
   "cell_type": "markdown",
   "metadata": {},
   "source": [
    "9. ค่าเฉลี่ยของแต่ละคอลัมน์ของ `a` (`3*3`) คืออะไร (ลองใช้ `np.mean` สังเกตว่าควรใช้ `axis=1` หรือ `axis=0`)"
   ]
  },
  {
   "cell_type": "code",
   "execution_count": 116,
   "metadata": {},
   "outputs": [
    {
     "data": {
      "text/plain": [
       "array([4., 5., 6.])"
      ]
     },
     "execution_count": 116,
     "metadata": {},
     "output_type": "execute_result"
    }
   ],
   "source": [
    "#ใส่คำตอบตรงนี้\n"
   ]
  },
  {
   "cell_type": "markdown",
   "metadata": {},
   "source": [
    "10. ถ้าเราต้องการหา `[[1,2],[4,5]]` จาก `a` เราต้องเลือกอย่างไร"
   ]
  },
  {
   "cell_type": "code",
   "execution_count": 26,
   "metadata": {},
   "outputs": [
    {
     "data": {
      "text/plain": [
       "array([[5, 6],\n",
       "       [8, 9]])"
      ]
     },
     "execution_count": 26,
     "metadata": {},
     "output_type": "execute_result"
    }
   ],
   "source": [
    "#เราสามารถ slice แต่ละส่วนของ `np.array` ได้เหมือนกับ list เช่น \n",
    "a[1:,1:]"
   ]
  },
  {
   "cell_type": "code",
   "execution_count": 117,
   "metadata": {},
   "outputs": [
    {
     "data": {
      "text/plain": [
       "array([[1, 2],\n",
       "       [4, 5]])"
      ]
     },
     "execution_count": 117,
     "metadata": {},
     "output_type": "execute_result"
    }
   ],
   "source": [
    "#ใส่คำตอบตรงนี้\n"
   ]
  },
  {
   "cell_type": "markdown",
   "metadata": {},
   "source": [
    "## Pandas and Data Exploration"
   ]
  },
  {
   "cell_type": "markdown",
   "metadata": {},
   "source": [
    "ดาวน์โหลดชุดข้อมูล [อุบัติเหตุบนโครงข่ายถนนของกระทรวงคมนาคม 2562](https://data.go.th/dataset/roadaccident) (ไฟล์ชื่อ `ubatiehtuthaangthnn.xlsx`) จาก [data.go.th](https://data.go.th/). ตอบคำถามต่อไปนี้"
   ]
  },
  {
   "cell_type": "code",
   "execution_count": 28,
   "metadata": {},
   "outputs": [],
   "source": [
    "import pandas as pd"
   ]
  },
  {
   "cell_type": "markdown",
   "metadata": {},
   "source": [
    "1. อ่านไฟล์ `ubatiehtuthaangthnn.xlsx` เข้ามาเป็น `pandas.DataFrame`; `df` มีกี่แถว-คอลัมน์? (ลองใช้ `df.shape`)"
   ]
  },
  {
   "cell_type": "code",
   "execution_count": 29,
   "metadata": {},
   "outputs": [
    {
     "data": {
      "text/plain": [
       "(19965, 20)"
      ]
     },
     "execution_count": 29,
     "metadata": {},
     "output_type": "execute_result"
    }
   ],
   "source": [
    "url = 'https://archive.org/download/ubatiehtuthaangthnn/ubatiehtuthaangthnn.xlsx'\n",
    "df = pd.read_excel(url)\n",
    "\n",
    "#ใส่คำตอบตรงนี้\n"
   ]
  },
  {
   "cell_type": "markdown",
   "metadata": {},
   "source": [
    "2. เรียกดู 20 แถวแรกและ 20 แถวสุดท้ายของ `df` (ลองใช้ `df.head(20)` และ `df.tail(20)`)"
   ]
  },
  {
   "cell_type": "code",
   "execution_count": null,
   "metadata": {},
   "outputs": [],
   "source": [
    "#ใส่คำตอบตรงนี้\n"
   ]
  },
  {
   "cell_type": "markdown",
   "metadata": {},
   "source": [
    "3. จังหวัดใดมีอุบัติเหตุเยอะที่สุดถ้าอ้างอิงจาก `df`? (ลองใช้ `df['จังหวัด'].value_counts()`)"
   ]
  },
  {
   "cell_type": "code",
   "execution_count": 32,
   "metadata": {},
   "outputs": [
    {
     "data": {
      "text/plain": [
       "กรุงเทพมหานคร    1844\n",
       "ชลบุรี            938\n",
       "นครราชสีมา        877\n",
       "สุพรรณบุรี        727\n",
       "สมุทรปราการ       649\n",
       "                 ... \n",
       "พังงา              72\n",
       "ยะลา               72\n",
       "ชัยภูมิ            70\n",
       "อำนาจเจริญ         51\n",
       "ระนอง              35\n",
       "Name: จังหวัด, Length: 77, dtype: int64"
      ]
     },
     "execution_count": 32,
     "metadata": {},
     "output_type": "execute_result"
    }
   ],
   "source": [
    "#ใส่คำตอบตรงนี้\n"
   ]
  },
  {
   "cell_type": "markdown",
   "metadata": {},
   "source": [
    "4. เลือกเฉพาะแถวที่เป็นอุบัติเหตุที่มีผู้เสียชีวิต 0 ราย / มีอุบัติเหตุที่ไม่มีผู้เสียชีวิตกี่ครั้ง? (เราสามารถกรอง dataframe ได้ด้วยคำสั่ง `df[df['จำนวนผู้เสียชีวิต']==0]`)"
   ]
  },
  {
   "cell_type": "code",
   "execution_count": 33,
   "metadata": {},
   "outputs": [
    {
     "data": {
      "text/html": [
       "<div>\n",
       "<style scoped>\n",
       "    .dataframe tbody tr th:only-of-type {\n",
       "        vertical-align: middle;\n",
       "    }\n",
       "\n",
       "    .dataframe tbody tr th {\n",
       "        vertical-align: top;\n",
       "    }\n",
       "\n",
       "    .dataframe thead th {\n",
       "        text-align: right;\n",
       "    }\n",
       "</style>\n",
       "<table border=\"1\" class=\"dataframe\">\n",
       "  <thead>\n",
       "    <tr style=\"text-align: right;\">\n",
       "      <th></th>\n",
       "      <th>ปีที่เกิดเหตุ</th>\n",
       "      <th>วันที่เกิดเหตุ</th>\n",
       "      <th>เวลา</th>\n",
       "      <th>วันที่รายงาน</th>\n",
       "      <th>เวลาที่รายงาน</th>\n",
       "      <th>ACC_CODE</th>\n",
       "      <th>หน่วยงาน</th>\n",
       "      <th>สายทาง</th>\n",
       "      <th>ก.ม.</th>\n",
       "      <th>จังหวัด</th>\n",
       "      <th>รถคันที่ 1</th>\n",
       "      <th>บริเวณที่เกิดเหตุ/ลักษณะทาง</th>\n",
       "      <th>มูลเหตุสันนิษฐาน</th>\n",
       "      <th>ลักษณะการเกิดอุบัติเหตุ</th>\n",
       "      <th>จำนวนรถที่เกิดเหตุ\\n(รวมคันที่ 1)</th>\n",
       "      <th>จำนวนผู้เสียชวิต</th>\n",
       "      <th>รวมจำนวนผู้บาดเจ็บ</th>\n",
       "      <th>สภาพอากาศ</th>\n",
       "      <th>LATITUDE</th>\n",
       "      <th>LONGITUDE</th>\n",
       "    </tr>\n",
       "  </thead>\n",
       "  <tbody>\n",
       "    <tr>\n",
       "      <th>0</th>\n",
       "      <td>2019</td>\n",
       "      <td>01/01/2019</td>\n",
       "      <td>00:00</td>\n",
       "      <td>02/01/2019</td>\n",
       "      <td>06:11</td>\n",
       "      <td>201901023254</td>\n",
       "      <td>กรมทางหลวงชนบท</td>\n",
       "      <td>ทางหลวงชนบท ลบ.2029</td>\n",
       "      <td>4.000</td>\n",
       "      <td>ลพบุรี</td>\n",
       "      <td>รถจักรยานยนต์</td>\n",
       "      <td>ทางตรง+ไม่มีความลาดชัน/ที่ราบ</td>\n",
       "      <td>เมาสุรา</td>\n",
       "      <td>อื่น ๆ</td>\n",
       "      <td>1</td>\n",
       "      <td>0</td>\n",
       "      <td>2</td>\n",
       "      <td>แจ่มใส</td>\n",
       "      <td>14.959105</td>\n",
       "      <td>100.873463</td>\n",
       "    </tr>\n",
       "    <tr>\n",
       "      <th>1</th>\n",
       "      <td>2019</td>\n",
       "      <td>01/01/2019</td>\n",
       "      <td>00:03</td>\n",
       "      <td>13/02/2019</td>\n",
       "      <td>12:06</td>\n",
       "      <td>201902135341</td>\n",
       "      <td>กรมทางหลวง</td>\n",
       "      <td>ทางหลวงแผ่นดินหมายเลข 24 ตอนควบคุม 0702</td>\n",
       "      <td>419.770</td>\n",
       "      <td>อุบลราชธานี</td>\n",
       "      <td>รถยนต์นั่งส่วนบุคคล/รถยนต์นั่งสาธารณะ</td>\n",
       "      <td>ทางตรง</td>\n",
       "      <td>ขับรถเร็วเกินกำหนด</td>\n",
       "      <td>ชนอุปกรณ์งานทาง</td>\n",
       "      <td>1</td>\n",
       "      <td>0</td>\n",
       "      <td>2</td>\n",
       "      <td>แจ่มใส</td>\n",
       "      <td>15.210738</td>\n",
       "      <td>104.862689</td>\n",
       "    </tr>\n",
       "    <tr>\n",
       "      <th>3</th>\n",
       "      <td>2019</td>\n",
       "      <td>01/01/2019</td>\n",
       "      <td>00:20</td>\n",
       "      <td>02/01/2019</td>\n",
       "      <td>05:12</td>\n",
       "      <td>201901023234</td>\n",
       "      <td>กรมทางหลวงชนบท</td>\n",
       "      <td>ทางหลวงชนบท ชม.4016</td>\n",
       "      <td>1.880</td>\n",
       "      <td>เชียงใหม่</td>\n",
       "      <td>รถจักรยานยนต์</td>\n",
       "      <td>ทางตรง+ไม่มีความลาดชัน/ที่ราบ</td>\n",
       "      <td>เมาสุรา</td>\n",
       "      <td>รถยนต์ชนรถไฟ</td>\n",
       "      <td>1</td>\n",
       "      <td>0</td>\n",
       "      <td>1</td>\n",
       "      <td>แจ่มใส</td>\n",
       "      <td>18.601721</td>\n",
       "      <td>98.804204</td>\n",
       "    </tr>\n",
       "    <tr>\n",
       "      <th>4</th>\n",
       "      <td>2019</td>\n",
       "      <td>01/01/2019</td>\n",
       "      <td>00:25</td>\n",
       "      <td>01/01/2019</td>\n",
       "      <td>09:54</td>\n",
       "      <td>201901012972</td>\n",
       "      <td>กรมทางหลวง</td>\n",
       "      <td>ทางหลวงแผ่นดินหมายเลข 225 ตอนควบคุม 0202</td>\n",
       "      <td>68.800</td>\n",
       "      <td>นครสวรรค์</td>\n",
       "      <td>รถยนต์นั่งส่วนบุคคล/รถยนต์นั่งสาธารณะ</td>\n",
       "      <td>ทางตรง</td>\n",
       "      <td>คนหรือรถตัดหน้ากระชั้นชิด</td>\n",
       "      <td>พลิกคว่ำตกถนน</td>\n",
       "      <td>1</td>\n",
       "      <td>0</td>\n",
       "      <td>0</td>\n",
       "      <td>แจ่มใส</td>\n",
       "      <td>15.866389</td>\n",
       "      <td>100.590010</td>\n",
       "    </tr>\n",
       "    <tr>\n",
       "      <th>5</th>\n",
       "      <td>2019</td>\n",
       "      <td>01/01/2019</td>\n",
       "      <td>00:30</td>\n",
       "      <td>01/01/2019</td>\n",
       "      <td>11:22</td>\n",
       "      <td>201901013012</td>\n",
       "      <td>กรมทางหลวง</td>\n",
       "      <td>ทางหลวงแผ่นดินหมายเลข 41 ตอนควบคุม 0103</td>\n",
       "      <td>65.850</td>\n",
       "      <td>ชุมพร</td>\n",
       "      <td>รถปิคอัพบรรทุก 4 ล้อ</td>\n",
       "      <td>ทางแยกรูปตัว +</td>\n",
       "      <td>ไม่ให้สิทธิรถที่มาก่อนผ่านทาง เช่น ทางแยก</td>\n",
       "      <td>ชนกัน/ชนยานพาหนะอื่นๆ</td>\n",
       "      <td>2</td>\n",
       "      <td>0</td>\n",
       "      <td>2</td>\n",
       "      <td>แจ่มใส</td>\n",
       "      <td>9.949354</td>\n",
       "      <td>99.063479</td>\n",
       "    </tr>\n",
       "    <tr>\n",
       "      <th>...</th>\n",
       "      <td>...</td>\n",
       "      <td>...</td>\n",
       "      <td>...</td>\n",
       "      <td>...</td>\n",
       "      <td>...</td>\n",
       "      <td>...</td>\n",
       "      <td>...</td>\n",
       "      <td>...</td>\n",
       "      <td>...</td>\n",
       "      <td>...</td>\n",
       "      <td>...</td>\n",
       "      <td>...</td>\n",
       "      <td>...</td>\n",
       "      <td>...</td>\n",
       "      <td>...</td>\n",
       "      <td>...</td>\n",
       "      <td>...</td>\n",
       "      <td>...</td>\n",
       "      <td>...</td>\n",
       "      <td>...</td>\n",
       "    </tr>\n",
       "    <tr>\n",
       "      <th>19955</th>\n",
       "      <td>2019</td>\n",
       "      <td>31/12/2019</td>\n",
       "      <td>23:00</td>\n",
       "      <td>31/12/2019</td>\n",
       "      <td>23:37</td>\n",
       "      <td>201912313628</td>\n",
       "      <td>กรมทางหลวง</td>\n",
       "      <td>ทางหลวงแผ่นดินหมายเลข 4 ตอนควบคุม 0501</td>\n",
       "      <td>145.400</td>\n",
       "      <td>เพชรบุรี</td>\n",
       "      <td>รถยนต์นั่งส่วนบุคคล/รถยนต์นั่งสาธารณะ</td>\n",
       "      <td>ทางตรง</td>\n",
       "      <td>ขับรถเร็วเกินกำหนด</td>\n",
       "      <td>พลิกคว่ำตกถนน</td>\n",
       "      <td>1</td>\n",
       "      <td>0</td>\n",
       "      <td>2</td>\n",
       "      <td>แจ่มใส</td>\n",
       "      <td>13.165411</td>\n",
       "      <td>99.842039</td>\n",
       "    </tr>\n",
       "    <tr>\n",
       "      <th>19956</th>\n",
       "      <td>2019</td>\n",
       "      <td>31/12/2019</td>\n",
       "      <td>23:10</td>\n",
       "      <td>01/01/2020</td>\n",
       "      <td>00:14</td>\n",
       "      <td>202001013638</td>\n",
       "      <td>กรมทางหลวง</td>\n",
       "      <td>ทางหลวงแผ่นดินหมายเลข 44 ตอนควบคุม 0200</td>\n",
       "      <td>78.300</td>\n",
       "      <td>สุราษฎร์ธานี</td>\n",
       "      <td>รถปิคอัพบรรทุก 4 ล้อ</td>\n",
       "      <td>ทางตรง</td>\n",
       "      <td>ขับรถเร็วเกินกำหนด</td>\n",
       "      <td>พลิกคว่ำตกถนน</td>\n",
       "      <td>1</td>\n",
       "      <td>0</td>\n",
       "      <td>2</td>\n",
       "      <td>แจ่มใส</td>\n",
       "      <td>8.812859</td>\n",
       "      <td>99.166543</td>\n",
       "    </tr>\n",
       "    <tr>\n",
       "      <th>19957</th>\n",
       "      <td>2019</td>\n",
       "      <td>31/12/2019</td>\n",
       "      <td>23:20</td>\n",
       "      <td>31/12/2019</td>\n",
       "      <td>23:53</td>\n",
       "      <td>202001013632</td>\n",
       "      <td>กรมทางหลวง</td>\n",
       "      <td>ทางหลวงแผ่นดินหมายเลข 7 ตอนควบคุม 0109</td>\n",
       "      <td>5.900</td>\n",
       "      <td>ชลบุรี</td>\n",
       "      <td>รถยนต์นั่งส่วนบุคคล/รถยนต์นั่งสาธารณะ</td>\n",
       "      <td>ทางตรง</td>\n",
       "      <td>ขับรถเร็วเกินกำหนด</td>\n",
       "      <td>ชนท้าย</td>\n",
       "      <td>2</td>\n",
       "      <td>0</td>\n",
       "      <td>0</td>\n",
       "      <td>แจ่มใส</td>\n",
       "      <td>12.951183</td>\n",
       "      <td>100.958457</td>\n",
       "    </tr>\n",
       "    <tr>\n",
       "      <th>19958</th>\n",
       "      <td>2019</td>\n",
       "      <td>31/12/2019</td>\n",
       "      <td>23:20</td>\n",
       "      <td>01/01/2020</td>\n",
       "      <td>00:38</td>\n",
       "      <td>202001013646</td>\n",
       "      <td>กรมทางหลวง</td>\n",
       "      <td>ทางหลวงแผ่นดินหมายเลข 1147 ตอนควบคุม 0100</td>\n",
       "      <td>0.005</td>\n",
       "      <td>ลำพูน</td>\n",
       "      <td>รถจักรยานยนต์</td>\n",
       "      <td>ทางโค้งปกติ</td>\n",
       "      <td>ขับรถเร็วเกินกำหนด</td>\n",
       "      <td>พลิกคว่ำตกถนน</td>\n",
       "      <td>1</td>\n",
       "      <td>0</td>\n",
       "      <td>1</td>\n",
       "      <td>แจ่มใส</td>\n",
       "      <td>18.589153</td>\n",
       "      <td>99.042735</td>\n",
       "    </tr>\n",
       "    <tr>\n",
       "      <th>19961</th>\n",
       "      <td>2019</td>\n",
       "      <td>31/12/2019</td>\n",
       "      <td>23:35</td>\n",
       "      <td>01/01/2020</td>\n",
       "      <td>00:14</td>\n",
       "      <td>202001013642</td>\n",
       "      <td>กรมทางหลวง</td>\n",
       "      <td>ทางหลวงแผ่นดินหมายเลข 4034 ตอนควบคุม 0100</td>\n",
       "      <td>14.660</td>\n",
       "      <td>กระบี่</td>\n",
       "      <td>รถจักรยานยนต์</td>\n",
       "      <td>ทางแยกรูปตัว T</td>\n",
       "      <td>ไม่ให้สิทธิรถที่มาก่อนผ่านทาง เช่น ทางแยก</td>\n",
       "      <td>ชนกัน/ชนยานพาหนะอื่นๆ</td>\n",
       "      <td>2</td>\n",
       "      <td>0</td>\n",
       "      <td>2</td>\n",
       "      <td>แจ่มใส</td>\n",
       "      <td>8.092608</td>\n",
       "      <td>98.811692</td>\n",
       "    </tr>\n",
       "  </tbody>\n",
       "</table>\n",
       "<p>17296 rows × 20 columns</p>\n",
       "</div>"
      ],
      "text/plain": [
       "       ปีที่เกิดเหตุ วันที่เกิดเหตุ   เวลา วันที่รายงาน เวลาที่รายงาน  \\\n",
       "0               2019     01/01/2019  00:00   02/01/2019         06:11   \n",
       "1               2019     01/01/2019  00:03   13/02/2019         12:06   \n",
       "3               2019     01/01/2019  00:20   02/01/2019         05:12   \n",
       "4               2019     01/01/2019  00:25   01/01/2019         09:54   \n",
       "5               2019     01/01/2019  00:30   01/01/2019         11:22   \n",
       "...              ...            ...    ...          ...           ...   \n",
       "19955           2019     31/12/2019  23:00   31/12/2019         23:37   \n",
       "19956           2019     31/12/2019  23:10   01/01/2020         00:14   \n",
       "19957           2019     31/12/2019  23:20   31/12/2019         23:53   \n",
       "19958           2019     31/12/2019  23:20   01/01/2020         00:38   \n",
       "19961           2019     31/12/2019  23:35   01/01/2020         00:14   \n",
       "\n",
       "           ACC_CODE        หน่วยงาน  \\\n",
       "0      201901023254  กรมทางหลวงชนบท   \n",
       "1      201902135341      กรมทางหลวง   \n",
       "3      201901023234  กรมทางหลวงชนบท   \n",
       "4      201901012972      กรมทางหลวง   \n",
       "5      201901013012      กรมทางหลวง   \n",
       "...             ...             ...   \n",
       "19955  201912313628      กรมทางหลวง   \n",
       "19956  202001013638      กรมทางหลวง   \n",
       "19957  202001013632      กรมทางหลวง   \n",
       "19958  202001013646      กรมทางหลวง   \n",
       "19961  202001013642      กรมทางหลวง   \n",
       "\n",
       "                                          สายทาง     ก.ม.       จังหวัด  \\\n",
       "0                            ทางหลวงชนบท ลบ.2029    4.000        ลพบุรี   \n",
       "1        ทางหลวงแผ่นดินหมายเลข 24 ตอนควบคุม 0702  419.770   อุบลราชธานี   \n",
       "3                            ทางหลวงชนบท ชม.4016    1.880     เชียงใหม่   \n",
       "4       ทางหลวงแผ่นดินหมายเลข 225 ตอนควบคุม 0202   68.800     นครสวรรค์   \n",
       "5        ทางหลวงแผ่นดินหมายเลข 41 ตอนควบคุม 0103   65.850         ชุมพร   \n",
       "...                                          ...      ...           ...   \n",
       "19955     ทางหลวงแผ่นดินหมายเลข 4 ตอนควบคุม 0501  145.400      เพชรบุรี   \n",
       "19956    ทางหลวงแผ่นดินหมายเลข 44 ตอนควบคุม 0200   78.300  สุราษฎร์ธานี   \n",
       "19957     ทางหลวงแผ่นดินหมายเลข 7 ตอนควบคุม 0109    5.900        ชลบุรี   \n",
       "19958  ทางหลวงแผ่นดินหมายเลข 1147 ตอนควบคุม 0100    0.005         ลำพูน   \n",
       "19961  ทางหลวงแผ่นดินหมายเลข 4034 ตอนควบคุม 0100   14.660        กระบี่   \n",
       "\n",
       "                                  รถคันที่ 1    บริเวณที่เกิดเหตุ/ลักษณะทาง  \\\n",
       "0                              รถจักรยานยนต์  ทางตรง+ไม่มีความลาดชัน/ที่ราบ   \n",
       "1      รถยนต์นั่งส่วนบุคคล/รถยนต์นั่งสาธารณะ                         ทางตรง   \n",
       "3                              รถจักรยานยนต์  ทางตรง+ไม่มีความลาดชัน/ที่ราบ   \n",
       "4      รถยนต์นั่งส่วนบุคคล/รถยนต์นั่งสาธารณะ                         ทางตรง   \n",
       "5                       รถปิคอัพบรรทุก 4 ล้อ                 ทางแยกรูปตัว +   \n",
       "...                                      ...                            ...   \n",
       "19955  รถยนต์นั่งส่วนบุคคล/รถยนต์นั่งสาธารณะ                         ทางตรง   \n",
       "19956                   รถปิคอัพบรรทุก 4 ล้อ                         ทางตรง   \n",
       "19957  รถยนต์นั่งส่วนบุคคล/รถยนต์นั่งสาธารณะ                         ทางตรง   \n",
       "19958                          รถจักรยานยนต์                    ทางโค้งปกติ   \n",
       "19961                          รถจักรยานยนต์                 ทางแยกรูปตัว T   \n",
       "\n",
       "                                มูลเหตุสันนิษฐาน ลักษณะการเกิดอุบัติเหตุ   \\\n",
       "0                                        เมาสุรา                   อื่น ๆ   \n",
       "1                             ขับรถเร็วเกินกำหนด          ชนอุปกรณ์งานทาง   \n",
       "3                                        เมาสุรา             รถยนต์ชนรถไฟ   \n",
       "4                      คนหรือรถตัดหน้ากระชั้นชิด            พลิกคว่ำตกถนน   \n",
       "5      ไม่ให้สิทธิรถที่มาก่อนผ่านทาง เช่น ทางแยก    ชนกัน/ชนยานพาหนะอื่นๆ   \n",
       "...                                          ...                      ...   \n",
       "19955                         ขับรถเร็วเกินกำหนด            พลิกคว่ำตกถนน   \n",
       "19956                         ขับรถเร็วเกินกำหนด            พลิกคว่ำตกถนน   \n",
       "19957                         ขับรถเร็วเกินกำหนด                   ชนท้าย   \n",
       "19958                         ขับรถเร็วเกินกำหนด            พลิกคว่ำตกถนน   \n",
       "19961  ไม่ให้สิทธิรถที่มาก่อนผ่านทาง เช่น ทางแยก    ชนกัน/ชนยานพาหนะอื่นๆ   \n",
       "\n",
       "       จำนวนรถที่เกิดเหตุ\\n(รวมคันที่ 1)  จำนวนผู้เสียชวิต  \\\n",
       "0                                      1                 0   \n",
       "1                                      1                 0   \n",
       "3                                      1                 0   \n",
       "4                                      1                 0   \n",
       "5                                      2                 0   \n",
       "...                                  ...               ...   \n",
       "19955                                  1                 0   \n",
       "19956                                  1                 0   \n",
       "19957                                  2                 0   \n",
       "19958                                  1                 0   \n",
       "19961                                  2                 0   \n",
       "\n",
       "       รวมจำนวนผู้บาดเจ็บ สภาพอากาศ   LATITUDE   LONGITUDE  \n",
       "0                       2    แจ่มใส  14.959105  100.873463  \n",
       "1                       2    แจ่มใส  15.210738  104.862689  \n",
       "3                       1    แจ่มใส  18.601721   98.804204  \n",
       "4                       0    แจ่มใส  15.866389  100.590010  \n",
       "5                       2    แจ่มใส   9.949354   99.063479  \n",
       "...                   ...       ...        ...         ...  \n",
       "19955                   2    แจ่มใส  13.165411   99.842039  \n",
       "19956                   2    แจ่มใส   8.812859   99.166543  \n",
       "19957                   0    แจ่มใส  12.951183  100.958457  \n",
       "19958                   1    แจ่มใส  18.589153   99.042735  \n",
       "19961                   2    แจ่มใส   8.092608   98.811692  \n",
       "\n",
       "[17296 rows x 20 columns]"
      ]
     },
     "execution_count": 33,
     "metadata": {},
     "output_type": "execute_result"
    }
   ],
   "source": [
    "#ใส่คำตอบตรงนี้\n"
   ]
  },
  {
   "cell_type": "markdown",
   "metadata": {},
   "source": [
    "5. ค่าเฉลี่ยของ latitude, logitude ของอุบัติเหตุที่เกิดขึ้นในจังหวัดเชียงใหม่อยู่ที่เท่าใด? (กรองให้เหลือแค่จังหวัดเชียงใหม่แล้วหาค่าเฉลี่ยด้วยคำสั่ง `df.LATITUDE.mean()` และ `df.LONGITUDE.mean()`)"
   ]
  },
  {
   "cell_type": "code",
   "execution_count": 34,
   "metadata": {},
   "outputs": [
    {
     "data": {
      "text/plain": [
       "(18.91090138416936, 98.91462670826341)"
      ]
     },
     "execution_count": 34,
     "metadata": {},
     "output_type": "execute_result"
    }
   ],
   "source": [
    "#ใส่คำตอบตรงนี้\n"
   ]
  },
  {
   "cell_type": "markdown",
   "metadata": {},
   "source": [
    "6. `ลักษณะการเกิดอุบัติเหตุ ` แบบใดมี `จำนวนผู้เสียชวิต` โดยเฉลี่ยสูงที่สุด?"
   ]
  },
  {
   "cell_type": "code",
   "execution_count": 35,
   "metadata": {},
   "outputs": [
    {
     "data": {
      "text/html": [
       "<div>\n",
       "<style scoped>\n",
       "    .dataframe tbody tr th:only-of-type {\n",
       "        vertical-align: middle;\n",
       "    }\n",
       "\n",
       "    .dataframe tbody tr th {\n",
       "        vertical-align: top;\n",
       "    }\n",
       "\n",
       "    .dataframe thead th {\n",
       "        text-align: right;\n",
       "    }\n",
       "</style>\n",
       "<table border=\"1\" class=\"dataframe\">\n",
       "  <thead>\n",
       "    <tr style=\"text-align: right;\">\n",
       "      <th></th>\n",
       "      <th>ลักษณะการเกิดอุบัติเหตุ</th>\n",
       "      <th>จำนวนผู้เสียชวิต</th>\n",
       "    </tr>\n",
       "  </thead>\n",
       "  <tbody>\n",
       "    <tr>\n",
       "      <th>8</th>\n",
       "      <td>ชนรถไฟ</td>\n",
       "      <td>6.000000</td>\n",
       "    </tr>\n",
       "    <tr>\n",
       "      <th>2</th>\n",
       "      <td>ชนขณะแซง</td>\n",
       "      <td>0.794118</td>\n",
       "    </tr>\n",
       "    <tr>\n",
       "      <th>25</th>\n",
       "      <td>รถยนต์พลิกคว่ำ ตกถนน</td>\n",
       "      <td>0.750000</td>\n",
       "    </tr>\n",
       "    <tr>\n",
       "      <th>18</th>\n",
       "      <td>รถจักรยานยนต์ชนรถจักรยานพลิกคว่ำ ตกถนน</td>\n",
       "      <td>0.750000</td>\n",
       "    </tr>\n",
       "    <tr>\n",
       "      <th>12</th>\n",
       "      <td>ชนในทิศทางตรงกันข้าม (ไม่ใช่การแซง)</td>\n",
       "      <td>0.615385</td>\n",
       "    </tr>\n",
       "    <tr>\n",
       "      <th>4</th>\n",
       "      <td>ชนคนเดินเท้า</td>\n",
       "      <td>0.610714</td>\n",
       "    </tr>\n",
       "    <tr>\n",
       "      <th>0</th>\n",
       "      <td>ชนกัน/ชนยานพาหนะอื่นๆ</td>\n",
       "      <td>0.437209</td>\n",
       "    </tr>\n",
       "    <tr>\n",
       "      <th>7</th>\n",
       "      <td>ชนรถจอด</td>\n",
       "      <td>0.436548</td>\n",
       "    </tr>\n",
       "    <tr>\n",
       "      <th>13</th>\n",
       "      <td>ตกจากรถ</td>\n",
       "      <td>0.428571</td>\n",
       "    </tr>\n",
       "    <tr>\n",
       "      <th>17</th>\n",
       "      <td>รถจักรยานยนต์ชนคน</td>\n",
       "      <td>0.400000</td>\n",
       "    </tr>\n",
       "    <tr>\n",
       "      <th>11</th>\n",
       "      <td>ชนเป็นมุมบริเวณทางแยก</td>\n",
       "      <td>0.385135</td>\n",
       "    </tr>\n",
       "    <tr>\n",
       "      <th>21</th>\n",
       "      <td>รถยนต์ชนรถจักรยานยนต์/รถสามล้อ</td>\n",
       "      <td>0.250000</td>\n",
       "    </tr>\n",
       "    <tr>\n",
       "      <th>1</th>\n",
       "      <td>ชนกันหรือเฉี่ยวชน</td>\n",
       "      <td>0.232843</td>\n",
       "    </tr>\n",
       "    <tr>\n",
       "      <th>23</th>\n",
       "      <td>รถยนต์ชนวัตถุ สิ่งของ</td>\n",
       "      <td>0.172414</td>\n",
       "    </tr>\n",
       "    <tr>\n",
       "      <th>9</th>\n",
       "      <td>ชนสิ่งกีดขวาง</td>\n",
       "      <td>0.161616</td>\n",
       "    </tr>\n",
       "    <tr>\n",
       "      <th>28</th>\n",
       "      <td>เลี้ยว/ถอยชน</td>\n",
       "      <td>0.157895</td>\n",
       "    </tr>\n",
       "    <tr>\n",
       "      <th>6</th>\n",
       "      <td>ชนท้าย</td>\n",
       "      <td>0.154588</td>\n",
       "    </tr>\n",
       "    <tr>\n",
       "      <th>27</th>\n",
       "      <td>เฉี่ยวชน</td>\n",
       "      <td>0.152490</td>\n",
       "    </tr>\n",
       "    <tr>\n",
       "      <th>22</th>\n",
       "      <td>รถยนต์ชนรถไฟ</td>\n",
       "      <td>0.148148</td>\n",
       "    </tr>\n",
       "    <tr>\n",
       "      <th>16</th>\n",
       "      <td>รถจักรยานยนต์ชนกับรถจักรยาน รถสามล้อ</td>\n",
       "      <td>0.142857</td>\n",
       "    </tr>\n",
       "    <tr>\n",
       "      <th>3</th>\n",
       "      <td>ชนขอบทาง</td>\n",
       "      <td>0.128889</td>\n",
       "    </tr>\n",
       "    <tr>\n",
       "      <th>26</th>\n",
       "      <td>อื่น ๆ</td>\n",
       "      <td>0.128205</td>\n",
       "    </tr>\n",
       "    <tr>\n",
       "      <th>15</th>\n",
       "      <td>พลิกคว่ำตกถนน</td>\n",
       "      <td>0.106300</td>\n",
       "    </tr>\n",
       "    <tr>\n",
       "      <th>29</th>\n",
       "      <td>เสียหลัก ไปอยู่ในช่องจราจรอื่นๆ</td>\n",
       "      <td>0.080128</td>\n",
       "    </tr>\n",
       "    <tr>\n",
       "      <th>5</th>\n",
       "      <td>ชนตู้เก็บเงิน ไม้กั้นเลน อุปกรณ์เก็บเงิน</td>\n",
       "      <td>0.052632</td>\n",
       "    </tr>\n",
       "    <tr>\n",
       "      <th>10</th>\n",
       "      <td>ชนอุปกรณ์งานทาง</td>\n",
       "      <td>0.047334</td>\n",
       "    </tr>\n",
       "    <tr>\n",
       "      <th>24</th>\n",
       "      <td>รถยนต์ชนสัตว์ รถลากจูงด้วยสัตว์</td>\n",
       "      <td>0.035714</td>\n",
       "    </tr>\n",
       "    <tr>\n",
       "      <th>20</th>\n",
       "      <td>รถยนต์ชนกัน</td>\n",
       "      <td>0.000000</td>\n",
       "    </tr>\n",
       "    <tr>\n",
       "      <th>19</th>\n",
       "      <td>รถจักรยานยนต์ชนรถยนต์</td>\n",
       "      <td>0.000000</td>\n",
       "    </tr>\n",
       "    <tr>\n",
       "      <th>14</th>\n",
       "      <td>พลิกคว่ำ</td>\n",
       "      <td>0.000000</td>\n",
       "    </tr>\n",
       "  </tbody>\n",
       "</table>\n",
       "</div>"
      ],
      "text/plain": [
       "                    ลักษณะการเกิดอุบัติเหตุ   จำนวนผู้เสียชวิต\n",
       "8                                     ชนรถไฟ          6.000000\n",
       "2                                   ชนขณะแซง          0.794118\n",
       "25                      รถยนต์พลิกคว่ำ ตกถนน          0.750000\n",
       "18    รถจักรยานยนต์ชนรถจักรยานพลิกคว่ำ ตกถนน          0.750000\n",
       "12       ชนในทิศทางตรงกันข้าม (ไม่ใช่การแซง)          0.615385\n",
       "4                               ชนคนเดินเท้า          0.610714\n",
       "0                      ชนกัน/ชนยานพาหนะอื่นๆ          0.437209\n",
       "7                                    ชนรถจอด          0.436548\n",
       "13                                   ตกจากรถ          0.428571\n",
       "17                         รถจักรยานยนต์ชนคน          0.400000\n",
       "11                     ชนเป็นมุมบริเวณทางแยก          0.385135\n",
       "21            รถยนต์ชนรถจักรยานยนต์/รถสามล้อ          0.250000\n",
       "1                          ชนกันหรือเฉี่ยวชน          0.232843\n",
       "23                     รถยนต์ชนวัตถุ สิ่งของ          0.172414\n",
       "9                              ชนสิ่งกีดขวาง          0.161616\n",
       "28                              เลี้ยว/ถอยชน          0.157895\n",
       "6                                     ชนท้าย          0.154588\n",
       "27                                  เฉี่ยวชน          0.152490\n",
       "22                              รถยนต์ชนรถไฟ          0.148148\n",
       "16      รถจักรยานยนต์ชนกับรถจักรยาน รถสามล้อ          0.142857\n",
       "3                                   ชนขอบทาง          0.128889\n",
       "26                                    อื่น ๆ          0.128205\n",
       "15                             พลิกคว่ำตกถนน          0.106300\n",
       "29           เสียหลัก ไปอยู่ในช่องจราจรอื่นๆ          0.080128\n",
       "5   ชนตู้เก็บเงิน ไม้กั้นเลน อุปกรณ์เก็บเงิน          0.052632\n",
       "10                           ชนอุปกรณ์งานทาง          0.047334\n",
       "24           รถยนต์ชนสัตว์ รถลากจูงด้วยสัตว์          0.035714\n",
       "20                               รถยนต์ชนกัน          0.000000\n",
       "19                     รถจักรยานยนต์ชนรถยนต์          0.000000\n",
       "14                                  พลิกคว่ำ          0.000000"
      ]
     },
     "execution_count": 35,
     "metadata": {},
     "output_type": "execute_result"
    }
   ],
   "source": [
    "#Hint 1: df[COLUMN_NAME].value_counts().reset_index() will give you dataframe version of value counts\n",
    "#Hint 2: See what sort_values() does\n",
    "\n",
    "#ใส่คำตอบตรงนี้"
   ]
  },
  {
   "cell_type": "markdown",
   "metadata": {},
   "source": [
    "7. อุบัติเหตุที่เกิดจาก `มูลเหตุสันนิษฐาน` เป็น `ขับรถเร็วเกินกำหนด` มีโอกาสทำให้มีผู้เสียชีวิตมากกว่า `มูลเหตุสันนิษฐาน` อื่นหรือไม่?"
   ]
  },
  {
   "cell_type": "code",
   "execution_count": 34,
   "metadata": {},
   "outputs": [
    {
     "data": {
      "text/plain": [
       "drive_fast_flag\n",
       "0    0.157192\n",
       "1    0.124128\n",
       "Name: has_death, dtype: float64"
      ]
     },
     "execution_count": 34,
     "metadata": {},
     "output_type": "execute_result"
    }
   ],
   "source": [
    "#สร้าง column `drive_fast_flag` ที่จะเป็น 1 เมื่อ 'มูลเหตุสันนิษฐาน' เป็น 'ขับรถเร็วเกินกำหนด' (นอกนั้นเป็น 0) โดยใช้ map และ lambda\n",
    "df['drive_fast_flag'] = df['มูลเหตุสันนิษฐาน'].map(lambda x: 1 if x=='ขับรถเร็วเกินกำหนด' else 0)\n",
    "\n",
    "#สร้าง column `has_death` ที่จะเป็น 1 เมื่อ 'จำนวนผู้เสียชีวิต' มากกว่า 1 คน (นอกนั้นเป็น 0) โดยใช้ map และ lambda\n",
    "df['has_death'] = #ใส่คำตอบตรงนี้\n",
    "\n",
    "#ใช้ groupby('drive_fast_flag').has_death.mean() เพื่อหาค่าเฉลี่ยของอุบัติเหตุที่มีผู้เสียชีวิต แบ่งด้วย drive_fast_flag\n"
   ]
  }
 ],
 "metadata": {
  "kernelspec": {
   "display_name": "Python 3",
   "language": "python",
   "name": "python3"
  },
  "language_info": {
   "codemirror_mode": {
    "name": "ipython",
    "version": 3
   },
   "file_extension": ".py",
   "mimetype": "text/x-python",
   "name": "python",
   "nbconvert_exporter": "python",
   "pygments_lexer": "ipython3",
   "version": "3.6.9"
  }
 },
 "nbformat": 4,
 "nbformat_minor": 2
}
