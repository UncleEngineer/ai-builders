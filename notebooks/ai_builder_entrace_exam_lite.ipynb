{
  "nbformat": 4,
  "nbformat_minor": 0,
  "metadata": {
    "kernelspec": {
      "display_name": "Python 3",
      "language": "python",
      "name": "python3"
    },
    "language_info": {
      "codemirror_mode": {
        "name": "ipython",
        "version": 3
      },
      "file_extension": ".py",
      "mimetype": "text/x-python",
      "name": "python",
      "nbconvert_exporter": "python",
      "pygments_lexer": "ipython3",
      "version": "3.6.9"
    },
    "colab": {
      "name": "ai_builder_entrace_exam_lite.ipynb",
      "provenance": [],
      "collapsed_sections": [],
      "toc_visible": true
    }
  },
  "cells": [
    {
      "cell_type": "markdown",
      "metadata": {
        "id": "1ZyqT0ylUXRq"
      },
      "source": [
        "# Entrace Example for AI Builders\n",
        "\n",
        "[![Open in Colab](https://colab.research.google.com/assets/colab-badge.svg)](https://colab.research.google.com/github/vistec-AI/ai-builders/blob/main/notebooks/ai_builder_entrace_exam_lite.ipynb)"
      ]
    },
    {
      "cell_type": "markdown",
      "metadata": {
        "id": "C6KXzH07ADy5"
      },
      "source": [
        "จุดมุ่งหมายของเอกสารฉบับนี้คือเพื่อ[ทดสอบความรู้ปรับพื้นฐานสำหรับผู้สมัครเข้าร่วมโครงการ AI Builders](https://vistec-ai.github.io/ai-builders/register/)  \n",
        "คำตอบของคำถามเหล่านี้สามารถค้นหาได้จาก [Notebook จากการสอนปรับพื้นฐาน](https://github.com/vistec-AI/ai-builders/tree/main/notebooks)ดังต่อไปนี้\n",
        "- `ai_builder_intro_python.ipynb`\n",
        "- `ai_builder_numpy.ipynb`\n",
        "- `ai_builder_pandas.ipynb` \n",
        "\n",
        "เราหวังว่าคุณจะใช้ความพยายามสุดความสามารถที่จะตอบคำถามเหล่านี้  \n",
        "อย่างไรก็ตามคุณไม่จำเป็นต้องตอบคำถามได้ครบทุกข้อเพื่อที่จะได้รับการคัดเลือกเข้าโครงการ\n",
        "\n",
        "กรุณากรอกโค้ดของคุณลงไปในบริเวณที่ระบุไว้ และเมื่อรันโค้ดทั้งหมดได้ผลลัพธ์ที่คาดหวังแล้ว  \n",
        "ให้ download ไฟล์ออกมาเป็น `.ipynb` เพื่อนำมาส่งพร้อมกับใบสมัครต่อไป"
      ]
    },
    {
      "cell_type": "markdown",
      "metadata": {
        "id": "1ZrjBDLJUXRs"
      },
      "source": [
        "## Part 1. Python"
      ]
    },
    {
      "cell_type": "markdown",
      "metadata": {
        "id": "UKjvsqt-UXRs"
      },
      "source": [
        "### คำถามที่ 1\n",
        "\n",
        "หากำหนดให้มีสมการ $c = 0.5(a + 2b^5)$ โดยที่ $a = 1$ และ $b = 2.5$ แล้ว $c$ จะมีค่าสุทธิเท่าไหร่?"
      ]
    },
    {
      "cell_type": "code",
      "metadata": {
        "id": "GDF1lvRoUXRt"
      },
      "source": [
        "a = 1\n",
        "b = 2.5\n",
        "c = ... # ใส่คำตอบตรงนี้\n",
        "print(c)"
      ],
      "execution_count": null,
      "outputs": []
    },
    {
      "cell_type": "markdown",
      "metadata": {
        "id": "RS3qliN5UXRt"
      },
      "source": [
        "### คำถามที่ 2\n",
        "\n",
        "ต่อเนื่องจากคำถามที่แล้ว ตัวแปร `a`, `b`, และ `c` เป็นตัวแปรชนิดใดบ้าง? จงใช้ช่องข้างล่างเพื่อพิมพ์แสดงคำตอบให้ปรากฏ\n",
        "\n",
        "(**คำใบ้:** ลองใช้ฟังก์ชัน `type` โดยค้นให้วิธีการใช้งานได้จาก Python documentation)"
      ]
    },
    {
      "cell_type": "code",
      "metadata": {
        "id": "aJuu2Y_AUXRt"
      },
      "source": [
        "... # ใส่คำตอบตรงนี้"
      ],
      "execution_count": null,
      "outputs": []
    },
    {
      "cell_type": "markdown",
      "metadata": {
        "id": "2KPQzf5AUXRu"
      },
      "source": [
        "### คำถามที่ 3\n",
        "\n",
        "จากตัวแปร `s = 'AI Builders - A Program For Kids Who Wants to AI Good Good'`  \n",
        "เราจะดึงเฉพาะส่วนข้อความที่เขียนว่า `AI Good` ออกมาจากข้อมูลสตริง `s` ข้างต้นเพื่อนำมาแสดงผลได้อย่างไร?"
      ]
    },
    {
      "cell_type": "code",
      "metadata": {
        "id": "t4fY0IDrUXRu"
      },
      "source": [
        "s = 'AI Builders - A Program For Kids Who Wants to AI Good Good'\n",
        "... # ใส่คำตอบตรงนี้ (optional)\n",
        "print(...) # ใส่คำตอบตรงนี้ ซึ่งควรแสดงผลลัพธ์คาดหวัง: AI Good"
      ],
      "execution_count": null,
      "outputs": []
    },
    {
      "cell_type": "markdown",
      "metadata": {
        "id": "uGuPnGaAUXRu"
      },
      "source": [
        "### คำถามที่ 4\n",
        "\n",
        "จงเขียนโค้ดเพื่อ `print` แต่ละ element จากลิสต์ `l` ที่กำหนดให้ต่อไปนี้ ตามลำดับ แต่**ยกเว้น** element ที่เขียนว่า `AI`\n",
        "\n",
        "```python\n",
        "l = ['AI', 'Builders', '-', 'A', 'Program', 'For', 'Kids', 'Who', 'Wants', 'to', 'AI', 'Good', 'Good']\n",
        "```\n",
        "\n",
        "(**คำใบ้:** ลองใช้ `for` เพื่อ loop แต่ละ element จากลิสต์ และใช้ `if` เพื่อกรอง element ที่มีค่าเป็น `AI` ออก)"
      ]
    },
    {
      "cell_type": "code",
      "metadata": {
        "id": "zVQE_Wt3UXRu"
      },
      "source": [
        "l = ['AI', 'Builders', '-', 'A', 'Program', 'For', 'Kids', 'Who', 'Wants', 'to', 'AI', 'Good', 'Good']\n",
        "... # ใส่คำตอบตรงนี้"
      ],
      "execution_count": null,
      "outputs": []
    },
    {
      "cell_type": "markdown",
      "metadata": {
        "id": "hUfguOtpmptj"
      },
      "source": [
        "โค้ดข้างต้น ควรแสดงผลลัพธ์เป็นดังต่อไปนี้\n",
        "```text\n",
        "Builders\n",
        "-\n",
        "A\n",
        "Program\n",
        "For\n",
        "Kids\n",
        "Who\n",
        "Wants\n",
        "to\n",
        "Good\n",
        "Good\n",
        "```"
      ]
    },
    {
      "cell_type": "markdown",
      "metadata": {
        "id": "EgKaf36UUXRv"
      },
      "source": [
        "### คำถามที่ 5\n",
        "\n",
        "เขียนฟังก์ชั่น `midpoint` ที่หาจุดกึ่งกลางระหว่างตัวเลข `a` และ `b`  \n",
        "โดยกำหนดให้จุดกึ่งกลางดังกล่าวมีค่าเท่ากับ $\\dfrac{a + b}{2}$\n"
      ]
    },
    {
      "cell_type": "code",
      "metadata": {
        "id": "72DLASDqUXRv"
      },
      "source": [
        "def midpoint(a, b):\n",
        "    \"\"\"Computes a midpoint between a and b.\"\"\"\n",
        "    ... # ใส่คำตอบตรงนี้\n",
        "\n",
        "\n",
        "print(midpoint(1, 4))  # ผลลัพธ์คาดหวัง 2.5\n",
        "print(midpoint(3, 3))  # ผลลัพธ์คาดหวัง 3\n",
        "print(midpoint(-2, 2))  # ผลลัพธ์คาดหวัง 0"
      ],
      "execution_count": null,
      "outputs": []
    },
    {
      "cell_type": "markdown",
      "metadata": {
        "id": "Qf4N29TTUXRv"
      },
      "source": [
        "### คำถามที่ 6\n",
        "\n",
        "จงเขียนฟังก์ชัน `fizzbuzz` ที่รับจำนวนเต็ม `x` แล้วให้คืนค่าคำตอบตามเงื่อนไขดังต่อไปนี้\n",
        "\n",
        "- ถ้า `x` หารด้วย 2 ลงตัว แต่หารด้วย 3 ไม่ลงตัว ให้คืน string ว่า `\"fizz\"`\n",
        "- ถ้า `x` หารด้วย 3 ลงตัว แต่หารด้วย 2 ไม่ลงตัว ให้คืน string ว่า `\"buzz\"`\n",
        "- ถ้า `x` หารด้วยทั้ง 2 และ 3 ลงตัวทั้งคู่ ให้คืน string ว่า `\"fizzbuzz\"`\n",
        "- นอกเหนือจากเงื่อนไขข้างต้น ฟังก์ชันควรคืนค่า `None`\n",
        "\n",
        "(**คำใบ้:** ลองใช้ `if`, `elif`, และ `else` ภายในฟังก์ชัน `fizzbuzz`)"
      ]
    },
    {
      "cell_type": "code",
      "metadata": {
        "id": "_VUQ40ZQUXRw"
      },
      "source": [
        "def fizzbuzz(x):\n",
        "    \"\"\"Computes the output based on input `x`\n",
        "    according to the given problem specification above.\n",
        "    \"\"\"\n",
        "    ... # ใส่คำตอบตรงนี้\n",
        "\n",
        "\n",
        "for i in range(20):\n",
        "    print(i, fizzbuzz(i))"
      ],
      "execution_count": null,
      "outputs": []
    },
    {
      "cell_type": "markdown",
      "metadata": {
        "id": "LjQWDrYcqDcv"
      },
      "source": [
        "โค้ดข้างต้น ควรแสดงผลลัพธ์เป็นดังต่อไปนี้\n",
        "\n",
        "```text\n",
        "0 fizzbuzz\n",
        "1 None\n",
        "2 fizz\n",
        "3 buzz\n",
        "4 fizz\n",
        "5 None\n",
        "6 fizzbuzz\n",
        "7 None\n",
        "8 fizz\n",
        "9 buzz\n",
        "10 fizz\n",
        "11 None\n",
        "12 fizzbuzz\n",
        "13 None\n",
        "14 fizz\n",
        "15 buzz\n",
        "16 fizz\n",
        "17 None\n",
        "18 fizzbuzz\n",
        "19 None\n",
        "```"
      ]
    },
    {
      "cell_type": "markdown",
      "metadata": {
        "id": "vvBlgmOOUXRw"
      },
      "source": [
        "## Part 2. Numpy and Linear Algebra\n",
        "\n",
        "คำถามต่อไปนี้มีความต่อเนื่องกันเป็นลูกโซ่"
      ]
    },
    {
      "cell_type": "code",
      "metadata": {
        "id": "ey6nT0CzUXRw"
      },
      "source": [
        "import numpy as np"
      ],
      "execution_count": null,
      "outputs": []
    },
    {
      "cell_type": "markdown",
      "metadata": {
        "id": "dULhnwFeUXRw"
      },
      "source": [
        "### คำถามที่ 1\n",
        "\n",
        "สร้าง numpy array `a` ที่มีมิติขนาด $3 \\times 3$ &nbsp;(3 แถว 3 คอลัมน์) โดยมีค่าเป็นตัวเลขจาก 1 ถึง 9  \n",
        "(**คำใบ้:** ลองใช้ `np.arange` และ `np.reshape`)\n"
      ]
    },
    {
      "cell_type": "code",
      "metadata": {
        "id": "wtZZFpzbUXRw",
        "outputId": "9d657989-f8ad-4cf4-9535-533da01f4d42"
      },
      "source": [
        "a = ... # ใส่คำตอบตรงนี้\n",
        "display(a)"
      ],
      "execution_count": null,
      "outputs": [
        {
          "output_type": "execute_result",
          "data": {
            "text/plain": [
              "array([[1, 2, 3],\n",
              "       [4, 5, 6],\n",
              "       [7, 8, 9]])"
            ]
          },
          "metadata": {
            "tags": []
          },
          "execution_count": 21
        }
      ]
    },
    {
      "cell_type": "markdown",
      "metadata": {
        "id": "tqZX7-fxUXRx"
      },
      "source": [
        "### คำถามที่ 2\n",
        "สร้าง numpy array `b` ที่มีมิติขนาด $4 \\times 3$ &nbsp; (4 แถว 3 คอลัมน์)  โดยมีค่าเป็นตัวเลขจาก 1 ถึง 12  \n",
        "(**คำใบ้:** ลองใช้ `np.arange` และ `np.reshape`)"
      ]
    },
    {
      "cell_type": "code",
      "metadata": {
        "id": "W5bQ3veGUXRx",
        "outputId": "d8216b77-9fdb-408e-93be-d61615bb2076"
      },
      "source": [
        "b = ... # ใส่คำตอบตรงนี้\n",
        "display(b)"
      ],
      "execution_count": null,
      "outputs": [
        {
          "output_type": "execute_result",
          "data": {
            "text/plain": [
              "array([[ 1,  2,  3],\n",
              "       [ 4,  5,  6],\n",
              "       [ 7,  8,  9],\n",
              "       [10, 11, 12]])"
            ]
          },
          "metadata": {
            "tags": []
          },
          "execution_count": 22
        }
      ]
    },
    {
      "cell_type": "markdown",
      "metadata": {
        "id": "CoaPeCBJUXRx"
      },
      "source": [
        "### คำถามที่ 3\n",
        "\n",
        "เราสามารถหาค่า dot product ระหว่าง `a` กับ `b` ได้หรือไม่? เพราะอะไร?  \n",
        "(**คำใบ้:** ลองใช้ `a.dot(b)` หรือ `a @ b`)"
      ]
    },
    {
      "cell_type": "code",
      "metadata": {
        "id": "j7QapYFbUXRx",
        "outputId": "d41fba59-55f1-43e2-f743-5c05fe8c39c9"
      },
      "source": [
        "... # ใส่คำตอบตรงนี้"
      ],
      "execution_count": null,
      "outputs": [
        {
          "output_type": "error",
          "ename": "ValueError",
          "evalue": "matmul: Input operand 1 has a mismatch in its core dimension 0, with gufunc signature (n?,k),(k,m?)->(n?,m?) (size 4 is different from 3)",
          "traceback": [
            "\u001b[0;31m---------------------------------------------------------------------------\u001b[0m",
            "\u001b[0;31mValueError\u001b[0m                                Traceback (most recent call last)",
            "\u001b[0;32m<ipython-input-23-a832bb91e25d>\u001b[0m in \u001b[0;36m<module>\u001b[0;34m\u001b[0m\n\u001b[0;32m----> 1\u001b[0;31m \u001b[0ma\u001b[0m\u001b[0;34m@\u001b[0m\u001b[0mb\u001b[0m\u001b[0;34m\u001b[0m\u001b[0;34m\u001b[0m\u001b[0m\n\u001b[0m",
            "\u001b[0;31mValueError\u001b[0m: matmul: Input operand 1 has a mismatch in its core dimension 0, with gufunc signature (n?,k),(k,m?)->(n?,m?) (size 4 is different from 3)"
          ]
        }
      ]
    },
    {
      "cell_type": "markdown",
      "metadata": {
        "id": "ecwMBYwHUXRx"
      },
      "source": [
        "### คำถามที่ 4\n",
        "\n",
        "หาค่า dot product ระหว่าง `a` และ `b`$^T$ (หมายถึง `b` transposed)  \n",
        "(**คำใบ้:** `b` transposed เขียนได้ด้วยคำสั่ง `b.T`)"
      ]
    },
    {
      "cell_type": "code",
      "metadata": {
        "id": "7PE-pqPFUXRy",
        "outputId": "09416d55-d015-40c9-9a92-d3de0c0ab598"
      },
      "source": [
        "... # ใส่คำตอบตรงนี้"
      ],
      "execution_count": null,
      "outputs": [
        {
          "output_type": "execute_result",
          "data": {
            "text/plain": [
              "array([[ 14,  32,  50,  68],\n",
              "       [ 32,  77, 122, 167],\n",
              "       [ 50, 122, 194, 266]])"
            ]
          },
          "metadata": {
            "tags": []
          },
          "execution_count": 24
        }
      ]
    },
    {
      "cell_type": "markdown",
      "metadata": {
        "id": "dLQdnRJLUXRy"
      },
      "source": [
        "### คำถามที่ 5\n",
        "\n",
        "ขนาดมิติ (แถวและคอลัมน์) ของ `a` และ `b` คืออะไร?  \n",
        "(**คำใบ้:** ลองใช้ `a.shape` เป็นต้น)"
      ]
    },
    {
      "cell_type": "code",
      "metadata": {
        "id": "r0TZE6q_UXRy",
        "outputId": "397e6db9-3fa5-477c-bc52-fc4e08acf5f6"
      },
      "source": [
        "... # ใส่คำตอบตรงนี้"
      ],
      "execution_count": null,
      "outputs": [
        {
          "output_type": "execute_result",
          "data": {
            "text/plain": [
              "((3, 3), (4, 3))"
            ]
          },
          "metadata": {
            "tags": []
          },
          "execution_count": 110
        }
      ]
    },
    {
      "cell_type": "markdown",
      "metadata": {
        "id": "BG_ppR3SUXRy"
      },
      "source": [
        "### คำถามที่ 6\n",
        "\n",
        "จงหา array ใหม่ที่เกิดจากการคูณทุก element ของ `a` ด้วยค่า `-1`"
      ]
    },
    {
      "cell_type": "code",
      "metadata": {
        "id": "rgngLKmTUXRy",
        "outputId": "83b4dde6-788f-4e22-913e-25f1db0a1b2f"
      },
      "source": [
        "... # ใส่คำตอบตรงนี้"
      ],
      "execution_count": null,
      "outputs": [
        {
          "output_type": "execute_result",
          "data": {
            "text/plain": [
              "array([[-1, -2, -3],\n",
              "       [-4, -5, -6],\n",
              "       [-7, -8, -9]])"
            ]
          },
          "metadata": {
            "tags": []
          },
          "execution_count": 111
        }
      ]
    },
    {
      "cell_type": "markdown",
      "metadata": {
        "id": "xZjO74LrUXRz"
      },
      "source": [
        "### คำถามที่ 7\n",
        "\n",
        "จงใช้คำสั่ง `np.reshape` เพื่อเปลี่ยนมิติของ `b` ให้กลายเป็นขนาด $2 \\times 2 \\times 3$"
      ]
    },
    {
      "cell_type": "code",
      "metadata": {
        "id": "KHb19jivUXRz",
        "outputId": "ba39c56b-3418-4555-b8fa-dcbd1a71f145"
      },
      "source": [
        "... # ใส่คำตอบตรงนี้"
      ],
      "execution_count": null,
      "outputs": [
        {
          "output_type": "execute_result",
          "data": {
            "text/plain": [
              "array([[[ 1,  2,  3],\n",
              "        [ 4,  5,  6]],\n",
              "\n",
              "       [[ 7,  8,  9],\n",
              "        [10, 11, 12]]])"
            ]
          },
          "metadata": {
            "tags": []
          },
          "execution_count": 113
        }
      ]
    },
    {
      "cell_type": "markdown",
      "metadata": {
        "id": "VTwBLXNHUXRz"
      },
      "source": [
        "### คำถามที่ 8\n",
        "\n",
        "ค่าเฉลี่ยของแต่ละแถวของ `a` (ซึ่งมีขนาด $3 \\times 3$) มีค่าเท่าใด?  \n",
        "(**คำใบ้:** ลองใช้ `np.mean` และสังเกตว่าควรใช้ `axis=1` หรือ `axis=0`)"
      ]
    },
    {
      "cell_type": "code",
      "metadata": {
        "id": "OuDFuaCzUXRz",
        "outputId": "5f56a0fd-f830-4555-fcc0-0c0f80872e86"
      },
      "source": [
        "... # ใส่คำตอบตรงนี้"
      ],
      "execution_count": null,
      "outputs": [
        {
          "output_type": "execute_result",
          "data": {
            "text/plain": [
              "array([2., 5., 8.])"
            ]
          },
          "metadata": {
            "tags": []
          },
          "execution_count": 115
        }
      ]
    },
    {
      "cell_type": "markdown",
      "metadata": {
        "id": "GzPK7ne3UXRz"
      },
      "source": [
        "### คำถามที่ 9\n",
        "\n",
        "ค่าเฉลี่ยของแต่ละคอลัมน์ของ `a` (ซึ่งมีขนาด $3 \\times 3$) มีค่าเท่าใด?"
      ]
    },
    {
      "cell_type": "code",
      "metadata": {
        "id": "xB8bTr9lUXR0",
        "outputId": "ecbb3d60-7085-48a2-82f4-fc55e74b97cd"
      },
      "source": [
        "... # ใส่คำตอบตรงนี้"
      ],
      "execution_count": null,
      "outputs": [
        {
          "output_type": "execute_result",
          "data": {
            "text/plain": [
              "array([4., 5., 6.])"
            ]
          },
          "metadata": {
            "tags": []
          },
          "execution_count": 116
        }
      ]
    },
    {
      "cell_type": "markdown",
      "metadata": {
        "id": "QLO_QupGUXR0"
      },
      "source": [
        "### คำถามที่ 10\n",
        "\n",
        "ถ้าเราต้องการเลือกเฉพาะ array ย่อย `[[1, 2], [4, 5]]` จาก array ตั้งต้น `a`  \n",
        "เราต้องเขียนโค้ดเพื่อเลือกเฉพาะส่วนดังกล่าวได้อย่างไร?"
      ]
    },
    {
      "cell_type": "code",
      "metadata": {
        "id": "UiVcSBi3UXR0",
        "outputId": "aed90ecc-aa63-4bc6-98bd-657c97e6e011"
      },
      "source": [
        "# ตัวอย่าง: เราสามารถ slice แต่ละส่วนของ `np.array` ได้เหมือนกับ list เช่น \n",
        "a[1:, 1:]"
      ],
      "execution_count": null,
      "outputs": [
        {
          "output_type": "execute_result",
          "data": {
            "text/plain": [
              "array([[5, 6],\n",
              "       [8, 9]])"
            ]
          },
          "metadata": {
            "tags": []
          },
          "execution_count": 26
        }
      ]
    },
    {
      "cell_type": "code",
      "metadata": {
        "id": "Bn_uibZgUXR0",
        "outputId": "30855dcb-5506-43a2-9de5-c1407395306f"
      },
      "source": [
        "... # ใส่คำตอบตรงนี้"
      ],
      "execution_count": null,
      "outputs": [
        {
          "output_type": "execute_result",
          "data": {
            "text/plain": [
              "array([[1, 2],\n",
              "       [4, 5]])"
            ]
          },
          "metadata": {
            "tags": []
          },
          "execution_count": 117
        }
      ]
    },
    {
      "cell_type": "markdown",
      "metadata": {
        "id": "tp3qJZNVUXR0"
      },
      "source": [
        "## Part 3. Pandas and Data Exploration"
      ]
    },
    {
      "cell_type": "markdown",
      "metadata": {
        "id": "UlbXiKa-UXR1"
      },
      "source": [
        "เราจะใช้ชุดข้อมูล [อุบัติเหตุบนโครงข่ายถนนของกระทรวงคมนาคม 2562](https://data.go.th/dataset/roadaccident) จาก [data.go.th](https://data.go.th/) เพื่อนำมาวิเคราะห์หารายละเอียดต่าง ๆ"
      ]
    },
    {
      "cell_type": "code",
      "metadata": {
        "id": "ZJTdZ1wmUXR1"
      },
      "source": [
        "import pandas as pd"
      ],
      "execution_count": 1,
      "outputs": []
    },
    {
      "cell_type": "markdown",
      "metadata": {
        "id": "MZvI2ZoYUXR1"
      },
      "source": [
        "### คำถามที่ 1\n",
        "\n",
        "อ่านข้อมูลตารางจากไฟล์ `ubatiehtuthaangthnn.xlsx` (ตามข้อมูล URL ที่กำหนดให้ข้างล่าง)  \n",
        "เข้ามาเป็นข้อมูล `pandas.DataFrame` เพื่อนำใส่ตัวแปร `df`\n",
        "\n",
        "จากนั้นให้หาว่า `df` ที่โหลดมาเป็นตารางที่มีข้อมูลมีกี่แถว และกี่คอลัมน์?  \n",
        "(**คำใบ้:** ลองใช้ `df.shape`)"
      ]
    },
    {
      "cell_type": "code",
      "metadata": {
        "id": "dcfBYgHqUXR1",
        "colab": {
          "base_uri": "https://localhost:8080/"
        },
        "outputId": "ae8d4573-497a-4246-c980-20a17cb5a9d6"
      },
      "source": [
        "url = 'https://archive.org/download/ubatiehtuthaangthnn/ubatiehtuthaangthnn.xlsx'\n",
        "df = pd.read_excel(url)\n",
        "\n",
        "... # ใส่คำตอบตรงนี้"
      ],
      "execution_count": 4,
      "outputs": [
        {
          "output_type": "execute_result",
          "data": {
            "text/plain": [
              "(19965, 20)"
            ]
          },
          "metadata": {
            "tags": []
          },
          "execution_count": 4
        }
      ]
    },
    {
      "cell_type": "markdown",
      "metadata": {
        "id": "3rifKwfjUXR1"
      },
      "source": [
        "### คำถามที่ 2\n",
        "\n",
        "เรียกดู 20 แถวแรก และ 20 แถวสุดท้ายของ `df`  \n",
        "(**คำใบ้:** ลองใช้ `df.head(20)` และ `df.tail(20)`)"
      ]
    },
    {
      "cell_type": "code",
      "metadata": {
        "id": "W7QduzloUXR1"
      },
      "source": [
        "... # ใส่คำตอบตรงนี้ สำหรับข้อมูล 20 แถวแรก"
      ],
      "execution_count": null,
      "outputs": []
    },
    {
      "cell_type": "code",
      "metadata": {
        "id": "Ci5CERrfB2x5"
      },
      "source": [
        "... # ใส่คำตอบตรงนี้ สำหรับข้อมูล 20 แถวสุดท้าย"
      ],
      "execution_count": null,
      "outputs": []
    },
    {
      "cell_type": "markdown",
      "metadata": {
        "id": "NLzsO_HkUXR2"
      },
      "source": [
        "### คำถามที่ 3\n",
        "\n",
        "จังหวัดใดมีอุบัติเหตุเยอะที่สุดถ้าอ้างอิงจาก `df`?  \n",
        "(**คำใบ้:** ลองใช้ `df['จังหวัด'].value_counts()`)"
      ]
    },
    {
      "cell_type": "code",
      "metadata": {
        "id": "W_hW1XZvUXR2",
        "outputId": "d9f93b78-458d-4ba2-deee-8cd39065b07d"
      },
      "source": [
        "... # ใส่คำตอบตรงนี้"
      ],
      "execution_count": null,
      "outputs": [
        {
          "output_type": "execute_result",
          "data": {
            "text/plain": [
              "กรุงเทพมหานคร    1844\n",
              "ชลบุรี            938\n",
              "นครราชสีมา        877\n",
              "สุพรรณบุรี        727\n",
              "สมุทรปราการ       649\n",
              "                 ... \n",
              "พังงา              72\n",
              "ยะลา               72\n",
              "ชัยภูมิ            70\n",
              "อำนาจเจริญ         51\n",
              "ระนอง              35\n",
              "Name: จังหวัด, Length: 77, dtype: int64"
            ]
          },
          "metadata": {
            "tags": []
          },
          "execution_count": 32
        }
      ]
    },
    {
      "cell_type": "markdown",
      "metadata": {
        "id": "MgdMSgpGUXR2"
      },
      "source": [
        "### คำถามที่ 4\n",
        "\n",
        "เลือกเฉพาะแถวที่เป็นอุบัติเหตุที่มีผู้เสียชีวิต 0 ราย /  มีอุบัติเหตุที่ไม่มีผู้เสียชีวิตกี่ครั้ง?  \n",
        "(**คำใบ้:** เราสามารถกรอง dataframe ได้ด้วยคำสั่ง `df[df['จำนวนผู้เสียชีวิต']==0]`)"
      ]
    },
    {
      "cell_type": "code",
      "metadata": {
        "id": "QE-ma2_hUXR2",
        "outputId": "07244629-c13c-4c09-c8cc-02f35174285f"
      },
      "source": [
        "... # ใส่คำตอบตรงนี้"
      ],
      "execution_count": null,
      "outputs": [
        {
          "output_type": "execute_result",
          "data": {
            "text/html": [
              "<div>\n",
              "<style scoped>\n",
              "    .dataframe tbody tr th:only-of-type {\n",
              "        vertical-align: middle;\n",
              "    }\n",
              "\n",
              "    .dataframe tbody tr th {\n",
              "        vertical-align: top;\n",
              "    }\n",
              "\n",
              "    .dataframe thead th {\n",
              "        text-align: right;\n",
              "    }\n",
              "</style>\n",
              "<table border=\"1\" class=\"dataframe\">\n",
              "  <thead>\n",
              "    <tr style=\"text-align: right;\">\n",
              "      <th></th>\n",
              "      <th>ปีที่เกิดเหตุ</th>\n",
              "      <th>วันที่เกิดเหตุ</th>\n",
              "      <th>เวลา</th>\n",
              "      <th>วันที่รายงาน</th>\n",
              "      <th>เวลาที่รายงาน</th>\n",
              "      <th>ACC_CODE</th>\n",
              "      <th>หน่วยงาน</th>\n",
              "      <th>สายทาง</th>\n",
              "      <th>ก.ม.</th>\n",
              "      <th>จังหวัด</th>\n",
              "      <th>รถคันที่ 1</th>\n",
              "      <th>บริเวณที่เกิดเหตุ/ลักษณะทาง</th>\n",
              "      <th>มูลเหตุสันนิษฐาน</th>\n",
              "      <th>ลักษณะการเกิดอุบัติเหตุ</th>\n",
              "      <th>จำนวนรถที่เกิดเหตุ\\n(รวมคันที่ 1)</th>\n",
              "      <th>จำนวนผู้เสียชวิต</th>\n",
              "      <th>รวมจำนวนผู้บาดเจ็บ</th>\n",
              "      <th>สภาพอากาศ</th>\n",
              "      <th>LATITUDE</th>\n",
              "      <th>LONGITUDE</th>\n",
              "    </tr>\n",
              "  </thead>\n",
              "  <tbody>\n",
              "    <tr>\n",
              "      <th>0</th>\n",
              "      <td>2019</td>\n",
              "      <td>01/01/2019</td>\n",
              "      <td>00:00</td>\n",
              "      <td>02/01/2019</td>\n",
              "      <td>06:11</td>\n",
              "      <td>201901023254</td>\n",
              "      <td>กรมทางหลวงชนบท</td>\n",
              "      <td>ทางหลวงชนบท ลบ.2029</td>\n",
              "      <td>4.000</td>\n",
              "      <td>ลพบุรี</td>\n",
              "      <td>รถจักรยานยนต์</td>\n",
              "      <td>ทางตรง+ไม่มีความลาดชัน/ที่ราบ</td>\n",
              "      <td>เมาสุรา</td>\n",
              "      <td>อื่น ๆ</td>\n",
              "      <td>1</td>\n",
              "      <td>0</td>\n",
              "      <td>2</td>\n",
              "      <td>แจ่มใส</td>\n",
              "      <td>14.959105</td>\n",
              "      <td>100.873463</td>\n",
              "    </tr>\n",
              "    <tr>\n",
              "      <th>1</th>\n",
              "      <td>2019</td>\n",
              "      <td>01/01/2019</td>\n",
              "      <td>00:03</td>\n",
              "      <td>13/02/2019</td>\n",
              "      <td>12:06</td>\n",
              "      <td>201902135341</td>\n",
              "      <td>กรมทางหลวง</td>\n",
              "      <td>ทางหลวงแผ่นดินหมายเลข 24 ตอนควบคุม 0702</td>\n",
              "      <td>419.770</td>\n",
              "      <td>อุบลราชธานี</td>\n",
              "      <td>รถยนต์นั่งส่วนบุคคล/รถยนต์นั่งสาธารณะ</td>\n",
              "      <td>ทางตรง</td>\n",
              "      <td>ขับรถเร็วเกินกำหนด</td>\n",
              "      <td>ชนอุปกรณ์งานทาง</td>\n",
              "      <td>1</td>\n",
              "      <td>0</td>\n",
              "      <td>2</td>\n",
              "      <td>แจ่มใส</td>\n",
              "      <td>15.210738</td>\n",
              "      <td>104.862689</td>\n",
              "    </tr>\n",
              "    <tr>\n",
              "      <th>3</th>\n",
              "      <td>2019</td>\n",
              "      <td>01/01/2019</td>\n",
              "      <td>00:20</td>\n",
              "      <td>02/01/2019</td>\n",
              "      <td>05:12</td>\n",
              "      <td>201901023234</td>\n",
              "      <td>กรมทางหลวงชนบท</td>\n",
              "      <td>ทางหลวงชนบท ชม.4016</td>\n",
              "      <td>1.880</td>\n",
              "      <td>เชียงใหม่</td>\n",
              "      <td>รถจักรยานยนต์</td>\n",
              "      <td>ทางตรง+ไม่มีความลาดชัน/ที่ราบ</td>\n",
              "      <td>เมาสุรา</td>\n",
              "      <td>รถยนต์ชนรถไฟ</td>\n",
              "      <td>1</td>\n",
              "      <td>0</td>\n",
              "      <td>1</td>\n",
              "      <td>แจ่มใส</td>\n",
              "      <td>18.601721</td>\n",
              "      <td>98.804204</td>\n",
              "    </tr>\n",
              "    <tr>\n",
              "      <th>4</th>\n",
              "      <td>2019</td>\n",
              "      <td>01/01/2019</td>\n",
              "      <td>00:25</td>\n",
              "      <td>01/01/2019</td>\n",
              "      <td>09:54</td>\n",
              "      <td>201901012972</td>\n",
              "      <td>กรมทางหลวง</td>\n",
              "      <td>ทางหลวงแผ่นดินหมายเลข 225 ตอนควบคุม 0202</td>\n",
              "      <td>68.800</td>\n",
              "      <td>นครสวรรค์</td>\n",
              "      <td>รถยนต์นั่งส่วนบุคคล/รถยนต์นั่งสาธารณะ</td>\n",
              "      <td>ทางตรง</td>\n",
              "      <td>คนหรือรถตัดหน้ากระชั้นชิด</td>\n",
              "      <td>พลิกคว่ำตกถนน</td>\n",
              "      <td>1</td>\n",
              "      <td>0</td>\n",
              "      <td>0</td>\n",
              "      <td>แจ่มใส</td>\n",
              "      <td>15.866389</td>\n",
              "      <td>100.590010</td>\n",
              "    </tr>\n",
              "    <tr>\n",
              "      <th>5</th>\n",
              "      <td>2019</td>\n",
              "      <td>01/01/2019</td>\n",
              "      <td>00:30</td>\n",
              "      <td>01/01/2019</td>\n",
              "      <td>11:22</td>\n",
              "      <td>201901013012</td>\n",
              "      <td>กรมทางหลวง</td>\n",
              "      <td>ทางหลวงแผ่นดินหมายเลข 41 ตอนควบคุม 0103</td>\n",
              "      <td>65.850</td>\n",
              "      <td>ชุมพร</td>\n",
              "      <td>รถปิคอัพบรรทุก 4 ล้อ</td>\n",
              "      <td>ทางแยกรูปตัว +</td>\n",
              "      <td>ไม่ให้สิทธิรถที่มาก่อนผ่านทาง เช่น ทางแยก</td>\n",
              "      <td>ชนกัน/ชนยานพาหนะอื่นๆ</td>\n",
              "      <td>2</td>\n",
              "      <td>0</td>\n",
              "      <td>2</td>\n",
              "      <td>แจ่มใส</td>\n",
              "      <td>9.949354</td>\n",
              "      <td>99.063479</td>\n",
              "    </tr>\n",
              "    <tr>\n",
              "      <th>...</th>\n",
              "      <td>...</td>\n",
              "      <td>...</td>\n",
              "      <td>...</td>\n",
              "      <td>...</td>\n",
              "      <td>...</td>\n",
              "      <td>...</td>\n",
              "      <td>...</td>\n",
              "      <td>...</td>\n",
              "      <td>...</td>\n",
              "      <td>...</td>\n",
              "      <td>...</td>\n",
              "      <td>...</td>\n",
              "      <td>...</td>\n",
              "      <td>...</td>\n",
              "      <td>...</td>\n",
              "      <td>...</td>\n",
              "      <td>...</td>\n",
              "      <td>...</td>\n",
              "      <td>...</td>\n",
              "      <td>...</td>\n",
              "    </tr>\n",
              "    <tr>\n",
              "      <th>19955</th>\n",
              "      <td>2019</td>\n",
              "      <td>31/12/2019</td>\n",
              "      <td>23:00</td>\n",
              "      <td>31/12/2019</td>\n",
              "      <td>23:37</td>\n",
              "      <td>201912313628</td>\n",
              "      <td>กรมทางหลวง</td>\n",
              "      <td>ทางหลวงแผ่นดินหมายเลข 4 ตอนควบคุม 0501</td>\n",
              "      <td>145.400</td>\n",
              "      <td>เพชรบุรี</td>\n",
              "      <td>รถยนต์นั่งส่วนบุคคล/รถยนต์นั่งสาธารณะ</td>\n",
              "      <td>ทางตรง</td>\n",
              "      <td>ขับรถเร็วเกินกำหนด</td>\n",
              "      <td>พลิกคว่ำตกถนน</td>\n",
              "      <td>1</td>\n",
              "      <td>0</td>\n",
              "      <td>2</td>\n",
              "      <td>แจ่มใส</td>\n",
              "      <td>13.165411</td>\n",
              "      <td>99.842039</td>\n",
              "    </tr>\n",
              "    <tr>\n",
              "      <th>19956</th>\n",
              "      <td>2019</td>\n",
              "      <td>31/12/2019</td>\n",
              "      <td>23:10</td>\n",
              "      <td>01/01/2020</td>\n",
              "      <td>00:14</td>\n",
              "      <td>202001013638</td>\n",
              "      <td>กรมทางหลวง</td>\n",
              "      <td>ทางหลวงแผ่นดินหมายเลข 44 ตอนควบคุม 0200</td>\n",
              "      <td>78.300</td>\n",
              "      <td>สุราษฎร์ธานี</td>\n",
              "      <td>รถปิคอัพบรรทุก 4 ล้อ</td>\n",
              "      <td>ทางตรง</td>\n",
              "      <td>ขับรถเร็วเกินกำหนด</td>\n",
              "      <td>พลิกคว่ำตกถนน</td>\n",
              "      <td>1</td>\n",
              "      <td>0</td>\n",
              "      <td>2</td>\n",
              "      <td>แจ่มใส</td>\n",
              "      <td>8.812859</td>\n",
              "      <td>99.166543</td>\n",
              "    </tr>\n",
              "    <tr>\n",
              "      <th>19957</th>\n",
              "      <td>2019</td>\n",
              "      <td>31/12/2019</td>\n",
              "      <td>23:20</td>\n",
              "      <td>31/12/2019</td>\n",
              "      <td>23:53</td>\n",
              "      <td>202001013632</td>\n",
              "      <td>กรมทางหลวง</td>\n",
              "      <td>ทางหลวงแผ่นดินหมายเลข 7 ตอนควบคุม 0109</td>\n",
              "      <td>5.900</td>\n",
              "      <td>ชลบุรี</td>\n",
              "      <td>รถยนต์นั่งส่วนบุคคล/รถยนต์นั่งสาธารณะ</td>\n",
              "      <td>ทางตรง</td>\n",
              "      <td>ขับรถเร็วเกินกำหนด</td>\n",
              "      <td>ชนท้าย</td>\n",
              "      <td>2</td>\n",
              "      <td>0</td>\n",
              "      <td>0</td>\n",
              "      <td>แจ่มใส</td>\n",
              "      <td>12.951183</td>\n",
              "      <td>100.958457</td>\n",
              "    </tr>\n",
              "    <tr>\n",
              "      <th>19958</th>\n",
              "      <td>2019</td>\n",
              "      <td>31/12/2019</td>\n",
              "      <td>23:20</td>\n",
              "      <td>01/01/2020</td>\n",
              "      <td>00:38</td>\n",
              "      <td>202001013646</td>\n",
              "      <td>กรมทางหลวง</td>\n",
              "      <td>ทางหลวงแผ่นดินหมายเลข 1147 ตอนควบคุม 0100</td>\n",
              "      <td>0.005</td>\n",
              "      <td>ลำพูน</td>\n",
              "      <td>รถจักรยานยนต์</td>\n",
              "      <td>ทางโค้งปกติ</td>\n",
              "      <td>ขับรถเร็วเกินกำหนด</td>\n",
              "      <td>พลิกคว่ำตกถนน</td>\n",
              "      <td>1</td>\n",
              "      <td>0</td>\n",
              "      <td>1</td>\n",
              "      <td>แจ่มใส</td>\n",
              "      <td>18.589153</td>\n",
              "      <td>99.042735</td>\n",
              "    </tr>\n",
              "    <tr>\n",
              "      <th>19961</th>\n",
              "      <td>2019</td>\n",
              "      <td>31/12/2019</td>\n",
              "      <td>23:35</td>\n",
              "      <td>01/01/2020</td>\n",
              "      <td>00:14</td>\n",
              "      <td>202001013642</td>\n",
              "      <td>กรมทางหลวง</td>\n",
              "      <td>ทางหลวงแผ่นดินหมายเลข 4034 ตอนควบคุม 0100</td>\n",
              "      <td>14.660</td>\n",
              "      <td>กระบี่</td>\n",
              "      <td>รถจักรยานยนต์</td>\n",
              "      <td>ทางแยกรูปตัว T</td>\n",
              "      <td>ไม่ให้สิทธิรถที่มาก่อนผ่านทาง เช่น ทางแยก</td>\n",
              "      <td>ชนกัน/ชนยานพาหนะอื่นๆ</td>\n",
              "      <td>2</td>\n",
              "      <td>0</td>\n",
              "      <td>2</td>\n",
              "      <td>แจ่มใส</td>\n",
              "      <td>8.092608</td>\n",
              "      <td>98.811692</td>\n",
              "    </tr>\n",
              "  </tbody>\n",
              "</table>\n",
              "<p>17296 rows × 20 columns</p>\n",
              "</div>"
            ],
            "text/plain": [
              "       ปีที่เกิดเหตุ วันที่เกิดเหตุ   เวลา วันที่รายงาน เวลาที่รายงาน  \\\n",
              "0               2019     01/01/2019  00:00   02/01/2019         06:11   \n",
              "1               2019     01/01/2019  00:03   13/02/2019         12:06   \n",
              "3               2019     01/01/2019  00:20   02/01/2019         05:12   \n",
              "4               2019     01/01/2019  00:25   01/01/2019         09:54   \n",
              "5               2019     01/01/2019  00:30   01/01/2019         11:22   \n",
              "...              ...            ...    ...          ...           ...   \n",
              "19955           2019     31/12/2019  23:00   31/12/2019         23:37   \n",
              "19956           2019     31/12/2019  23:10   01/01/2020         00:14   \n",
              "19957           2019     31/12/2019  23:20   31/12/2019         23:53   \n",
              "19958           2019     31/12/2019  23:20   01/01/2020         00:38   \n",
              "19961           2019     31/12/2019  23:35   01/01/2020         00:14   \n",
              "\n",
              "           ACC_CODE        หน่วยงาน  \\\n",
              "0      201901023254  กรมทางหลวงชนบท   \n",
              "1      201902135341      กรมทางหลวง   \n",
              "3      201901023234  กรมทางหลวงชนบท   \n",
              "4      201901012972      กรมทางหลวง   \n",
              "5      201901013012      กรมทางหลวง   \n",
              "...             ...             ...   \n",
              "19955  201912313628      กรมทางหลวง   \n",
              "19956  202001013638      กรมทางหลวง   \n",
              "19957  202001013632      กรมทางหลวง   \n",
              "19958  202001013646      กรมทางหลวง   \n",
              "19961  202001013642      กรมทางหลวง   \n",
              "\n",
              "                                          สายทาง     ก.ม.       จังหวัด  \\\n",
              "0                            ทางหลวงชนบท ลบ.2029    4.000        ลพบุรี   \n",
              "1        ทางหลวงแผ่นดินหมายเลข 24 ตอนควบคุม 0702  419.770   อุบลราชธานี   \n",
              "3                            ทางหลวงชนบท ชม.4016    1.880     เชียงใหม่   \n",
              "4       ทางหลวงแผ่นดินหมายเลข 225 ตอนควบคุม 0202   68.800     นครสวรรค์   \n",
              "5        ทางหลวงแผ่นดินหมายเลข 41 ตอนควบคุม 0103   65.850         ชุมพร   \n",
              "...                                          ...      ...           ...   \n",
              "19955     ทางหลวงแผ่นดินหมายเลข 4 ตอนควบคุม 0501  145.400      เพชรบุรี   \n",
              "19956    ทางหลวงแผ่นดินหมายเลข 44 ตอนควบคุม 0200   78.300  สุราษฎร์ธานี   \n",
              "19957     ทางหลวงแผ่นดินหมายเลข 7 ตอนควบคุม 0109    5.900        ชลบุรี   \n",
              "19958  ทางหลวงแผ่นดินหมายเลข 1147 ตอนควบคุม 0100    0.005         ลำพูน   \n",
              "19961  ทางหลวงแผ่นดินหมายเลข 4034 ตอนควบคุม 0100   14.660        กระบี่   \n",
              "\n",
              "                                  รถคันที่ 1    บริเวณที่เกิดเหตุ/ลักษณะทาง  \\\n",
              "0                              รถจักรยานยนต์  ทางตรง+ไม่มีความลาดชัน/ที่ราบ   \n",
              "1      รถยนต์นั่งส่วนบุคคล/รถยนต์นั่งสาธารณะ                         ทางตรง   \n",
              "3                              รถจักรยานยนต์  ทางตรง+ไม่มีความลาดชัน/ที่ราบ   \n",
              "4      รถยนต์นั่งส่วนบุคคล/รถยนต์นั่งสาธารณะ                         ทางตรง   \n",
              "5                       รถปิคอัพบรรทุก 4 ล้อ                 ทางแยกรูปตัว +   \n",
              "...                                      ...                            ...   \n",
              "19955  รถยนต์นั่งส่วนบุคคล/รถยนต์นั่งสาธารณะ                         ทางตรง   \n",
              "19956                   รถปิคอัพบรรทุก 4 ล้อ                         ทางตรง   \n",
              "19957  รถยนต์นั่งส่วนบุคคล/รถยนต์นั่งสาธารณะ                         ทางตรง   \n",
              "19958                          รถจักรยานยนต์                    ทางโค้งปกติ   \n",
              "19961                          รถจักรยานยนต์                 ทางแยกรูปตัว T   \n",
              "\n",
              "                                มูลเหตุสันนิษฐาน ลักษณะการเกิดอุบัติเหตุ   \\\n",
              "0                                        เมาสุรา                   อื่น ๆ   \n",
              "1                             ขับรถเร็วเกินกำหนด          ชนอุปกรณ์งานทาง   \n",
              "3                                        เมาสุรา             รถยนต์ชนรถไฟ   \n",
              "4                      คนหรือรถตัดหน้ากระชั้นชิด            พลิกคว่ำตกถนน   \n",
              "5      ไม่ให้สิทธิรถที่มาก่อนผ่านทาง เช่น ทางแยก    ชนกัน/ชนยานพาหนะอื่นๆ   \n",
              "...                                          ...                      ...   \n",
              "19955                         ขับรถเร็วเกินกำหนด            พลิกคว่ำตกถนน   \n",
              "19956                         ขับรถเร็วเกินกำหนด            พลิกคว่ำตกถนน   \n",
              "19957                         ขับรถเร็วเกินกำหนด                   ชนท้าย   \n",
              "19958                         ขับรถเร็วเกินกำหนด            พลิกคว่ำตกถนน   \n",
              "19961  ไม่ให้สิทธิรถที่มาก่อนผ่านทาง เช่น ทางแยก    ชนกัน/ชนยานพาหนะอื่นๆ   \n",
              "\n",
              "       จำนวนรถที่เกิดเหตุ\\n(รวมคันที่ 1)  จำนวนผู้เสียชวิต  \\\n",
              "0                                      1                 0   \n",
              "1                                      1                 0   \n",
              "3                                      1                 0   \n",
              "4                                      1                 0   \n",
              "5                                      2                 0   \n",
              "...                                  ...               ...   \n",
              "19955                                  1                 0   \n",
              "19956                                  1                 0   \n",
              "19957                                  2                 0   \n",
              "19958                                  1                 0   \n",
              "19961                                  2                 0   \n",
              "\n",
              "       รวมจำนวนผู้บาดเจ็บ สภาพอากาศ   LATITUDE   LONGITUDE  \n",
              "0                       2    แจ่มใส  14.959105  100.873463  \n",
              "1                       2    แจ่มใส  15.210738  104.862689  \n",
              "3                       1    แจ่มใส  18.601721   98.804204  \n",
              "4                       0    แจ่มใส  15.866389  100.590010  \n",
              "5                       2    แจ่มใส   9.949354   99.063479  \n",
              "...                   ...       ...        ...         ...  \n",
              "19955                   2    แจ่มใส  13.165411   99.842039  \n",
              "19956                   2    แจ่มใส   8.812859   99.166543  \n",
              "19957                   0    แจ่มใส  12.951183  100.958457  \n",
              "19958                   1    แจ่มใส  18.589153   99.042735  \n",
              "19961                   2    แจ่มใส   8.092608   98.811692  \n",
              "\n",
              "[17296 rows x 20 columns]"
            ]
          },
          "metadata": {
            "tags": []
          },
          "execution_count": 33
        }
      ]
    },
    {
      "cell_type": "markdown",
      "metadata": {
        "id": "8e9kenBtUXR2"
      },
      "source": [
        "### คำถามที่ 5\n",
        "\n",
        "ค่าเฉลี่ยของ latitude, logitude ของอุบัติเหตุที่เกิดขึ้นในจังหวัดเชียงใหม่อยู่ที่เท่าใด?  \n",
        "(**คำใบ้:** กรองให้เหลือแค่จังหวัดเชียงใหม่แล้วหาค่าเฉลี่ยด้วยคำสั่ง `df.LATITUDE.mean()` และ `df.LONGITUDE.mean()`)"
      ]
    },
    {
      "cell_type": "code",
      "metadata": {
        "id": "0w8H4jjiUXR3",
        "outputId": "676fb1be-66bc-46cf-c549-0e784678f8c3"
      },
      "source": [
        "... # ใส่คำตอบตรงนี้"
      ],
      "execution_count": null,
      "outputs": [
        {
          "output_type": "execute_result",
          "data": {
            "text/plain": [
              "(18.91090138416936, 98.91462670826341)"
            ]
          },
          "metadata": {
            "tags": []
          },
          "execution_count": 34
        }
      ]
    },
    {
      "cell_type": "markdown",
      "metadata": {
        "id": "IACmiRV7UXR3"
      },
      "source": [
        "### คำถามที่ 6\n",
        "\n",
        "`ลักษณะการเกิดอุบัติเหตุ ` แบบใดมี `จำนวนผู้เสียชวิต` โดยเฉลี่ยสูงที่สุด?"
      ]
    },
    {
      "cell_type": "code",
      "metadata": {
        "id": "AFD_G71MUXR3",
        "outputId": "ee1ac6ed-e7bf-40ed-870b-63fd29ff5725"
      },
      "source": [
        "# Hint 1: df[COLUMN_NAME].value_counts().reset_index() will give you dataframe version of value counts\n",
        "# Hint 2: See what sort_values() does\n",
        "\n",
        "... # ใส่คำตอบตรงนี้"
      ],
      "execution_count": null,
      "outputs": [
        {
          "output_type": "execute_result",
          "data": {
            "text/html": [
              "<div>\n",
              "<style scoped>\n",
              "    .dataframe tbody tr th:only-of-type {\n",
              "        vertical-align: middle;\n",
              "    }\n",
              "\n",
              "    .dataframe tbody tr th {\n",
              "        vertical-align: top;\n",
              "    }\n",
              "\n",
              "    .dataframe thead th {\n",
              "        text-align: right;\n",
              "    }\n",
              "</style>\n",
              "<table border=\"1\" class=\"dataframe\">\n",
              "  <thead>\n",
              "    <tr style=\"text-align: right;\">\n",
              "      <th></th>\n",
              "      <th>ลักษณะการเกิดอุบัติเหตุ</th>\n",
              "      <th>จำนวนผู้เสียชวิต</th>\n",
              "    </tr>\n",
              "  </thead>\n",
              "  <tbody>\n",
              "    <tr>\n",
              "      <th>8</th>\n",
              "      <td>ชนรถไฟ</td>\n",
              "      <td>6.000000</td>\n",
              "    </tr>\n",
              "    <tr>\n",
              "      <th>2</th>\n",
              "      <td>ชนขณะแซง</td>\n",
              "      <td>0.794118</td>\n",
              "    </tr>\n",
              "    <tr>\n",
              "      <th>25</th>\n",
              "      <td>รถยนต์พลิกคว่ำ ตกถนน</td>\n",
              "      <td>0.750000</td>\n",
              "    </tr>\n",
              "    <tr>\n",
              "      <th>18</th>\n",
              "      <td>รถจักรยานยนต์ชนรถจักรยานพลิกคว่ำ ตกถนน</td>\n",
              "      <td>0.750000</td>\n",
              "    </tr>\n",
              "    <tr>\n",
              "      <th>12</th>\n",
              "      <td>ชนในทิศทางตรงกันข้าม (ไม่ใช่การแซง)</td>\n",
              "      <td>0.615385</td>\n",
              "    </tr>\n",
              "    <tr>\n",
              "      <th>4</th>\n",
              "      <td>ชนคนเดินเท้า</td>\n",
              "      <td>0.610714</td>\n",
              "    </tr>\n",
              "    <tr>\n",
              "      <th>0</th>\n",
              "      <td>ชนกัน/ชนยานพาหนะอื่นๆ</td>\n",
              "      <td>0.437209</td>\n",
              "    </tr>\n",
              "    <tr>\n",
              "      <th>7</th>\n",
              "      <td>ชนรถจอด</td>\n",
              "      <td>0.436548</td>\n",
              "    </tr>\n",
              "    <tr>\n",
              "      <th>13</th>\n",
              "      <td>ตกจากรถ</td>\n",
              "      <td>0.428571</td>\n",
              "    </tr>\n",
              "    <tr>\n",
              "      <th>17</th>\n",
              "      <td>รถจักรยานยนต์ชนคน</td>\n",
              "      <td>0.400000</td>\n",
              "    </tr>\n",
              "    <tr>\n",
              "      <th>11</th>\n",
              "      <td>ชนเป็นมุมบริเวณทางแยก</td>\n",
              "      <td>0.385135</td>\n",
              "    </tr>\n",
              "    <tr>\n",
              "      <th>21</th>\n",
              "      <td>รถยนต์ชนรถจักรยานยนต์/รถสามล้อ</td>\n",
              "      <td>0.250000</td>\n",
              "    </tr>\n",
              "    <tr>\n",
              "      <th>1</th>\n",
              "      <td>ชนกันหรือเฉี่ยวชน</td>\n",
              "      <td>0.232843</td>\n",
              "    </tr>\n",
              "    <tr>\n",
              "      <th>23</th>\n",
              "      <td>รถยนต์ชนวัตถุ สิ่งของ</td>\n",
              "      <td>0.172414</td>\n",
              "    </tr>\n",
              "    <tr>\n",
              "      <th>9</th>\n",
              "      <td>ชนสิ่งกีดขวาง</td>\n",
              "      <td>0.161616</td>\n",
              "    </tr>\n",
              "    <tr>\n",
              "      <th>28</th>\n",
              "      <td>เลี้ยว/ถอยชน</td>\n",
              "      <td>0.157895</td>\n",
              "    </tr>\n",
              "    <tr>\n",
              "      <th>6</th>\n",
              "      <td>ชนท้าย</td>\n",
              "      <td>0.154588</td>\n",
              "    </tr>\n",
              "    <tr>\n",
              "      <th>27</th>\n",
              "      <td>เฉี่ยวชน</td>\n",
              "      <td>0.152490</td>\n",
              "    </tr>\n",
              "    <tr>\n",
              "      <th>22</th>\n",
              "      <td>รถยนต์ชนรถไฟ</td>\n",
              "      <td>0.148148</td>\n",
              "    </tr>\n",
              "    <tr>\n",
              "      <th>16</th>\n",
              "      <td>รถจักรยานยนต์ชนกับรถจักรยาน รถสามล้อ</td>\n",
              "      <td>0.142857</td>\n",
              "    </tr>\n",
              "    <tr>\n",
              "      <th>3</th>\n",
              "      <td>ชนขอบทาง</td>\n",
              "      <td>0.128889</td>\n",
              "    </tr>\n",
              "    <tr>\n",
              "      <th>26</th>\n",
              "      <td>อื่น ๆ</td>\n",
              "      <td>0.128205</td>\n",
              "    </tr>\n",
              "    <tr>\n",
              "      <th>15</th>\n",
              "      <td>พลิกคว่ำตกถนน</td>\n",
              "      <td>0.106300</td>\n",
              "    </tr>\n",
              "    <tr>\n",
              "      <th>29</th>\n",
              "      <td>เสียหลัก ไปอยู่ในช่องจราจรอื่นๆ</td>\n",
              "      <td>0.080128</td>\n",
              "    </tr>\n",
              "    <tr>\n",
              "      <th>5</th>\n",
              "      <td>ชนตู้เก็บเงิน ไม้กั้นเลน อุปกรณ์เก็บเงิน</td>\n",
              "      <td>0.052632</td>\n",
              "    </tr>\n",
              "    <tr>\n",
              "      <th>10</th>\n",
              "      <td>ชนอุปกรณ์งานทาง</td>\n",
              "      <td>0.047334</td>\n",
              "    </tr>\n",
              "    <tr>\n",
              "      <th>24</th>\n",
              "      <td>รถยนต์ชนสัตว์ รถลากจูงด้วยสัตว์</td>\n",
              "      <td>0.035714</td>\n",
              "    </tr>\n",
              "    <tr>\n",
              "      <th>20</th>\n",
              "      <td>รถยนต์ชนกัน</td>\n",
              "      <td>0.000000</td>\n",
              "    </tr>\n",
              "    <tr>\n",
              "      <th>19</th>\n",
              "      <td>รถจักรยานยนต์ชนรถยนต์</td>\n",
              "      <td>0.000000</td>\n",
              "    </tr>\n",
              "    <tr>\n",
              "      <th>14</th>\n",
              "      <td>พลิกคว่ำ</td>\n",
              "      <td>0.000000</td>\n",
              "    </tr>\n",
              "  </tbody>\n",
              "</table>\n",
              "</div>"
            ],
            "text/plain": [
              "                    ลักษณะการเกิดอุบัติเหตุ   จำนวนผู้เสียชวิต\n",
              "8                                     ชนรถไฟ          6.000000\n",
              "2                                   ชนขณะแซง          0.794118\n",
              "25                      รถยนต์พลิกคว่ำ ตกถนน          0.750000\n",
              "18    รถจักรยานยนต์ชนรถจักรยานพลิกคว่ำ ตกถนน          0.750000\n",
              "12       ชนในทิศทางตรงกันข้าม (ไม่ใช่การแซง)          0.615385\n",
              "4                               ชนคนเดินเท้า          0.610714\n",
              "0                      ชนกัน/ชนยานพาหนะอื่นๆ          0.437209\n",
              "7                                    ชนรถจอด          0.436548\n",
              "13                                   ตกจากรถ          0.428571\n",
              "17                         รถจักรยานยนต์ชนคน          0.400000\n",
              "11                     ชนเป็นมุมบริเวณทางแยก          0.385135\n",
              "21            รถยนต์ชนรถจักรยานยนต์/รถสามล้อ          0.250000\n",
              "1                          ชนกันหรือเฉี่ยวชน          0.232843\n",
              "23                     รถยนต์ชนวัตถุ สิ่งของ          0.172414\n",
              "9                              ชนสิ่งกีดขวาง          0.161616\n",
              "28                              เลี้ยว/ถอยชน          0.157895\n",
              "6                                     ชนท้าย          0.154588\n",
              "27                                  เฉี่ยวชน          0.152490\n",
              "22                              รถยนต์ชนรถไฟ          0.148148\n",
              "16      รถจักรยานยนต์ชนกับรถจักรยาน รถสามล้อ          0.142857\n",
              "3                                   ชนขอบทาง          0.128889\n",
              "26                                    อื่น ๆ          0.128205\n",
              "15                             พลิกคว่ำตกถนน          0.106300\n",
              "29           เสียหลัก ไปอยู่ในช่องจราจรอื่นๆ          0.080128\n",
              "5   ชนตู้เก็บเงิน ไม้กั้นเลน อุปกรณ์เก็บเงิน          0.052632\n",
              "10                           ชนอุปกรณ์งานทาง          0.047334\n",
              "24           รถยนต์ชนสัตว์ รถลากจูงด้วยสัตว์          0.035714\n",
              "20                               รถยนต์ชนกัน          0.000000\n",
              "19                     รถจักรยานยนต์ชนรถยนต์          0.000000\n",
              "14                                  พลิกคว่ำ          0.000000"
            ]
          },
          "metadata": {
            "tags": []
          },
          "execution_count": 35
        }
      ]
    },
    {
      "cell_type": "markdown",
      "metadata": {
        "id": "7GQS3MrwUXR3"
      },
      "source": [
        "### คำถามที่ 7\n",
        "\n",
        "อุบัติเหตุที่เกิดจาก `มูลเหตุสันนิษฐาน` เป็น `ขับรถเร็วเกินกำหนด` มีโอกาสทำให้มีผู้เสียชีวิตมากกว่า `มูลเหตุสันนิษฐาน` อื่นหรือไม่?"
      ]
    },
    {
      "cell_type": "code",
      "metadata": {
        "id": "_kIYyB6VUXR3",
        "outputId": "70a5bb3a-653a-4a88-b300-3190cab8c64f"
      },
      "source": [
        "# สร้าง column `drive_fast_flag` ที่จะเป็น 1 เมื่อ 'มูลเหตุสันนิษฐาน' เป็น 'ขับรถเร็วเกินกำหนด' (นอกนั้นเป็น 0) โดยใช้ map และ lambda\n",
        "df['drive_fast_flag'] = df['มูลเหตุสันนิษฐาน'].map(lambda x: 1 if x == 'ขับรถเร็วเกินกำหนด' else 0)\n",
        "\n",
        "# สร้าง column `has_death` ที่จะเป็น 1 เมื่อ 'จำนวนผู้เสียชีวิต' มากกว่า 1 คน (นอกนั้นเป็น 0) โดยใช้ map และ lambda\n",
        "df['has_death'] = ... # ใส่คำตอบตรงนี้\n",
        "\n",
        "# ใช้ groupby('drive_fast_flag').has_death.mean() เพื่อหาค่าเฉลี่ยของอุบัติเหตุที่มีผู้เสียชีวิต แบ่งด้วย drive_fast_flag\n",
        "... # ใส่คำตอบตรงนี้"
      ],
      "execution_count": null,
      "outputs": [
        {
          "output_type": "execute_result",
          "data": {
            "text/plain": [
              "drive_fast_flag\n",
              "0    0.157192\n",
              "1    0.124128\n",
              "Name: has_death, dtype: float64"
            ]
          },
          "metadata": {
            "tags": []
          },
          "execution_count": 34
        }
      ]
    }
  ]
}